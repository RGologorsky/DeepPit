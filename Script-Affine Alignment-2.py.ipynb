{
 "cells": [
  {
   "cell_type": "code",
   "execution_count": 1,
   "id": "actual-invalid",
   "metadata": {},
   "outputs": [],
   "source": [
    "# imports\n",
    "\n",
    "import os, sys\n",
    "import numpy as np\n",
    "import SimpleITK as sitk\n",
    "\n",
    "from helpers_general import sitk2np, np2sitk, round_tuple, lrange, get_roi_range\n",
    "from helpers_preprocess import mask2bbox, print_bbox, get_data_dict, folder2objs\n",
    "from helpers_metrics import compute_dice_coefficient, compute_coverage_coefficient\n",
    "from helpers_viz import viz_axis\n",
    "\n",
    "# load data\n",
    "\n",
    "PROJ_PATH = \".\"\n",
    "\n",
    "# Folders containing MR train data\n",
    "train_path = f\"{PROJ_PATH}/train_data/train_data\"\n",
    "train_data_dict = get_data_dict(train_path)\n",
    "\n",
    "# print train data dict\n",
    "print(f\"Train data folders: {os.listdir(train_path)}\")\n",
    "print(f\"Training data: key = train folder, value = full path to (segm obj, nii file)\\n\")\n",
    "print(*list(train_data_dict.items()), sep=\"\\n\")\n",
    "\n",
    "# Load Fixed\n",
    "# Preproccessing makes isotropic.\n",
    "\n",
    "# isotropic preprocessing param\n",
    "iso_spacing      = (1,1,1)\n",
    "iso_interpolator = sitk.sitkLinear # sitk.sitkBSline\n",
    "\n",
    "# set fixed MR\n",
    "fixed_folder = \"50456\"\n",
    "fixed_obj, fixed_mask_obj = folder2objs(fixed_folder, train_data_dict, iso_spacing, iso_interpolator)\n",
    "\n",
    "# Load Moving\n",
    "# isotropic preprocessing param\n",
    "iso_spacing      = (1,1,1)\n",
    "iso_interpolator = sitk.sitkLinear # sitk.sitkBSline\n",
    "\n",
    "# set moving MR\n",
    "moving_folder = \"50455\"\n",
    "moving_obj, moving_mask_obj = folder2objs(moving_folder, train_data_dict, iso_spacing, iso_interpolator)\n",
    "\n",
    "def affine_align(fixed_obj, fixed_mask_obj, moving_obj, moving_mask_obj, param_file = \"AffineParamFile.txt\"):\n",
    "    \n",
    "    # map moving => fixed (the transform is fixed => moving)\n",
    "    #parameterMap = sitk.GetDefaultParameterMap('affine')\n",
    "    parameterMap  = sitk.ReadParameterFile(param_file)\n",
    "    \n",
    "    elastixImageFilter = sitk.ElastixImageFilter()\n",
    "    elastixImageFilter.SetFixedImage(fixed_obj)\n",
    "    elastixImageFilter.SetMovingImage(moving_obj)\n",
    "    \n",
    "    # focus on registering moving mask ROI\n",
    "    #elastixImageFilter.SetMovingMask(moving_mask_obj)\n",
    "    #parameterMap[\"ImageSampler\"] = [\"RandomSparseMask\"]\n",
    "   \n",
    "    # print param map\n",
    "    sitk.PrintParameterMap(parameterMap)\n",
    "    \n",
    "    elastixImageFilter.SetParameterMap(parameterMap)\n",
    "    elastixImageFilter.Execute()\n",
    "\n",
    "    transformed_moving_obj  = elastixImageFilter.GetResultImage()\n",
    "    transformedParameterMap = elastixImageFilter.GetTransformParameterMap()[0]\n",
    "    \n",
    "    # Binary mask => nearest neighbor\n",
    "    transformedParameterMap[\"ResampleInterpolator\"] = [\"FinalNearestNeighborInterpolator\"]\n",
    "    \n",
    "    # map ROI of moving => fixed\n",
    "    transformixImageFilter = sitk.TransformixImageFilter()\n",
    "    transformixImageFilter.SetTransformParameterMap(transformedParameterMap)\n",
    "    transformixImageFilter.SetMovingImage(moving_mask_obj)\n",
    "    transformixImageFilter.Execute()\n",
    "    \n",
    "    transformed_moving_mask_obj = transformixImageFilter.GetResultImage()\n",
    "\n",
    "    # evaluate: dice, coverage\n",
    "    fixed_mask_arr              = sitk2np(fixed_mask_obj).astype(bool)\n",
    "    transformed_moving_mask_arr = sitk2np(transformed_moving_mask_obj).astype(bool)\n",
    "\n",
    "    dice     = compute_dice_coefficient(fixed_mask_arr, transformed_moving_mask_arr)\n",
    "    coverage = compute_coverage_coefficient(fixed_mask_arr, transformed_moving_mask_arr)\n",
    "    \n",
    "    # save bounding box coords\n",
    "    bbox_coords = mask2bbox(transformed_moving_mask_arr)\n",
    "        \n",
    "    return dice, coverage, bbox_coords, transformed_moving_obj, transformed_moving_mask_arr"
   ]
  },
  {
   "cell_type": "code",
   "execution_count": 40,
   "id": "olympic-return",
   "metadata": {},
   "outputs": [],
   "source": [
    "dice, coverage, bbox_coords, transformed_moving_obj, transformed_moving_mask_arr = affine_align(fixed_obj, fixed_mask_obj, moving_obj, moving_mask_obj)"
   ]
  },
  {
   "cell_type": "code",
   "execution_count": 42,
   "id": "august-prescription",
   "metadata": {},
   "outputs": [
    {
     "name": "stdout",
     "output_type": "stream",
     "text": [
      "Dice: 0.5846573808357248. Coverage 0.6680262316058861.\n",
      "Bbox coords: (76, 116, 112) to (111, 147, 134). Size: 35, 31, 22.\n",
      "Bounding box coord: from location (116, 112) of slice 76 to location (147, 134) of slice 111.\n"
     ]
    }
   ],
   "source": [
    "print(f\"Dice: {dice}. Coverage {coverage}.\")\n",
    "print_bbox(*bbox_coords)"
   ]
  },
  {
   "cell_type": "code",
   "execution_count": null,
   "id": "killing-receipt",
   "metadata": {},
   "outputs": [],
   "source": []
  }
 ],
 "metadata": {
  "kernelspec": {
   "display_name": "Python 3",
   "language": "python",
   "name": "python3"
  },
  "language_info": {
   "codemirror_mode": {
    "name": "ipython",
    "version": 3
   },
   "file_extension": ".py",
   "mimetype": "text/x-python",
   "name": "python",
   "nbconvert_exporter": "python",
   "pygments_lexer": "ipython3",
   "version": "3.8.5"
  },
  "toc-autonumbering": true,
  "toc-showcode": false,
  "toc-showmarkdowntxt": false
 },
 "nbformat": 4,
 "nbformat_minor": 5
}
