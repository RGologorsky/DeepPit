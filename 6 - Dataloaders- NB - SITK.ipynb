{
 "cells": [
  {
   "cell_type": "markdown",
   "id": "unable-instruction",
   "metadata": {},
   "source": [
    "# Goal\n",
    "\n",
    "The goal of this notebook is to train a 3d UNET segmentation model to output binary mask representing the sella turcica ROI.\n",
    "\n",
    "Notes:\n",
    "- following https://github.com/kbressem/faimed3d/blob/main/examples/3d_segmentation.md"
   ]
  },
  {
   "cell_type": "markdown",
   "id": "1a7a5704",
   "metadata": {},
   "source": [
    "# Prelim\n",
    "\n",
    "Check python version"
   ]
  },
  {
   "cell_type": "code",
   "execution_count": 1,
   "id": "7fdc8497",
   "metadata": {},
   "outputs": [
    {
     "name": "stdout",
     "output_type": "stream",
     "text": [
      "3.7.4\n"
     ]
    }
   ],
   "source": [
    "# get python version\n",
    "from platform import python_version\n",
    "print(python_version())"
   ]
  },
  {
   "cell_type": "markdown",
   "id": "ac1cef23",
   "metadata": {},
   "source": [
    "Check whether GPU enabled."
   ]
  },
  {
   "cell_type": "code",
   "execution_count": 2,
   "id": "6d0deed4",
   "metadata": {},
   "outputs": [
    {
     "name": "stdout",
     "output_type": "stream",
     "text": [
      "Device 0 : b'GeForce GTX 1080 Ti'\n",
      "Device 1 : b'GeForce GTX 1080'\n",
      "gpu: 0%, gpu-mem: 0%\n",
      "is cuda available? True\n",
      "cuda\n"
     ]
    }
   ],
   "source": [
    "# Check GPU stats\n",
    "\n",
    "from pynvml import *\n",
    "nvmlInit()\n",
    "try:\n",
    "    deviceCount = nvmlDeviceGetCount()\n",
    "    for i in range(deviceCount):\n",
    "        handle = nvmlDeviceGetHandleByIndex(i)\n",
    "        print(\"Device\", i, \":\", nvmlDeviceGetName(handle))\n",
    "except NVMLError as error:\n",
    "    print(error)\n",
    "    \n",
    "# https://docs.fast.ai/dev/gpu.html\n",
    "import nvidia_smi\n",
    "\n",
    "nvidia_smi.nvmlInit()\n",
    "handle = nvidia_smi.nvmlDeviceGetHandleByIndex(0)\n",
    "# card id 0 hardcoded here, there is also a call to get all available card ids, so we could iterate\n",
    "\n",
    "res = nvidia_smi.nvmlDeviceGetUtilizationRates(handle)\n",
    "print(f'gpu: {res.gpu}%, gpu-mem: {res.memory}%')\n",
    "\n",
    "import torch\n",
    "print(\"is cuda available?\", torch.cuda.is_available() )\n",
    "torch.cuda.empty_cache()\n",
    "torch.cuda.set_device(0)\n",
    "\n",
    "# hm\n",
    "device = torch.device('cuda' if torch.cuda.is_available() else 'cpu')\n",
    "print(device)"
   ]
  },
  {
   "cell_type": "markdown",
   "id": "d27aa128",
   "metadata": {},
   "source": [
    "# Data Path"
   ]
  },
  {
   "cell_type": "markdown",
   "id": "6e7031ab",
   "metadata": {},
   "source": [
    "Set path to where data is stored."
   ]
  },
  {
   "cell_type": "code",
   "execution_count": 3,
   "id": "ebc81c59",
   "metadata": {},
   "outputs": [
    {
     "name": "stdout",
     "output_type": "stream",
     "text": [
      "['ABIDE', 'PPMI', 'ABVIB', 'samir_labels']\n",
      "['50155-50212', '50373-50453', '50002-50153', '50213-50312', '50313-50372']\n"
     ]
    }
   ],
   "source": [
    "# Get path to 4 TB HD\n",
    "\n",
    "# /media/labcomputer/e33f6fe0-5ede-4be4-b1f2-5168b7903c7a/home\n",
    "\n",
    "# wsl: /home/rgologorsky/DeepPit\n",
    "hd_path = \"../\" * 5 + \"/media/labcomputer/e33f6fe0-5ede-4be4-b1f2-5168b7903c7a\" + \"/home/rachel/PitMRdata\"\n",
    "\n",
    "# all folders in HD\n",
    "all_folders = os.listdir(hd_path)\n",
    "\n",
    "print(all_folders)\n",
    "\n",
    "# labels\n",
    "print(os.listdir(f\"{hd_path}/samir_labels\"))"
   ]
  },
  {
   "cell_type": "markdown",
   "id": "02841785",
   "metadata": {},
   "source": [
    "# Imports"
   ]
  },
  {
   "cell_type": "code",
   "execution_count": 4,
   "id": "rough-climate",
   "metadata": {
    "scrolled": true
   },
   "outputs": [],
   "source": [
    "# imports\n",
    "\n",
    "from faimed3d.all import *\n",
    "from fastai import *\n",
    "from torchvision.models.video import r3d_18\n",
    "from fastai.callback.all import SaveModelCallback\n",
    "from torch import nn\n",
    "\n",
    "import os\n",
    "import time\n",
    "import pickle\n",
    "from pathlib import Path\n",
    "\n",
    "import SimpleITK as sitk\n",
    "\n",
    "import numpy as np\n",
    "import pandas as pd\n",
    "from pandas import DataFrame as DF\n",
    "\n",
    "from helpers_preprocess import get_data_dict, paths2objs, folder2objs\n",
    "\n",
    "from helpers_general import sitk2np, print_sitk_info, round_tuple, lrange, lmap, get_roi_range, numbers2groups\n",
    "\n",
    "# imports\n",
    "from helpers_general import sitk2np, np2sitk, round_tuple, lrange, get_roi_range, numbers2groups\n",
    "from helpers_preprocess import mask2bbox, print_bbox, get_bbox_size, print_bbox_size, get_data_dict, folder2objs\n",
    "from helpers_viz import viz_axis"
   ]
  },
  {
   "cell_type": "markdown",
   "id": "959ca43b",
   "metadata": {},
   "source": [
    "# Get Items\n",
    "\n",
    "Item = (path to MR, path to Segmentation obj)"
   ]
  },
  {
   "cell_type": "code",
   "execution_count": 5,
   "id": "72985d9d",
   "metadata": {},
   "outputs": [],
   "source": [
    "# get items = (mask_fn, nii_fn)\n",
    "train_path = f\"{hd_path}/samir_labels/50155-50212/\"\n",
    "data_dict_full = get_data_dict(train_path)\n",
    "\n",
    "# subset 5 items to test\n",
    "n_items   = 10\n",
    "data_dict = {k:v for k,v in list(data_dict_full.items())[:n_items]}\n",
    "items     = list(data_dict.values())"
   ]
  },
  {
   "cell_type": "markdown",
   "id": "a37bf29d",
   "metadata": {},
   "source": [
    "## Metadata\n",
    "\n",
    "Check size, spacing, etc of the items in the dataset."
   ]
  },
  {
   "cell_type": "code",
   "execution_count": 6,
   "id": "2370fa7f",
   "metadata": {},
   "outputs": [],
   "source": [
    "# load metadata about fns -- size, spacing, etc\n",
    "full_metadata_df = pd.read_pickle(\"./50155-50212.pkl\")\n",
    "\n",
    "# filter to items in our dataset\n",
    "fns = [mr for mr, mk in items]\n",
    "metadata_df = full_metadata_df[full_metadata_df.fn.isin(fns)]\n",
    "\n",
    "#metadata_df"
   ]
  },
  {
   "cell_type": "markdown",
   "id": "09967d4c",
   "metadata": {},
   "source": [
    "What are the different sizes and spacings in the dataset?"
   ]
  },
  {
   "cell_type": "code",
   "execution_count": 7,
   "id": "b769b85f",
   "metadata": {},
   "outputs": [
    {
     "name": "stdout",
     "output_type": "stream",
     "text": [
      "Sizes:\n",
      "******************************\n",
      "Num unique =  2\n",
      "Unique:  [160 239 200] [172 256 256]\n",
      "Counts:  3 7\n",
      "Idxs:  [1 0]\n",
      "******************************\n",
      "Spacings:\n",
      "******************************\n",
      "Num unique =  2\n",
      "Unique:  [1. 1. 1.] [1.1 1.  1. ]\n",
      "Counts:  7 3\n",
      "Idxs:  [0 1]\n",
      "******************************\n",
      "Dirs:\n",
      "******************************\n",
      "Num unique =  1\n",
      "Unique:  [ 1  0  0  0 -1  0  0  0  1]\n",
      "Counts:  10\n",
      "Idxs:  [0]\n",
      "******************************\n"
     ]
    }
   ],
   "source": [
    "# which sizes are represented?\n",
    "szs = np.array(list(metadata_df.sz.values))\n",
    "sps = np.array(list(metadata_df.sp.values))\n",
    "dirs = np.array(list(metadata_df.dir.values))\n",
    "def print_unique(vals, sep=\"*\" * 30):\n",
    "    unique, idxs, cnts = np.unique(vals, return_index=True, return_inverse=False, return_counts=True, axis=0)\n",
    "    print(sep)\n",
    "    print(\"Num unique = \", len(unique))\n",
    "    print(\"Unique: \", *unique, sep=\" \")\n",
    "    print(\"Counts: \", *cnts, sep = \" \")\n",
    "    print(\"Idxs: \", idxs, sep = \" \")\n",
    "    print(sep)\n",
    "    \n",
    "print(\"Sizes:\"); print_unique(szs)\n",
    "print(\"Spacings:\"); print_unique(sps)\n",
    "print(\"Dirs:\"); print_unique(dirs)"
   ]
  },
  {
   "cell_type": "markdown",
   "id": "1af84c82",
   "metadata": {},
   "source": [
    "## Mask Bbox\n",
    "\n",
    "Goal: find the range of slice indices that captures the sella of all inputs. Within a single standardized dataset, the slice indices should be similar.\n",
    "\n",
    "Why? A full MR volume has >100 slices. The sella occupies about 10 of them. For quick testing, want the input to be MR with 20 slices and not >100 slices."
   ]
  },
  {
   "cell_type": "code",
   "execution_count": 8,
   "id": "ac559b27",
   "metadata": {},
   "outputs": [],
   "source": [
    "# # list of all bboxs\n",
    "# ims, mks = zip(*[PathToSitk()(i) for i in items])\n",
    "# bboxs = [mask2bbox(sitk2np(mk)) for mk in mks]\n",
    "# descr = [\"imin\", \"imax\", \"jmin\", \"jmax\", \"kmin\", \"kmax\"]\n",
    "\n",
    "# def bb_dict(bbox): return dict(zip(descr, bbox))\n",
    "\n",
    "# # dataframe of imin/imax\n",
    "# mk_df = DF([{'fn': mr, **bb_dict(bboxs[i])} \\\n",
    "#             for i,(mr, mk) in enumerate(items)])\n",
    "\n",
    "# # irange is 62-108; jrange = 118-181; krange = 60-144\n",
    "# # => islices 50-150, jslices 100-200, kslices 0-200\n",
    "# for col in (\"i\", \"j\", \"k\"):\n",
    "#     col_min = mk_df[f\"{col}min\"].min()\n",
    "#     col_max = mk_df[f\"{col}max\"].max()\n",
    "#     print(f\"{col} ROI Range: {col_min} - {col_max}\")\n",
    "\n",
    "# # plot slice range\n",
    "# #mk_df.boxplot(column=descr)"
   ]
  },
  {
   "cell_type": "markdown",
   "id": "bcdf8ee3",
   "metadata": {},
   "source": [
    "# Transforms\n",
    "\n",
    "- PathToSITK (*convert paths to SITK obj*)\n",
    "- Resize (*common size, isotropic spacing*)\n",
    "- ToTensor (*convert to Pytorch tensor*)\n",
    "- TensorSlice & Center Crop (*slice 3d tensor to center part containing sella*)\n",
    "- Normalize (*scale image intensities? - diff tissues diff intensities?*)"
   ]
  },
  {
   "cell_type": "code",
   "execution_count": 36,
   "id": "04476241",
   "metadata": {},
   "outputs": [],
   "source": [
    "import meshio\n",
    "from helpers_preprocess import seg2mask"
   ]
  },
  {
   "cell_type": "code",
   "execution_count": 77,
   "id": "59d5815c",
   "metadata": {},
   "outputs": [],
   "source": [
    "class DoAll(ItemTransform):\n",
    "    def encodes(self, x, new_sp=1):\n",
    "        # get sitk objs\n",
    "        im_path, segm_path = x\n",
    "        folder  = Path(segm_path).parent.name\n",
    "        ras_adj = int(folder) in range(50455, 50464)\n",
    "\n",
    "        mr         = sitk.ReadImage(im_path, sitk.sitkFloat32)\n",
    "        segm       = meshio.read(segm_path)\n",
    "        mask_arr   = seg2mask(mr, segm, ras_adj)\n",
    "\n",
    "        # resize so isotropic spacing\n",
    "        orig_sp = mr.GetSpacing()\n",
    "        orig_sz = mr.GetSize()\n",
    "        new_sz = [int(round(osz*ospc/new_sp)) for osz,ospc in zip(orig_sz, orig_sp)]\n",
    "\n",
    "        im = torch.swapaxes(torch.tensor(sitk.GetArrayFromImage(mr)), 0, 2)\n",
    "        mk = torch.tensor(mask_arr).float()\n",
    "\n",
    "        while im.ndim < 5: \n",
    "            im = im.unsqueeze(0)\n",
    "            mk = mk.unsqueeze(0)\n",
    "\n",
    "        return F.interpolate(im, size = new_sz, mode = 'trilinear', align_corners=False).squeeze(), \\\n",
    "                F.interpolate(mk, size = new_sz, mode = 'nearest').squeeze().float()\n"
   ]
  },
  {
   "cell_type": "markdown",
   "id": "senior-attitude",
   "metadata": {},
   "source": [
    "# Crop"
   ]
  },
  {
   "cell_type": "code",
   "execution_count": 78,
   "id": "fe42841d",
   "metadata": {},
   "outputs": [],
   "source": [
    "# crop center\n",
    "class CenterCropTfm(Transform):\n",
    "    def __init__(self, size):\n",
    "        self.size = size\n",
    "        \n",
    "    def encodes(self, arr):\n",
    "        return self.cropND(arr, self.size)\n",
    "    \n",
    "    # https://stackoverflow.com/questions/39382412/crop-center-portion-of-a-numpy-image\n",
    "    @staticmethod\n",
    "    def cropND(img, bounding):\n",
    "        start = tuple(map(lambda a, da: a//2-da//2, img.shape, bounding))\n",
    "        end = tuple(map(operator.add, start, bounding))\n",
    "        slices = tuple(map(slice, start, end))\n",
    "        return img[slices]\n",
    "    \n",
    "# crop by coords\n",
    "class CropBBox(Transform):\n",
    "    def __init__(self, bbox):\n",
    "        self.bbox = bbox\n",
    "    \n",
    "    def encodes(self, arr):\n",
    "        imin, imax, jmin, jmax, kmin, kmax = self.bbox\n",
    "        return arr[imin:imax, jmin:jmax, kmin:kmax]\n",
    "        "
   ]
  },
  {
   "cell_type": "code",
   "execution_count": 79,
   "id": "b17a8864",
   "metadata": {},
   "outputs": [],
   "source": [
    "# # test\n",
    "# tls = TfmdLists(items[0:2], \\\n",
    "#                 [PathToSitk(), \\\n",
    "#                  IsotropicTfm(1), \\\n",
    "#                  ToTensor3D(), \\\n",
    "#                  CenterCropTfm((150, 150, 200))\n",
    "#                 ])\n",
    "\n",
    "# im1, mask1 = tls[0]\n",
    "# im2, mask2 = tls[1]\n",
    "\n",
    "# # print\n",
    "# print(type(im1), im1.shape, type(mask1), mask1.shape)\n",
    "# print(type(im2), im2.shape, type(mask2), mask2.shape)"
   ]
  },
  {
   "cell_type": "markdown",
   "id": "eba0f10e",
   "metadata": {},
   "source": [
    "## Mask Bbox\n",
    "\n",
    "Goal: find the bbox that captures the general region of the sella. The bbox should be similar within a single standardized dataset.\n",
    "\n",
    "Why? A full MR volume has >100 slices. The sella occupies about 10 of them. For quick testing, want the input to be MR with 20 slices and not >100 slices."
   ]
  },
  {
   "cell_type": "code",
   "execution_count": 80,
   "id": "6587fb9c",
   "metadata": {},
   "outputs": [],
   "source": [
    "# tls = TfmdLists(items, \\\n",
    "#                 [PathToSitk(), \\\n",
    "#                  IsotropicTfm(1), \\\n",
    "#                  ToTensor3D(), \\\n",
    "#                 ])\n",
    "\n",
    "# # list of all bboxs\n",
    "# ims, mks = list(zip(*tls))\n",
    "# bboxs = [mask2bbox(np.array(mk)) for mk in mks]\n",
    "# descr = [\"imin\", \"imax\", \"jmin\", \"jmax\", \"kmin\", \"kmax\"]\n",
    "\n",
    "# def bb_dict(bbox): return dict(zip(descr, bbox))\n",
    "\n",
    "# # dataframe of imin/imax\n",
    "# mk_df = DF([{'fn': mr, **bb_dict(bboxs[i])} \\\n",
    "#             for i,(mr, mk) in enumerate(items)])\n",
    "\n",
    "# # irange is 66-108; jrange = 118-181; krange = 60-144\n",
    "# # => islices 50-150, jslices 100-200, kslices 0-200\n",
    "# for col in (\"i\", \"j\", \"k\"):\n",
    "#     col_min = mk_df[f\"{col}min\"].min()\n",
    "#     col_max = mk_df[f\"{col}max\"].max()\n",
    "#     print(f\"{col} ROI Range: {col_min} - {col_max}\")\n",
    "\n",
    "# # get general bbox of the sella region\n",
    "# general_bbox = [x for col in (\"i\", \"j\", \"k\") for x in (mk_df[f\"{col}min\"].min(), mk_df[f\"{col}max\"].max())]\n",
    "# print(general_bbox); print_bbox(*general_bbox)\n",
    "\n",
    "# # plot slice range\n",
    "# #mk_df.boxplot(column=descr)"
   ]
  },
  {
   "cell_type": "code",
   "execution_count": 81,
   "id": "e09aa727",
   "metadata": {},
   "outputs": [],
   "source": [
    "# # test crop\n",
    "# tls = TfmdLists(items[0:2], \\\n",
    "#                 [PathToSitk(), \\\n",
    "#                  IsotropicTfm(1), \\\n",
    "#                  ToTensor3D(), \\\n",
    "#                  CropBBox(general_bbox)\n",
    "#                 ])\n",
    "\n",
    "# ims, mks = list(zip(*tls))\n",
    "\n",
    "# # print\n",
    "# for im,mk in zip(ims, mks):\n",
    "#     print(im.shape, mk.shape)\n",
    "#     print_bbox(*mask2bbox(np.array(mk)))\n",
    "#     print()"
   ]
  },
  {
   "cell_type": "code",
   "execution_count": 82,
   "id": "2a30b687",
   "metadata": {},
   "outputs": [],
   "source": [
    "# # Viz\n",
    "# idx = 0\n",
    "# im_np, mk_np = [np.array(x) for x in (ims[idx], mks[idx])]\n",
    "\n",
    "# viz_axis(np_arr = im_np, \\\n",
    "#         bin_mask_arr  = mk_np, color1 = \"yellow\", alpha1=0.3, \\\n",
    "#         slices=lrange(0, mk_np.shape[0]), fixed_axis=0, \\\n",
    "#         axis_fn = np.rot90, \\\n",
    "#         title   = \"Axis 0\", \\\n",
    "         \n",
    "#         np_arr_b = im_np, \\\n",
    "#         bin_mask_arr_b  = mk_np,\n",
    "#         slices_b = lrange(0, mk_np.shape[1]), fixed_axis_b=1, \\\n",
    "#         title_b  = \"Axis 1\", \\\n",
    "         \n",
    "#         np_arr_c = im_np, \\\n",
    "#         bin_mask_arr_c  = mk_np,\n",
    "#         slices_c = lrange(0, mk_np.shape[2]), fixed_axis_c=2, \\\n",
    "#         title_c = \"Axis 2\", \\\n",
    "         \n",
    "#         ncols = 5, hspace=0.3, fig_mult=2)"
   ]
  },
  {
   "cell_type": "markdown",
   "id": "52ef74ed",
   "metadata": {},
   "source": [
    "# Dataloaders\n",
    "\n",
    "TODO augmentations.\n",
    "\n",
    "- dset = tfms applied to items\n",
    "- splits into training/valid\n",
    "- bs"
   ]
  },
  {
   "cell_type": "code",
   "execution_count": 83,
   "id": "94b2c9a3",
   "metadata": {},
   "outputs": [],
   "source": [
    "# # imin imax jmin jmax kmin kmax\n",
    "# print(general_bbox)\n",
    "# print_bbox(*general_bbox)"
   ]
  },
  {
   "cell_type": "code",
   "execution_count": 84,
   "id": "8f55e945",
   "metadata": {},
   "outputs": [],
   "source": [
    "# np.array((66, 118, 60)) + np.array((42, 93, 93))\n",
    "\n",
    "# np.array((66, 118, 60)) + np.array((20, 112, 112))"
   ]
  },
  {
   "cell_type": "code",
   "execution_count": 85,
   "id": "b0b97dac",
   "metadata": {},
   "outputs": [
    {
     "name": "stdout",
     "output_type": "stream",
     "text": [
      "Sq bbox [66, 86, 118, 230, 60, 172]\n"
     ]
    }
   ],
   "source": [
    "square_bbox = [66, 86, 118, 230, 60, 172]\n",
    "print(\"Sq bbox\", square_bbox)"
   ]
  },
  {
   "cell_type": "code",
   "execution_count": 86,
   "id": "07bdd5b8",
   "metadata": {},
   "outputs": [
    {
     "data": {
      "text/plain": [
       "Pipeline: DoAll -> CropBBox"
      ]
     },
     "execution_count": 86,
     "metadata": {},
     "output_type": "execute_result"
    }
   ],
   "source": [
    "tfms = [DoAll(), CropBBox(square_bbox)]\n",
    "\n",
    "Pipeline(tfms)"
   ]
  },
  {
   "cell_type": "code",
   "execution_count": 91,
   "id": "f728dc35",
   "metadata": {},
   "outputs": [
    {
     "name": "stdout",
     "output_type": "stream",
     "text": [
      "Training: 8, Valid: 2\n",
      "<class 'tuple'> torch.Size([1, 1, 20, 112, 112]) torch.Size([1, 1, 20, 112, 112])\n",
      "8 2\n"
     ]
    }
   ],
   "source": [
    "# splits\n",
    "splits = RandomSplitter(seed=42)(items)\n",
    "print(f\"Training: {len(splits[0])}, Valid: {len(splits[1])}\")\n",
    "\n",
    "# tfms\n",
    "\n",
    "#tfms = [PathToSitk(), IsotropicTfm(1), ToTensor3D(), CropBBox(square_bbox)] #, AddChannel()]\n",
    "\n",
    "tfms = [DoAll(), CropBBox(square_bbox)]\n",
    "\n",
    "# tls\n",
    "tls = TfmdLists(items, tfms, splits=splits)\n",
    "\n",
    "# dls\n",
    "dls = tls.dataloaders(bs=1, after_batch=AddChannel())\n",
    "\n",
    "# GPU\n",
    "dls = dls.cuda()\n",
    "\n",
    "# test get one batch\n",
    "b = dls.one_batch()\n",
    "print(type(b), b[0].shape, b[1].shape)\n",
    "print(len(dls.train), len(dls.valid))"
   ]
  },
  {
   "cell_type": "markdown",
   "id": "34c96e69",
   "metadata": {},
   "source": [
    "# Metric\n",
    "\n",
    "Linear combination of Dice and Cross Entropy"
   ]
  },
  {
   "cell_type": "code",
   "execution_count": 92,
   "id": "entitled-supervision",
   "metadata": {},
   "outputs": [],
   "source": [
    "def dice(input, target):\n",
    "    iflat = input.contiguous().view(-1)\n",
    "    tflat = target.contiguous().view(-1)\n",
    "    intersection = (iflat * tflat).sum()\n",
    "    return ((2. * intersection) /\n",
    "           (iflat.sum() + tflat.sum()))\n",
    "\n",
    "def dice_score(input, target):\n",
    "    return dice(input.argmax(1), target)\n",
    "\n",
    "def dice_loss(input, target): \n",
    "    return 1 - dice(input.softmax(1)[:, 1], target)\n",
    "\n",
    "def loss(input, target):\n",
    "    return dice_loss(input, target) + nn.CrossEntropyLoss()(input, target[:, 0])"
   ]
  },
  {
   "cell_type": "code",
   "execution_count": 93,
   "id": "db375a51",
   "metadata": {},
   "outputs": [],
   "source": [
    "# ipython nbconvert --to python  '6 - Dataloaders- NB - Simple-Copy1.ipynb'"
   ]
  },
  {
   "cell_type": "markdown",
   "id": "59acd0f9",
   "metadata": {},
   "source": [
    "# Learner"
   ]
  },
  {
   "cell_type": "code",
   "execution_count": 94,
   "id": "d86c1219",
   "metadata": {},
   "outputs": [],
   "source": [
    "import gc\n",
    "\n",
    "gc.collect()\n",
    "\n",
    "torch.cuda.empty_cache()"
   ]
  },
  {
   "cell_type": "code",
   "execution_count": 95,
   "id": "8de170fc",
   "metadata": {},
   "outputs": [],
   "source": [
    "backbone = efficientnet_b0 #r3d_18 (pretrained?)\n",
    "learn    = unet_learner_3d(dls, backbone, n_out=2)\n",
    "\n",
    "# GPU\n",
    "learn.model = learn.model.cuda()\n",
    "learn = learn.to_fp16()"
   ]
  },
  {
   "cell_type": "code",
   "execution_count": 96,
   "id": "c345a3af",
   "metadata": {},
   "outputs": [
    {
     "name": "stdout",
     "output_type": "stream",
     "text": [
      "Elapsed: 1.1702852249145508\n",
      "Batch: x,y\n",
      "<class 'torch.Tensor'> torch.Size([1, 1, 20, 112, 112]) torch.float32 \n",
      " <class 'torch.Tensor'> torch.Size([1, 1, 20, 112, 112]) torch.float32\n",
      "Pred shape\n",
      "<class 'torch.Tensor'> torch.Size([1, 2, 20, 112, 112]) torch.float32\n",
      "Loss\n",
      "tensor(0.5777, device='cuda:0', grad_fn=<MeanBackward0>)\n",
      "<faimed3d.models.losses.DiceLoss object at 0x7f38da9dca90>\n"
     ]
    }
   ],
   "source": [
    "# test:\n",
    "\n",
    "#dls.device = \"cpu\"\n",
    "\n",
    "start = time.time()\n",
    "\n",
    "x,y = dls.one_batch()\n",
    "#x,y = to_cpu(x), to_cpu(y)\n",
    "\n",
    "pred = learn.model(x)\n",
    "loss = learn.loss_func(pred, y)\n",
    "\n",
    "elapsed = time.time() - start\n",
    "\n",
    "print(f\"Elapsed: {elapsed}\")\n",
    "print(\"Batch: x,y\")\n",
    "print(type(x), x.shape, x.dtype, \"\\n\", type(y), y.shape, y.dtype)\n",
    "\n",
    "print(\"Pred shape\")\n",
    "print(type(pred), pred.shape, pred.dtype)\n",
    "\n",
    "print(\"Loss\")\n",
    "print(loss)\n",
    "print(learn.loss_func)"
   ]
  },
  {
   "cell_type": "code",
   "execution_count": 97,
   "id": "1651b301",
   "metadata": {},
   "outputs": [
    {
     "name": "stdout",
     "output_type": "stream",
     "text": [
      "Start Fit\n",
      "   - before_fit     : [TrainEvalCallback, MixedPrecision, Recorder, ProgressCallback]\n",
      "  Start Epoch Loop\n",
      "     - before_epoch   : [Recorder, ProgressCallback]\n",
      "    Start Train\n",
      "       - before_train   : [TrainEvalCallback, Recorder, ProgressCallback]\n",
      "      Start Batch Loop\n",
      "         - before_batch   : [MixedPrecision]\n",
      "         - after_pred     : [MixedPrecision]\n",
      "         - after_loss     : [MixedPrecision]\n",
      "         - before_backward: [MixedPrecision]\n",
      "         - before_step    : [MixedPrecision]\n",
      "         - after_step     : [MixedPrecision]\n",
      "         - after_cancel_batch: []\n",
      "         - after_batch    : [TrainEvalCallback, Recorder, ProgressCallback]\n",
      "      End Batch Loop\n",
      "    End Train\n",
      "     - after_cancel_train: [Recorder]\n",
      "     - after_train    : [Recorder, ProgressCallback]\n",
      "    Start Valid\n",
      "       - before_validate: [TrainEvalCallback, Recorder, ProgressCallback]\n",
      "      Start Batch Loop\n",
      "         - **CBs same as train batch**: []\n",
      "      End Batch Loop\n",
      "    End Valid\n",
      "     - after_cancel_validate: [Recorder]\n",
      "     - after_validate : [Recorder, ProgressCallback]\n",
      "  End Epoch Loop\n",
      "   - after_cancel_epoch: []\n",
      "   - after_epoch    : [Recorder]\n",
      "End Fit\n",
      " - after_cancel_fit: []\n",
      " - after_fit      : [ProgressCallback]\n",
      "None\n"
     ]
    }
   ],
   "source": [
    "from fastai.callback.all import *\n",
    "print(learn.show_training_loop())"
   ]
  },
  {
   "cell_type": "code",
   "execution_count": 98,
   "id": "72f40f61",
   "metadata": {},
   "outputs": [
    {
     "data": {
      "text/html": [],
      "text/plain": [
       "<IPython.core.display.HTML object>"
      ]
     },
     "metadata": {},
     "output_type": "display_data"
    },
    {
     "data": {
      "text/plain": [
       "DynamicUnet3D (Input shape: 1)\n",
       "============================================================================\n",
       "Layer (type)         Output Shape         Param #    Trainable \n",
       "============================================================================\n",
       "                     []                  \n",
       "ConstantPad3d                                                  \n",
       "____________________________________________________________________________\n",
       "                     1 x 32 x 10 x 56 x  \n",
       "Conv3d                                    864        False     \n",
       "BatchNorm3d                               64         True      \n",
       "____________________________________________________________________________\n",
       "                     []                  \n",
       "ConstantPad3d                                                  \n",
       "____________________________________________________________________________\n",
       "                     1 x 32 x 10 x 56 x  \n",
       "Conv3d                                    864        False     \n",
       "BatchNorm3d                               64         True      \n",
       "SiLU                                                           \n",
       "ConstantPad3d                                                  \n",
       "____________________________________________________________________________\n",
       "                     1 x 8 x 1 x 1 x 1   \n",
       "Conv3d                                    264        False     \n",
       "SiLU                                                           \n",
       "ConstantPad3d                                                  \n",
       "____________________________________________________________________________\n",
       "                     1 x 32 x 1 x 1 x 1  \n",
       "Conv3d                                    288        False     \n",
       "ConstantPad3d                                                  \n",
       "____________________________________________________________________________\n",
       "                     1 x 16 x 10 x 56 x  \n",
       "Conv3d                                    512        False     \n",
       "BatchNorm3d                               32         True      \n",
       "ConstantPad3d                                                  \n",
       "____________________________________________________________________________\n",
       "                     1 x 96 x 10 x 56 x  \n",
       "Conv3d                                    1536       False     \n",
       "BatchNorm3d                               192        True      \n",
       "SiLU                                                           \n",
       "ConstantPad3d                                                  \n",
       "____________________________________________________________________________\n",
       "                     1 x 96 x 5 x 28 x 2 \n",
       "Conv3d                                    2592       False     \n",
       "BatchNorm3d                               192        True      \n",
       "SiLU                                                           \n",
       "ConstantPad3d                                                  \n",
       "____________________________________________________________________________\n",
       "                     1 x 4 x 1 x 1 x 1   \n",
       "Conv3d                                    388        False     \n",
       "SiLU                                                           \n",
       "ConstantPad3d                                                  \n",
       "____________________________________________________________________________\n",
       "                     1 x 96 x 1 x 1 x 1  \n",
       "Conv3d                                    480        False     \n",
       "ConstantPad3d                                                  \n",
       "____________________________________________________________________________\n",
       "                     1 x 24 x 5 x 28 x 2 \n",
       "Conv3d                                    2304       False     \n",
       "BatchNorm3d                               48         True      \n",
       "ConstantPad3d                                                  \n",
       "____________________________________________________________________________\n",
       "                     1 x 144 x 5 x 28 x  \n",
       "Conv3d                                    3456       False     \n",
       "BatchNorm3d                               288        True      \n",
       "SiLU                                                           \n",
       "ConstantPad3d                                                  \n",
       "____________________________________________________________________________\n",
       "                     1 x 144 x 5 x 28 x  \n",
       "Conv3d                                    3888       False     \n",
       "BatchNorm3d                               288        True      \n",
       "SiLU                                                           \n",
       "ConstantPad3d                                                  \n",
       "____________________________________________________________________________\n",
       "                     1 x 6 x 1 x 1 x 1   \n",
       "Conv3d                                    870        False     \n",
       "SiLU                                                           \n",
       "ConstantPad3d                                                  \n",
       "____________________________________________________________________________\n",
       "                     1 x 144 x 1 x 1 x 1 \n",
       "Conv3d                                    1008       False     \n",
       "ConstantPad3d                                                  \n",
       "____________________________________________________________________________\n",
       "                     1 x 24 x 5 x 28 x 2 \n",
       "Conv3d                                    3456       False     \n",
       "BatchNorm3d                               48         True      \n",
       "DropConnect                                                    \n",
       "ConstantPad3d                                                  \n",
       "____________________________________________________________________________\n",
       "                     1 x 144 x 5 x 28 x  \n",
       "Conv3d                                    3456       False     \n",
       "BatchNorm3d                               288        True      \n",
       "SiLU                                                           \n",
       "ConstantPad3d                                                  \n",
       "____________________________________________________________________________\n",
       "                     1 x 144 x 3 x 14 x  \n",
       "Conv3d                                    9216       False     \n",
       "BatchNorm3d                               288        True      \n",
       "SiLU                                                           \n",
       "ConstantPad3d                                                  \n",
       "____________________________________________________________________________\n",
       "                     1 x 6 x 1 x 1 x 1   \n",
       "Conv3d                                    870        False     \n",
       "SiLU                                                           \n",
       "ConstantPad3d                                                  \n",
       "____________________________________________________________________________\n",
       "                     1 x 144 x 1 x 1 x 1 \n",
       "Conv3d                                    1008       False     \n",
       "ConstantPad3d                                                  \n",
       "____________________________________________________________________________\n",
       "                     1 x 40 x 3 x 14 x 1 \n",
       "Conv3d                                    5760       False     \n",
       "BatchNorm3d                               80         True      \n",
       "ConstantPad3d                                                  \n",
       "____________________________________________________________________________\n",
       "                     1 x 240 x 3 x 14 x  \n",
       "Conv3d                                    9600       False     \n",
       "BatchNorm3d                               480        True      \n",
       "SiLU                                                           \n",
       "ConstantPad3d                                                  \n",
       "____________________________________________________________________________\n",
       "                     1 x 240 x 3 x 14 x  \n",
       "Conv3d                                    15360      False     \n",
       "BatchNorm3d                               480        True      \n",
       "SiLU                                                           \n",
       "ConstantPad3d                                                  \n",
       "____________________________________________________________________________\n",
       "                     1 x 10 x 1 x 1 x 1  \n",
       "Conv3d                                    2410       False     \n",
       "SiLU                                                           \n",
       "ConstantPad3d                                                  \n",
       "____________________________________________________________________________\n",
       "                     1 x 240 x 1 x 1 x 1 \n",
       "Conv3d                                    2640       False     \n",
       "ConstantPad3d                                                  \n",
       "____________________________________________________________________________\n",
       "                     1 x 40 x 3 x 14 x 1 \n",
       "Conv3d                                    9600       False     \n",
       "BatchNorm3d                               80         True      \n",
       "DropConnect                                                    \n",
       "ConstantPad3d                                                  \n",
       "____________________________________________________________________________\n",
       "                     1 x 240 x 3 x 14 x  \n",
       "Conv3d                                    9600       False     \n",
       "BatchNorm3d                               480        True      \n",
       "SiLU                                                           \n",
       "ConstantPad3d                                                  \n",
       "____________________________________________________________________________\n",
       "                     1 x 240 x 2 x 7 x 7 \n",
       "Conv3d                                    6480       False     \n",
       "BatchNorm3d                               480        True      \n",
       "SiLU                                                           \n",
       "ConstantPad3d                                                  \n",
       "____________________________________________________________________________\n",
       "                     1 x 10 x 1 x 1 x 1  \n",
       "Conv3d                                    2410       False     \n",
       "SiLU                                                           \n",
       "ConstantPad3d                                                  \n",
       "____________________________________________________________________________\n",
       "                     1 x 240 x 1 x 1 x 1 \n",
       "Conv3d                                    2640       False     \n",
       "ConstantPad3d                                                  \n",
       "____________________________________________________________________________\n",
       "                     1 x 80 x 2 x 7 x 7  \n",
       "Conv3d                                    19200      False     \n",
       "BatchNorm3d                               160        True      \n",
       "ConstantPad3d                                                  \n",
       "____________________________________________________________________________\n",
       "                     1 x 480 x 2 x 7 x 7 \n",
       "Conv3d                                    38400      False     \n",
       "BatchNorm3d                               960        True      \n",
       "SiLU                                                           \n",
       "ConstantPad3d                                                  \n",
       "____________________________________________________________________________\n",
       "                     1 x 480 x 2 x 7 x 7 \n",
       "Conv3d                                    12960      False     \n",
       "BatchNorm3d                               960        True      \n",
       "SiLU                                                           \n",
       "ConstantPad3d                                                  \n",
       "____________________________________________________________________________\n",
       "                     1 x 20 x 1 x 1 x 1  \n",
       "Conv3d                                    9620       False     \n",
       "SiLU                                                           \n",
       "ConstantPad3d                                                  \n",
       "____________________________________________________________________________\n",
       "                     1 x 480 x 1 x 1 x 1 \n",
       "Conv3d                                    10080      False     \n",
       "ConstantPad3d                                                  \n",
       "____________________________________________________________________________\n",
       "                     1 x 80 x 2 x 7 x 7  \n",
       "Conv3d                                    38400      False     \n",
       "BatchNorm3d                               160        True      \n",
       "DropConnect                                                    \n",
       "ConstantPad3d                                                  \n",
       "____________________________________________________________________________\n",
       "                     1 x 480 x 2 x 7 x 7 \n",
       "Conv3d                                    38400      False     \n",
       "BatchNorm3d                               960        True      \n",
       "SiLU                                                           \n",
       "ConstantPad3d                                                  \n",
       "____________________________________________________________________________\n",
       "                     1 x 480 x 2 x 7 x 7 \n",
       "Conv3d                                    12960      False     \n",
       "BatchNorm3d                               960        True      \n",
       "SiLU                                                           \n",
       "ConstantPad3d                                                  \n",
       "____________________________________________________________________________\n",
       "                     1 x 20 x 1 x 1 x 1  \n",
       "Conv3d                                    9620       False     \n",
       "SiLU                                                           \n",
       "ConstantPad3d                                                  \n",
       "____________________________________________________________________________\n",
       "                     1 x 480 x 1 x 1 x 1 \n",
       "Conv3d                                    10080      False     \n",
       "ConstantPad3d                                                  \n",
       "____________________________________________________________________________\n",
       "                     1 x 80 x 2 x 7 x 7  \n",
       "Conv3d                                    38400      False     \n",
       "BatchNorm3d                               160        True      \n",
       "DropConnect                                                    \n",
       "ConstantPad3d                                                  \n",
       "____________________________________________________________________________\n",
       "                     1 x 480 x 2 x 7 x 7 \n",
       "Conv3d                                    38400      False     \n",
       "BatchNorm3d                               960        True      \n",
       "SiLU                                                           \n",
       "ConstantPad3d                                                  \n",
       "____________________________________________________________________________\n",
       "                     1 x 480 x 2 x 7 x 7 \n",
       "Conv3d                                    30720      False     \n",
       "BatchNorm3d                               960        True      \n",
       "SiLU                                                           \n",
       "ConstantPad3d                                                  \n",
       "____________________________________________________________________________\n",
       "                     1 x 20 x 1 x 1 x 1  \n",
       "Conv3d                                    9620       False     \n",
       "SiLU                                                           \n",
       "ConstantPad3d                                                  \n",
       "____________________________________________________________________________\n",
       "                     1 x 480 x 1 x 1 x 1 \n",
       "Conv3d                                    10080      False     \n",
       "ConstantPad3d                                                  \n",
       "____________________________________________________________________________\n",
       "                     1 x 112 x 2 x 7 x 7 \n",
       "Conv3d                                    53760      False     \n",
       "BatchNorm3d                               224        True      \n",
       "ConstantPad3d                                                  \n",
       "____________________________________________________________________________\n",
       "                     1 x 672 x 2 x 7 x 7 \n",
       "Conv3d                                    75264      False     \n",
       "BatchNorm3d                               1344       True      \n",
       "SiLU                                                           \n",
       "ConstantPad3d                                                  \n",
       "____________________________________________________________________________\n",
       "                     1 x 672 x 2 x 7 x 7 \n",
       "Conv3d                                    43008      False     \n",
       "BatchNorm3d                               1344       True      \n",
       "SiLU                                                           \n",
       "ConstantPad3d                                                  \n",
       "____________________________________________________________________________\n",
       "                     1 x 28 x 1 x 1 x 1  \n",
       "Conv3d                                    18844      False     \n",
       "SiLU                                                           \n",
       "ConstantPad3d                                                  \n",
       "____________________________________________________________________________\n",
       "                     1 x 672 x 1 x 1 x 1 \n",
       "Conv3d                                    19488      False     \n",
       "ConstantPad3d                                                  \n",
       "____________________________________________________________________________\n",
       "                     1 x 112 x 2 x 7 x 7 \n",
       "Conv3d                                    75264      False     \n",
       "BatchNorm3d                               224        True      \n",
       "DropConnect                                                    \n",
       "ConstantPad3d                                                  \n",
       "____________________________________________________________________________\n",
       "                     1 x 672 x 2 x 7 x 7 \n",
       "Conv3d                                    75264      False     \n",
       "BatchNorm3d                               1344       True      \n",
       "SiLU                                                           \n",
       "ConstantPad3d                                                  \n",
       "____________________________________________________________________________\n",
       "                     1 x 672 x 2 x 7 x 7 \n",
       "Conv3d                                    43008      False     \n",
       "BatchNorm3d                               1344       True      \n",
       "SiLU                                                           \n",
       "ConstantPad3d                                                  \n",
       "____________________________________________________________________________\n",
       "                     1 x 28 x 1 x 1 x 1  \n",
       "Conv3d                                    18844      False     \n",
       "SiLU                                                           \n",
       "ConstantPad3d                                                  \n",
       "____________________________________________________________________________\n",
       "                     1 x 672 x 1 x 1 x 1 \n",
       "Conv3d                                    19488      False     \n",
       "ConstantPad3d                                                  \n",
       "____________________________________________________________________________\n",
       "                     1 x 112 x 2 x 7 x 7 \n",
       "Conv3d                                    75264      False     \n",
       "BatchNorm3d                               224        True      \n",
       "DropConnect                                                    \n",
       "ConstantPad3d                                                  \n",
       "____________________________________________________________________________\n",
       "                     1 x 672 x 2 x 7 x 7 \n",
       "Conv3d                                    75264      False     \n",
       "BatchNorm3d                               1344       True      \n",
       "SiLU                                                           \n",
       "ConstantPad3d                                                  \n",
       "____________________________________________________________________________\n",
       "                     1 x 672 x 1 x 4 x 4 \n",
       "Conv3d                                    43008      False     \n",
       "BatchNorm3d                               1344       True      \n",
       "SiLU                                                           \n",
       "ConstantPad3d                                                  \n",
       "____________________________________________________________________________\n",
       "                     1 x 28 x 1 x 1 x 1  \n",
       "Conv3d                                    18844      False     \n",
       "SiLU                                                           \n",
       "ConstantPad3d                                                  \n",
       "____________________________________________________________________________\n",
       "                     1 x 672 x 1 x 1 x 1 \n",
       "Conv3d                                    19488      False     \n",
       "ConstantPad3d                                                  \n",
       "____________________________________________________________________________\n",
       "                     1 x 192 x 1 x 4 x 4 \n",
       "Conv3d                                    129024     False     \n",
       "BatchNorm3d                               384        True      \n",
       "ConstantPad3d                                                  \n",
       "____________________________________________________________________________\n",
       "                     1 x 1152 x 1 x 4 x  \n",
       "Conv3d                                    221184     False     \n",
       "BatchNorm3d                               2304       True      \n",
       "SiLU                                                           \n",
       "ConstantPad3d                                                  \n",
       "____________________________________________________________________________\n",
       "                     1 x 1152 x 1 x 4 x  \n",
       "Conv3d                                    73728      False     \n",
       "BatchNorm3d                               2304       True      \n",
       "SiLU                                                           \n",
       "ConstantPad3d                                                  \n",
       "____________________________________________________________________________\n",
       "                     1 x 48 x 1 x 1 x 1  \n",
       "Conv3d                                    55344      False     \n",
       "SiLU                                                           \n",
       "ConstantPad3d                                                  \n",
       "____________________________________________________________________________\n",
       "                     1 x 1152 x 1 x 1 x  \n",
       "Conv3d                                    56448      False     \n",
       "ConstantPad3d                                                  \n",
       "____________________________________________________________________________\n",
       "                     1 x 192 x 1 x 4 x 4 \n",
       "Conv3d                                    221184     False     \n",
       "BatchNorm3d                               384        True      \n",
       "DropConnect                                                    \n",
       "ConstantPad3d                                                  \n",
       "____________________________________________________________________________\n",
       "                     1 x 1152 x 1 x 4 x  \n",
       "Conv3d                                    221184     False     \n",
       "BatchNorm3d                               2304       True      \n",
       "SiLU                                                           \n",
       "ConstantPad3d                                                  \n",
       "____________________________________________________________________________\n",
       "                     1 x 1152 x 1 x 4 x  \n",
       "Conv3d                                    73728      False     \n",
       "BatchNorm3d                               2304       True      \n",
       "SiLU                                                           \n",
       "ConstantPad3d                                                  \n",
       "____________________________________________________________________________\n",
       "                     1 x 48 x 1 x 1 x 1  \n",
       "Conv3d                                    55344      False     \n",
       "SiLU                                                           \n",
       "ConstantPad3d                                                  \n",
       "____________________________________________________________________________\n",
       "                     1 x 1152 x 1 x 1 x  \n",
       "Conv3d                                    56448      False     \n",
       "ConstantPad3d                                                  \n",
       "____________________________________________________________________________\n",
       "                     1 x 192 x 1 x 4 x 4 \n",
       "Conv3d                                    221184     False     \n",
       "BatchNorm3d                               384        True      \n",
       "DropConnect                                                    \n",
       "ConstantPad3d                                                  \n",
       "____________________________________________________________________________\n",
       "                     1 x 1152 x 1 x 4 x  \n",
       "Conv3d                                    221184     False     \n",
       "BatchNorm3d                               2304       True      \n",
       "SiLU                                                           \n",
       "ConstantPad3d                                                  \n",
       "____________________________________________________________________________\n",
       "                     1 x 1152 x 1 x 4 x  \n",
       "Conv3d                                    73728      False     \n",
       "BatchNorm3d                               2304       True      \n",
       "SiLU                                                           \n",
       "ConstantPad3d                                                  \n",
       "____________________________________________________________________________\n",
       "                     1 x 48 x 1 x 1 x 1  \n",
       "Conv3d                                    55344      False     \n",
       "SiLU                                                           \n",
       "ConstantPad3d                                                  \n",
       "____________________________________________________________________________\n",
       "                     1 x 1152 x 1 x 1 x  \n",
       "Conv3d                                    56448      False     \n",
       "ConstantPad3d                                                  \n",
       "____________________________________________________________________________\n",
       "                     1 x 192 x 1 x 4 x 4 \n",
       "Conv3d                                    221184     False     \n",
       "BatchNorm3d                               384        True      \n",
       "DropConnect                                                    \n",
       "ConstantPad3d                                                  \n",
       "____________________________________________________________________________\n",
       "                     1 x 1152 x 1 x 4 x  \n",
       "Conv3d                                    221184     False     \n",
       "BatchNorm3d                               2304       True      \n",
       "SiLU                                                           \n",
       "ConstantPad3d                                                  \n",
       "____________________________________________________________________________\n",
       "                     1 x 1152 x 1 x 4 x  \n",
       "Conv3d                                    31104      False     \n",
       "BatchNorm3d                               2304       True      \n",
       "SiLU                                                           \n",
       "ConstantPad3d                                                  \n",
       "____________________________________________________________________________\n",
       "                     1 x 48 x 1 x 1 x 1  \n",
       "Conv3d                                    55344      False     \n",
       "SiLU                                                           \n",
       "ConstantPad3d                                                  \n",
       "____________________________________________________________________________\n",
       "                     1 x 1152 x 1 x 1 x  \n",
       "Conv3d                                    56448      False     \n",
       "ConstantPad3d                                                  \n",
       "____________________________________________________________________________\n",
       "                     1 x 320 x 1 x 4 x 4 \n",
       "Conv3d                                    368640     False     \n",
       "BatchNorm3d                               640        True      \n",
       "ConstantPad3d                                                  \n",
       "Conv3d                                    102400     False     \n",
       "BatchNorm3d                               640        True      \n",
       "SiLU                                                           \n",
       "____________________________________________________________________________\n",
       "                     1 x 640 x 1 x 4 x 4 \n",
       "Conv3d                                    5529600    True      \n",
       "BatchNorm3d                               1280       True      \n",
       "ReLU                                                           \n",
       "____________________________________________________________________________\n",
       "                     1 x 320 x 1 x 4 x 4 \n",
       "Conv3d                                    5529600    True      \n",
       "BatchNorm3d                               640        True      \n",
       "ReLU                                                           \n",
       "____________________________________________________________________________\n",
       "                     1 x 160 x 3 x 6 x 6 \n",
       "ConvTranspose3d                           1382400    True      \n",
       "BatchNorm3d                               320        True      \n",
       "ReLU                                                           \n",
       "BatchNorm3d                               224        True      \n",
       "Conv3d                                    1997568    True      \n",
       "BatchNorm3d                               544        True      \n",
       "ReLU                                                           \n",
       "Conv3d                                    1997568    True      \n",
       "BatchNorm3d                               544        True      \n",
       "ReLU                                                           \n",
       "ReLU                                                           \n",
       "____________________________________________________________________________\n",
       "                     1 x 136 x 4 x 9 x 9 \n",
       "ConvTranspose3d                           998784     True      \n",
       "BatchNorm3d                               272        True      \n",
       "ReLU                                                           \n",
       "BatchNorm3d                               80         True      \n",
       "Conv3d                                    836352     True      \n",
       "BatchNorm3d                               352        True      \n",
       "ReLU                                                           \n",
       "Conv3d                                    836352     True      \n",
       "BatchNorm3d                               352        True      \n",
       "ReLU                                                           \n",
       "ReLU                                                           \n",
       "____________________________________________________________________________\n",
       "                     1 x 88 x 5 x 16 x 1 \n",
       "ConvTranspose3d                           418176     True      \n",
       "BatchNorm3d                               176        True      \n",
       "ReLU                                                           \n",
       "BatchNorm3d                               48         True      \n",
       "Conv3d                                    338688     True      \n",
       "BatchNorm3d                               224        True      \n",
       "ReLU                                                           \n",
       "Conv3d                                    338688     True      \n",
       "BatchNorm3d                               224        True      \n",
       "ReLU                                                           \n",
       "ReLU                                                           \n",
       "____________________________________________________________________________\n",
       "                     1 x 56 x 7 x 30 x 3 \n",
       "ConvTranspose3d                           169344     True      \n",
       "BatchNorm3d                               112        True      \n",
       "ReLU                                                           \n",
       "BatchNorm3d                               32         True      \n",
       "____________________________________________________________________________\n",
       "                     1 x 36 x 10 x 56 x  \n",
       "Conv3d                                    69984      True      \n",
       "BatchNorm3d                               72         True      \n",
       "ReLU                                                           \n",
       "Conv3d                                    34992      True      \n",
       "BatchNorm3d                               72         True      \n",
       "ReLU                                                           \n",
       "ReLU                                                           \n",
       "____________________________________________________________________________\n",
       "                     1 x 36 x 12 x 58 x  \n",
       "ConvTranspose3d                           35028      True      \n",
       "____________________________________________________________________________\n",
       "                     []                  \n",
       "ResizeToOrig                                                   \n",
       "MergeLayer                                                     \n",
       "Conv3d                                    36963      True      \n",
       "BatchNorm3d                               74         True      \n",
       "ReLU                                                           \n",
       "Conv3d                                    36963      True      \n",
       "BatchNorm3d                               74         True      \n",
       "Sequential                                                     \n",
       "ReLU                                                           \n",
       "____________________________________________________________________________\n",
       "                     1 x 2 x 20 x 112 x  \n",
       "Conv3d                                    74         True      \n",
       "BatchNorm3d                               4          True      \n",
       "____________________________________________________________________________\n",
       "\n",
       "Total params: 24,585,608\n",
       "Total trainable params: 20,632,940\n",
       "Total non-trainable params: 3,952,668\n",
       "\n",
       "Optimizer used: <function Adam at 0x7f385ad32560>\n",
       "Loss function: <faimed3d.models.losses.DiceLoss object at 0x7f38da9dca90>\n",
       "\n",
       "Model frozen up to parameter group #1\n",
       "\n",
       "Callbacks:\n",
       "  - TrainEvalCallback\n",
       "  - MixedPrecision\n",
       "  - Recorder\n",
       "  - ProgressCallback"
      ]
     },
     "execution_count": 98,
     "metadata": {},
     "output_type": "execute_result"
    }
   ],
   "source": [
    "learn.summary()"
   ]
  },
  {
   "cell_type": "markdown",
   "id": "8962fb76",
   "metadata": {},
   "source": [
    "# LR Finder"
   ]
  },
  {
   "cell_type": "code",
   "execution_count": 107,
   "id": "4e786a46",
   "metadata": {},
   "outputs": [],
   "source": [
    "learn.train??"
   ]
  },
  {
   "cell_type": "code",
   "execution_count": 105,
   "id": "d5ff7bf8",
   "metadata": {},
   "outputs": [
    {
     "name": "stdout",
     "output_type": "stream",
     "text": [
      "8\n"
     ]
    }
   ],
   "source": [
    "train = learn.dls.train\n",
    "print(len(train))"
   ]
  },
  {
   "cell_type": "code",
   "execution_count": 110,
   "id": "fd633caa",
   "metadata": {},
   "outputs": [
    {
     "name": "stdout",
     "output_type": "stream",
     "text": [
      "PRE learn.fit one cycle\n"
     ]
    },
    {
     "data": {
      "text/html": [
       "<table border=\"1\" class=\"dataframe\">\n",
       "  <thead>\n",
       "    <tr style=\"text-align: left;\">\n",
       "      <th>epoch</th>\n",
       "      <th>train_loss</th>\n",
       "      <th>valid_loss</th>\n",
       "      <th>time</th>\n",
       "    </tr>\n",
       "  </thead>\n",
       "  <tbody>\n",
       "    <tr>\n",
       "      <td>0</td>\n",
       "      <td>nan</td>\n",
       "      <td>nan</td>\n",
       "      <td>00:08</td>\n",
       "    </tr>\n",
       "  </tbody>\n",
       "</table>"
      ],
      "text/plain": [
       "<IPython.core.display.HTML object>"
      ]
     },
     "metadata": {},
     "output_type": "display_data"
    }
   ],
   "source": [
    "print(\"PRE learn.fit one cycle\")\n",
    "learn.fit_one_cycle(1, 1e-7, wd = 1e-4)"
   ]
  },
  {
   "cell_type": "code",
   "execution_count": 72,
   "id": "fdc0b435",
   "metadata": {},
   "outputs": [
    {
     "data": {
      "text/html": [],
      "text/plain": [
       "<IPython.core.display.HTML object>"
      ]
     },
     "metadata": {},
     "output_type": "display_data"
    },
    {
     "data": {
      "text/plain": [
       "SuggestedLRs(lr_min=6.309573450380412e-08, lr_steep=6.309573450380412e-07)"
      ]
     },
     "execution_count": 72,
     "metadata": {},
     "output_type": "execute_result"
    },
    {
     "data": {
      "image/png": "[encoded data removed]",
      "text/plain": [
       "<Figure size 432x288 with 1 Axes>"
      ]
     },
     "metadata": {
      "needs_background": "light"
     },
     "output_type": "display_data"
    }
   ],
   "source": [
    "learn.lr_find()"
   ]
  },
  {
   "cell_type": "code",
   "execution_count": null,
   "id": "7127658d",
   "metadata": {},
   "outputs": [],
   "source": [
    "print(\"unfreeze, learn 50\")\n",
    "# learn.unfreeze()\n",
    "# learn.fit_one_cycle(50, 1e-3, wd = 1e-4)"
   ]
  }
 ],
 "metadata": {
  "kernelspec": {
   "display_name": "Python 3",
   "language": "python",
   "name": "python3"
  },
  "language_info": {
   "codemirror_mode": {
    "name": "ipython",
    "version": 3
   },
   "file_extension": ".py",
   "mimetype": "text/x-python",
   "name": "python",
   "nbconvert_exporter": "python",
   "pygments_lexer": "ipython3",
   "version": "3.7.4"
  }
 },
 "nbformat": 4,
 "nbformat_minor": 5
}
