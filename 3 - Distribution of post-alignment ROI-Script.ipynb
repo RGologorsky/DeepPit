{
 "cells": [
  {
   "cell_type": "markdown",
   "id": "considerable-drive",
   "metadata": {},
   "source": [
    "# Summary\n",
    "\n",
    "This notebook explores the distribution of bounding box ROIs post-alignment. This range of values is used to inform the hyperparameter testing range (the optimal amount to pad the bounding box for cascaded alignment)."
   ]
  },
  {
   "cell_type": "markdown",
   "id": "funny-meaning",
   "metadata": {},
   "source": [
    "# Imports"
   ]
  },
  {
   "cell_type": "code",
   "execution_count": 1,
   "id": "actual-invalid",
   "metadata": {},
   "outputs": [],
   "source": [
    "# imports\n",
    "\n",
    "import os, sys, time\n",
    "from joblib import Parallel, delayed\n",
    "\n",
    "import numpy as np\n",
    "import pandas as pd\n",
    "\n",
    "from pandas import DataFrame as DF\n",
    "\n",
    "import SimpleITK as sitk\n",
    "\n",
    "from helpers_general import sitk2np, mask2sitk, print_sitk_info, round_tuple, lrange, lmap, get_roi_range, numbers2groups\n",
    "from helpers_preprocess import mask2bbox, print_bbox, get_bbox_size, print_bbox_size, get_data_dict, folder2objs, \\\n",
    "                                threshold_based_crop, get_reference_frame, resample2reference\n",
    "\n",
    "from helpers_metrics import compute_dice_coefficient, compute_coverage_coefficient\n",
    "from helpers_viz import viz_axis"
   ]
  },
  {
   "cell_type": "code",
   "execution_count": 2,
   "id": "sufficient-entertainment",
   "metadata": {},
   "outputs": [],
   "source": [
    "# auto-reload when local helper fns change\n",
    "%load_ext autoreload\n",
    "%autoreload 2\n",
    "\n",
    "%matplotlib inline"
   ]
  },
  {
   "cell_type": "markdown",
   "id": "detected-writing",
   "metadata": {},
   "source": [
    "# Data\n",
    "\n",
    "- Load data from folder (train_path)\n",
    "- Crop to foreground\n",
    "- Get standard reference domain\n",
    "- Resample to sample reference domain"
   ]
  },
  {
   "cell_type": "code",
   "execution_count": 3,
   "id": "forty-pharmacology",
   "metadata": {},
   "outputs": [
    {
     "name": "stdout",
     "output_type": "stream",
     "text": [
      "Train data folders: [range(50002, 50017), range(50019, 50020), 50049, range(50455, 50464)]\n",
      "Training data (size 29): key = train folder, value = full path to (segm obj, nii file)\n",
      "\n"
     ]
    }
   ],
   "source": [
    "# Data path\n",
    "\n",
    "PROJ_PATH = \".\"\n",
    "\n",
    "# Folders containing MR train data\n",
    "train_path = f\"{PROJ_PATH}/train_data/train_data\"\n",
    "train_data_dict = get_data_dict(train_path)\n",
    "\n",
    "# print train data dict\n",
    "print(f\"Train data folders: {numbers2groups(sorted([int(x) for x in os.listdir(train_path)]))}\")\n",
    "print(f\"Training data (size {len(train_data_dict)}): key = train folder, value = full path to (segm obj, nii file)\\n\")"
   ]
  },
  {
   "cell_type": "code",
   "execution_count": 4,
   "id": "affiliated-consultation",
   "metadata": {},
   "outputs": [],
   "source": [
    "folders     = sorted([int(x) for x in os.listdir(train_path)])\n",
    "nii_paths   = [train_data_dict[str(folder)][1] for folder in folders]"
   ]
  },
  {
   "cell_type": "code",
   "execution_count": 5,
   "id": "medical-economy",
   "metadata": {},
   "outputs": [
    {
     "name": "stdout",
     "output_type": "stream",
     "text": [
      "[190.80000758 267.94921875 267.94921875]\n",
      "Size:  (191, 268, 268)\n",
      "Origin:  (0.0, 0.0, 0.0)\n",
      "Spacing:  (1.0, 1.0, 1.0)\n",
      "Direction:  (1.0, 0.0, 0.0, 0.0, 1.0, 0.0, 0.0, 0.0, 1.0)\n",
      "Pixel type: 2 = 16-bit signed integer\n"
     ]
    }
   ],
   "source": [
    "def get_img_data(path):\n",
    "    reader = sitk.ImageFileReader()\n",
    "    reader.SetFileName(path)\n",
    "    reader.ReadImageInformation()\n",
    "    return  reader.GetSize(), reader.GetSpacing() #reader.GetDirection()\n",
    "\n",
    "all_img_data = [get_img_data(path) for path in nii_paths]\n",
    "\n",
    "def get_reference_frame(all_img_data):\n",
    "    img_data = all_img_data\n",
    "    \n",
    "    dimension = 3 # 3D MRs\n",
    "    pixel_id = 2 # 16-bit signed integer\n",
    "\n",
    "    # Physical image size corresponds to the largest physical size in the training set, or any other arbitrary size.\n",
    "    reference_physical_size = np.zeros(dimension)\n",
    "\n",
    "    for img_sz, img_spc in img_data:\n",
    "        reference_physical_size[:] = [(sz-1)*spc if sz*spc>mx else mx \\\n",
    "                                      for sz, spc, mx in zip(img_sz, img_spc, reference_physical_size)]\n",
    "\n",
    "    print(reference_physical_size)\n",
    "    # Create the reference image with a zero origin, identity direction cosine matrix and dimension     \n",
    "    reference_origin = np.zeros(dimension)\n",
    "    reference_direction = np.identity(dimension).flatten()\n",
    "\n",
    "\n",
    "    # Isotropic (1,1,1) pixels\n",
    "    reference_spacing = np.ones(dimension)\n",
    "    reference_size = [int(phys_sz/(spc) + 1) for phys_sz,spc in zip(reference_physical_size, reference_spacing)]\n",
    "\n",
    "    # Set reference image attributes\n",
    "    reference_image = sitk.Image(reference_size, pixel_id)\n",
    "    reference_image.SetOrigin(reference_origin)\n",
    "    reference_image.SetSpacing(reference_spacing)\n",
    "    reference_image.SetDirection(reference_direction)\n",
    "\n",
    "    reference_center = np.array(reference_image.TransformContinuousIndexToPhysicalPoint(np.array(reference_image.GetSize())/2.0))\n",
    "    return reference_size, pixel_id, reference_origin, reference_spacing, reference_direction, reference_center\n",
    "\n",
    "def get_reference_image(reference_frame):\n",
    "    reference_size, pixel_id, reference_origin, reference_spacing, reference_direction, reference_center = reference_frame\n",
    "    reference_image = sitk.Image(reference_size, pixel_id)\n",
    "    reference_image.SetOrigin(reference_origin)\n",
    "    reference_image.SetSpacing(reference_spacing)\n",
    "    reference_image.SetDirection(reference_direction)\n",
    "    return reference_image, reference_center\n",
    "\n",
    "reference_frame = get_reference_frame(all_img_data)\n",
    "reference_image, reference_center = get_reference_image(reference_frame)\n",
    "print_sitk_info(reference_image)"
   ]
  },
  {
   "cell_type": "code",
   "execution_count": 6,
   "id": "interior-calibration",
   "metadata": {},
   "outputs": [],
   "source": [
    "# Define which folders to load\n",
    "obj_range = lrange(50002, 50017+1)"
   ]
  },
  {
   "cell_type": "code",
   "execution_count": 7,
   "id": "harmful-cement",
   "metadata": {},
   "outputs": [],
   "source": [
    "def idx2obj(idx):\n",
    "    # load obj => crop obj => resample2reference\n",
    "    # 10 MRs labelled by Dr. Hollon, need nii LPS=>RAS adjustment for the mask\n",
    "    ras_range = range(50455, 50464+1)\n",
    "    return resample2reference(*threshold_based_crop(*folder2objs(str(idx), train_data_dict, idx in ras_range)),\n",
    "                             reference_image, reference_center)"
   ]
  },
  {
   "cell_type": "markdown",
   "id": "laden-basement",
   "metadata": {},
   "source": [
    "### Align\n",
    "\n",
    "Align a sample of 10 pairs of images."
   ]
  },
  {
   "cell_type": "code",
   "execution_count": 13,
   "id": "weird-gallery",
   "metadata": {},
   "outputs": [
    {
     "name": "stdout",
     "output_type": "stream",
     "text": [
      "n_objs: 16\n",
      "n_pairs: 10\n"
     ]
    }
   ],
   "source": [
    "n_objs = len(obj_range)\n",
    "n_pairs = 10\n",
    "\n",
    "print(f\"n_objs: {n_objs}\")\n",
    "print(f\"n_pairs: {n_pairs}\")"
   ]
  },
  {
   "cell_type": "code",
   "execution_count": 15,
   "id": "thick-sullivan",
   "metadata": {},
   "outputs": [
    {
     "name": "stdout",
     "output_type": "stream",
     "text": [
      "120\n",
      "[(50002, 50003), (50002, 50004), (50002, 50005), (50002, 50006), (50002, 50007)]\n"
     ]
    }
   ],
   "source": [
    "from itertools import combinations\n",
    "idxs = list(combinations(obj_range,2))\n",
    "print(len(idxs))\n",
    "print(idxs[:5])"
   ]
  },
  {
   "cell_type": "code",
   "execution_count": 16,
   "id": "olive-benjamin",
   "metadata": {},
   "outputs": [],
   "source": [
    "from helpers_predict import atlas2pred"
   ]
  },
  {
   "cell_type": "code",
   "execution_count": 17,
   "id": "annoying-selection",
   "metadata": {},
   "outputs": [],
   "source": [
    "# from IPython.display import Javascript\n",
    "# display(Javascript('IPython.notebook.execute_cells_above()'))"
   ]
  },
  {
   "cell_type": "code",
   "execution_count": 18,
   "id": "matched-violence",
   "metadata": {},
   "outputs": [],
   "source": [
    "# store the img, mask arrs\n",
    "memo = {}\n",
    "\n",
    "def np2rs(arr, reference_frame = reference_frame):\n",
    "    # check\n",
    "    _, _, reference_origin, reference_spacing, reference_direction, _ = reference_frame\n",
    "    image = sitk.GetImageFromArray(arr)\n",
    "    image.SetOrigin(reference_origin)\n",
    "    image.SetSpacing(reference_spacing)\n",
    "    image.SetDirection(reference_direction)\n",
    "    return image\n",
    "\n",
    "# mask2bbox(sitk2np(atlas2pred(input_obj, atlas_obj, atlas_mask_obj)))\n",
    "def idxs2pred_memo_all(input_idx, atlas_idx):\n",
    "    \n",
    "    # objs = img_obj, mask_obj\n",
    "    \n",
    "    if input_idx in memo:\n",
    "        input_obj      = np2rs(memo[input_idx][0])\n",
    "        input_mask_obj = np2rs(memo[input_idx][1])\n",
    "    else:\n",
    "        input_obj, input_mask_obj = idx2obj(input_idx)        \n",
    "        # store (img arr, mask arr) in memo\n",
    "        memo[input_idx] = sitk.GetArrayFromImage(input_obj), \\\n",
    "                          sitk.GetArrayFromImage(input_mask_obj)\n",
    "        \n",
    "    if atlas_idx in memo:\n",
    "        atlas_obj      = np2rs(memo[atlas_idx][0])\n",
    "        atlas_mask_obj = np2rs(memo[atlas_idx][1])\n",
    "    else:\n",
    "        atlas_obj, atlas_mask_obj = idx2obj(atlas_idx)\n",
    "        memo[atlas_idx] = sitk.GetArrayFromImage(atlas_obj), \\\n",
    "                          sitk.GetArrayFromImage(atlas_mask_obj)\n",
    "    \n",
    "    # ground truth = input mask obj\n",
    "    gt_bbox   = mask2bbox(sitk2np(input_mask_obj))\n",
    "    \n",
    "    # predicted = atlas2pred mask obj\n",
    "    pred_mask_obj = atlas2pred(input_obj, atlas_obj, atlas_mask_obj)\n",
    "    pred_bbox = mask2bbox(sitk2np(pred_mask_obj))\n",
    "   \n",
    "    return pred_bbox, gt_bbox\n",
    "\n",
    "# mask2bbox(sitk2np(atlas2pred(input_obj, atlas_obj, atlas_mask_obj)))\n",
    "def idxs2pred_bbox(input_idx, atlas_idx):\n",
    "    \n",
    "    # objs = img_obj, mask_obj\n",
    "    input_obj, input_mask_obj = idx2obj(input_idx)  \n",
    "    atlas_obj, atlas_mask_obj = idx2obj(atlas_idx)\n",
    "    \n",
    "    # ground truth = input mask obj\n",
    "    gt_bbox   = mask2bbox(sitk2np(input_mask_obj))\n",
    "    \n",
    "    # predicted = atlas2pred mask obj\n",
    "    pred_mask_obj = atlas2pred(input_obj, atlas_obj, atlas_mask_obj)\n",
    "    pred_bbox = mask2bbox(sitk2np(pred_mask_obj))\n",
    "   \n",
    "    # store bbox's in memo\n",
    "    for idx,bbox in ((input_idx, gt_bbox), (atlas_idx, mask2bbox(sitk2np(atlas_mask_obj)))):\n",
    "        if idx not in memo: memo[idx] = bbox\n",
    "\n",
    "    memo[(input_idx, atlas_idx)] = pred_bbox\n",
    "    \n",
    "    return pred_bbox, gt_bbox"
   ]
  },
  {
   "cell_type": "code",
   "execution_count": 27,
   "id": "certified-bones",
   "metadata": {},
   "outputs": [],
   "source": [
    "# Full size: (191, 268, 268) \n",
    "# Half size: (85, 134, 134)\n",
    "\n",
    "imin_range = np.arange(10, 90, step=10)\n",
    "imax_range = np.arange(10, 90, step=10)\n",
    "\n",
    "jmin_range = np.arange(15, 125, step=10)\n",
    "jmax_range = np.arange(15, 125, step=10)\n",
    "\n",
    "kmin_range = np.arange(15,125, step=10)\n",
    "kmax_range = np.arange(15,125, step=10)"
   ]
  },
  {
   "cell_type": "code",
   "execution_count": 28,
   "id": "unavailable-prescription",
   "metadata": {},
   "outputs": [],
   "source": [
    "imin_range = np.arange(10, 50, step=20)\n",
    "imax_range = np.arange(10, 50, step=20)\n",
    "\n",
    "jmin_range = np.arange(15, 75, step=30)\n",
    "jmax_range = np.arange(15, 75, step=30)\n",
    "\n",
    "kmin_range = np.arange(15,75, step=30)\n",
    "kmax_range = np.arange(15,75, step=30)"
   ]
  },
  {
   "cell_type": "code",
   "execution_count": 29,
   "id": "behind-prairie",
   "metadata": {},
   "outputs": [
    {
     "name": "stdout",
     "output_type": "stream",
     "text": [
      "Len  2:  [10 30]\n",
      "Len  2:  [10 30]\n",
      "Len  2:  [15 45]\n",
      "Len  2:  [15 45]\n",
      "Len  2:  [15 45]\n",
      "Len  2:  [15 45]\n",
      "Total No. Parameter Combinations: 64.\n"
     ]
    }
   ],
   "source": [
    "pad_ranges = (imin_range, imax_range, jmin_range, jmax_range, kmin_range, kmax_range)\n",
    "for r in pad_ranges:\n",
    "    print(f\"Len {len(r):2}: \", r)\n",
    "\n",
    "from functools import reduce\n",
    "product = reduce((lambda x, y: x * y), [len(r) for r in pad_ranges])\n",
    "print(f\"Total No. Parameter Combinations: {product}.\")"
   ]
  },
  {
   "cell_type": "code",
   "execution_count": 30,
   "id": "lasting-indonesia",
   "metadata": {},
   "outputs": [],
   "source": [
    "# store the img, mask arrs\n",
    "csc_memo = {}\n",
    "csc_errors = {}\n",
    "\n",
    "def bbox2diff(gt_bbox, pred_bbox): \n",
    "    diff = (x1-x2 for x1,x2 in zip(gt_bbox, pred_bbox))\n",
    "    cols = \"delta_imin\", \"delta_imax\", \"delta_jmin\", \"delta_jmax\", \"delta_kmin\", \"delta_kmax\"\n",
    "    return dict(zip(cols, diff))\n",
    "\n",
    "def crop2roi(objs, bbox_coords, mult_factor=1):\n",
    "    \n",
    "    imin, imax, jmin, jmax, kmin, kmax = bbox_coords    \n",
    "    sizes = [sz*mult_factor for sz in (imax-imin, jmax-jmin, kmax-kmin)]\n",
    "    pads  = [halve(x) for x in sizes]\n",
    "    \n",
    "    # HACKY\n",
    "    #pads = [30, 70, 70]\n",
    "    \n",
    "    imin_pad, jmin_pad, kmin_pad = [max(0, m-pad) for m,pad in zip((imin, jmin, kmin), pads)]\n",
    "    imax_pad, jmax_pad, kmax_pad = [min(sz, m+pad) for m,pad,sz in zip((imax, jmax, kmax), pads, objs[0].GetSize())]\n",
    "    \n",
    "    \n",
    "    return      (*[o[imin_pad:imax_pad, jmin_pad:jmax_pad, kmin_pad:kmax_pad] for o in objs], \\\n",
    "                (imin_pad, imax_pad, jmin_pad, jmax_pad, kmin_pad, kmax_pad))\n",
    "\n",
    "# mask2bbox(sitk2np(atlas2pred(input_obj, atlas_obj, atlas_mask_obj)))\n",
    "def idxs2csc_bbox(input_idx, atlas_idx, pad_amts):\n",
    "    \n",
    "    # pad dict\n",
    "    pad_cols    = \"pad_imin\", \"pad_imax\", \"pad_jmin\", \"pad_jmax\", \"pad_kmin\", \"pad_kmax\"\n",
    "    pad_dict    = dict(zip(pad_cols, pad_amts)) \n",
    "    \n",
    "    print(\"Getting obj\")\n",
    "    \n",
    "    # objs = img_obj, mask_obj\n",
    "    input_obj, input_mask_obj = idx2obj(input_idx)  \n",
    "    atlas_obj, atlas_mask_obj = idx2obj(atlas_idx)\n",
    "    \n",
    "    print(\"Loaded obj\")\n",
    "    \n",
    "    # ground truth = input mask obj\n",
    "    gt_mask_arr   = sitk2np(input_mask_obj).astype(bool)\n",
    "    gt_bbox       = mask2bbox(gt_mask_arr)\n",
    "    \n",
    "    print(\"Getting pred\")\n",
    "    \n",
    "    # predicted = atlas2pred mask obj\n",
    "    pred_mask_arr = sitk2np(atlas2pred(input_obj, atlas_obj, atlas_mask_obj)).astype(bool)\n",
    "    pred_bbox     = mask2bbox(pred_mask_arr)\n",
    "    \n",
    "    # metric\n",
    "    align0_dice = compute_dice_coefficient(gt_mask_arr, pred_mask_arr)\n",
    "    \n",
    "    print(\"Starting csc\")\n",
    "    \n",
    "    # cascade: expand margin around pred_bbox\n",
    "    imin, imax, jmin, jmax, kmin, kmax = pred_bbox\n",
    "    imin_pad, imax_pad, jmin_pad, jmax_pad, kmin_pad, kmax_pad = pad_amts\n",
    "    \n",
    "    imin, jmin, kmin = [max(0, x-pad) for x,pad in zip((imin, jmin, kmin), (imin_pad, jmin_pad, kmin_pad))]\n",
    "    imax, jmax, kmax = [min(x-pad, shape) for x,pad,shape in zip((imin, jmin, kmin), \\\n",
    "                                                                 (imin_pad, jmin_pad, kmin_pad), \\\n",
    "                                                                 input_obj.GetSize())]\n",
    "                                                   \n",
    "    # cascade: re-align sub-brain (ROI + margin) region\n",
    "    csc = True\n",
    "    try:\n",
    "        csc_gt_mask_arr   = sitk2np(input_mask_obj[imin:imax, jmin:jmax, kmin:kmax]).astype(bool)   \n",
    "        csc_pred_mask_arr = sitk2np(atlas2pred(input_obj[imin:imax, jmin:jmax, kmin:kmax], \\\n",
    "                                                atlas_obj[imin:imax, jmin:jmax, kmin:kmax], \\\n",
    "                                                atlas_mask_obj[imin:imax, jmin:jmax, kmin:kmax])).astype(bool)\n",
    "        \n",
    "        print(\"End csc\")\n",
    "        \n",
    "        print(\"mask2bbox\")\n",
    "        csc_pred_bbox   = mask2bbox(pred_mask_arr)\n",
    "        csc_gt_bbox     = mask2bbox(csc_gt_mask_arr)\n",
    "        \n",
    "        # metric\n",
    "        align1_dice = compute_dice_coefficient(csc_gt_mask_arr, csc_pred_mask_arr)\n",
    "        \n",
    "    except:\n",
    "        print(\"Error\")\n",
    "        csc = False\n",
    "        \n",
    "        csc_pred_bbox = pred_bbox\n",
    "        csc_gt_bbox   = gt_bbox\n",
    "        align1_dice   = align0_dice\n",
    "        \n",
    "        # store error\n",
    "        if (input_idx, atlas_idx) in csc_errors:\n",
    "            csc_errors[(input_idx, atlas_idx)].append(pad_dict)\n",
    "        else:\n",
    "            csc_errors[(input_idx, atlas_idx)] = [pad_dict]\n",
    "\n",
    "   \n",
    "    print(\"Return row\")\n",
    "    \n",
    "    # store input idx, atlas idx, pad amts, bbox delta between gt and pred \n",
    "    return {\"input_idx\": input_idx, \"atlas_idx\": atlas_idx, \\\n",
    "            \"align0\": align0, \"align1\": align1, \"csc\": csc, \\\n",
    "            **pad_dict, **bbox2diff(csc_gt_bbox, csc_pred_bbox)}"
   ]
  },
  {
   "cell_type": "code",
   "execution_count": 33,
   "id": "demanding-click",
   "metadata": {},
   "outputs": [
    {
     "name": "stdout",
     "output_type": "stream",
     "text": [
      "Len  2:  [10 30]\n",
      "Len  2:  [10 30]\n",
      "Len  2:  [15 45]\n",
      "Len  2:  [15 45]\n",
      "Len  2:  [15 45]\n",
      "Len  2:  [15 45]\n",
      "Total No. Parameter Combinations: 64.\n"
     ]
    }
   ],
   "source": [
    "pad_ranges = (imin_range, imax_range, jmin_range, jmax_range, kmin_range, kmax_range)\n",
    "for r in pad_ranges:\n",
    "    print(f\"Len {len(r):2}: \", r)\n",
    "\n",
    "from functools import reduce\n",
    "product = reduce((lambda x, y: x * y), [len(r) for r in pad_ranges])\n",
    "print(f\"Total No. Parameter Combinations: {product}.\")"
   ]
  },
  {
   "cell_type": "code",
   "execution_count": 34,
   "id": "laden-rotation",
   "metadata": {},
   "outputs": [],
   "source": [
    "params = [(imin_pad, imax_pad, jmin_pad, jmax_pad, kmin_pad, kmax_pad) \\\n",
    "          for imin_pad in imin_range \\\n",
    "          for imax_pad in imax_range \\\n",
    "          for jmin_pad in jmin_range \\\n",
    "          for jmax_pad in jmax_range \\\n",
    "          for kmin_pad in kmin_range \\\n",
    "          for kmax_pad in kmax_range\n",
    "         ]"
   ]
  },
  {
   "cell_type": "code",
   "execution_count": 35,
   "id": "wooden-affair",
   "metadata": {},
   "outputs": [
    {
     "name": "stdout",
     "output_type": "stream",
     "text": [
      "Len params 64\n",
      "(10, 10, 15, 15, 15, 15)\n",
      "(10, 10, 15, 15, 15, 45)\n",
      "(10, 10, 15, 15, 45, 15)\n",
      "(10, 10, 15, 15, 45, 45)\n",
      "(10, 10, 15, 45, 15, 15)\n",
      "(10, 10, 15, 45, 15, 45)\n",
      "(10, 10, 15, 45, 45, 15)\n",
      "(10, 10, 15, 45, 45, 45)\n",
      "(10, 10, 45, 15, 15, 15)\n",
      "(10, 10, 45, 15, 15, 45)\n"
     ]
    }
   ],
   "source": [
    "print(f\"Len params {len(params)}\")\n",
    "print(*params[:10], sep=\"\\n\")"
   ]
  },
  {
   "cell_type": "code",
   "execution_count": 37,
   "id": "established-pathology",
   "metadata": {},
   "outputs": [
    {
     "name": "stdout",
     "output_type": "stream",
     "text": [
      "50002 50003 (10, 10, 15, 15, 15, 15)\n"
     ]
    }
   ],
   "source": [
    "# part 0\n",
    "\n",
    "input_idx, atlas_idx = idxs[0]\n",
    "pad_amts = params[0]\n",
    "\n",
    "print(\"INPUTS: \", input_idx, atlas_idx, pad_amts)"
   ]
  },
  {
   "cell_type": "code",
   "execution_count": null,
   "id": "compact-karaoke",
   "metadata": {},
   "outputs": [],
   "source": [
    "start = time.time()\n",
    "test = idxs2csc_bbox(input_idx, atlas_idx, pad_amts)\n",
    "elapsed = time.time() - start\n",
    "print(f\"Elapsed {elapsed}\")"
   ]
  }
 ],
 "metadata": {
  "kernelspec": {
   "display_name": "Python 3",
   "language": "python",
   "name": "python3"
  },
  "language_info": {
   "codemirror_mode": {
    "name": "ipython",
    "version": 3
   },
   "file_extension": ".py",
   "mimetype": "text/x-python",
   "name": "python",
   "nbconvert_exporter": "python",
   "pygments_lexer": "ipython3",
   "version": "3.8.5"
  },
  "toc-autonumbering": true,
  "toc-showcode": false,
  "toc-showmarkdowntxt": false
 },
 "nbformat": 4,
 "nbformat_minor": 5
}
