{
 "cells": [
  {
   "cell_type": "markdown",
   "id": "anticipated-milan",
   "metadata": {},
   "source": [
    "# Goal\n",
    "\n",
    "This notebook saves the full path to each MR series for each data folder in the hard drive.\n",
    "In addition, it saves the extensions encounted in each hard drive folder.\n",
    "\n",
    "Done:\n",
    "- ABIDE.txt (1160 files)\n",
    "- ABVIB.txt (778 files)\n",
    "- ACRIN-FMISO-Brain.txt (1403 files)\n",
    "- ADNI.txt (2640 files)\n",
    "- PPMI.txt (1524 files)"
   ]
  },
  {
   "cell_type": "code",
   "execution_count": 142,
   "id": "difficult-magnitude",
   "metadata": {},
   "outputs": [],
   "source": [
    "import os\n",
    "import time\n",
    "import pickle\n",
    "\n",
    "from pathlib import Path"
   ]
  },
  {
   "cell_type": "code",
   "execution_count": 21,
   "id": "assigned-riverside",
   "metadata": {},
   "outputs": [
    {
     "name": "stdout",
     "output_type": "stream",
     "text": [
      "._CPTAC-GBM\n",
      "._REMBRANDT\n",
      "._TCGA-GBM\n",
      "ABIDE\n",
      "ABVIB\n",
      "ABVIB (1).zip\n",
      "ACRIN-FMISO-Brain\n",
      "ADNI\n",
      "AIBL\n",
      "CPTAC-GBM\n",
      "ICMB\n",
      "LGG-1p19qDeletion\n",
      "Oasis_long\n",
      "PPMI\n",
      "REMBRANDT\n",
      "TCGA-GBM\n",
      "TCGA-LGG\n",
      "central.xnat.org\n"
     ]
    }
   ],
   "source": [
    "# wsl: /home/rgologorsky/DeepPit\n",
    "hd_path = \"../../../mnt/d/PitMRdata\"\n",
    "\n",
    "# folders in HD\n",
    "folders = os.listdir(hd_path)\n",
    "\n",
    "# print folders, alphabetically\n",
    "print(*sorted(folders), sep=\"\\n\")\n"
   ]
  },
  {
   "cell_type": "code",
   "execution_count": 109,
   "id": "necessary-technician",
   "metadata": {},
   "outputs": [],
   "source": [
    "# modified os.walk to stop at last subdir\n",
    "mr_paths = []\n",
    "def walk_to_series(top):\n",
    "    names = os.listdir(top)\n",
    "    subdirs = [name for name in names if os.path.isdir(os.path.join(top, name))]\n",
    "    \n",
    "    # terminal folder\n",
    "    if len(subdirs) == 0:\n",
    "        #print(\"terminal\", top)\n",
    "        mr_paths.append(top)\n",
    "        #yield top\n",
    "        \n",
    "    for subdir in subdirs:\n",
    "        newpath = os.path.join(top, subdir)\n",
    "        walk_to_series(newpath)\n",
    "#         for x in walk_to_series(newpath):\n",
    "#             yield x"
   ]
  },
  {
   "cell_type": "code",
   "execution_count": 138,
   "id": "registered-ministry",
   "metadata": {},
   "outputs": [
    {
     "data": {
      "text/plain": [
       "['PPMI']"
      ]
     },
     "execution_count": 138,
     "metadata": {},
     "output_type": "execute_result"
    }
   ],
   "source": [
    "path = \"PPMI\"\n",
    "os.listdir(f\"{hd_path}/{path}\")"
   ]
  },
  {
   "cell_type": "code",
   "execution_count": 139,
   "id": "gorgeous-savage",
   "metadata": {},
   "outputs": [
    {
     "name": "stdout",
     "output_type": "stream",
     "text": [
      "Elapsed: 1297.3338840007782 s for 1524 files.\n"
     ]
    }
   ],
   "source": [
    "# set path\n",
    "path = \"PPMI\"\n",
    "#os.listdir(f\"{hd_path}/{path}\")\n",
    "\n",
    "# start timer\n",
    "start = time.time() \n",
    "\n",
    "# reset\n",
    "mr_paths = []\n",
    "\n",
    "# get series paths\n",
    "walk_to_series(f\"{hd_path}/{path}\")\n",
    "\n",
    "# end timer\n",
    "elapsed = time.time() - start\n",
    "print(f\"Elapsed: {elapsed} s for {len(mr_paths)} files.\")\n",
    "\n",
    "# save results\n",
    "with open(f\"{path}.txt\", \"wb\") as fp:   #Pickling\n",
    "    pickle.dump(mr_paths, fp)"
   ]
  },
  {
   "cell_type": "code",
   "execution_count": 136,
   "id": "boxed-cornwall",
   "metadata": {},
   "outputs": [],
   "source": [
    "with open(f\"{path}.txt\", \"rb\") as fp:   # Unpickling\n",
    "    b = pickle.load(fp)"
   ]
  },
  {
   "cell_type": "code",
   "execution_count": 137,
   "id": "ready-advance",
   "metadata": {},
   "outputs": [
    {
     "data": {
      "text/plain": [
       "1160"
      ]
     },
     "execution_count": 137,
     "metadata": {},
     "output_type": "execute_result"
    }
   ],
   "source": [
    "len(b)"
   ]
  },
  {
   "cell_type": "code",
   "execution_count": 130,
   "id": "utility-problem",
   "metadata": {},
   "outputs": [
    {
     "name": "stdout",
     "output_type": "stream",
     "text": [
      "../../../mnt/d/PitMRdata/ADNI/ADNI1_Annual_2_Yr_3T/002_S_0413/MPR____N3__Scaled/2006-05-19_16_17_47.0/S14782\n",
      "../../../mnt/d/PitMRdata/ADNI/ADNI1_Annual_2_Yr_3T/002_S_0413/MPR____N3__Scaled/2007-06-01_07_57_43.0/S32945\n",
      "../../../mnt/d/PitMRdata/ADNI/ADNI1_Annual_2_Yr_3T/002_S_0413/MPR____N3__Scaled/2008-07-31_09_17_17.0/S54597\n",
      "../../../mnt/d/PitMRdata/ADNI/ADNI1_Annual_2_Yr_3T/002_S_0413/MPR____N3__Scaled_2/2006-05-19_16_17_47.0/S14782\n",
      "../../../mnt/d/PitMRdata/ADNI/ADNI1_Annual_2_Yr_3T/002_S_0559/MPR-R____N3__Scaled/2007-10-18_17_06_13.0/S41825\n",
      "../../../mnt/d/PitMRdata/ADNI/ADNI1_Annual_2_Yr_3T/002_S_0559/MPR____N3__Scaled/2006-06-27_18_28_33.0/S15922\n",
      "../../../mnt/d/PitMRdata/ADNI/ADNI1_Annual_2_Yr_3T/002_S_0559/MPR____N3__Scaled/2008-08-15_17_03_28.0/S55646\n",
      "../../../mnt/d/PitMRdata/ADNI/ADNI1_Annual_2_Yr_3T/002_S_0559/MPR____N3__Scaled_2/2006-06-27_18_28_33.0/S15922\n",
      "../../../mnt/d/PitMRdata/ADNI/ADNI1_Annual_2_Yr_3T/002_S_0729/MPR____N3__Scaled/2006-08-02_07_02_00.0/S17535\n",
      "../../../mnt/d/PitMRdata/ADNI/ADNI1_Annual_2_Yr_3T/002_S_0729/MPR____N3__Scaled/2007-09-05_07_54_56.0/S38913\n"
     ]
    }
   ],
   "source": [
    "print(*sorted(b)[:10], sep=\"\\n\")"
   ]
  },
  {
   "cell_type": "markdown",
   "id": "opening-smoke",
   "metadata": {},
   "source": [
    "# Extensions"
   ]
  },
  {
   "cell_type": "code",
   "execution_count": 141,
   "id": "announced-honolulu",
   "metadata": {},
   "outputs": [],
   "source": [
    "# get extension\n",
    "# assume all files in dir have same extension\n",
    "\n",
    "def get_ext(dir_path):\n",
    "    # assume all files in dir have same extension\n",
    "    file = next(os.walk(dir_path))[2][0]\n",
    "    return Path(file).suffix.lower()"
   ]
  },
  {
   "cell_type": "code",
   "execution_count": 144,
   "id": "seventh-potato",
   "metadata": {},
   "outputs": [],
   "source": [
    "def write_ext(path):\n",
    "\n",
    "    # load path lists\n",
    "    with open(f\"{path}.txt\", \"rb\") as fp:   # Unpickling\n",
    "        mr_paths = pickle.load(fp)\n",
    "\n",
    "    # start timer\n",
    "    start = time.time() \n",
    "\n",
    "    # get extensions\n",
    "    exts = set(get_ext(path) for path in mr_paths)\n",
    "\n",
    "    # end timer\n",
    "    elapsed = time.time() - start\n",
    "\n",
    "    print(f\"{path}: Elapsed {elapsed:.2f} s for {len(exts)} file type(s) = {exts}.\")\n",
    "\n",
    "    # save results\n",
    "    with open(f\"{path}-exts.txt\", \"wb\") as fp:   #Pickling\n",
    "        pickle.dump(exts, fp)"
   ]
  },
  {
   "cell_type": "code",
   "execution_count": null,
   "id": "acquired-closing",
   "metadata": {},
   "outputs": [],
   "source": [
    "# ABIDE.txt (1160 files)\n",
    "# ABVIB.txt (778 files)\n",
    "# ACRIN-FMISO-Brain.txt (1403 files)\n",
    "# ADNI.txt (2640 files)\n",
    "# PPMI.txt (1524 files)"
   ]
  },
  {
   "cell_type": "code",
   "execution_count": 145,
   "id": "hundred-disposal",
   "metadata": {},
   "outputs": [
    {
     "name": "stdout",
     "output_type": "stream",
     "text": [
      "ABIDE: Elapsed 22.79 s for 2 file type(s) = {'.img', '.nii'}.\n",
      "ABVIB: Elapsed 21.42 s for 1 file type(s) = {'.dcm'}.\n",
      "ACRIN-FMISO-Brain: Elapsed 25.91 s for 1 file type(s) = {'.dcm'}.\n",
      "ADNI: Elapsed 15.59 s for 1 file type(s) = {'.nii'}.\n",
      "PPMI: Elapsed 16.15 s for 1 file type(s) = {'.dcm'}.\n"
     ]
    }
   ],
   "source": [
    "data_folders = [\"ABIDE\", \"ABVIB\", \"ACRIN-FMISO-Brain\", \"ADNI\", \"PPMI\"]\n",
    "\n",
    "for path in data_folders:\n",
    "    write_ext(path)"
   ]
  },
  {
   "cell_type": "markdown",
   "id": "lesbian-irrigation",
   "metadata": {},
   "source": [
    "# 1. ABIDE"
   ]
  },
  {
   "cell_type": "code",
   "execution_count": 140,
   "id": "dominant-riding",
   "metadata": {},
   "outputs": [
    {
     "name": "stdout",
     "output_type": "stream",
     "text": [
      "1160\n"
     ]
    }
   ],
   "source": [
    "with open(f\"ABIDE.txt\", \"rb\") as fp:   # Unpickling\n",
    "    b = pickle.load(fp)\n",
    "    print(len(b))"
   ]
  },
  {
   "cell_type": "markdown",
   "id": "worse-debut",
   "metadata": {},
   "source": [
    "# 2. ABVIB\n",
    "\n",
    "Notes: \n",
    "- multiple series per patient\n",
    "    - D:\\PitMRdata\\ABVIB\\ABVIB\\129\\t2w_3d_1mm"
   ]
  },
  {
   "cell_type": "code",
   "execution_count": 132,
   "id": "studied-thickness",
   "metadata": {},
   "outputs": [
    {
     "name": "stdout",
     "output_type": "stream",
     "text": [
      "778\n"
     ]
    }
   ],
   "source": [
    "with open(f\"ABVIB.txt\", \"rb\") as fp:   # Unpickling\n",
    "    b = pickle.load(fp)\n",
    "    print(len(b))"
   ]
  },
  {
   "cell_type": "markdown",
   "id": "international-filling",
   "metadata": {},
   "source": [
    "# 3. ACRIN-FMISO-Brain"
   ]
  },
  {
   "cell_type": "code",
   "execution_count": 133,
   "id": "expensive-criticism",
   "metadata": {},
   "outputs": [
    {
     "name": "stdout",
     "output_type": "stream",
     "text": [
      "1403\n"
     ]
    }
   ],
   "source": [
    "with open(f\"ACRIN-FMISO-Brain.txt\", \"rb\") as fp:   # Unpickling\n",
    "    b = pickle.load(fp)\n",
    "    print(len(b))"
   ]
  },
  {
   "cell_type": "code",
   "execution_count": null,
   "id": "nuclear-quick",
   "metadata": {},
   "outputs": [],
   "source": []
  }
 ],
 "metadata": {
  "kernelspec": {
   "display_name": "Python 3",
   "language": "python",
   "name": "python3"
  },
  "language_info": {
   "codemirror_mode": {
    "name": "ipython",
    "version": 3
   },
   "file_extension": ".py",
   "mimetype": "text/x-python",
   "name": "python",
   "nbconvert_exporter": "python",
   "pygments_lexer": "ipython3",
   "version": "3.7.4"
  }
 },
 "nbformat": 4,
 "nbformat_minor": 5
}
