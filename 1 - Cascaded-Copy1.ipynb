{
 "cells": [
  {
   "cell_type": "markdown",
   "id": "tired-insight",
   "metadata": {},
   "source": [
    "One-paragraph abstract (150 words or less, in a Word file)  \n",
    "Digital headshot (high-resolution JPG preferred)  \n",
    "Letter of tax determination from your institution  \n",
    "W-9 Form from your institution \n"
   ]
  },
  {
   "cell_type": "markdown",
   "id": "funny-meaning",
   "metadata": {},
   "source": [
    "# Imports"
   ]
  },
  {
   "cell_type": "code",
   "execution_count": 19,
   "id": "actual-invalid",
   "metadata": {},
   "outputs": [],
   "source": [
    "# imports\n",
    "\n",
    "import os, sys\n",
    "import numpy as np\n",
    "import SimpleITK as sitk\n",
    "\n",
    "from helpers_general import sitk2np, np2sitk, print_sitk_info, round_tuple, lrange, get_roi_range, numbers2groups\n",
    "from helpers_preprocess import mask2bbox, print_bbox, get_bbox_size, print_bbox_size, get_data_dict, folder2objs\n",
    "from helpers_metrics import compute_dice_coefficient, compute_coverage_coefficient\n",
    "from helpers_viz import viz_axis"
   ]
  },
  {
   "cell_type": "code",
   "execution_count": 14,
   "id": "sufficient-entertainment",
   "metadata": {},
   "outputs": [
    {
     "name": "stdout",
     "output_type": "stream",
     "text": [
      "The autoreload extension is already loaded. To reload it, use:\n",
      "  %reload_ext autoreload\n"
     ]
    }
   ],
   "source": [
    "# auto-reload when local helper fns change\n",
    "%load_ext autoreload\n",
    "%autoreload 2\n",
    "\n",
    "%matplotlib inline"
   ]
  },
  {
   "cell_type": "markdown",
   "id": "detected-writing",
   "metadata": {},
   "source": [
    "# Load Data"
   ]
  },
  {
   "cell_type": "code",
   "execution_count": 3,
   "id": "common-kinase",
   "metadata": {},
   "outputs": [
    {
     "name": "stdout",
     "output_type": "stream",
     "text": [
      "Train data folders: [range(50002, 50017), range(50019, 50020), range(50022, 50049), range(50455, 50464)]\n",
      "Training data: key = train folder, value = full path to (segm obj, nii file)\n",
      "\n"
     ]
    }
   ],
   "source": [
    "PROJ_PATH = \".\"\n",
    "\n",
    "# Folders containing MR train data\n",
    "train_path = f\"{PROJ_PATH}/train_data/train_data\"\n",
    "train_data_dict = get_data_dict(train_path)\n",
    "\n",
    "# print train data dict\n",
    "print(f\"Train data folders: {numbers2groups(sorted([int(x) for x in os.listdir(train_path)]))}\")\n",
    "print(f\"Training data: key = train folder, value = full path to (segm obj, nii file)\\n\")"
   ]
  },
  {
   "cell_type": "markdown",
   "id": "fabulous-forward",
   "metadata": {},
   "source": [
    "### Load Atlas\n"
   ]
  },
  {
   "cell_type": "code",
   "execution_count": 16,
   "id": "unusual-latvia",
   "metadata": {},
   "outputs": [],
   "source": [
    "# set atlas MRs (10 MRs labelled by Dr. Hollon, need nii LPS=>RAS adjustment)\n",
    "\n",
    "atlas_range, ras_adj = [50460], True\n",
    "atlas_folders = [str(i) for i in atlas_range]\n",
    "atlas_objs, atlas_mask_objs = zip(*[folder2objs(atlas_folder, train_data_dict, ras_adj) \\\n",
    "                               for atlas_folder in atlas_folders])"
   ]
  },
  {
   "cell_type": "markdown",
   "id": "unlikely-stress",
   "metadata": {},
   "source": [
    "### Load Input\n",
    "\n",
    "Samir folders: range(50002, 50017), range(50019, 50020), range(50022, 50049)"
   ]
  },
  {
   "cell_type": "code",
   "execution_count": 17,
   "id": "proud-jacksonville",
   "metadata": {},
   "outputs": [],
   "source": [
    "# set input MRs (Samir's, no RAS adj needed for mask)\n",
    "\n",
    "input_range, ras_adj = [50012], False\n",
    "input_folders = [str(i) for i in input_range]\n",
    "input_objs, input_mask_objs = zip(*[folder2objs(input_folder, train_data_dict, ras_adj) \\\n",
    "                               for input_folder in input_folders])"
   ]
  },
  {
   "cell_type": "markdown",
   "id": "ready-dynamics",
   "metadata": {},
   "source": [
    "### Compare metadata"
   ]
  },
  {
   "cell_type": "code",
   "execution_count": 26,
   "id": "acquired-theology",
   "metadata": {},
   "outputs": [
    {
     "name": "stdout",
     "output_type": "stream",
     "text": [
      "Input MR\n",
      "Size:  (176, 256, 256)\n",
      "Origin:  (-87.51664733886719, 132.53253173828125, -127.22270202636719)\n",
      "Spacing:  (1.0500000715255737, 1.05078125, 1.05078125)\n",
      "Direction:  (1.0, 0.0, 0.0, 0.0, -1.0, 0.0, 0.0, 0.0, 1.0)\n",
      "Pixel type: 2 = 16-bit signed integer\n",
      "\n",
      "Atlas MR\n",
      "Size:  (160, 480, 512)\n",
      "Origin:  (-95.70238494873047, 77.71624755859375, -118.06993103027344)\n",
      "Spacing:  (1.2000000476837158, 0.5, 0.5)\n",
      "Direction:  (1.0, 0.0, 0.0, 0.0, -1.0, 0.0, 0.0, 0.0, 1.0)\n",
      "Pixel type: 2 = 16-bit signed integer\n"
     ]
    }
   ],
   "source": [
    "print(\"Input MR\"); print_sitk_info(input_objs[0]), print();\n",
    "print(\"Atlas MR\"); print_sitk_info(atlas_objs[0]);"
   ]
  },
  {
   "cell_type": "markdown",
   "id": "incredible-trailer",
   "metadata": {},
   "source": [
    "### Resample to Standard Reference Domain"
   ]
  },
  {
   "cell_type": "code",
   "execution_count": 57,
   "id": "corresponding-virus",
   "metadata": {},
   "outputs": [],
   "source": [
    "# src: https://github.com/SimpleITK/ISBI2018_TUTORIAL/blob/master/python/03_data_augmentation.ipynb\n",
    "\n",
    "dimension = 3 # 3D MRs\n",
    "pixel_id = 2 # 16-bit signed integer\n",
    "\n",
    "# Physical image size corresponds to the largest physical size in the training set, or any other arbitrary size.\n",
    "reference_physical_size = np.zeros(dimension)\n",
    "\n",
    "img_data = [(o.GetSize(), o.GetSpacing()) for o in (atlas_objs[0], input_objs[0])]\n",
    "for img_sz, img_spc in img_data:\n",
    "    reference_physical_size[:] = [(sz-1)*spc if sz*spc>mx else mx \\\n",
    "                                  for sz, spc, mx in zip(img_sz, img_spc, reference_physical_size)]\n",
    "    \n",
    "# Create the reference image with a zero origin, identity direction cosine matrix and dimension     \n",
    "reference_origin = np.zeros(dimension)\n",
    "reference_direction = np.identity(dimension).flatten()\n",
    "\n",
    "\n",
    "# Isotropic (1,1,1) pixels\n",
    "reference_spacing = np.ones(dimension)\n",
    "reference_size = [int(phys_sz/(spc) + 1) for phys_sz,spc in zip(reference_physical_size, reference_spacing)]\n",
    "\n",
    "# Set reference image attributes\n",
    "reference_image = sitk.Image(reference_size, pixel_id)\n",
    "reference_image.SetOrigin(reference_origin)\n",
    "reference_image.SetSpacing(reference_spacing)\n",
    "reference_image.SetDirection(reference_direction)"
   ]
  },
  {
   "cell_type": "code",
   "execution_count": 60,
   "id": "marine-singles",
   "metadata": {},
   "outputs": [],
   "source": [
    "def resample(arr, interpolator = sitk.sitkLinear, default_intensity_value = 0):\n",
    "    return [sitk.Resample(img, reference_image, sitk.Transform(), interpolator, default_intensity_value) for img in arr]\n",
    "\n",
    "atlas_objs, atlas_mask_objs = resample(atlas_objs), resample(atlas_mask_objs)\n",
    "input_objs, input_mask_objs = resample(input_objs), resample(input_mask_objs)"
   ]
  },
  {
   "cell_type": "code",
   "execution_count": 62,
   "id": "vocational-fighter",
   "metadata": {},
   "outputs": [
    {
     "name": "stdout",
     "output_type": "stream",
     "text": [
      "Input\n",
      "Size:  (191, 268, 268)\n",
      "Origin:  (0.0, 0.0, 0.0)\n",
      "Spacing:  (1.0, 1.0, 1.0)\n",
      "Direction:  (1.0, 0.0, 0.0, 0.0, 1.0, 0.0, 0.0, 0.0, 1.0)\n",
      "Pixel type: 2 = 16-bit signed integer\n",
      "\n",
      "Atlas\n",
      "Size:  (191, 268, 268)\n",
      "Origin:  (0.0, 0.0, 0.0)\n",
      "Spacing:  (1.0, 1.0, 1.0)\n",
      "Direction:  (1.0, 0.0, 0.0, 0.0, 1.0, 0.0, 0.0, 0.0, 1.0)\n",
      "Pixel type: 2 = 16-bit signed integer\n"
     ]
    }
   ],
   "source": [
    "print(\"Input\"); print_sitk_info(input_objs[0]); print();\n",
    "print(\"Atlas\"); print_sitk_info(atlas_objs[0]);"
   ]
  },
  {
   "cell_type": "markdown",
   "id": "prompt-animation",
   "metadata": {},
   "source": [
    "# Crop to same shape\n",
    "\n",
    "- Input: 185 x 269 x 269\n",
    "- Atlas: 192 x 240 x 256\n",
    "\n",
    "In sagittal view, the last two dims determine \n",
    "- how much of the right side of the image is retained and \n",
    "- how much the top of the image is retained.\n",
    "\n",
    "IMPORTANT:\n",
    "- Cropping the input to 185 x 240 x 256 retains important structures. \n",
    "- Also does not affect bbox coordinates"
   ]
  },
  {
   "cell_type": "code",
   "execution_count": null,
   "id": "latest-announcement",
   "metadata": {},
   "outputs": [],
   "source": [
    "print_info(input_objs[0])\n",
    "print_info(atlas_objs[0])"
   ]
  },
  {
   "cell_type": "code",
   "execution_count": null,
   "id": "broken-bracket",
   "metadata": {},
   "outputs": [],
   "source": [
    "atlas_size = atlas_objs[0].GetSize()\n",
    "input_size = input_objs[0].GetSize()\n",
    "print(atlas_size, input_size)"
   ]
  },
  {
   "cell_type": "code",
   "execution_count": null,
   "id": "varied-jewelry",
   "metadata": {},
   "outputs": [],
   "source": [
    "shape0, shape1, shape2 = (min(atlas_d, input_d) for atlas_d, input_d in zip(atlas_size, input_size))\n",
    "print(shape0, shape1, shape2)"
   ]
  },
  {
   "cell_type": "code",
   "execution_count": null,
   "id": "temporal-michigan",
   "metadata": {},
   "outputs": [],
   "source": [
    "window = np.s_[0:shape0, 0:shape1, -shape2:]"
   ]
  },
  {
   "cell_type": "code",
   "execution_count": null,
   "id": "welcome-planet",
   "metadata": {},
   "outputs": [],
   "source": [
    "atlas_objs      = [o[window]  for o in atlas_objs]\n",
    "atlas_mask_objs = [o[window]  for o in atlas_mask_objs]\n",
    "\n",
    "input_objs      = [o[window]  for o in input_objs]\n",
    "input_mask_objs = [o[window]  for o in input_mask_objs]"
   ]
  },
  {
   "cell_type": "code",
   "execution_count": null,
   "id": "female-slovak",
   "metadata": {},
   "outputs": [],
   "source": [
    "print_info(input_objs[0])\n",
    "print_info(atlas_objs[0])"
   ]
  },
  {
   "cell_type": "code",
   "execution_count": null,
   "id": "derived-population",
   "metadata": {},
   "outputs": [],
   "source": [
    "atlas_arrs      = [sitk2np(o) for o in atlas_objs]\n",
    "atlas_mask_arrs = [sitk2np(o) for o in atlas_mask_objs]\n",
    "\n",
    "input_arrs      = [sitk2np(o) for o in input_objs]\n",
    "input_mask_arrs = [sitk2np(o) for o in input_mask_objs]"
   ]
  },
  {
   "cell_type": "code",
   "execution_count": null,
   "id": "saved-marsh",
   "metadata": {},
   "outputs": [],
   "source": [
    "input_arrs[0].shape, atlas_arrs[0].shape"
   ]
  },
  {
   "cell_type": "code",
   "execution_count": null,
   "id": "linear-alpha",
   "metadata": {},
   "outputs": [],
   "source": [
    "# Viz\n",
    "index = 0\n",
    "slice_range = lrange(80,85)\n",
    "\n",
    "viz_axis(input_arrs[index], \\\n",
    "        bin_mask_arr  = input_mask_arrs[index], color1 = \"yellow\", alpha1=0.3, \\\n",
    "        bin_mask_arr2 = atlas_mask_arrs[index], color2 = \"blue\", alpha2=0.3,\n",
    "        slices=slice_range, fixed_axis=0, \\\n",
    "        axis_fn = np.rot90, \\\n",
    "        grid = [1, 5], hspace=0.3, fig_mult=2)"
   ]
  },
  {
   "cell_type": "markdown",
   "id": "round-medicaid",
   "metadata": {},
   "source": [
    "Original dice"
   ]
  },
  {
   "cell_type": "code",
   "execution_count": null,
   "id": "vocal-bradford",
   "metadata": {},
   "outputs": [],
   "source": [
    "orig_dice = compute_dice_coefficient(input_mask_arrs[index], atlas_mask_arrs[index])\n",
    "print(f\"Unaligned dice: {orig_dice:.3f}\")"
   ]
  },
  {
   "cell_type": "markdown",
   "id": "intense-merchant",
   "metadata": {},
   "source": [
    "Align"
   ]
  },
  {
   "cell_type": "code",
   "execution_count": null,
   "id": "sunrise-string",
   "metadata": {},
   "outputs": [],
   "source": [
    "# set moving and fixed images (resample moving=>fixed using T:fixed=>moving)\n",
    "fixed_obj = input_objs[0]\n",
    "moving_obj = atlas_objs[0]"
   ]
  },
  {
   "cell_type": "code",
   "execution_count": null,
   "id": "second-kernel",
   "metadata": {},
   "outputs": [],
   "source": [
    "elastixImageFilter = sitk.ElastixImageFilter()\n",
    "elastixImageFilter.SetFixedImage(fixed_obj)\n",
    "elastixImageFilter.SetMovingImage(moving_obj)\n",
    "\n",
    "# set parameter map\n",
    "param_folder = \"ElastixParamFiles\"\n",
    "param_files = [\"affine.txt\"]\n",
    "\n",
    "parameterMapVector = sitk.VectorOfParameterMap()\n",
    "for param_file in param_files:\n",
    "    parameterMapVector.append(sitk.ReadParameterFile(f\"{param_folder}/{param_file}\"))\n",
    "elastixImageFilter.SetParameterMap(parameterMapVector)"
   ]
  },
  {
   "cell_type": "code",
   "execution_count": null,
   "id": "painful-batman",
   "metadata": {},
   "outputs": [],
   "source": [
    "# Execute alignment\n",
    "#elastixImageFilter.SetLogToConsole(False)\n",
    "elastixImageFilter.Execute()"
   ]
  },
  {
   "cell_type": "code",
   "execution_count": null,
   "id": "processed-tiger",
   "metadata": {},
   "outputs": [],
   "source": [
    "res_img = elastixImageFilter.GetResultImage()"
   ]
  },
  {
   "cell_type": "code",
   "execution_count": null,
   "id": "anonymous-belize",
   "metadata": {
    "scrolled": true
   },
   "outputs": [],
   "source": [
    "res_img = sitk.Cast(res_img, sitk.sitkInt16)"
   ]
  },
  {
   "cell_type": "markdown",
   "id": "general-ghost",
   "metadata": {},
   "source": [
    "Resample same physiscal space"
   ]
  },
  {
   "cell_type": "code",
   "execution_count": null,
   "id": "asian-spelling",
   "metadata": {},
   "outputs": [],
   "source": []
  },
  {
   "cell_type": "code",
   "execution_count": null,
   "id": "elementary-middle",
   "metadata": {},
   "outputs": [],
   "source": [
    "res_img.GetSize(), moving_obj.GetSize(), fixed_obj.GetSize()"
   ]
  },
  {
   "cell_type": "code",
   "execution_count": null,
   "id": "binary-league",
   "metadata": {},
   "outputs": [],
   "source": [
    "def print_info(image):    \n",
    "    print(\"Size: \", image.GetSize())\n",
    "    print(\"Origin: \", image.GetOrigin())\n",
    "    print(\"Spacing: \", image.GetSpacing())\n",
    "    print(\"Direction: \", image.GetDirection())\n",
    "    print(f\"Pixel type: {image.GetPixelIDValue()} = {image.GetPixelIDTypeAsString()}\")"
   ]
  },
  {
   "cell_type": "code",
   "execution_count": null,
   "id": "competent-affiliation",
   "metadata": {},
   "outputs": [],
   "source": [
    "#print_info(res_img), print_info(moving_obj), print_info(fixed_obj)\n",
    "\n",
    "print(\"Input\"), print_info(input_objs[0])\n",
    "print(\"Atlas\"), print_info(atlas_objs[0])\n",
    "print(\"Res\"), print_info(res_img)"
   ]
  },
  {
   "cell_type": "code",
   "execution_count": null,
   "id": "exciting-welding",
   "metadata": {},
   "outputs": [],
   "source": [
    "simg1 = fixed_obj\n",
    "simg2 = res_img\n",
    "cimg = sitk.Cast(sitk.Compose(simg1, 0.5*simg1+0.5*simg2, simg2), sitk.sitkVectorUInt8)"
   ]
  },
  {
   "cell_type": "code",
   "execution_count": null,
   "id": "empirical-harbor",
   "metadata": {},
   "outputs": [],
   "source": [
    "carr = sitk2np(cimg)"
   ]
  },
  {
   "cell_type": "code",
   "execution_count": null,
   "id": "wrong-coaching",
   "metadata": {},
   "outputs": [],
   "source": [
    "carr.shape"
   ]
  },
  {
   "cell_type": "code",
   "execution_count": null,
   "id": "celtic-disclosure",
   "metadata": {},
   "outputs": [],
   "source": [
    "import matplotlib.pyplot as plt\n",
    "plt.imshow(np.rot90(carr[80,:,:,:]))"
   ]
  },
  {
   "cell_type": "code",
   "execution_count": null,
   "id": "asian-hotel",
   "metadata": {},
   "outputs": [],
   "source": [
    "# original\n",
    "\n",
    "orig_res_img = sitk.Resample(moving_obj, fixed_obj.GetSize(), sitk.Transform(), sitk.sitkLinear,\n",
    "                         fixed_obj.GetOrigin(), fixed_obj.GetSpacing(), fixed_obj.GetDirection(), 0,\n",
    "                         fixed_obj.GetPixelID())"
   ]
  },
  {
   "cell_type": "code",
   "execution_count": null,
   "id": "august-birth",
   "metadata": {},
   "outputs": [],
   "source": [
    "osimg2 = orig_res_img\n",
    "ocimg = sitk.Cast(sitk.Compose(simg1, 0.5*simg1+0.5*osimg2, osimg2), sitk.sitkVectorUInt8)"
   ]
  },
  {
   "cell_type": "code",
   "execution_count": null,
   "id": "thirty-cornell",
   "metadata": {},
   "outputs": [],
   "source": [
    "ocarr = sitk2np(ocimg)"
   ]
  },
  {
   "cell_type": "code",
   "execution_count": null,
   "id": "supposed-participation",
   "metadata": {},
   "outputs": [],
   "source": [
    "plt.imshow(np.rot90(ocarr[80,:,:,:]))"
   ]
  },
  {
   "cell_type": "markdown",
   "id": "ultimate-verification",
   "metadata": {},
   "source": [
    "Get new dice"
   ]
  },
  {
   "cell_type": "code",
   "execution_count": null,
   "id": "promising-laugh",
   "metadata": {},
   "outputs": [],
   "source": [
    "moving_mask_obj = atlas_mask_objs[0]"
   ]
  },
  {
   "cell_type": "code",
   "execution_count": null,
   "id": "planned-acceptance",
   "metadata": {},
   "outputs": [],
   "source": [
    "# MAP MOVING (ATLAS BINARY ROI) ONTO FIXED (INPUT) \n",
    "\n",
    "# set moving image (atlas)                                                    \n",
    "transformixImageFilter = sitk.TransformixImageFilter()\n",
    "transformixImageFilter.SetMovingImage(moving_mask_obj)\n",
    "\n",
    "# set parameter map (Binary mask => nearest neighbor final interpolation)\n",
    "transformedParameterMapVector = elastixImageFilter.GetTransformParameterMap()\n",
    "transformedParameterMapVector[-1][\"ResampleInterpolator\"] = [\"FinalNearestNeighborInterpolator\"]\n",
    "transformixImageFilter.SetTransformParameterMap(transformedParameterMapVector)\n",
    "\n",
    "# Execute transformation\n",
    "transformixImageFilter.Execute()\n",
    "\n",
    "pred_mask_obj = transformixImageFilter.GetResultImage()"
   ]
  },
  {
   "cell_type": "code",
   "execution_count": null,
   "id": "angry-domestic",
   "metadata": {},
   "outputs": [],
   "source": [
    "pred_dice = compute_dice_coefficient(sitk2np(pred_mask_obj).astype(bool), input_mask_arrs[0].astype(bool))\n",
    "print(f\"Pred dice: {pred_dice:.3f}\")"
   ]
  },
  {
   "cell_type": "code",
   "execution_count": null,
   "id": "classified-ceremony",
   "metadata": {},
   "outputs": [],
   "source": [
    "# Viz\n",
    "index = 0\n",
    "slice_range = lrange(80,85)\n",
    "\n",
    "viz_axis(cimg, \\\n",
    "#         bin_mask_arr  = input_mask_arrs[index], color1 = \"yellow\", alpha1=0.3, \\\n",
    "#         bin_mask_arr2 = atlas_mask_arrs[index], color2 = \"blue\", alpha2=0.3,\n",
    "        slices=slice_range, fixed_axis=0, \\\n",
    "        axis_fn = np.rot90, \\\n",
    "        grid = [1, 5], hspace=0.3, fig_mult=2)"
   ]
  },
  {
   "cell_type": "code",
   "execution_count": null,
   "id": "focal-trader",
   "metadata": {},
   "outputs": [],
   "source": [
    "im\n",
    "plt.imshow(sitk.GetArrayViewFromImage(cimg))"
   ]
  },
  {
   "cell_type": "code",
   "execution_count": null,
   "id": "governmental-certification",
   "metadata": {},
   "outputs": [],
   "source": [
    "simg1 = moving_obj\n",
    "simg2 = fixed_obj\n",
    "cimg = sitk.Compose(simg1, simg2, simg1 // 2. + simg2 // 2.)"
   ]
  },
  {
   "cell_type": "code",
   "execution_count": null,
   "id": "wicked-savings",
   "metadata": {},
   "outputs": [],
   "source": [
    "simg1 = res_img\n",
    "simg2 = fixed_obj\n",
    "cimg = sitk.Compose(simg1, simg2, simg1 // 2. + simg2 // 2.)"
   ]
  },
  {
   "cell_type": "code",
   "execution_count": null,
   "id": "adverse-praise",
   "metadata": {},
   "outputs": [],
   "source": [
    "#selx.SetLogToConsole(False)\n",
    "\n",
    "def align(fixed_obj, moving_obj, param_folder = \"ElastixParamFiles\", param_files = [\"affine.txt\"]):\n",
    "    \n",
    "    # ALIGN ATLAS AND INPUT IMAGE\n",
    "    \n",
    "    # set moving and fixed images (resample moving=>fixed using T:fixed=>moving)\n",
    "    elastixImageFilter = sitk.ElastixImageFilter()\n",
    "    elastixImageFilter.SetFixedImage(fixed_obj)\n",
    "    elastixImageFilter.SetMovingImage(moving_obj)\n",
    "    \n",
    "    # set parameter map\n",
    "    parameterMapVector = sitk.VectorOfParameterMap()\n",
    "    for param_file in param_files:\n",
    "        parameterMapVector.append(sitk.ReadParameterFile(f\"{param_folder}/{param_file}\"))\n",
    "    elastixImageFilter.SetParameterMap(parameterMapVector)\n",
    "\n",
    "    # Execute alignment\n",
    "    #elastixImageFilter.SetLogToConsole(False)\n",
    "    elastixImageFilter.Execute()\n",
    "\n",
    "    # MAP MOVING (ATLAS BINARY ROI) ONTO FIXED (INPUT) \n",
    "\n",
    "    # set moving image (atlas)                                                    \n",
    "    transformixImageFilter = sitk.TransformixImageFilter()\n",
    "    transformixImageFilter.SetMovingImage(moving_mask_obj)\n",
    "                    \n",
    "    # set parameter map (Binary mask => nearest neighbor final interpolation)\n",
    "    transformedParameterMapVector = elastixImageFilter.GetTransformParameterMap()\n",
    "    transformedParameterMapVector[-1][\"ResampleInterpolator\"] = [\"FinalNearestNeighborInterpolator\"]\n",
    "    transformixImageFilter.SetTransformParameterMap(transformedParameterMapVector)\n",
    "\n",
    "    # Execute transformation\n",
    "    #transformixImageFilter.SetLogToConsole(False)\n",
    "    transformixImageFilter.Execute()\n",
    "    \n",
    "    return transformixImageFilter.GetResultImage()"
   ]
  },
  {
   "cell_type": "markdown",
   "id": "ahead-boating",
   "metadata": {},
   "source": [
    "# Elastix Registration"
   ]
  },
  {
   "cell_type": "markdown",
   "id": "heavy-scope",
   "metadata": {},
   "source": [
    "## Rigid Alignment\n",
    "\n",
    "- Rigid: \"rigid body, which can translate and rotate, but cannot be\n",
    "scaled/stretched.\"\n",
    "\n",
    "- Similarity: \"translate, rotate, and scale isotropically.\"\n",
    "\n",
    "- Affine: \"translated, rotated, scaled,\n",
    "and sheared.\"\n",
    "\n",
    "### ROI Mapping\n",
    "Elastix convention: Resampling $moving \\to fixed$ image involves a transformation $T: fixed \\to moving$. $T$ maps coordinates in the fixed image domain to the corresponding coordinates in the moving image. Resampling a moving image onto the fixed image coordinate system involves:\n",
    "1. Apply $T$ to fixed image voxel coordinates $x$ to get corresponding coordinates $y$ in the moving domain: $y = T(x) \\in I_M$.\n",
    "2. Estimate the voxel intensities $v$ at the moving image coordinates $y \\in I_m$ via (linear) interpolation from nearby moving image voxel intensities.\n",
    "3. Set the voxel intensities $v$ at the fixed image coordinates $x \\in I_F$ to the above moving image voxel intensities.\n",
    "\n",
    "Source: 5.0.1 Elastix Manual"
   ]
  },
  {
   "cell_type": "code",
   "execution_count": null,
   "id": "acceptable-justice",
   "metadata": {},
   "outputs": [],
   "source": [
    "#selx.SetLogToConsole(False)\n",
    "\n",
    "def align_and_tfm(fixed_obj, moving_obj, moving_mask_obj, \\\n",
    "                  param_folder = \"ElastixParamFiles\", param_files = [\"affine.txt\", \"bspline.txt\"]):\n",
    "    \n",
    "    # ALIGN ATLAS AND INPUT IMAGE\n",
    "    \n",
    "    # set moving and fixed images (resample moving=>fixed using T:fixed=>moving)\n",
    "    elastixImageFilter = sitk.ElastixImageFilter()\n",
    "    elastixImageFilter.SetFixedImage(fixed_obj)\n",
    "    elastixImageFilter.SetMovingImage(moving_obj)\n",
    "    \n",
    "    # set parameter map\n",
    "    parameterMapVector = sitk.VectorOfParameterMap()\n",
    "    for param_file in param_files:\n",
    "        parameterMapVector.append(sitk.ReadParameterFile(f\"{param_folder}/{param_file}\"))\n",
    "    elastixImageFilter.SetParameterMap(parameterMapVector)\n",
    "\n",
    "    # Execute alignment\n",
    "    #elastixImageFilter.SetLogToConsole(False)\n",
    "    elastixImageFilter.Execute()\n",
    "\n",
    "    # MAP MOVING (ATLAS BINARY ROI) ONTO FIXED (INPUT) \n",
    "\n",
    "    # set moving image (atlas)                                                    \n",
    "    transformixImageFilter = sitk.TransformixImageFilter()\n",
    "    transformixImageFilter.SetMovingImage(moving_mask_obj)\n",
    "                    \n",
    "    # set parameter map (Binary mask => nearest neighbor final interpolation)\n",
    "    transformedParameterMapVector = elastixImageFilter.GetTransformParameterMap()\n",
    "    transformedParameterMapVector[-1][\"ResampleInterpolator\"] = [\"FinalNearestNeighborInterpolator\"]\n",
    "    transformixImageFilter.SetTransformParameterMap(transformedParameterMapVector)\n",
    "\n",
    "    # Execute transformation\n",
    "    #transformixImageFilter.SetLogToConsole(False)\n",
    "    transformixImageFilter.Execute()\n",
    "    \n",
    "    return transformixImageFilter.GetResultImage()"
   ]
  },
  {
   "cell_type": "markdown",
   "id": "fluid-radiation",
   "metadata": {},
   "source": [
    "# Rigid only"
   ]
  },
  {
   "cell_type": "code",
   "execution_count": null,
   "id": "killing-doubt",
   "metadata": {},
   "outputs": [],
   "source": [
    "import time\n",
    "\n",
    "def get_dice_scores(input_obj, input_mask_arr, atlas_objs = atlas_objs, atlas_mask_objs = atlas_mask_objs):\n",
    "    dice_scores = {}\n",
    "    n_votes = len(atlas_objs)\n",
    "    print(f\"N={n_votes} atlases in the vote.\")\n",
    "    \n",
    "    for i in range(n_votes):\n",
    "        print(f\"Getting pred for atlas {i}:\")\n",
    "        \n",
    "        start = time.time()\n",
    "        pred_mask_arr = sitk2np(align_and_tfm(input_obj, atlas_objs[i], atlas_mask_objs[i], \\\n",
    "                                              param_files = [\"affine.txt\"])).astype(bool)\n",
    "        end = time.time()\n",
    "        print(f\"{end - start:.0f} sec.\")\n",
    "        # compute dice\n",
    "        dice_scores[f\"dice{i}\"] = compute_dice_coefficient(input_mask_arr, pred_mask_arr)\n",
    "    \n",
    "        # add atlas vote\n",
    "        if i == 0: vote_pred_mask_arr = pred_mask_arr.astype(np.uint8)\n",
    "        else: vote_pred_mask_arr += pred_mask_arr.astype(np.uint8)\n",
    "    \n",
    "    # get avg dice score\n",
    "    dice_scores[f\"dice_avg\"] = np.mean(list(dice_scores.values()))\n",
    "    \n",
    "    # get vote\n",
    "    print(f\"Getting vote dice\")\n",
    "    vote_pred_mask_arr = (vote_pred_mask_arr >= n_votes/2).astype(bool)\n",
    "    dice_scores[f\"dice_vote_all\"] = compute_dice_coefficient(input_mask_arr, vote_pred_mask_arr)\n",
    "    \n",
    "    print(dice_scores)\n",
    "    return dice_scores"
   ]
  },
  {
   "cell_type": "code",
   "execution_count": null,
   "id": "committed-german",
   "metadata": {},
   "outputs": [],
   "source": [
    "dice_scores0 = get_dice_scores(input_objs[0], input_mask_arrs[0], atlas_objs[:2], atlas_mask_objs[:2])"
   ]
  },
  {
   "cell_type": "code",
   "execution_count": null,
   "id": "champion-thanks",
   "metadata": {},
   "outputs": [],
   "source": [
    "dice_scores0"
   ]
  },
  {
   "cell_type": "code",
   "execution_count": null,
   "id": "dutch-publicity",
   "metadata": {},
   "outputs": [],
   "source": [
    "dice_scores0 = get_dice_scores(input_objs[0], input_mask_arrs[0], atlas_objs, atlas_mask_objs)"
   ]
  },
  {
   "cell_type": "code",
   "execution_count": null,
   "id": "neural-breakfast",
   "metadata": {},
   "outputs": [],
   "source": [
    "dice_scores0"
   ]
  },
  {
   "cell_type": "code",
   "execution_count": null,
   "id": "advanced-message",
   "metadata": {},
   "outputs": [],
   "source": [
    "input_df = DataFrame(get_dice_scores(input_obj, gt_mask, atlas_objs, atlas_mask_objs) \\\n",
    "                     for input_obj, gt_mask in zip(input_objs, input_mask_arrs))"
   ]
  },
  {
   "cell_type": "code",
   "execution_count": null,
   "id": "spanish-holocaust",
   "metadata": {},
   "outputs": [],
   "source": [
    "input_df"
   ]
  },
  {
   "cell_type": "code",
   "execution_count": null,
   "id": "hybrid-packing",
   "metadata": {},
   "outputs": [],
   "source": [
    "input_info_df"
   ]
  },
  {
   "cell_type": "code",
   "execution_count": null,
   "id": "chinese-supplier",
   "metadata": {},
   "outputs": [],
   "source": [
    "atlas_info_df"
   ]
  },
  {
   "cell_type": "code",
   "execution_count": null,
   "id": "white-serum",
   "metadata": {},
   "outputs": [],
   "source": [
    "# Viz\n",
    "index = 5\n",
    "slice_range = lrange(110,130)\n",
    "\n",
    "viz_axis(sitk2np(atlas_objs[index]), \\\n",
    "        bin_mask_arr = atlas_mask_arrs[index], color1 = \"yellow\", alpha1=0.3,\n",
    "        slices=slice_range, fixed_axis=2, \\\n",
    "        axis_fn = np.rot90, \\\n",
    "        grid = [4,5], hspace=0.3, fig_mult=2)"
   ]
  },
  {
   "cell_type": "code",
   "execution_count": null,
   "id": "minor-virginia",
   "metadata": {},
   "outputs": [],
   "source": [
    "# Viz\n",
    "index = 10\n",
    "slice_range = lrange(80,100)\n",
    "\n",
    "viz_axis(sitk2np(input_objs[index]), \\\n",
    "        bin_mask_arr = input_mask_arrs[index], color1 = \"yellow\", alpha1=0.3,\n",
    "        slices=slice_range, fixed_axis=0, \\\n",
    "        axis_fn = np.rot90, \\\n",
    "        grid = [4, 5], hspace=0.3, fig_mult=2)"
   ]
  },
  {
   "cell_type": "code",
   "execution_count": null,
   "id": "korean-drive",
   "metadata": {},
   "outputs": [],
   "source": [
    "# Viz\n",
    "index = 12\n",
    "slice_range = lrange(80,90)\n",
    "\n",
    "viz_axis(sitk2np(input_objs[index]), \\\n",
    "        bin_mask_arr = input_mask_arrs[index], color1 = \"yellow\", alpha1=0.3,\n",
    "        slices=slice_range, fixed_axis=0, \\\n",
    "        axis_fn = np.rot90, \\\n",
    "        grid = [2, 5], hspace=0.3, fig_mult=2)"
   ]
  },
  {
   "cell_type": "code",
   "execution_count": null,
   "id": "voluntary-morrison",
   "metadata": {},
   "outputs": [],
   "source": []
  },
  {
   "cell_type": "code",
   "execution_count": null,
   "id": "presidential-liver",
   "metadata": {},
   "outputs": [],
   "source": []
  },
  {
   "cell_type": "code",
   "execution_count": null,
   "id": "geographic-internship",
   "metadata": {},
   "outputs": [],
   "source": []
  },
  {
   "cell_type": "code",
   "execution_count": null,
   "id": "diverse-pasta",
   "metadata": {},
   "outputs": [],
   "source": [
    "# Align the atlas and the input MR. Resample atlas ROI onto input ROI (fixed: input, moving: atlas). \n",
    "pred_mask_objs = [align_and_tfm(input_obj, atlas_obj, atlas_mask_obj, \\\n",
    "                              param_folder = \"ElastixParamFiles\", param_files = [\"affine.txt\"]) for\n",
    "                 atlas_obj, atlas_mask_obj in zip(atlas_objs, atlas_mask_objs)]"
   ]
  },
  {
   "cell_type": "code",
   "execution_count": null,
   "id": "dried-algebra",
   "metadata": {},
   "outputs": [],
   "source": [
    "# Evaluate predicted input ROI\n",
    "gt_mask_arr = input_mask_arr\n",
    "\n",
    "#gt_mask_arr   = sitk2np(gt_mask_obj).astype(bool)\n",
    "pred_mask_arr = sitk2np(pred_mask_obj).astype(bool)"
   ]
  },
  {
   "cell_type": "code",
   "execution_count": null,
   "id": "realistic-flavor",
   "metadata": {},
   "outputs": [],
   "source": [
    "dice     = compute_dice_coefficient(gt_mask_arr, pred_mask_arr)\n",
    "coverage = compute_coverage_coefficient(gt_mask_arr, pred_mask_arr)\n",
    "bbox_coords = mask2bbox(pred_mask_arr)"
   ]
  },
  {
   "cell_type": "code",
   "execution_count": null,
   "id": "august-prescription",
   "metadata": {},
   "outputs": [],
   "source": [
    "print({\"dice\": f\"{dice:0.2f}\", \"coverage\": f\"{coverage:0.2f}\"})\n",
    "print_bbox(*bbox_coords)"
   ]
  },
  {
   "cell_type": "code",
   "execution_count": null,
   "id": "british-cinema",
   "metadata": {},
   "outputs": [],
   "source": [
    "print(\"Affine: \", bbox_coords)\n",
    "print(\"GT: \", input_bbox_coords)"
   ]
  },
  {
   "cell_type": "code",
   "execution_count": null,
   "id": "critical-circuit",
   "metadata": {},
   "outputs": [],
   "source": [
    "# Viz affine\n",
    "slice_range = lrange(77, 82) + lrange(107,112)\n",
    "\n",
    "viz_axis(sitk2np(input_obj), cmap0=\"gray\",\n",
    "        crop_coords = bbox_coords, crop_extra=35,\n",
    "        bin_mask_arr = input_mask_arr, color1 = \"yellow\", alpha1=0.3,\n",
    "        bin_mask_arr2 = pred_mask_arr, color2 = \"red\", alpha2=0.3,\n",
    "        slices=slice_range, fixed_axis=0, \\\n",
    "        axis_fn = np.rot90, \\\n",
    "        grid = [2, 4], hspace=0.3, fig_mult=2)"
   ]
  },
  {
   "cell_type": "code",
   "execution_count": null,
   "id": "large-scientist",
   "metadata": {},
   "outputs": [],
   "source": [
    "slice_range = lrange(110, 150)\n",
    "viz_axis(sitk2np(input_obj), cmap0=\"gray\",\n",
    "        crop_coords = bbox_coords, crop_extra=20,\n",
    "        bin_mask_arr = input_mask_arr, color1 = \"yellow\", alpha1=0.3,\n",
    "        bin_mask_arr2 = pred_mask_arr, color2 = \"red\", alpha2=0.3,\n",
    "        slices=slice_range, fixed_axis=1, \\\n",
    "        axis_fn = np.rot90, \\\n",
    "        grid = [5, 8], hspace=0.3, fig_mult=2)"
   ]
  },
  {
   "cell_type": "code",
   "execution_count": null,
   "id": "closed-segment",
   "metadata": {},
   "outputs": [],
   "source": [
    "# Align the atlas and the input MR. Resample atlas ROI onto input ROI (fixed: input, moving: atlas). \n",
    "bspline_pred_mask_obj = align_and_tfm(input_obj, atlas_obj, atlas_mask_obj, \\\n",
    "                              param_folder = \"ElastixParamFiles\", param_files = [\"affine.txt\", \"bspline.txt\"])"
   ]
  },
  {
   "cell_type": "code",
   "execution_count": null,
   "id": "varying-fault",
   "metadata": {},
   "outputs": [],
   "source": [
    "# Evaluate predicted input ROI\n",
    "bspline_pred_mask_arr = sitk2np(bspline_pred_mask_obj).astype(bool)\n",
    "\n",
    "bspline_dice     = compute_dice_coefficient(gt_mask_arr, bspline_pred_mask_arr)\n",
    "bspline_coverage = compute_coverage_coefficient(gt_mask_arr, bspline_pred_mask_arr)\n",
    "bspline_bbox_coords = mask2bbox(bspline_pred_mask_arr)\n",
    "\n",
    "print({\"dice\": f\"{bspline_dice:0.2f}\", \"coverage\": f\"{bspline_coverage:0.2f}\"})\n",
    "print_bbox(*bspline_bbox_coords)"
   ]
  },
  {
   "cell_type": "code",
   "execution_count": null,
   "id": "offshore-merchandise",
   "metadata": {},
   "outputs": [],
   "source": [
    "print(\"Affine: \", bbox_coords)\n",
    "print(\"+Bspline: \", bspline_bbox_coords)\n",
    "print(\"GT: \", input_bbox_coords)"
   ]
  },
  {
   "cell_type": "code",
   "execution_count": null,
   "id": "moved-encounter",
   "metadata": {},
   "outputs": [],
   "source": [
    "print(\"Ground Truth GT\")\n",
    "print_bbox(*input_bbox_coords)\n",
    "\n",
    "print(\"Affine only\")\n",
    "print_bbox(*bbox_coords)\n",
    "\n",
    "print(\"+Bspline\")\n",
    "print_bbox(*bspline_bbox_coords)"
   ]
  },
  {
   "cell_type": "code",
   "execution_count": null,
   "id": "manufactured-hamilton",
   "metadata": {},
   "outputs": [],
   "source": [
    "# Viz affine + bspline\n",
    "slice_range = lrange(77, 82) + lrange(107,112)\n",
    "\n",
    "viz_axis(sitk2np(input_obj), cmap0=\"gray\",\n",
    "        crop_coords = bspline_bbox_coords, crop_extra=35,\n",
    "        bin_mask_arr = input_mask_arr, color1 = \"yellow\", alpha1=0.3,\n",
    "        bin_mask_arr2 = bspline_pred_mask_arr, color2 = \"red\", alpha2=0.3,\n",
    "        slices=slice_range, fixed_axis=0, \\\n",
    "        axis_fn = np.rot90, \\\n",
    "        grid = [2, 5], hspace=0.3, fig_mult=2)"
   ]
  },
  {
   "cell_type": "code",
   "execution_count": null,
   "id": "educational-military",
   "metadata": {},
   "outputs": [],
   "source": [
    "slice_range = lrange(110, 150)\n",
    "viz_axis(sitk2np(input_obj), cmap0=\"gray\",\n",
    "        crop_coords = bbox_coords, crop_extra=20,\n",
    "        bin_mask_arr = input_mask_arr, color1 = \"yellow\", alpha1=0.3,\n",
    "        bin_mask_arr2 = bspline_pred_mask_arr, color2 = \"red\", alpha2=0.3,\n",
    "        slices=slice_range, fixed_axis=1, \\\n",
    "        axis_fn = np.rot90, \\\n",
    "        grid = [5, 8], hspace=0.3, fig_mult=2)"
   ]
  },
  {
   "cell_type": "code",
   "execution_count": null,
   "id": "cultural-suggestion",
   "metadata": {},
   "outputs": [],
   "source": [
    "slice_range = [77,78,79, 80] + [109,110,111,112]\n",
    "\n",
    "viz_axis(sitk2np(input_obj), cmap0=\"gray\",\n",
    "        crop_coords = bspline_bbox_coords, crop_extra=55,\n",
    "        bin_mask_arr = input_mask_arr, color1 = \"yellow\", alpha1=0.3,\n",
    "        bin_mask_arr2 = bspline_pred_mask_arr, color2 = \"red\", alpha2=0.3,\n",
    "        slices=slice_range, fixed_axis=0, \\\n",
    "        axis_fn = np.rot90, \\\n",
    "        grid = [2, 4], hspace=0.3, fig_mult=2)"
   ]
  },
  {
   "cell_type": "markdown",
   "id": "rapid-october",
   "metadata": {},
   "source": [
    "# Affine non-whole brain\n",
    "\n",
    "Focus alignment on generated input ROI"
   ]
  },
  {
   "cell_type": "code",
   "execution_count": null,
   "id": "first-village",
   "metadata": {},
   "outputs": [],
   "source": [
    "# pad slices by 5, crop extra bbox by 10vox x 10vox"
   ]
  },
  {
   "cell_type": "code",
   "execution_count": null,
   "id": "typical-hello",
   "metadata": {},
   "outputs": [],
   "source": [
    "def crop_extra_mask(bin_mask_arr, crop_coords, slice_pad, vox_pad, fixed_axis=06):\n",
    "    imin, imax, jmin, jmax, kmin, kmax = crop_coords\n",
    "    if fixed_axis == 0:   \n",
    "        jmin -= pad; jmax += pad; kmin -= pad; kmax += pad;\n",
    "        np_arr = np_arr[:, jmin:jmax, kmin:kmax]\n",
    "        if bin_mask_arr is not None:  bin_mask_arr  = bin_mask_arr[:, jmin:jmax, kmin:kmax]\n",
    "        if bin_mask_arr2 is not None: bin_mask_arr2 = bin_mask_arr2[:, jmin:jmax, kmin:kmax]\n",
    "\n",
    "    elif fixed_axis == 1: \n",
    "        imin -= pad; imax += pad; kmin -= pad; kmax += pad;\n",
    "        np_arr = np_arr[imin:imax, :, kmin:kmax]\n",
    "        if bin_mask_arr is not None:  bin_mask_arr  = bin_mask_arr[imin:imax, :, kmin:kmax]\n",
    "        if bin_mask_arr2 is not None: bin_mask_arr2 = bin_mask_arr2[imin:imax, :, kmin:kmax]\n",
    "\n",
    "    else:\n",
    "        imin -= pad; imax += pad; jmin -= pad; jmax += pad;\n",
    "        np_arr = np_arr[imin:imax, jmin:jmax, :]\n",
    "        if bin_mask_arr is not None:  bin_mask_arr  = bin_mask_arr[imin:imax, jmin:jmax, :]\n",
    "        if bin_mask_arr2 is not None: bin_mask_arr2 = bin_mask_arr2[imin:imax, jmin:jmax, :]"
   ]
  },
  {
   "cell_type": "code",
   "execution_count": null,
   "id": "second-interval",
   "metadata": {},
   "outputs": [],
   "source": [
    "pred_mask_obj"
   ]
  },
  {
   "cell_type": "code",
   "execution_count": null,
   "id": "later-subdivision",
   "metadata": {},
   "outputs": [],
   "source": [
    "# Align the atlas and the input MR. Resample atlas ROI onto input ROI (fixed: input, moving: atlas). \n",
    "pred_mask_obj = align_focused(input_obj, pred_roi, atlas_obj, atlas_mask_obj, \\\n",
    "                              param_folder = \"ElastixParamFiles\", param_files = [\"affine.txt\"])"
   ]
  },
  {
   "cell_type": "code",
   "execution_count": null,
   "id": "beginning-startup",
   "metadata": {},
   "outputs": [],
   "source": [
    "def align_focused(fixed_obj, fixed_mask_obj, moving_obj, moving_mask_obj, \\\n",
    "                  param_folder = \"ElastixParamFiles\", param_files = [\"affine.txt\", \"bspline.txt\"]):\n",
    "    \n",
    "    # ALIGN ATLAS AND INPUT IMAGE\n",
    "    \n",
    "    # set moving and fixed images (resample moving=>fixed using T:fixed=>moving)\n",
    "    elastixImageFilter = sitk.ElastixImageFilter()\n",
    "    elastixImageFilter.SetFixedImage(fixed_obj)\n",
    "    elastixImageFilter.SetMovingImage(moving_obj)\n",
    "    \n",
    "    # set masks\n",
    "    elastixImageFilter.SetFixedMask(fixed_mask_obj)\n",
    "    elastixImageFilter.SetMovingMask(moving_mask_obj)\n",
    "    \n",
    "    \n",
    "    # set parameter map\n",
    "    parameterMapVector = sitk.VectorOfParameterMap()\n",
    "    for param_file in param_files:\n",
    "        parameterMapVector.append(sitk.ReadParameterFile(f\"{param_folder}/{param_file}\"))\n",
    "    elastixImageFilter.SetParameterMap(parameterMapVector)\n",
    "\n",
    "    # Execute alignment\n",
    "    elastixImageFilter.Execute()\n",
    "\n",
    "    # MAP MOVING (ATLAS BINARY ROI) ONTO FIXED (INPUT) \n",
    "\n",
    "    # set moving image (atlas)                                                    \n",
    "    transformixImageFilter = sitk.TransformixImageFilter()\n",
    "    transformixImageFilter.SetMovingImage(moving_mask_obj)\n",
    "                    \n",
    "    # set parameter map (Binary mask => nearest neighbor final interpolation)\n",
    "    transformedParameterMapVector = elastixImageFilter.GetTransformParameterMap()\n",
    "    transformedParameterMapVector[-1][\"ResampleInterpolator\"] = [\"FinalNearestNeighborInterpolator\"]\n",
    "    transformixImageFilter.SetTransformParameterMap(transformedParameterMapVector)\n",
    "\n",
    "    # Execute transformation\n",
    "    transformixImageFilter.Execute()\n",
    "    \n",
    "    return transformixImageFilter.GetResultImage()"
   ]
  },
  {
   "cell_type": "markdown",
   "id": "respiratory-parcel",
   "metadata": {},
   "source": [
    "### Viz Mapped ROI"
   ]
  },
  {
   "cell_type": "code",
   "execution_count": null,
   "id": "composite-consistency",
   "metadata": {},
   "outputs": [],
   "source": [
    "print(transformed_input_mask_arr.shape)\n",
    "\n",
    "transformed_input_bbox_coords = mask2bbox(transformed_input_mask_arr)\n",
    "print_bbox(*transformed_input_bbox_coords)"
   ]
  },
  {
   "cell_type": "markdown",
   "id": "fifteen-emergency",
   "metadata": {},
   "source": [
    "Compare bounding boxes"
   ]
  },
  {
   "cell_type": "code",
   "execution_count": null,
   "id": "indonesian-weight",
   "metadata": {},
   "outputs": [],
   "source": [
    "print(f\"Original Moving Mask\"), print_bbox(*input_bbox_coords);\n",
    "print(f\"ROI contains {np.count_nonzero(input_mask_arr)} elements.\", \"\\n\");\n",
    "\n",
    "print(f\"Target Fixed Mask\"), print_bbox(*atlas_bbox_coords);\n",
    "print(f\"ROI contains {np.count_nonzero(atlas_mask_arr)} elements.\", \"\\n\");\n",
    "\n",
    "print(f\"Transformed Moving Mask\"), print_bbox(*transformed_input_bbox_coords);\n",
    "print(f\"ROI contains {np.count_nonzero(transformed_input_mask_arr)} elements.\", \"\\n\");"
   ]
  },
  {
   "cell_type": "code",
   "execution_count": null,
   "id": "looking-latin",
   "metadata": {},
   "outputs": [],
   "source": [
    "viz_axis(input_mask_arr, bin_mask_arr=transformed_input_mask_arr, \n",
    "        slices=lrange(76, 80) + lrange(110,112), atlas_axis=0, \\\n",
    "        axis_fn = np.rot90, \\\n",
    "        grid = [2, 3], hspace=0.3, fig_mult=2, cmap0=\"gray\")"
   ]
  },
  {
   "cell_type": "markdown",
   "id": "significant-store",
   "metadata": {},
   "source": [
    "### Coronal"
   ]
  },
  {
   "cell_type": "code",
   "execution_count": null,
   "id": "alpine-mechanics",
   "metadata": {},
   "outputs": [],
   "source": [
    "sitk2np(iso_atlas_obj).shape"
   ]
  },
  {
   "cell_type": "code",
   "execution_count": null,
   "id": "stone-generator",
   "metadata": {},
   "outputs": [],
   "source": [
    "viz_axis(sitk2np(atlas_obj), \\\n",
    "        bin_mask_arr=transformed_input_mask_arr, color1 = \"yellow\", \\\n",
    "        bin_mask_arr2=atlas_mask_arr, color2 = \"red\", \\\n",
    "        slices=lrange(120, 126), atlas_axis=1, \\\n",
    "        axis_fn = np.rot90, \\\n",
    "        grid = [2, 3], hspace=0.3, fig_mult=2, cmap0=\"gray\")"
   ]
  },
  {
   "cell_type": "markdown",
   "id": "blond-diving",
   "metadata": {},
   "source": [
    "## Sagittal"
   ]
  },
  {
   "cell_type": "code",
   "execution_count": null,
   "id": "blocked-miami",
   "metadata": {},
   "outputs": [],
   "source": [
    "#cmap1 = [white, yellow]; cmap2 = [white, blue]\n",
    "viz_axis(sitk2np(atlas_obj), \\\n",
    "        bin_mask_arr=transformed_input_mask_arr, color1 = \"yellow\", \\\n",
    "        bin_mask_arr2=atlas_mask_arr, color2 = \"red\", \\\n",
    "        slices=lrange(76, 80) + lrange(104,112), atlas_axis=0, \\\n",
    "        axis_fn = np.rot90, \\\n",
    "        grid = [3, 4], hspace=0.3, fig_mult=2, cmap0=\"gray\")"
   ]
  },
  {
   "cell_type": "markdown",
   "id": "conservative-process",
   "metadata": {},
   "source": [
    "# Old"
   ]
  },
  {
   "cell_type": "code",
   "execution_count": null,
   "id": "junior-credits",
   "metadata": {},
   "outputs": [],
   "source": [
    "def affine_align(fixed_obj, fixed_mask_obj, moving_obj, moving_mask_obj, param_file = \"AffineParamFile.txt\"):\n",
    "    \n",
    "    # map moving => fixed (the transform is fixed => moving)\n",
    "    #parameterMap = sitk.GetDefaultParameterMap('affine')\n",
    "    parameterMap  = sitk.ReadParameterFile(param_file)\n",
    "    \n",
    "    elastixImageFilter = sitk.ElastixImageFilter()\n",
    "    elastixImageFilter.SetFixedImage(fixed_obj)\n",
    "    elastixImageFilter.SetMovingImage(moving_obj)\n",
    "    \n",
    "    # focus on registering moving mask ROI\n",
    "    #elastixImageFilter.SetMovingMask(moving_mask_obj)\n",
    "    #parameterMap[\"ImageSampler\"] = [\"RandomSparseMask\"]\n",
    "   \n",
    "    # print param map\n",
    "    sitk.PrintParameterMap(parameterMap)\n",
    "    \n",
    "    elastixImageFilter.SetParameterMap(parameterMap)\n",
    "    elastixImageFilter.Execute()\n",
    "\n",
    "    transformed_moving_obj  = elastixImageFilter.GetResultImage()\n",
    "    transformedParameterMap = elastixImageFilter.GetTransformParameterMap()[0]\n",
    "    \n",
    "    # Binary mask => nearest neighbor\n",
    "    transformedParameterMap[\"ResampleInterpolator\"] = [\"FinalNearestNeighborInterpolator\"]\n",
    "    \n",
    "    # map ROI of moving => fixed\n",
    "    transformixImageFilter = sitk.TransformixImageFilter()\n",
    "    transformixImageFilter.SetTransformParameterMap(transformedParameterMap)\n",
    "    transformixImageFilter.SetMovingImage(moving_mask_obj)\n",
    "    transformixImageFilter.Execute()\n",
    "    \n",
    "    transformed_moving_mask_obj = transformixImageFilter.GetResultImage()\n",
    "\n",
    "    # evaluate: dice, coverage\n",
    "    fixed_mask_arr              = sitk2np(fixed_mask_obj).astype(bool)\n",
    "    transformed_moving_mask_arr = sitk2np(transformed_moving_mask_obj).astype(bool)\n",
    "\n",
    "    dice     = compute_dice_coefficient(fixed_mask_arr, transformed_moving_mask_arr)\n",
    "    coverage = compute_coverage_coefficient(fixed_mask_arr, transformed_moving_mask_arr)\n",
    "    \n",
    "    # save bounding box coords\n",
    "    bbox_coords = mask2bbox(transformed_moving_mask_arr)\n",
    "        \n",
    "    return dice, coverage, bbox_coords, transformed_moving_obj, transformed_moving_mask_arr"
   ]
  },
  {
   "cell_type": "code",
   "execution_count": null,
   "id": "introductory-maryland",
   "metadata": {},
   "outputs": [],
   "source": [
    "dice, coverage, bbox_coords, transformed_input_obj, transformed_input_mask_arr = affine_align(atlas_obj, atlas_mask_obj, input_obj, input_mask_obj)"
   ]
  },
  {
   "cell_type": "code",
   "execution_count": null,
   "id": "adverse-tamil",
   "metadata": {},
   "outputs": [],
   "source": [
    "print(f\"Dice: {dice}. Coverage {coverage}.\")\n",
    "print_bbox(*bbox_coords)"
   ]
  }
 ],
 "metadata": {
  "kernelspec": {
   "display_name": "Python 3",
   "language": "python",
   "name": "python3"
  },
  "language_info": {
   "codemirror_mode": {
    "name": "ipython",
    "version": 3
   },
   "file_extension": ".py",
   "mimetype": "text/x-python",
   "name": "python",
   "nbconvert_exporter": "python",
   "pygments_lexer": "ipython3",
   "version": "3.8.5"
  },
  "toc-autonumbering": true,
  "toc-showcode": false,
  "toc-showmarkdowntxt": false
 },
 "nbformat": 4,
 "nbformat_minor": 5
}
