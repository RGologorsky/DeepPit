{
 "cells": [
  {
   "cell_type": "markdown",
   "id": "d0a8c6fd",
   "metadata": {},
   "source": [
    "# Goal\n",
    "\n",
    "This notebook generates the figures for the paper.\n",
    "\n",
    "Figure 1(a): dset files\n",
    "Figure 1(b): model input, binary seg output, crop\n",
    "Figure 2(a): workflow\n",
    "Figure 2(b): strategies\n",
    "\n",
    "**With gratitude to**:\n",
    "- https://github.com/mattiaspaul/OBELISK\n",
    "-  https://github.com/kbressem/faimed3d/blob/main/examples/3d_segmentation.md"
   ]
  },
  {
   "cell_type": "code",
   "execution_count": 1,
   "id": "0f01b111",
   "metadata": {},
   "outputs": [
    {
     "name": "stdout",
     "output_type": "stream",
     "text": [
      "Full lbl items: 335\n",
      "Removed 2 weird, new total lbl items: 333\n",
      "train, valid, test 201 66 66 total 333\n",
      "Cross label items:  418\n",
      "All label items:  751 (abide (333) + cross_lbl (418))\n",
      "Test label items:  484 (test (66) + cross_lbl (418))\n"
     ]
    },
    {
     "name": "stderr",
     "output_type": "stream",
     "text": [
      "CUDA initialization: Found no NVIDIA driver on your system. Please check that you have an NVIDIA GPU and installed a driver from http://www.nvidia.com/Download/index.aspx (Triggered internally at  /pytorch/c10/cuda/CUDAFunctions.cpp:100.)\n"
     ]
    }
   ],
   "source": [
    "%load_ext autoreload\n",
    "%autoreload 2\n",
    "\n",
    "import os, shutil, time\n",
    "from pathlib import Path\n",
    "\n",
    "from monai.losses import DiceLoss\n",
    "\n",
    "import matplotlib.pyplot as plt\n",
    "import numpy as np\n",
    "import torch\n",
    "import SimpleITK as sitk\n",
    "\n",
    "from helpers.items_constants import *\n",
    "from helpers.transforms_simplified import *\n",
    "from helpers.general import rm_prefix, get_param_default, modelfn2dict, torch2sitk, sitk2torch\n",
    "from helpers.model_loss_choices import get_model, get_loss\n",
    "from helpers.preprocess import batch_get_bbox\n",
    "from helpers.postprocess import get_largest_connected_component, eval_measure, eval_lcc\n"
   ]
  },
  {
   "cell_type": "code",
   "execution_count": 2,
   "id": "4cdc16ca",
   "metadata": {},
   "outputs": [],
   "source": [
    "# INFERENCE DATALOADER PARAMS\n",
    "num_workers = 2"
   ]
  },
  {
   "cell_type": "code",
   "execution_count": 3,
   "id": "3888f45a",
   "metadata": {},
   "outputs": [
    {
     "name": "stdout",
     "output_type": "stream",
     "text": [
      "n = 484, test items = 66, other dsets = 418\n",
      "first item {'image': '/gpfs/data/oermannlab/private_data/DeepPit/PitMRdata/samir_labels/50002-50153/50011/MP-RAGE/2000-01-01_00_00_00.0/S165075/ABIDE_50011_MRI_MP-RAGE_br_raw_20120830203207657_S165075_I329085_corrected_n4.nii', 'label': '/gpfs/data/oermannlab/private_data/DeepPit/PitMRdata/samir_labels/50002-50153/50011/seg.nii'}\n"
     ]
    }
   ],
   "source": [
    "# Items as dict \n",
    "items  = all_test_lbl_items\n",
    "itemsd = getd(items)\n",
    "\n",
    "print(f\"n = {len(itemsd)}, test items = {len(test_items)}, other dsets = {len(cross_lbl_items)}\")\n",
    "print(f\"first item\", itemsd[0])\n",
    "\n",
    "# Transforms\n",
    "\n",
    "# for condseg\n",
    "train_itemsd = getd(train_items) # for condseg atlas choice\n",
    "\n",
    "val_tfm_dict = {}\n",
    "for condseg_bool in (True, False):\n",
    "    for full_res,pixdim in ((96,1.5),(144,1.0)):\n",
    "        val_tfm_dict[f\"full_res_{full_res}_pixdim_{pixdim}_do_condseg_{condseg_bool}\"] = \\\n",
    "            get_train_valid_transforms(items=train_itemsd, pixdim=pixdim, full_res=full_res, do_condseg=condseg_bool)[1]\n",
    "\n",
    "\n",
    "# Models to Ensemble\n",
    "# models_to_ensemble = [\n",
    "#     # UNET DICE, VNET DICE, UNET BCE, VNET BCE, OBELISK DICE, OBELISK BCE, CONDSEG DICE, CONDSEG BCE\n",
    "#     \"model_UNET3D_loss_DICE_loss_full_res_96_pixdim_1.5_do_simple_True_do_flip_True_bs_2_epochs_60_time_1627971508_Tue_Aug_03_2021_hr_02_min_18\",\n",
    "#     \"model_VNET_loss_DICE_loss_full_res_96_pixdim_1.5_do_simple_True_do_flip_True_bs_2_epochs_60_time_1627978137_Tue_Aug_03_2021_hr_04_min_08\",\n",
    "#     \"model_UNET3D_loss_BCE_loss_full_res_96_pixdim_1.5_do_simple_True_do_flip_True_bs_2_epochs_60_time_1627971506_Tue_Aug_03_2021_hr_02_min_18\",\n",
    "#     \"model_VNET_loss_BCE_loss_full_res_96_pixdim_1.5_do_simple_True_do_flip_True_bs_2_epochs_60_time_1627978233_Tue_Aug_03_2021_hr_04_min_10\",\n",
    "#     \"model_OBELISKHYBRID_loss_DICE_loss_full_res_96_pixdim_1.5_do_simple_True_do_flip_True_bs_2_epochs_60_time_1627963440_Tue_Aug_03_2021_hr_00_min_04\",\n",
    "#     \"model_OBELISKHYBRID_loss_BCE_loss_full_res_96_pixdim_1.5_do_simple_True_do_flip_True_bs_2_epochs_60_time_1627963631_Tue_Aug_03_2021_hr_00_min_07\",\n",
    "# #     \"model_CONDSEG_loss_DICE_loss_full_res_96_pixdim_1.5_do_simple_True_do_flip_True_bs_2_epochs_60_time_1628097973_Wed_Aug_04_2021_hr_13_min_26\",\n",
    "# #     \"model_CONDSEG_loss_BCE_loss_full_res_96_pixdim_1.5_do_simple_True_do_flip_True_bs_2_epochs_60_time_1628097978_Wed_Aug_04_2021_hr_13_min_26\"\n",
    "# ]\n",
    "\n",
    "models_to_ensemble = [\n",
    "    # UNET DICE, VNET DICE, UNET BCE, VNET BCE, OBELISK DICE, OBELISK BCE, CONDSEG DICE, CONDSEG BCE\n",
    "    \"model_UNET3D_loss_DICE_loss_full_res_96_pixdim_1.5_do_simple_True_do_flip_True_bs_2_epochs_60_time_1627971508_Tue_Aug_03_2021_hr_02_min_18\",\n",
    "    \"model_VNET_loss_DICE_loss_full_res_96_pixdim_1.5_do_simple_True_do_flip_True_bs_2_epochs_60_time_1627978137_Tue_Aug_03_2021_hr_04_min_08\",\n",
    "    \"model_UNET3D_loss_BCE_loss_full_res_96_pixdim_1.5_do_simple_True_do_flip_True_bs_2_epochs_60_time_1627971506_Tue_Aug_03_2021_hr_02_min_18\",\n",
    "    \"model_VNET_loss_BCE_loss_full_res_96_pixdim_1.5_do_simple_True_do_flip_True_bs_2_epochs_60_time_1627978233_Tue_Aug_03_2021_hr_04_min_10\",\n",
    "#    \"model_OBELISKHYBRID_loss_DICE_loss_full_res_96_pixdim_1.5_do_simple_True_do_flip_True_bs_2_epochs_60_time_1627963440_Tue_Aug_03_2021_hr_00_min_04\",\n",
    "#    \"model_OBELISKHYBRID_loss_BCE_loss_full_res_96_pixdim_1.5_do_simple_True_do_flip_True_bs_2_epochs_60_time_1627963631_Tue_Aug_03_2021_hr_00_min_07\",\n",
    "     \"model_CONDSEG_loss_DICE_loss_full_res_96_pixdim_1.5_do_simple_True_do_flip_True_bs_2_epochs_60_time_1628097973_Wed_Aug_04_2021_hr_13_min_26\",\n",
    "     \"model_CONDSEG_loss_BCE_loss_full_res_96_pixdim_1.5_do_simple_True_do_flip_True_bs_2_epochs_60_time_1628097978_Wed_Aug_04_2021_hr_13_min_26\"\n",
    "]"
   ]
  },
  {
   "cell_type": "markdown",
   "id": "d33ee929",
   "metadata": {},
   "source": [
    "# Get preds from each model"
   ]
  },
  {
   "cell_type": "code",
   "execution_count": 4,
   "id": "833baae5",
   "metadata": {},
   "outputs": [
    {
     "data": {
      "text/plain": [
       "['data_augs.txt',\n",
       " 'figs',\n",
       " 'model.pth',\n",
       " 'post_lcc_df.pkl',\n",
       " 'pre_lcc_df.pkl',\n",
       " 'preds_batch_0_bs_5.pkl',\n",
       " 'preds_batch_10_bs_5.pkl',\n",
       " 'preds_batch_11_bs_5.pkl',\n",
       " 'preds_batch_12_bs_5.pkl',\n",
       " 'preds_batch_13_bs_5.pkl',\n",
       " 'preds_batch_14_bs_5.pkl',\n",
       " 'preds_batch_15_bs_5.pkl',\n",
       " 'preds_batch_16_bs_5.pkl',\n",
       " 'preds_batch_17_bs_5.pkl',\n",
       " 'preds_batch_18_bs_5.pkl',\n",
       " 'preds_batch_19_bs_5.pkl',\n",
       " 'preds_batch_1_bs_5.pkl',\n",
       " 'preds_batch_20_bs_5.pkl',\n",
       " 'preds_batch_21_bs_5.pkl',\n",
       " 'preds_batch_22_bs_5.pkl',\n",
       " 'preds_batch_23_bs_5.pkl',\n",
       " 'preds_batch_24_bs_5.pkl',\n",
       " 'preds_batch_25_bs_5.pkl',\n",
       " 'preds_batch_26_bs_5.pkl',\n",
       " 'preds_batch_27_bs_5.pkl',\n",
       " 'preds_batch_28_bs_5.pkl',\n",
       " 'preds_batch_29_bs_5.pkl',\n",
       " 'preds_batch_2_bs_5.pkl',\n",
       " 'preds_batch_30_bs_5.pkl',\n",
       " 'preds_batch_31_bs_5.pkl',\n",
       " 'preds_batch_32_bs_5.pkl',\n",
       " 'preds_batch_33_bs_5.pkl',\n",
       " 'preds_batch_34_bs_5.pkl',\n",
       " 'preds_batch_35_bs_5.pkl',\n",
       " 'preds_batch_36_bs_5.pkl',\n",
       " 'preds_batch_37_bs_5.pkl',\n",
       " 'preds_batch_38_bs_5.pkl',\n",
       " 'preds_batch_39_bs_5.pkl',\n",
       " 'preds_batch_3_bs_5.pkl',\n",
       " 'preds_batch_40_bs_5.pkl',\n",
       " 'preds_batch_41_bs_5.pkl',\n",
       " 'preds_batch_42_bs_5.pkl',\n",
       " 'preds_batch_43_bs_5.pkl',\n",
       " 'preds_batch_44_bs_5.pkl',\n",
       " 'preds_batch_45_bs_5.pkl',\n",
       " 'preds_batch_46_bs_5.pkl',\n",
       " 'preds_batch_47_bs_5.pkl',\n",
       " 'preds_batch_48_bs_5.pkl',\n",
       " 'preds_batch_49_bs_5.pkl',\n",
       " 'preds_batch_4_bs_5.pkl',\n",
       " 'preds_batch_50_bs_5.pkl',\n",
       " 'preds_batch_51_bs_5.pkl',\n",
       " 'preds_batch_52_bs_5.pkl',\n",
       " 'preds_batch_53_bs_5.pkl',\n",
       " 'preds_batch_54_bs_5.pkl',\n",
       " 'preds_batch_55_bs_5.pkl',\n",
       " 'preds_batch_56_bs_5.pkl',\n",
       " 'preds_batch_57_bs_5.pkl',\n",
       " 'preds_batch_58_bs_5.pkl',\n",
       " 'preds_batch_59_bs_5.pkl',\n",
       " 'preds_batch_5_bs_5.pkl',\n",
       " 'preds_batch_60_bs_5.pkl',\n",
       " 'preds_batch_61_bs_5.pkl',\n",
       " 'preds_batch_62_bs_5.pkl',\n",
       " 'preds_batch_63_bs_5.pkl',\n",
       " 'preds_batch_64_bs_5.pkl',\n",
       " 'preds_batch_65_bs_5.pkl',\n",
       " 'preds_batch_66_bs_5.pkl',\n",
       " 'preds_batch_67_bs_5.pkl',\n",
       " 'preds_batch_68_bs_5.pkl',\n",
       " 'preds_batch_69_bs_5.pkl',\n",
       " 'preds_batch_6_bs_5.pkl',\n",
       " 'preds_batch_70_bs_5.pkl',\n",
       " 'preds_batch_71_bs_5.pkl',\n",
       " 'preds_batch_72_bs_5.pkl',\n",
       " 'preds_batch_73_bs_5.pkl',\n",
       " 'preds_batch_74_bs_5.pkl',\n",
       " 'preds_batch_75_bs_5.pkl',\n",
       " 'preds_batch_76_bs_5.pkl',\n",
       " 'preds_batch_77_bs_5.pkl',\n",
       " 'preds_batch_78_bs_5.pkl',\n",
       " 'preds_batch_79_bs_5.pkl',\n",
       " 'preds_batch_7_bs_5.pkl',\n",
       " 'preds_batch_80_bs_5.pkl',\n",
       " 'preds_batch_81_bs_5.pkl',\n",
       " 'preds_batch_82_bs_5.pkl',\n",
       " 'preds_batch_83_bs_5.pkl',\n",
       " 'preds_batch_84_bs_5.pkl',\n",
       " 'preds_batch_85_bs_5.pkl',\n",
       " 'preds_batch_86_bs_5.pkl',\n",
       " 'preds_batch_87_bs_5.pkl',\n",
       " 'preds_batch_88_bs_5.pkl',\n",
       " 'preds_batch_89_bs_5.pkl',\n",
       " 'preds_batch_8_bs_5.pkl',\n",
       " 'preds_batch_90_bs_5.pkl',\n",
       " 'preds_batch_91_bs_5.pkl',\n",
       " 'preds_batch_92_bs_5.pkl',\n",
       " 'preds_batch_93_bs_5.pkl',\n",
       " 'preds_batch_94_bs_5.pkl',\n",
       " 'preds_batch_95_bs_5.pkl',\n",
       " 'preds_batch_96_bs_5.pkl',\n",
       " 'preds_batch_9_bs_5.pkl',\n",
       " 'stats_df.pkl']"
      ]
     },
     "execution_count": 4,
     "metadata": {},
     "output_type": "execute_result"
    }
   ],
   "source": [
    "model_fn = models_to_ensemble[-2]\n",
    "sorted(os.listdir(f\"{run_src}/{Path(model_fn).name}\"))"
   ]
  },
  {
   "cell_type": "code",
   "execution_count": 5,
   "id": "8fd1e942",
   "metadata": {},
   "outputs": [],
   "source": [
    "# create batches\n",
    "bs        = 5\n",
    "batches = [itemsd[i:min(i+bs, len(itemsd))] for i in range(0,len(itemsd),bs)]\n",
    "\n",
    "model_preds_dict = {}\n",
    "def load_model_preds(model_fn, file_range=range(0,len(batches))):\n",
    "    preds = []\n",
    "    model_name = Path(model_fn).name\n",
    "    for i in file_range:\n",
    "        with open(f\"{run_src}/{model_name}/preds_batch_{i}_bs_{bs}.pkl\", 'rb') as handle:\n",
    "            preds += pickle.load(handle)\n",
    "    return preds"
   ]
  },
  {
   "cell_type": "code",
   "execution_count": 9,
   "id": "9df544d7",
   "metadata": {},
   "outputs": [
    {
     "ename": "KeyboardInterrupt",
     "evalue": "",
     "output_type": "error",
     "traceback": [
      "\u001b[0;31m---------------------------------------------------------------------------\u001b[0m",
      "\u001b[0;31mKeyboardInterrupt\u001b[0m                         Traceback (most recent call last)",
      "\u001b[0;32m<ipython-input-9-9523c6726ae9>\u001b[0m in \u001b[0;36m<module>\u001b[0;34m\u001b[0m\n\u001b[1;32m      1\u001b[0m \u001b[0;31m# get model predictions\u001b[0m\u001b[0;34m\u001b[0m\u001b[0;34m\u001b[0m\u001b[0;34m\u001b[0m\u001b[0m\n\u001b[1;32m      2\u001b[0m \u001b[0mstart\u001b[0m \u001b[0;34m=\u001b[0m \u001b[0mtime\u001b[0m\u001b[0;34m.\u001b[0m\u001b[0mtime\u001b[0m\u001b[0;34m(\u001b[0m\u001b[0;34m)\u001b[0m\u001b[0;34m\u001b[0m\u001b[0;34m\u001b[0m\u001b[0m\n\u001b[0;32m----> 3\u001b[0;31m \u001b[0mmodel_preds_dict\u001b[0m \u001b[0;34m=\u001b[0m \u001b[0;34m{\u001b[0m\u001b[0mmodel_fn\u001b[0m\u001b[0;34m:\u001b[0m\u001b[0mload_model_preds\u001b[0m\u001b[0;34m(\u001b[0m\u001b[0mmodel_fn\u001b[0m\u001b[0;34m,\u001b[0m \u001b[0mfile_range\u001b[0m\u001b[0;34m=\u001b[0m\u001b[0mrange\u001b[0m\u001b[0;34m(\u001b[0m\u001b[0;36m0\u001b[0m\u001b[0;34m,\u001b[0m\u001b[0mlen\u001b[0m\u001b[0;34m(\u001b[0m\u001b[0mbatches\u001b[0m\u001b[0;34m)\u001b[0m\u001b[0;34m)\u001b[0m\u001b[0;34m)\u001b[0m \u001b[0;32mfor\u001b[0m \u001b[0mmodel_fn\u001b[0m \u001b[0;32min\u001b[0m \u001b[0mmodels_to_ensemble\u001b[0m\u001b[0;34m}\u001b[0m\u001b[0;34m\u001b[0m\u001b[0;34m\u001b[0m\u001b[0m\n\u001b[0m\u001b[1;32m      4\u001b[0m \u001b[0melapsed\u001b[0m \u001b[0;34m=\u001b[0m \u001b[0mtime\u001b[0m\u001b[0;34m.\u001b[0m\u001b[0mtime\u001b[0m\u001b[0;34m(\u001b[0m\u001b[0;34m)\u001b[0m \u001b[0;34m-\u001b[0m \u001b[0mstart\u001b[0m\u001b[0;34m\u001b[0m\u001b[0;34m\u001b[0m\u001b[0m\n\u001b[1;32m      5\u001b[0m \u001b[0mprint\u001b[0m\u001b[0;34m(\u001b[0m\u001b[0;34mf\"Elapsed: {elapsed:0.2f} s.\"\u001b[0m\u001b[0;34m)\u001b[0m\u001b[0;34m\u001b[0m\u001b[0;34m\u001b[0m\u001b[0m\n",
      "\u001b[0;32m<ipython-input-9-9523c6726ae9>\u001b[0m in \u001b[0;36m<dictcomp>\u001b[0;34m(.0)\u001b[0m\n\u001b[1;32m      1\u001b[0m \u001b[0;31m# get model predictions\u001b[0m\u001b[0;34m\u001b[0m\u001b[0;34m\u001b[0m\u001b[0;34m\u001b[0m\u001b[0m\n\u001b[1;32m      2\u001b[0m \u001b[0mstart\u001b[0m \u001b[0;34m=\u001b[0m \u001b[0mtime\u001b[0m\u001b[0;34m.\u001b[0m\u001b[0mtime\u001b[0m\u001b[0;34m(\u001b[0m\u001b[0;34m)\u001b[0m\u001b[0;34m\u001b[0m\u001b[0;34m\u001b[0m\u001b[0m\n\u001b[0;32m----> 3\u001b[0;31m \u001b[0mmodel_preds_dict\u001b[0m \u001b[0;34m=\u001b[0m \u001b[0;34m{\u001b[0m\u001b[0mmodel_fn\u001b[0m\u001b[0;34m:\u001b[0m\u001b[0mload_model_preds\u001b[0m\u001b[0;34m(\u001b[0m\u001b[0mmodel_fn\u001b[0m\u001b[0;34m,\u001b[0m \u001b[0mfile_range\u001b[0m\u001b[0;34m=\u001b[0m\u001b[0mrange\u001b[0m\u001b[0;34m(\u001b[0m\u001b[0;36m0\u001b[0m\u001b[0;34m,\u001b[0m\u001b[0mlen\u001b[0m\u001b[0;34m(\u001b[0m\u001b[0mbatches\u001b[0m\u001b[0;34m)\u001b[0m\u001b[0;34m)\u001b[0m\u001b[0;34m)\u001b[0m \u001b[0;32mfor\u001b[0m \u001b[0mmodel_fn\u001b[0m \u001b[0;32min\u001b[0m \u001b[0mmodels_to_ensemble\u001b[0m\u001b[0;34m}\u001b[0m\u001b[0;34m\u001b[0m\u001b[0;34m\u001b[0m\u001b[0m\n\u001b[0m\u001b[1;32m      4\u001b[0m \u001b[0melapsed\u001b[0m \u001b[0;34m=\u001b[0m \u001b[0mtime\u001b[0m\u001b[0;34m.\u001b[0m\u001b[0mtime\u001b[0m\u001b[0;34m(\u001b[0m\u001b[0;34m)\u001b[0m \u001b[0;34m-\u001b[0m \u001b[0mstart\u001b[0m\u001b[0;34m\u001b[0m\u001b[0;34m\u001b[0m\u001b[0m\n\u001b[1;32m      5\u001b[0m \u001b[0mprint\u001b[0m\u001b[0;34m(\u001b[0m\u001b[0;34mf\"Elapsed: {elapsed:0.2f} s.\"\u001b[0m\u001b[0;34m)\u001b[0m\u001b[0;34m\u001b[0m\u001b[0;34m\u001b[0m\u001b[0m\n",
      "\u001b[0;32m<ipython-input-8-89e415054dba>\u001b[0m in \u001b[0;36mload_model_preds\u001b[0;34m(model_fn, file_range)\u001b[0m\n\u001b[1;32m      9\u001b[0m     \u001b[0;32mfor\u001b[0m \u001b[0mi\u001b[0m \u001b[0;32min\u001b[0m \u001b[0mfile_range\u001b[0m\u001b[0;34m:\u001b[0m\u001b[0;34m\u001b[0m\u001b[0;34m\u001b[0m\u001b[0m\n\u001b[1;32m     10\u001b[0m         \u001b[0;32mwith\u001b[0m \u001b[0mopen\u001b[0m\u001b[0;34m(\u001b[0m\u001b[0;34mf\"{run_src}/{model_name}/preds_batch_{i}_bs_{bs}.pkl\"\u001b[0m\u001b[0;34m,\u001b[0m \u001b[0;34m'rb'\u001b[0m\u001b[0;34m)\u001b[0m \u001b[0;32mas\u001b[0m \u001b[0mhandle\u001b[0m\u001b[0;34m:\u001b[0m\u001b[0;34m\u001b[0m\u001b[0;34m\u001b[0m\u001b[0m\n\u001b[0;32m---> 11\u001b[0;31m             \u001b[0mpreds\u001b[0m \u001b[0;34m+=\u001b[0m \u001b[0mpickle\u001b[0m\u001b[0;34m.\u001b[0m\u001b[0mload\u001b[0m\u001b[0;34m(\u001b[0m\u001b[0mhandle\u001b[0m\u001b[0;34m)\u001b[0m\u001b[0;34m\u001b[0m\u001b[0;34m\u001b[0m\u001b[0m\n\u001b[0m\u001b[1;32m     12\u001b[0m     \u001b[0;32mreturn\u001b[0m \u001b[0mpreds\u001b[0m\u001b[0;34m\u001b[0m\u001b[0;34m\u001b[0m\u001b[0m\n",
      "\u001b[0;32m/usr/local/lib/python3.6/dist-packages/torch/storage.py\u001b[0m in \u001b[0;36m_load_from_bytes\u001b[0;34m(b)\u001b[0m\n\u001b[1;32m    138\u001b[0m \u001b[0;34m\u001b[0m\u001b[0m\n\u001b[1;32m    139\u001b[0m \u001b[0;34m\u001b[0m\u001b[0m\n\u001b[0;32m--> 140\u001b[0;31m \u001b[0;32mdef\u001b[0m \u001b[0m_load_from_bytes\u001b[0m\u001b[0;34m(\u001b[0m\u001b[0mb\u001b[0m\u001b[0;34m)\u001b[0m\u001b[0;34m:\u001b[0m\u001b[0;34m\u001b[0m\u001b[0;34m\u001b[0m\u001b[0m\n\u001b[0m\u001b[1;32m    141\u001b[0m     \u001b[0;32mreturn\u001b[0m \u001b[0mtorch\u001b[0m\u001b[0;34m.\u001b[0m\u001b[0mload\u001b[0m\u001b[0;34m(\u001b[0m\u001b[0mio\u001b[0m\u001b[0;34m.\u001b[0m\u001b[0mBytesIO\u001b[0m\u001b[0;34m(\u001b[0m\u001b[0mb\u001b[0m\u001b[0;34m)\u001b[0m\u001b[0;34m)\u001b[0m\u001b[0;34m\u001b[0m\u001b[0;34m\u001b[0m\u001b[0m\n\u001b[1;32m    142\u001b[0m \u001b[0;34m\u001b[0m\u001b[0m\n",
      "\u001b[0;31mKeyboardInterrupt\u001b[0m: "
     ]
    }
   ],
   "source": [
    "# get model predictions -- 97\n",
    "start = time.time()\n",
    "model_preds_dict = {model_fn:load_model_preds(model_fn, file_range=range(0,len(batches))) \n",
    "                    for model_fn in models_to_ensemble}\n",
    "elapsed = time.time() - start\n",
    "print(f\"Elapsed: {elapsed:0.2f} s.\")"
   ]
  },
  {
   "cell_type": "code",
   "execution_count": 10,
   "id": "64d9284e",
   "metadata": {},
   "outputs": [
    {
     "data": {
      "text/plain": [
       "{}"
      ]
     },
     "execution_count": 10,
     "metadata": {},
     "output_type": "execute_result"
    }
   ],
   "source": [
    "model_preds_dict"
   ]
  },
  {
   "cell_type": "code",
   "execution_count": 9,
   "id": "372a4bfc",
   "metadata": {},
   "outputs": [
    {
     "data": {
      "text/plain": [
       "97"
      ]
     },
     "execution_count": 9,
     "metadata": {},
     "output_type": "execute_result"
    }
   ],
   "source": [
    "len(batches)"
   ]
  },
  {
   "cell_type": "code",
   "execution_count": 6,
   "id": "52c5f637",
   "metadata": {},
   "outputs": [
    {
     "name": "stdout",
     "output_type": "stream",
     "text": [
      "[[0], [1], [2], [3], [4], [5], [6], [7], [8], [9], [10], [11], [12], [13], [14], [15], [16], [17], [18], [19], [20], [21], [22], [23], [24], [25], [26], [27], [28], [29], [30], [31], [32], [33], [34], [35], [36], [37], [38], [39], [40], [41], [42], [43], [44], [45], [46], [47], [48], [49], [50], [51], [52], [53], [54], [55], [56], [57], [58], [59], [60], [61], [62], [63], [64], [65], [66], [67], [68], [69], [70], [71], [72], [73], [74], [75], [76], [77], [78], [79], [80], [81], [82], [83], [84], [85], [86], [87], [88], [89], [90], [91], [92], [93], [94], [95], [96]]\n"
     ]
    }
   ],
   "source": [
    "print([list(range(i,i+1)) for i in range(97)])"
   ]
  },
  {
   "cell_type": "code",
   "execution_count": 10,
   "id": "5cdad194",
   "metadata": {},
   "outputs": [
    {
     "name": "stdout",
     "output_type": "stream",
     "text": [
      "Dice models\n",
      "3\n",
      "model_UNET3D_loss_DICE_loss_full_res_96_pixdim_1.5_do_simple_True_do_flip_True_bs_2_epochs_60_time_1627971508_Tue_Aug_03_2021_hr_02_min_18\n",
      "model_VNET_loss_DICE_loss_full_res_96_pixdim_1.5_do_simple_True_do_flip_True_bs_2_epochs_60_time_1627978137_Tue_Aug_03_2021_hr_04_min_08\n",
      "model_CONDSEG_loss_DICE_loss_full_res_96_pixdim_1.5_do_simple_True_do_flip_True_bs_2_epochs_60_time_1628097973_Wed_Aug_04_2021_hr_13_min_26\n",
      "BCE models\n",
      "3\n",
      "model_UNET3D_loss_BCE_loss_full_res_96_pixdim_1.5_do_simple_True_do_flip_True_bs_2_epochs_60_time_1627971506_Tue_Aug_03_2021_hr_02_min_18\n",
      "model_VNET_loss_BCE_loss_full_res_96_pixdim_1.5_do_simple_True_do_flip_True_bs_2_epochs_60_time_1627978233_Tue_Aug_03_2021_hr_04_min_10\n",
      "model_CONDSEG_loss_BCE_loss_full_res_96_pixdim_1.5_do_simple_True_do_flip_True_bs_2_epochs_60_time_1628097978_Wed_Aug_04_2021_hr_13_min_26\n",
      "All models\n",
      "6\n",
      "model_UNET3D_loss_DICE_loss_full_res_96_pixdim_1.5_do_simple_True_do_flip_True_bs_2_epochs_60_time_1627971508_Tue_Aug_03_2021_hr_02_min_18\n",
      "model_VNET_loss_DICE_loss_full_res_96_pixdim_1.5_do_simple_True_do_flip_True_bs_2_epochs_60_time_1627978137_Tue_Aug_03_2021_hr_04_min_08\n",
      "model_UNET3D_loss_BCE_loss_full_res_96_pixdim_1.5_do_simple_True_do_flip_True_bs_2_epochs_60_time_1627971506_Tue_Aug_03_2021_hr_02_min_18\n",
      "model_VNET_loss_BCE_loss_full_res_96_pixdim_1.5_do_simple_True_do_flip_True_bs_2_epochs_60_time_1627978233_Tue_Aug_03_2021_hr_04_min_10\n",
      "model_CONDSEG_loss_DICE_loss_full_res_96_pixdim_1.5_do_simple_True_do_flip_True_bs_2_epochs_60_time_1628097973_Wed_Aug_04_2021_hr_13_min_26\n",
      "model_CONDSEG_loss_BCE_loss_full_res_96_pixdim_1.5_do_simple_True_do_flip_True_bs_2_epochs_60_time_1628097978_Wed_Aug_04_2021_hr_13_min_26\n"
     ]
    }
   ],
   "source": [
    "dice_models_to_ensemble = [fn for fn in models_to_ensemble if \"DICE_loss\" in fn]\n",
    "bce_models_to_ensemble  = [fn for fn in models_to_ensemble if \"BCE_loss\" in fn]\n",
    "\n",
    "print(\"Dice models\", len(dice_models_to_ensemble), *dice_models_to_ensemble, sep=\"\\n\")\n",
    "print(\"BCE models\", len(bce_models_to_ensemble), *bce_models_to_ensemble, sep=\"\\n\")\n",
    "print(f\"All models\", len(models_to_ensemble), *models_to_ensemble, sep=\"\\n\")"
   ]
  },
  {
   "cell_type": "code",
   "execution_count": 6,
   "id": "5335f692",
   "metadata": {},
   "outputs": [
    {
     "name": "stdout",
     "output_type": "stream",
     "text": [
      "time_1627971508_and_time_1627978137_and_time_1627971506_and_time_1627978233_and_time_1628097973_and_time_1628097978\n",
      "ensemble_src /gpfs/data/oermannlab/private_data/DeepPit/runs/model_ensemble/time_1627971508_and_time_1627978137_and_time_1627971506_and_time_1627978233_and_time_1628097973_and_time_1628097978\n"
     ]
    }
   ],
   "source": [
    "import re\n",
    "\n",
    "# create batches\n",
    "bs        = 5\n",
    "batches = [itemsd[i:min(i+bs, len(itemsd))] for i in range(0,len(itemsd),bs)]\n",
    "\n",
    "def get_model_id(model_fn):\n",
    "    \"\"\" model ids = time string \"\"\"\n",
    "    return re.search(\"(time_\\d+)\", model_fn).groups(0)[0]\n",
    "\n",
    "ensemble_name = \"_and_\".join([get_model_id(model_fn) for model_fn in models_to_ensemble])\n",
    "print(ensemble_name)\n",
    "\n",
    "# mkdir\n",
    "ensemble_src = f\"{run_src}/model_ensemble/{ensemble_name}\"\n",
    "print(\"ensemble_src\", ensemble_src)\n",
    "Path(ensemble_src).mkdir(parents=True, exist_ok=True)\n",
    "\n",
    "if not os.path.isfile(f\"{ensemble_src}/models_to_ensemble.pkl\"):\n",
    "    with open(f\"{ensemble_src}/models_to_ensemble.pkl\", 'wb') as handle:\n",
    "            pickle.dump(models_to_ensemble, handle)"
   ]
  },
  {
   "cell_type": "code",
   "execution_count": 12,
   "id": "9ae05285",
   "metadata": {},
   "outputs": [
    {
     "name": "stdout",
     "output_type": "stream",
     "text": [
      "time_1627971508_and_time_1627978137_and_time_1627971506_and_time_1627978233_and_time_1628097973_and_time_1628097978\n"
     ]
    }
   ],
   "source": [
    "# import re\n",
    "# def get_model_id(model_fn):\n",
    "#     \"\"\" model ids = time string \"\"\"\n",
    "#     return re.search(\"(time_\\d+)\", model_fn).groups(0)[0]\n",
    "\n",
    "# ensemble_name = \"_and_\".join([get_model_id(model_fn) for model_fn in models_to_ensemble])\n",
    "# print(ensemble_name)\n",
    "\n",
    "# # mkdir\n",
    "# ensemble_src = f\"{run_src}/model_ensemble/{ensemble_name}\"\n",
    "# Path(ensemble_src).mkdir(parents=True, exist_ok=True)\n",
    "\n",
    "# with open(f\"{ensemble_src}/models_to_ensemble.pkl\", 'wb') as handle:\n",
    "#         pickle.dump(models_to_ensemble, handle)"
   ]
  },
  {
   "cell_type": "code",
   "execution_count": 13,
   "id": "1c329f0d",
   "metadata": {},
   "outputs": [
    {
     "name": "stdout",
     "output_type": "stream",
     "text": [
      "5\n",
      "5\n",
      "5\n",
      "5\n",
      "5\n",
      "5\n",
      "5\n",
      "5\n",
      "5\n",
      "5\n",
      "5\n",
      "5\n",
      "5\n",
      "5\n",
      "5\n",
      "5\n",
      "5\n",
      "5\n",
      "5\n",
      "5\n",
      "5\n",
      "5\n",
      "5\n",
      "5\n",
      "5\n",
      "5\n",
      "5\n",
      "5\n",
      "5\n",
      "5\n",
      "5\n",
      "5\n",
      "5\n",
      "5\n",
      "5\n",
      "5\n",
      "5\n",
      "5\n",
      "5\n",
      "5\n",
      "5\n",
      "5\n",
      "5\n",
      "5\n",
      "5\n",
      "5\n",
      "5\n",
      "5\n",
      "5\n",
      "5\n",
      "5\n",
      "5\n",
      "5\n",
      "5\n",
      "5\n",
      "5\n",
      "5\n",
      "5\n",
      "5\n",
      "5\n",
      "5\n",
      "5\n",
      "5\n",
      "5\n",
      "5\n",
      "5\n",
      "5\n",
      "5\n",
      "5\n",
      "5\n",
      "5\n",
      "5\n",
      "5\n",
      "5\n",
      "5\n",
      "5\n",
      "5\n",
      "5\n",
      "5\n",
      "5\n",
      "5\n",
      "5\n",
      "5\n",
      "5\n",
      "5\n",
      "5\n",
      "5\n",
      "5\n",
      "5\n",
      "5\n",
      "5\n",
      "5\n",
      "5\n",
      "5\n",
      "5\n",
      "5\n",
      "4\n",
      "Elapsed: 1171.70 s.\n"
     ]
    }
   ],
   "source": [
    "# get all ensemble - Elapsed: 590.97 s. => 600 => 10min; Elapsed: 1171.70 s.\n",
    "start = time.time()\n",
    "\n",
    "for i in range(len(batches)):\n",
    "    # load each models pred (6) for (0,5), (5,10) etc => 30 preds per range\n",
    "    model_preds_dict = {model_fn:load_model_preds(model_fn, file_range=range(i,i+1)) \n",
    "                        for model_fn in models_to_ensemble}\n",
    "    \n",
    "    # get lcc for each of preds\n",
    "    dice_majority_votes = []\n",
    "    bce_majority_votes  = []\n",
    "    all_majority_votes  = []\n",
    "                                   \n",
    "    for bs_item in range(len(batches[i])):\n",
    "        ordered_preds = [model_preds_dict[model_fn] for model_fn in models_to_ensemble]\n",
    "        all_preds = [(model_fn, get_largest_connected_component(torch2sitk(preds[bs_item].argmax(0).byte()))) \n",
    "                     for model_fn, preds in zip(models_to_ensemble, ordered_preds)]\n",
    "    \n",
    "        dice_preds = [preds for model_fn, preds in all_preds if \"DICE_loss\" in model_fn]\n",
    "        bce_preds  = [preds for model_fn, preds in all_preds if \"BCE_loss\" in model_fn]\n",
    "        all_preds  = [preds for model_fn, preds in all_preds]\n",
    "        \n",
    "        # get majority vote\n",
    "        labelForUndecidedPixels = 0\n",
    "        dice_majority_vote = sitk.LabelVoting(dice_preds, labelForUndecidedPixels)\n",
    "        bce_majority_vote  = sitk.LabelVoting(bce_preds, labelForUndecidedPixels)\n",
    "        all_majority_vote  = sitk.LabelVoting(all_preds, labelForUndecidedPixels)\n",
    "\n",
    "        #print(majority_vote.GetSize())\n",
    "        dice_majority_votes.append(sitk2torch(dice_majority_vote))\n",
    "        bce_majority_votes.append(sitk2torch(bce_majority_vote))\n",
    "        all_majority_votes.append(sitk2torch(all_majority_vote))\n",
    "    \n",
    "    # save model outputs\n",
    "    with open(f\"{ensemble_src}/dice_preds_batch_{i}_bs_{bs}.pkl\", 'wb') as handle:\n",
    "        pickle.dump(dice_majority_votes, handle)\n",
    "        \n",
    "    with open(f\"{ensemble_src}/bce_preds_batch_{i}_bs_{bs}.pkl\", 'wb') as handle:\n",
    "        pickle.dump(bce_majority_votes, handle)\n",
    "        \n",
    "    with open(f\"{ensemble_src}/all_preds_batch_{i}_bs_{bs}.pkl\", 'wb') as handle:\n",
    "        pickle.dump(all_majority_votes, handle)\n",
    "        \n",
    "    print(len(all_majority_votes))\n",
    "        \n",
    "elapsed = time.time() - start\n",
    "print(f\"Elapsed: {elapsed:0.2f} s.\")"
   ]
  },
  {
   "cell_type": "code",
   "execution_count": 19,
   "id": "ee285e8e",
   "metadata": {},
   "outputs": [
    {
     "name": "stdout",
     "output_type": "stream",
     "text": [
      "(96, 96, 96)\n",
      "(96, 96, 96)\n",
      "(96, 96, 96)\n",
      "(96, 96, 96)\n",
      "(96, 96, 96)\n",
      "5\n",
      "(96, 96, 96)\n",
      "(96, 96, 96)\n",
      "(96, 96, 96)\n",
      "(96, 96, 96)\n",
      "(96, 96, 96)\n",
      "5\n",
      "(96, 96, 96)\n",
      "(96, 96, 96)\n",
      "(96, 96, 96)\n",
      "(96, 96, 96)\n",
      "(96, 96, 96)\n",
      "5\n",
      "(96, 96, 96)\n",
      "(96, 96, 96)\n",
      "(96, 96, 96)\n",
      "(96, 96, 96)\n",
      "(96, 96, 96)\n",
      "5\n",
      "(96, 96, 96)\n",
      "(96, 96, 96)\n",
      "(96, 96, 96)\n",
      "(96, 96, 96)\n",
      "(96, 96, 96)\n",
      "5\n",
      "(96, 96, 96)\n",
      "(96, 96, 96)\n",
      "(96, 96, 96)\n",
      "(96, 96, 96)\n",
      "(96, 96, 96)\n",
      "5\n",
      "(96, 96, 96)\n",
      "(96, 96, 96)\n",
      "(96, 96, 96)\n",
      "(96, 96, 96)\n",
      "(96, 96, 96)\n",
      "5\n",
      "(96, 96, 96)\n",
      "(96, 96, 96)\n",
      "(96, 96, 96)\n",
      "(96, 96, 96)\n",
      "(96, 96, 96)\n",
      "5\n",
      "(96, 96, 96)\n",
      "(96, 96, 96)\n",
      "(96, 96, 96)\n",
      "(96, 96, 96)\n",
      "(96, 96, 96)\n",
      "5\n",
      "(96, 96, 96)\n",
      "(96, 96, 96)\n",
      "(96, 96, 96)\n",
      "(96, 96, 96)\n",
      "(96, 96, 96)\n",
      "5\n",
      "(96, 96, 96)\n",
      "(96, 96, 96)\n",
      "(96, 96, 96)\n",
      "(96, 96, 96)\n",
      "(96, 96, 96)\n",
      "5\n",
      "(96, 96, 96)\n",
      "(96, 96, 96)\n",
      "(96, 96, 96)\n",
      "(96, 96, 96)\n",
      "(96, 96, 96)\n",
      "5\n",
      "(96, 96, 96)\n",
      "(96, 96, 96)\n",
      "(96, 96, 96)\n",
      "(96, 96, 96)\n",
      "(96, 96, 96)\n",
      "5\n",
      "(96, 96, 96)\n",
      "(96, 96, 96)\n",
      "(96, 96, 96)\n",
      "(96, 96, 96)\n",
      "(96, 96, 96)\n",
      "5\n",
      "(96, 96, 96)\n",
      "(96, 96, 96)\n",
      "(96, 96, 96)\n",
      "(96, 96, 96)\n",
      "(96, 96, 96)\n",
      "5\n",
      "(96, 96, 96)\n",
      "(96, 96, 96)\n",
      "(96, 96, 96)\n",
      "(96, 96, 96)\n",
      "(96, 96, 96)\n",
      "5\n",
      "(96, 96, 96)\n",
      "(96, 96, 96)\n",
      "(96, 96, 96)\n",
      "(96, 96, 96)\n",
      "(96, 96, 96)\n",
      "5\n",
      "(96, 96, 96)\n",
      "(96, 96, 96)\n",
      "(96, 96, 96)\n",
      "(96, 96, 96)\n",
      "(96, 96, 96)\n",
      "5\n",
      "(96, 96, 96)\n",
      "(96, 96, 96)\n",
      "(96, 96, 96)\n",
      "(96, 96, 96)\n",
      "(96, 96, 96)\n",
      "5\n",
      "(96, 96, 96)\n",
      "(96, 96, 96)\n",
      "(96, 96, 96)\n",
      "(96, 96, 96)\n",
      "(96, 96, 96)\n",
      "5\n",
      "(96, 96, 96)\n",
      "(96, 96, 96)\n",
      "(96, 96, 96)\n",
      "(96, 96, 96)\n",
      "(96, 96, 96)\n",
      "5\n",
      "(96, 96, 96)\n",
      "(96, 96, 96)\n",
      "(96, 96, 96)\n",
      "(96, 96, 96)\n",
      "(96, 96, 96)\n",
      "5\n",
      "(96, 96, 96)\n",
      "(96, 96, 96)\n",
      "(96, 96, 96)\n",
      "(96, 96, 96)\n",
      "(96, 96, 96)\n",
      "5\n",
      "(96, 96, 96)\n",
      "(96, 96, 96)\n",
      "(96, 96, 96)\n",
      "(96, 96, 96)\n",
      "(96, 96, 96)\n",
      "5\n",
      "(96, 96, 96)\n",
      "(96, 96, 96)\n",
      "(96, 96, 96)\n",
      "(96, 96, 96)\n",
      "(96, 96, 96)\n",
      "5\n",
      "(96, 96, 96)\n",
      "(96, 96, 96)\n",
      "(96, 96, 96)\n",
      "(96, 96, 96)\n",
      "(96, 96, 96)\n",
      "5\n",
      "(96, 96, 96)\n",
      "(96, 96, 96)\n",
      "(96, 96, 96)\n",
      "(96, 96, 96)\n",
      "(96, 96, 96)\n",
      "5\n",
      "(96, 96, 96)\n",
      "(96, 96, 96)\n",
      "(96, 96, 96)\n",
      "(96, 96, 96)\n",
      "(96, 96, 96)\n",
      "5\n",
      "(96, 96, 96)\n",
      "(96, 96, 96)\n",
      "(96, 96, 96)\n",
      "(96, 96, 96)\n",
      "(96, 96, 96)\n",
      "5\n",
      "(96, 96, 96)\n",
      "(96, 96, 96)\n",
      "(96, 96, 96)\n",
      "(96, 96, 96)\n",
      "(96, 96, 96)\n",
      "5\n",
      "(96, 96, 96)\n",
      "(96, 96, 96)\n",
      "(96, 96, 96)\n",
      "(96, 96, 96)\n",
      "(96, 96, 96)\n",
      "5\n",
      "(96, 96, 96)\n",
      "(96, 96, 96)\n",
      "(96, 96, 96)\n",
      "(96, 96, 96)\n",
      "(96, 96, 96)\n",
      "5\n",
      "(96, 96, 96)\n",
      "(96, 96, 96)\n",
      "(96, 96, 96)\n",
      "(96, 96, 96)\n",
      "(96, 96, 96)\n",
      "5\n",
      "(96, 96, 96)\n",
      "(96, 96, 96)\n",
      "(96, 96, 96)\n",
      "(96, 96, 96)\n",
      "(96, 96, 96)\n",
      "5\n",
      "(96, 96, 96)\n",
      "(96, 96, 96)\n",
      "(96, 96, 96)\n",
      "(96, 96, 96)\n",
      "(96, 96, 96)\n",
      "5\n",
      "(96, 96, 96)\n",
      "(96, 96, 96)\n",
      "(96, 96, 96)\n",
      "(96, 96, 96)\n",
      "(96, 96, 96)\n",
      "5\n",
      "(96, 96, 96)\n",
      "(96, 96, 96)\n",
      "(96, 96, 96)\n",
      "(96, 96, 96)\n",
      "(96, 96, 96)\n",
      "5\n",
      "(96, 96, 96)\n",
      "(96, 96, 96)\n",
      "(96, 96, 96)\n",
      "(96, 96, 96)\n",
      "(96, 96, 96)\n",
      "5\n",
      "(96, 96, 96)\n",
      "(96, 96, 96)\n",
      "(96, 96, 96)\n",
      "(96, 96, 96)\n",
      "(96, 96, 96)\n",
      "5\n",
      "(96, 96, 96)\n",
      "(96, 96, 96)\n",
      "(96, 96, 96)\n",
      "(96, 96, 96)\n",
      "(96, 96, 96)\n",
      "5\n",
      "(96, 96, 96)\n",
      "(96, 96, 96)\n",
      "(96, 96, 96)\n",
      "(96, 96, 96)\n",
      "(96, 96, 96)\n",
      "5\n",
      "(96, 96, 96)\n",
      "(96, 96, 96)\n",
      "(96, 96, 96)\n",
      "(96, 96, 96)\n",
      "(96, 96, 96)\n",
      "5\n",
      "(96, 96, 96)\n",
      "(96, 96, 96)\n",
      "(96, 96, 96)\n",
      "(96, 96, 96)\n",
      "(96, 96, 96)\n",
      "5\n",
      "(96, 96, 96)\n",
      "(96, 96, 96)\n",
      "(96, 96, 96)\n",
      "(96, 96, 96)\n",
      "(96, 96, 96)\n",
      "5\n",
      "(96, 96, 96)\n",
      "(96, 96, 96)\n",
      "(96, 96, 96)\n",
      "(96, 96, 96)\n",
      "(96, 96, 96)\n",
      "5\n",
      "(96, 96, 96)\n",
      "(96, 96, 96)\n",
      "(96, 96, 96)\n",
      "(96, 96, 96)\n",
      "(96, 96, 96)\n",
      "5\n",
      "(96, 96, 96)\n",
      "(96, 96, 96)\n",
      "(96, 96, 96)\n",
      "(96, 96, 96)\n",
      "(96, 96, 96)\n",
      "5\n",
      "(96, 96, 96)\n",
      "(96, 96, 96)\n",
      "(96, 96, 96)\n",
      "(96, 96, 96)\n",
      "(96, 96, 96)\n",
      "5\n",
      "(96, 96, 96)\n",
      "(96, 96, 96)\n",
      "(96, 96, 96)\n",
      "(96, 96, 96)\n",
      "(96, 96, 96)\n",
      "5\n",
      "(96, 96, 96)\n",
      "(96, 96, 96)\n",
      "(96, 96, 96)\n",
      "(96, 96, 96)\n",
      "(96, 96, 96)\n",
      "5\n",
      "(96, 96, 96)\n",
      "(96, 96, 96)\n",
      "(96, 96, 96)\n",
      "(96, 96, 96)\n",
      "(96, 96, 96)\n",
      "5\n",
      "(96, 96, 96)\n",
      "(96, 96, 96)\n",
      "(96, 96, 96)\n",
      "(96, 96, 96)\n",
      "(96, 96, 96)\n",
      "5\n",
      "(96, 96, 96)\n",
      "(96, 96, 96)\n",
      "(96, 96, 96)\n",
      "(96, 96, 96)\n",
      "(96, 96, 96)\n",
      "5\n",
      "(96, 96, 96)\n",
      "(96, 96, 96)\n",
      "(96, 96, 96)\n",
      "(96, 96, 96)\n",
      "(96, 96, 96)\n",
      "5\n",
      "(96, 96, 96)\n",
      "(96, 96, 96)\n",
      "(96, 96, 96)\n",
      "(96, 96, 96)\n",
      "(96, 96, 96)\n",
      "5\n",
      "(96, 96, 96)\n",
      "(96, 96, 96)\n",
      "(96, 96, 96)\n",
      "(96, 96, 96)\n",
      "(96, 96, 96)\n",
      "5\n",
      "(96, 96, 96)\n",
      "(96, 96, 96)\n",
      "(96, 96, 96)\n",
      "(96, 96, 96)\n",
      "(96, 96, 96)\n",
      "5\n",
      "(96, 96, 96)\n",
      "(96, 96, 96)\n",
      "(96, 96, 96)\n",
      "(96, 96, 96)\n",
      "(96, 96, 96)\n",
      "5\n",
      "(96, 96, 96)\n",
      "(96, 96, 96)\n",
      "(96, 96, 96)\n",
      "(96, 96, 96)\n",
      "(96, 96, 96)\n",
      "5\n",
      "(96, 96, 96)\n",
      "(96, 96, 96)\n",
      "(96, 96, 96)\n",
      "(96, 96, 96)\n",
      "(96, 96, 96)\n",
      "5\n",
      "(96, 96, 96)\n",
      "(96, 96, 96)\n",
      "(96, 96, 96)\n",
      "(96, 96, 96)\n",
      "(96, 96, 96)\n",
      "5\n",
      "(96, 96, 96)\n",
      "(96, 96, 96)\n",
      "(96, 96, 96)\n",
      "(96, 96, 96)\n",
      "(96, 96, 96)\n",
      "5\n",
      "(96, 96, 96)\n",
      "(96, 96, 96)\n",
      "(96, 96, 96)\n",
      "(96, 96, 96)\n",
      "(96, 96, 96)\n",
      "5\n",
      "(96, 96, 96)\n",
      "(96, 96, 96)\n",
      "(96, 96, 96)\n",
      "(96, 96, 96)\n",
      "(96, 96, 96)\n",
      "5\n",
      "(96, 96, 96)\n",
      "(96, 96, 96)\n",
      "(96, 96, 96)\n",
      "(96, 96, 96)\n",
      "(96, 96, 96)\n",
      "5\n",
      "(96, 96, 96)\n",
      "(96, 96, 96)\n",
      "(96, 96, 96)\n",
      "(96, 96, 96)\n",
      "(96, 96, 96)\n",
      "5\n",
      "(96, 96, 96)\n",
      "(96, 96, 96)\n",
      "(96, 96, 96)\n",
      "(96, 96, 96)\n",
      "(96, 96, 96)\n",
      "5\n",
      "(96, 96, 96)\n",
      "(96, 96, 96)\n",
      "(96, 96, 96)\n",
      "(96, 96, 96)\n",
      "(96, 96, 96)\n",
      "5\n",
      "(96, 96, 96)\n",
      "(96, 96, 96)\n",
      "(96, 96, 96)\n",
      "(96, 96, 96)\n",
      "(96, 96, 96)\n",
      "5\n",
      "(96, 96, 96)\n",
      "(96, 96, 96)\n",
      "(96, 96, 96)\n",
      "(96, 96, 96)\n",
      "(96, 96, 96)\n",
      "5\n",
      "(96, 96, 96)\n",
      "(96, 96, 96)\n",
      "(96, 96, 96)\n",
      "(96, 96, 96)\n",
      "(96, 96, 96)\n",
      "5\n",
      "(96, 96, 96)\n",
      "(96, 96, 96)\n",
      "(96, 96, 96)\n",
      "(96, 96, 96)\n",
      "(96, 96, 96)\n",
      "5\n",
      "(96, 96, 96)\n",
      "(96, 96, 96)\n",
      "(96, 96, 96)\n",
      "(96, 96, 96)\n",
      "(96, 96, 96)\n",
      "5\n",
      "(96, 96, 96)\n",
      "(96, 96, 96)\n",
      "(96, 96, 96)\n",
      "(96, 96, 96)\n",
      "(96, 96, 96)\n",
      "5\n",
      "(96, 96, 96)\n",
      "(96, 96, 96)\n",
      "(96, 96, 96)\n",
      "(96, 96, 96)\n",
      "(96, 96, 96)\n",
      "5\n",
      "(96, 96, 96)\n",
      "(96, 96, 96)\n",
      "(96, 96, 96)\n",
      "(96, 96, 96)\n",
      "(96, 96, 96)\n",
      "5\n",
      "(96, 96, 96)\n",
      "(96, 96, 96)\n",
      "(96, 96, 96)\n",
      "(96, 96, 96)\n",
      "(96, 96, 96)\n",
      "5\n",
      "(96, 96, 96)\n",
      "(96, 96, 96)\n",
      "(96, 96, 96)\n",
      "(96, 96, 96)\n",
      "(96, 96, 96)\n",
      "5\n",
      "(96, 96, 96)\n",
      "(96, 96, 96)\n",
      "(96, 96, 96)\n",
      "(96, 96, 96)\n",
      "(96, 96, 96)\n",
      "5\n",
      "(96, 96, 96)\n",
      "(96, 96, 96)\n",
      "(96, 96, 96)\n",
      "(96, 96, 96)\n",
      "(96, 96, 96)\n",
      "5\n",
      "(96, 96, 96)\n",
      "(96, 96, 96)\n",
      "(96, 96, 96)\n",
      "(96, 96, 96)\n",
      "(96, 96, 96)\n",
      "5\n",
      "(96, 96, 96)\n",
      "(96, 96, 96)\n",
      "(96, 96, 96)\n",
      "(96, 96, 96)\n",
      "(96, 96, 96)\n",
      "5\n",
      "(96, 96, 96)\n",
      "(96, 96, 96)\n",
      "(96, 96, 96)\n",
      "(96, 96, 96)\n",
      "(96, 96, 96)\n",
      "5\n",
      "(96, 96, 96)\n",
      "(96, 96, 96)\n",
      "(96, 96, 96)\n",
      "(96, 96, 96)\n",
      "(96, 96, 96)\n",
      "5\n",
      "(96, 96, 96)\n",
      "(96, 96, 96)\n",
      "(96, 96, 96)\n",
      "(96, 96, 96)\n",
      "(96, 96, 96)\n",
      "5\n",
      "(96, 96, 96)\n",
      "(96, 96, 96)\n",
      "(96, 96, 96)\n",
      "(96, 96, 96)\n",
      "(96, 96, 96)\n",
      "5\n",
      "(96, 96, 96)\n",
      "(96, 96, 96)\n",
      "(96, 96, 96)\n",
      "(96, 96, 96)\n",
      "(96, 96, 96)\n",
      "5\n",
      "(96, 96, 96)\n",
      "(96, 96, 96)\n",
      "(96, 96, 96)\n",
      "(96, 96, 96)\n",
      "(96, 96, 96)\n",
      "5\n",
      "(96, 96, 96)\n",
      "(96, 96, 96)\n",
      "(96, 96, 96)\n",
      "(96, 96, 96)\n",
      "(96, 96, 96)\n",
      "5\n",
      "(96, 96, 96)\n",
      "(96, 96, 96)\n",
      "(96, 96, 96)\n",
      "(96, 96, 96)\n",
      "(96, 96, 96)\n",
      "5\n",
      "(96, 96, 96)\n",
      "(96, 96, 96)\n",
      "(96, 96, 96)\n",
      "(96, 96, 96)\n",
      "(96, 96, 96)\n",
      "5\n",
      "(96, 96, 96)\n",
      "(96, 96, 96)\n",
      "(96, 96, 96)\n",
      "(96, 96, 96)\n",
      "(96, 96, 96)\n",
      "5\n",
      "(96, 96, 96)\n",
      "(96, 96, 96)\n",
      "(96, 96, 96)\n",
      "(96, 96, 96)\n",
      "(96, 96, 96)\n",
      "5\n",
      "(96, 96, 96)\n",
      "(96, 96, 96)\n",
      "(96, 96, 96)\n",
      "(96, 96, 96)\n",
      "(96, 96, 96)\n",
      "5\n",
      "(96, 96, 96)\n",
      "(96, 96, 96)\n",
      "(96, 96, 96)\n",
      "(96, 96, 96)\n",
      "(96, 96, 96)\n",
      "5\n",
      "(96, 96, 96)\n",
      "(96, 96, 96)\n",
      "(96, 96, 96)\n",
      "(96, 96, 96)\n",
      "(96, 96, 96)\n",
      "5\n",
      "(96, 96, 96)\n",
      "(96, 96, 96)\n",
      "(96, 96, 96)\n",
      "(96, 96, 96)\n",
      "4\n",
      "Elapsed: 1342.60 s.\n"
     ]
    }
   ],
   "source": [
    "# get all ensemble - Elapsed: 1342.60 s. => 1200 + 120 + 60 s => 25min\n",
    "start = time.time()\n",
    "\n",
    "for i in range(len(batches)):\n",
    "    # load each models pred (6) for (0,5), (5,10) etc => 30 preds per range\n",
    "    model_preds_dict = {model_fn:load_model_preds(model_fn, file_range=range(i,i+1)) for model_fn in models_to_ensemble}\n",
    "    \n",
    "    # get lcc for each of preds\n",
    "    majority_votes = []\n",
    "    for bs_item in range(len(batches[i])):\n",
    "        preds = [get_largest_connected_component(torch2sitk(preds[bs_item].argmax(0).byte())) for model_fn, preds in model_preds_dict.items()]\n",
    "    \n",
    "        # get majority vote\n",
    "        labelForUndecidedPixels = 0\n",
    "        majority_vote = sitk.LabelVoting(preds, labelForUndecidedPixels)\n",
    "\n",
    "        print(majority_vote.GetSize())\n",
    "        majority_votes.append(sitk2torch(majority_vote))\n",
    "    \n",
    "    # save model outputs\n",
    "    with open(f\"{run_src}/model_ensemble/preds_batch_{i}_bs_{bs}.pkl\", 'wb') as handle:\n",
    "        pickle.dump(majority_votes, handle)\n",
    "        \n",
    "    print(len(majority_votes))\n",
    "        \n",
    "elapsed = time.time() - start\n",
    "print(f\"Elapsed: {elapsed:0.2f} s.\")"
   ]
  },
  {
   "cell_type": "markdown",
   "id": "2c0c8ff2",
   "metadata": {},
   "source": [
    "# Load ensemble"
   ]
  },
  {
   "cell_type": "code",
   "execution_count": 7,
   "id": "60eb3d36",
   "metadata": {},
   "outputs": [
    {
     "name": "stdout",
     "output_type": "stream",
     "text": [
      "time_1627971508_and_time_1627978137_and_time_1627971506_and_time_1627978233_and_time_1628097973_and_time_1628097978\n",
      "Elapsed: 9.73 s\n"
     ]
    }
   ],
   "source": [
    "# load ensemble\n",
    "\n",
    "ensemble_name          = \"_and_\".join([get_model_id(model_fn) for model_fn in models_to_ensemble])\n",
    "ensemble_src           = f\"{run_src}/model_ensemble/{ensemble_name}\"\n",
    "\n",
    "print(ensemble_name)\n",
    "\n",
    "# Items as dict \n",
    "items  = all_test_lbl_items\n",
    "itemsd = getd(items)\n",
    "\n",
    "# create batches\n",
    "bs        = 5\n",
    "batches = [itemsd[i:min(i+bs, len(itemsd))] for i in range(0,len(itemsd),bs)]\n",
    "\n",
    "# load preds\n",
    "ensemble_all_majority_vote = []\n",
    "ensemble_bce_majority_vote = []\n",
    "ensemble_dice_majority_vote = []\n",
    "\n",
    "start = time.time()\n",
    "for i in range(len(batches)):\n",
    "    with open(f\"{ensemble_src}/dice_preds_batch_{i}_bs_{bs}.pkl\", 'rb') as handle:\n",
    "        ensemble_dice_majority_vote += pickle.load(handle)\n",
    "\n",
    "    with open(f\"{ensemble_src}/bce_preds_batch_{i}_bs_{bs}.pkl\", 'rb') as handle:\n",
    "        ensemble_bce_majority_vote += pickle.load(handle)\n",
    "\n",
    "    with open(f\"{ensemble_src}/all_preds_batch_{i}_bs_{bs}.pkl\", 'rb') as handle:\n",
    "        ensemble_all_majority_vote += pickle.load(handle)\n",
    "        \n",
    "elapsed = time.time() - start\n",
    "print(f\"Elapsed: {elapsed:0.2f} s\")"
   ]
  },
  {
   "cell_type": "code",
   "execution_count": 8,
   "id": "a23d8dbf",
   "metadata": {},
   "outputs": [
    {
     "name": "stdout",
     "output_type": "stream",
     "text": [
      "dice majority vote\n",
      "484\n",
      "bce majority vote\n",
      "484\n",
      "all majority vote\n",
      "484\n"
     ]
    }
   ],
   "source": [
    "# print(\"all data = inputs/labels\", len(all_data))\n",
    "print(\"dice majority vote\", len(ensemble_dice_majority_vote), \n",
    "      \"bce majority vote\", len(ensemble_bce_majority_vote), \n",
    "      \"all majority vote\", len(ensemble_all_majority_vote), sep=\"\\n\")"
   ]
  },
  {
   "cell_type": "code",
   "execution_count": 10,
   "id": "dc35cb52",
   "metadata": {},
   "outputs": [
    {
     "data": {
      "text/html": [
       "<div>\n",
       "<style scoped>\n",
       "    .dataframe tbody tr th:only-of-type {\n",
       "        vertical-align: middle;\n",
       "    }\n",
       "\n",
       "    .dataframe tbody tr th {\n",
       "        vertical-align: top;\n",
       "    }\n",
       "\n",
       "    .dataframe thead th {\n",
       "        text-align: right;\n",
       "    }\n",
       "</style>\n",
       "<table border=\"1\" class=\"dataframe\">\n",
       "  <thead>\n",
       "    <tr style=\"text-align: right;\">\n",
       "      <th></th>\n",
       "      <th>dice</th>\n",
       "      <th>false_neg</th>\n",
       "      <th>false_pos</th>\n",
       "      <th>IoU</th>\n",
       "      <th>hausdorff_dist</th>\n",
       "      <th>image</th>\n",
       "      <th>label</th>\n",
       "    </tr>\n",
       "  </thead>\n",
       "  <tbody>\n",
       "    <tr>\n",
       "      <th>0</th>\n",
       "      <td>0.777514</td>\n",
       "      <td>0.290787</td>\n",
       "      <td>0.139629</td>\n",
       "      <td>0.636010</td>\n",
       "      <td>4.123106</td>\n",
       "      <td>/gpfs/data/oermannlab/private_data/DeepPit/PitMRdata/samir_labels/50002-50153/50011/MP-RAGE/2000-01-01_00_00_00.0/S165075/ABIDE_50011_MRI_MP-RAGE_br_raw_20120830203207657_S165075_I329085_corrected_n4.nii</td>\n",
       "      <td>/gpfs/data/oermannlab/private_data/DeepPit/PitMRdata/samir_labels/50002-50153/50011/seg.nii</td>\n",
       "    </tr>\n",
       "    <tr>\n",
       "      <th>1</th>\n",
       "      <td>0.147490</td>\n",
       "      <td>0.867906</td>\n",
       "      <td>0.833052</td>\n",
       "      <td>0.079616</td>\n",
       "      <td>15.033296</td>\n",
       "      <td>/gpfs/data/oermannlab/private_data/DeepPit/PitMRdata/samir_labels/50373-50453/50379/MP-RAGE/2000-01-01_00_00_00.0/S165402/ABIDE_50379_MRI_MP-RAGE_br_raw_20120830233630136_S165402_I329412_corrected_n4.nii</td>\n",
       "      <td>/gpfs/data/oermannlab/private_data/DeepPit/PitMRdata/samir_labels/50373-50453/50379/seg.nii</td>\n",
       "    </tr>\n",
       "    <tr>\n",
       "      <th>2</th>\n",
       "      <td>0.450757</td>\n",
       "      <td>0.563212</td>\n",
       "      <td>0.534351</td>\n",
       "      <td>0.290953</td>\n",
       "      <td>11.000000</td>\n",
       "      <td>/gpfs/data/oermannlab/private_data/DeepPit/PitMRdata/samir_labels/50002-50153/50008/MP-RAGE/2000-01-01_00_00_00.0/S164971/ABIDE_50008_MRI_MP-RAGE_br_raw_20120830194128385_S164971_I328981_corrected_n4.nii</td>\n",
       "      <td>/gpfs/data/oermannlab/private_data/DeepPit/PitMRdata/samir_labels/50002-50153/50008/seg.nii</td>\n",
       "    </tr>\n",
       "    <tr>\n",
       "      <th>3</th>\n",
       "      <td>0.276822</td>\n",
       "      <td>0.776074</td>\n",
       "      <td>0.637564</td>\n",
       "      <td>0.160646</td>\n",
       "      <td>14.628739</td>\n",
       "      <td>/gpfs/data/oermannlab/private_data/DeepPit/PitMRdata/samir_labels/50313-50372/50333/MP-RAGE/2000-01-01_00_00_00.0/S165330/ABIDE_50333_MRI_MP-RAGE_br_raw_20120830225747452_S165330_I329340_corrected_n4.nii</td>\n",
       "      <td>/gpfs/data/oermannlab/private_data/DeepPit/PitMRdata/samir_labels/50313-50372/50333/seg.nii</td>\n",
       "    </tr>\n",
       "    <tr>\n",
       "      <th>4</th>\n",
       "      <td>0.646687</td>\n",
       "      <td>0.496747</td>\n",
       "      <td>0.095522</td>\n",
       "      <td>0.477855</td>\n",
       "      <td>11.180340</td>\n",
       "      <td>/gpfs/data/oermannlab/private_data/DeepPit/PitMRdata/samir_labels/50002-50153/50060/MP-RAGE/2000-01-01_00_00_00.0/S164445/ABIDE_50060_MRI_MP-RAGE_br_raw_20120830160721935_S164445_I328442_corrected_n4.nii</td>\n",
       "      <td>/gpfs/data/oermannlab/private_data/DeepPit/PitMRdata/samir_labels/50002-50153/50060/seg.nii</td>\n",
       "    </tr>\n",
       "  </tbody>\n",
       "</table>\n",
       "</div>"
      ],
      "text/plain": [
       "       dice  false_neg  false_pos       IoU  hausdorff_dist  \\\n",
       "0  0.777514   0.290787   0.139629  0.636010        4.123106   \n",
       "1  0.147490   0.867906   0.833052  0.079616       15.033296   \n",
       "2  0.450757   0.563212   0.534351  0.290953       11.000000   \n",
       "3  0.276822   0.776074   0.637564  0.160646       14.628739   \n",
       "4  0.646687   0.496747   0.095522  0.477855       11.180340   \n",
       "\n",
       "                                                                                                                                                                                                         image  \\\n",
       "0  /gpfs/data/oermannlab/private_data/DeepPit/PitMRdata/samir_labels/50002-50153/50011/MP-RAGE/2000-01-01_00_00_00.0/S165075/ABIDE_50011_MRI_MP-RAGE_br_raw_20120830203207657_S165075_I329085_corrected_n4.nii   \n",
       "1  /gpfs/data/oermannlab/private_data/DeepPit/PitMRdata/samir_labels/50373-50453/50379/MP-RAGE/2000-01-01_00_00_00.0/S165402/ABIDE_50379_MRI_MP-RAGE_br_raw_20120830233630136_S165402_I329412_corrected_n4.nii   \n",
       "2  /gpfs/data/oermannlab/private_data/DeepPit/PitMRdata/samir_labels/50002-50153/50008/MP-RAGE/2000-01-01_00_00_00.0/S164971/ABIDE_50008_MRI_MP-RAGE_br_raw_20120830194128385_S164971_I328981_corrected_n4.nii   \n",
       "3  /gpfs/data/oermannlab/private_data/DeepPit/PitMRdata/samir_labels/50313-50372/50333/MP-RAGE/2000-01-01_00_00_00.0/S165330/ABIDE_50333_MRI_MP-RAGE_br_raw_20120830225747452_S165330_I329340_corrected_n4.nii   \n",
       "4  /gpfs/data/oermannlab/private_data/DeepPit/PitMRdata/samir_labels/50002-50153/50060/MP-RAGE/2000-01-01_00_00_00.0/S164445/ABIDE_50060_MRI_MP-RAGE_br_raw_20120830160721935_S164445_I328442_corrected_n4.nii   \n",
       "\n",
       "                                                                                         label  \n",
       "0  /gpfs/data/oermannlab/private_data/DeepPit/PitMRdata/samir_labels/50002-50153/50011/seg.nii  \n",
       "1  /gpfs/data/oermannlab/private_data/DeepPit/PitMRdata/samir_labels/50373-50453/50379/seg.nii  \n",
       "2  /gpfs/data/oermannlab/private_data/DeepPit/PitMRdata/samir_labels/50002-50153/50008/seg.nii  \n",
       "3  /gpfs/data/oermannlab/private_data/DeepPit/PitMRdata/samir_labels/50313-50372/50333/seg.nii  \n",
       "4  /gpfs/data/oermannlab/private_data/DeepPit/PitMRdata/samir_labels/50002-50153/50060/seg.nii  "
      ]
     },
     "metadata": {},
     "output_type": "display_data"
    }
   ],
   "source": [
    "# read ensemble df    \n",
    "ensemble_all_df = pd.read_pickle(f\"{ensemble_src}/ensemble_all_df.pkl\")\n",
    "ensemble_dice_df = pd.read_pickle(f\"{ensemble_src}/ensemble_dice_df.pkl\")\n",
    "ensemble_bce_df = pd.read_pickle(f\"{ensemble_src}/ensemble_bce_df.pkl\")\n",
    "\n",
    "display(ensemble_dice_df.head())"
   ]
  },
  {
   "cell_type": "code",
   "execution_count": 13,
   "id": "15b0dac8",
   "metadata": {},
   "outputs": [],
   "source": [
    "# save model outputs\n",
    "ensemble_preds = []\n",
    "for i in range(len(batches)):\n",
    "    with open(f\"{run_src}/model_ensemble/preds_batch_{i}_bs_{bs}.pkl\", 'rb') as handle:\n",
    "        ensemble_preds.append(pickle.load(handle))\n"
   ]
  },
  {
   "cell_type": "code",
   "execution_count": 15,
   "id": "c96a11f9",
   "metadata": {},
   "outputs": [
    {
     "data": {
      "text/plain": [
       "(97, torch.Size([96, 96, 96]))"
      ]
     },
     "execution_count": 15,
     "metadata": {},
     "output_type": "execute_result"
    }
   ],
   "source": [
    "len(ensemble_preds), ensemble_preds[0].shape"
   ]
  },
  {
   "cell_type": "code",
   "execution_count": null,
   "id": "e400a603",
   "metadata": {},
   "outputs": [],
   "source": [
    "preds = [get_largest_connected_component(torch2sitk(preds[0].argmax(0).byte())) for model_fn, preds in model_preds_dict.items()]\n",
    "\n",
    "labelForUndecidedPixels = 0\n",
    "majority_vote = sitk.LabelVoting(preds, labelForUndecidedPixels)"
   ]
  },
  {
   "cell_type": "code",
   "execution_count": 7,
   "id": "c1bae188",
   "metadata": {},
   "outputs": [],
   "source": [
    "# get ground truth inputs, labels\n",
    "file_range_items = [item for i in file_range for item in batches[i]]\n",
    "val_tfms = val_tfm_dict[\"full_res_96_pixdim_1.5_do_condseg_False\"]\n",
    "data = Pipeline(val_tfms)(file_range_items)\n",
    "inputs, labels = zip(*data) # [(img,lbl), (img,lbl)] => imgs, labels\n",
    "inputs = torch.stack(inputs, dim=0)\n",
    "labels = torch.stack(labels, dim=0)"
   ]
  },
  {
   "cell_type": "code",
   "execution_count": 8,
   "id": "5eeeb9c6",
   "metadata": {},
   "outputs": [
    {
     "name": "stdout",
     "output_type": "stream",
     "text": [
      "10 10\n",
      "torch.Size([1, 96, 96, 96]) torch.Size([2, 96, 96, 96])\n"
     ]
    }
   ],
   "source": [
    "# look at dice scores\n",
    "print(len(labels), len(model_preds_dict[models_to_ensemble[0]]))\n",
    "print(labels[0].shape, model_preds_dict[models_to_ensemble[0]][0].shape)"
   ]
  },
  {
   "cell_type": "code",
   "execution_count": 9,
   "id": "b86af159",
   "metadata": {},
   "outputs": [],
   "source": [
    "# first label: orig item, input, ground truth label, 6 segmentation masks, final segmentation mask, overlay, crop"
   ]
  },
  {
   "cell_type": "code",
   "execution_count": 133,
   "id": "42e42719",
   "metadata": {},
   "outputs": [
    {
     "name": "stdout",
     "output_type": "stream",
     "text": [
      "item {'image': '/gpfs/data/oermannlab/private_data/DeepPit/PitMRdata/samir_labels/50002-50153/50011/MP-RAGE/2000-01-01_00_00_00.0/S165075/ABIDE_50011_MRI_MP-RAGE_br_raw_20120830203207657_S165075_I329085_corrected_n4.nii', 'label': '/gpfs/data/oermannlab/private_data/DeepPit/PitMRdata/samir_labels/50002-50153/50011/seg.nii'}\n",
      "original bbox tensor([ 73, 102, 131, 155, 110, 132])\n",
      "original shape torch.Size([176, 256, 256])\n",
      "Middle of axis 0 of orig bbox:  tensor(87)\n"
     ]
    },
    {
     "data": {
      "image/png": "[encoded data removed]",
      "text/plain": [
       "<Figure size 432x288 with 1 Axes>"
      ]
     },
     "metadata": {
      "needs_background": "light"
     },
     "output_type": "display_data"
    }
   ],
   "source": [
    "# Get original MR\n",
    "from monai.transforms import LoadImaged, ToTensord\n",
    "from helpers.transforms_simplified import UndoDict\n",
    "from helpers.viz import get_mid_idx\n",
    "\n",
    "keys=[\"image\",\"label\"]\n",
    "\n",
    "item = file_range_items[0]\n",
    "\n",
    "orig_input = ToTensord(keys)(LoadImaged(keys)(item))\n",
    "orig_mr, orig_mk = UndoDict()(orig_input)\n",
    "orig_bbox = batch_get_bbox(orig_mk.unsqueeze(0))[0]\n",
    "orig_mid0 = get_mid_idx(orig_bbox)[0]\n",
    "\n",
    "print(\"item\", item)                             \n",
    "print(\"original bbox\", orig_bbox)\n",
    "print(\"original shape\", orig_mr.shape)\n",
    "print(\"Middle of axis 0 of orig bbox: \", orig_mid0)\n",
    "# seg_dict = {\"image\": orig_mr, \"label\": orig_seg}\n",
    "# val_transforms[:,-1].inverse(seg_dict)\n",
    "\n",
    "# print(orig_input.shape)\n",
    "fig, ax = plt.subplots()\n",
    "ax.axis('off')\n",
    "ax.imshow(np.rot90(orig_mr[orig_mid0]), cmap=plt.cm.gray)\n",
    "fig.savefig(f\"model_orig_inputs_{Path(item['image']).name}.png\", bbox_inches='tight', dpi = 1000)\n"
   ]
  },
  {
   "cell_type": "code",
   "execution_count": 134,
   "id": "65badae9",
   "metadata": {},
   "outputs": [
    {
     "data": {
      "text/plain": [
       "'model_orig_inputs_ABIDE_50011_MRI_MP-RAGE_br_raw_20120830203207657_S165075_I329085_corrected_n4.nii.png'"
      ]
     },
     "execution_count": 134,
     "metadata": {},
     "output_type": "execute_result"
    }
   ],
   "source": [
    "f\"model_orig_inputs_{Path(item['image']).name}.png\""
   ]
  },
  {
   "cell_type": "code",
   "execution_count": 51,
   "id": "6e2162a9",
   "metadata": {},
   "outputs": [],
   "source": [
    "from helpers.transforms_simplified import fake_tfms"
   ]
  },
  {
   "cell_type": "code",
   "execution_count": 52,
   "id": "49242e70",
   "metadata": {},
   "outputs": [
    {
     "data": {
      "text/plain": [
       "{'image': '/gpfs/data/oermannlab/private_data/DeepPit/PitMRdata/samir_labels/50002-50153/50011/MP-RAGE/2000-01-01_00_00_00.0/S165075/ABIDE_50011_MRI_MP-RAGE_br_raw_20120830203207657_S165075_I329085_corrected_n4.nii',\n",
       " 'label': '/gpfs/data/oermannlab/private_data/DeepPit/PitMRdata/samir_labels/50002-50153/50011/seg.nii'}"
      ]
     },
     "execution_count": 52,
     "metadata": {},
     "output_type": "execute_result"
    }
   ],
   "source": [
    "item"
   ]
  },
  {
   "cell_type": "code",
   "execution_count": 65,
   "id": "1eaabd62",
   "metadata": {},
   "outputs": [
    {
     "name": "stdout",
     "output_type": "stream",
     "text": [
      "<monai.transforms.spatial.dictionary.Spacingd object at 0x7f5f730332b0>\n",
      "<monai.transforms.utility.dictionary.AddChanneld object at 0x7f5f73033550>\n",
      "<monai.transforms.croppad.dictionary.SpatialPadd object at 0x7f5f730336a0>\n",
      "<monai.transforms.croppad.dictionary.CenterSpatialCropd object at 0x7f5f73033710>\n",
      "<monai.transforms.utility.dictionary.ToTensord object at 0x7f5f73033780>\n",
      "UndoDict(['image', 'label'])\n"
     ]
    }
   ],
   "source": [
    "# Trace orig mr idx\n",
    "from monai.transforms import LoadImage, Compose\n",
    "\n",
    "# fake_tfms_todo = fake_tfms(key=\"label\", pixdim=(1.5,1.5,1.5), full_res=(96, 96, 96))\n",
    "# fake_output =fake_tfms_todo(fake_input)\n",
    "\n",
    "# remove load image (tfm 0), intensity normalize (tfm 2)\n",
    "spatial_tfms = (val_tfms.transforms[1], *val_tfms.transforms[3:])\n",
    "print(*spatial_tfms, sep=\"\\n\")\n",
    "\n",
    "# add id to middle of each slice\n",
    "fake = torch.zeros(orig_mr.shape)\n",
    "fake_mid = np.asarray(orig_mr.shape)[1:]//2\n",
    "for i in range(orig_mr.shape[0]):\n",
    "    #fake[i,fake_mid[0], fake_mid[1]] = i\n",
    "    fake[i,fake_mid[0]-20:fake_mid[0]+20, fake_mid[1]-20:fake_mid[1]+20] = i\n",
    "    \n",
    "fake_input = LoadImaged(keys)(item)\n",
    "fake_input[\"image\"] = fake\n",
    "fake_input[\"label\"] = fake\n",
    "\n",
    "# remove mk's ch dim from (mr, mk) after, shape = full_res\n",
    "fake_output = Compose(spatial_tfms)(fake_input)\n",
    "fake_output = fake_output[1].squeeze(0)"
   ]
  },
  {
   "cell_type": "code",
   "execution_count": 15,
   "id": "b29660ea",
   "metadata": {},
   "outputs": [],
   "source": [
    "# 6 segmentation masks\n",
    "preds = [get_largest_connected_component(torch2sitk(preds[0].argmax(0).byte())) for model_fn, preds in model_preds_dict.items()]\n",
    "pred_bboxs = batch_get_bbox(torch.stack([sitk2torch(pred).byte() for pred in preds], dim=0))"
   ]
  },
  {
   "cell_type": "code",
   "execution_count": 72,
   "id": "9a2f96bf",
   "metadata": {},
   "outputs": [
    {
     "name": "stdout",
     "output_type": "stream",
     "text": [
      "orig mr mid0 tensor(87)\n",
      "tensor([[47, 34, 27],\n",
      "        [47, 34, 28],\n",
      "        [47, 34, 29],\n",
      "        ...,\n",
      "        [47, 61, 66],\n",
      "        [47, 61, 67],\n",
      "        [47, 61, 68]])\n",
      "tensor([[87., 87., 87., 87., 87., 87., 87., 87., 87., 87.],\n",
      "        [87., 87., 87., 87., 87., 87., 87., 87., 87., 87.],\n",
      "        [87., 87., 87., 87., 87., 87., 87., 87., 87., 87.],\n",
      "        [87., 87., 87., 87., 87., 87., 87., 87., 87., 87.],\n",
      "        [87., 87., 87., 87., 87., 87., 87., 87., 87., 87.],\n",
      "        [87., 87., 87., 87., 87., 87., 87., 87., 87., 87.],\n",
      "        [87., 87., 87., 87., 87., 87., 87., 87., 87., 87.],\n",
      "        [87., 87., 87., 87., 87., 87., 87., 87., 87., 87.],\n",
      "        [87., 87., 87., 87., 87., 87., 87., 87., 87., 87.],\n",
      "        [87., 87., 87., 87., 87., 87., 87., 87., 87., 87.]])\n"
     ]
    }
   ],
   "source": [
    "print(\"orig mr mid0\", orig_mid0)\n",
    "print((fake_output==orig_mid0).nonzero())\n",
    "\n",
    "# index 47\n",
    "input_mid0 = 47\n",
    "\n",
    "print(fake_output[47,40:50,40:50])"
   ]
  },
  {
   "cell_type": "code",
   "execution_count": 71,
   "id": "6285971c",
   "metadata": {},
   "outputs": [
    {
     "name": "stdout",
     "output_type": "stream",
     "text": [
      "tensor([31, 63, 48, 68, 32, 50])\n",
      "tensor([32, 64, 48, 67, 33, 50])\n",
      "tensor([31, 64, 48, 68, 32, 51])\n",
      "tensor([31, 64, 48, 68, 33, 50])\n",
      "tensor([31, 65, 47, 78, 31, 51])\n",
      "tensor([31, 65, 48, 70, 32, 50])\n"
     ]
    }
   ],
   "source": [
    "print(*pred_bboxs, sep=\"\\n\")"
   ]
  },
  {
   "cell_type": "code",
   "execution_count": 73,
   "id": "e3aa4b8c",
   "metadata": {},
   "outputs": [
    {
     "data": {
      "image/png": "[encoded data removed]",
      "text/plain": [
       "<Figure size 432x288 with 1 Axes>"
      ]
     },
     "metadata": {
      "needs_background": "light"
     },
     "output_type": "display_data"
    }
   ],
   "source": [
    "# input\n",
    "fig, ax = plt.subplots()\n",
    "ax.axis('off')\n",
    "\n",
    "# BC, DHW\n",
    "ax.imshow(np.rot90(inputs[0,0][input_mid0]), cmap=plt.cm.gray)\n",
    "fig.savefig(f\"model_input.png\", bbox_inches='tight', dpi = 1000)"
   ]
  },
  {
   "cell_type": "code",
   "execution_count": 71,
   "id": "b0e5ec0a",
   "metadata": {},
   "outputs": [
    {
     "data": {
      "text/plain": [
       "tensor([[31, 63, 48, 68, 32, 50],\n",
       "        [32, 64, 48, 67, 33, 50],\n",
       "        [31, 64, 48, 68, 32, 51],\n",
       "        [31, 64, 48, 68, 33, 50],\n",
       "        [31, 65, 47, 78, 31, 51],\n",
       "        [31, 65, 48, 70, 32, 50]])"
      ]
     },
     "execution_count": 71,
     "metadata": {},
     "output_type": "execute_result"
    }
   ],
   "source": [
    "pred_bboxs"
   ]
  },
  {
   "cell_type": "code",
   "execution_count": 77,
   "id": "703e1a94",
   "metadata": {},
   "outputs": [
    {
     "data": {
      "text/plain": [
       "torch.Size([96, 96, 96])"
      ]
     },
     "execution_count": 77,
     "metadata": {},
     "output_type": "execute_result"
    }
   ],
   "source": [
    "sitk2torch(preds[0]).shape"
   ]
  },
  {
   "cell_type": "code",
   "execution_count": 1,
   "id": "532a912e",
   "metadata": {},
   "outputs": [
    {
     "name": "stdout",
     "output_type": "stream",
     "text": [
      "[(0, 'zero'), (1, 'one'), (2, 'two')]\n"
     ]
    }
   ],
   "source": [
    "l = [\"zero\", \"one\", \"two\"]\n",
    "print(list(enumerate(l)))\n"
   ]
  },
  {
   "cell_type": "code",
   "execution_count": 136,
   "id": "f5b4fea9",
   "metadata": {},
   "outputs": [
    {
     "data": {
      "image/png": "[encoded data removed]",
      "text/plain": [
       "<Figure size 432x288 with 1 Axes>"
      ]
     },
     "metadata": {
      "needs_background": "light"
     },
     "output_type": "display_data"
    },
    {
     "data": {
      "image/png": "[encoded data removed]",
      "text/plain": [
       "<Figure size 432x288 with 1 Axes>"
      ]
     },
     "metadata": {
      "needs_background": "light"
     },
     "output_type": "display_data"
    },
    {
     "data": {
      "image/png": "[encoded data removed]",
      "text/plain": [
       "<Figure size 432x288 with 1 Axes>"
      ]
     },
     "metadata": {
      "needs_background": "light"
     },
     "output_type": "display_data"
    },
    {
     "data": {
      "image/png": "[encoded data removed]",
      "text/plain": [
       "<Figure size 432x288 with 1 Axes>"
      ]
     },
     "metadata": {
      "needs_background": "light"
     },
     "output_type": "display_data"
    },
    {
     "data": {
      "image/png": "[encoded data removed]",
      "text/plain": [
       "<Figure size 432x288 with 1 Axes>"
      ]
     },
     "metadata": {
      "needs_background": "light"
     },
     "output_type": "display_data"
    },
    {
     "data": {
      "image/png": "[encoded data removed]",
      "text/plain": [
       "<Figure size 432x288 with 1 Axes>"
      ]
     },
     "metadata": {
      "needs_background": "light"
     },
     "output_type": "display_data"
    }
   ],
   "source": [
    "# input\n",
    "\n",
    "from matplotlib import colors\n",
    "\n",
    "color_list = ['b', 'g', 'r', 'c', 'm', 'orange']\n",
    "bin_cmaps  = {color:colors.ListedColormap(['black', color]) for color in color_list}\n",
    "\n",
    "\n",
    "# BC, DHW\n",
    "for i, color in enumerate(color_list):\n",
    "    fig, ax = plt.subplots()\n",
    "    ax.axis('off')\n",
    "    ax.imshow(np.rot90(sitk2torch(preds[i])[input_mid0]), cmap=bin_cmaps[color])\n",
    "    fig.savefig(f\"model_output_{i}.png\", bbox_inches='tight', dpi = 1000)"
   ]
  },
  {
   "cell_type": "code",
   "execution_count": 109,
   "id": "fb99145c",
   "metadata": {},
   "outputs": [],
   "source": [
    "# get majority vote\n",
    "\n",
    "# 6 preds for given label ==> max dice pre, ensemble dice\n",
    "def get_majority_vote(label, preds_lcc): # all_preds\n",
    "    #label      = torch2sitk(label.squeeze(0).byte())\n",
    "    #preds_lcc  = [get_largest_connected_component(torch2sitk(pred.argmax(0).byte())) for pred in all_preds]\n",
    "        \n",
    "    labelForUndecidedPixels = 0\n",
    "    majority_vote = sitk.LabelVoting(preds_lcc, labelForUndecidedPixels)\n",
    "        \n",
    "    # get metrics\n",
    "    majority_metrics = eval_measure(label, majority_vote)\n",
    "    indiv_metrics = [eval_measure(label, pred_lcc) for pred_lcc in preds_lcc]\n",
    "    \n",
    "    return sitk2torch(majority_vote), [sitk2torch(pred_lcc) for pred_lcc in preds_lcc], majority_metrics, indiv_metrics"
   ]
  },
  {
   "cell_type": "code",
   "execution_count": 115,
   "id": "ff5ddfec",
   "metadata": {},
   "outputs": [],
   "source": [
    "labelForUndecidedPixels = 0\n",
    "majority_vote = sitk.LabelVoting(preds, labelForUndecidedPixels)"
   ]
  },
  {
   "cell_type": "code",
   "execution_count": 128,
   "id": "b1151d1a",
   "metadata": {},
   "outputs": [
    {
     "data": {
      "image/png": "[encoded data removed]",
      "text/plain": [
       "<Figure size 432x288 with 1 Axes>"
      ]
     },
     "metadata": {
      "needs_background": "light"
     },
     "output_type": "display_data"
    }
   ],
   "source": [
    "from helpers.general import sitk2np\n",
    "yellow_cmap = colors.ListedColormap(['black', 'yellow'])\n",
    "                                          \n",
    "fig, ax = plt.subplots()\n",
    "ax.axis('off')\n",
    "ax.imshow(np.rot90(sitk2np(majority_vote)[input_mid0]), cmap=yellow_cmap)\n",
    "fig.savefig(f\"model_output_majority.png\", bbox_inches='tight', dpi = 1000)"
   ]
  },
  {
   "cell_type": "code",
   "execution_count": 129,
   "id": "c1bd7b32",
   "metadata": {},
   "outputs": [
    {
     "data": {
      "image/png": "[encoded data removed]",
      "text/plain": [
       "<Figure size 432x288 with 1 Axes>"
      ]
     },
     "metadata": {
      "needs_background": "light"
     },
     "output_type": "display_data"
    }
   ],
   "source": [
    "# final overlay\n",
    "fig, ax = plt.subplots()\n",
    "ax.axis('off')\n",
    "ax.imshow(np.rot90(inputs[0,0][input_mid0]),cmap=plt.cm.gray)\n",
    "ax.imshow(np.rot90(sitk2np(majority_vote)[input_mid0]),cmap=yellow_cmap, alpha=0.5)\n",
    "fig.savefig(f\"model_overlay.png\", bbox_inches='tight', dpi = 1000)"
   ]
  },
  {
   "cell_type": "code",
   "execution_count": 132,
   "id": "71172324",
   "metadata": {},
   "outputs": [
    {
     "name": "stdout",
     "output_type": "stream",
     "text": [
      "48 66 33 49\n",
      "im (96, 96) sg (96, 96) (96, 96) (18, 16)\n",
      "Resampled by a factor of 2 with cubic interpolation:\n"
     ]
    },
    {
     "data": {
      "image/png": "[encoded data removed]",
      "text/plain": [
       "<Figure size 432x288 with 1 Axes>"
      ]
     },
     "metadata": {
      "needs_background": "light"
     },
     "output_type": "display_data"
    }
   ],
   "source": [
    "def twod_get_bbox(masks):\n",
    "    # HW -> H\n",
    "    # HW -> W\n",
    "    j = torch.any(masks, dim=0) # 0 -> 1,2 -> 2 -> 1 left\n",
    "    i = torch.any(masks, dim=1) # 1 -> 0,2 -> 0 -> 0 left\n",
    "\n",
    "    imin, imax = torch.where(i)[0][[0, -1]]\n",
    "    jmin, jmax = torch.where(j)[0][[0, -1]]\n",
    "  \n",
    "    return imin,imax,jmin,jmax\n",
    "\n",
    "im = inputs[0,0][input_mid0]\n",
    "sg = sitk2torch(majority_vote)[input_mid0]\n",
    "a,b,c,d = np.asarray(twod_get_bbox(sg))\n",
    "print(a,b,c,d)\n",
    "\n",
    "im = np.asarray(im)\n",
    "sg = np.asarray(sg)\n",
    "m = np.multiply(im,sg)\n",
    "print(\"im\", im.shape, \"sg\", sg.shape, (im*sg).shape, np.multiply(im,sg)[a:b,c:d].shape)\n",
    "\n",
    "import scipy.ndimage\n",
    "\n",
    "x = m[a:b,c:d]\n",
    "print('Resampled by a factor of 2 with cubic interpolation:')\n",
    "fig, ax = plt.subplots(1,1)\n",
    "ax.axis('off')\n",
    "ax.imshow(np.rot90(scipy.ndimage.zoom(x, 2, order=5)), cmap=plt.cm.gray)\n",
    "fig.savefig(f\"model_cropped_Viz.png\", bbox_inches='tight', dpi = 1000)"
   ]
  },
  {
   "cell_type": "code",
   "execution_count": 100,
   "id": "57dbf434",
   "metadata": {},
   "outputs": [
    {
     "data": {
      "image/png": "[encoded data removed]",
      "text/plain": [
       "<Figure size 432x288 with 1 Axes>"
      ]
     },
     "metadata": {
      "needs_background": "light"
     },
     "output_type": "display_data"
    }
   ],
   "source": [
    "# ADDITIVE BLENDING: https://stackoverflow.com/questions/26702176/is-it-possible-to-do-additive-blending-with-matplotlib\n",
    "\n",
    "# input\n",
    "\n",
    "from matplotlib import colors\n",
    "\n",
    "color_list = ['b', 'g', 'r', 'c', 'm', 'y']\n",
    "bin_cmaps  = {color:colors.ListedColormap(['black', color]) for color in color_list}\n",
    "\n",
    "fig, ax = plt.subplots(1,1)\n",
    "w, h = fig.canvas.get_width_height()\n",
    "ax.axis('off')\n",
    "\n",
    "# draw seg masks\n",
    "# BC, DHW\n",
    "imgs = []\n",
    "for i, color in enumerate(color_list):\n",
    "    ax.clear()\n",
    "    ax.axis('off')\n",
    "    ax.imshow(np.rot90(sitk2torch(preds[i])[input_mid0]), cmap=bin_cmaps[color], alpha=0.5)\n",
    "    fig.canvas.draw()\n",
    "    img = np.frombuffer(fig.canvas.buffer_rgba(), np.uint8).reshape(h, w, -1).copy()\n",
    "    imgs.append(img)\n",
    "\n",
    "    \n",
    "for img in imgs:\n",
    "    img[img[:, :, -1] == 0] = 0\n",
    "\n",
    "fig.clf()\n",
    "\n",
    "plt.imshow(np.maximum.reduce(imgs))\n",
    "plt.axis(\"off\")\n",
    "plt.show()\n",
    "\n",
    "#fig.savefig(f\"model_input.png\", bbox_inches='tight', dpi = 1000)"
   ]
  },
  {
   "cell_type": "code",
   "execution_count": 94,
   "id": "cc9a704b",
   "metadata": {},
   "outputs": [
    {
     "ename": "ValueError",
     "evalue": "invalid number of arguments",
     "output_type": "error",
     "traceback": [
      "\u001b[0;31m---------------------------------------------------------------------------\u001b[0m",
      "\u001b[0;31mValueError\u001b[0m                                Traceback (most recent call last)",
      "\u001b[0;32m<ipython-input-94-34b8eb0d870d>\u001b[0m in \u001b[0;36m<module>\u001b[0;34m\u001b[0m\n\u001b[0;32m----> 1\u001b[0;31m \u001b[0mnp\u001b[0m\u001b[0;34m.\u001b[0m\u001b[0mmaximum\u001b[0m\u001b[0;34m(\u001b[0m\u001b[0mimgs\u001b[0m\u001b[0;34m)\u001b[0m\u001b[0;34m\u001b[0m\u001b[0;34m\u001b[0m\u001b[0m\n\u001b[0m",
      "\u001b[0;31mValueError\u001b[0m: invalid number of arguments"
     ]
    }
   ],
   "source": [
    "np.maximum(imgs)"
   ]
  },
  {
   "cell_type": "code",
   "execution_count": 85,
   "id": "dccbb7cc",
   "metadata": {},
   "outputs": [
    {
     "data": {
      "image/png": "[encoded data removed]",
      "text/plain": [
       "<Figure size 432x288 with 1 Axes>"
      ]
     },
     "metadata": {
      "needs_background": "light"
     },
     "output_type": "display_data"
    }
   ],
   "source": [
    "# input\n",
    "\n",
    "from matplotlib import colors\n",
    "\n",
    "color_list = ['b', 'g', 'r', 'c', 'm', 'y']\n",
    "bin_cmaps  = {color:colors.ListedColormap(['black', color]) for color in color_list}\n",
    "\n",
    "fig, ax = plt.subplots()\n",
    "ax.axis('off')\n",
    "    \n",
    "# BC, DHW\n",
    "for i, color in enumerate(color_list):\n",
    "    ax.imshow(np.rot90(sitk2torch(preds[i])[input_mid0]), cmap=bin_cmaps[color], alpha=0.5)\n",
    "#fig.savefig(f\"model_input.png\", bbox_inches='tight', dpi = 1000)"
   ]
  },
  {
   "cell_type": "code",
   "execution_count": 36,
   "id": "70bdd49b",
   "metadata": {},
   "outputs": [
    {
     "ename": "IndentationError",
     "evalue": "expected an indented block (<ipython-input-36-bda2080747da>, line 2)",
     "output_type": "error",
     "traceback": [
      "\u001b[0;36m  File \u001b[0;32m\"<ipython-input-36-bda2080747da>\"\u001b[0;36m, line \u001b[0;32m2\u001b[0m\n\u001b[0;31m    pre_metrics, post_metrics = zip(*[eval_lcc(labels[i], outputs[i])\u001b[0m\n\u001b[0m              ^\u001b[0m\n\u001b[0;31mIndentationError\u001b[0m\u001b[0;31m:\u001b[0m expected an indented block\n"
     ]
    }
   ],
   "source": [
    "for model_fn in models_to_ensemble:\n",
    "    \n",
    "pre_metrics, post_metrics = zip(*[eval_lcc(labels[i], outputs[i])\n",
    "                                      for i in range(len(labels))\n",
    "                                     ])"
   ]
  },
  {
   "cell_type": "code",
   "execution_count": null,
   "id": "892f1bb8",
   "metadata": {},
   "outputs": [],
   "source": [
    "from monai.losses import DiceLoss\n",
    "\n",
    "dice_loss = DiceLoss(\n",
    "    include_background=False, \n",
    "    to_onehot_y=False, \n",
    "    sigmoid=False, \n",
    "    softmax=False, \n",
    "    other_act=None, \n",
    "    squared_pred=False, \n",
    "    jaccard=False, \n",
    "    reduction=\"none\", \n",
    "    smooth_nr=0, #1e-05, \n",
    "    smooth_dr=0, #1e-05, \n",
    "    batch=False)\n",
    "\n",
    "start = time.time()\n",
    "\n",
    "indiv_dices = dice_loss(predictions.argmax(1).unsqueeze(1), targets)\n",
    "indiv_dices = [1-dice_loss for dice_loss in indiv_dices]\n",
    "\n",
    "elapsed = time.time() - start\n",
    "\n",
    "print(f\"Elapsed: {elapsed:0.2f} s for {len(targets)} items.\")"
   ]
  },
  {
   "cell_type": "markdown",
   "id": "9be571b8",
   "metadata": {},
   "source": [
    "# Transforms"
   ]
  },
  {
   "cell_type": "code",
   "execution_count": 28,
   "id": "fe603d23",
   "metadata": {},
   "outputs": [
    {
     "name": "stdout",
     "output_type": "stream",
     "text": [
      "Chosen: model_UNET3D_loss_DICE_loss_full_res_96_pixdim_1.5_do_simple_True_do_flip_True_bs_2_epochs_60_time_1627971508_Tue_Aug_03_2021_hr_02_min_18\n",
      "Model: UNET3D\n",
      "Loss : DICE_loss\n",
      "Pixd : (1.5, 1.5, 1.5)\n",
      "Fullres : (96, 96, 96)\n",
      "Do flip: True\n",
      "Do simple: True\n",
      "UNET3D, DICE_loss, res (96, 96, 96) simple augs True flip True weird False\n",
      "val tfms: \n",
      "<monai.transforms.io.dictionary.LoadImaged object at 0x7f5f642f8dd8>\n",
      "<monai.transforms.spatial.dictionary.Spacingd object at 0x7f5f642f8e80>\n",
      "<monai.transforms.intensity.dictionary.NormalizeIntensityd object at 0x7f5f642f8ef0>\n",
      "<monai.transforms.utility.dictionary.AddChanneld object at 0x7f5f642f8f60>\n",
      "<monai.transforms.croppad.dictionary.SpatialPadd object at 0x7fe3c3c62828>\n",
      "<monai.transforms.croppad.dictionary.CenterSpatialCropd object at 0x7f5f6436a0f0>\n",
      "<monai.transforms.utility.dictionary.ToTensord object at 0x7f5f6436a160>\n",
      "UndoDict(['image', 'label'])\n"
     ]
    }
   ],
   "source": [
    "from helpers.general import rm_prefix, get_param_default, modelfn2dict\n",
    "\n",
    "models_to_ensemble = [\n",
    "    # UNET DICE, VNET DICE, UNET BCE, VNET BCE, OBELISK DICE, OBELISK BCE, CONDSEG DICE, CONDSEG BCE\n",
    "    \"model_UNET3D_loss_DICE_loss_full_res_96_pixdim_1.5_do_simple_True_do_flip_True_bs_2_epochs_60_time_1627971508_Tue_Aug_03_2021_hr_02_min_18\",\n",
    "    \"model_VNET_loss_DICE_loss_full_res_96_pixdim_1.5_do_simple_True_do_flip_True_bs_2_epochs_60_time_1627978137_Tue_Aug_03_2021_hr_04_min_08\",\n",
    "    \"model_UNET3D_loss_BCE_loss_full_res_96_pixdim_1.5_do_simple_True_do_flip_True_bs_2_epochs_60_time_1627971506_Tue_Aug_03_2021_hr_02_min_18\",\n",
    "    \"model_VNET_loss_BCE_loss_full_res_96_pixdim_1.5_do_simple_True_do_flip_True_bs_2_epochs_60_time_1627978233_Tue_Aug_03_2021_hr_04_min_10\",\n",
    "    \"model_OBELISKHYBRID_loss_DICE_loss_full_res_96_pixdim_1.5_do_simple_True_do_flip_True_bs_2_epochs_60_time_1627963440_Tue_Aug_03_2021_hr_00_min_04\",\n",
    "    \"model_OBELISKHYBRID_loss_BCE_loss_full_res_96_pixdim_1.5_do_simple_True_do_flip_True_bs_2_epochs_60_time_1627963631_Tue_Aug_03_2021_hr_00_min_07\",\n",
    "#     \"model_CONDSEG_loss_DICE_loss_full_res_96_pixdim_1.5_do_simple_True_do_flip_True_bs_2_epochs_60_time_1628097973_Wed_Aug_04_2021_hr_13_min_26\",\n",
    "#     \"model_CONDSEG_loss_BCE_loss_full_res_96_pixdim_1.5_do_simple_True_do_flip_True_bs_2_epochs_60_time_1628097978_Wed_Aug_04_2021_hr_13_min_26\"\n",
    "]\n",
    "\n",
    "# doing    \n",
    "model_fn   = models_to_ensemble[0]\n",
    "model_name = Path(model_fn).name\n",
    "\n",
    "# get params\n",
    "model_dict = modelfn2dict(model_fn)\n",
    "model_type, loss_type, full_res, pixdim, do_flip, do_simple = \\\n",
    "        [model_dict[k] for k in (\"model_type\", \"loss_type\", \"full_res\", \"pixdim\", \"do_flip\", \"do_simple\")]\n",
    "\n",
    "print(f\"Chosen: {model_name}\")\n",
    "\n",
    "\n",
    "print(f\"Model: {model_type}\")\n",
    "print(f\"Loss : {loss_type}\")\n",
    "print(f\"Pixd : {pixdim}\")\n",
    "print(f\"Fullres : {full_res}\")\n",
    "print(f\"Do flip: {do_flip}\")\n",
    "print(f\"Do simple: {do_simple}\")\n",
    "\n",
    "\n",
    "# Transforms\n",
    "\n",
    "from helpers.transforms_simplified import *\n",
    "train_itemsd = getd(train_items) # for condseg atlas choice\n",
    "print(f\"{model_type}, {loss_type}, res {full_res} simple augs {do_simple} flip {do_flip} weird {not do_simple and not do_flip}\")\n",
    "_, val_tfms = get_train_valid_transforms(items=train_itemsd, pixdim=pixdim, full_res=full_res, \n",
    "                                              do_flip=do_flip, do_simple=do_simple, do_condseg=(model_type==\"CONDSEG\"))\n",
    "print(f\"val tfms: \", *val_tfms.transforms, sep=\"\\n\")\n"
   ]
  },
  {
   "cell_type": "code",
   "execution_count": 29,
   "id": "82fc835d",
   "metadata": {},
   "outputs": [],
   "source": [
    "# from helpers.transforms import get_train_valid_transforms, monai_tfms2str\n",
    "\n",
    "# full_res = (96,96,96)\n",
    "# pixdim   = (1.5,1.5,1.5)\n",
    "# train_tfms, val_tfms = get_train_valid_transforms(pixdim=pixdim,full_res=full_res)\n",
    "# print(f\"val tfms: \", *val_tfms.transforms, sep=\"\\n\")\n",
    "\n",
    "# print(monai_tfms2str(train_tfms))\n",
    "# print(monai_tfms2str(val_tfms))"
   ]
  },
  {
   "cell_type": "markdown",
   "id": "403d4bbe",
   "metadata": {},
   "source": [
    "# Model"
   ]
  },
  {
   "cell_type": "code",
   "execution_count": 30,
   "id": "d2687c42",
   "metadata": {},
   "outputs": [],
   "source": [
    "models_to_ensemble = [\n",
    "    # UNET DICE, VNET DICE, UNET BCE, VNET BCE, OBELISK DICE, OBELISK BCE, CONDSEG DICE, CONDSEG BCE\n",
    "    \"model_UNET3D_loss_DICE_loss_full_res_96_pixdim_1.5_do_simple_True_do_flip_True_bs_2_epochs_60_time_1627971508_Tue_Aug_03_2021_hr_02_min_18\",\n",
    "    \"model_VNET_loss_DICE_loss_full_res_96_pixdim_1.5_do_simple_True_do_flip_True_bs_2_epochs_60_time_1627978137_Tue_Aug_03_2021_hr_04_min_08\",\n",
    "    \"model_UNET3D_loss_BCE_loss_full_res_96_pixdim_1.5_do_simple_True_do_flip_True_bs_2_epochs_60_time_1627971506_Tue_Aug_03_2021_hr_02_min_18\",\n",
    "    \"model_VNET_loss_BCE_loss_full_res_96_pixdim_1.5_do_simple_True_do_flip_True_bs_2_epochs_60_time_1627978233_Tue_Aug_03_2021_hr_04_min_10\",\n",
    "    \"model_OBELISKHYBRID_loss_DICE_loss_full_res_96_pixdim_1.5_do_simple_True_do_flip_True_bs_2_epochs_60_time_1627963440_Tue_Aug_03_2021_hr_00_min_04\",\n",
    "    \"model_OBELISKHYBRID_loss_BCE_loss_full_res_96_pixdim_1.5_do_simple_True_do_flip_True_bs_2_epochs_60_time_1627963631_Tue_Aug_03_2021_hr_00_min_07\",\n",
    "#     \"model_CONDSEG_loss_DICE_loss_full_res_96_pixdim_1.5_do_simple_True_do_flip_True_bs_2_epochs_60_time_1628097973_Wed_Aug_04_2021_hr_13_min_26\",\n",
    "#     \"model_CONDSEG_loss_BCE_loss_full_res_96_pixdim_1.5_do_simple_True_do_flip_True_bs_2_epochs_60_time_1628097978_Wed_Aug_04_2021_hr_13_min_26\"\n",
    "]\n",
    "\n",
    "# model_UNET3D_loss_BCE_loss_bs_1_epochs_60_time_1627647477_Fri_Jul_30_2021_hr_08_min_17"
   ]
  },
  {
   "cell_type": "code",
   "execution_count": 31,
   "id": "f35240c0",
   "metadata": {},
   "outputs": [],
   "source": [
    "# model_names = {\n",
    "#     \"unet_bce\": \"model_UNET3D_loss_BCE_loss_bs_1_epochs_60_time_1627647477_Fri_Jul_30_2021_hr_08_min_17\",\n",
    "#     \"obelisk_bce\": \"model_OBELISKHYBRID_loss_BCE_loss_bs_1_epochs_60_time_1627823459_Sun_Aug_01_2021_hr_09_min_10\",\n",
    "#     \"vnet_bce\": \"model_VNET_loss_BCE_loss_bs_1_epochs_60_time_1627823149_Sun_Aug_01_2021_hr_09_min_05\"\n",
    "# }\n",
    "\n",
    "# model_name = model_names[\"unet_bce\"]"
   ]
  },
  {
   "cell_type": "code",
   "execution_count": 32,
   "id": "5c9a9302",
   "metadata": {},
   "outputs": [],
   "source": [
    "# model_fns = sorted(Path(run_src).iterdir(), key=os.path.getmtime, reverse=True)\n",
    "# model_fns = [str(p) for p in model_fns]\n",
    "\n",
    "# #model_fn = \"OBELISKHYBRID_log_cosh_dice_loss_iso_2mm_pad_144_144_144_bs_2_test_sz_67_epochs_30_time_1626043621_Sun_Jul_07_2021_hr_18_min_47.pth\"\n",
    "# model_idx = 3\n",
    "# model_name   = Path(model_fns[model_idx]).name\n",
    "# print(f\"Chosen: {model_name}\")\n",
    "# print(f\"Prior: \", *[f\"{idx}: {model_fn[len(run_src):]}\" for idx,model_fn in enumerate(model_fns[:5])], sep=\"\\n\")"
   ]
  },
  {
   "cell_type": "code",
   "execution_count": 33,
   "id": "d0d7e8da",
   "metadata": {},
   "outputs": [],
   "source": [
    "from helpers.general            import get_param\n",
    "from helpers.model_loss_choices import get_model, get_loss\n",
    "\n",
    "model   = get_model(model_type, full_res)\n",
    "loss_fn = get_loss(loss_type) "
   ]
  },
  {
   "cell_type": "code",
   "execution_count": 34,
   "id": "2a663d7c",
   "metadata": {},
   "outputs": [
    {
     "name": "stdout",
     "output_type": "stream",
     "text": [
      "Model name:  model_UNET3D_loss_DICE_loss_full_res_96_pixdim_1.5_do_simple_True_do_flip_True_bs_2_epochs_60_time_1627971508_Tue_Aug_03_2021_hr_02_min_18\n",
      "Model type: UNET3D. Loss type: DICE_loss.\n"
     ]
    }
   ],
   "source": [
    "# print\n",
    "print(\"Model name: \", model_name)\n",
    "print(f\"Model type: {model_type}. Loss type: {loss_type}.\")"
   ]
  },
  {
   "cell_type": "markdown",
   "id": "ddf14663",
   "metadata": {},
   "source": [
    "# Learner"
   ]
  },
  {
   "cell_type": "code",
   "execution_count": 14,
   "id": "44353904",
   "metadata": {},
   "outputs": [
    {
     "name": "stdout",
     "output_type": "stream",
     "text": [
      "Elapsed time: 13.15 s for 484 items\n"
     ]
    }
   ],
   "source": [
    "# Dataloaders\n",
    "\n",
    "# Fastai + distributed training\n",
    "from fastai              import *\n",
    "from fastai.torch_basics import *\n",
    "from fastai.basics       import *\n",
    "from fastai.distributed  import *\n",
    "\n",
    "#items  = all_test_lbl_items\n",
    "items = all_test_lbl_items #ppmi, icmb, adni, aibl, abvib, test_items\n",
    "itemsd = getd(items)\n",
    "\n",
    "# time it - 18s for 484 items\n",
    "start = time.time()\n",
    "\n",
    "# create batches\n",
    "bs        = 5\n",
    "batches = [itemsd[i:min(i+bs, len(itemsd))] for i in range(0,len(itemsd),bs)]\n",
    "\n",
    "i     = 0\n",
    "batch = batches[i]\n",
    "\n",
    "data = Pipeline(val_tfms)(batch)\n",
    "inputs, labels = zip(*data) # [(img,lbl), (img,lbl)] => imgs, labels\n",
    "inputs = torch.stack(inputs, dim=0)\n",
    "labels = torch.stack(labels, dim=0)\n",
    "inputs = inputs.to(device)\n",
    "\n",
    "with torch.no_grad():\n",
    "    outputs = model(inputs).cpu()\n",
    "        \n",
    "# # tls, dls, cuda\n",
    "# bs  = 2\n",
    "# tls = TfmdLists(itemsd[:20], val_tfms)\n",
    "# dls = tls.dataloaders(bs=bs, after_batch=[], num_workers=num_workers)\n",
    "# dls = dls.cuda()\n",
    "\n",
    "# end timer\n",
    "elapsed = time.time() - start\n",
    "print(f\"Elapsed time: {elapsed:.2f} s for {len(itemsd)} items\")\n",
    "\n",
    "import gc\n",
    "gc.collect()\n",
    "\n",
    "from helpers.losses import dice_score\n",
    "\n",
    "learn = Learner(dls       = dls, \n",
    "                model     = model, \n",
    "                loss_func = loss_fn,\n",
    "                metrics   = dice_score)"
   ]
  },
  {
   "cell_type": "code",
   "execution_count": 15,
   "id": "574a80e1",
   "metadata": {
    "scrolled": true
   },
   "outputs": [
    {
     "data": {
      "text/plain": [
       "<fastai.learner.Learner at 0x7f55f895c0f0>"
      ]
     },
     "execution_count": 15,
     "metadata": {},
     "output_type": "execute_result"
    }
   ],
   "source": [
    "# load model fname w/o .pth extension\n",
    "learn.load(f\"{run_src}/{model_name}/model\")"
   ]
  },
  {
   "cell_type": "markdown",
   "id": "ed92da4b",
   "metadata": {},
   "source": [
    "# Figure 1b: model input, binary seg output, crop"
   ]
  },
  {
   "cell_type": "code",
   "execution_count": 16,
   "id": "9815a703",
   "metadata": {},
   "outputs": [
    {
     "data": {
      "text/html": [],
      "text/plain": [
       "<IPython.core.display.HTML object>"
      ]
     },
     "metadata": {},
     "output_type": "display_data"
    },
    {
     "name": "stdout",
     "output_type": "stream",
     "text": [
      "Elapsed: 9.42 s for 484 items.\n"
     ]
    }
   ],
   "source": [
    "# all predictions, 67 items, 4 workers, 15sec\n",
    "# Elapsed: 326.07 s for 484 items.\n",
    "start = time.time()\n",
    "predictions, targets = learn.get_preds(dl=dls.train)\n",
    "elapsed = time.time() - start\n",
    "\n",
    "print(f\"Elapsed: {elapsed:0.2f} s for {len(itemsd)} items.\")"
   ]
  },
  {
   "cell_type": "code",
   "execution_count": 32,
   "id": "2f4d76e9",
   "metadata": {},
   "outputs": [
    {
     "ename": "NameError",
     "evalue": "name 'predictions' is not defined",
     "output_type": "error",
     "traceback": [
      "\u001b[0;31m---------------------------------------------------------------------------\u001b[0m",
      "\u001b[0;31mNameError\u001b[0m                                 Traceback (most recent call last)",
      "\u001b[0;32m<ipython-input-32-303d73ef42f3>\u001b[0m in \u001b[0;36m<module>\u001b[0;34m\u001b[0m\n\u001b[1;32m     16\u001b[0m \u001b[0mstart\u001b[0m \u001b[0;34m=\u001b[0m \u001b[0mtime\u001b[0m\u001b[0;34m.\u001b[0m\u001b[0mtime\u001b[0m\u001b[0;34m(\u001b[0m\u001b[0;34m)\u001b[0m\u001b[0;34m\u001b[0m\u001b[0;34m\u001b[0m\u001b[0m\n\u001b[1;32m     17\u001b[0m \u001b[0;34m\u001b[0m\u001b[0m\n\u001b[0;32m---> 18\u001b[0;31m \u001b[0mindiv_dices\u001b[0m \u001b[0;34m=\u001b[0m \u001b[0mdice_loss\u001b[0m\u001b[0;34m(\u001b[0m\u001b[0mpredictions\u001b[0m\u001b[0;34m.\u001b[0m\u001b[0margmax\u001b[0m\u001b[0;34m(\u001b[0m\u001b[0;36m1\u001b[0m\u001b[0;34m)\u001b[0m\u001b[0;34m.\u001b[0m\u001b[0munsqueeze\u001b[0m\u001b[0;34m(\u001b[0m\u001b[0;36m1\u001b[0m\u001b[0;34m)\u001b[0m\u001b[0;34m,\u001b[0m \u001b[0mtargets\u001b[0m\u001b[0;34m)\u001b[0m\u001b[0;34m\u001b[0m\u001b[0;34m\u001b[0m\u001b[0m\n\u001b[0m\u001b[1;32m     19\u001b[0m \u001b[0mindiv_dices\u001b[0m \u001b[0;34m=\u001b[0m \u001b[0;34m[\u001b[0m\u001b[0;36m1\u001b[0m\u001b[0;34m-\u001b[0m\u001b[0mdice_loss\u001b[0m \u001b[0;32mfor\u001b[0m \u001b[0mdice_loss\u001b[0m \u001b[0;32min\u001b[0m \u001b[0mindiv_dices\u001b[0m\u001b[0;34m]\u001b[0m\u001b[0;34m\u001b[0m\u001b[0;34m\u001b[0m\u001b[0m\n\u001b[1;32m     20\u001b[0m \u001b[0;34m\u001b[0m\u001b[0m\n",
      "\u001b[0;31mNameError\u001b[0m: name 'predictions' is not defined"
     ]
    }
   ],
   "source": [
    "from monai.losses import DiceLoss\n",
    "\n",
    "dice_loss = DiceLoss(\n",
    "    include_background=False, \n",
    "    to_onehot_y=False, \n",
    "    sigmoid=False, \n",
    "    softmax=False, \n",
    "    other_act=None, \n",
    "    squared_pred=False, \n",
    "    jaccard=False, \n",
    "    reduction=\"none\", \n",
    "    smooth_nr=0, #1e-05, \n",
    "    smooth_dr=0, #1e-05, \n",
    "    batch=False)\n",
    "\n",
    "start = time.time()\n",
    "\n",
    "indiv_dices = dice_loss(predictions.argmax(1).unsqueeze(1), targets)\n",
    "indiv_dices = [1-dice_loss for dice_loss in indiv_dices]\n",
    "\n",
    "elapsed = time.time() - start\n",
    "\n",
    "print(f\"Elapsed: {elapsed:0.2f} s for {len(targets)} items.\")"
   ]
  },
  {
   "cell_type": "code",
   "execution_count": 18,
   "id": "3e27e441",
   "metadata": {},
   "outputs": [
    {
     "data": {
      "image/png": "[encoded data removed]",
      "text/plain": [
       "<Figure size 864x432 with 2 Axes>"
      ]
     },
     "metadata": {
      "needs_background": "light"
     },
     "output_type": "display_data"
    },
    {
     "name": "stdout",
     "output_type": "stream",
     "text": [
      "Elapsed: 0.26 s for 20 items.\n"
     ]
    }
   ],
   "source": [
    "start = time.time()\n",
    "\n",
    "# sort dices from low to high\n",
    "sorted_dice_idxs  = sorted(range(len(indiv_dices)), key=lambda i:indiv_dices[i].item()) \n",
    "np_indiv_dices = np.array([indiv_dices[i].item() for i in sorted_dice_idxs])\n",
    "\n",
    "# plot\n",
    "fig1, (ax0, ax1) = plt.subplots(nrows=1, ncols=2, figsize=(12,6))\n",
    "ax0.hist(np_indiv_dices, bins=\"auto\")\n",
    "ax1.boxplot(np_indiv_dices)\n",
    "\n",
    "fig1.suptitle(\"Dice Score (ABIDE test set + Cross label items)\")\n",
    "plt.show()\n",
    "\n",
    "# time\n",
    "elapsed = time.time() - start\n",
    "print(f\"Elapsed: {elapsed:0.2f} s for {len(targets)} items.\")"
   ]
  },
  {
   "cell_type": "code",
   "execution_count": 20,
   "id": "f1a9478a",
   "metadata": {},
   "outputs": [
    {
     "name": "stdout",
     "output_type": "stream",
     "text": [
      "Elapsed 2.714262 s\n"
     ]
    }
   ],
   "source": [
    "from helpers.preprocess import batch_get_bbox\n",
    "\n",
    "# Elapsed 65.148959 s\n",
    "start = time.time()\n",
    "\n",
    "# get masks and probs\n",
    "pred_masks = torch.argmax(predictions, dim=1).byte()\n",
    "pred_bboxs = batch_get_bbox(pred_masks)\n",
    "gt_bboxs   = batch_get_bbox(targets)\n",
    "#pred_probs = np.asarray(predictions.softmax(1)[:,1].cpu())\n",
    "\n",
    "elapsed = time.time() - start\n",
    "print(f\"Elapsed {elapsed:2f} s\")"
   ]
  },
  {
   "cell_type": "code",
   "execution_count": 84,
   "id": "b570e8fa",
   "metadata": {},
   "outputs": [
    {
     "name": "stdout",
     "output_type": "stream",
     "text": [
      "Pred bbox tensor([30, 66, 48, 71, 44, 62])\n",
      "Middle of axis 0 of pred bbox:  tensor(48)\n"
     ]
    }
   ],
   "source": [
    "# Choose best of first 20\n",
    "\n",
    "idx  = sorted_dice_idxs[-1]\n",
    "pred_mk   = pred_masks[idx]\n",
    "pred_bbox = pred_bboxs[idx]\n",
    "item      = itemsd[idx]\n",
    "\n",
    "print(\"Pred bbox\", pred_bbox)\n",
    "from helpers.viz import get_mid_idx\n",
    "\n",
    "mid0 = get_mid_idx(pred_bbox)[0]\n",
    "print(\"Middle of axis 0 of pred bbox: \", mid0)\n",
    "# a,b,c,d,e,f = pred_bboxs[idx]\n",
    "# mid0 = (a+b)//2\n",
    "# mid1 = (c+d)//2\n",
    "# mid2 = (e+f)//2\n",
    "# print(mid0,mid1,mid2)"
   ]
  },
  {
   "cell_type": "code",
   "execution_count": 156,
   "id": "fe4bbf71",
   "metadata": {},
   "outputs": [
    {
     "name": "stdout",
     "output_type": "stream",
     "text": [
      "original bbox tensor([ 69, 103, 127, 158, 125, 148])\n",
      "original shape torch.Size([172, 256, 256])\n",
      "Middle of axis 0 of pred bbox:  tensor(48)\n",
      "Middle of axis 0 of orig bbox:  tensor(86)\n"
     ]
    },
    {
     "data": {
      "text/plain": [
       "<matplotlib.image.AxesImage at 0x7fa1d16ce470>"
      ]
     },
     "execution_count": 156,
     "metadata": {},
     "output_type": "execute_result"
    },
    {
     "data": {
      "image/png": "[encoded data removed]",
      "text/plain": [
       "<Figure size 432x288 with 1 Axes>"
      ]
     },
     "metadata": {
      "needs_background": "light"
     },
     "output_type": "display_data"
    }
   ],
   "source": [
    "# Get original MR\n",
    "from monai.transforms import LoadImaged, ToTensord\n",
    "keys=[\"image\",\"label\"]\n",
    "\n",
    "orig_input = ToTensord(keys)(LoadImaged(keys)(item))\n",
    "orig_mr, orig_mk = UndoDict()(orig_input)\n",
    "orig_bbox = batch_get_bbox(orig_mk.unsqueeze(0))[0]\n",
    "orig_mid0 = get_mid_idx(orig_bbox)[0]\n",
    "                             \n",
    "print(\"original bbox\", orig_bbox)\n",
    "print(\"original shape\", orig_mr.shape)\n",
    "print(\"Middle of axis 0 of pred bbox: \", mid0)\n",
    "print(\"Middle of axis 0 of orig bbox: \", orig_mid0)\n",
    "# seg_dict = {\"image\": orig_mr, \"label\": orig_seg}\n",
    "# val_transforms[:,-1].inverse(seg_dict)\n",
    "\n",
    "# print(orig_input.shape)\n",
    "plt.imshow(np.rot90(orig_mr[orig_mid0]), cmap=plt.cm.gray)"
   ]
  },
  {
   "cell_type": "code",
   "execution_count": 42,
   "id": "699ad218",
   "metadata": {},
   "outputs": [
    {
     "data": {
      "text/plain": [
       "(<monai.transforms.io.dictionary.LoadImaged at 0x7f5f7004ed68>,\n",
       " <monai.transforms.spatial.dictionary.Spacingd at 0x7f5f7004eef0>,\n",
       " <monai.transforms.intensity.dictionary.NormalizeIntensityd at 0x7f5f7004ef60>,\n",
       " <monai.transforms.utility.dictionary.AddChanneld at 0x7f5f7004efd0>,\n",
       " <monai.transforms.croppad.dictionary.SpatialPadd at 0x7f55f90c8080>,\n",
       " <monai.transforms.croppad.dictionary.CenterSpatialCropd at 0x7f55f90c80f0>,\n",
       " <monai.transforms.utility.dictionary.ToTensord at 0x7f55f90c8160>,\n",
       " UndoDict:\n",
       " encodes: (object,object) -> encodes\n",
       " decodes: )"
      ]
     },
     "execution_count": 42,
     "metadata": {},
     "output_type": "execute_result"
    }
   ],
   "source": [
    "val_tfms.transforms"
   ]
  },
  {
   "cell_type": "code",
   "execution_count": 47,
   "id": "a3c7952a",
   "metadata": {},
   "outputs": [],
   "source": [
    "from monai.data.image_reader import NibabelReader\n",
    "reader = NibabelReader()"
   ]
  },
  {
   "cell_type": "code",
   "execution_count": 57,
   "id": "8b4ab3e9",
   "metadata": {},
   "outputs": [
    {
     "name": "stdout",
     "output_type": "stream",
     "text": [
      "(1.0, 1.0, 1.0)\n"
     ]
    }
   ],
   "source": [
    "import SimpleITK as sitk\n",
    "sitk_im = sitk.ReadImage(item[\"image\"], sitk.sitkFloat32)\n",
    "print(sitk_im.GetSpacing())"
   ]
  },
  {
   "cell_type": "code",
   "execution_count": 74,
   "id": "88cdae64",
   "metadata": {},
   "outputs": [],
   "source": [
    "# # img = reader.read(item[\"image\"])\n",
    "# # img_array, meta_data = reader.get_data(img)\n",
    "# # img_array = img_array.astype(np.float32)\n",
    "# meta_data"
   ]
  },
  {
   "cell_type": "code",
   "execution_count": 94,
   "id": "1f2c48a7",
   "metadata": {},
   "outputs": [
    {
     "data": {
      "text/plain": [
       "(<monai.transforms.io.dictionary.LoadImaged at 0x7f5f7004ed68>,\n",
       " <monai.transforms.spatial.dictionary.Spacingd at 0x7f5f7004eef0>,\n",
       " <monai.transforms.intensity.dictionary.NormalizeIntensityd at 0x7f5f7004ef60>,\n",
       " <monai.transforms.utility.dictionary.AddChanneld at 0x7f5f7004efd0>,\n",
       " <monai.transforms.croppad.dictionary.SpatialPadd at 0x7f55f90c8080>,\n",
       " <monai.transforms.croppad.dictionary.CenterSpatialCropd at 0x7f55f90c80f0>,\n",
       " <monai.transforms.utility.dictionary.ToTensord at 0x7f55f90c8160>,\n",
       " UndoDict:\n",
       " encodes: (object,object) -> encodes\n",
       " decodes: )"
      ]
     },
     "execution_count": 94,
     "metadata": {},
     "output_type": "execute_result"
    }
   ],
   "source": [
    "val_tfms.transforms"
   ]
  },
  {
   "cell_type": "code",
   "execution_count": 148,
   "id": "145eafb5",
   "metadata": {},
   "outputs": [
    {
     "name": "stdout",
     "output_type": "stream",
     "text": [
      "<monai.transforms.spatial.dictionary.Spacingd object at 0x7f5f7004eef0>\n",
      "<monai.transforms.utility.dictionary.AddChanneld object at 0x7f5f7004efd0>\n",
      "<monai.transforms.croppad.dictionary.SpatialPadd object at 0x7f55f90c8080>\n",
      "<monai.transforms.croppad.dictionary.CenterSpatialCropd object at 0x7f55f90c80f0>\n",
      "<monai.transforms.utility.dictionary.ToTensord object at 0x7f55f90c8160>\n",
      "UndoDict\n"
     ]
    }
   ],
   "source": [
    "# Trace orig mr idx\n",
    "from monai.transforms import LoadImage, Compose\n",
    "\n",
    "# remove load image (tfm 0), intensity normalize (tfm 2)\n",
    "spatial_tfms = (val_tfms.transforms[1], *val_tfms.transforms[3:])\n",
    "print(*spatial_tfms, sep=\"\\n\")\n",
    "\n",
    "# add id to middle of each slice\n",
    "fake = torch.zeros(orig_mr.shape)\n",
    "fake_mid = np.asarray(orig_mr.shape)[1:]//2\n",
    "for i in range(orig_mr.shape[0]):\n",
    "    fake[i,fake_mid[0], fake_mid[1]] = i\n",
    "\n",
    "fake_input = LoadImaged(keys)(item)\n",
    "fake_input[\"image\"] = fake\n",
    "fake_input[\"label\"] = fake\n",
    "\n",
    "# remove mk's ch dim from (mr, mk) after\n",
    "fake_output = Compose(spatial_tfms)(fake_input)\n",
    "fake_output = fake_output[1].squeeze(0)\n",
    "\n",
    "# print(\"original bbox\", orig_bbox)\n",
    "# print(\"original shape\", orig_mr.shape)\n",
    "# print(\"Middle of axis 0 of pred bbox: \", mid0)\n",
    "# # seg_dict = {\"image\": orig_mr, \"label\": orig_seg}\n",
    "# # val_transforms[:,-1].inverse(seg_dict)\n",
    "\n",
    "# # print(orig_input.shape)\n",
    "# plt.imshow(np.rot90(orig_mr[orig_mid0]), cmap=plt.cm.gray)"
   ]
  },
  {
   "cell_type": "code",
   "execution_count": 151,
   "id": "7c9ea105",
   "metadata": {},
   "outputs": [
    {
     "name": "stdout",
     "output_type": "stream",
     "text": [
      "tensor([[0., 0., 0., 0., 0., 0., 0., 0., 0., 0.],\n",
      "        [0., 0., 0., 0., 0., 0., 0., 0., 0., 0.],\n",
      "        [0., 0., 0., 0., 0., 0., 0., 0., 0., 0.],\n",
      "        [0., 0., 0., 0., 0., 0., 0., 0., 0., 0.],\n",
      "        [0., 0., 0., 0., 0., 0., 0., 0., 0., 0.],\n",
      "        [0., 0., 0., 0., 0., 0., 0., 0., 0., 0.],\n",
      "        [0., 0., 0., 0., 0., 0., 0., 0., 0., 0.],\n",
      "        [0., 0., 0., 0., 0., 0., 0., 0., 0., 0.],\n",
      "        [0., 0., 0., 0., 0., 0., 0., 0., 0., 0.],\n",
      "        [0., 0., 0., 0., 0., 0., 0., 0., 0., 0.]])\n"
     ]
    }
   ],
   "source": [
    "print(fake_output[0,80:90,80:90])"
   ]
  },
  {
   "cell_type": "code",
   "execution_count": 149,
   "id": "4a180cac",
   "metadata": {},
   "outputs": [],
   "source": [
    "# val_transforms = Compose(\n",
    "#         [\n",
    "#             LoadImaged(keys=keys),\n",
    "#             Spacingd(keys=keys, pixdim=pixdim, mode=(\"bilinear\", \"nearest\")),\n",
    "#             NormalizeIntensityd(keys[0], nonzero=True, channel_wise=False),\n",
    "#             AddChanneld(keys=keys),\n",
    "#             SpatialPadd(keys=keys, spatial_size=full_res, method=\"symmetric\", mode=\"constant\"), # in case dim < full_res\n",
    "#             CenterSpatialCropd(keys=keys, roi_size=full_res),\n",
    "#             ToTensord(keys=keys),\n",
    "#             UndoDict(),\n",
    "#         ]"
   ]
  },
  {
   "cell_type": "code",
   "execution_count": 131,
   "id": "2dea7864",
   "metadata": {},
   "outputs": [
    {
     "name": "stdout",
     "output_type": "stream",
     "text": [
      "<monai.transforms.spatial.dictionary.Spacingd object at 0x7f5f7004eef0>\n"
     ]
    }
   ],
   "source": [
    "# # Trace orig mr idx\n",
    "# from monai.transforms import LoadImage, Compose\n",
    "\n",
    "# # remove load image (tfm 0), intensity normalize (tfm 2)\n",
    "# spatial_tfms = (val_tfms.transforms[1])\n",
    "# print(spatial_tfms, sep=\"\\n\")\n",
    "\n",
    "# # add id to middle of each slice\n",
    "# fake = torch.zeros(orig_mr.shape)\n",
    "# fake_mid = np.asarray(orig_mr.shape)[1:]//2\n",
    "# for i in range(orig_mr.shape[0]):\n",
    "#     fake[i,fake_mid[0], fake_mid[1]] = i\n",
    "\n",
    "# fake_input = LoadImaged(keys)(item)\n",
    "# fake_input[\"image\"] = fake\n",
    "# fake_input[\"label\"] = fake\n",
    "\n",
    "# # remove mr's ch dim from (mr, mk) after\n",
    "# fake_output = Compose(spatial_tfms)(fake_input)\n",
    "# #fake_output = fake_output[0].squeeze(0)\n",
    "\n",
    "# # print(\"original bbox\", orig_bbox)\n",
    "# # print(\"original shape\", orig_mr.shape)\n",
    "# # print(\"Middle of axis 0 of pred bbox: \", mid0)\n",
    "# # # seg_dict = {\"image\": orig_mr, \"label\": orig_seg}\n",
    "# # # val_transforms[:,-1].inverse(seg_dict)\n",
    "\n",
    "# # # print(orig_input.shape)\n",
    "# # plt.imshow(np.rot90(orig_mr[orig_mid0]), cmap=plt.cm.gray)"
   ]
  },
  {
   "cell_type": "code",
   "execution_count": 141,
   "id": "72bb62a5",
   "metadata": {},
   "outputs": [
    {
     "data": {
      "text/plain": [
       "{'pixdim': array([1.5, 1.5, 1.5]),\n",
       " 'diagonal': False,\n",
       " 'mode': <GridSampleMode.BILINEAR: 'bilinear'>,\n",
       " 'padding_mode': <GridSamplePadMode.BORDER: 'border'>,\n",
       " 'align_corners': False,\n",
       " 'dtype': numpy.float64}"
      ]
     },
     "execution_count": 141,
     "metadata": {},
     "output_type": "execute_result"
    }
   ],
   "source": [
    "# val_tfms.transforms[1].__dict__[\"spacing_transform\"].__dict__"
   ]
  },
  {
   "cell_type": "code",
   "execution_count": 139,
   "id": "874e6531",
   "metadata": {},
   "outputs": [
    {
     "name": "stdout",
     "output_type": "stream",
     "text": [
      "torch.Size([172, 256, 256])\n"
     ]
    }
   ],
   "source": [
    "print(orig_mr.shape)"
   ]
  },
  {
   "cell_type": "code",
   "execution_count": 136,
   "id": "20d308a9",
   "metadata": {},
   "outputs": [
    {
     "name": "stdout",
     "output_type": "stream",
     "text": [
      "(172, 171, 171)\n"
     ]
    }
   ],
   "source": [
    "print(fake_output[\"image\"].shape)"
   ]
  },
  {
   "cell_type": "code",
   "execution_count": 147,
   "id": "2d449e69",
   "metadata": {},
   "outputs": [
    {
     "name": "stdout",
     "output_type": "stream",
     "text": [
      "[[ 0.  0.  0.  0.  0.  0.  0.  0.  0.  0.]\n",
      " [ 0.  0.  0.  0.  0.  0.  0.  0.  0.  0.]\n",
      " [ 0.  0.  0.  0.  0.  0.  0.  0.  0.  0.]\n",
      " [ 0.  0.  0.  0.  0.  0.  0.  0.  0.  0.]\n",
      " [ 0.  0.  0.  0.  0.  0.  0.  0.  0.  0.]\n",
      " [ 0.  0.  0.  0.  0. 66.  0.  0.  0.  0.]\n",
      " [ 0.  0.  0.  0.  0.  0.  0.  0.  0.  0.]\n",
      " [ 0.  0.  0.  0.  0.  0.  0.  0.  0.  0.]\n",
      " [ 0.  0.  0.  0.  0.  0.  0.  0.  0.  0.]\n",
      " [ 0.  0.  0.  0.  0.  0.  0.  0.  0.  0.]]\n"
     ]
    }
   ],
   "source": [
    "print(fake_output[\"label\"][66,80:90,80:90])"
   ]
  },
  {
   "cell_type": "code",
   "execution_count": 153,
   "id": "09e37003",
   "metadata": {},
   "outputs": [
    {
     "name": "stdout",
     "output_type": "stream",
     "text": [
      "tensor([[48, 48]])\n"
     ]
    }
   ],
   "source": [
    "# get max index\n",
    "x = fake_output[0]\n",
    "print((x==torch.max(x)).nonzero())"
   ]
  },
  {
   "cell_type": "code",
   "execution_count": 154,
   "id": "10d7ec3b",
   "metadata": {},
   "outputs": [
    {
     "name": "stdout",
     "output_type": "stream",
     "text": [
      "tensor([[ 0.,  0.,  0.,  0.,  0.,  0.,  0.,  0.,  0.,  0.],\n",
      "        [ 0.,  0.,  0.,  0.,  0.,  0.,  0.,  0.,  0.,  0.],\n",
      "        [ 0.,  0.,  0.,  0.,  0.,  0.,  0.,  0.,  0.,  0.],\n",
      "        [ 0.,  0.,  0.,  0.,  0.,  0.,  0.,  0.,  0.,  0.],\n",
      "        [ 0.,  0.,  0.,  0.,  0.,  0.,  0.,  0.,  0.,  0.],\n",
      "        [ 0.,  0.,  0.,  0.,  0.,  0.,  0.,  0.,  0.,  0.],\n",
      "        [ 0.,  0.,  0.,  0.,  0.,  0.,  0.,  0.,  0.,  0.],\n",
      "        [ 0.,  0.,  0.,  0.,  0.,  0.,  0.,  0.,  0.,  0.],\n",
      "        [ 0.,  0.,  0.,  0.,  0.,  0.,  0.,  0., 86.,  0.],\n",
      "        [ 0.,  0.,  0.,  0.,  0.,  0.,  0.,  0.,  0.,  0.]])\n"
     ]
    }
   ],
   "source": [
    "# goes up by 0.25: starts at 9.5 (idx 0), 10 (idx 2), 10.5 (idx 4). mid0 = 21.5\n",
    "print(fake_output[mid0,40:50,40:50])"
   ]
  },
  {
   "cell_type": "code",
   "execution_count": 104,
   "id": "833969e4",
   "metadata": {},
   "outputs": [
    {
     "data": {
      "text/plain": [
       "tensor(21.5000)"
      ]
     },
     "execution_count": 104,
     "metadata": {},
     "output_type": "execute_result"
    }
   ],
   "source": [
    "fake_output[0][0][48].max()"
   ]
  },
  {
   "cell_type": "code",
   "execution_count": 143,
   "id": "395996e2",
   "metadata": {},
   "outputs": [
    {
     "name": "stdout",
     "output_type": "stream",
     "text": [
      "[ 69 103 127 158 125 148]\n",
      "Bbox coords: (69, 127, 125) to (103, 158, 148). Size: 34, 31, 23.\n",
      "Bounding box coord: from location (127, 125) of slice 69 to location (158, 148) of slice 103.\n",
      "Bbox coords: (31, 48, 47) to (65, 68, 62). Size: 34, 20, 15.\n",
      "Bounding box coord: from location (48, 47) of slice 31 to location (68, 62) of slice 65.\n"
     ]
    }
   ],
   "source": [
    "from helpers.preprocess import *\n",
    "print(np.asarray(orig_bbox)[0])\n",
    "print_bbox(*np.asarray(orig_bbox)[0])\n",
    "print_bbox(*np.asarray(gt_bboxs[idx]))"
   ]
  },
  {
   "cell_type": "code",
   "execution_count": 120,
   "id": "aac8bbc6",
   "metadata": {},
   "outputs": [
    {
     "data": {
      "text/plain": [
       "<matplotlib.image.AxesImage at 0x7fab2f198be0>"
      ]
     },
     "execution_count": 120,
     "metadata": {},
     "output_type": "execute_result"
    },
    {
     "data": {
      "image/png": "[encoded data removed]",
      "text/plain": [
       "<Figure size 432x288 with 1 Axes>"
      ]
     },
     "metadata": {
      "needs_background": "light"
     },
     "output_type": "display_data"
    }
   ],
   "source": [
    "plt.imshow(np.rot90(dls.train_ds[idx][0][0,mid0]), cmap=plt.cm.gray)"
   ]
  },
  {
   "cell_type": "code",
   "execution_count": 153,
   "id": "f607b2fd",
   "metadata": {},
   "outputs": [
    {
     "data": {
      "text/plain": [
       "<matplotlib.image.AxesImage at 0x7fab2c4ef128>"
      ]
     },
     "execution_count": 153,
     "metadata": {},
     "output_type": "execute_result"
    },
    {
     "data": {
      "image/png": "[encoded data removed]",
      "text/plain": [
       "<Figure size 432x288 with 1 Axes>"
      ]
     },
     "metadata": {
      "needs_background": "light"
     },
     "output_type": "display_data"
    }
   ],
   "source": [
    "from matplotlib import colors\n",
    "bin_cmap2  = colors.ListedColormap(['black', 'yellow'])\n",
    "\n",
    "plt.imshow(np.rot90(pred_masks[idx][mid0]), cmap=bin_cmap2)"
   ]
  },
  {
   "cell_type": "code",
   "execution_count": 160,
   "id": "a49cf99d",
   "metadata": {},
   "outputs": [
    {
     "data": {
      "text/plain": [
       "torch.Size([1, 96, 96, 96])"
      ]
     },
     "execution_count": 160,
     "metadata": {},
     "output_type": "execute_result"
    }
   ],
   "source": [
    "dls.train_ds[idx][0].shape"
   ]
  },
  {
   "cell_type": "code",
   "execution_count": 184,
   "id": "d51b8562",
   "metadata": {},
   "outputs": [
    {
     "data": {
      "text/plain": [
       "torch.Size([6])"
      ]
     },
     "execution_count": 184,
     "metadata": {},
     "output_type": "execute_result"
    }
   ],
   "source": [
    "pred_bboxs[idx].shape"
   ]
  },
  {
   "cell_type": "code",
   "execution_count": 199,
   "id": "c92cf76e",
   "metadata": {},
   "outputs": [],
   "source": [
    "from helpers.general import *\n",
    "from helpers.preprocess import *"
   ]
  },
  {
   "cell_type": "code",
   "execution_count": 200,
   "id": "4f2758af",
   "metadata": {},
   "outputs": [],
   "source": [
    "get_bbox_vals??"
   ]
  },
  {
   "cell_type": "code",
   "execution_count": 201,
   "id": "257e2d5a",
   "metadata": {},
   "outputs": [],
   "source": [
    "def twod_get_bbox(masks):\n",
    "    # HW -> H\n",
    "    # HW -> W\n",
    "    j = torch.any(masks, dim=0) # 0 -> 1,2 -> 2 -> 1 left\n",
    "    i = torch.any(masks, dim=1) # 1 -> 0,2 -> 0 -> 0 left\n",
    "\n",
    "    imin, imax = torch.where(i)[0][[0, -1]]\n",
    "    jmin, jmax = torch.where(j)[0][[0, -1]]\n",
    "  \n",
    "    return imin,imax,jmin,jmax"
   ]
  },
  {
   "cell_type": "code",
   "execution_count": 203,
   "id": "a9b9c8be",
   "metadata": {},
   "outputs": [
    {
     "name": "stdout",
     "output_type": "stream",
     "text": [
      "48 69 45 61\n"
     ]
    }
   ],
   "source": [
    "a,b,c,d = np.asarray(twod_get_bbox(sg))\n",
    "print(a,b,c,d)"
   ]
  },
  {
   "cell_type": "code",
   "execution_count": 215,
   "id": "9a66bd76",
   "metadata": {},
   "outputs": [
    {
     "name": "stdout",
     "output_type": "stream",
     "text": [
      "48 69 45 61\n",
      "im (96, 96) sg (96, 96) (96, 96) (21, 16)\n"
     ]
    },
    {
     "data": {
      "text/plain": [
       "<matplotlib.image.AxesImage at 0x7fab37c177b8>"
      ]
     },
     "execution_count": 215,
     "metadata": {},
     "output_type": "execute_result"
    },
    {
     "data": {
      "image/png": "[encoded data removed]",
      "text/plain": [
       "<Figure size 432x288 with 1 Axes>"
      ]
     },
     "metadata": {
      "needs_background": "light"
     },
     "output_type": "display_data"
    }
   ],
   "source": [
    "im = dls.train_ds[idx][0][0,mid0]\n",
    "sg = pred_masks[idx][mid0]\n",
    "\n",
    "\n",
    "a,b,c,d = np.asarray(twod_get_bbox(sg))\n",
    "print(a,b,c,d)\n",
    "\n",
    "im = np.asarray(im)\n",
    "sg = np.asarray(sg)\n",
    "m = np.multiply(im,sg)\n",
    "print(\"im\", im.shape, \"sg\", sg.shape, (im*sg).shape, np.multiply(im,sg)[a:b,c:d].shape)\n",
    "#plt.imshow(np.rot90(im*sg),cmap=plt.cm.gray)\n",
    "\n",
    "\n",
    "from torch import Tensor\n",
    "\n",
    "def bbox_crop(im, bbox, axis_idx=None, margin=20):\n",
    "    \n",
    "    a,b,c,d,e,f = bbox\n",
    "    \n",
    "    # margin\n",
    "    a -= margin; c -= margin; e -= margin\n",
    "    b += margin; d += margin; f += margin\n",
    "    \n",
    "    \n",
    "    if axis_idx is None:\n",
    "        return im[a:b, c:d, e:f]\n",
    "    \n",
    "    elif axis_idx == 0:\n",
    "        return im[c:d, e:f]\n",
    "    \n",
    "    elif axis_idx == 1:\n",
    "        return im[a:b, e:f]\n",
    "    \n",
    "    elif axis_idx == 2:\n",
    "        return im[a:b, c:d]\n",
    "    \n",
    "    else:\n",
    "        return None\n",
    "    \n",
    "\n",
    "plt.imshow(np.rot90(m[a:b,c:d]), cmap=plt.cm.gray)\n"
   ]
  },
  {
   "cell_type": "code",
   "execution_count": 222,
   "id": "7e1db477",
   "metadata": {},
   "outputs": [
    {
     "name": "stdout",
     "output_type": "stream",
     "text": [
      "Resampled by a factor of 2 with cubic interpolation:\n"
     ]
    },
    {
     "data": {
      "text/plain": [
       "<matplotlib.image.AxesImage at 0x7fab379ecc18>"
      ]
     },
     "execution_count": 222,
     "metadata": {},
     "output_type": "execute_result"
    },
    {
     "data": {
      "image/png": "[encoded data removed]",
      "text/plain": [
       "<Figure size 432x288 with 1 Axes>"
      ]
     },
     "metadata": {
      "needs_background": "light"
     },
     "output_type": "display_data"
    }
   ],
   "source": [
    "import numpy as np\n",
    "import scipy.ndimage\n",
    "\n",
    "x = m[a:b,c:d]\n",
    "print('Resampled by a factor of 2 with cubic interpolation:')\n",
    "plt.imshow(np.rot90(scipy.ndimage.zoom(x, 2, order=5)), cmap=plt.cm.gray)"
   ]
  },
  {
   "cell_type": "code",
   "execution_count": 223,
   "id": "fc15976f",
   "metadata": {},
   "outputs": [
    {
     "data": {
      "text/plain": [
       "(21, 16)"
      ]
     },
     "execution_count": 223,
     "metadata": {},
     "output_type": "execute_result"
    }
   ],
   "source": [
    "x.shape"
   ]
  },
  {
   "cell_type": "code",
   "execution_count": 224,
   "id": "e7683594",
   "metadata": {},
   "outputs": [
    {
     "ename": "ModuleNotFoundError",
     "evalue": "No module named 'cv2'",
     "output_type": "error",
     "traceback": [
      "\u001b[0;31m---------------------------------------------------------------------------\u001b[0m",
      "\u001b[0;31mModuleNotFoundError\u001b[0m                       Traceback (most recent call last)",
      "\u001b[0;32m<ipython-input-224-119b0dbe9099>\u001b[0m in \u001b[0;36m<module>\u001b[0;34m\u001b[0m\n\u001b[0;32m----> 1\u001b[0;31m \u001b[0;32mimport\u001b[0m \u001b[0mcv2\u001b[0m\u001b[0;34m\u001b[0m\u001b[0;34m\u001b[0m\u001b[0m\n\u001b[0m\u001b[1;32m      2\u001b[0m \u001b[0mres\u001b[0m \u001b[0;34m=\u001b[0m \u001b[0mcv2\u001b[0m\u001b[0;34m.\u001b[0m\u001b[0mresize\u001b[0m\u001b[0;34m(\u001b[0m\u001b[0mimg\u001b[0m\u001b[0;34m,\u001b[0m \u001b[0mdsize\u001b[0m\u001b[0;34m=\u001b[0m\u001b[0;34m(\u001b[0m\u001b[0;36m42\u001b[0m\u001b[0;34m,\u001b[0m\u001b[0;36m32\u001b[0m\u001b[0;34m)\u001b[0m\u001b[0;34m,\u001b[0m \u001b[0minterpolation\u001b[0m\u001b[0;34m=\u001b[0m\u001b[0mcv2\u001b[0m\u001b[0;34m.\u001b[0m\u001b[0mINTER_CUBIC\u001b[0m\u001b[0;34m)\u001b[0m\u001b[0;34m\u001b[0m\u001b[0;34m\u001b[0m\u001b[0m\n",
      "\u001b[0;31mModuleNotFoundError\u001b[0m: No module named 'cv2'"
     ]
    }
   ],
   "source": [
    "# import cv2\n",
    "# res = cv2.resize(img, dsize=(42,32), interpolation=cv2.INTER_CUBIC)"
   ]
  },
  {
   "cell_type": "code",
   "execution_count": 197,
   "id": "1a26c2e8",
   "metadata": {},
   "outputs": [],
   "source": [
    "batch_get_bbox??"
   ]
  },
  {
   "cell_type": "code",
   "execution_count": 189,
   "id": "f72a94ce",
   "metadata": {},
   "outputs": [
    {
     "data": {
      "text/plain": [
       "<matplotlib.image.AxesImage at 0x7fab37fee400>"
      ]
     },
     "execution_count": 189,
     "metadata": {},
     "output_type": "execute_result"
    },
    {
     "data": {
      "image/png": "[encoded data removed]",
      "text/plain": [
       "<Figure size 432x288 with 1 Axes>"
      ]
     },
     "metadata": {
      "needs_background": "light"
     },
     "output_type": "display_data"
    }
   ],
   "source": [
    "plt.imshow(np.rot90(im),cmap=plt.cm.gray)\n",
    "plt.imshow(np.rot90(sg),cmap=bin_cmap2, alpha=0.5)"
   ]
  },
  {
   "cell_type": "code",
   "execution_count": 177,
   "id": "a78e520e",
   "metadata": {},
   "outputs": [
    {
     "data": {
      "text/plain": [
       "<matplotlib.image.AxesImage at 0x7fab2f319198>"
      ]
     },
     "execution_count": 177,
     "metadata": {},
     "output_type": "execute_result"
    },
    {
     "data": {
      "image/png": "[encoded data removed]",
      "text/plain": [
       "<Figure size 432x288 with 1 Axes>"
      ]
     },
     "metadata": {
      "needs_background": "light"
     },
     "output_type": "display_data"
    }
   ],
   "source": [
    "plt.imshow(np.rot90(im*sg), cmap=plt.cm.gray)"
   ]
  },
  {
   "cell_type": "code",
   "execution_count": 154,
   "id": "61bb1b40",
   "metadata": {},
   "outputs": [
    {
     "ename": "ValueError",
     "evalue": "Axes must be different.",
     "output_type": "error",
     "traceback": [
      "\u001b[0;31m---------------------------------------------------------------------------\u001b[0m",
      "\u001b[0;31mValueError\u001b[0m                                Traceback (most recent call last)",
      "\u001b[0;32m<ipython-input-154-7556492ca113>\u001b[0m in \u001b[0;36m<module>\u001b[0;34m\u001b[0m\n\u001b[0;32m----> 1\u001b[0;31m \u001b[0mplt\u001b[0m\u001b[0;34m.\u001b[0m\u001b[0mimshow\u001b[0m\u001b[0;34m(\u001b[0m\u001b[0mnp\u001b[0m\u001b[0;34m.\u001b[0m\u001b[0mrot90\u001b[0m\u001b[0;34m(\u001b[0m\u001b[0mdls\u001b[0m\u001b[0;34m.\u001b[0m\u001b[0mtrain_ds\u001b[0m\u001b[0;34m[\u001b[0m\u001b[0midx\u001b[0m\u001b[0;34m]\u001b[0m\u001b[0;34m[\u001b[0m\u001b[0;36m0\u001b[0m\u001b[0;34m]\u001b[0m\u001b[0;34m[\u001b[0m\u001b[0;36m0\u001b[0m\u001b[0;34m,\u001b[0m\u001b[0mmid0\u001b[0m\u001b[0;34m]\u001b[0m\u001b[0;34m[\u001b[0m\u001b[0mpred_masks\u001b[0m\u001b[0;34m[\u001b[0m\u001b[0midx\u001b[0m\u001b[0;34m]\u001b[0m\u001b[0;34m[\u001b[0m\u001b[0mmid0\u001b[0m\u001b[0;34m]\u001b[0m\u001b[0;34m]\u001b[0m\u001b[0;34m)\u001b[0m\u001b[0;34m,\u001b[0m \u001b[0mcmap\u001b[0m\u001b[0;34m=\u001b[0m\u001b[0mbin_cmap2\u001b[0m\u001b[0;34m)\u001b[0m\u001b[0;34m\u001b[0m\u001b[0;34m\u001b[0m\u001b[0m\n\u001b[0m",
      "\u001b[0;32m<__array_function__ internals>\u001b[0m in \u001b[0;36mrot90\u001b[0;34m(*args, **kwargs)\u001b[0m\n",
      "\u001b[0;32m/usr/local/lib/python3.6/dist-packages/numpy/lib/function_base.py\u001b[0m in \u001b[0;36mrot90\u001b[0;34m(m, k, axes)\u001b[0m\n\u001b[1;32m    119\u001b[0m \u001b[0;34m\u001b[0m\u001b[0m\n\u001b[1;32m    120\u001b[0m     \u001b[0;32mif\u001b[0m \u001b[0maxes\u001b[0m\u001b[0;34m[\u001b[0m\u001b[0;36m0\u001b[0m\u001b[0;34m]\u001b[0m \u001b[0;34m==\u001b[0m \u001b[0maxes\u001b[0m\u001b[0;34m[\u001b[0m\u001b[0;36m1\u001b[0m\u001b[0;34m]\u001b[0m \u001b[0;32mor\u001b[0m \u001b[0mabsolute\u001b[0m\u001b[0;34m(\u001b[0m\u001b[0maxes\u001b[0m\u001b[0;34m[\u001b[0m\u001b[0;36m0\u001b[0m\u001b[0;34m]\u001b[0m \u001b[0;34m-\u001b[0m \u001b[0maxes\u001b[0m\u001b[0;34m[\u001b[0m\u001b[0;36m1\u001b[0m\u001b[0;34m]\u001b[0m\u001b[0;34m)\u001b[0m \u001b[0;34m==\u001b[0m \u001b[0mm\u001b[0m\u001b[0;34m.\u001b[0m\u001b[0mndim\u001b[0m\u001b[0;34m:\u001b[0m\u001b[0;34m\u001b[0m\u001b[0;34m\u001b[0m\u001b[0m\n\u001b[0;32m--> 121\u001b[0;31m         \u001b[0;32mraise\u001b[0m \u001b[0mValueError\u001b[0m\u001b[0;34m(\u001b[0m\u001b[0;34m\"Axes must be different.\"\u001b[0m\u001b[0;34m)\u001b[0m\u001b[0;34m\u001b[0m\u001b[0;34m\u001b[0m\u001b[0m\n\u001b[0m\u001b[1;32m    122\u001b[0m \u001b[0;34m\u001b[0m\u001b[0m\n\u001b[1;32m    123\u001b[0m     if (axes[0] >= m.ndim or axes[0] < -m.ndim\n",
      "\u001b[0;31mValueError\u001b[0m: Axes must be different."
     ]
    }
   ],
   "source": [
    "plt.imshow(np.rot90(dls.train_ds[idx][0][0,mid0][pred_masks[idx][mid0]]), cmap=bin_cmap2)"
   ]
  },
  {
   "cell_type": "code",
   "execution_count": null,
   "id": "1fb347f9",
   "metadata": {},
   "outputs": [],
   "source": [
    "from matplotlib import colors\n",
    "\n",
    "prob_cmap  = \"GnBu\" #\"hot\" https://matplotlib.org/stable/tutorials/colors/colormaps.html \n",
    "bin_cmap1  = colors.ListedColormap(['white', 'yellow'])\n",
    "bin_cmap2  = colors.ListedColormap(['white', 'red'])\n",
    "\n",
    "for idx in sorted_dice_idxs[:10]:\n",
    "\n",
    "    print(f\"Worst idx: {idx}. mr: {items[idx][0][len(data_src)+1:]}\")\n",
    "    \n",
    "    gt_bbox   = gt_bboxs[idx]\n",
    "    pred_bbox = pred_bboxs[idx]\n",
    "    \n",
    "    gt_map    = targets[idx].squeeze()\n",
    "    prob_map  = probs[idx]\n",
    "    pred_mask = pred_masks[idx]\n",
    "\n",
    "    # max difference\n",
    "    d = torch.abs(gt_map-prob_map)\n",
    "\n",
    "    # along axis 0,1,2\n",
    "    a0 = torch.sum(torch.sum(d, dim=2), dim=1)\n",
    "    a1 = torch.sum(torch.sum(d, dim=2), dim=0)\n",
    "    a2 = torch.sum(torch.sum(d, dim=1), dim=0)\n",
    "    a0max, a0_idx = torch.max(a0), torch.argmax(a0)\n",
    "    a1max, a1_idx = torch.max(a1), torch.argmax(a1)\n",
    "    a2max, a2_idx = torch.max(a2), torch.argmax(a2)\n",
    "    \n",
    "    # plot\n",
    "    fig, axes = plt.subplots(3,4, figsize=(12,12))\n",
    "    for i in range(3):\n",
    "        max_diff_idx = [a0_idx, a1_idx, a2_idx][i]\n",
    "        \n",
    "        gt_slice, prob_slice, pred_slice = [np.take(np.asarray(m), max_diff_idx, axis=i) for m in (gt_map, prob_map, pred_mask)]\n",
    "        \n",
    "        axes[i,0].imshow(gt_slice,   cmap=bin_cmap1)\n",
    "        axes[i,0].imshow(pred_slice, cmap=bin_cmap2, alpha=0.5)\n",
    "        axes[i,1].imshow(gt_slice,   cmap=bin_cmap1)\n",
    "        im  = axes[i,2].imshow(prob_slice, cmap=prob_cmap, interpolation='nearest')  \n",
    "        im2 = axes[i,3].imshow(np.log(prob_slice), cmap=prob_cmap, interpolation='nearest')  \n",
    "\n",
    "        axes[i,0].set_title(f\"Slice {max_diff_idx} (Axis {i})\")\n",
    "        axes[i,1].set_title(f\"GT map\")\n",
    "        axes[i,2].set_title(f\"Prob map\")\n",
    "        axes[i,3].set_title(f\"Log Prob map\")\n",
    "        \n",
    "        # colorbar\n",
    "        fig.colorbar(im,  ax=axes[i,2])\n",
    "        fig.colorbar(im2, ax=axes[i,3])\n",
    "\n",
    "    plt.show()"
   ]
  },
  {
   "cell_type": "code",
   "execution_count": 90,
   "id": "d0d161d4",
   "metadata": {},
   "outputs": [],
   "source": [
    "# start = time.time()\n",
    "\n",
    "# indiv_dices1 = dice_loss(predictions.argmax(1).unsqueeze(1), targets)\n",
    "# elapsed = time.time() - start\n",
    "\n",
    "# print(f\"Elapsed: {elapsed:0.2f} s for {len(targets)} items.\")"
   ]
  },
  {
   "cell_type": "code",
   "execution_count": 88,
   "id": "d72552ed",
   "metadata": {},
   "outputs": [
    {
     "data": {
      "text/plain": [
       "tensor([0.1962])"
      ]
     },
     "execution_count": 88,
     "metadata": {},
     "output_type": "execute_result"
    }
   ],
   "source": [
    "indiv_dices1[0]"
   ]
  },
  {
   "cell_type": "code",
   "execution_count": 89,
   "id": "fb41b9a4",
   "metadata": {},
   "outputs": [
    {
     "data": {
      "text/plain": [
       "[tensor([0.8038]),\n",
       " tensor([0.8556]),\n",
       " tensor([0.7979]),\n",
       " tensor([0.7150]),\n",
       " tensor([0.8311]),\n",
       " tensor([0.8372]),\n",
       " tensor([0.8614]),\n",
       " tensor([0.7667]),\n",
       " tensor([0.8658]),\n",
       " tensor([0.8600]),\n",
       " tensor([0.7912]),\n",
       " tensor([0.8048]),\n",
       " tensor([0.7750]),\n",
       " tensor([0.8717]),\n",
       " tensor([0.8512]),\n",
       " tensor([0.8260]),\n",
       " tensor([0.8199]),\n",
       " tensor([0.7591]),\n",
       " tensor([0.7648]),\n",
       " tensor([0.7663])]"
      ]
     },
     "execution_count": 89,
     "metadata": {},
     "output_type": "execute_result"
    }
   ],
   "source": [
    "[1-dice_loss for dice_loss in indiv_dices1]"
   ]
  },
  {
   "cell_type": "code",
   "execution_count": 68,
   "id": "dfa185c8",
   "metadata": {},
   "outputs": [
    {
     "name": "stdout",
     "output_type": "stream",
     "text": [
      "Elapsed: 2.68 s for 20 items.\n"
     ]
    }
   ],
   "source": [
    "start = time.time()\n",
    "\n",
    "indiv_dices2 = [dice_score(predictions[i].unsqueeze(0), targets[i].unsqueeze(0)) for i in range(len(targets))]\n",
    "elapsed = time.time() - start\n",
    "\n",
    "print(f\"Elapsed: {elapsed:0.2f} s for {len(targets)} items.\")"
   ]
  },
  {
   "cell_type": "code",
   "execution_count": 69,
   "id": "668e2fb0",
   "metadata": {},
   "outputs": [
    {
     "data": {
      "text/plain": [
       "[tensor(0.8038),\n",
       " tensor(0.8556),\n",
       " tensor(0.7979),\n",
       " tensor(0.7150),\n",
       " tensor(0.8311),\n",
       " tensor(0.8372),\n",
       " tensor(0.8614),\n",
       " tensor(0.7667),\n",
       " tensor(0.8658),\n",
       " tensor(0.8600),\n",
       " tensor(0.7912),\n",
       " tensor(0.8048),\n",
       " tensor(0.7750),\n",
       " tensor(0.8717),\n",
       " tensor(0.8512),\n",
       " tensor(0.8260),\n",
       " tensor(0.8199),\n",
       " tensor(0.7591),\n",
       " tensor(0.7648),\n",
       " tensor(0.7663)]"
      ]
     },
     "execution_count": 69,
     "metadata": {},
     "output_type": "execute_result"
    }
   ],
   "source": [
    "indiv_dices"
   ]
  },
  {
   "cell_type": "code",
   "execution_count": 26,
   "id": "608ddb02",
   "metadata": {},
   "outputs": [
    {
     "ename": "TypeError",
     "evalue": "len() of a 0-d tensor",
     "output_type": "error",
     "traceback": [
      "\u001b[0;31m---------------------------------------------------------------------------\u001b[0m",
      "\u001b[0;31mTypeError\u001b[0m                                 Traceback (most recent call last)",
      "\u001b[0;32m<ipython-input-26-486791a7a1cc>\u001b[0m in \u001b[0;36m<module>\u001b[0;34m\u001b[0m\n\u001b[1;32m      2\u001b[0m \u001b[0;34m\u001b[0m\u001b[0m\n\u001b[1;32m      3\u001b[0m \u001b[0;31m# sort dices from low to high\u001b[0m\u001b[0;34m\u001b[0m\u001b[0;34m\u001b[0m\u001b[0;34m\u001b[0m\u001b[0m\n\u001b[0;32m----> 4\u001b[0;31m \u001b[0msorted_dice_idxs\u001b[0m  \u001b[0;34m=\u001b[0m \u001b[0msorted\u001b[0m\u001b[0;34m(\u001b[0m\u001b[0mrange\u001b[0m\u001b[0;34m(\u001b[0m\u001b[0mlen\u001b[0m\u001b[0;34m(\u001b[0m\u001b[0mindiv_dices\u001b[0m\u001b[0;34m)\u001b[0m\u001b[0;34m)\u001b[0m\u001b[0;34m,\u001b[0m \u001b[0mkey\u001b[0m\u001b[0;34m=\u001b[0m\u001b[0;32mlambda\u001b[0m \u001b[0mi\u001b[0m\u001b[0;34m:\u001b[0m\u001b[0mindiv_dices\u001b[0m\u001b[0;34m[\u001b[0m\u001b[0mi\u001b[0m\u001b[0;34m]\u001b[0m\u001b[0;34m.\u001b[0m\u001b[0mitem\u001b[0m\u001b[0;34m(\u001b[0m\u001b[0;34m)\u001b[0m\u001b[0;34m)\u001b[0m\u001b[0;34m\u001b[0m\u001b[0;34m\u001b[0m\u001b[0m\n\u001b[0m\u001b[1;32m      5\u001b[0m \u001b[0mnp_indiv_dices\u001b[0m \u001b[0;34m=\u001b[0m \u001b[0mnp\u001b[0m\u001b[0;34m.\u001b[0m\u001b[0marray\u001b[0m\u001b[0;34m(\u001b[0m\u001b[0;34m[\u001b[0m\u001b[0mindiv_dices\u001b[0m\u001b[0;34m[\u001b[0m\u001b[0mi\u001b[0m\u001b[0;34m]\u001b[0m\u001b[0;34m.\u001b[0m\u001b[0mitem\u001b[0m\u001b[0;34m(\u001b[0m\u001b[0;34m)\u001b[0m \u001b[0;32mfor\u001b[0m \u001b[0mi\u001b[0m \u001b[0;32min\u001b[0m \u001b[0msorted_dice_idxs\u001b[0m\u001b[0;34m]\u001b[0m\u001b[0;34m)\u001b[0m\u001b[0;34m\u001b[0m\u001b[0;34m\u001b[0m\u001b[0m\n\u001b[1;32m      6\u001b[0m \u001b[0;34m\u001b[0m\u001b[0m\n",
      "\u001b[0;32m/usr/local/lib/python3.6/dist-packages/torch/tensor.py\u001b[0m in \u001b[0;36m__len__\u001b[0;34m(self)\u001b[0m\n\u001b[1;32m    571\u001b[0m             \u001b[0;32mreturn\u001b[0m \u001b[0mhandle_torch_function\u001b[0m\u001b[0;34m(\u001b[0m\u001b[0mTensor\u001b[0m\u001b[0;34m.\u001b[0m\u001b[0m__len__\u001b[0m\u001b[0;34m,\u001b[0m \u001b[0mrelevant_args\u001b[0m\u001b[0;34m,\u001b[0m \u001b[0mself\u001b[0m\u001b[0;34m)\u001b[0m\u001b[0;34m\u001b[0m\u001b[0;34m\u001b[0m\u001b[0m\n\u001b[1;32m    572\u001b[0m         \u001b[0;32mif\u001b[0m \u001b[0mself\u001b[0m\u001b[0;34m.\u001b[0m\u001b[0mdim\u001b[0m\u001b[0;34m(\u001b[0m\u001b[0;34m)\u001b[0m \u001b[0;34m==\u001b[0m \u001b[0;36m0\u001b[0m\u001b[0;34m:\u001b[0m\u001b[0;34m\u001b[0m\u001b[0;34m\u001b[0m\u001b[0m\n\u001b[0;32m--> 573\u001b[0;31m             \u001b[0;32mraise\u001b[0m \u001b[0mTypeError\u001b[0m\u001b[0;34m(\u001b[0m\u001b[0;34m\"len() of a 0-d tensor\"\u001b[0m\u001b[0;34m)\u001b[0m\u001b[0;34m\u001b[0m\u001b[0;34m\u001b[0m\u001b[0m\n\u001b[0m\u001b[1;32m    574\u001b[0m         \u001b[0;32mreturn\u001b[0m \u001b[0mself\u001b[0m\u001b[0;34m.\u001b[0m\u001b[0mshape\u001b[0m\u001b[0;34m[\u001b[0m\u001b[0;36m0\u001b[0m\u001b[0;34m]\u001b[0m\u001b[0;34m\u001b[0m\u001b[0;34m\u001b[0m\u001b[0m\n\u001b[1;32m    575\u001b[0m \u001b[0;34m\u001b[0m\u001b[0m\n",
      "\u001b[0;31mTypeError\u001b[0m: len() of a 0-d tensor"
     ]
    }
   ],
   "source": [
    "start = time.time()\n",
    "\n",
    "# sort dices from low to high\n",
    "sorted_dice_idxs  = sorted(range(len(indiv_dices)), key=lambda i:indiv_dices[i].item()) \n",
    "np_indiv_dices = np.array([indiv_dices[i].item() for i in sorted_dice_idxs])\n",
    "\n",
    "# plot\n",
    "fig1, (ax0, ax1) = plt.subplots(nrows=1, ncols=2, figsize=(12,6))\n",
    "ax0.hist(np_indiv_dices, bins=\"auto\")\n",
    "ax1.boxplot(np_indiv_dices)\n",
    "\n",
    "fig1.suptitle(\"Dice Score (ABIDE test set + Cross label items)\")\n",
    "plt.show()\n",
    "\n",
    "# time\n",
    "elapsed = time.time() - start\n",
    "print(f\"Elapsed: {elapsed:0.2f} s for {len(targets)} items.\")"
   ]
  },
  {
   "cell_type": "code",
   "execution_count": null,
   "id": "fe8d16a6",
   "metadata": {},
   "outputs": [],
   "source": []
  }
 ],
 "metadata": {
  "kernelspec": {
   "display_name": "Python 3",
   "language": "python",
   "name": "python3"
  },
  "language_info": {
   "codemirror_mode": {
    "name": "ipython",
    "version": 3
   },
   "file_extension": ".py",
   "mimetype": "text/x-python",
   "name": "python",
   "nbconvert_exporter": "python",
   "pygments_lexer": "ipython3",
   "version": "3.6.9"
  }
 },
 "nbformat": 4,
 "nbformat_minor": 5
}
