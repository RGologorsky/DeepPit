{
 "cells": [
  {
   "cell_type": "markdown",
   "id": "unable-instruction",
   "metadata": {},
   "source": [
    "# Goal\n",
    "\n",
    "This notebook checks model generalization performance on other dsets.\n",
    "\n",
    "**With gratitude to**:\n",
    "- https://github.com/mattiaspaul/OBELISK\n",
    "-  https://github.com/kbressem/faimed3d/blob/main/examples/3d_segmentation.md"
   ]
  },
  {
   "cell_type": "code",
   "execution_count": 1,
   "id": "2b65c78c",
   "metadata": {},
   "outputs": [],
   "source": [
    "import os\n",
    "\n",
    "try:\n",
    "    taskid = int(os.getenv('SLURM_ARRAY_TASK_ID'))\n",
    "    do_task = True\n",
    "except:\n",
    "    taskid = 0\n",
    "    do_task = False"
   ]
  },
  {
   "cell_type": "code",
   "execution_count": 2,
   "id": "832446de",
   "metadata": {},
   "outputs": [
    {
     "name": "stdout",
     "output_type": "stream",
     "text": [
      "cuda:0\n"
     ]
    }
   ],
   "source": [
    "import torch\n",
    "device = torch.device(\"cuda:0\" if torch.cuda.is_available() else \"cpu\")\n",
    "print(device)"
   ]
  },
  {
   "cell_type": "code",
   "execution_count": 3,
   "id": "c93b581e",
   "metadata": {},
   "outputs": [],
   "source": [
    "# from pathlib import Path\n",
    "# from helpers.items_constants import *\n",
    "# def is_recent(model_fn):\n",
    "#     dates = [f\"Aug_0{x}\"  for x in range(2,10)]\n",
    "#     dates += [f\"Aug_1{x}\" for x in range(0,10)]\n",
    "#     return any([date in str(model_fn) for date in dates])\n",
    "\n",
    "# model_fns = sorted(Path(run_src).iterdir(), key=os.path.getmtime, reverse=True)\n",
    "# todo = [str(model_fn) \n",
    "#         for model_fn in model_fns \n",
    "#         if (os.path.isfile(f\"{str(model_fn)}/figs/metrics.png\") and \\\n",
    "#                 is_recent(model_fn)\n",
    "#             )\n",
    "#        ]"
   ]
  },
  {
   "cell_type": "code",
   "execution_count": 4,
   "id": "d5ce12a1",
   "metadata": {},
   "outputs": [],
   "source": [
    "# for model_fn in todo:\n",
    "#     source_dir = model_fn\n",
    "#     files_to_remove = [x for x in os.listdir(source_dir) if x not in (\"model.pth\", \"figs\", \"data_augs.txt\")]\n",
    "#     for file in files_to_remove:\n",
    "#         os.remove(os.path.join(source_dir, file))"
   ]
  },
  {
   "cell_type": "code",
   "execution_count": 5,
   "id": "48742763",
   "metadata": {},
   "outputs": [],
   "source": [
    "# model_fn = models_to_ensemble[0]\n",
    "# os.listdir(f\"{run_src}/{model_fn}\")\n",
    "\n",
    "# files_to_remove = [x for x in os.listdir(f\"{run_src}/{model_fn}\") if x not in (\"model.pth\", \"figs\", \"data_augs.txt\")]\n",
    "# print(len(files_to_remove))\n",
    "# print(*sorted(files_to_remove), sep=\"\\n\")\n",
    "\n",
    "# # import shutil\n",
    "\n",
    "# # for model_fn in models_to_ensemble:\n",
    "# #     source_dir = f\"{run_src}/{model_fn}\"\n",
    "# #     files_to_remove = [x for x in os.listdir(source_dir) if x not in (\"model.pth\", \"figs\", \"data_augs.txt\")]\n",
    "# #     for file_name in files_to_remove:\n",
    "# #         os.remove(os.path.join(source_dir, file_name))"
   ]
  },
  {
   "cell_type": "code",
   "execution_count": 6,
   "id": "96548c74",
   "metadata": {},
   "outputs": [
    {
     "name": "stdout",
     "output_type": "stream",
     "text": [
      "Full lbl items: 335\n",
      "Removed 2 weird, new total lbl items: 333\n",
      "train, valid, test 201 66 66 total 333\n",
      "Cross label items:  418\n",
      "All label items:  751 (abide (333) + cross_lbl (418))\n",
      "Test label items:  484 (test (66) + cross_lbl (418))\n",
      "418\n",
      "418\n",
      "484\n",
      "484\n"
     ]
    }
   ],
   "source": [
    "if not do_task:\n",
    "    %load_ext autoreload\n",
    "    %autoreload 2\n",
    "\n",
    "# INFERENCE DATALOADER PARAMS\n",
    "num_workers = 1\n",
    "\n",
    "# ITEMS\n",
    "\n",
    "from pathlib import Path\n",
    "from helpers.items_constants import *\n",
    "from helpers.general import rm_prefix, get_param_default, modelfn2dict\n",
    "\n",
    "import SimpleITK as sitk\n",
    "import pandas as pd\n",
    "\n",
    "dsets_src    = f\"{data_src}/PitMRdata\"\n",
    "\n",
    "# key,val = dset_name, path to top level dir\n",
    "dset_dict = {\n",
    "    \"ABIDE\"                  : f\"{dsets_src}/ABIDE\",\n",
    "    \"ABVIB\"                  : f\"{dsets_src}/ABVIB/ABVIB\",\n",
    "    \"ADNI1_Complete_1Yr_1.5T\": f\"{dsets_src}/ADNI/ADNI1_Complete_1Yr_1.5T/ADNI\",\n",
    "    \"AIBL\"                   : f\"{dsets_src}/AIBL/AIBL\",\n",
    "    \"ICMB\"                   : f\"{dsets_src}/ICMB/ICBM\",\n",
    "    \"PPMI\"                   : f\"{dsets_src}/PPMI/PPMI\",\n",
    "}\n",
    "\n",
    "ppmi  = [i for i in cross_lbl_items if dset_dict[\"PPMI\"] in i[0]]\n",
    "icmb = [i for i in cross_lbl_items if \"ICMB\" in i[1]]\n",
    "adni = [i for i in cross_lbl_items if \"ADNI1_full\" in i[1]]\n",
    "aibl = [i for i in cross_lbl_items if \"AIBL\" in i[1]]\n",
    "abvib = [i for i in cross_lbl_items if \"ABVIB\" in i[1]]\n",
    "\n",
    "print(len(cross_lbl_items))\n",
    "print(len(ppmi)+len(icmb)+len(adni)+len(aibl)+len(abvib))\n",
    "print(len(all_test_lbl_items))\n",
    "print(len(cross_lbl_items)+len(test_items))\n",
    "\n",
    "# Items as dict \n",
    "from pathlib import Path\n",
    "from helpers.items_constants import *\n",
    "\n",
    "# print(f\"n = {len(itemsd)}, test items = {len(test_items)}, other dsets = {len(cross_lbl_items)}\")\n",
    "# print(f\"first item\", itemsd[0])\n",
    "\n",
    "import os\n",
    "import shutil\n",
    "import tempfile\n",
    "import time\n",
    "from pathlib import Path\n",
    "\n",
    "import matplotlib.pyplot as plt\n",
    "import numpy as np\n",
    "from tqdm import tqdm\n",
    "\n",
    "import torch\n",
    "\n",
    "# print_config()"
   ]
  },
  {
   "cell_type": "code",
   "execution_count": 7,
   "id": "39345ec6",
   "metadata": {},
   "outputs": [],
   "source": [
    "def is_recent(model_fn):\n",
    "    dates = [f\"Aug_0{x}\"  for x in range(2,10)]\n",
    "    dates += [f\"Aug_1{x}\" for x in range(0,10)]\n",
    "    dates += [f\"Aug_2{x}\" for x in range(0,10)]\n",
    "    dates += [f\"Aug_3{x}\" for x in range(0,10)]\n",
    "    dates += [f\"Sep_0{x}\" for x in range(0,10)]\n",
    "    return any([date in str(model_fn) for date in dates])"
   ]
  },
  {
   "cell_type": "code",
   "execution_count": 8,
   "id": "e66cc419",
   "metadata": {},
   "outputs": [
    {
     "name": "stdout",
     "output_type": "stream",
     "text": [
      "TODO:  0\n",
      "\n"
     ]
    },
    {
     "ename": "IndexError",
     "evalue": "list index out of range",
     "output_type": "error",
     "traceback": [
      "\u001b[0;31m---------------------------------------------------------------------------\u001b[0m",
      "\u001b[0;31mIndexError\u001b[0m                                Traceback (most recent call last)",
      "\u001b[0;32m<ipython-input-8-e94bb989b53b>\u001b[0m in \u001b[0;36m<module>\u001b[0;34m\u001b[0m\n\u001b[1;32m     22\u001b[0m \u001b[0;31m# doing\u001b[0m\u001b[0;34m\u001b[0m\u001b[0;34m\u001b[0m\u001b[0;34m\u001b[0m\u001b[0m\n\u001b[1;32m     23\u001b[0m \u001b[0mmodel_idx\u001b[0m  \u001b[0;34m=\u001b[0m \u001b[0mtaskid\u001b[0m\u001b[0;34m\u001b[0m\u001b[0;34m\u001b[0m\u001b[0m\n\u001b[0;32m---> 24\u001b[0;31m \u001b[0mmodel_fn\u001b[0m   \u001b[0;34m=\u001b[0m \u001b[0mtodo\u001b[0m\u001b[0;34m[\u001b[0m\u001b[0mmodel_idx\u001b[0m\u001b[0;34m]\u001b[0m\u001b[0;34m\u001b[0m\u001b[0;34m\u001b[0m\u001b[0m\n\u001b[0m\u001b[1;32m     25\u001b[0m \u001b[0mmodel_name\u001b[0m \u001b[0;34m=\u001b[0m \u001b[0mPath\u001b[0m\u001b[0;34m(\u001b[0m\u001b[0mmodel_fn\u001b[0m\u001b[0;34m)\u001b[0m\u001b[0;34m.\u001b[0m\u001b[0mname\u001b[0m\u001b[0;34m\u001b[0m\u001b[0;34m\u001b[0m\u001b[0m\n\u001b[1;32m     26\u001b[0m \u001b[0;34m\u001b[0m\u001b[0m\n",
      "\u001b[0;31mIndexError\u001b[0m: list index out of range"
     ]
    }
   ],
   "source": [
    "from helpers.model_loss_choices import get_model, get_loss\n",
    "\n",
    "model_fns = sorted(Path(run_src).iterdir(), key=os.path.getmtime, reverse=True)\n",
    "todo = [str(model_fn) \n",
    "        for model_fn in model_fns \n",
    "        if (not os.path.isfile(f\"{str(model_fn)}/post_lcc_df.pkl\") and \\\n",
    "                (os.path.isfile(f\"{str(model_fn)}/figs/metrics.png\")) and \\\n",
    "                is_recent(model_fn)\n",
    "            )\n",
    "       ]\n",
    "\n",
    "print(\"TODO: \", len(todo))\n",
    "print(*rm_prefix(todo, prefix=run_src, do_sort=True), sep=\"\\n\")\n",
    "\n",
    "for fn in todo:\n",
    "    model_dict2 = modelfn2dict(fn)\n",
    "    model_type2, loss_type2, full_res2, pixdim2, do_flip2, do_simple2 = \\\n",
    "        [model_dict2[k] for k in (\"model_type\", \"loss_type\", \"full_res\", \"pixdim\", \"do_flip\", \"do_simple\")]\n",
    "\n",
    "    print(model_type2, loss_type2, \"simple augs: \", do_simple2, \"flip\", do_flip2, \"pixdim\", pixdim2, \"full_res\", full_res2)\n",
    "    \n",
    "# doing    \n",
    "model_idx  = taskid\n",
    "model_fn   = todo[model_idx]\n",
    "model_name = Path(model_fn).name\n",
    "\n",
    "# get params\n",
    "model_dict = modelfn2dict(model_fn)\n",
    "model_type, loss_type, full_res, pixdim, do_flip, do_simple = \\\n",
    "        [model_dict[k] for k in (\"model_type\", \"loss_type\", \"full_res\", \"pixdim\", \"do_flip\", \"do_simple\")]\n",
    "\n",
    "print(f\"Chosen: {model_name} (idx {model_idx})\")\n",
    "\n",
    "\n",
    "print(f\"Model: {model_type}\")\n",
    "print(f\"Loss : {loss_type}\")\n",
    "print(f\"Pixd : {pixdim}\")\n",
    "print(f\"Fullres : {full_res}\")\n",
    "print(f\"Do flip: {do_flip}\")\n",
    "print(f\"Do simple: {do_simple}\")\n"
   ]
  },
  {
   "cell_type": "code",
   "execution_count": 9,
   "id": "d42b2d97",
   "metadata": {},
   "outputs": [
    {
     "name": "stdout",
     "output_type": "stream",
     "text": [
      "#GPU = 1, #CPU = 40\n",
      "GPU Tesla V100-SXM2-16GB RAM Free: 16157MB | Used: 3MB | Util   0% | Total 16160MB\n"
     ]
    }
   ],
   "source": [
    "# clear cache\n",
    "import gc\n",
    "from helpers.general import print_hardware_stats\n",
    "\n",
    "gc.collect()\n",
    "\n",
    "if not str(device)==\"cpu\":\n",
    "    torch.cuda.empty_cache()\n",
    "    print_hardware_stats()\n",
    "    "
   ]
  },
  {
   "cell_type": "code",
   "execution_count": 15,
   "id": "06202b3c",
   "metadata": {},
   "outputs": [
    {
     "data": {
      "text/plain": [
       "[{'image': '/gpfs/data/oermannlab/private_data/DeepPit/PitMRdata/samir_labels/50373-50453/50437/MP-RAGE/2000-01-01_00_00_00.0/S165191/ABIDE_50437_MRI_MP-RAGE_br_raw_20120830214425874_S165191_I329201_corrected_n4.nii',\n",
       "  'label': '/gpfs/data/oermannlab/private_data/DeepPit/PitMRdata/samir_labels/50373-50453/50437/seg.nii'},\n",
       " {'image': '/gpfs/data/oermannlab/private_data/DeepPit/PitMRdata/samir_labels/50373-50453/50436/MP-RAGE/2000-01-01_00_00_00.0/S165360/ABIDE_50436_MRI_MP-RAGE_br_raw_20120830231340925_S165360_I329370_corrected_n4.nii',\n",
       "  'label': '/gpfs/data/oermannlab/private_data/DeepPit/PitMRdata/samir_labels/50373-50453/50436/seg.nii'},\n",
       " {'image': '/gpfs/data/oermannlab/private_data/DeepPit/PitMRdata/samir_labels/50313-50372/50360/MP-RAGE/2000-01-01_00_00_00.0/S164574/ABIDE_50360_MRI_MP-RAGE_br_raw_20120830171014509_S164574_I328577_corrected_n4.nii',\n",
       "  'label': '/gpfs/data/oermannlab/private_data/DeepPit/PitMRdata/samir_labels/50313-50372/50360/seg.nii'},\n",
       " {'image': '/gpfs/data/oermannlab/private_data/DeepPit/PitMRdata/samir_labels/50313-50372/50361/MP-RAGE/2000-01-01_00_00_00.0/S164556/ABIDE_50361_MRI_MP-RAGE_br_raw_20120830170023680_S164556_I328559_corrected_n4.nii',\n",
       "  'label': '/gpfs/data/oermannlab/private_data/DeepPit/PitMRdata/samir_labels/50313-50372/50361/seg.nii'},\n",
       " {'image': '/gpfs/data/oermannlab/private_data/DeepPit/PitMRdata/samir_labels/50313-50372/50353/MP-RAGE/2000-01-01_00_00_00.0/S164484/ABIDE_50353_MRI_MP-RAGE_br_raw_20120830162444137_S164484_I328484_corrected_n4.nii',\n",
       "  'label': '/gpfs/data/oermannlab/private_data/DeepPit/PitMRdata/samir_labels/50313-50372/50353/seg.nii'},\n",
       " {'image': '/gpfs/data/oermannlab/private_data/DeepPit/PitMRdata/samir_labels/50002-50153/50122/MP-RAGE/2000-01-01_00_00_00.0/S165183/ABIDE_50122_MRI_MP-RAGE_br_raw_20120830213955992_S165183_I329193_corrected_n4.nii',\n",
       "  'label': '/gpfs/data/oermannlab/private_data/DeepPit/PitMRdata/samir_labels/50002-50153/50122/seg.nii'},\n",
       " {'image': '/gpfs/data/oermannlab/private_data/DeepPit/PitMRdata/samir_labels/50373-50453/50434/MP-RAGE/2000-01-01_00_00_00.0/S164325/ABIDE_50434_MRI_MP-RAGE_br_raw_20120830151057793_S164325_I328319_corrected_n4.nii',\n",
       "  'label': '/gpfs/data/oermannlab/private_data/DeepPit/PitMRdata/samir_labels/50373-50453/50434/seg.nii'},\n",
       " {'image': '/gpfs/data/oermannlab/private_data/DeepPit/PitMRdata/samir_labels/50313-50372/50350/MP-RAGE/2000-01-01_00_00_00.0/S165354/ABIDE_50350_MRI_MP-RAGE_br_raw_20120830231034635_S165354_I329364_corrected_n4.nii',\n",
       "  'label': '/gpfs/data/oermannlab/private_data/DeepPit/PitMRdata/samir_labels/50313-50372/50350/seg.nii'},\n",
       " {'image': '/gpfs/data/oermannlab/private_data/DeepPit/PitMRdata/samir_labels/50213-50312/50312/MP-RAGE/2000-01-01_00_00_00.0/S165166/ABIDE_50312_MRI_MP-RAGE_br_raw_20120830213023471_S165166_I329176_corrected_n4.nii',\n",
       "  'label': '/gpfs/data/oermannlab/private_data/DeepPit/PitMRdata/samir_labels/50213-50312/50312/seg.nii'},\n",
       " {'image': '/gpfs/data/oermannlab/private_data/DeepPit/PitMRdata/samir_labels/50002-50153/50104/MP-RAGE/2000-01-01_00_00_00.0/S165199/ABIDE_50104_MRI_MP-RAGE_br_raw_20120830214901476_S165199_I329209_corrected_n4.nii',\n",
       "  'label': '/gpfs/data/oermannlab/private_data/DeepPit/PitMRdata/samir_labels/50002-50153/50104/seg.nii'},\n",
       " {'image': '/gpfs/data/oermannlab/private_data/DeepPit/PitMRdata/samir_labels/50373-50453/50432/MP-RAGE/2000-01-01_00_00_00.0/S165246/ABIDE_50432_MRI_MP-RAGE_br_raw_20120830221233070_S165246_I329256_corrected_n4.nii',\n",
       "  'label': '/gpfs/data/oermannlab/private_data/DeepPit/PitMRdata/samir_labels/50373-50453/50432/seg.nii'},\n",
       " {'image': '/gpfs/data/oermannlab/private_data/DeepPit/PitMRdata/samir_labels/50213-50312/50260/MP-RAGE/2000-01-01_00_00_00.0/S166110/ABIDE_50260_MRI_MP-RAGE_br_raw_20120905094358136_S166110_I330289_corrected_n4.nii',\n",
       "  'label': '/gpfs/data/oermannlab/private_data/DeepPit/PitMRdata/samir_labels/50213-50312/50260/seg.nii'},\n",
       " {'image': '/gpfs/data/oermannlab/private_data/DeepPit/PitMRdata/samir_labels/50213-50312/50311/MP-RAGE/2000-01-01_00_00_00.0/S164505/ABIDE_50311_MRI_MP-RAGE_br_raw_20120830163218550_S164505_I328508_corrected_n4.nii',\n",
       "  'label': '/gpfs/data/oermannlab/private_data/DeepPit/PitMRdata/samir_labels/50213-50312/50311/seg.nii'},\n",
       " {'image': '/gpfs/data/oermannlab/private_data/DeepPit/PitMRdata/samir_labels/50002-50153/50133/MP-RAGE/2000-01-01_00_00_00.0/S165429/ABIDE_50133_MRI_MP-RAGE_br_raw_20120830235329731_S165429_I329439_corrected_n4.nii',\n",
       "  'label': '/gpfs/data/oermannlab/private_data/DeepPit/PitMRdata/samir_labels/50002-50153/50133/seg.nii'},\n",
       " {'image': '/gpfs/data/oermannlab/private_data/DeepPit/PitMRdata/samir_labels/50155-50212/50198/MP-RAGE/2000-01-01_00_00_00.0/S164832/ABIDE_50198_MRI_MP-RAGE_br_raw_20120830184954222_S164832_I328842_corrected_n4.nii',\n",
       "  'label': '/gpfs/data/oermannlab/private_data/DeepPit/PitMRdata/samir_labels/50155-50212/50198/seg.nii'},\n",
       " {'image': '/gpfs/data/oermannlab/private_data/DeepPit/PitMRdata/samir_labels/50155-50212/50206/MP-RAGE/2000-01-01_00_00_00.0/S164415/ABIDE_50206_MRI_MP-RAGE_br_raw_20120830155412802_S164415_I328409_corrected_n4.nii',\n",
       "  'label': '/gpfs/data/oermannlab/private_data/DeepPit/PitMRdata/samir_labels/50155-50212/50206/seg.nii'},\n",
       " {'image': '/gpfs/data/oermannlab/private_data/DeepPit/PitMRdata/samir_labels/50313-50372/50336/MP-RAGE/2000-01-01_00_00_00.0/S164707/ABIDE_50336_MRI_MP-RAGE_br_raw_20120830180417474_S164707_I328717_corrected_n4.nii',\n",
       "  'label': '/gpfs/data/oermannlab/private_data/DeepPit/PitMRdata/samir_labels/50313-50372/50336/seg.nii'},\n",
       " {'image': '/gpfs/data/oermannlab/private_data/DeepPit/PitMRdata/samir_labels/50313-50372/50329/MP-RAGE/2000-01-01_00_00_00.0/S164518/ABIDE_50329_MRI_MP-RAGE_br_raw_20120830163931943_S164518_I328521_corrected_n4.nii',\n",
       "  'label': '/gpfs/data/oermannlab/private_data/DeepPit/PitMRdata/samir_labels/50313-50372/50329/seg.nii'},\n",
       " {'image': '/gpfs/data/oermannlab/private_data/DeepPit/PitMRdata/samir_labels/50002-50153/50006/MP-RAGE/2000-01-01_00_00_00.0/S165414/ABIDE_50006_MRI_MP-RAGE_br_raw_20120830234259859_S165414_I329424_corrected_n4.nii',\n",
       "  'label': '/gpfs/data/oermannlab/private_data/DeepPit/PitMRdata/samir_labels/50002-50153/50006/seg.nii'},\n",
       " {'image': '/gpfs/data/oermannlab/private_data/DeepPit/PitMRdata/samir_labels/50313-50372/50326/MP-RAGE/2000-01-01_00_00_00.0/S164958/ABIDE_50326_MRI_MP-RAGE_br_raw_20120830193632347_S164958_I328968_corrected_n4.nii',\n",
       "  'label': '/gpfs/data/oermannlab/private_data/DeepPit/PitMRdata/samir_labels/50313-50372/50326/seg.nii'},\n",
       " {'image': '/gpfs/data/oermannlab/private_data/DeepPit/PitMRdata/samir_labels/50155-50212/50200/MP-RAGE/2000-01-01_00_00_00.0/S164572/ABIDE_50200_MRI_MP-RAGE_br_raw_20120830170910518_S164572_I328575_corrected_n4.nii',\n",
       "  'label': '/gpfs/data/oermannlab/private_data/DeepPit/PitMRdata/samir_labels/50155-50212/50200/seg.nii'},\n",
       " {'image': '/gpfs/data/oermannlab/private_data/DeepPit/PitMRdata/samir_labels/50002-50153/50058/MP-RAGE/2000-01-01_00_00_00.0/S164376/ABIDE_50058_MRI_MP-RAGE_br_raw_20120830153300958_S164376_I328370_corrected_n4.nii',\n",
       "  'label': '/gpfs/data/oermannlab/private_data/DeepPit/PitMRdata/samir_labels/50002-50153/50058/seg.nii'},\n",
       " {'image': '/gpfs/data/oermannlab/private_data/DeepPit/PitMRdata/samir_labels/50213-50312/50242/MP-RAGE/2000-01-01_00_00_00.0/S166097/ABIDE_50242_MRI_MP-RAGE_br_raw_20120905093536169_S166097_I330276_corrected_n4.nii',\n",
       "  'label': '/gpfs/data/oermannlab/private_data/DeepPit/PitMRdata/samir_labels/50213-50312/50242/seg.nii'},\n",
       " {'image': '/gpfs/data/oermannlab/private_data/DeepPit/PitMRdata/samir_labels/50313-50372/50323/MP-RAGE/2000-01-01_00_00_00.0/S164313/ABIDE_50323_MRI_MP-RAGE_br_raw_20120830150435678_S164313_I328307_corrected_n4.nii',\n",
       "  'label': '/gpfs/data/oermannlab/private_data/DeepPit/PitMRdata/samir_labels/50313-50372/50323/seg.nii'},\n",
       " {'image': '/gpfs/data/oermannlab/private_data/DeepPit/PitMRdata/samir_labels/50002-50153/50131/MP-RAGE/2000-01-01_00_00_00.0/S165067/ABIDE_50131_MRI_MP-RAGE_br_raw_20120830202742952_S165067_I329077_corrected_n4.nii',\n",
       "  'label': '/gpfs/data/oermannlab/private_data/DeepPit/PitMRdata/samir_labels/50002-50153/50131/seg.nii'},\n",
       " {'image': '/gpfs/data/oermannlab/private_data/DeepPit/PitMRdata/samir_labels/50313-50372/50316/MP-RAGE/2000-01-01_00_00_00.0/S164316/ABIDE_50316_MRI_MP-RAGE_br_raw_20120830150611958_S164316_I328310_corrected_n4.nii',\n",
       "  'label': '/gpfs/data/oermannlab/private_data/DeepPit/PitMRdata/samir_labels/50313-50372/50316/seg.nii'},\n",
       " {'image': '/gpfs/data/oermannlab/private_data/DeepPit/PitMRdata/samir_labels/50002-50153/50012/MP-RAGE/2000-01-01_00_00_00.0/S164543/ABIDE_50012_MRI_MP-RAGE_br_raw_20120830165318419_S164543_I328546_corrected_n4.nii',\n",
       "  'label': '/gpfs/data/oermannlab/private_data/DeepPit/PitMRdata/samir_labels/50002-50153/50012/seg.nii'},\n",
       " {'image': '/gpfs/data/oermannlab/private_data/DeepPit/PitMRdata/samir_labels/50313-50372/50330/MP-RAGE/2000-01-01_00_00_00.0/S164429/ABIDE_50330_MRI_MP-RAGE_br_raw_20120830155901424_S164429_I328425_corrected_n4.nii',\n",
       "  'label': '/gpfs/data/oermannlab/private_data/DeepPit/PitMRdata/samir_labels/50313-50372/50330/seg.nii'},\n",
       " {'image': '/gpfs/data/oermannlab/private_data/DeepPit/PitMRdata/samir_labels/50155-50212/50157/MP-RAGE/2000-01-01_00_00_00.0/S165692/ABIDE_50157_MRI_MP-RAGE_br_raw_20120831134225513_S165692_I329738_corrected_n4.nii',\n",
       "  'label': '/gpfs/data/oermannlab/private_data/DeepPit/PitMRdata/samir_labels/50155-50212/50157/seg.nii'},\n",
       " {'image': '/gpfs/data/oermannlab/private_data/DeepPit/PitMRdata/samir_labels/50313-50372/50371/MP-RAGE/2000-01-01_00_00_00.0/S164406/ABIDE_50371_MRI_MP-RAGE_br_raw_20120830154915799_S164406_I328400_corrected_n4.nii',\n",
       "  'label': '/gpfs/data/oermannlab/private_data/DeepPit/PitMRdata/samir_labels/50313-50372/50371/seg.nii'},\n",
       " {'image': '/gpfs/data/oermannlab/private_data/DeepPit/PitMRdata/samir_labels/50373-50453/50388/MP-RAGE/2000-01-01_00_00_00.0/S165450/ABIDE_50388_MRI_MP-RAGE_br_raw_20120831000501745_S165450_I329460_corrected_n4.nii',\n",
       "  'label': '/gpfs/data/oermannlab/private_data/DeepPit/PitMRdata/samir_labels/50373-50453/50388/seg.nii'},\n",
       " {'image': '/gpfs/data/oermannlab/private_data/DeepPit/PitMRdata/samir_labels/50213-50312/50299/MP-RAGE/2000-01-01_00_00_00.0/S165419/ABIDE_50299_MRI_MP-RAGE_br_raw_20120830234540483_S165419_I329429_corrected_n4.nii',\n",
       "  'label': '/gpfs/data/oermannlab/private_data/DeepPit/PitMRdata/samir_labels/50213-50312/50299/seg.nii'},\n",
       " {'image': '/gpfs/data/oermannlab/private_data/DeepPit/PitMRdata/samir_labels/50155-50212/50201/MP-RAGE/2000-01-01_00_00_00.0/S164577/ABIDE_50201_MRI_MP-RAGE_br_raw_20120830171150028_S164577_I328580_corrected_n4.nii',\n",
       "  'label': '/gpfs/data/oermannlab/private_data/DeepPit/PitMRdata/samir_labels/50155-50212/50201/seg.nii'},\n",
       " {'image': '/gpfs/data/oermannlab/private_data/DeepPit/PitMRdata/samir_labels/50373-50453/50435/MP-RAGE/2000-01-01_00_00_00.0/S164516/ABIDE_50435_MRI_MP-RAGE_br_raw_20120830163805210_S164516_I328519_corrected_n4.nii',\n",
       "  'label': '/gpfs/data/oermannlab/private_data/DeepPit/PitMRdata/samir_labels/50373-50453/50435/seg.nii'},\n",
       " {'image': '/gpfs/data/oermannlab/private_data/DeepPit/PitMRdata/samir_labels/50002-50153/50116/MP-RAGE/2000-01-01_00_00_00.0/S164737/ABIDE_50116_MRI_MP-RAGE_br_raw_20120830181527225_S164737_I328747_corrected_n4.nii',\n",
       "  'label': '/gpfs/data/oermannlab/private_data/DeepPit/PitMRdata/samir_labels/50002-50153/50116/seg.nii'},\n",
       " {'image': '/gpfs/data/oermannlab/private_data/DeepPit/PitMRdata/samir_labels/50313-50372/50331/MP-RAGE/2000-01-01_00_00_00.0/S165036/ABIDE_50331_MRI_MP-RAGE_br_raw_20120830201100257_S165036_I329046_corrected_n4.nii',\n",
       "  'label': '/gpfs/data/oermannlab/private_data/DeepPit/PitMRdata/samir_labels/50313-50372/50331/seg.nii'},\n",
       " {'image': '/gpfs/data/oermannlab/private_data/DeepPit/PitMRdata/samir_labels/50313-50372/50346/MP-RAGE/2000-01-01_00_00_00.0/S164460/ABIDE_50346_MRI_MP-RAGE_br_raw_20120830161543362_S164460_I328457_corrected_n4.nii',\n",
       "  'label': '/gpfs/data/oermannlab/private_data/DeepPit/PitMRdata/samir_labels/50313-50372/50346/seg.nii'},\n",
       " {'image': '/gpfs/data/oermannlab/private_data/DeepPit/PitMRdata/samir_labels/50155-50212/50193/MP-RAGE/2000-01-01_00_00_00.0/S164730/ABIDE_50193_MRI_MP-RAGE_br_raw_20120830181246062_S164730_I328740_corrected_n4.nii',\n",
       "  'label': '/gpfs/data/oermannlab/private_data/DeepPit/PitMRdata/samir_labels/50155-50212/50193/seg.nii'},\n",
       " {'image': '/gpfs/data/oermannlab/private_data/DeepPit/PitMRdata/samir_labels/50213-50312/50239/MP-RAGE/2000-01-01_00_00_00.0/S166126/ABIDE_50239_MRI_MP-RAGE_br_raw_20120905095422600_S166126_I330305_corrected_n4.nii',\n",
       "  'label': '/gpfs/data/oermannlab/private_data/DeepPit/PitMRdata/samir_labels/50213-50312/50239/seg.nii'},\n",
       " {'image': '/gpfs/data/oermannlab/private_data/DeepPit/PitMRdata/samir_labels/50213-50312/50271/MP-RAGE/2000-01-01_00_00_00.0/S166160/ABIDE_50271_MRI_MP-RAGE_br_raw_20120905101742498_S166160_I330339_corrected_n4.nii',\n",
       "  'label': '/gpfs/data/oermannlab/private_data/DeepPit/PitMRdata/samir_labels/50213-50312/50271/seg.nii'},\n",
       " {'image': '/gpfs/data/oermannlab/private_data/DeepPit/PitMRdata/samir_labels/50313-50372/50366/MP-RAGE/2000-01-01_00_00_00.0/S164815/ABIDE_50366_MRI_MP-RAGE_br_raw_20120830184352162_S164815_I328825_corrected_n4.nii',\n",
       "  'label': '/gpfs/data/oermannlab/private_data/DeepPit/PitMRdata/samir_labels/50313-50372/50366/seg.nii'},\n",
       " {'image': '/gpfs/data/oermannlab/private_data/DeepPit/PitMRdata/samir_labels/50313-50372/50318/MP-RAGE/2000-01-01_00_00_00.0/S165010/ABIDE_50318_MRI_MP-RAGE_br_raw_20120830195740433_S165010_I329020_corrected_n4.nii',\n",
       "  'label': '/gpfs/data/oermannlab/private_data/DeepPit/PitMRdata/samir_labels/50313-50372/50318/seg.nii'},\n",
       " {'image': '/gpfs/data/oermannlab/private_data/DeepPit/PitMRdata/samir_labels/50373-50453/50425/MP-RAGE/2000-01-01_00_00_00.0/S164299/ABIDE_50425_MRI_MP-RAGE_br_raw_20120830145508278_S164299_I328292_corrected_n4.nii',\n",
       "  'label': '/gpfs/data/oermannlab/private_data/DeepPit/PitMRdata/samir_labels/50373-50453/50425/seg.nii'},\n",
       " {'image': '/gpfs/data/oermannlab/private_data/DeepPit/PitMRdata/samir_labels/50373-50453/50387/MP-RAGE/2000-01-01_00_00_00.0/S164475/ABIDE_50387_MRI_MP-RAGE_br_raw_20120830162029886_S164475_I328475_corrected_n4.nii',\n",
       "  'label': '/gpfs/data/oermannlab/private_data/DeepPit/PitMRdata/samir_labels/50373-50453/50387/seg.nii'},\n",
       " {'image': '/gpfs/data/oermannlab/private_data/DeepPit/PitMRdata/samir_labels/50313-50372/50357/MP-RAGE/2000-01-01_00_00_00.0/S165299/ABIDE_50357_MRI_MP-RAGE_br_raw_20120830224119613_S165299_I329309_corrected_n4.nii',\n",
       "  'label': '/gpfs/data/oermannlab/private_data/DeepPit/PitMRdata/samir_labels/50313-50372/50357/seg.nii'},\n",
       " {'image': '/gpfs/data/oermannlab/private_data/DeepPit/PitMRdata/samir_labels/50213-50312/50245/MP-RAGE/2000-01-01_00_00_00.0/S166099/ABIDE_50245_MRI_MP-RAGE_br_raw_20120905093655434_S166099_I330278_corrected_n4.nii',\n",
       "  'label': '/gpfs/data/oermannlab/private_data/DeepPit/PitMRdata/samir_labels/50213-50312/50245/seg.nii'},\n",
       " {'image': '/gpfs/data/oermannlab/private_data/DeepPit/PitMRdata/samir_labels/50002-50153/50120/MP-RAGE/2000-01-01_00_00_00.0/S164679/ABIDE_50120_MRI_MP-RAGE_br_raw_20120830175423410_S164679_I328689_corrected_n4.nii',\n",
       "  'label': '/gpfs/data/oermannlab/private_data/DeepPit/PitMRdata/samir_labels/50002-50153/50120/seg.nii'},\n",
       " {'image': '/gpfs/data/oermannlab/private_data/DeepPit/PitMRdata/samir_labels/50155-50212/50190/MP-RAGE/2000-01-01_00_00_00.0/S165172/ABIDE_50190_MRI_MP-RAGE_br_raw_20120830213356334_S165172_I329182_corrected_n4.nii',\n",
       "  'label': '/gpfs/data/oermannlab/private_data/DeepPit/PitMRdata/samir_labels/50155-50212/50190/seg.nii'},\n",
       " {'image': '/gpfs/data/oermannlab/private_data/DeepPit/PitMRdata/samir_labels/50213-50312/50234/MP-RAGE/2000-01-01_00_00_00.0/S166151/ABIDE_50234_MRI_MP-RAGE_br_raw_20120905101144335_S166151_I330330_corrected_n4.nii',\n",
       "  'label': '/gpfs/data/oermannlab/private_data/DeepPit/PitMRdata/samir_labels/50213-50312/50234/seg.nii'},\n",
       " {'image': '/gpfs/data/oermannlab/private_data/DeepPit/PitMRdata/samir_labels/50213-50312/50244/MP-RAGE/2000-01-01_00_00_00.0/S166133/ABIDE_50244_MRI_MP-RAGE_br_raw_20120905095853334_S166133_I330312_corrected_n4.nii',\n",
       "  'label': '/gpfs/data/oermannlab/private_data/DeepPit/PitMRdata/samir_labels/50213-50312/50244/seg.nii'},\n",
       " {'image': '/gpfs/data/oermannlab/private_data/DeepPit/PitMRdata/samir_labels/50155-50212/50203/MP-RAGE/2000-01-01_00_00_00.0/S164845/ABIDE_50203_MRI_MP-RAGE_br_raw_20120830185442225_S164845_I328855_corrected_n4.nii',\n",
       "  'label': '/gpfs/data/oermannlab/private_data/DeepPit/PitMRdata/samir_labels/50155-50212/50203/seg.nii'},\n",
       " {'image': '/gpfs/data/oermannlab/private_data/DeepPit/PitMRdata/samir_labels/50373-50453/50422/MP-RAGE/2000-01-01_00_00_00.0/S165152/ABIDE_50422_MRI_MP-RAGE_br_raw_20120830211933083_S165152_I329162_corrected_n4.nii',\n",
       "  'label': '/gpfs/data/oermannlab/private_data/DeepPit/PitMRdata/samir_labels/50373-50453/50422/seg.nii'},\n",
       " {'image': '/gpfs/data/oermannlab/private_data/DeepPit/PitMRdata/samir_labels/50373-50453/50426/MP-RAGE/2000-01-01_00_00_00.0/S165006/ABIDE_50426_MRI_MP-RAGE_br_raw_20120830195537479_S165006_I329016_corrected_n4.nii',\n",
       "  'label': '/gpfs/data/oermannlab/private_data/DeepPit/PitMRdata/samir_labels/50373-50453/50426/seg.nii'},\n",
       " {'image': '/gpfs/data/oermannlab/private_data/DeepPit/PitMRdata/samir_labels/50213-50312/50241/MP-RAGE/2000-01-01_00_00_00.0/S166094/ABIDE_50241_MRI_MP-RAGE_br_raw_20120905093335293_S166094_I330273_corrected_n4.nii',\n",
       "  'label': '/gpfs/data/oermannlab/private_data/DeepPit/PitMRdata/samir_labels/50213-50312/50241/seg.nii'},\n",
       " {'image': '/gpfs/data/oermannlab/private_data/DeepPit/PitMRdata/samir_labels/50313-50372/50351/MP-RAGE/2000-01-01_00_00_00.0/S165334/ABIDE_50351_MRI_MP-RAGE_br_raw_20120830225931149_S165334_I329344_corrected_n4.nii',\n",
       "  'label': '/gpfs/data/oermannlab/private_data/DeepPit/PitMRdata/samir_labels/50313-50372/50351/seg.nii'},\n",
       " {'image': '/gpfs/data/oermannlab/private_data/DeepPit/PitMRdata/samir_labels/50002-50153/50013/MP-RAGE/2000-01-01_00_00_00.0/S165376/ABIDE_50013_MRI_MP-RAGE_br_raw_20120830232151169_S165376_I329386_corrected_n4.nii',\n",
       "  'label': '/gpfs/data/oermannlab/private_data/DeepPit/PitMRdata/samir_labels/50002-50153/50013/seg.nii'},\n",
       " {'image': '/gpfs/data/oermannlab/private_data/DeepPit/PitMRdata/samir_labels/50313-50372/50319/MP-RAGE/2000-01-01_00_00_00.0/S165115/ABIDE_50319_MRI_MP-RAGE_br_raw_20120830205248493_S165115_I329125_corrected_n4.nii',\n",
       "  'label': '/gpfs/data/oermannlab/private_data/DeepPit/PitMRdata/samir_labels/50313-50372/50319/seg.nii'},\n",
       " {'image': '/gpfs/data/oermannlab/private_data/DeepPit/PitMRdata/samir_labels/50002-50153/50118/MP-RAGE/2000-01-01_00_00_00.0/S165163/ABIDE_50118_MRI_MP-RAGE_br_raw_20120830212852006_S165163_I329173_corrected_n4.nii',\n",
       "  'label': '/gpfs/data/oermannlab/private_data/DeepPit/PitMRdata/samir_labels/50002-50153/50118/seg.nii'},\n",
       " {'image': '/gpfs/data/oermannlab/private_data/DeepPit/PitMRdata/samir_labels/50213-50312/50310/MP-RAGE/2000-01-01_00_00_00.0/S164315/ABIDE_50310_MRI_MP-RAGE_br_raw_20120830150541026_S164315_I328309_corrected_n4.nii',\n",
       "  'label': '/gpfs/data/oermannlab/private_data/DeepPit/PitMRdata/samir_labels/50213-50312/50310/seg.nii'},\n",
       " {'image': '/gpfs/data/oermannlab/private_data/DeepPit/PitMRdata/samir_labels/50002-50153/50027/MP-RAGE/2000-01-01_00_00_00.0/S164491/ABIDE_50027_MRI_MP-RAGE_br_raw_20120830162905698_S164491_I328491_corrected_n4.nii',\n",
       "  'label': '/gpfs/data/oermannlab/private_data/DeepPit/PitMRdata/samir_labels/50002-50153/50027/seg.nii'},\n",
       " {'image': '/gpfs/data/oermannlab/private_data/DeepPit/PitMRdata/samir_labels/50213-50312/50246/MP-RAGE/2000-01-01_00_00_00.0/S166107/ABIDE_50246_MRI_MP-RAGE_br_raw_20120905094204756_S166107_I330286_corrected_n4.nii',\n",
       "  'label': '/gpfs/data/oermannlab/private_data/DeepPit/PitMRdata/samir_labels/50213-50312/50246/seg.nii'},\n",
       " {'image': '/gpfs/data/oermannlab/private_data/DeepPit/PitMRdata/samir_labels/50313-50372/50321/MP-RAGE/2000-01-01_00_00_00.0/S164362/ABIDE_50321_MRI_MP-RAGE_br_raw_20120830152532037_S164362_I328356_corrected_n4.nii',\n",
       "  'label': '/gpfs/data/oermannlab/private_data/DeepPit/PitMRdata/samir_labels/50313-50372/50321/seg.nii'},\n",
       " {'image': '/gpfs/data/oermannlab/private_data/DeepPit/PitMRdata/samir_labels/50313-50372/50313/MP-RAGE/2000-01-01_00_00_00.0/S165386/ABIDE_50313_MRI_MP-RAGE_br_raw_20120830232658589_S165386_I329396_corrected_n4.nii',\n",
       "  'label': '/gpfs/data/oermannlab/private_data/DeepPit/PitMRdata/samir_labels/50313-50372/50313/seg.nii'},\n",
       " {'image': '/gpfs/data/oermannlab/private_data/DeepPit/PitMRdata/samir_labels/50002-50153/50055/MP-RAGE/2000-01-01_00_00_00.0/S165229/ABIDE_50055_MRI_MP-RAGE_br_raw_20120830220404875_S165229_I329239_corrected_n4.nii',\n",
       "  'label': '/gpfs/data/oermannlab/private_data/DeepPit/PitMRdata/samir_labels/50002-50153/50055/seg.nii'},\n",
       " {'image': '/gpfs/data/oermannlab/private_data/DeepPit/PitMRdata/samir_labels/50213-50312/50307/MP-RAGE/2000-01-01_00_00_00.0/S165136/ABIDE_50307_MRI_MP-RAGE_br_raw_20120830210457022_S165136_I329146_corrected_n4.nii',\n",
       "  'label': '/gpfs/data/oermannlab/private_data/DeepPit/PitMRdata/samir_labels/50213-50312/50307/seg.nii'},\n",
       " {'image': '/gpfs/data/oermannlab/private_data/DeepPit/PitMRdata/samir_labels/50313-50372/50363/MP-RAGE/2000-01-01_00_00_00.0/S164935/ABIDE_50363_MRI_MP-RAGE_br_raw_20120830192725504_S164935_I328945_corrected_n4.nii',\n",
       "  'label': '/gpfs/data/oermannlab/private_data/DeepPit/PitMRdata/samir_labels/50313-50372/50363/seg.nii'},\n",
       " {'image': '/gpfs/data/oermannlab/private_data/DeepPit/PitMRdata/samir_labels/50002-50153/50041/MP-RAGE/2000-01-01_00_00_00.0/S164886/ABIDE_50041_MRI_MP-RAGE_br_raw_20120830191005493_S164886_I328896_corrected_n4.nii',\n",
       "  'label': '/gpfs/data/oermannlab/private_data/DeepPit/PitMRdata/samir_labels/50002-50153/50041/seg.nii'},\n",
       " {'image': '/gpfs/data/oermannlab/private_data/DeepPit/PitMRdata/samir_labels/50002-50153/50152/MP-RAGE/2000-01-01_00_00_00.0/S165695/ABIDE_50152_MRI_MP-RAGE_br_raw_20120831134646488_S165695_I329741_corrected_n4.nii',\n",
       "  'label': '/gpfs/data/oermannlab/private_data/DeepPit/PitMRdata/samir_labels/50002-50153/50152/seg.nii'},\n",
       " {'image': '/gpfs/data/oermannlab/private_data/DeepPit/PitMRdata/samir_labels/50313-50372/50340/MP-RAGE/2000-01-01_00_00_00.0/S164724/ABIDE_50340_MRI_MP-RAGE_br_raw_20120830181039929_S164724_I328734_corrected_n4.nii',\n",
       "  'label': '/gpfs/data/oermannlab/private_data/DeepPit/PitMRdata/samir_labels/50313-50372/50340/seg.nii'},\n",
       " {'image': '/gpfs/data/oermannlab/private_data/DeepPit/PitMRdata/samir_labels/50002-50153/50028/MP-RAGE/2000-01-01_00_00_00.0/S164628/ABIDE_50028_MRI_MP-RAGE_br_raw_20120830173136239_S164628_I328636_corrected_n4.nii',\n",
       "  'label': '/gpfs/data/oermannlab/private_data/DeepPit/PitMRdata/samir_labels/50002-50153/50028/seg.nii'},\n",
       " {'image': '/gpfs/data/oermannlab/private_data/DeepPit/PitMRdata/samir_labels/50373-50453/50374/MP-RAGE/2000-01-01_00_00_00.0/S165373/ABIDE_50374_MRI_MP-RAGE_br_raw_20120830232043691_S165373_I329383_corrected_n4.nii',\n",
       "  'label': '/gpfs/data/oermannlab/private_data/DeepPit/PitMRdata/samir_labels/50373-50453/50374/seg.nii'},\n",
       " {'image': '/gpfs/data/oermannlab/private_data/DeepPit/PitMRdata/samir_labels/50313-50372/50369/MP-RAGE/2000-01-01_00_00_00.0/S164604/ABIDE_50369_MRI_MP-RAGE_br_raw_20120830172201195_S164604_I328611_corrected_n4.nii',\n",
       "  'label': '/gpfs/data/oermannlab/private_data/DeepPit/PitMRdata/samir_labels/50313-50372/50369/seg.nii'},\n",
       " {'image': '/gpfs/data/oermannlab/private_data/DeepPit/PitMRdata/samir_labels/50313-50372/50354/MP-RAGE/2000-01-01_00_00_00.0/S164381/ABIDE_50354_MRI_MP-RAGE_br_raw_20120830153517890_S164381_I328375_corrected_n4.nii',\n",
       "  'label': '/gpfs/data/oermannlab/private_data/DeepPit/PitMRdata/samir_labels/50313-50372/50354/seg.nii'},\n",
       " {'image': '/gpfs/data/oermannlab/private_data/DeepPit/PitMRdata/samir_labels/50213-50312/50265/MP-RAGE/2000-01-01_00_00_00.0/S166108/ABIDE_50265_MRI_MP-RAGE_br_raw_20120905094241165_S166108_I330287_corrected_n4.nii',\n",
       "  'label': '/gpfs/data/oermannlab/private_data/DeepPit/PitMRdata/samir_labels/50213-50312/50265/seg.nii'},\n",
       " {'image': '/gpfs/data/oermannlab/private_data/DeepPit/PitMRdata/samir_labels/50373-50453/50380/MP-RAGE/2000-01-01_00_00_00.0/S164930/ABIDE_50380_MRI_MP-RAGE_br_raw_20120830192521425_S164930_I328940_corrected_n4.nii',\n",
       "  'label': '/gpfs/data/oermannlab/private_data/DeepPit/PitMRdata/samir_labels/50373-50453/50380/seg.nii'},\n",
       " {'image': '/gpfs/data/oermannlab/private_data/DeepPit/PitMRdata/samir_labels/50313-50372/50324/MP-RAGE/2000-01-01_00_00_00.0/S164879/ABIDE_50324_MRI_MP-RAGE_br_raw_20120830190722803_S164879_I328889_corrected_n4.nii',\n",
       "  'label': '/gpfs/data/oermannlab/private_data/DeepPit/PitMRdata/samir_labels/50313-50372/50324/seg.nii'},\n",
       " {'image': '/gpfs/data/oermannlab/private_data/DeepPit/PitMRdata/samir_labels/50313-50372/50349/MP-RAGE/2000-01-01_00_00_00.0/S164882/ABIDE_50349_MRI_MP-RAGE_br_raw_20120830190824833_S164882_I328892_corrected_n4.nii',\n",
       "  'label': '/gpfs/data/oermannlab/private_data/DeepPit/PitMRdata/samir_labels/50313-50372/50349/seg.nii'},\n",
       " {'image': '/gpfs/data/oermannlab/private_data/DeepPit/PitMRdata/samir_labels/50213-50312/50235/MP-RAGE/2000-01-01_00_00_00.0/S166116/ABIDE_50235_MRI_MP-RAGE_br_raw_20120905094759889_S166116_I330295_corrected_n4.nii',\n",
       "  'label': '/gpfs/data/oermannlab/private_data/DeepPit/PitMRdata/samir_labels/50213-50312/50235/seg.nii'},\n",
       " {'image': '/gpfs/data/oermannlab/private_data/DeepPit/PitMRdata/samir_labels/50002-50153/50057/MP-RAGE/2000-01-01_00_00_00.0/S164909/ABIDE_50057_MRI_MP-RAGE_br_raw_20120830191809681_S164909_I328919_corrected_n4.nii',\n",
       "  'label': '/gpfs/data/oermannlab/private_data/DeepPit/PitMRdata/samir_labels/50002-50153/50057/seg.nii'},\n",
       " {'image': '/gpfs/data/oermannlab/private_data/DeepPit/PitMRdata/samir_labels/50213-50312/50300/MP-RAGE/2000-01-01_00_00_00.0/S164411/ABIDE_50300_MRI_MP-RAGE_br_raw_20120830155206585_S164411_I328405_corrected_n4.nii',\n",
       "  'label': '/gpfs/data/oermannlab/private_data/DeepPit/PitMRdata/samir_labels/50213-50312/50300/seg.nii'},\n",
       " {'image': '/gpfs/data/oermannlab/private_data/DeepPit/PitMRdata/samir_labels/50313-50372/50362/MP-RAGE/2000-01-01_00_00_00.0/S164546/ABIDE_50362_MRI_MP-RAGE_br_raw_20120830165454570_S164546_I328549_corrected_n4.nii',\n",
       "  'label': '/gpfs/data/oermannlab/private_data/DeepPit/PitMRdata/samir_labels/50313-50372/50362/seg.nii'},\n",
       " {'image': '/gpfs/data/oermannlab/private_data/DeepPit/PitMRdata/samir_labels/50002-50153/50022/MP-RAGE/2000-01-01_00_00_00.0/S165213/ABIDE_50022_MRI_MP-RAGE_br_raw_20120830215642610_S165213_I329223_corrected_n4.nii',\n",
       "  'label': '/gpfs/data/oermannlab/private_data/DeepPit/PitMRdata/samir_labels/50002-50153/50022/seg.nii'},\n",
       " {'image': '/gpfs/data/oermannlab/private_data/DeepPit/PitMRdata/samir_labels/50373-50453/50386/MP-RAGE/2000-01-01_00_00_00.0/S164960/ABIDE_50386_MRI_MP-RAGE_br_raw_20120830193703019_S164960_I328970_corrected_n4.nii',\n",
       "  'label': '/gpfs/data/oermannlab/private_data/DeepPit/PitMRdata/samir_labels/50373-50453/50386/seg.nii'},\n",
       " {'image': '/gpfs/data/oermannlab/private_data/DeepPit/PitMRdata/samir_labels/50002-50153/50126/MP-RAGE/2000-01-01_00_00_00.0/S164835/ABIDE_50126_MRI_MP-RAGE_br_raw_20120830185058536_S164835_I328845_corrected_n4.nii',\n",
       "  'label': '/gpfs/data/oermannlab/private_data/DeepPit/PitMRdata/samir_labels/50002-50153/50126/seg.nii'},\n",
       " {'image': '/gpfs/data/oermannlab/private_data/DeepPit/PitMRdata/samir_labels/50213-50312/50298/MP-RAGE/2000-01-01_00_00_00.0/S164785/ABIDE_50298_MRI_MP-RAGE_br_raw_20120830183248237_S164785_I328795_corrected_n4.nii',\n",
       "  'label': '/gpfs/data/oermannlab/private_data/DeepPit/PitMRdata/samir_labels/50213-50312/50298/seg.nii'},\n",
       " {'image': '/gpfs/data/oermannlab/private_data/DeepPit/PitMRdata/samir_labels/50002-50153/50108/MP-RAGE/2000-01-01_00_00_00.0/S164587/ABIDE_50108_MRI_MP-RAGE_br_raw_20120830171608030_S164587_I328592_corrected_n4.nii',\n",
       "  'label': '/gpfs/data/oermannlab/private_data/DeepPit/PitMRdata/samir_labels/50002-50153/50108/seg.nii'},\n",
       " {'image': '/gpfs/data/oermannlab/private_data/DeepPit/PitMRdata/samir_labels/50213-50312/50236/MP-RAGE/2000-01-01_00_00_00.0/S166140/ABIDE_50236_MRI_MP-RAGE_br_raw_20120905100331979_S166140_I330319_corrected_n4.nii',\n",
       "  'label': '/gpfs/data/oermannlab/private_data/DeepPit/PitMRdata/samir_labels/50213-50312/50236/seg.nii'},\n",
       " {'image': '/gpfs/data/oermannlab/private_data/DeepPit/PitMRdata/samir_labels/50313-50372/50335/MP-RAGE/2000-01-01_00_00_00.0/S164987/ABIDE_50335_MRI_MP-RAGE_br_raw_20120830194729688_S164987_I328997_corrected_n4.nii',\n",
       "  'label': '/gpfs/data/oermannlab/private_data/DeepPit/PitMRdata/samir_labels/50313-50372/50335/seg.nii'},\n",
       " {'image': '/gpfs/data/oermannlab/private_data/DeepPit/PitMRdata/samir_labels/50313-50372/50328/MP-RAGE/2000-01-01_00_00_00.0/S165267/ABIDE_50328_MRI_MP-RAGE_br_raw_20120830222357310_S165267_I329277_corrected_n4.nii',\n",
       "  'label': '/gpfs/data/oermannlab/private_data/DeepPit/PitMRdata/samir_labels/50313-50372/50328/seg.nii'},\n",
       " {'image': '/gpfs/data/oermannlab/private_data/DeepPit/PitMRdata/samir_labels/50373-50453/50381/MP-RAGE/2000-01-01_00_00_00.0/S164403/ABIDE_50381_MRI_MP-RAGE_br_raw_20120830154729702_S164403_I328397_corrected_n4.nii',\n",
       "  'label': '/gpfs/data/oermannlab/private_data/DeepPit/PitMRdata/samir_labels/50373-50453/50381/seg.nii'},\n",
       " {'image': '/gpfs/data/oermannlab/private_data/DeepPit/PitMRdata/samir_labels/50373-50453/50447/MP-RAGE/2000-01-01_00_00_00.0/S165261/ABIDE_50447_MRI_MP-RAGE_br_raw_20120830222030982_S165261_I329271_corrected_n4.nii',\n",
       "  'label': '/gpfs/data/oermannlab/private_data/DeepPit/PitMRdata/samir_labels/50373-50453/50447/seg.nii'},\n",
       " {'image': '/gpfs/data/oermannlab/private_data/DeepPit/PitMRdata/samir_labels/50155-50212/50164/MP-RAGE/2000-01-01_00_00_00.0/S165632/ABIDE_50164_MRI_MP-RAGE_br_raw_20120831123146452_S165632_I329676_corrected_n4.nii',\n",
       "  'label': '/gpfs/data/oermannlab/private_data/DeepPit/PitMRdata/samir_labels/50155-50212/50164/seg.nii'},\n",
       " {'image': '/gpfs/data/oermannlab/private_data/DeepPit/PitMRdata/samir_labels/50155-50212/50170/MP-RAGE/2000-01-01_00_00_00.0/S165668/ABIDE_50170_MRI_MP-RAGE_br_raw_20120831131427238_S165668_I329714_corrected_n4.nii',\n",
       "  'label': '/gpfs/data/oermannlab/private_data/DeepPit/PitMRdata/samir_labels/50155-50212/50170/seg.nii'},\n",
       " {'image': '/gpfs/data/oermannlab/private_data/DeepPit/PitMRdata/samir_labels/50002-50153/50115/MP-RAGE/2000-01-01_00_00_00.0/S165054/ABIDE_50115_MRI_MP-RAGE_br_raw_20120830202046210_S165054_I329064_corrected_n4.nii',\n",
       "  'label': '/gpfs/data/oermannlab/private_data/DeepPit/PitMRdata/samir_labels/50002-50153/50115/seg.nii'},\n",
       " {'image': '/gpfs/data/oermannlab/private_data/DeepPit/PitMRdata/samir_labels/50373-50453/50450/MP-RAGE/2000-01-01_00_00_00.0/S164980/ABIDE_50450_MRI_MP-RAGE_br_raw_20120830194441464_S164980_I328990_corrected_n4.nii',\n",
       "  'label': '/gpfs/data/oermannlab/private_data/DeepPit/PitMRdata/samir_labels/50373-50453/50450/seg.nii'},\n",
       " {'image': '/gpfs/data/oermannlab/private_data/DeepPit/PitMRdata/samir_labels/50373-50453/50448/MP-RAGE/2000-01-01_00_00_00.0/S165051/ABIDE_50448_MRI_MP-RAGE_br_raw_20120830201859787_S165051_I329061_corrected_n4.nii',\n",
       "  'label': '/gpfs/data/oermannlab/private_data/DeepPit/PitMRdata/samir_labels/50373-50453/50448/seg.nii'},\n",
       " {'image': '/gpfs/data/oermannlab/private_data/DeepPit/PitMRdata/samir_labels/50313-50372/50355/MP-RAGE/2000-01-01_00_00_00.0/S164918/ABIDE_50355_MRI_MP-RAGE_br_raw_20120830192044297_S164918_I328928_corrected_n4.nii',\n",
       "  'label': '/gpfs/data/oermannlab/private_data/DeepPit/PitMRdata/samir_labels/50313-50372/50355/seg.nii'},\n",
       " {'image': '/gpfs/data/oermannlab/private_data/DeepPit/PitMRdata/samir_labels/50155-50212/50197/MP-RAGE/2000-01-01_00_00_00.0/S165318/ABIDE_50197_MRI_MP-RAGE_br_raw_20120830225131603_S165318_I329328_corrected_n4.nii',\n",
       "  'label': '/gpfs/data/oermannlab/private_data/DeepPit/PitMRdata/samir_labels/50155-50212/50197/seg.nii'},\n",
       " {'image': '/gpfs/data/oermannlab/private_data/DeepPit/PitMRdata/samir_labels/50213-50312/50243/MP-RAGE/2000-01-01_00_00_00.0/S166152/ABIDE_50243_MRI_MP-RAGE_br_raw_20120905101223234_S166152_I330331_corrected_n4.nii',\n",
       "  'label': '/gpfs/data/oermannlab/private_data/DeepPit/PitMRdata/samir_labels/50213-50312/50243/seg.nii'},\n",
       " {'image': '/gpfs/data/oermannlab/private_data/DeepPit/PitMRdata/samir_labels/50373-50453/50407/MP-RAGE/2000-01-01_00_00_00.0/S164294/ABIDE_50407_MRI_MP-RAGE_br_raw_20120830145226972_S164294_I328287_corrected_n4.nii',\n",
       "  'label': '/gpfs/data/oermannlab/private_data/DeepPit/PitMRdata/samir_labels/50373-50453/50407/seg.nii'},\n",
       " {'image': '/gpfs/data/oermannlab/private_data/DeepPit/PitMRdata/samir_labels/50155-50212/50166/MP-RAGE/2000-01-01_00_00_00.0/S165667/ABIDE_50166_MRI_MP-RAGE_br_raw_20120831131309137_S165667_I329713_corrected_n4.nii',\n",
       "  'label': '/gpfs/data/oermannlab/private_data/DeepPit/PitMRdata/samir_labels/50155-50212/50166/seg.nii'},\n",
       " {'image': '/gpfs/data/oermannlab/private_data/DeepPit/PitMRdata/samir_labels/50155-50212/50167/MP-RAGE/2000-01-01_00_00_00.0/S165708/ABIDE_50167_MRI_MP-RAGE_br_raw_20120831140522566_S165708_I329754_corrected_n4.nii',\n",
       "  'label': '/gpfs/data/oermannlab/private_data/DeepPit/PitMRdata/samir_labels/50155-50212/50167/seg.nii'},\n",
       " {'image': '/gpfs/data/oermannlab/private_data/DeepPit/PitMRdata/samir_labels/50313-50372/50339/MP-RAGE/2000-01-01_00_00_00.0/S165279/ABIDE_50339_MRI_MP-RAGE_br_raw_20120830223012265_S165279_I329289_corrected_n4.nii',\n",
       "  'label': '/gpfs/data/oermannlab/private_data/DeepPit/PitMRdata/samir_labels/50313-50372/50339/seg.nii'},\n",
       " {'image': '/gpfs/data/oermannlab/private_data/DeepPit/PitMRdata/samir_labels/50373-50453/50446/MP-RAGE/2000-01-01_00_00_00.0/S165420/ABIDE_50446_MRI_MP-RAGE_br_raw_20120830234610989_S165420_I329430_corrected_n4.nii',\n",
       "  'label': '/gpfs/data/oermannlab/private_data/DeepPit/PitMRdata/samir_labels/50373-50453/50446/seg.nii'},\n",
       " {'image': '/gpfs/data/oermannlab/private_data/DeepPit/PitMRdata/samir_labels/50002-50153/50036/MP-RAGE/2000-01-01_00_00_00.0/S164374/ABIDE_50036_MRI_MP-RAGE_br_raw_20120830153154821_S164374_I328368_corrected_n4.nii',\n",
       "  'label': '/gpfs/data/oermannlab/private_data/DeepPit/PitMRdata/samir_labels/50002-50153/50036/seg.nii'},\n",
       " {'image': '/gpfs/data/oermannlab/private_data/DeepPit/PitMRdata/samir_labels/50155-50212/50182/MP-RAGE/2000-01-01_00_00_00.0/S164570/ABIDE_50182_MRI_MP-RAGE_br_raw_20120830170756014_S164570_I328573_corrected_n4.nii',\n",
       "  'label': '/gpfs/data/oermannlab/private_data/DeepPit/PitMRdata/samir_labels/50155-50212/50182/seg.nii'},\n",
       " {'image': '/gpfs/data/oermannlab/private_data/DeepPit/PitMRdata/samir_labels/50002-50153/50010/MP-RAGE/2000-01-01_00_00_00.0/S165040/ABIDE_50010_MRI_MP-RAGE_br_raw_20120830201303812_S165040_I329050_corrected_n4.nii',\n",
       "  'label': '/gpfs/data/oermannlab/private_data/DeepPit/PitMRdata/samir_labels/50002-50153/50010/seg.nii'},\n",
       " {'image': '/gpfs/data/oermannlab/private_data/DeepPit/PitMRdata/samir_labels/50313-50372/50320/MP-RAGE/2000-01-01_00_00_00.0/S164764/ABIDE_50320_MRI_MP-RAGE_br_raw_20120830182503369_S164764_I328774_corrected_n4.nii',\n",
       "  'label': '/gpfs/data/oermannlab/private_data/DeepPit/PitMRdata/samir_labels/50313-50372/50320/seg.nii'},\n",
       " {'image': '/gpfs/data/oermannlab/private_data/DeepPit/PitMRdata/samir_labels/50213-50312/50247/MP-RAGE/2000-01-01_00_00_00.0/S166138/ABIDE_50247_MRI_MP-RAGE_br_raw_20120905100150865_S166138_I330317_corrected_n4.nii',\n",
       "  'label': '/gpfs/data/oermannlab/private_data/DeepPit/PitMRdata/samir_labels/50213-50312/50247/seg.nii'},\n",
       " {'image': '/gpfs/data/oermannlab/private_data/DeepPit/PitMRdata/samir_labels/50002-50153/50147/MP-RAGE/2000-01-01_00_00_00.0/S165724/ABIDE_50147_MRI_MP-RAGE_br_raw_20120831142833687_S165724_I329770_corrected_n4.nii',\n",
       "  'label': '/gpfs/data/oermannlab/private_data/DeepPit/PitMRdata/samir_labels/50002-50153/50147/seg.nii'},\n",
       " {'image': '/gpfs/data/oermannlab/private_data/DeepPit/PitMRdata/samir_labels/50373-50453/50405/MP-RAGE/2000-01-01_00_00_00.0/S164788/ABIDE_50405_MRI_MP-RAGE_br_raw_20120830183350015_S164788_I328798_corrected_n4.nii',\n",
       "  'label': '/gpfs/data/oermannlab/private_data/DeepPit/PitMRdata/samir_labels/50373-50453/50405/seg.nii'},\n",
       " {'image': '/gpfs/data/oermannlab/private_data/DeepPit/PitMRdata/samir_labels/50213-50312/50248/MP-RAGE/2000-01-01_00_00_00.0/S166103/ABIDE_50248_MRI_MP-RAGE_br_raw_20120905093930666_S166103_I330282_corrected_n4.nii',\n",
       "  'label': '/gpfs/data/oermannlab/private_data/DeepPit/PitMRdata/samir_labels/50213-50312/50248/seg.nii'},\n",
       " {'image': '/gpfs/data/oermannlab/private_data/DeepPit/PitMRdata/samir_labels/50213-50312/50255/MP-RAGE/2000-01-01_00_00_00.0/S166147/ABIDE_50255_MRI_MP-RAGE_br_raw_20120905100907145_S166147_I330326_corrected_n4.nii',\n",
       "  'label': '/gpfs/data/oermannlab/private_data/DeepPit/PitMRdata/samir_labels/50213-50312/50255/seg.nii'},\n",
       " {'image': '/gpfs/data/oermannlab/private_data/DeepPit/PitMRdata/samir_labels/50002-50153/50110/MP-RAGE/2000-01-01_00_00_00.0/S165398/ABIDE_50110_MRI_MP-RAGE_br_raw_20120830233415615_S165398_I329408_corrected_n4.nii',\n",
       "  'label': '/gpfs/data/oermannlab/private_data/DeepPit/PitMRdata/samir_labels/50002-50153/50110/seg.nii'},\n",
       " {'image': '/gpfs/data/oermannlab/private_data/DeepPit/PitMRdata/samir_labels/50155-50212/50195/MP-RAGE/2000-01-01_00_00_00.0/S164734/ABIDE_50195_MRI_MP-RAGE_br_raw_20120830181423530_S164734_I328744_corrected_n4.nii',\n",
       "  'label': '/gpfs/data/oermannlab/private_data/DeepPit/PitMRdata/samir_labels/50155-50212/50195/seg.nii'},\n",
       " {'image': '/gpfs/data/oermannlab/private_data/DeepPit/PitMRdata/samir_labels/50213-50312/50249/MP-RAGE/2000-01-01_00_00_00.0/S166118/ABIDE_50249_MRI_MP-RAGE_br_raw_20120905094916234_S166118_I330297_corrected_n4.nii',\n",
       "  'label': '/gpfs/data/oermannlab/private_data/DeepPit/PitMRdata/samir_labels/50213-50312/50249/seg.nii'},\n",
       " {'image': '/gpfs/data/oermannlab/private_data/DeepPit/PitMRdata/samir_labels/50002-50153/50032/MP-RAGE/2000-01-01_00_00_00.0/S164792/ABIDE_50032_MRI_MP-RAGE_br_raw_20120830183522276_S164792_I328802_corrected_n4.nii',\n",
       "  'label': '/gpfs/data/oermannlab/private_data/DeepPit/PitMRdata/samir_labels/50002-50153/50032/seg.nii'},\n",
       " {'image': '/gpfs/data/oermannlab/private_data/DeepPit/PitMRdata/samir_labels/50155-50212/50207/MP-RAGE/2000-01-01_00_00_00.0/S165281/ABIDE_50207_MRI_MP-RAGE_br_raw_20120830223113166_S165281_I329291_corrected_n4.nii',\n",
       "  'label': '/gpfs/data/oermannlab/private_data/DeepPit/PitMRdata/samir_labels/50155-50212/50207/seg.nii'},\n",
       " {'image': '/gpfs/data/oermannlab/private_data/DeepPit/PitMRdata/samir_labels/50002-50153/50114/MP-RAGE/2000-01-01_00_00_00.0/S164994/ABIDE_50114_MRI_MP-RAGE_br_raw_20120830195008438_S164994_I329004_corrected_n4.nii',\n",
       "  'label': '/gpfs/data/oermannlab/private_data/DeepPit/PitMRdata/samir_labels/50002-50153/50114/seg.nii'},\n",
       " {'image': '/gpfs/data/oermannlab/private_data/DeepPit/PitMRdata/samir_labels/50373-50453/50439/MP-RAGE/2000-01-01_00_00_00.0/S164354/ABIDE_50439_MRI_MP-RAGE_br_raw_20120830152121741_S164354_I328348_corrected_n4.nii',\n",
       "  'label': '/gpfs/data/oermannlab/private_data/DeepPit/PitMRdata/samir_labels/50373-50453/50439/seg.nii'},\n",
       " {'image': '/gpfs/data/oermannlab/private_data/DeepPit/PitMRdata/samir_labels/50213-50312/50216/MP-RAGE/2000-01-01_00_00_00.0/S164450/ABIDE_50216_MRI_MP-RAGE_br_raw_20120830161005486_S164450_I328447_corrected_n4.nii',\n",
       "  'label': '/gpfs/data/oermannlab/private_data/DeepPit/PitMRdata/samir_labels/50213-50312/50216/seg.nii'},\n",
       " {'image': '/gpfs/data/oermannlab/private_data/DeepPit/PitMRdata/samir_labels/50213-50312/50301/MP-RAGE/2000-01-01_00_00_00.0/S165392/ABIDE_50301_MRI_MP-RAGE_br_raw_20120830233045814_S165392_I329402_corrected_n4.nii',\n",
       "  'label': '/gpfs/data/oermannlab/private_data/DeepPit/PitMRdata/samir_labels/50213-50312/50301/seg.nii'},\n",
       " {'image': '/gpfs/data/oermannlab/private_data/DeepPit/PitMRdata/samir_labels/50002-50153/50059/MP-RAGE/2000-01-01_00_00_00.0/S165311/ABIDE_50059_MRI_MP-RAGE_br_raw_20120830224817372_S165311_I329321_corrected_n4.nii',\n",
       "  'label': '/gpfs/data/oermannlab/private_data/DeepPit/PitMRdata/samir_labels/50002-50153/50059/seg.nii'},\n",
       " {'image': '/gpfs/data/oermannlab/private_data/DeepPit/PitMRdata/samir_labels/50373-50453/50377/MP-RAGE/2000-01-01_00_00_00.0/S164612/ABIDE_50377_MRI_MP-RAGE_br_raw_20120830172337000_S164612_I328620_corrected_n4.nii',\n",
       "  'label': '/gpfs/data/oermannlab/private_data/DeepPit/PitMRdata/samir_labels/50373-50453/50377/seg.nii'},\n",
       " {'image': '/gpfs/data/oermannlab/private_data/DeepPit/PitMRdata/samir_labels/50002-50153/50007/MP-RAGE/2000-01-01_00_00_00.0/S165121/ABIDE_50007_MRI_MP-RAGE_br_raw_20120830205554190_S165121_I329131_corrected_n4.nii',\n",
       "  'label': '/gpfs/data/oermannlab/private_data/DeepPit/PitMRdata/samir_labels/50002-50153/50007/seg.nii'},\n",
       " {'image': '/gpfs/data/oermannlab/private_data/DeepPit/PitMRdata/samir_labels/50313-50372/50344/MP-RAGE/2000-01-01_00_00_00.0/S165226/ABIDE_50344_MRI_MP-RAGE_br_raw_20120830220259928_S165226_I329236_corrected_n4.nii',\n",
       "  'label': '/gpfs/data/oermannlab/private_data/DeepPit/PitMRdata/samir_labels/50313-50372/50344/seg.nii'},\n",
       " {'image': '/gpfs/data/oermannlab/private_data/DeepPit/PitMRdata/samir_labels/50002-50153/50029/MP-RAGE/2000-01-01_00_00_00.0/S165134/ABIDE_50029_MRI_MP-RAGE_br_raw_20120830210254625_S165134_I329144_corrected_n4.nii',\n",
       "  'label': '/gpfs/data/oermannlab/private_data/DeepPit/PitMRdata/samir_labels/50002-50153/50029/seg.nii'},\n",
       " {'image': '/gpfs/data/oermannlab/private_data/DeepPit/PitMRdata/samir_labels/50002-50153/50014/MP-RAGE/2000-01-01_00_00_00.0/S164678/ABIDE_50014_MRI_MP-RAGE_br_raw_20120830175350038_S164678_I328688_corrected_n4.nii',\n",
       "  'label': '/gpfs/data/oermannlab/private_data/DeepPit/PitMRdata/samir_labels/50002-50153/50014/seg.nii'},\n",
       " {'image': '/gpfs/data/oermannlab/private_data/DeepPit/PitMRdata/samir_labels/50213-50312/50303/MP-RAGE/2000-01-01_00_00_00.0/S165280/ABIDE_50303_MRI_MP-RAGE_br_raw_20120830223042581_S165280_I329290_corrected_n4.nii',\n",
       "  'label': '/gpfs/data/oermannlab/private_data/DeepPit/PitMRdata/samir_labels/50213-50312/50303/seg.nii'},\n",
       " {'image': '/gpfs/data/oermannlab/private_data/DeepPit/PitMRdata/samir_labels/50313-50372/50356/MP-RAGE/2000-01-01_00_00_00.0/S164625/ABIDE_50356_MRI_MP-RAGE_br_raw_20120830173000462_S164625_I328633_corrected_n4.nii',\n",
       "  'label': '/gpfs/data/oermannlab/private_data/DeepPit/PitMRdata/samir_labels/50313-50372/50356/seg.nii'},\n",
       " {'image': '/gpfs/data/oermannlab/private_data/DeepPit/PitMRdata/samir_labels/50373-50453/50408/MP-RAGE/2000-01-01_00_00_00.0/S164557/ABIDE_50408_MRI_MP-RAGE_br_raw_20120830170054364_S164557_I328560_corrected_n4.nii',\n",
       "  'label': '/gpfs/data/oermannlab/private_data/DeepPit/PitMRdata/samir_labels/50373-50453/50408/seg.nii'},\n",
       " {'image': '/gpfs/data/oermannlab/private_data/DeepPit/PitMRdata/samir_labels/50373-50453/50415/MP-RAGE/2000-01-01_00_00_00.0/S165233/ABIDE_50415_MRI_MP-RAGE_br_raw_20120830220606611_S165233_I329243_corrected_n4.nii',\n",
       "  'label': '/gpfs/data/oermannlab/private_data/DeepPit/PitMRdata/samir_labels/50373-50453/50415/seg.nii'},\n",
       " {'image': '/gpfs/data/oermannlab/private_data/DeepPit/PitMRdata/samir_labels/50373-50453/50402/MP-RAGE/2000-01-01_00_00_00.0/S164538/ABIDE_50402_MRI_MP-RAGE_br_raw_20120830165030010_S164538_I328541_corrected_n4.nii',\n",
       "  'label': '/gpfs/data/oermannlab/private_data/DeepPit/PitMRdata/samir_labels/50373-50453/50402/seg.nii'},\n",
       " {'image': '/gpfs/data/oermannlab/private_data/DeepPit/PitMRdata/samir_labels/50213-50312/50240/MP-RAGE/2000-01-01_00_00_00.0/S166123/ABIDE_50240_MRI_MP-RAGE_br_raw_20120905095229406_S166123_I330302_corrected_n4.nii',\n",
       "  'label': '/gpfs/data/oermannlab/private_data/DeepPit/PitMRdata/samir_labels/50213-50312/50240/seg.nii'},\n",
       " {'image': '/gpfs/data/oermannlab/private_data/DeepPit/PitMRdata/samir_labels/50213-50312/50263/MP-RAGE/2000-01-01_00_00_00.0/S166098/ABIDE_50263_MRI_MP-RAGE_br_raw_20120905093615880_S166098_I330277_corrected_n4.nii',\n",
       "  'label': '/gpfs/data/oermannlab/private_data/DeepPit/PitMRdata/samir_labels/50213-50312/50263/seg.nii'},\n",
       " {'image': '/gpfs/data/oermannlab/private_data/DeepPit/PitMRdata/samir_labels/50155-50212/50199/MP-RAGE/2000-01-01_00_00_00.0/S164836/ABIDE_50199_MRI_MP-RAGE_br_raw_20120830185130309_S164836_I328846_corrected_n4.nii',\n",
       "  'label': '/gpfs/data/oermannlab/private_data/DeepPit/PitMRdata/samir_labels/50155-50212/50199/seg.nii'},\n",
       " {'image': '/gpfs/data/oermannlab/private_data/DeepPit/PitMRdata/samir_labels/50373-50453/50373/MP-RAGE/2000-01-01_00_00_00.0/S164703/ABIDE_50373_MRI_MP-RAGE_br_raw_20120830180309469_S164703_I328713_corrected_n4.nii',\n",
       "  'label': '/gpfs/data/oermannlab/private_data/DeepPit/PitMRdata/samir_labels/50373-50453/50373/seg.nii'},\n",
       " {'image': '/gpfs/data/oermannlab/private_data/DeepPit/PitMRdata/samir_labels/50155-50212/50169/MP-RAGE/2000-01-01_00_00_00.0/S165727/ABIDE_50169_MRI_MP-RAGE_br_raw_20120831143241228_S165727_I329773_corrected_n4.nii',\n",
       "  'label': '/gpfs/data/oermannlab/private_data/DeepPit/PitMRdata/samir_labels/50155-50212/50169/seg.nii'},\n",
       " {'image': '/gpfs/data/oermannlab/private_data/DeepPit/PitMRdata/samir_labels/50213-50312/50305/MP-RAGE/2000-01-01_00_00_00.0/S164708/ABIDE_50305_MRI_MP-RAGE_br_raw_20120830180447667_S164708_I328718_corrected_n4.nii',\n",
       "  'label': '/gpfs/data/oermannlab/private_data/DeepPit/PitMRdata/samir_labels/50213-50312/50305/seg.nii'},\n",
       " {'image': '/gpfs/data/oermannlab/private_data/DeepPit/PitMRdata/samir_labels/50002-50153/50136/MP-RAGE/2000-01-01_00_00_00.0/S165053/ABIDE_50136_MRI_MP-RAGE_br_raw_20120830202014457_S165053_I329063_corrected_n4.nii',\n",
       "  'label': '/gpfs/data/oermannlab/private_data/DeepPit/PitMRdata/samir_labels/50002-50153/50136/seg.nii'},\n",
       " {'image': '/gpfs/data/oermannlab/private_data/DeepPit/PitMRdata/samir_labels/50002-50153/50005/MP-RAGE/2000-01-01_00_00_00.0/S165234/ABIDE_50005_MRI_MP-RAGE_br_raw_20120830220635982_S165234_I329244_corrected_n4.nii',\n",
       "  'label': '/gpfs/data/oermannlab/private_data/DeepPit/PitMRdata/samir_labels/50002-50153/50005/seg.nii'},\n",
       " {'image': '/gpfs/data/oermannlab/private_data/DeepPit/PitMRdata/samir_labels/50373-50453/50412/MP-RAGE/2000-01-01_00_00_00.0/S164292/ABIDE_50412_MRI_MP-RAGE_br_raw_20120830145148127_S164292_I328285_corrected_n4.nii',\n",
       "  'label': '/gpfs/data/oermannlab/private_data/DeepPit/PitMRdata/samir_labels/50373-50453/50412/seg.nii'},\n",
       " {'image': '/gpfs/data/oermannlab/private_data/DeepPit/PitMRdata/samir_labels/50002-50153/50137/MP-RAGE/2000-01-01_00_00_00.0/S165214/ABIDE_50137_MRI_MP-RAGE_br_raw_20120830215716627_S165214_I329224_corrected_n4.nii',\n",
       "  'label': '/gpfs/data/oermannlab/private_data/DeepPit/PitMRdata/samir_labels/50002-50153/50137/seg.nii'},\n",
       " {'image': '/gpfs/data/oermannlab/private_data/DeepPit/PitMRdata/samir_labels/50373-50453/50423/MP-RAGE/2000-01-01_00_00_00.0/S164630/ABIDE_50423_MRI_MP-RAGE_br_raw_20120830173241532_S164630_I328638_corrected_n4.nii',\n",
       "  'label': '/gpfs/data/oermannlab/private_data/DeepPit/PitMRdata/samir_labels/50373-50453/50423/seg.nii'},\n",
       " {'image': '/gpfs/data/oermannlab/private_data/DeepPit/PitMRdata/samir_labels/50373-50453/50433/MP-RAGE/2000-01-01_00_00_00.0/S165170/ABIDE_50433_MRI_MP-RAGE_br_raw_20120830213241835_S165170_I329180_corrected_n4.nii',\n",
       "  'label': '/gpfs/data/oermannlab/private_data/DeepPit/PitMRdata/samir_labels/50373-50453/50433/seg.nii'},\n",
       " {'image': '/gpfs/data/oermannlab/private_data/DeepPit/PitMRdata/samir_labels/50313-50372/50370/MP-RAGE/2000-01-01_00_00_00.0/S165305/ABIDE_50370_MRI_MP-RAGE_br_raw_20120830224441324_S165305_I329315_corrected_n4.nii',\n",
       "  'label': '/gpfs/data/oermannlab/private_data/DeepPit/PitMRdata/samir_labels/50313-50372/50370/seg.nii'},\n",
       " {'image': '/gpfs/data/oermannlab/private_data/DeepPit/PitMRdata/samir_labels/50002-50153/50112/MP-RAGE/2000-01-01_00_00_00.0/S165175/ABIDE_50112_MRI_MP-RAGE_br_raw_20120830213514669_S165175_I329185_corrected_n4.nii',\n",
       "  'label': '/gpfs/data/oermannlab/private_data/DeepPit/PitMRdata/samir_labels/50002-50153/50112/seg.nii'},\n",
       " {'image': '/gpfs/data/oermannlab/private_data/DeepPit/PitMRdata/samir_labels/50155-50212/50209/MP-RAGE/2000-01-01_00_00_00.0/S165423/ABIDE_50209_MRI_MP-RAGE_br_raw_20120830234817530_S165423_I329433_corrected_n4.nii',\n",
       "  'label': '/gpfs/data/oermannlab/private_data/DeepPit/PitMRdata/samir_labels/50155-50212/50209/seg.nii'},\n",
       " {'image': '/gpfs/data/oermannlab/private_data/DeepPit/PitMRdata/samir_labels/50373-50453/50376/MP-RAGE/2000-01-01_00_00_00.0/S164725/ABIDE_50376_MRI_MP-RAGE_br_raw_20120830181110058_S164725_I328735_corrected_n4.nii',\n",
       "  'label': '/gpfs/data/oermannlab/private_data/DeepPit/PitMRdata/samir_labels/50373-50453/50376/seg.nii'},\n",
       " {'image': '/gpfs/data/oermannlab/private_data/DeepPit/PitMRdata/samir_labels/50155-50212/50205/MP-RAGE/2000-01-01_00_00_00.0/S164865/ABIDE_50205_MRI_MP-RAGE_br_raw_20120830190202796_S164865_I328875_corrected_n4.nii',\n",
       "  'label': '/gpfs/data/oermannlab/private_data/DeepPit/PitMRdata/samir_labels/50155-50212/50205/seg.nii'},\n",
       " {'image': '/gpfs/data/oermannlab/private_data/DeepPit/PitMRdata/samir_labels/50002-50153/50051/MP-RAGE/2000-01-01_00_00_00.0/S164869/ABIDE_50051_MRI_MP-RAGE_br_raw_20120830190314145_S164869_I328879_corrected_n4.nii',\n",
       "  'label': '/gpfs/data/oermannlab/private_data/DeepPit/PitMRdata/samir_labels/50002-50153/50051/seg.nii'},\n",
       " {'image': '/gpfs/data/oermannlab/private_data/DeepPit/PitMRdata/samir_labels/50213-50312/50251/MP-RAGE/2000-01-01_00_00_00.0/S166128/ABIDE_50251_MRI_MP-RAGE_br_raw_20120905095538922_S166128_I330307_corrected_n4.nii',\n",
       "  'label': '/gpfs/data/oermannlab/private_data/DeepPit/PitMRdata/samir_labels/50213-50312/50251/seg.nii'},\n",
       " {'image': '/gpfs/data/oermannlab/private_data/DeepPit/PitMRdata/samir_labels/50155-50212/50163/MP-RAGE/2000-01-01_00_00_00.0/S165639/ABIDE_50163_MRI_MP-RAGE_br_raw_20120831124209994_S165639_I329683_corrected_n4.nii',\n",
       "  'label': '/gpfs/data/oermannlab/private_data/DeepPit/PitMRdata/samir_labels/50155-50212/50163/seg.nii'},\n",
       " {'image': '/gpfs/data/oermannlab/private_data/DeepPit/PitMRdata/samir_labels/50213-50312/50254/MP-RAGE/2000-01-01_00_00_00.0/S166142/ABIDE_50254_MRI_MP-RAGE_br_raw_20120905100601798_S166142_I330321_corrected_n4.nii',\n",
       "  'label': '/gpfs/data/oermannlab/private_data/DeepPit/PitMRdata/samir_labels/50213-50312/50254/seg.nii'},\n",
       " {'image': '/gpfs/data/oermannlab/private_data/DeepPit/PitMRdata/samir_labels/50373-50453/50451/MP-RAGE/2000-01-01_00_00_00.0/S165326/ABIDE_50451_MRI_MP-RAGE_br_raw_20120830225558342_S165326_I329336_corrected_n4.nii',\n",
       "  'label': '/gpfs/data/oermannlab/private_data/DeepPit/PitMRdata/samir_labels/50373-50453/50451/seg.nii'},\n",
       " {'image': '/gpfs/data/oermannlab/private_data/DeepPit/PitMRdata/samir_labels/50313-50372/50334/MP-RAGE/2000-01-01_00_00_00.0/S164320/ABIDE_50334_MRI_MP-RAGE_br_raw_20120830150815612_S164320_I328314_corrected_n4.nii',\n",
       "  'label': '/gpfs/data/oermannlab/private_data/DeepPit/PitMRdata/samir_labels/50313-50372/50334/seg.nii'},\n",
       " {'image': '/gpfs/data/oermannlab/private_data/DeepPit/PitMRdata/samir_labels/50002-50153/50039/MP-RAGE/2000-01-01_00_00_00.0/S164961/ABIDE_50039_MRI_MP-RAGE_br_raw_20120830193734944_S164961_I328971_corrected_n4.nii',\n",
       "  'label': '/gpfs/data/oermannlab/private_data/DeepPit/PitMRdata/samir_labels/50002-50153/50039/seg.nii'},\n",
       " {'image': '/gpfs/data/oermannlab/private_data/DeepPit/PitMRdata/samir_labels/50373-50453/50413/MP-RAGE/2000-01-01_00_00_00.0/S165158/ABIDE_50413_MRI_MP-RAGE_br_raw_20120830212522435_S165158_I329168_corrected_n4.nii',\n",
       "  'label': '/gpfs/data/oermannlab/private_data/DeepPit/PitMRdata/samir_labels/50373-50453/50413/seg.nii'},\n",
       " {'image': '/gpfs/data/oermannlab/private_data/DeepPit/PitMRdata/samir_labels/50155-50212/50165/MP-RAGE/2000-01-01_00_00_00.0/S165631/ABIDE_50165_MRI_MP-RAGE_br_raw_20120831123027927_S165631_I329675_corrected_n4.nii',\n",
       "  'label': '/gpfs/data/oermannlab/private_data/DeepPit/PitMRdata/samir_labels/50155-50212/50165/seg.nii'},\n",
       " {'image': '/gpfs/data/oermannlab/private_data/DeepPit/PitMRdata/samir_labels/50155-50212/50204/MP-RAGE/2000-01-01_00_00_00.0/S164377/ABIDE_50204_MRI_MP-RAGE_br_raw_20120830153334668_S164377_I328371_corrected_n4.nii',\n",
       "  'label': '/gpfs/data/oermannlab/private_data/DeepPit/PitMRdata/samir_labels/50155-50212/50204/seg.nii'},\n",
       " {'image': '/gpfs/data/oermannlab/private_data/DeepPit/PitMRdata/samir_labels/50313-50372/50337/MP-RAGE/2000-01-01_00_00_00.0/S164573/ABIDE_50337_MRI_MP-RAGE_br_raw_20120830170942924_S164573_I328576_corrected_n4.nii',\n",
       "  'label': '/gpfs/data/oermannlab/private_data/DeepPit/PitMRdata/samir_labels/50313-50372/50337/seg.nii'},\n",
       " {'image': '/gpfs/data/oermannlab/private_data/DeepPit/PitMRdata/samir_labels/50002-50153/50025/MP-RAGE/2000-01-01_00_00_00.0/S164984/ABIDE_50025_MRI_MP-RAGE_br_raw_20120830194626035_S164984_I328994_corrected_n4.nii',\n",
       "  'label': '/gpfs/data/oermannlab/private_data/DeepPit/PitMRdata/samir_labels/50002-50153/50025/seg.nii'},\n",
       " {'image': '/gpfs/data/oermannlab/private_data/DeepPit/PitMRdata/samir_labels/50002-50153/50117/MP-RAGE/2000-01-01_00_00_00.0/S164344/ABIDE_50117_MRI_MP-RAGE_br_raw_20120830151934672_S164344_I328338_corrected_n4.nii',\n",
       "  'label': '/gpfs/data/oermannlab/private_data/DeepPit/PitMRdata/samir_labels/50002-50153/50117/seg.nii'},\n",
       " {'image': '/gpfs/data/oermannlab/private_data/DeepPit/PitMRdata/samir_labels/50002-50153/50026/MP-RAGE/2000-01-01_00_00_00.0/S164701/ABIDE_50026_MRI_MP-RAGE_br_raw_20120830180235999_S164701_I328711_corrected_n4.nii',\n",
       "  'label': '/gpfs/data/oermannlab/private_data/DeepPit/PitMRdata/samir_labels/50002-50153/50026/seg.nii'},\n",
       " {'image': '/gpfs/data/oermannlab/private_data/DeepPit/PitMRdata/samir_labels/50373-50453/50445/MP-RAGE/2000-01-01_00_00_00.0/S165227/ABIDE_50445_MRI_MP-RAGE_br_raw_20120830220250063_S165227_I329237_corrected_n4.nii',\n",
       "  'label': '/gpfs/data/oermannlab/private_data/DeepPit/PitMRdata/samir_labels/50373-50453/50445/seg.nii'},\n",
       " {'image': '/gpfs/data/oermannlab/private_data/DeepPit/PitMRdata/samir_labels/50313-50372/50317/MP-RAGE/2000-01-01_00_00_00.0/S165101/ABIDE_50317_MRI_MP-RAGE_br_raw_20120830204520973_S165101_I329111_corrected_n4.nii',\n",
       "  'label': '/gpfs/data/oermannlab/private_data/DeepPit/PitMRdata/samir_labels/50313-50372/50317/seg.nii'},\n",
       " {'image': '/gpfs/data/oermannlab/private_data/DeepPit/PitMRdata/samir_labels/50373-50453/50453/MP-RAGE/2000-01-01_00_00_00.0/S164810/ABIDE_50453_MRI_MP-RAGE_br_raw_20120830184201048_S164810_I328820_corrected_n4.nii',\n",
       "  'label': '/gpfs/data/oermannlab/private_data/DeepPit/PitMRdata/samir_labels/50373-50453/50453/seg.nii'},\n",
       " {'image': '/gpfs/data/oermannlab/private_data/DeepPit/PitMRdata/samir_labels/50155-50212/50155/MP-RAGE/2000-01-01_00_00_00.0/S165721/ABIDE_50155_MRI_MP-RAGE_br_raw_20120831142426433_S165721_I329767_corrected_n4.nii',\n",
       "  'label': '/gpfs/data/oermannlab/private_data/DeepPit/PitMRdata/samir_labels/50155-50212/50155/seg.nii'},\n",
       " {'image': '/gpfs/data/oermannlab/private_data/DeepPit/PitMRdata/samir_labels/50002-50153/50047/MP-RAGE/2000-01-01_00_00_00.0/S164609/ABIDE_50047_MRI_MP-RAGE_br_raw_20120830172232126_S164609_I328616_corrected_n4.nii',\n",
       "  'label': '/gpfs/data/oermannlab/private_data/DeepPit/PitMRdata/samir_labels/50002-50153/50047/seg.nii'},\n",
       " {'image': '/gpfs/data/oermannlab/private_data/DeepPit/PitMRdata/samir_labels/50002-50153/50015/MP-RAGE/2000-01-01_00_00_00.0/S165074/ABIDE_50015_MRI_MP-RAGE_br_raw_20120830203134394_S165074_I329084_corrected_n4.nii',\n",
       "  'label': '/gpfs/data/oermannlab/private_data/DeepPit/PitMRdata/samir_labels/50002-50153/50015/seg.nii'},\n",
       " {'image': '/gpfs/data/oermannlab/private_data/DeepPit/PitMRdata/samir_labels/50313-50372/50368/MP-RAGE/2000-01-01_00_00_00.0/S164848/ABIDE_50368_MRI_MP-RAGE_br_raw_20120830185546225_S164848_I328858_corrected_n4.nii',\n",
       "  'label': '/gpfs/data/oermannlab/private_data/DeepPit/PitMRdata/samir_labels/50313-50372/50368/seg.nii'},\n",
       " {'image': '/gpfs/data/oermannlab/private_data/DeepPit/PitMRdata/samir_labels/50373-50453/50424/MP-RAGE/2000-01-01_00_00_00.0/S164719/ABIDE_50424_MRI_MP-RAGE_br_raw_20120830180905122_S164719_I328729_corrected_n4.nii',\n",
       "  'label': '/gpfs/data/oermannlab/private_data/DeepPit/PitMRdata/samir_labels/50373-50453/50424/seg.nii'},\n",
       " {'image': '/gpfs/data/oermannlab/private_data/DeepPit/PitMRdata/samir_labels/50002-50153/50113/MP-RAGE/2000-01-01_00_00_00.0/S164639/ABIDE_50113_MRI_MP-RAGE_br_raw_20120830173552901_S164639_I328649_corrected_n4.nii',\n",
       "  'label': '/gpfs/data/oermannlab/private_data/DeepPit/PitMRdata/samir_labels/50002-50153/50113/seg.nii'},\n",
       " {'image': '/gpfs/data/oermannlab/private_data/DeepPit/PitMRdata/samir_labels/50002-50153/50106/MP-RAGE/2000-01-01_00_00_00.0/S165204/ABIDE_50106_MRI_MP-RAGE_br_raw_20120830215147324_S165204_I329214_corrected_n4.nii',\n",
       "  'label': '/gpfs/data/oermannlab/private_data/DeepPit/PitMRdata/samir_labels/50002-50153/50106/seg.nii'},\n",
       " {'image': '/gpfs/data/oermannlab/private_data/DeepPit/PitMRdata/samir_labels/50155-50212/50162/MP-RAGE/2000-01-01_00_00_00.0/S165674/ABIDE_50162_MRI_MP-RAGE_br_raw_20120831132317159_S165674_I329720_corrected_n4.nii',\n",
       "  'label': '/gpfs/data/oermannlab/private_data/DeepPit/PitMRdata/samir_labels/50155-50212/50162/seg.nii'},\n",
       " {'image': '/gpfs/data/oermannlab/private_data/DeepPit/PitMRdata/samir_labels/50213-50312/50267/MP-RAGE/2000-01-01_00_00_00.0/S166144/ABIDE_50267_MRI_MP-RAGE_br_raw_20120905100713711_S166144_I330323_corrected_n4.nii',\n",
       "  'label': '/gpfs/data/oermannlab/private_data/DeepPit/PitMRdata/samir_labels/50213-50312/50267/seg.nii'},\n",
       " {'image': '/gpfs/data/oermannlab/private_data/DeepPit/PitMRdata/samir_labels/50155-50212/50189/MP-RAGE/2000-01-01_00_00_00.0/S165202/ABIDE_50189_MRI_MP-RAGE_br_raw_20120830215035795_S165202_I329212_corrected_n4.nii',\n",
       "  'label': '/gpfs/data/oermannlab/private_data/DeepPit/PitMRdata/samir_labels/50155-50212/50189/seg.nii'},\n",
       " {'image': '/gpfs/data/oermannlab/private_data/DeepPit/PitMRdata/samir_labels/50213-50312/50214/MP-RAGE/2000-01-01_00_00_00.0/S164324/ABIDE_50214_MRI_MP-RAGE_br_raw_20120830151025442_S164324_I328318_corrected_n4.nii',\n",
       "  'label': '/gpfs/data/oermannlab/private_data/DeepPit/PitMRdata/samir_labels/50213-50312/50214/seg.nii'},\n",
       " {'image': '/gpfs/data/oermannlab/private_data/DeepPit/PitMRdata/samir_labels/50002-50153/50149/MP-RAGE/2000-01-01_00_00_00.0/S165707/ABIDE_50149_MRI_MP-RAGE_br_raw_20120831140403702_S165707_I329753_corrected_n4.nii',\n",
       "  'label': '/gpfs/data/oermannlab/private_data/DeepPit/PitMRdata/samir_labels/50002-50153/50149/seg.nii'},\n",
       " {'image': '/gpfs/data/oermannlab/private_data/DeepPit/PitMRdata/samir_labels/50002-50153/50016/MP-RAGE/2000-01-01_00_00_00.0/S164714/ABIDE_50016_MRI_MP-RAGE_br_raw_20120830180655328_S164714_I328724_corrected_n4.nii',\n",
       "  'label': '/gpfs/data/oermannlab/private_data/DeepPit/PitMRdata/samir_labels/50002-50153/50016/seg.nii'},\n",
       " {'image': '/gpfs/data/oermannlab/private_data/DeepPit/PitMRdata/samir_labels/50373-50453/50428/MP-RAGE/2000-01-01_00_00_00.0/S165230/ABIDE_50428_MRI_MP-RAGE_br_raw_20120830220410202_S165230_I329240_corrected_n4.nii',\n",
       "  'label': '/gpfs/data/oermannlab/private_data/DeepPit/PitMRdata/samir_labels/50373-50453/50428/seg.nii'},\n",
       " {'image': '/gpfs/data/oermannlab/private_data/DeepPit/PitMRdata/samir_labels/50002-50153/50123/MP-RAGE/2000-01-01_00_00_00.0/S164773/ABIDE_50123_MRI_MP-RAGE_br_raw_20120830182745594_S164773_I328783_corrected_n4.nii',\n",
       "  'label': '/gpfs/data/oermannlab/private_data/DeepPit/PitMRdata/samir_labels/50002-50153/50123/seg.nii'},\n",
       " {'image': '/gpfs/data/oermannlab/private_data/DeepPit/PitMRdata/samir_labels/50213-50312/50270/MP-RAGE/2000-01-01_00_00_00.0/S166127/ABIDE_50270_MRI_MP-RAGE_br_raw_20120905095459271_S166127_I330306_corrected_n4.nii',\n",
       "  'label': '/gpfs/data/oermannlab/private_data/DeepPit/PitMRdata/samir_labels/50213-50312/50270/seg.nii'},\n",
       " {'image': '/gpfs/data/oermannlab/private_data/DeepPit/PitMRdata/samir_labels/50002-50153/50045/MP-RAGE/2000-01-01_00_00_00.0/S164394/ABIDE_50045_MRI_MP-RAGE_br_raw_20120830154225550_S164394_I328388_corrected_n4.nii',\n",
       "  'label': '/gpfs/data/oermannlab/private_data/DeepPit/PitMRdata/samir_labels/50002-50153/50045/seg.nii'},\n",
       " {'image': '/gpfs/data/oermannlab/private_data/DeepPit/PitMRdata/samir_labels/50373-50453/50406/MP-RAGE/2000-01-01_00_00_00.0/S164885/ABIDE_50406_MRI_MP-RAGE_br_raw_20120830190936945_S164885_I328895_corrected_n4.nii',\n",
       "  'label': '/gpfs/data/oermannlab/private_data/DeepPit/PitMRdata/samir_labels/50373-50453/50406/seg.nii'},\n",
       " {'image': '/gpfs/data/oermannlab/private_data/DeepPit/PitMRdata/samir_labels/50213-50312/50217/MP-RAGE/2000-01-01_00_00_00.0/S164529/ABIDE_50217_MRI_MP-RAGE_br_raw_20120830164533542_S164529_I328532_corrected_n4.nii',\n",
       "  'label': '/gpfs/data/oermannlab/private_data/DeepPit/PitMRdata/samir_labels/50213-50312/50217/seg.nii'},\n",
       " {'image': '/gpfs/data/oermannlab/private_data/DeepPit/PitMRdata/samir_labels/50002-50153/50023/MP-RAGE/2000-01-01_00_00_00.0/S164314/ABIDE_50023_MRI_MP-RAGE_br_raw_20120830150507036_S164314_I328308_corrected_n4.nii',\n",
       "  'label': '/gpfs/data/oermannlab/private_data/DeepPit/PitMRdata/samir_labels/50002-50153/50023/seg.nii'},\n",
       " {'image': '/gpfs/data/oermannlab/private_data/DeepPit/PitMRdata/samir_labels/50002-50153/50043/MP-RAGE/2000-01-01_00_00_00.0/S164575/ABIDE_50043_MRI_MP-RAGE_br_raw_20120830171044925_S164575_I328578_corrected_n4.nii',\n",
       "  'label': '/gpfs/data/oermannlab/private_data/DeepPit/PitMRdata/samir_labels/50002-50153/50043/seg.nii'},\n",
       " {'image': '/gpfs/data/oermannlab/private_data/DeepPit/PitMRdata/samir_labels/50155-50212/50161/MP-RAGE/2000-01-01_00_00_00.0/S165725/ABIDE_50161_MRI_MP-RAGE_br_raw_20120831142952046_S165725_I329771_corrected_n4.nii',\n",
       "  'label': '/gpfs/data/oermannlab/private_data/DeepPit/PitMRdata/samir_labels/50155-50212/50161/seg.nii'},\n",
       " {'image': '/gpfs/data/oermannlab/private_data/DeepPit/PitMRdata/samir_labels/50002-50153/50038/MP-RAGE/2000-01-01_00_00_00.0/S165186/ABIDE_50038_MRI_MP-RAGE_br_raw_20120830214133080_S165186_I329196_corrected_n4.nii',\n",
       "  'label': '/gpfs/data/oermannlab/private_data/DeepPit/PitMRdata/samir_labels/50002-50153/50038/seg.nii'},\n",
       " {'image': '/gpfs/data/oermannlab/private_data/DeepPit/PitMRdata/samir_labels/50313-50372/50332/MP-RAGE/2000-01-01_00_00_00.0/S164523/ABIDE_50332_MRI_MP-RAGE_br_raw_20120830164222139_S164523_I328526_corrected_n4.nii',\n",
       "  'label': '/gpfs/data/oermannlab/private_data/DeepPit/PitMRdata/samir_labels/50313-50372/50332/seg.nii'},\n",
       " {'image': '/gpfs/data/oermannlab/private_data/DeepPit/PitMRdata/samir_labels/50213-50312/50302/MP-RAGE/2000-01-01_00_00_00.0/S164981/ABIDE_50302_MRI_MP-RAGE_br_raw_20120830194523756_S164981_I328991_corrected_n4.nii',\n",
       "  'label': '/gpfs/data/oermannlab/private_data/DeepPit/PitMRdata/samir_labels/50213-50312/50302/seg.nii'},\n",
       " {'image': '/gpfs/data/oermannlab/private_data/DeepPit/PitMRdata/samir_labels/50313-50372/50314/MP-RAGE/2000-01-01_00_00_00.0/S164907/ABIDE_50314_MRI_MP-RAGE_br_raw_20120830191705968_S164907_I328917_corrected_n4.nii',\n",
       "  'label': '/gpfs/data/oermannlab/private_data/DeepPit/PitMRdata/samir_labels/50313-50372/50314/seg.nii'},\n",
       " {'image': '/gpfs/data/oermannlab/private_data/DeepPit/PitMRdata/samir_labels/50155-50212/50184/MP-RAGE/2000-01-01_00_00_00.0/S165064/ABIDE_50184_MRI_MP-RAGE_br_raw_20120830202608233_S165064_I329074_corrected_n4.nii',\n",
       "  'label': '/gpfs/data/oermannlab/private_data/DeepPit/PitMRdata/samir_labels/50155-50212/50184/seg.nii'},\n",
       " {'image': '/gpfs/data/oermannlab/private_data/DeepPit/PitMRdata/samir_labels/50002-50153/50024/MP-RAGE/2000-01-01_00_00_00.0/S164655/ABIDE_50024_MRI_MP-RAGE_br_raw_20120830174439877_S164655_I328665_corrected_n4.nii',\n",
       "  'label': '/gpfs/data/oermannlab/private_data/DeepPit/PitMRdata/samir_labels/50002-50153/50024/seg.nii'},\n",
       " {'image': '/gpfs/data/oermannlab/private_data/DeepPit/PitMRdata/samir_labels/50313-50372/50347/MP-RAGE/2000-01-01_00_00_00.0/S164844/ABIDE_50347_MRI_MP-RAGE_br_raw_20120830185411851_S164844_I328854_corrected_n4.nii',\n",
       "  'label': '/gpfs/data/oermannlab/private_data/DeepPit/PitMRdata/samir_labels/50313-50372/50347/seg.nii'},\n",
       " {'image': '/gpfs/data/oermannlab/private_data/DeepPit/PitMRdata/samir_labels/50155-50212/50212/MP-RAGE/2000-01-01_00_00_00.0/S164537/ABIDE_50212_MRI_MP-RAGE_br_raw_20120830164957961_S164537_I328540_corrected_n4.nii',\n",
       "  'label': '/gpfs/data/oermannlab/private_data/DeepPit/PitMRdata/samir_labels/50155-50212/50212/seg.nii'},\n",
       " {'image': '/gpfs/data/oermannlab/private_data/DeepPit/PitMRdata/samir_labels/50373-50453/50417/MP-RAGE/2000-01-01_00_00_00.0/S164841/ABIDE_50417_MRI_MP-RAGE_br_raw_20120830185335904_S164841_I328851_corrected_n4.nii',\n",
       "  'label': '/gpfs/data/oermannlab/private_data/DeepPit/PitMRdata/samir_labels/50373-50453/50417/seg.nii'},\n",
       " {'image': '/gpfs/data/oermannlab/private_data/DeepPit/PitMRdata/samir_labels/50313-50372/50322/MP-RAGE/2000-01-01_00_00_00.0/S164522/ABIDE_50322_MRI_MP-RAGE_br_raw_20120830164151310_S164522_I328525_corrected_n4.nii',\n",
       "  'label': '/gpfs/data/oermannlab/private_data/DeepPit/PitMRdata/samir_labels/50313-50372/50322/seg.nii'},\n",
       " {'image': '/gpfs/data/oermannlab/private_data/DeepPit/PitMRdata/samir_labels/50002-50153/50052/MP-RAGE/2000-01-01_00_00_00.0/S165185/ABIDE_50052_MRI_MP-RAGE_br_raw_20120830214059519_S165185_I329195_corrected_n4.nii',\n",
       "  'label': '/gpfs/data/oermannlab/private_data/DeepPit/PitMRdata/samir_labels/50002-50153/50052/seg.nii'},\n",
       " {'image': '/gpfs/data/oermannlab/private_data/DeepPit/PitMRdata/samir_labels/50213-50312/50308/MP-RAGE/2000-01-01_00_00_00.0/S165443/ABIDE_50308_MRI_MP-RAGE_br_raw_20120831000109540_S165443_I329453_corrected_n4.nii',\n",
       "  'label': '/gpfs/data/oermannlab/private_data/DeepPit/PitMRdata/samir_labels/50213-50312/50308/seg.nii'}]"
      ]
     },
     "execution_count": 15,
     "metadata": {},
     "output_type": "execute_result"
    }
   ],
   "source": [
    "train_itemsd"
   ]
  },
  {
   "cell_type": "code",
   "execution_count": 12,
   "id": "60c2c92f",
   "metadata": {},
   "outputs": [
    {
     "ename": "NameError",
     "evalue": "name 'model_type' is not defined",
     "output_type": "error",
     "traceback": [
      "\u001b[0;31m---------------------------------------------------------------------------\u001b[0m",
      "\u001b[0;31mNameError\u001b[0m                                 Traceback (most recent call last)",
      "\u001b[0;32m<ipython-input-12-8902d1dc23c8>\u001b[0m in \u001b[0;36m<module>\u001b[0;34m\u001b[0m\n\u001b[1;32m      3\u001b[0m \u001b[0;32mfrom\u001b[0m \u001b[0mhelpers\u001b[0m\u001b[0;34m.\u001b[0m\u001b[0mtransforms_simplified\u001b[0m \u001b[0;32mimport\u001b[0m \u001b[0;34m*\u001b[0m\u001b[0;34m\u001b[0m\u001b[0;34m\u001b[0m\u001b[0m\n\u001b[1;32m      4\u001b[0m \u001b[0mtrain_itemsd\u001b[0m \u001b[0;34m=\u001b[0m \u001b[0mgetd\u001b[0m\u001b[0;34m(\u001b[0m\u001b[0mtrain_items\u001b[0m\u001b[0;34m)\u001b[0m \u001b[0;31m# for condseg atlas choice\u001b[0m\u001b[0;34m\u001b[0m\u001b[0;34m\u001b[0m\u001b[0m\n\u001b[0;32m----> 5\u001b[0;31m \u001b[0mprint\u001b[0m\u001b[0;34m(\u001b[0m\u001b[0;34mf\"{model_type}, {loss_type}, res {full_res} simple augs {do_simple} flip {do_flip} weird {not do_simple and not do_flip}\"\u001b[0m\u001b[0;34m)\u001b[0m\u001b[0;34m\u001b[0m\u001b[0;34m\u001b[0m\u001b[0m\n\u001b[0m\u001b[1;32m      6\u001b[0m _, val_tfms = get_train_valid_transforms(items=train_itemsd, pixdim=pixdim, full_res=full_res, \n\u001b[1;32m      7\u001b[0m                                               do_flip=do_flip, do_simple=do_simple, do_condseg=(model_type==\"CONDSEG\"))\n",
      "\u001b[0;31mNameError\u001b[0m: name 'model_type' is not defined"
     ]
    }
   ],
   "source": [
    "# Transforms\n",
    "\n",
    "from helpers.transforms_simplified import *\n",
    "train_itemsd = getd(train_items) # for condseg atlas choice\n",
    "print(f\"{model_type}, {loss_type}, res {full_res} simple augs {do_simple} flip {do_flip} weird {not do_simple and not do_flip}\")\n",
    "_, val_tfms = get_train_valid_transforms(items=train_itemsd, pixdim=pixdim, full_res=full_res, \n",
    "                                              do_flip=do_flip, do_simple=do_simple, do_condseg=(model_type==\"CONDSEG\"))\n",
    "print(f\"val tfms: \", *val_tfms.transforms, sep=\"\\n\")\n",
    "\n",
    "\n",
    "from helpers.general            import get_param\n",
    "from helpers.model_loss_choices import get_model, get_loss\n",
    "\n",
    "model   = get_model(model_type, full_res)\n",
    "loss_fn = get_loss(loss_type) \n",
    "\n",
    "# print\n",
    "print(\"Model name: \", model_name)\n",
    "print(f\"Model type: {model_type}. Loss type: {loss_type}.\")\n",
    "# Dataloaders\n",
    "\n",
    "# Fastai + distributed training\n",
    "from fastai              import *\n",
    "from fastai.torch_basics import *\n",
    "from fastai.basics       import *\n",
    "from fastai.distributed  import *\n",
    "\n",
    "# time it - 18s for 484 items\n",
    "start = time.time()\n",
    "\n",
    "#items  = all_test_lbl_items\n",
    "items = all_test_lbl_items #ppmi, icmb, adni, aibl, abvib, test_items\n",
    "itemsd = getd(items)\n",
    "\n",
    "# tls, dls, cuda\n",
    "bs  = 30\n",
    "tls = TfmdLists(itemsd, val_tfms)\n",
    "dls = tls.dataloaders(bs=bs, after_batch=[], num_workers=num_workers, drop_last=False, shuffle=False, shuffle_train=False)\n",
    "\n",
    "if not str(device)==\"cpu\":\n",
    "    dls = dls.cuda()\n",
    "\n",
    "# end timer\n",
    "elapsed = time.time() - start\n",
    "print(f\"Elapsed time: {elapsed:.2f} s for {len(itemsd)} items\")\n",
    "\n",
    "# Learner\n",
    "import gc\n",
    "gc.collect()\n",
    "from helpers.losses import dice_score\n",
    "learn = Learner(dls       = dls, \n",
    "                model     = model, \n",
    "                loss_func = loss_fn,\n",
    "                metrics   = dice_score)\n",
    "\n",
    "# load model fname w/o .pth extension\n",
    "learn.load(f\"{run_src}/{model_name}/model\")\n",
    "if not str(device)==\"cpu\":\n",
    "    learn.model = learn.model.cuda()"
   ]
  },
  {
   "cell_type": "code",
   "execution_count": 23,
   "id": "1a93b162",
   "metadata": {},
   "outputs": [],
   "source": [
    "from helpers.losses import dice, dice_score"
   ]
  },
  {
   "cell_type": "markdown",
   "id": "08650283",
   "metadata": {},
   "source": [
    "# Post-processing\n",
    "\n",
    "1. Largest Connect Label"
   ]
  },
  {
   "cell_type": "code",
   "execution_count": 10,
   "id": "88f7c751",
   "metadata": {},
   "outputs": [],
   "source": [
    "from helpers.postprocess import get_largest_connected_component, eval_measure, eval_lcc"
   ]
  },
  {
   "cell_type": "code",
   "execution_count": 11,
   "id": "f1c8571f",
   "metadata": {},
   "outputs": [
    {
     "ename": "NameError",
     "evalue": "name 'itemsd' is not defined",
     "output_type": "error",
     "traceback": [
      "\u001b[0;31m---------------------------------------------------------------------------\u001b[0m",
      "\u001b[0;31mNameError\u001b[0m                                 Traceback (most recent call last)",
      "\u001b[0;32m<ipython-input-11-bd5e4ca88c01>\u001b[0m in \u001b[0;36m<module>\u001b[0;34m\u001b[0m\n\u001b[1;32m      1\u001b[0m \u001b[0;31m# create batches\u001b[0m\u001b[0;34m\u001b[0m\u001b[0;34m\u001b[0m\u001b[0;34m\u001b[0m\u001b[0m\n\u001b[1;32m      2\u001b[0m \u001b[0mbs\u001b[0m        \u001b[0;34m=\u001b[0m \u001b[0;36m5\u001b[0m\u001b[0;34m\u001b[0m\u001b[0;34m\u001b[0m\u001b[0m\n\u001b[0;32m----> 3\u001b[0;31m \u001b[0mbatches\u001b[0m \u001b[0;34m=\u001b[0m \u001b[0;34m[\u001b[0m\u001b[0mitemsd\u001b[0m\u001b[0;34m[\u001b[0m\u001b[0mi\u001b[0m\u001b[0;34m:\u001b[0m\u001b[0mmin\u001b[0m\u001b[0;34m(\u001b[0m\u001b[0mi\u001b[0m\u001b[0;34m+\u001b[0m\u001b[0mbs\u001b[0m\u001b[0;34m,\u001b[0m \u001b[0mlen\u001b[0m\u001b[0;34m(\u001b[0m\u001b[0mitemsd\u001b[0m\u001b[0;34m)\u001b[0m\u001b[0;34m)\u001b[0m\u001b[0;34m]\u001b[0m \u001b[0;32mfor\u001b[0m \u001b[0mi\u001b[0m \u001b[0;32min\u001b[0m \u001b[0mrange\u001b[0m\u001b[0;34m(\u001b[0m\u001b[0;36m0\u001b[0m\u001b[0;34m,\u001b[0m\u001b[0mlen\u001b[0m\u001b[0;34m(\u001b[0m\u001b[0mitemsd\u001b[0m\u001b[0;34m)\u001b[0m\u001b[0;34m,\u001b[0m\u001b[0mbs\u001b[0m\u001b[0;34m)\u001b[0m\u001b[0;34m]\u001b[0m\u001b[0;34m\u001b[0m\u001b[0;34m\u001b[0m\u001b[0m\n\u001b[0m\u001b[1;32m      4\u001b[0m \u001b[0mranges\u001b[0m  \u001b[0;34m=\u001b[0m \u001b[0;34m[\u001b[0m\u001b[0mrange\u001b[0m\u001b[0;34m(\u001b[0m\u001b[0mi\u001b[0m\u001b[0;34m,\u001b[0m\u001b[0mmin\u001b[0m\u001b[0;34m(\u001b[0m\u001b[0mi\u001b[0m\u001b[0;34m+\u001b[0m\u001b[0mbs\u001b[0m\u001b[0;34m,\u001b[0m \u001b[0mlen\u001b[0m\u001b[0;34m(\u001b[0m\u001b[0mitemsd\u001b[0m\u001b[0;34m)\u001b[0m\u001b[0;34m)\u001b[0m\u001b[0;34m)\u001b[0m \u001b[0;32mfor\u001b[0m \u001b[0mi\u001b[0m \u001b[0;32min\u001b[0m \u001b[0mrange\u001b[0m\u001b[0;34m(\u001b[0m\u001b[0;36m0\u001b[0m\u001b[0;34m,\u001b[0m\u001b[0mlen\u001b[0m\u001b[0;34m(\u001b[0m\u001b[0mitemsd\u001b[0m\u001b[0;34m)\u001b[0m\u001b[0;34m,\u001b[0m\u001b[0mbs\u001b[0m\u001b[0;34m)\u001b[0m\u001b[0;34m]\u001b[0m\u001b[0;34m\u001b[0m\u001b[0;34m\u001b[0m\u001b[0m\n",
      "\u001b[0;31mNameError\u001b[0m: name 'itemsd' is not defined"
     ]
    }
   ],
   "source": [
    "# create batches\n",
    "bs        = 5\n",
    "batches = [itemsd[i:min(i+bs, len(itemsd))] for i in range(0,len(itemsd),bs)]\n",
    "ranges  = [range(i,min(i+bs, len(itemsd))) for i in range(0,len(itemsd),bs)]"
   ]
  },
  {
   "cell_type": "code",
   "execution_count": 26,
   "id": "33c175c8",
   "metadata": {},
   "outputs": [
    {
     "name": "stdout",
     "output_type": "stream",
     "text": [
      "False\n"
     ]
    }
   ],
   "source": [
    "do_condseg = (model_type==\"CONDSEG\")\n",
    "print(do_condseg)"
   ]
  },
  {
   "cell_type": "code",
   "execution_count": 27,
   "id": "650a539f",
   "metadata": {},
   "outputs": [
    {
     "name": "stdout",
     "output_type": "stream",
     "text": [
      "Load transformed inputs/labels. Elapsed: 18.73 s\n"
     ]
    }
   ],
   "source": [
    "#load labels\n",
    "val_str = f\"full_res_{full_res[0]}_pixdim_{pixdim[0]}_do_condseg_{do_condseg}\"\n",
    "transformed_labels_src = f\"{data_src}/saved_transformed_labels/{val_str}\"\n",
    "all_data = []\n",
    "\n",
    "start = time.time()\n",
    "for i in range(len(batches)):\n",
    "    with open(f\"{transformed_labels_src}/transformed_labels_batch_{i}_bs_{bs}.pkl\", 'rb') as handle:\n",
    "        all_data += pickle.load(handle)\n",
    "        \n",
    "elapsed = time.time() - start\n",
    "print(f\"Load transformed inputs/labels. Elapsed: {elapsed:0.2f} s\")\n",
    "\n",
    "#val_str = \"full_res_144_pixdim_1.0_do_condseg_False\"\n",
    "#val_str = \"full_res_96_pixdim_1.5_do_condseg_False\""
   ]
  },
  {
   "cell_type": "code",
   "execution_count": 28,
   "id": "cb363d73",
   "metadata": {},
   "outputs": [],
   "source": [
    "# data = [all_data[i] for i in ranges[0]] #Pipeline(val_tfms)(batch)\n",
    "# inputs, labels = zip(*data) # [(img,lbl), (img,lbl)] => imgs, labels\n",
    "# inputs = torch.stack(inputs, dim=0)\n",
    "# labels = torch.stack(labels, dim=0)\n",
    "\n",
    "# # (5, 5, 5, torch.Size([1, 96, 96, 96]), torch.Size([1, 96, 96, 96]))\n",
    "# print(len(data), len(inputs), len(labels), inputs[0].shape, labels[0].shape)\n",
    "# print(inputs.shape, labels.shape)"
   ]
  },
  {
   "cell_type": "code",
   "execution_count": null,
   "id": "694ec2bd",
   "metadata": {},
   "outputs": [],
   "source": [
    "# set model to evaluate model\n",
    "learn.model.eval()\n",
    "\n",
    "# device = torch.device(\"cuda:0\")\n",
    "\n",
    "# pre & post LCC\n",
    "pre_df  = []\n",
    "post_df = []\n",
    "\n",
    "start = time.time()\n",
    "              \n",
    "                        \n",
    "# deactivate autograd engine and reduce memory usage and speed up computations\n",
    "for i,batch in enumerate(batches):\n",
    "#     start_small = time.time()\n",
    "\n",
    "    # range(0,5); range(5,10)\n",
    "    data = [all_data[idx] for idx in ranges[i]] #Pipeline(val_tfms)(batch)\n",
    "    inputs, labels = zip(*data) # [(img,lbl), (img,lbl)] => imgs, labels\n",
    "    inputs = torch.stack(inputs, dim=0)\n",
    "    labels = torch.stack(labels, dim=0)\n",
    "    inputs = inputs.to(device)\n",
    "\n",
    "    with torch.no_grad():\n",
    "        outputs = learn.model(inputs).cpu()\n",
    "\n",
    "    # calculate metrics pre-LCC and post-LCC\n",
    "    pre_metrics, post_metrics = zip(*[eval_lcc(labels[i], outputs[i])\n",
    "                                      for i in range(len(labels))\n",
    "                                     ])\n",
    "    pre_df  += pre_metrics\n",
    "    post_df += post_metrics\n",
    "    \n",
    "    # save model outputs\n",
    "    with open(f\"{run_src}/{model_name}/preds_batch_{i}_bs_{bs}.pkl\", 'wb') as handle:\n",
    "        pickle.dump(outputs, handle)\n",
    "        \n",
    "    # clean up memory\n",
    "    del inputs\n",
    "    del labels\n",
    "    del outputs\n",
    "    \n",
    "    gc.collect()\n",
    "    \n",
    "    if str(device) != \"cpu\":\n",
    "        torch.cuda.empty_cache()\n",
    "        gc.collect()\n",
    "        torch.cuda.empty_cache()\n",
    "    # print_hardware_stats()\n",
    "\n",
    "#     elapsed_small = time.time() - start_small\n",
    "#     print(f\"Elapsed: {elapsed_small:0.2f} s\")\n",
    "\n",
    "elapsed = time.time() - start\n",
    "print(f\"Elapsed: {elapsed:0.2f} s for {len(itemsd)} items.\")"
   ]
  },
  {
   "cell_type": "code",
   "execution_count": null,
   "id": "1b120dbc",
   "metadata": {},
   "outputs": [],
   "source": [
    "print(len(post_df))"
   ]
  },
  {
   "cell_type": "code",
   "execution_count": null,
   "id": "53149217",
   "metadata": {},
   "outputs": [],
   "source": [
    "# with torch.no_grad():\n",
    "#     outputs1 = model(inputs1).cpu()"
   ]
  },
  {
   "cell_type": "code",
   "execution_count": null,
   "id": "029efbfd",
   "metadata": {},
   "outputs": [],
   "source": [
    "# # test if shuffled\n",
    "\n",
    "# data1 = Pipeline(val_tfms)(itemsd[56:60])\n",
    "# inputs1, labels1 = zip(*data1) # [(img,lbl), (img,lbl)] => imgs, labels\n",
    "# inputs1 = torch.stack(inputs1, dim=0)\n",
    "# labels1 = torch.stack(labels1, dim=0)\n",
    "# inputs1 = inputs1.to(device)\n",
    "\n",
    "# # print(\"before no grad\")\n",
    "# with torch.no_grad():\n",
    "#     outputs1 = model(inputs1).cpu()"
   ]
  },
  {
   "cell_type": "code",
   "execution_count": null,
   "id": "569436e6",
   "metadata": {},
   "outputs": [],
   "source": [
    "# pre_metrics1, post_metrics1 = zip(*[eval_lcc(labels1[i], outputs1[i])\n",
    "#                                       for i in range(len(labels1))\n",
    "#                                      ])"
   ]
  },
  {
   "cell_type": "code",
   "execution_count": null,
   "id": "78bb5795",
   "metadata": {},
   "outputs": [],
   "source": [
    "# pd.DataFrame(post_metrics1)"
   ]
  },
  {
   "cell_type": "code",
   "execution_count": null,
   "id": "acb1e557",
   "metadata": {},
   "outputs": [],
   "source": [
    "pd.DataFrame(post_df[56:60])"
   ]
  },
  {
   "cell_type": "code",
   "execution_count": null,
   "id": "88b195b8",
   "metadata": {},
   "outputs": [],
   "source": [
    "# for df in (pre_df, post_df):\n",
    "#     # non-intersecting\n",
    "#     for col in (\"false_neg\",):\n",
    "#         df.loc[df[col]>1.0, col] = 1.0"
   ]
  },
  {
   "cell_type": "code",
   "execution_count": null,
   "id": "9e36079f",
   "metadata": {},
   "outputs": [],
   "source": [
    "# for df in (pre_df, post_df):\n",
    "#     for col in (\"dice\", \"false_neg\", \"false_pos\", \"hausdorff_dist\"):\n",
    "#         df.loc[df[col]=='-99', col] = np.NaN"
   ]
  },
  {
   "cell_type": "code",
   "execution_count": null,
   "id": "474c6d01",
   "metadata": {},
   "outputs": [],
   "source": [
    "# testdf = pd.DataFrame(pre_df)\n",
    "# testdf[\"image\"] = [item[\"image\"] for item in itemsd]\n",
    "# testdf[\"label\"] = [item[\"label\"] for item in itemsd]\n",
    "# testdf"
   ]
  },
  {
   "cell_type": "code",
   "execution_count": null,
   "id": "cee1f19e",
   "metadata": {},
   "outputs": [],
   "source": [
    "pre_df  = pd.DataFrame(pre_df)\n",
    "post_df = pd.DataFrame(post_df)\n",
    "\n",
    "for df in (pre_df, post_df):\n",
    "    df[\"image\"] = [item[\"image\"] for item in itemsd]\n",
    "    df[\"label\"] = [item[\"label\"] for item in itemsd]\n",
    "\n",
    "# save\n",
    "model_src = f\"{run_src}/{model_name}\"\n",
    "pre_df.to_pickle(f\"{model_src}/pre_lcc_df.pkl\")\n",
    "post_df.to_pickle(f\"{model_src}/post_lcc_df.pkl\")\n",
    "\n",
    "from helpers.postprocess import names\n",
    "for name_lst in names:\n",
    "    for name in name_lst:\n",
    "        pre_mean  = pre_df[name].mean()\n",
    "        post_mean = post_df[name].mean()\n",
    "        delta = post_mean - pre_mean\n",
    "        print(f\"{name}: diff = {delta:0.4f} ({pre_mean: 0.4f} ==> {post_mean:0.4f})\")"
   ]
  },
  {
   "cell_type": "code",
   "execution_count": null,
   "id": "6dbaa27d",
   "metadata": {},
   "outputs": [],
   "source": [
    "# diff_dff = post_df - pre_df\n",
    "# display(diff_dff[diff_dff[\"hausdorff_dist\"].isna()])"
   ]
  },
  {
   "cell_type": "code",
   "execution_count": null,
   "id": "aff7891c",
   "metadata": {},
   "outputs": [],
   "source": [
    "# pd.set_option('display.max_rows', 230)\n",
    "# display(diff_dff[diff_dff[\"false_pos\"] < 0].sort_values(by=['dice'], ascending=False))"
   ]
  },
  {
   "cell_type": "code",
   "execution_count": null,
   "id": "c3808313",
   "metadata": {
    "scrolled": true
   },
   "outputs": [],
   "source": [
    "# diff_dff[diff_dff[\"dice\"]!=0.0][\"dice\"].hist()"
   ]
  },
  {
   "cell_type": "code",
   "execution_count": null,
   "id": "b1ab7198",
   "metadata": {},
   "outputs": [],
   "source": [
    "# col = \"false_pos\"\n",
    "# diff_dff[diff_dff[col]!=0.0][col].hist()"
   ]
  },
  {
   "cell_type": "code",
   "execution_count": null,
   "id": "b3e5b392",
   "metadata": {},
   "outputs": [],
   "source": [
    "# col = \"false_neg\"\n",
    "# diff_dff[diff_dff[col]!=0.0][col].hist(), diff_dff[diff_dff[col]!=0.0][col].mean()"
   ]
  },
  {
   "cell_type": "code",
   "execution_count": null,
   "id": "25d9a2e3",
   "metadata": {},
   "outputs": [],
   "source": [
    "post_df[\"dice\"].hist(), post_df[\"dice\"].mean()"
   ]
  },
  {
   "cell_type": "code",
   "execution_count": null,
   "id": "5b08d753",
   "metadata": {},
   "outputs": [],
   "source": [
    "model_name"
   ]
  },
  {
   "cell_type": "code",
   "execution_count": null,
   "id": "92a8bce3",
   "metadata": {},
   "outputs": [],
   "source": [
    "np_indiv_dices = post_df[\"dice\"].values\n",
    "\n",
    "test_idxs  = [idx for idx,i in enumerate(items) if \"ABIDE\" in i[0]] \n",
    "ppmi_idxs  = [idx for idx,i in enumerate(items) if dset_dict[\"PPMI\"] in i[0]]\n",
    "icmb_idxs  = [idx for idx,i in enumerate(items) if \"ICMB\" in i[1]]\n",
    "adni_idxs  = [idx for idx,i in enumerate(items) if \"ADNI1_full\" in i[1]]\n",
    "aibl_idxs  = [idx for idx,i in enumerate(items) if \"AIBL\" in i[1]]\n",
    "abvib_idxs = [idx for idx,i in enumerate(items) if \"ABVIB\" in i[1]]\n",
    "\n",
    "# print(len(test_idxs))\n",
    "# print(len(ppmi_idxs))\n",
    "# print(len(icmb_idxs))\n",
    "# print(len(adni_idxs))\n",
    "# print(len(aibl_idxs))\n",
    "# print(len(abvib_idxs))\n",
    "# print(len(test_items), len(valid_items), len(train_items))\n",
    "\n",
    "names = [\"ABIDE\", \"PPMI\", \"ICMB\", \"ADNI\", \"AIBL\", \"ABVIB\"]\n",
    "idxs  = [test_idxs, ppmi_idxs, icmb_idxs, adni_idxs, aibl_idxs, abvib_idxs]\n",
    "\n",
    "print_df = []\n",
    "\n",
    "# overall dice\n",
    "print_df.append({\n",
    "    \"dset\":\"Overall\",\n",
    "    \"median_dice\":np.median(np_indiv_dices),\n",
    "    \"mean_dice\":np_indiv_dices.mean(),\n",
    "    \"std_dice\":np_indiv_dices.std()\n",
    "})\n",
    "\n",
    "for name,name_idxs in zip(names, idxs):\n",
    "    subset_idxs = np.array([np_indiv_dices[i] for i in name_idxs])\n",
    "    print_df.append({\"dset\":name,\"median_dice\":np.median(subset_idxs),\"mean_dice\":subset_idxs.mean(),\"std_dice\":subset_idxs.std()})\n",
    "\n",
    "print_df = pd.DataFrame(print_df)\n",
    "\n",
    "# save\n",
    "print_df.to_pickle(f\"{model_src}/stats_df.pkl\")\n",
    "\n",
    "print_df = print_df.style.set_caption(f\"{model_name}\")\n",
    "#display(print_df)"
   ]
  },
  {
   "cell_type": "code",
   "execution_count": null,
   "id": "3c6459db",
   "metadata": {},
   "outputs": [],
   "source": [
    "print(model_name)"
   ]
  },
  {
   "cell_type": "code",
   "execution_count": null,
   "id": "e4554629",
   "metadata": {},
   "outputs": [],
   "source": [
    "print(model_name)"
   ]
  },
  {
   "cell_type": "code",
   "execution_count": null,
   "id": "088dc6c9",
   "metadata": {},
   "outputs": [],
   "source": [
    "# display(print_df)"
   ]
  },
  {
   "cell_type": "code",
   "execution_count": null,
   "id": "0c164043",
   "metadata": {},
   "outputs": [],
   "source": [
    "# # check\n",
    "# check_post_df  = pd.read_pickle(f\"{model_src}/post_lcc_df.pkl\")\n",
    "# check_pre_df   = pd.read_pickle(f\"{model_src}/pre_lcc_df.pkl\")\n",
    "# check_stats_df = pd.read_pickle(f\"{model_src}/stats_df.pkl\")\n",
    "# display(check_post_df)\n",
    "# display(check_pre_df)\n",
    "# display(check_stats_df)"
   ]
  },
  {
   "cell_type": "code",
   "execution_count": null,
   "id": "2976fd6b",
   "metadata": {},
   "outputs": [],
   "source": [
    "# targets     = torch.cat(y_true, dim=0)\n",
    "# predictions = torch.cat(outputs, dim=0)"
   ]
  },
  {
   "cell_type": "code",
   "execution_count": null,
   "id": "8695bfd5",
   "metadata": {},
   "outputs": [],
   "source": [
    "# start = time.time()\n",
    "\n",
    "# predictions = []\n",
    "# targets     = []\n",
    "# val_batch_iter = iter(dls.train)\n",
    "# for n in range(int(len(itemsd) / bs)):\n",
    "#     xb,yb = next(val_batch_iter)\n",
    "#     preds = learn.model(xb.cpu())\n",
    "#     predictions.append(preds)\n",
    "#     targets.append(yb.cpu())\n",
    "#     print(\"next\", n)\n",
    "    \n",
    "#     del xb\n",
    "#     del yb\n",
    "#     del preds\n",
    "    \n",
    "# #predictions, targets = learn.get_preds(dl=dls.train)\n",
    "# elapsed = time.time() - start\n",
    "\n",
    "# print(f\"Elapsed: {elapsed:0.2f} s for {len(itemsd)} items.\")"
   ]
  },
  {
   "cell_type": "code",
   "execution_count": null,
   "id": "5b4beeb3",
   "metadata": {},
   "outputs": [],
   "source": [
    "# # 30 sec for 67 test items (2 CPU workers)\n",
    "# do_validate = False # True # False # True\n",
    "# if do_validate:\n",
    "#     start = time.time()\n",
    "#     print(learn.validate(ds_idx=0))\n",
    "#     elapsed = time.time() - start\n",
    "#     print(f\"Elapsed: {elapsed:0.2f} s for {(len(itemsd))} items.\")\n",
    "    \n",
    "# print(\"Pred mask\", predictions.shape, \"Target (x = y = MR)\", targets.shape)\n",
    "# print(\"Pred mask\", predictions[0].shape, \"Target\", targets[0].shape)\n",
    "\n",
    "# do_masks = False # True # False # True\n",
    "# if do_masks:\n",
    "#     from helpers.preprocess import batch_get_bbox\n",
    "\n",
    "#     # Elapsed 65.148959 s\n",
    "#     start = time.time()\n",
    "\n",
    "#     # get masks and probs\n",
    "#     pred_masks = torch.argmax(predictions, dim=1).byte()\n",
    "#     pred_bboxs = batch_get_bbox(pred_masks)\n",
    "#     gt_bboxs   = batch_get_bbox(targets)\n",
    "#     #pred_probs = np.asarray(predictions.softmax(1)[:,1].cpu())\n",
    "\n",
    "#     elapsed = time.time() - start\n",
    "#     print(f\"Elapsed {elapsed:2f} s\")"
   ]
  },
  {
   "cell_type": "markdown",
   "id": "8752f8c4",
   "metadata": {},
   "source": [
    "# Test set: Prediction Dice Distribution"
   ]
  },
  {
   "cell_type": "code",
   "execution_count": null,
   "id": "191a22d9",
   "metadata": {},
   "outputs": [],
   "source": [
    "# from monai.losses import DiceLoss\n",
    "\n",
    "# dice_loss = DiceLoss(\n",
    "#     include_background=False, \n",
    "#     to_onehot_y=False, \n",
    "#     sigmoid=False, \n",
    "#     softmax=False, \n",
    "#     other_act=None, \n",
    "#     squared_pred=False, \n",
    "#     jaccard=False, \n",
    "#     reduction=\"none\", \n",
    "#     smooth_nr=0, #1e-05, \n",
    "#     smooth_dr=0, #1e-05, \n",
    "#     batch=False)\n",
    "\n",
    "# # dice_loss_soft = DiceLoss(\n",
    "# #     include_background=False, \n",
    "# #     to_onehot_y=False, \n",
    "# #     sigmoid=True, \n",
    "# #     softmax=False, \n",
    "# #     other_act=None, \n",
    "# #     squared_pred=False, \n",
    "# #     jaccard=False, \n",
    "# #     reduction=\"none\", \n",
    "# #     smooth_nr=0, #1e-05, \n",
    "# #     smooth_dr=0, #1e-05, \n",
    "# #     batch=False)\n",
    "\n",
    "# start = time.time()\n",
    "\n",
    "# indiv_dices = dice_loss(predictions.argmax(1).unsqueeze(1), targets)\n",
    "# #indiv_dices = dice_loss_soft(predictions[:,1].unsqueeze(1), targets)\n",
    "# indiv_dices = [1-dice_loss for dice_loss in indiv_dices]\n",
    "# elapsed = time.time() - start\n",
    "\n",
    "# print(f\"Elapsed: {elapsed:0.2f} s for {len(targets)} items.\")"
   ]
  },
  {
   "cell_type": "code",
   "execution_count": null,
   "id": "bbbce864",
   "metadata": {},
   "outputs": [],
   "source": [
    "# start = time.time()\n",
    "\n",
    "# # sort dices from low to high\n",
    "# #sorted_dice_idxs  = sorted(range(len(indiv_dices)), key=lambda i:indiv_dices[i].item()) \n",
    "# np_indiv_dices = np.array([indiv_dices[i].item() for i in range(len(indiv_dices))])\n",
    "\n",
    "# # plot\n",
    "# fig1, (ax0, ax1) = plt.subplots(nrows=1, ncols=2, figsize=(12,6))\n",
    "# ax0.hist(np_indiv_dices, bins=\"auto\")\n",
    "# ax1.boxplot(np_indiv_dices)\n",
    "\n",
    "# fig1.suptitle(\"Dice Score (ABIDE test set + Cross label items)\")\n",
    "# plt.show()\n",
    "\n",
    "# # time\n",
    "# elapsed = time.time() - start\n",
    "# print(f\"Elapsed: {elapsed:0.2f} s for {len(targets)} items.\")\n",
    "\n",
    "# test_idxs  = [idx for idx,i in enumerate(items) if \"ABIDE\" in i[0]] \n",
    "# ppmi_idxs  = [idx for idx,i in enumerate(items) if dset_dict[\"PPMI\"] in i[0]]\n",
    "# icmb_idxs  = [idx for idx,i in enumerate(items) if \"ICMB\" in i[1]]\n",
    "# adni_idxs  = [idx for idx,i in enumerate(items) if \"ADNI1_full\" in i[1]]\n",
    "# aibl_idxs  = [idx for idx,i in enumerate(items) if \"AIBL\" in i[1]]\n",
    "# abvib_idxs = [idx for idx,i in enumerate(items) if \"ABVIB\" in i[1]]\n",
    "\n",
    "# # print(len(test_idxs))\n",
    "# # print(len(ppmi_idxs))\n",
    "# # print(len(icmb_idxs))\n",
    "# # print(len(adni_idxs))\n",
    "# # print(len(aibl_idxs))\n",
    "# # print(len(abvib_idxs))\n",
    "# # print(len(test_items), len(valid_items), len(train_items))\n",
    "\n",
    "# names = [\"ABIDE\", \"PPMI\", \"ICMB\", \"ADNI\", \"AIBL\", \"ABVIB\"]\n",
    "# idxs  = [test_idxs, ppmi_idxs, icmb_idxs, adni_idxs, aibl_idxs, abvib_idxs]\n",
    "\n",
    "# df = []\n",
    "\n",
    "# # overall dice\n",
    "# df.append({\n",
    "#     \"dset\":\"overall\",\n",
    "#     \"median_dice\":np.median(np_indiv_dices),\n",
    "#     \"mean_dice\":np_indiv_dices.mean(),\n",
    "#     \"std_dice\":np_indiv_dices.std()\n",
    "# })\n",
    "\n",
    "# for name,name_idxs in zip(names, idxs):\n",
    "#     subset_idxs = np.array([indiv_dices[i].item() for i in name_idxs])\n",
    "#     df.append({\"dset\":name,\"median_dice\":np.median(subset_idxs),\"mean_dice\":subset_idxs.mean(),\"std_dice\":subset_idxs.std()})\n",
    "\n",
    "# import pandas as pd\n",
    "# df = pd.DataFrame(df)\n",
    "\n",
    "# model_src = f\"{run_src}/{model_name}\"\n",
    "# df.to_pickle(f\"{model_src}/test_dices.pkl\")\n",
    "\n",
    "# torch.save(predictions, f\"{model_src}/test_preds.pt\")\n",
    "# torch.save(targets, f\"{model_src}/test_targs.pt\")\n",
    "# torch.save(indiv_dices, f\"{model_src}/test_dices.pt\")"
   ]
  },
  {
   "cell_type": "code",
   "execution_count": null,
   "id": "559f9689",
   "metadata": {},
   "outputs": [],
   "source": [
    "# df"
   ]
  },
  {
   "cell_type": "code",
   "execution_count": null,
   "id": "988717ee",
   "metadata": {},
   "outputs": [],
   "source": [
    "# ax = df.plot.bar(x=\"dset\",rot=0)"
   ]
  },
  {
   "cell_type": "code",
   "execution_count": null,
   "id": "1ba19b95",
   "metadata": {},
   "outputs": [],
   "source": []
  },
  {
   "cell_type": "code",
   "execution_count": null,
   "id": "cb8facad",
   "metadata": {
    "scrolled": true
   },
   "outputs": [],
   "source": [
    "# names = [\"ABIDE\", \"PPMI\", \"ICMB\", \"ADNI\", \"AIBL\", \"ABVIB\"]\n",
    "# idxs  = [test_idxs, ppmi_idxs, icmb_idxs, adni_idxs, aibl_idxs, abvib_idxs]\n",
    "\n",
    "# for name,name_idxs in zip(names, idxs):\n",
    "#     subset_idxs = np.array([indiv_dices[i].item() for i in name_idxs])\n",
    "#     print(name, \": \", \"Median dice: \", np.median(subset_idxs), \"Mean\",subset_idxs.mean(), \"+- std\", subset_idxs.std())"
   ]
  },
  {
   "cell_type": "code",
   "execution_count": null,
   "id": "7d93846c",
   "metadata": {},
   "outputs": [],
   "source": [
    "# np.median([1,2,3,4,5])"
   ]
  },
  {
   "cell_type": "markdown",
   "id": "20144e4e",
   "metadata": {},
   "source": [
    "# Shape of Largest connected component"
   ]
  },
  {
   "cell_type": "code",
   "execution_count": null,
   "id": "3b21d391",
   "metadata": {},
   "outputs": [],
   "source": [
    "# lccs = [sitk2torch(get_largest_connected_component(torch2sitk(x.byte()))) for x in pred_masks]"
   ]
  },
  {
   "cell_type": "code",
   "execution_count": null,
   "id": "f1c6c5c8",
   "metadata": {},
   "outputs": [],
   "source": [
    "# len(lccs), lccs[0].shape"
   ]
  },
  {
   "cell_type": "code",
   "execution_count": null,
   "id": "77807888",
   "metadata": {},
   "outputs": [],
   "source": [
    "# lccs_all = torch.stack(lccs, dim=0)\n",
    "# print(lccs_all.shape)"
   ]
  },
  {
   "cell_type": "code",
   "execution_count": null,
   "id": "79069387",
   "metadata": {},
   "outputs": [],
   "source": [
    "# lccs_all.shape"
   ]
  },
  {
   "cell_type": "code",
   "execution_count": null,
   "id": "af4fab3c",
   "metadata": {},
   "outputs": [],
   "source": [
    "# lccs_all[:20].unsqueeze(1).shape"
   ]
  },
  {
   "cell_type": "code",
   "execution_count": null,
   "id": "7ab088e6",
   "metadata": {},
   "outputs": [],
   "source": [
    "# from helpers.isoperim import get_iso_ratio"
   ]
  },
  {
   "cell_type": "code",
   "execution_count": null,
   "id": "2c3ac27f",
   "metadata": {},
   "outputs": [],
   "source": [
    "# start = time.time()\n",
    "# pred_ratios = get_iso_ratio(predictions)\n",
    "# elapsed = time.time() - start\n",
    "# print(f\"Elapsed: {elapsed:0.2f} s.\")"
   ]
  },
  {
   "cell_type": "code",
   "execution_count": null,
   "id": "f32e5c41",
   "metadata": {},
   "outputs": [],
   "source": [
    "# start = time.time()\n",
    "# lcc_ratios = get_iso_ratio(lccs_all.unsqueeze(1))\n",
    "# elapsed = time.time() - start\n",
    "# print(f\"Elapsed: {elapsed:0.2f} s.\")"
   ]
  },
  {
   "cell_type": "code",
   "execution_count": null,
   "id": "af733f76",
   "metadata": {},
   "outputs": [],
   "source": [
    "# targets.shape"
   ]
  },
  {
   "cell_type": "code",
   "execution_count": null,
   "id": "c172df7f",
   "metadata": {},
   "outputs": [],
   "source": [
    "# start = time.time()\n",
    "# target_ratios = get_iso_ratio(targets)\n",
    "# elapsed = time.time() - start\n",
    "# print(f\"Elapsed: {elapsed:0.2f} s.\")"
   ]
  },
  {
   "cell_type": "code",
   "execution_count": null,
   "id": "4e4e72d8",
   "metadata": {},
   "outputs": [],
   "source": [
    "# fig, axes = plt.subplots(3,2, figsize=(12,12))\n",
    "# axes[0,0].hist(np.asarray(target_ratios))\n",
    "# axes[0,0].set_title(\"Target Isoperimetric ratio\")\n",
    "# axes[0,1].boxplot(np.asarray(target_ratios))\n",
    "\n",
    "# axes[1,0].hist(np.asarray(ratios))\n",
    "# axes[1,0].set_title(\"Largest Connected Component Isoperimetric ratio\")\n",
    "# axes[1,1].boxplot(np.asarray(ratios))\n",
    "\n",
    "# diff = ratios - target_ratios\n",
    "# axes[2,0].hist(np.asarray(diff))\n",
    "# axes[2,0].set_title(\"Difference in Isoperimetric ratio\")\n",
    "# axes[2,1].boxplot(np.asarray(diff))"
   ]
  },
  {
   "cell_type": "code",
   "execution_count": null,
   "id": "030e87dd",
   "metadata": {},
   "outputs": [],
   "source": [
    "# ratios"
   ]
  },
  {
   "cell_type": "code",
   "execution_count": null,
   "id": "f7254cd7",
   "metadata": {},
   "outputs": [],
   "source": [
    "# prediction_ratios = get_isoperimetric_ratio(*get_vol_sa(get_largest_connected_component()"
   ]
  },
  {
   "cell_type": "code",
   "execution_count": null,
   "id": "a7cdac27",
   "metadata": {},
   "outputs": [],
   "source": [
    "# target_ratios     = get_isoperimetric_ratio(*get_vol_sa(targets))\n",
    "# prediction_ratios = get_isoperimetric_ratio(*get_vol_sa(predictions))\n",
    "\n",
    "# _, axes = plt.subplots(1,2)\n",
    "# axes[0].hist(np.asarray(target_ratios))\n",
    "# axes[1].hist(np.asarray(prediction_ratios))\n",
    "# axes[0].set_title(\"Target Isometric Ratio\")\n",
    "# axes[1].set_title(\"Pred Isometric Ratio\")"
   ]
  },
  {
   "cell_type": "markdown",
   "id": "9506acb6",
   "metadata": {},
   "source": [
    "# Convert"
   ]
  },
  {
   "cell_type": "code",
   "execution_count": null,
   "id": "75653d09",
   "metadata": {},
   "outputs": [],
   "source": [
    "# %%javascript\n",
    "# IPython.notebook.kernel.execute('nb_name = \"' + IPython.notebook.notebook_name + '\"')"
   ]
  },
  {
   "cell_type": "code",
   "execution_count": null,
   "id": "bbc5ccdf",
   "metadata": {},
   "outputs": [],
   "source": [
    "# from nbconvert import HTMLExporter\n",
    "# import codecs\n",
    "# import nbformat\n",
    "\n",
    "# notebook_name = nb_name\n",
    "# output_file_name = notebook_name[:-6] + \"_viz_probs_BCE_July_31\" + '.html'\n",
    "\n",
    "# exporter = HTMLExporter()\n",
    "# output_notebook = nbformat.read(notebook_name, as_version=4)\n",
    "\n",
    "# output, resources = exporter.from_notebook_node(output_notebook)\n",
    "# codecs.open(output_file_name, 'w', encoding='utf-8').write(output)"
   ]
  },
  {
   "cell_type": "markdown",
   "id": "51c0ca0b",
   "metadata": {},
   "source": [
    "# Isoperimetric ratios"
   ]
  },
  {
   "cell_type": "markdown",
   "id": "f743a27a",
   "metadata": {},
   "source": [
    "# Probs"
   ]
  },
  {
   "cell_type": "code",
   "execution_count": null,
   "id": "8662bfcc",
   "metadata": {
    "scrolled": true
   },
   "outputs": [],
   "source": [
    "# probs = predictions.softmax(1)[:,1]\n",
    "# print(f\"Probs\", probs.shape)"
   ]
  },
  {
   "cell_type": "code",
   "execution_count": null,
   "id": "0c3c6d2a",
   "metadata": {},
   "outputs": [],
   "source": [
    "# from matplotlib import colors\n",
    "\n",
    "# prob_cmap  = \"GnBu\" #\"hot\" https://matplotlib.org/stable/tutorials/colors/colormaps.html \n",
    "# bin_cmap1  = colors.ListedColormap(['white', 'yellow'])\n",
    "# bin_cmap2  = colors.ListedColormap(['white', 'red'])\n",
    "\n",
    "# for idx in sorted_dice_idxs[:10]:\n",
    "\n",
    "#     print(f\"Worst idx: {idx}. mr: {items[idx][0][len(data_src)+1:]}\")\n",
    "    \n",
    "#     gt_bbox   = gt_bboxs[idx]\n",
    "#     pred_bbox = pred_bboxs[idx]\n",
    "    \n",
    "#     gt_map    = targets[idx].squeeze()\n",
    "#     prob_map  = probs[idx]\n",
    "#     pred_mask = pred_masks[idx]\n",
    "\n",
    "#     # max difference\n",
    "#     d = torch.abs(gt_map-prob_map)\n",
    "\n",
    "#     # along axis 0,1,2\n",
    "#     a0 = torch.sum(torch.sum(d, dim=2), dim=1)\n",
    "#     a1 = torch.sum(torch.sum(d, dim=2), dim=0)\n",
    "#     a2 = torch.sum(torch.sum(d, dim=1), dim=0)\n",
    "#     a0max, a0_idx = torch.max(a0), torch.argmax(a0)\n",
    "#     a1max, a1_idx = torch.max(a1), torch.argmax(a1)\n",
    "#     a2max, a2_idx = torch.max(a2), torch.argmax(a2)\n",
    "    \n",
    "#     # plot\n",
    "#     fig, axes = plt.subplots(3,4, figsize=(12,12))\n",
    "#     for i in range(3):\n",
    "#         max_diff_idx = [a0_idx, a1_idx, a2_idx][i]\n",
    "        \n",
    "#         gt_slice, prob_slice, pred_slice = [np.take(np.asarray(m), max_diff_idx, axis=i) for m in (gt_map, prob_map, pred_mask)]\n",
    "        \n",
    "#         axes[i,0].imshow(gt_slice,   cmap=bin_cmap1)\n",
    "#         axes[i,0].imshow(pred_slice, cmap=bin_cmap2, alpha=0.5)\n",
    "#         axes[i,1].imshow(gt_slice,   cmap=bin_cmap1)\n",
    "#         im  = axes[i,2].imshow(prob_slice, cmap=prob_cmap, interpolation='nearest')  \n",
    "#         im2 = axes[i,3].imshow(np.log(prob_slice), cmap=prob_cmap, interpolation='nearest')  \n",
    "\n",
    "#         axes[i,0].set_title(f\"Slice {max_diff_idx} (Axis {i})\")\n",
    "#         axes[i,1].set_title(f\"GT map\")\n",
    "#         axes[i,2].set_title(f\"Prob map\")\n",
    "#         axes[i,3].set_title(f\"Log Prob map\")\n",
    "        \n",
    "#         # colorbar\n",
    "#         fig.colorbar(im,  ax=axes[i,2])\n",
    "#         fig.colorbar(im2, ax=axes[i,3])\n",
    "\n",
    "#     plt.show()"
   ]
  },
  {
   "cell_type": "markdown",
   "id": "3d12d69b",
   "metadata": {},
   "source": [
    "# Viz worst"
   ]
  },
  {
   "cell_type": "code",
   "execution_count": null,
   "id": "554978b0",
   "metadata": {},
   "outputs": [],
   "source": [
    "# import SimpleITK as sitk\n",
    "# from helpers.viz import viz_axis, viz_compare_inputs, viz_compare_outputs"
   ]
  },
  {
   "cell_type": "code",
   "execution_count": null,
   "id": "ff170c39",
   "metadata": {},
   "outputs": [],
   "source": [
    "# from helpers.general import round_tuple"
   ]
  },
  {
   "cell_type": "code",
   "execution_count": null,
   "id": "e65e9496",
   "metadata": {},
   "outputs": [],
   "source": [
    "# worst_idx = low_dice_idxs[0]\n",
    "# best_idx  = sorted_dice_idxs[-1]\n",
    "# print(\"Worst. Idx = \", worst_idx, \"Dice: \", indiv_dices[worst_idx], items[worst_idx][0]); print()\n",
    "# print(\"Best. Idx = \", best_idx, \"Dice: \",   indiv_dices[best_idx], items[best_idx][0])\n",
    "\n",
    "# # get dirs\n",
    "# worst_fn = items[worst_idx][0]\n",
    "# best_fn  = items[best_idx][0]\n",
    "\n",
    "# print(f\"Worst fname: {worst_fn[len(data_src):]}\"); print()\n",
    "# print(f\"best fname: {best_fn[len(data_src):]}\")\n",
    "\n",
    "# for fn in (worst_fn, best_fn):\n",
    "#     # get stated direction\n",
    "#     sitk_obj = sitk.ReadImage(fn, sitk.sitkFloat32)\n",
    "#     sitk_dir = sitk_obj.GetDirection()\n",
    "\n",
    "#     # get stated orientation\n",
    "#     orient = sitk.DICOMOrientImageFilter()\n",
    "#     sitk_ori = orient.GetOrientationFromDirectionCosines(sitk_dir)\n",
    "    \n",
    "#     # print\n",
    "#     print(f\"Dir {round_tuple(sitk_dir)}, Ori {sitk_ori}\")\n",
    "\n",
    "# def get_input(idx):\n",
    "#     mr1,mk1 = tls[idx]\n",
    "#     return mr1.squeeze(), mk1.squeeze()\n",
    "\n",
    "# input1 = get_input(worst_idx)\n",
    "# input2 = get_input(best_idx)\n",
    "    \n",
    "# for axis in range(3):\n",
    "#     viz_compare_inputs(input1, input2, axis=axis)"
   ]
  },
  {
   "cell_type": "code",
   "execution_count": null,
   "id": "be670745",
   "metadata": {},
   "outputs": [],
   "source": [
    "# from helpers.viz import get_mid_range"
   ]
  },
  {
   "cell_type": "code",
   "execution_count": null,
   "id": "990a6b09",
   "metadata": {},
   "outputs": [],
   "source": [
    "# from matplotlib import colors\n",
    "# bin_cmap2  = colors.ListedColormap(['white', 'yellow'])"
   ]
  },
  {
   "cell_type": "code",
   "execution_count": null,
   "id": "27732df7",
   "metadata": {},
   "outputs": [],
   "source": [
    "# # intensity\n",
    "\n",
    "# worst_idxs = sorted_dice_idxs[:5]\n",
    "# best_idxs  = sorted_dice_idxs[-5:]\n",
    "\n",
    "# _, axes = plt.subplots(10,3, figsize=(6,12))\n",
    "\n",
    "# for i in range(5):\n",
    "#     w_idx = worst_idxs[i]\n",
    "#     b_idx = best_idxs[i]\n",
    "    \n",
    "#     input1 = get_input(w_idx)\n",
    "#     input2 = get_input(b_idx)\n",
    "\n",
    "#     bbox1 = gt_bboxs[w_idx]\n",
    "#     bbox2 = gt_bboxs[b_idx]\n",
    "    \n",
    "#     # plot\n",
    "#     for axis in range(3):\n",
    "#         start_idx1, end_idx1 = get_mid_range(bbox1, axis, nslices=1)\n",
    "#         start_idx2, end_idx2 = get_mid_range(bbox2, axis, nslices=1)\n",
    "        \n",
    "#         # WORST: mid-slice in axis\n",
    "#         axes[2*i, axis].imshow(np.take(np.rot90(input1[0]), start_idx1, axis=axis)) #, cmap=plt.cm.gray)\n",
    "#         #axes[2*i, axis].imshow(np.take(np.rot90(input1[1]), start_idx1, axis=axis), cmap=bin_cmap2, alpha=0.5)\n",
    "        \n",
    "#         # BEST: mid-slice in axis\n",
    "#         axes[2*i+1, axis].imshow(np.take(np.rot90(input2[0]), start_idx2, axis=axis)) #, cmap=plt.cm.gray)\n",
    "#         #axes[2*i+1, axis].imshow(np.take(np.rot90(input2[1]), start_idx2, axis=axis), cmap=bin_cmap2, alpha=0.5)\n",
    "\n",
    "# plt.show()"
   ]
  },
  {
   "cell_type": "code",
   "execution_count": null,
   "id": "68ce2cec",
   "metadata": {},
   "outputs": [],
   "source": [
    "# # intensity hist\n",
    "\n",
    "# worst_idxs = sorted_dice_idxs[:5]\n",
    "# best_idxs  = sorted_dice_idxs[-5:]\n",
    "\n",
    "# #fig = plt.figure(constrained_layout=True)\n",
    "\n",
    "# fig, axes = plt.subplots(nrows=2, ncols=5, sharex=True, sharey=True)\n",
    "# fig.suptitle('MR Intensity Histogram')\n",
    "\n",
    "# axes[0,0].set_yscale('log')\n",
    "# axes[0,2].set_title(\"Worst\")\n",
    "# axes[1,2].set_title(\"Best\")\n",
    "# # subfigs = fig.subfigures(nrows=2, ncols=1)\n",
    "# # subfigs[0].suptitle(f'Worst');\n",
    "# # subfigs[1].suptitle(f'Best')\n",
    "\n",
    "# # axs = []\n",
    "# # for subfig in subfigs:\n",
    "# #     # create 1x3 subplots per subfig\n",
    "# #     axs.append(subfig.subplots(nrows=1, ncols=5))\n",
    "# # axs = np.asarray(axs)    \n",
    "# # #, axes = plt.subplots(2,5, figsize=(6,12))\n",
    "\n",
    "# for i in range(5):\n",
    "#     w_idx = worst_idxs[i]\n",
    "#     b_idx = best_idxs[i]\n",
    "    \n",
    "#     input1 = get_input(w_idx)\n",
    "#     input2 = get_input(b_idx)\n",
    "\n",
    "#     mr1, mk1 = input1\n",
    "#     mr2, mk2 = input2\n",
    "    \n",
    "#     mr1, mk1 = np.asarray(mr1), np.asarray(mk1)\n",
    "#     mr2, mk2 = np.asarray(mr2), np.asarray(mk2)\n",
    "    \n",
    "#     # plot\n",
    "    \n",
    "#     axes[0,i].hist(mr1[mr1>0].reshape(-1,))\n",
    "#     axes[1,i].hist(mr2[mr2>0].reshape(-1,))\n",
    "    \n",
    "# plt.show()"
   ]
  },
  {
   "cell_type": "markdown",
   "id": "f7d709b9",
   "metadata": {},
   "source": [
    "# Viz all worst"
   ]
  },
  {
   "cell_type": "code",
   "execution_count": null,
   "id": "58e656ff",
   "metadata": {},
   "outputs": [],
   "source": [
    "# #for n_worst in range(len(low_dice_idxs)):\n",
    "# for n_worst in range(len(low_dice_idxs)):\n",
    "#     idx = low_dice_idxs[n_worst]\n",
    "\n",
    "#     mr, mk       = get_input(idx)\n",
    "#     pred, target = predictions[idx], targets[idx].squeeze()\n",
    "\n",
    "#     dice = dice_score(pred.unsqueeze(0), target.unsqueeze(0).unsqueeze(0))\n",
    "    \n",
    "#     print(f\"Worst #{n_worst}. Dice {dice:.3f}\")\n",
    "#     print(f\"fn: {items[idx][0][len(data_src)+1:]}\")\n",
    "#     print(f\"*\"*100)\n",
    "    \n",
    "#     print(\"GT bbox and Pred bbox: \", gt_bboxs[idx], pred_bboxs[idx])\n",
    "\n",
    "#     viz_compare_outputs(mr, target, pred)"
   ]
  },
  {
   "cell_type": "code",
   "execution_count": null,
   "id": "20cb60de",
   "metadata": {},
   "outputs": [],
   "source": []
  },
  {
   "cell_type": "code",
   "execution_count": null,
   "id": "5a169cf8",
   "metadata": {},
   "outputs": [],
   "source": []
  },
  {
   "cell_type": "markdown",
   "id": "2817610f",
   "metadata": {},
   "source": [
    "# End"
   ]
  },
  {
   "cell_type": "code",
   "execution_count": null,
   "id": "e684dee6",
   "metadata": {},
   "outputs": [],
   "source": [
    "print(\"Done\")"
   ]
  },
  {
   "cell_type": "code",
   "execution_count": null,
   "id": "6af56359",
   "metadata": {},
   "outputs": [],
   "source": [
    "# import shutil\n",
    "# for i,fn in enumerate(model_fns):\n",
    "#     if os.path.isfile(f\"{fn}/post_lcc_df.pkl\"):\n",
    "#         print(i,fn)\n",
    "#         os.remove(f\"{fn}/post_lcc_df.pkl\")\n",
    "#         try:\n",
    "#             os.remove(f\"{fn}/pre_lcc_df.pkl\")\n",
    "#             os.remove(f\"{fn}/stats_df.pkl\")\n",
    "#         except:\n",
    "#             \"issue\""
   ]
  },
  {
   "cell_type": "code",
   "execution_count": null,
   "id": "96ce1daf",
   "metadata": {},
   "outputs": [],
   "source": [
    "#import shutil\n",
    "#print(os.path.isfile(f\"{model_fns[0]}/model.pth\"))\n",
    "#shutil.rmtree(model_fns[0])"
   ]
  },
  {
   "cell_type": "code",
   "execution_count": null,
   "id": "3d4ac469",
   "metadata": {},
   "outputs": [],
   "source": [
    "# import shutil\n",
    "# for i,fn in enumerate(model_fns):\n",
    "#     if not os.path.isfile(f\"{fn}/model.pth\"):\n",
    "#         print(i,fn)\n",
    "#         shutil.rmtree(fn)"
   ]
  },
  {
   "cell_type": "code",
   "execution_count": null,
   "id": "dff5225c",
   "metadata": {
    "scrolled": true
   },
   "outputs": [],
   "source": [
    "# for model_fn in model_fns:\n",
    "#     if os.path.isfile(f\"{model_fn}/post_lcc_df.pkl\"):\n",
    "#         print(model_fn)"
   ]
  },
  {
   "cell_type": "code",
   "execution_count": null,
   "id": "4ade0868",
   "metadata": {},
   "outputs": [],
   "source": []
  },
  {
   "cell_type": "markdown",
   "id": "1daca0fd",
   "metadata": {},
   "source": [
    "# Choices"
   ]
  },
  {
   "cell_type": "code",
   "execution_count": null,
   "id": "b0361050",
   "metadata": {},
   "outputs": [],
   "source": [
    "# from helpers.general            import get_param\n",
    "# from helpers.model_loss_choices import get_model, get_loss\n",
    "\n",
    "# model_fns = sorted(Path(run_src).iterdir(), key=os.path.getmtime, reverse=True)\n",
    "# todo = [str(model_fn) \n",
    "#         for model_fn in model_fns \n",
    "#         if not os.path.isfile(f\"{str(model_fn)}/post_lcc_df.pkl\") and \"Mon_Aug_02\" in str(model_fn)\n",
    "#        ]\n",
    "\n",
    "# print(\"TODO: \", len(todo))\n",
    "\n",
    "# # params\n",
    "# def get_param_default(name, prefix, suffix, default):\n",
    "#     try:\n",
    "#         return get_param(name, prefix, suffix)\n",
    "#     except:\n",
    "#         return default\n",
    "\n",
    "# for model_fn in todo:\n",
    "#     model_name = Path(model_fn).name\n",
    "\n",
    "#     model_type = get_param(model_name, \"model_\", \"_loss\")\n",
    "\n",
    "#     if \"loss_bs\" in model_name:\n",
    "#         loss_type  = get_param(model_name, \"loss_\", \"_bs\")\n",
    "#     else:\n",
    "#         loss_type  = get_param(model_name, \"loss_\", \"_full_res\")\n",
    "\n",
    "#     full_res   = get_param_default(model_name, \"full_res_\", \"_pixdim\", 96)\n",
    "#     pixdim     = get_param_default(model_name, \"pixdim_\", \"_do_simple\", 1.5)\n",
    "#     do_simple  = get_param_default(model_name, \"do_simple_\", \"_do_flip\", False)\n",
    "#     do_flip    = get_param_default(model_name, \"do_flip_\", \"_bs\", True)\n",
    "\n",
    "#     # tuple\n",
    "#     pixdim    = tuple(float(pixdim) for _ in range(3))\n",
    "#     full_res  = tuple(int(full_res) for _ in range(3))\n",
    "\n",
    "#     # bool\n",
    "#     do_flip   = do_flip == \"True\"\n",
    "#     do_simple = do_simple == \"True\"\n",
    "\n",
    "#     print(f\"Model Name: {model_name}\")\n",
    "#     print(f\"Model: {model_type}\")\n",
    "#     print(f\"Loss : {loss_type}\")\n",
    "#     print(f\"Pixd : {pixdim}\")\n",
    "#     print(f\"Fullres : {full_res}\")\n",
    "#     print(f\"Do flip: {do_flip}\")\n",
    "#     print(f\"Do simple: {do_simple}\")\n",
    "    \n",
    "#     print(\"*\"*50 + \"\\n\")"
   ]
  }
 ],
 "metadata": {
  "kernelspec": {
   "display_name": "Python 3",
   "language": "python",
   "name": "python3"
  },
  "language_info": {
   "codemirror_mode": {
    "name": "ipython",
    "version": 3
   },
   "file_extension": ".py",
   "mimetype": "text/x-python",
   "name": "python",
   "nbconvert_exporter": "python",
   "pygments_lexer": "ipython3",
   "version": "3.6.9"
  }
 },
 "nbformat": 4,
 "nbformat_minor": 5
}
