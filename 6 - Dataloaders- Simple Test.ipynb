{
 "cells": [
  {
   "cell_type": "markdown",
   "id": "unable-instruction",
   "metadata": {},
   "source": [
    "# Goal\n",
    "\n",
    "The goal of this notebook is to train a 3d UNET segmentation model to output binary mask representing the sella turcica ROI.\n",
    "\n",
    "Notes:\n",
    "- following https://github.com/kbressem/faimed3d/blob/main/examples/3d_segmentation.md"
   ]
  },
  {
   "cell_type": "code",
   "execution_count": 1,
   "id": "8e85fdb5",
   "metadata": {},
   "outputs": [],
   "source": [
    "# !which python"
   ]
  },
  {
   "cell_type": "code",
   "execution_count": 2,
   "id": "7fdc8497",
   "metadata": {},
   "outputs": [
    {
     "name": "stdout",
     "output_type": "stream",
     "text": [
      "3.7.4\n"
     ]
    }
   ],
   "source": [
    "from platform import python_version\n",
    "\n",
    "print(python_version())"
   ]
  },
  {
   "cell_type": "code",
   "execution_count": 3,
   "id": "6d0deed4",
   "metadata": {},
   "outputs": [
    {
     "name": "stdout",
     "output_type": "stream",
     "text": [
      "Device 0 : b'GeForce GTX 1080 Ti'\n",
      "Device 1 : b'GeForce GTX 1080'\n",
      "gpu: 0%, gpu-mem: 0%\n",
      "True\n"
     ]
    }
   ],
   "source": [
    "# Check GPU stats\n",
    "\n",
    "from pynvml import *\n",
    "nvmlInit()\n",
    "try:\n",
    "    deviceCount = nvmlDeviceGetCount()\n",
    "    for i in range(deviceCount):\n",
    "        handle = nvmlDeviceGetHandleByIndex(i)\n",
    "        print(\"Device\", i, \":\", nvmlDeviceGetName(handle))\n",
    "except NVMLError as error:\n",
    "    print(error)\n",
    "    \n",
    "# https://docs.fast.ai/dev/gpu.html\n",
    "import nvidia_smi\n",
    "\n",
    "nvidia_smi.nvmlInit()\n",
    "handle = nvidia_smi.nvmlDeviceGetHandleByIndex(0)\n",
    "# card id 0 hardcoded here, there is also a call to get all available card ids, so we could iterate\n",
    "\n",
    "res = nvidia_smi.nvmlDeviceGetUtilizationRates(handle)\n",
    "print(f'gpu: {res.gpu}%, gpu-mem: {res.memory}%')\n",
    "\n",
    "import torch\n",
    "print(torch.cuda.is_available() )\n",
    "torch.cuda.empty_cache()\n",
    "torch.cuda.set_device(0)"
   ]
  },
  {
   "cell_type": "code",
   "execution_count": 4,
   "id": "ebc81c59",
   "metadata": {},
   "outputs": [
    {
     "name": "stdout",
     "output_type": "stream",
     "text": [
      "['ABIDE', 'PPMI', 'ABVIB', 'samir_labels']\n",
      "['50155-50212', '50373-50453', '50002-50153', '50213-50312', '50313-50372']\n"
     ]
    }
   ],
   "source": [
    "# Get path to 4 TB HD\n",
    "\n",
    "# /media/labcomputer/e33f6fe0-5ede-4be4-b1f2-5168b7903c7a/home\n",
    "\n",
    "# wsl: /home/rgologorsky/DeepPit\n",
    "hd_path = \"../\" * 5 + \"/media/labcomputer/e33f6fe0-5ede-4be4-b1f2-5168b7903c7a\" + \"/home/\" + \"rachel/PitMRdata\"\n",
    "\n",
    "# all folders in HD\n",
    "all_folders = os.listdir(hd_path)\n",
    "\n",
    "print(all_folders)\n",
    "\n",
    "# labels\n",
    "print(os.listdir(f\"{hd_path}/samir_labels\"))"
   ]
  },
  {
   "cell_type": "code",
   "execution_count": 5,
   "id": "rough-climate",
   "metadata": {
    "scrolled": true
   },
   "outputs": [],
   "source": [
    "from faimed3d.all import *\n",
    "from fastai import *\n",
    "from torchvision.models.video import r3d_18\n",
    "from fastai.callback.all import SaveModelCallback\n",
    "from torch import nn\n",
    "\n",
    "import os\n",
    "import time\n",
    "import pickle\n",
    "from pathlib import Path\n",
    "\n",
    "import SimpleITK as sitk\n",
    "\n",
    "import numpy as np\n",
    "import pandas as pd\n",
    "from pandas import DataFrame as DF\n",
    "\n",
    "from helpers_preprocess import get_data_dict\n",
    "from helpers_general import sitk2np, print_sitk_info, round_tuple, lrange, lmap, get_roi_range, numbers2groups\n",
    "\n",
    "# imports\n",
    "from helpers_general import sitk2np, np2sitk, round_tuple, lrange, get_roi_range, numbers2groups\n",
    "from helpers_preprocess import mask2bbox, print_bbox, get_bbox_size, print_bbox_size, get_data_dict, folder2objs\n",
    "from helpers_viz import viz_axis"
   ]
  },
  {
   "cell_type": "code",
   "execution_count": 6,
   "id": "72985d9d",
   "metadata": {},
   "outputs": [],
   "source": [
    "train_path = f\"{hd_path}/samir_labels/50155-50212/\"\n",
    "data_dict_full = get_data_dict(train_path)"
   ]
  },
  {
   "cell_type": "code",
   "execution_count": 7,
   "id": "fc1aa061",
   "metadata": {},
   "outputs": [],
   "source": [
    "data_dict = {k:v for k,v in list(data_dict_full.items())[:6]}"
   ]
  },
  {
   "cell_type": "code",
   "execution_count": 10,
   "id": "c563ffbe",
   "metadata": {},
   "outputs": [
    {
     "name": "stdout",
     "output_type": "stream",
     "text": [
      "N = 6\n",
      "Train data folders: [range(50155, 50171), range(50182, 50212)]\n",
      "Training data: key = train folder, value = full path to (segm obj, nii file)\n",
      "\n",
      "Folder 50198:  \n",
      "\t 50198/Segmentation.obj \n",
      "\t 50198/MP-RAGE/2000-01-01_00_00_00.0/S164832/ABIDE_50198_MRI_MP-RAGE_br_raw_20120830184954222_S164832_I328842.nii \n",
      "\n",
      "Folder 50171:  \n",
      "\t 50171/Segmentation.obj \n",
      "\t 50171/MP-RAGE/2000-01-01_00_00_00.0/S165626/ABIDE_50171_MRI_MP-RAGE_br_raw_20120831121139312_S165626_I329670.nii \n",
      "\n",
      "Folder 50190:  \n",
      "\t 50190/Segmentation.obj \n",
      "\t 50190/MP-RAGE/2000-01-01_00_00_00.0/S165172/ABIDE_50190_MRI_MP-RAGE_br_raw_20120830213356334_S165172_I329182.nii \n",
      "\n",
      "Folder 50188:  \n",
      "\t 50188/Segmentation.obj \n",
      "\t 50188/MP-RAGE/2000-01-01_00_00_00.0/S164322/ABIDE_50188_MRI_MP-RAGE_br_raw_20120830150918614_S164322_I328316.nii \n",
      "\n",
      "Folder 50212:  \n",
      "\t 50212/Segmentation.obj \n",
      "\t 50212/MP-RAGE/2000-01-01_00_00_00.0/S164537/ABIDE_50212_MRI_MP-RAGE_br_raw_20120830164957961_S164537_I328540.nii \n",
      "\n"
     ]
    }
   ],
   "source": [
    "# n = # (img, mask) data points\n",
    "n = len(data_dict.keys())\n",
    "        \n",
    "# print train data dict\n",
    "print(f\"N = {n}\")\n",
    "print(f\"Train data folders: {numbers2groups(sorted([int(x) for x in os.listdir(train_path)]))}\")\n",
    "print(f\"Training data: key = train folder, value = full path to (segm obj, nii file)\\n\")\n",
    "\n",
    "for folder_name, (obj_path, nii_path) in list(data_dict.items())[:5]:\n",
    "    print(f\"Folder {folder_name}: \", \"\\n\\t\", obj_path[len(train_path):], \\\n",
    "                                      \"\\n\\t\", nii_path[len(train_path):], \"\\n\")"
   ]
  },
  {
   "cell_type": "code",
   "execution_count": 9,
   "id": "4b4e1390",
   "metadata": {},
   "outputs": [
    {
     "name": "stdout",
     "output_type": "stream",
     "text": [
      "   folder  \\\n",
      "0   50198   \n",
      "1   50171   \n",
      "2   50190   \n",
      "3   50188   \n",
      "4   50212   \n",
      "5   50200   \n",
      "6   50157   \n",
      "7   50196   \n",
      "8   50167   \n",
      "9   50193   \n",
      "10  50187   \n",
      "11  50161   \n",
      "12  50204   \n",
      "13  50211   \n",
      "14  50202   \n",
      "15  50183   \n",
      "16  50184   \n",
      "17  50192   \n",
      "18  50165   \n",
      "19  50208   \n",
      "20  50203   \n",
      "21  50194   \n",
      "22  50189   \n",
      "23  50201   \n",
      "24  50170   \n",
      "25  50209   \n",
      "26  50185   \n",
      "27  50205   \n",
      "28  50210   \n",
      "29  50168   \n",
      "30  50164   \n",
      "31  50195   \n",
      "32  50166   \n",
      "33  50155   \n",
      "34  50160   \n",
      "35  50159   \n",
      "36  50191   \n",
      "37  50162   \n",
      "38  50163   \n",
      "39  50207   \n",
      "40  50199   \n",
      "41  50186   \n",
      "42  50156   \n",
      "43  50158   \n",
      "44  50182   \n",
      "45  50206   \n",
      "46  50197   \n",
      "47  50169   \n",
      "\n",
      "                                                                                                                                                                                                                                        fn  \\\n",
      "0   ../../../../..//media/labcomputer/e33f6fe0-5ede-4be4-b1f2-5168b7903c7a/home/rachel/PitMRdata/samir_labels/50155-50212/50198/MP-RAGE/2000-01-01_00_00_00.0/S164832/ABIDE_50198_MRI_MP-RAGE_br_raw_20120830184954222_S164832_I328842.nii   \n",
      "1   ../../../../..//media/labcomputer/e33f6fe0-5ede-4be4-b1f2-5168b7903c7a/home/rachel/PitMRdata/samir_labels/50155-50212/50171/MP-RAGE/2000-01-01_00_00_00.0/S165626/ABIDE_50171_MRI_MP-RAGE_br_raw_20120831121139312_S165626_I329670.nii   \n",
      "2   ../../../../..//media/labcomputer/e33f6fe0-5ede-4be4-b1f2-5168b7903c7a/home/rachel/PitMRdata/samir_labels/50155-50212/50190/MP-RAGE/2000-01-01_00_00_00.0/S165172/ABIDE_50190_MRI_MP-RAGE_br_raw_20120830213356334_S165172_I329182.nii   \n",
      "3   ../../../../..//media/labcomputer/e33f6fe0-5ede-4be4-b1f2-5168b7903c7a/home/rachel/PitMRdata/samir_labels/50155-50212/50188/MP-RAGE/2000-01-01_00_00_00.0/S164322/ABIDE_50188_MRI_MP-RAGE_br_raw_20120830150918614_S164322_I328316.nii   \n",
      "4   ../../../../..//media/labcomputer/e33f6fe0-5ede-4be4-b1f2-5168b7903c7a/home/rachel/PitMRdata/samir_labels/50155-50212/50212/MP-RAGE/2000-01-01_00_00_00.0/S164537/ABIDE_50212_MRI_MP-RAGE_br_raw_20120830164957961_S164537_I328540.nii   \n",
      "5   ../../../../..//media/labcomputer/e33f6fe0-5ede-4be4-b1f2-5168b7903c7a/home/rachel/PitMRdata/samir_labels/50155-50212/50200/MP-RAGE/2000-01-01_00_00_00.0/S164572/ABIDE_50200_MRI_MP-RAGE_br_raw_20120830170910518_S164572_I328575.nii   \n",
      "6   ../../../../..//media/labcomputer/e33f6fe0-5ede-4be4-b1f2-5168b7903c7a/home/rachel/PitMRdata/samir_labels/50155-50212/50157/MP-RAGE/2000-01-01_00_00_00.0/S165692/ABIDE_50157_MRI_MP-RAGE_br_raw_20120831134225513_S165692_I329738.nii   \n",
      "7   ../../../../..//media/labcomputer/e33f6fe0-5ede-4be4-b1f2-5168b7903c7a/home/rachel/PitMRdata/samir_labels/50155-50212/50196/MP-RAGE/2000-01-01_00_00_00.0/S165169/ABIDE_50196_MRI_MP-RAGE_br_raw_20120830213209509_S165169_I329179.nii   \n",
      "8   ../../../../..//media/labcomputer/e33f6fe0-5ede-4be4-b1f2-5168b7903c7a/home/rachel/PitMRdata/samir_labels/50155-50212/50167/MP-RAGE/2000-01-01_00_00_00.0/S165708/ABIDE_50167_MRI_MP-RAGE_br_raw_20120831140522566_S165708_I329754.nii   \n",
      "9   ../../../../..//media/labcomputer/e33f6fe0-5ede-4be4-b1f2-5168b7903c7a/home/rachel/PitMRdata/samir_labels/50155-50212/50193/MP-RAGE/2000-01-01_00_00_00.0/S164730/ABIDE_50193_MRI_MP-RAGE_br_raw_20120830181246062_S164730_I328740.nii   \n",
      "10  ../../../../..//media/labcomputer/e33f6fe0-5ede-4be4-b1f2-5168b7903c7a/home/rachel/PitMRdata/samir_labels/50155-50212/50187/MP-RAGE/2000-01-01_00_00_00.0/S165254/ABIDE_50187_MRI_MP-RAGE_br_raw_20120830221631775_S165254_I329264.nii   \n",
      "11  ../../../../..//media/labcomputer/e33f6fe0-5ede-4be4-b1f2-5168b7903c7a/home/rachel/PitMRdata/samir_labels/50155-50212/50161/MP-RAGE/2000-01-01_00_00_00.0/S165725/ABIDE_50161_MRI_MP-RAGE_br_raw_20120831142952046_S165725_I329771.nii   \n",
      "12  ../../../../..//media/labcomputer/e33f6fe0-5ede-4be4-b1f2-5168b7903c7a/home/rachel/PitMRdata/samir_labels/50155-50212/50204/MP-RAGE/2000-01-01_00_00_00.0/S164377/ABIDE_50204_MRI_MP-RAGE_br_raw_20120830153334668_S164377_I328371.nii   \n",
      "13  ../../../../..//media/labcomputer/e33f6fe0-5ede-4be4-b1f2-5168b7903c7a/home/rachel/PitMRdata/samir_labels/50155-50212/50211/MP-RAGE/2000-01-01_00_00_00.0/S165063/ABIDE_50211_MRI_MP-RAGE_br_raw_20120830202536195_S165063_I329073.nii   \n",
      "14  ../../../../..//media/labcomputer/e33f6fe0-5ede-4be4-b1f2-5168b7903c7a/home/rachel/PitMRdata/samir_labels/50155-50212/50202/MP-RAGE/2000-01-01_00_00_00.0/S164449/ABIDE_50202_MRI_MP-RAGE_br_raw_20120830160931707_S164449_I328446.nii   \n",
      "15  ../../../../..//media/labcomputer/e33f6fe0-5ede-4be4-b1f2-5168b7903c7a/home/rachel/PitMRdata/samir_labels/50155-50212/50183/MP-RAGE/2000-01-01_00_00_00.0/S164970/ABIDE_50183_MRI_MP-RAGE_br_raw_20120830194056353_S164970_I328980.nii   \n",
      "16  ../../../../..//media/labcomputer/e33f6fe0-5ede-4be4-b1f2-5168b7903c7a/home/rachel/PitMRdata/samir_labels/50155-50212/50184/MP-RAGE/2000-01-01_00_00_00.0/S165064/ABIDE_50184_MRI_MP-RAGE_br_raw_20120830202608233_S165064_I329074.nii   \n",
      "17  ../../../../..//media/labcomputer/e33f6fe0-5ede-4be4-b1f2-5168b7903c7a/home/rachel/PitMRdata/samir_labels/50155-50212/50192/MP-RAGE/2000-01-01_00_00_00.0/S165275/ABIDE_50192_MRI_MP-RAGE_br_raw_20120830222758994_S165275_I329285.nii   \n",
      "18  ../../../../..//media/labcomputer/e33f6fe0-5ede-4be4-b1f2-5168b7903c7a/home/rachel/PitMRdata/samir_labels/50155-50212/50165/MP-RAGE/2000-01-01_00_00_00.0/S165631/ABIDE_50165_MRI_MP-RAGE_br_raw_20120831123027927_S165631_I329675.nii   \n",
      "19  ../../../../..//media/labcomputer/e33f6fe0-5ede-4be4-b1f2-5168b7903c7a/home/rachel/PitMRdata/samir_labels/50155-50212/50208/MP-RAGE/2000-01-01_00_00_00.0/S164924/ABIDE_50208_MRI_MP-RAGE_br_raw_20120830192311510_S164924_I328934.nii   \n",
      "20  ../../../../..//media/labcomputer/e33f6fe0-5ede-4be4-b1f2-5168b7903c7a/home/rachel/PitMRdata/samir_labels/50155-50212/50203/MP-RAGE/2000-01-01_00_00_00.0/S164845/ABIDE_50203_MRI_MP-RAGE_br_raw_20120830185442225_S164845_I328855.nii   \n",
      "21  ../../../../..//media/labcomputer/e33f6fe0-5ede-4be4-b1f2-5168b7903c7a/home/rachel/PitMRdata/samir_labels/50155-50212/50194/MP-RAGE/2000-01-01_00_00_00.0/S164554/ABIDE_50194_MRI_MP-RAGE_br_raw_20120830165919927_S164554_I328557.nii   \n",
      "22  ../../../../..//media/labcomputer/e33f6fe0-5ede-4be4-b1f2-5168b7903c7a/home/rachel/PitMRdata/samir_labels/50155-50212/50189/MP-RAGE/2000-01-01_00_00_00.0/S165202/ABIDE_50189_MRI_MP-RAGE_br_raw_20120830215035795_S165202_I329212.nii   \n",
      "23  ../../../../..//media/labcomputer/e33f6fe0-5ede-4be4-b1f2-5168b7903c7a/home/rachel/PitMRdata/samir_labels/50155-50212/50201/MP-RAGE/2000-01-01_00_00_00.0/S164577/ABIDE_50201_MRI_MP-RAGE_br_raw_20120830171150028_S164577_I328580.nii   \n",
      "24  ../../../../..//media/labcomputer/e33f6fe0-5ede-4be4-b1f2-5168b7903c7a/home/rachel/PitMRdata/samir_labels/50155-50212/50170/MP-RAGE/2000-01-01_00_00_00.0/S165668/ABIDE_50170_MRI_MP-RAGE_br_raw_20120831131427238_S165668_I329714.nii   \n",
      "25  ../../../../..//media/labcomputer/e33f6fe0-5ede-4be4-b1f2-5168b7903c7a/home/rachel/PitMRdata/samir_labels/50155-50212/50209/MP-RAGE/2000-01-01_00_00_00.0/S165423/ABIDE_50209_MRI_MP-RAGE_br_raw_20120830234817530_S165423_I329433.nii   \n",
      "26  ../../../../..//media/labcomputer/e33f6fe0-5ede-4be4-b1f2-5168b7903c7a/home/rachel/PitMRdata/samir_labels/50155-50212/50185/MP-RAGE/2000-01-01_00_00_00.0/S165092/ABIDE_50185_MRI_MP-RAGE_br_raw_20120830204128165_S165092_I329102.nii   \n",
      "27  ../../../../..//media/labcomputer/e33f6fe0-5ede-4be4-b1f2-5168b7903c7a/home/rachel/PitMRdata/samir_labels/50155-50212/50205/MP-RAGE/2000-01-01_00_00_00.0/S164865/ABIDE_50205_MRI_MP-RAGE_br_raw_20120830190202796_S164865_I328875.nii   \n",
      "28  ../../../../..//media/labcomputer/e33f6fe0-5ede-4be4-b1f2-5168b7903c7a/home/rachel/PitMRdata/samir_labels/50155-50212/50210/MP-RAGE/2000-01-01_00_00_00.0/S164672/ABIDE_50210_MRI_MP-RAGE_br_raw_20120830175144145_S164672_I328682.nii   \n",
      "29  ../../../../..//media/labcomputer/e33f6fe0-5ede-4be4-b1f2-5168b7903c7a/home/rachel/PitMRdata/samir_labels/50155-50212/50168/MP-RAGE/2000-01-01_00_00_00.0/S165679/ABIDE_50168_MRI_MP-RAGE_br_raw_20120831132734967_S165679_I329725.nii   \n",
      "30  ../../../../..//media/labcomputer/e33f6fe0-5ede-4be4-b1f2-5168b7903c7a/home/rachel/PitMRdata/samir_labels/50155-50212/50164/MP-RAGE/2000-01-01_00_00_00.0/S165632/ABIDE_50164_MRI_MP-RAGE_br_raw_20120831123146452_S165632_I329676.nii   \n",
      "31  ../../../../..//media/labcomputer/e33f6fe0-5ede-4be4-b1f2-5168b7903c7a/home/rachel/PitMRdata/samir_labels/50155-50212/50195/MP-RAGE/2000-01-01_00_00_00.0/S164734/ABIDE_50195_MRI_MP-RAGE_br_raw_20120830181423530_S164734_I328744.nii   \n",
      "32  ../../../../..//media/labcomputer/e33f6fe0-5ede-4be4-b1f2-5168b7903c7a/home/rachel/PitMRdata/samir_labels/50155-50212/50166/MP-RAGE/2000-01-01_00_00_00.0/S165667/ABIDE_50166_MRI_MP-RAGE_br_raw_20120831131309137_S165667_I329713.nii   \n",
      "33  ../../../../..//media/labcomputer/e33f6fe0-5ede-4be4-b1f2-5168b7903c7a/home/rachel/PitMRdata/samir_labels/50155-50212/50155/MP-RAGE/2000-01-01_00_00_00.0/S165721/ABIDE_50155_MRI_MP-RAGE_br_raw_20120831142426433_S165721_I329767.nii   \n",
      "34  ../../../../..//media/labcomputer/e33f6fe0-5ede-4be4-b1f2-5168b7903c7a/home/rachel/PitMRdata/samir_labels/50155-50212/50160/MP-RAGE/2000-01-01_00_00_00.0/S165701/ABIDE_50160_MRI_MP-RAGE_br_raw_20120831135512895_S165701_I329747.nii   \n",
      "35  ../../../../..//media/labcomputer/e33f6fe0-5ede-4be4-b1f2-5168b7903c7a/home/rachel/PitMRdata/samir_labels/50155-50212/50159/MP-RAGE/2000-01-01_00_00_00.0/S165654/ABIDE_50159_MRI_MP-RAGE_br_raw_20120831130353762_S165654_I329698.nii   \n",
      "36  ../../../../..//media/labcomputer/e33f6fe0-5ede-4be4-b1f2-5168b7903c7a/home/rachel/PitMRdata/samir_labels/50155-50212/50191/MP-RAGE/2000-01-01_00_00_00.0/S164490/ABIDE_50191_MRI_MP-RAGE_br_raw_20120830162833375_S164490_I328490.nii   \n",
      "37  ../../../../..//media/labcomputer/e33f6fe0-5ede-4be4-b1f2-5168b7903c7a/home/rachel/PitMRdata/samir_labels/50155-50212/50162/MP-RAGE/2000-01-01_00_00_00.0/S165674/ABIDE_50162_MRI_MP-RAGE_br_raw_20120831132317159_S165674_I329720.nii   \n",
      "38  ../../../../..//media/labcomputer/e33f6fe0-5ede-4be4-b1f2-5168b7903c7a/home/rachel/PitMRdata/samir_labels/50155-50212/50163/MP-RAGE/2000-01-01_00_00_00.0/S165639/ABIDE_50163_MRI_MP-RAGE_br_raw_20120831124209994_S165639_I329683.nii   \n",
      "39  ../../../../..//media/labcomputer/e33f6fe0-5ede-4be4-b1f2-5168b7903c7a/home/rachel/PitMRdata/samir_labels/50155-50212/50207/MP-RAGE/2000-01-01_00_00_00.0/S165281/ABIDE_50207_MRI_MP-RAGE_br_raw_20120830223113166_S165281_I329291.nii   \n",
      "40  ../../../../..//media/labcomputer/e33f6fe0-5ede-4be4-b1f2-5168b7903c7a/home/rachel/PitMRdata/samir_labels/50155-50212/50199/MP-RAGE/2000-01-01_00_00_00.0/S164836/ABIDE_50199_MRI_MP-RAGE_br_raw_20120830185130309_S164836_I328846.nii   \n",
      "41  ../../../../..//media/labcomputer/e33f6fe0-5ede-4be4-b1f2-5168b7903c7a/home/rachel/PitMRdata/samir_labels/50155-50212/50186/MP-RAGE/2000-01-01_00_00_00.0/S165425/ABIDE_50186_MRI_MP-RAGE_br_raw_20120830235123203_S165425_I329435.nii   \n",
      "42  ../../../../..//media/labcomputer/e33f6fe0-5ede-4be4-b1f2-5168b7903c7a/home/rachel/PitMRdata/samir_labels/50155-50212/50156/MP-RAGE/2000-01-01_00_00_00.0/S165644/ABIDE_50156_MRI_MP-RAGE_br_raw_20120831124927821_S165644_I329688.nii   \n",
      "43  ../../../../..//media/labcomputer/e33f6fe0-5ede-4be4-b1f2-5168b7903c7a/home/rachel/PitMRdata/samir_labels/50155-50212/50158/MP-RAGE/2000-01-01_00_00_00.0/S165723/ABIDE_50158_MRI_MP-RAGE_br_raw_20120831142716303_S165723_I329769.nii   \n",
      "44  ../../../../..//media/labcomputer/e33f6fe0-5ede-4be4-b1f2-5168b7903c7a/home/rachel/PitMRdata/samir_labels/50155-50212/50182/MP-RAGE/2000-01-01_00_00_00.0/S164570/ABIDE_50182_MRI_MP-RAGE_br_raw_20120830170756014_S164570_I328573.nii   \n",
      "45  ../../../../..//media/labcomputer/e33f6fe0-5ede-4be4-b1f2-5168b7903c7a/home/rachel/PitMRdata/samir_labels/50155-50212/50206/MP-RAGE/2000-01-01_00_00_00.0/S164415/ABIDE_50206_MRI_MP-RAGE_br_raw_20120830155412802_S164415_I328409.nii   \n",
      "46  ../../../../..//media/labcomputer/e33f6fe0-5ede-4be4-b1f2-5168b7903c7a/home/rachel/PitMRdata/samir_labels/50155-50212/50197/MP-RAGE/2000-01-01_00_00_00.0/S165318/ABIDE_50197_MRI_MP-RAGE_br_raw_20120830225131603_S165318_I329328.nii   \n",
      "47  ../../../../..//media/labcomputer/e33f6fe0-5ede-4be4-b1f2-5168b7903c7a/home/rachel/PitMRdata/samir_labels/50155-50212/50169/MP-RAGE/2000-01-01_00_00_00.0/S165727/ABIDE_50169_MRI_MP-RAGE_br_raw_20120831143241228_S165727_I329773.nii   \n",
      "\n",
      "   imputedSeq               sz                     px               sp  \\\n",
      "0         MPR  (172, 256, 256)  16-bit signed integer  (1.0, 1.0, 1.0)   \n",
      "1         MPR  (160, 239, 200)  16-bit signed integer  (1.1, 1.0, 1.0)   \n",
      "2         MPR  (172, 256, 256)  16-bit signed integer  (1.0, 1.0, 1.0)   \n",
      "3         MPR  (172, 256, 256)  16-bit signed integer  (1.0, 1.0, 1.0)   \n",
      "4         MPR  (172, 256, 256)  16-bit signed integer  (1.0, 1.0, 1.0)   \n",
      "5         MPR  (172, 256, 256)  16-bit signed integer  (1.0, 1.0, 1.0)   \n",
      "6         MPR  (160, 239, 200)  16-bit signed integer  (1.1, 1.0, 1.0)   \n",
      "7         MPR  (172, 256, 256)  16-bit signed integer  (1.0, 1.0, 1.0)   \n",
      "8         MPR  (160, 239, 200)  16-bit signed integer  (1.1, 1.0, 1.0)   \n",
      "9         MPR  (172, 256, 256)  16-bit signed integer  (1.0, 1.0, 1.0)   \n",
      "10        MPR  (172, 256, 256)  16-bit signed integer  (1.0, 1.0, 1.0)   \n",
      "11        MPR  (160, 239, 200)  16-bit signed integer  (1.1, 1.0, 1.0)   \n",
      "12        MPR  (172, 256, 256)  16-bit signed integer  (1.0, 1.0, 1.0)   \n",
      "13        MPR  (172, 256, 256)  16-bit signed integer  (1.0, 1.0, 1.0)   \n",
      "14        MPR  (172, 256, 256)  16-bit signed integer  (1.0, 1.0, 1.0)   \n",
      "15        MPR  (172, 256, 256)  16-bit signed integer  (1.0, 1.0, 1.0)   \n",
      "16        MPR  (172, 256, 256)  16-bit signed integer  (1.0, 1.0, 1.0)   \n",
      "17        MPR  (172, 256, 256)  16-bit signed integer  (1.0, 1.0, 1.0)   \n",
      "18        MPR  (160, 239, 200)  16-bit signed integer  (1.1, 1.0, 1.0)   \n",
      "19        MPR  (172, 256, 256)  16-bit signed integer  (1.0, 1.0, 1.0)   \n",
      "20        MPR  (172, 256, 256)  16-bit signed integer  (1.0, 1.0, 1.0)   \n",
      "21        MPR  (172, 256, 256)  16-bit signed integer  (1.0, 1.0, 1.0)   \n",
      "22        MPR  (172, 256, 256)  16-bit signed integer  (1.0, 1.0, 1.0)   \n",
      "23        MPR  (172, 256, 256)  16-bit signed integer  (1.0, 1.0, 1.0)   \n",
      "24        MPR  (160, 239, 200)  16-bit signed integer  (1.1, 1.0, 1.0)   \n",
      "25        MPR  (172, 256, 256)  16-bit signed integer  (1.0, 1.0, 1.0)   \n",
      "26        MPR  (172, 256, 256)  16-bit signed integer  (1.0, 1.0, 1.0)   \n",
      "27        MPR  (172, 256, 256)  16-bit signed integer  (1.0, 1.0, 1.0)   \n",
      "28        MPR  (172, 256, 256)  16-bit signed integer  (1.0, 1.0, 1.0)   \n",
      "29        MPR  (160, 239, 200)  16-bit signed integer  (1.1, 1.0, 1.0)   \n",
      "30        MPR  (160, 239, 200)  16-bit signed integer  (1.1, 1.0, 1.0)   \n",
      "31        MPR  (172, 256, 256)  16-bit signed integer  (1.0, 1.0, 1.0)   \n",
      "32        MPR  (160, 239, 200)  16-bit signed integer  (1.1, 1.0, 1.0)   \n",
      "33        MPR  (160, 239, 189)  16-bit signed integer  (1.1, 1.0, 1.0)   \n",
      "34        MPR  (160, 239, 200)  16-bit signed integer  (1.1, 1.0, 1.0)   \n",
      "35        MPR  (160, 239, 200)  16-bit signed integer  (1.1, 1.0, 1.0)   \n",
      "36        MPR  (172, 256, 256)  16-bit signed integer  (1.0, 1.0, 1.0)   \n",
      "37        MPR  (160, 239, 200)  16-bit signed integer  (1.1, 1.0, 1.0)   \n",
      "38        MPR  (160, 239, 200)  16-bit signed integer  (1.1, 1.0, 1.0)   \n",
      "39        MPR  (172, 256, 256)  16-bit signed integer  (1.0, 1.0, 1.0)   \n",
      "40        MPR  (172, 256, 256)  16-bit signed integer  (1.0, 1.0, 1.0)   \n",
      "41        MPR  (172, 256, 256)  16-bit signed integer  (1.0, 1.0, 1.0)   \n",
      "42        MPR  (160, 239, 200)  16-bit signed integer  (1.1, 1.0, 1.0)   \n",
      "43        MPR  (160, 239, 200)  16-bit signed integer  (1.1, 1.0, 1.0)   \n",
      "44        MPR  (172, 256, 256)  16-bit signed integer  (1.0, 1.0, 1.0)   \n",
      "45        MPR  (172, 256, 256)  16-bit signed integer  (1.0, 1.0, 1.0)   \n",
      "46        MPR  (172, 256, 256)  16-bit signed integer  (1.0, 1.0, 1.0)   \n",
      "47        MPR  (160, 239, 200)  16-bit signed integer  (1.1, 1.0, 1.0)   \n",
      "\n",
      "                             dir  \n",
      "0   (1, 0, 0, 0, -1, 0, 0, 0, 1)  \n",
      "1   (1, 0, 0, 0, -1, 0, 0, 0, 1)  \n",
      "2   (1, 0, 0, 0, -1, 0, 0, 0, 1)  \n",
      "3   (1, 0, 0, 0, -1, 0, 0, 0, 1)  \n",
      "4   (1, 0, 0, 0, -1, 0, 0, 0, 1)  \n",
      "5   (1, 0, 0, 0, -1, 0, 0, 0, 1)  \n",
      "6   (1, 0, 0, 0, -1, 0, 0, 0, 1)  \n",
      "7   (1, 0, 0, 0, -1, 0, 0, 0, 1)  \n",
      "8   (1, 0, 0, 0, -1, 0, 0, 0, 1)  \n",
      "9   (1, 0, 0, 0, -1, 0, 0, 0, 1)  \n",
      "10  (1, 0, 0, 0, -1, 0, 0, 0, 1)  \n",
      "11  (1, 0, 0, 0, -1, 0, 0, 0, 1)  \n",
      "12  (1, 0, 0, 0, -1, 0, 0, 0, 1)  \n",
      "13  (1, 0, 0, 0, -1, 0, 0, 0, 1)  \n",
      "14  (1, 0, 0, 0, -1, 0, 0, 0, 1)  \n",
      "15  (1, 0, 0, 0, -1, 0, 0, 0, 1)  \n",
      "16  (1, 0, 0, 0, -1, 0, 0, 0, 1)  \n",
      "17  (1, 0, 0, 0, -1, 0, 0, 0, 1)  \n",
      "18  (1, 0, 0, 0, -1, 0, 0, 0, 1)  \n",
      "19  (1, 0, 0, 0, -1, 0, 0, 0, 1)  \n",
      "20  (1, 0, 0, 0, -1, 0, 0, 0, 1)  \n",
      "21  (1, 0, 0, 0, -1, 0, 0, 0, 1)  \n",
      "22  (1, 0, 0, 0, -1, 0, 0, 0, 1)  \n",
      "23  (1, 0, 0, 0, -1, 0, 0, 0, 1)  \n",
      "24  (1, 0, 0, 0, -1, 0, 0, 0, 1)  \n",
      "25  (1, 0, 0, 0, -1, 0, 0, 0, 1)  \n",
      "26  (1, 0, 0, 0, -1, 0, 0, 0, 1)  \n",
      "27  (1, 0, 0, 0, -1, 0, 0, 0, 1)  \n",
      "28  (1, 0, 0, 0, -1, 0, 0, 0, 1)  \n",
      "29  (1, 0, 0, 0, -1, 0, 0, 0, 1)  \n",
      "30  (1, 0, 0, 0, -1, 0, 0, 0, 1)  \n",
      "31  (1, 0, 0, 0, -1, 0, 0, 0, 1)  \n",
      "32  (1, 0, 0, 0, -1, 0, 0, 0, 1)  \n",
      "33  (1, 0, 0, 0, -1, 0, 0, 0, 1)  \n",
      "34  (1, 0, 0, 0, -1, 0, 0, 0, 1)  \n",
      "35  (1, 0, 0, 0, -1, 0, 0, 0, 1)  \n",
      "36  (1, 0, 0, 0, -1, 0, 0, 0, 1)  \n",
      "37  (1, 0, 0, 0, -1, 0, 0, 0, 1)  \n",
      "38  (1, 0, 0, 0, -1, 0, 0, 0, 1)  \n",
      "39  (1, 0, 0, 0, -1, 0, 0, 0, 1)  \n",
      "40  (1, 0, 0, 0, -1, 0, 0, 0, 1)  \n",
      "41  (1, 0, 0, 0, -1, 0, 0, 0, 1)  \n",
      "42  (1, 0, 0, 0, -1, 0, 0, 0, 1)  \n",
      "43  (1, 0, 0, 0, -1, 0, 0, 0, 1)  \n",
      "44  (1, 0, 0, 0, -1, 0, 0, 0, 1)  \n",
      "45  (1, 0, 0, 0, -1, 0, 0, 0, 1)  \n",
      "46  (1, 0, 0, 0, -1, 0, 0, 0, 1)  \n",
      "47  (1, 0, 0, 0, -1, 0, 0, 0, 1)  \n"
     ]
    }
   ],
   "source": [
    "info_df = pd.read_pickle(\"./50155-50212.pkl\")\n",
    "print(info_df)"
   ]
  },
  {
   "cell_type": "code",
   "execution_count": 14,
   "id": "8137136b",
   "metadata": {},
   "outputs": [],
   "source": [
    "# Reference frame:  [191, 268, 268] 2 [0. 0. 0.] [1. 1. 1.] [1. 0. 0. 0. 1. 0. 0. 0. 1.] [ 95.5 134.  134. ]\n",
    "# Reference center:  [ 95.5 134.  134. ]"
   ]
  },
  {
   "cell_type": "code",
   "execution_count": 15,
   "id": "unable-feelings",
   "metadata": {},
   "outputs": [
    {
     "data": {
      "text/html": [
       "<div>\n",
       "<style scoped>\n",
       "    .dataframe tbody tr th:only-of-type {\n",
       "        vertical-align: middle;\n",
       "    }\n",
       "\n",
       "    .dataframe tbody tr th {\n",
       "        vertical-align: top;\n",
       "    }\n",
       "\n",
       "    .dataframe thead th {\n",
       "        text-align: right;\n",
       "    }\n",
       "</style>\n",
       "<table border=\"1\" class=\"dataframe\">\n",
       "  <thead>\n",
       "    <tr style=\"text-align: right;\">\n",
       "      <th></th>\n",
       "      <th>masks</th>\n",
       "      <th>images</th>\n",
       "    </tr>\n",
       "  </thead>\n",
       "  <tbody>\n",
       "    <tr>\n",
       "      <th>0</th>\n",
       "      <td>../../../../..//media/labcomputer/e33f6fe0-5ede-4be4-b1f2-5168b7903c7a/home/rachel/PitMRdata/samir_labels/50155-50212/50198/Segmentation.obj</td>\n",
       "      <td>../../../../..//media/labcomputer/e33f6fe0-5ede-4be4-b1f2-5168b7903c7a/home/rachel/PitMRdata/samir_labels/50155-50212/50198/MP-RAGE/2000-01-01_00_00_00.0/S164832/ABIDE_50198_MRI_MP-RAGE_br_raw_20120830184954222_S164832_I328842.nii</td>\n",
       "    </tr>\n",
       "    <tr>\n",
       "      <th>1</th>\n",
       "      <td>../../../../..//media/labcomputer/e33f6fe0-5ede-4be4-b1f2-5168b7903c7a/home/rachel/PitMRdata/samir_labels/50155-50212/50171/Segmentation.obj</td>\n",
       "      <td>../../../../..//media/labcomputer/e33f6fe0-5ede-4be4-b1f2-5168b7903c7a/home/rachel/PitMRdata/samir_labels/50155-50212/50171/MP-RAGE/2000-01-01_00_00_00.0/S165626/ABIDE_50171_MRI_MP-RAGE_br_raw_20120831121139312_S165626_I329670.nii</td>\n",
       "    </tr>\n",
       "    <tr>\n",
       "      <th>2</th>\n",
       "      <td>../../../../..//media/labcomputer/e33f6fe0-5ede-4be4-b1f2-5168b7903c7a/home/rachel/PitMRdata/samir_labels/50155-50212/50190/Segmentation.obj</td>\n",
       "      <td>../../../../..//media/labcomputer/e33f6fe0-5ede-4be4-b1f2-5168b7903c7a/home/rachel/PitMRdata/samir_labels/50155-50212/50190/MP-RAGE/2000-01-01_00_00_00.0/S165172/ABIDE_50190_MRI_MP-RAGE_br_raw_20120830213356334_S165172_I329182.nii</td>\n",
       "    </tr>\n",
       "    <tr>\n",
       "      <th>3</th>\n",
       "      <td>../../../../..//media/labcomputer/e33f6fe0-5ede-4be4-b1f2-5168b7903c7a/home/rachel/PitMRdata/samir_labels/50155-50212/50188/Segmentation.obj</td>\n",
       "      <td>../../../../..//media/labcomputer/e33f6fe0-5ede-4be4-b1f2-5168b7903c7a/home/rachel/PitMRdata/samir_labels/50155-50212/50188/MP-RAGE/2000-01-01_00_00_00.0/S164322/ABIDE_50188_MRI_MP-RAGE_br_raw_20120830150918614_S164322_I328316.nii</td>\n",
       "    </tr>\n",
       "    <tr>\n",
       "      <th>4</th>\n",
       "      <td>../../../../..//media/labcomputer/e33f6fe0-5ede-4be4-b1f2-5168b7903c7a/home/rachel/PitMRdata/samir_labels/50155-50212/50212/Segmentation.obj</td>\n",
       "      <td>../../../../..//media/labcomputer/e33f6fe0-5ede-4be4-b1f2-5168b7903c7a/home/rachel/PitMRdata/samir_labels/50155-50212/50212/MP-RAGE/2000-01-01_00_00_00.0/S164537/ABIDE_50212_MRI_MP-RAGE_br_raw_20120830164957961_S164537_I328540.nii</td>\n",
       "    </tr>\n",
       "    <tr>\n",
       "      <th>5</th>\n",
       "      <td>../../../../..//media/labcomputer/e33f6fe0-5ede-4be4-b1f2-5168b7903c7a/home/rachel/PitMRdata/samir_labels/50155-50212/50200/Segmentation.obj</td>\n",
       "      <td>../../../../..//media/labcomputer/e33f6fe0-5ede-4be4-b1f2-5168b7903c7a/home/rachel/PitMRdata/samir_labels/50155-50212/50200/MP-RAGE/2000-01-01_00_00_00.0/S164572/ABIDE_50200_MRI_MP-RAGE_br_raw_20120830170910518_S164572_I328575.nii</td>\n",
       "    </tr>\n",
       "  </tbody>\n",
       "</table>\n",
       "</div>"
      ],
      "text/plain": [
       "                                                                                                                                          masks  \\\n",
       "0  ../../../../..//media/labcomputer/e33f6fe0-5ede-4be4-b1f2-5168b7903c7a/home/rachel/PitMRdata/samir_labels/50155-50212/50198/Segmentation.obj   \n",
       "1  ../../../../..//media/labcomputer/e33f6fe0-5ede-4be4-b1f2-5168b7903c7a/home/rachel/PitMRdata/samir_labels/50155-50212/50171/Segmentation.obj   \n",
       "2  ../../../../..//media/labcomputer/e33f6fe0-5ede-4be4-b1f2-5168b7903c7a/home/rachel/PitMRdata/samir_labels/50155-50212/50190/Segmentation.obj   \n",
       "3  ../../../../..//media/labcomputer/e33f6fe0-5ede-4be4-b1f2-5168b7903c7a/home/rachel/PitMRdata/samir_labels/50155-50212/50188/Segmentation.obj   \n",
       "4  ../../../../..//media/labcomputer/e33f6fe0-5ede-4be4-b1f2-5168b7903c7a/home/rachel/PitMRdata/samir_labels/50155-50212/50212/Segmentation.obj   \n",
       "5  ../../../../..//media/labcomputer/e33f6fe0-5ede-4be4-b1f2-5168b7903c7a/home/rachel/PitMRdata/samir_labels/50155-50212/50200/Segmentation.obj   \n",
       "\n",
       "                                                                                                                                                                                                                                   images  \n",
       "0  ../../../../..//media/labcomputer/e33f6fe0-5ede-4be4-b1f2-5168b7903c7a/home/rachel/PitMRdata/samir_labels/50155-50212/50198/MP-RAGE/2000-01-01_00_00_00.0/S164832/ABIDE_50198_MRI_MP-RAGE_br_raw_20120830184954222_S164832_I328842.nii  \n",
       "1  ../../../../..//media/labcomputer/e33f6fe0-5ede-4be4-b1f2-5168b7903c7a/home/rachel/PitMRdata/samir_labels/50155-50212/50171/MP-RAGE/2000-01-01_00_00_00.0/S165626/ABIDE_50171_MRI_MP-RAGE_br_raw_20120831121139312_S165626_I329670.nii  \n",
       "2  ../../../../..//media/labcomputer/e33f6fe0-5ede-4be4-b1f2-5168b7903c7a/home/rachel/PitMRdata/samir_labels/50155-50212/50190/MP-RAGE/2000-01-01_00_00_00.0/S165172/ABIDE_50190_MRI_MP-RAGE_br_raw_20120830213356334_S165172_I329182.nii  \n",
       "3  ../../../../..//media/labcomputer/e33f6fe0-5ede-4be4-b1f2-5168b7903c7a/home/rachel/PitMRdata/samir_labels/50155-50212/50188/MP-RAGE/2000-01-01_00_00_00.0/S164322/ABIDE_50188_MRI_MP-RAGE_br_raw_20120830150918614_S164322_I328316.nii  \n",
       "4  ../../../../..//media/labcomputer/e33f6fe0-5ede-4be4-b1f2-5168b7903c7a/home/rachel/PitMRdata/samir_labels/50155-50212/50212/MP-RAGE/2000-01-01_00_00_00.0/S164537/ABIDE_50212_MRI_MP-RAGE_br_raw_20120830164957961_S164537_I328540.nii  \n",
       "5  ../../../../..//media/labcomputer/e33f6fe0-5ede-4be4-b1f2-5168b7903c7a/home/rachel/PitMRdata/samir_labels/50155-50212/50200/MP-RAGE/2000-01-01_00_00_00.0/S164572/ABIDE_50200_MRI_MP-RAGE_br_raw_20120830170910518_S164572_I328575.nii  "
      ]
     },
     "execution_count": 15,
     "metadata": {},
     "output_type": "execute_result"
    }
   ],
   "source": [
    "d = pd.DataFrame(data_dict.values(), columns = [\"masks\", \"images\"])\n",
    "print(d)"
   ]
  },
  {
   "cell_type": "code",
   "execution_count": 16,
   "id": "impressive-strand",
   "metadata": {},
   "outputs": [
    {
     "data": {
      "text/html": [
       "<div>\n",
       "<style scoped>\n",
       "    .dataframe tbody tr th:only-of-type {\n",
       "        vertical-align: middle;\n",
       "    }\n",
       "\n",
       "    .dataframe tbody tr th {\n",
       "        vertical-align: top;\n",
       "    }\n",
       "\n",
       "    .dataframe thead th {\n",
       "        text-align: right;\n",
       "    }\n",
       "</style>\n",
       "<table border=\"1\" class=\"dataframe\">\n",
       "  <thead>\n",
       "    <tr style=\"text-align: right;\">\n",
       "      <th></th>\n",
       "      <th>masks</th>\n",
       "      <th>images</th>\n",
       "      <th>is_valid</th>\n",
       "    </tr>\n",
       "  </thead>\n",
       "  <tbody>\n",
       "    <tr>\n",
       "      <th>0</th>\n",
       "      <td>../../../../..//media/labcomputer/e33f6fe0-5ede-4be4-b1f2-5168b7903c7a/home/rachel/PitMRdata/samir_labels/50155-50212/50198/Segmentation.obj</td>\n",
       "      <td>../../../../..//media/labcomputer/e33f6fe0-5ede-4be4-b1f2-5168b7903c7a/home/rachel/PitMRdata/samir_labels/50155-50212/50198/MP-RAGE/2000-01-01_00_00_00.0/S164832/ABIDE_50198_MRI_MP-RAGE_br_raw_20120830184954222_S164832_I328842.nii</td>\n",
       "      <td>0</td>\n",
       "    </tr>\n",
       "    <tr>\n",
       "      <th>1</th>\n",
       "      <td>../../../../..//media/labcomputer/e33f6fe0-5ede-4be4-b1f2-5168b7903c7a/home/rachel/PitMRdata/samir_labels/50155-50212/50171/Segmentation.obj</td>\n",
       "      <td>../../../../..//media/labcomputer/e33f6fe0-5ede-4be4-b1f2-5168b7903c7a/home/rachel/PitMRdata/samir_labels/50155-50212/50171/MP-RAGE/2000-01-01_00_00_00.0/S165626/ABIDE_50171_MRI_MP-RAGE_br_raw_20120831121139312_S165626_I329670.nii</td>\n",
       "      <td>0</td>\n",
       "    </tr>\n",
       "    <tr>\n",
       "      <th>2</th>\n",
       "      <td>../../../../..//media/labcomputer/e33f6fe0-5ede-4be4-b1f2-5168b7903c7a/home/rachel/PitMRdata/samir_labels/50155-50212/50190/Segmentation.obj</td>\n",
       "      <td>../../../../..//media/labcomputer/e33f6fe0-5ede-4be4-b1f2-5168b7903c7a/home/rachel/PitMRdata/samir_labels/50155-50212/50190/MP-RAGE/2000-01-01_00_00_00.0/S165172/ABIDE_50190_MRI_MP-RAGE_br_raw_20120830213356334_S165172_I329182.nii</td>\n",
       "      <td>0</td>\n",
       "    </tr>\n",
       "    <tr>\n",
       "      <th>3</th>\n",
       "      <td>../../../../..//media/labcomputer/e33f6fe0-5ede-4be4-b1f2-5168b7903c7a/home/rachel/PitMRdata/samir_labels/50155-50212/50188/Segmentation.obj</td>\n",
       "      <td>../../../../..//media/labcomputer/e33f6fe0-5ede-4be4-b1f2-5168b7903c7a/home/rachel/PitMRdata/samir_labels/50155-50212/50188/MP-RAGE/2000-01-01_00_00_00.0/S164322/ABIDE_50188_MRI_MP-RAGE_br_raw_20120830150918614_S164322_I328316.nii</td>\n",
       "      <td>0</td>\n",
       "    </tr>\n",
       "    <tr>\n",
       "      <th>4</th>\n",
       "      <td>../../../../..//media/labcomputer/e33f6fe0-5ede-4be4-b1f2-5168b7903c7a/home/rachel/PitMRdata/samir_labels/50155-50212/50212/Segmentation.obj</td>\n",
       "      <td>../../../../..//media/labcomputer/e33f6fe0-5ede-4be4-b1f2-5168b7903c7a/home/rachel/PitMRdata/samir_labels/50155-50212/50212/MP-RAGE/2000-01-01_00_00_00.0/S164537/ABIDE_50212_MRI_MP-RAGE_br_raw_20120830164957961_S164537_I328540.nii</td>\n",
       "      <td>0</td>\n",
       "    </tr>\n",
       "    <tr>\n",
       "      <th>5</th>\n",
       "      <td>../../../../..//media/labcomputer/e33f6fe0-5ede-4be4-b1f2-5168b7903c7a/home/rachel/PitMRdata/samir_labels/50155-50212/50200/Segmentation.obj</td>\n",
       "      <td>../../../../..//media/labcomputer/e33f6fe0-5ede-4be4-b1f2-5168b7903c7a/home/rachel/PitMRdata/samir_labels/50155-50212/50200/MP-RAGE/2000-01-01_00_00_00.0/S164572/ABIDE_50200_MRI_MP-RAGE_br_raw_20120830170910518_S164572_I328575.nii</td>\n",
       "      <td>0</td>\n",
       "    </tr>\n",
       "  </tbody>\n",
       "</table>\n",
       "</div>"
      ],
      "text/plain": [
       "                                                                                                                                          masks  \\\n",
       "0  ../../../../..//media/labcomputer/e33f6fe0-5ede-4be4-b1f2-5168b7903c7a/home/rachel/PitMRdata/samir_labels/50155-50212/50198/Segmentation.obj   \n",
       "1  ../../../../..//media/labcomputer/e33f6fe0-5ede-4be4-b1f2-5168b7903c7a/home/rachel/PitMRdata/samir_labels/50155-50212/50171/Segmentation.obj   \n",
       "2  ../../../../..//media/labcomputer/e33f6fe0-5ede-4be4-b1f2-5168b7903c7a/home/rachel/PitMRdata/samir_labels/50155-50212/50190/Segmentation.obj   \n",
       "3  ../../../../..//media/labcomputer/e33f6fe0-5ede-4be4-b1f2-5168b7903c7a/home/rachel/PitMRdata/samir_labels/50155-50212/50188/Segmentation.obj   \n",
       "4  ../../../../..//media/labcomputer/e33f6fe0-5ede-4be4-b1f2-5168b7903c7a/home/rachel/PitMRdata/samir_labels/50155-50212/50212/Segmentation.obj   \n",
       "5  ../../../../..//media/labcomputer/e33f6fe0-5ede-4be4-b1f2-5168b7903c7a/home/rachel/PitMRdata/samir_labels/50155-50212/50200/Segmentation.obj   \n",
       "\n",
       "                                                                                                                                                                                                                                   images  \\\n",
       "0  ../../../../..//media/labcomputer/e33f6fe0-5ede-4be4-b1f2-5168b7903c7a/home/rachel/PitMRdata/samir_labels/50155-50212/50198/MP-RAGE/2000-01-01_00_00_00.0/S164832/ABIDE_50198_MRI_MP-RAGE_br_raw_20120830184954222_S164832_I328842.nii   \n",
       "1  ../../../../..//media/labcomputer/e33f6fe0-5ede-4be4-b1f2-5168b7903c7a/home/rachel/PitMRdata/samir_labels/50155-50212/50171/MP-RAGE/2000-01-01_00_00_00.0/S165626/ABIDE_50171_MRI_MP-RAGE_br_raw_20120831121139312_S165626_I329670.nii   \n",
       "2  ../../../../..//media/labcomputer/e33f6fe0-5ede-4be4-b1f2-5168b7903c7a/home/rachel/PitMRdata/samir_labels/50155-50212/50190/MP-RAGE/2000-01-01_00_00_00.0/S165172/ABIDE_50190_MRI_MP-RAGE_br_raw_20120830213356334_S165172_I329182.nii   \n",
       "3  ../../../../..//media/labcomputer/e33f6fe0-5ede-4be4-b1f2-5168b7903c7a/home/rachel/PitMRdata/samir_labels/50155-50212/50188/MP-RAGE/2000-01-01_00_00_00.0/S164322/ABIDE_50188_MRI_MP-RAGE_br_raw_20120830150918614_S164322_I328316.nii   \n",
       "4  ../../../../..//media/labcomputer/e33f6fe0-5ede-4be4-b1f2-5168b7903c7a/home/rachel/PitMRdata/samir_labels/50155-50212/50212/MP-RAGE/2000-01-01_00_00_00.0/S164537/ABIDE_50212_MRI_MP-RAGE_br_raw_20120830164957961_S164537_I328540.nii   \n",
       "5  ../../../../..//media/labcomputer/e33f6fe0-5ede-4be4-b1f2-5168b7903c7a/home/rachel/PitMRdata/samir_labels/50155-50212/50200/MP-RAGE/2000-01-01_00_00_00.0/S164572/ABIDE_50200_MRI_MP-RAGE_br_raw_20120830170910518_S164572_I328575.nii   \n",
       "\n",
       "   is_valid  \n",
       "0         0  \n",
       "1         0  \n",
       "2         0  \n",
       "3         0  \n",
       "4         0  \n",
       "5         0  "
      ]
     },
     "execution_count": 16,
     "metadata": {},
     "output_type": "execute_result"
    }
   ],
   "source": [
    "# 20% validation set, 80% training set\n",
    "d['is_valid'] = np.random.choice(2, n, p = [0.8,0.2])\n",
    "print(d)"
   ]
  },
  {
   "cell_type": "code",
   "execution_count": 17,
   "id": "cellular-dakota",
   "metadata": {},
   "outputs": [],
   "source": [
    "# add metadata\n",
    "def lookup_metadata(img_path):\n",
    "    sz, sp = info_df.loc[info_df[\"fn\"] == img_path][[\"sz\", \"sp\"]].values[0]\n",
    "    return sz, sp"
   ]
  },
  {
   "cell_type": "code",
   "execution_count": 18,
   "id": "dependent-omaha",
   "metadata": {},
   "outputs": [
    {
     "name": "stdout",
     "output_type": "stream",
     "text": [
      "Sizes (2): \n",
      "(160, 239, 200)\n",
      "(172, 256, 256)\n",
      "Spacings (2): \n",
      "(1.1, 1.0, 1.0)\n",
      "(1.0, 1.0, 1.0)\n",
      "Unique:  [[1.  1.  1. ]\n",
      " [1.1 1.  1. ]]\n",
      "Idxs:  [0 1]\n",
      "Counts:  [5 1]\n"
     ]
    }
   ],
   "source": [
    "# which sizes are represented?\n",
    "szs, spcs = zip(*[lookup_metadata(img_path) for img_path in d[\"images\"].tolist()])\n",
    "unique_szs  = set(szs)\n",
    "unique_spcs = set(spcs)\n",
    "print(f\"Sizes ({len(unique_szs)}): \", *list(unique_szs)[:10], sep=\"\\n\")\n",
    "print(f\"Spacings ({len(unique_spcs)}): \", *list(unique_spcs)[:10], sep=\"\\n\")\n",
    "\n",
    "unique, idxs, cnts = np.unique(spcs, return_index=True, return_inverse=False, return_counts=True, axis=0)\n",
    "print(\"Unique: \", unique)\n",
    "print(\"Idxs: \", idxs)\n",
    "print(\"Counts: \", cnts)"
   ]
  },
  {
   "cell_type": "code",
   "execution_count": null,
   "id": "competitive-baptist",
   "metadata": {},
   "outputs": [],
   "source": []
  },
  {
   "cell_type": "markdown",
   "id": "senior-attitude",
   "metadata": {},
   "source": [
    "# Resize to common dimension"
   ]
  },
  {
   "cell_type": "code",
   "execution_count": 19,
   "id": "destroyed-helmet",
   "metadata": {},
   "outputs": [],
   "source": [
    "# img data = size and spacing\n",
    "all_img_data = [lookup_metadata(img_path) for img_path in d[\"images\"].tolist()]"
   ]
  },
  {
   "cell_type": "code",
   "execution_count": 20,
   "id": "patient-cycle",
   "metadata": {},
   "outputs": [
    {
     "name": "stdout",
     "output_type": "stream",
     "text": [
      "Reference frame:  [175, 256, 256] 2 [0. 0. 0.] [1. 1. 1.] [1. 0. 0. 0. 1. 0. 0. 0. 1.] [ 87.5 128.  128. ]\n",
      "Reference center:  [ 87.5 128.  128. ]\n",
      "Size:  (175, 256, 256)\n",
      "Origin:  (0.0, 0.0, 0.0)\n",
      "Spacing:  (1.0, 1.0, 1.0)\n",
      "Direction:  (1.0, 0.0, 0.0, 0.0, 1.0, 0.0, 0.0, 0.0, 1.0)\n",
      "Pixel type: 2 = 16-bit signed integer\n"
     ]
    }
   ],
   "source": [
    "def get_reference_frame(all_img_data):\n",
    "    img_data = all_img_data\n",
    "    \n",
    "    dimension = 3 # 3D MRs\n",
    "    pixel_id = 2 # 16-bit signed integer\n",
    "\n",
    "    # Physical image size corresponds to the largest physical size in the training set, or any other arbitrary size.\n",
    "    reference_physical_size = np.zeros(dimension)\n",
    "\n",
    "    for img_sz, img_spc in img_data:\n",
    "        reference_physical_size[:] = [(sz-1)*spc if sz*spc>mx else mx \\\n",
    "                                      for sz, spc, mx in zip(img_sz, img_spc, reference_physical_size)]\n",
    "    \n",
    "    # Create the reference image with a zero origin, identity direction cosine matrix and dimension     \n",
    "    reference_origin = np.zeros(dimension)\n",
    "    reference_direction = np.identity(dimension).flatten()\n",
    "\n",
    "    # Isotropic (1,1,1) pixels\n",
    "    reference_spacing = np.ones(dimension)\n",
    "    reference_size = [int(phys_sz/(spc) + 1) for phys_sz,spc in zip(reference_physical_size, reference_spacing)]\n",
    "\n",
    "    # Set reference image attributes\n",
    "    reference_image = sitk.Image(reference_size, pixel_id)\n",
    "    reference_image.SetOrigin(reference_origin)\n",
    "    reference_image.SetSpacing(reference_spacing)\n",
    "    reference_image.SetDirection(reference_direction)\n",
    "\n",
    "    reference_center = np.array(reference_image.TransformContinuousIndexToPhysicalPoint(np.array(reference_image.GetSize())/2.0))\n",
    "    return reference_size, pixel_id, reference_origin, reference_spacing, reference_direction, reference_center\n",
    "\n",
    "def get_reference_image(reference_frame):\n",
    "    reference_size, pixel_id, reference_origin, reference_spacing, reference_direction, reference_center = reference_frame\n",
    "    reference_image = sitk.Image(reference_size, pixel_id)\n",
    "    reference_image.SetOrigin(reference_origin)\n",
    "    reference_image.SetSpacing(reference_spacing)\n",
    "    reference_image.SetDirection(reference_direction)\n",
    "    return reference_image, reference_center\n",
    "\n",
    "# Get reference frame\n",
    "reference_frame = get_reference_frame(all_img_data)\n",
    "print(\"Reference frame: \", *reference_frame)\n",
    "\n",
    "# Get reference image\n",
    "reference_image, reference_center = get_reference_image(reference_frame)\n",
    "print(\"Reference center: \", reference_center)\n",
    "\n",
    "# Print info on reference image\n",
    "print_sitk_info(reference_image)"
   ]
  },
  {
   "cell_type": "code",
   "execution_count": 21,
   "id": "geographic-luther",
   "metadata": {},
   "outputs": [],
   "source": [
    "# removed mask arg\n",
    "def resample2ref(img, reference_image, reference_center, interpolator = sitk.sitkLinear, default_intensity_value = 0.0, dimension=3):\n",
    "    \n",
    "    # Define translation transform mapping origins from reference_image to the current img\n",
    "    transform = sitk.AffineTransform(dimension)\n",
    "    transform.SetMatrix(img.GetDirection())\n",
    "    transform.SetTranslation(np.array(img.GetOrigin()) - reference_image.GetOrigin())\n",
    "    \n",
    "    # Modify the transformation to align the centers of the original and reference image instead of their origins.\n",
    "    centering_transform = sitk.TranslationTransform(dimension)\n",
    "    img_center = np.array(img.TransformContinuousIndexToPhysicalPoint(np.array(img.GetSize())/2.0))\n",
    "    centering_transform.SetOffset(np.array(transform.GetInverse().TransformPoint(img_center) - reference_center))\n",
    "    centered_transform = sitk.Transform(transform)\n",
    "    centered_transform.AddTransform(centering_transform)\n",
    "    \n",
    "    return sitk.Resample(img, reference_image, centered_transform, interpolator, default_intensity_value, img.GetPixelID())\n",
    "\n",
    "# Composite tfm - https://simpleitk.readthedocs.io/en/master/migrationGuide2.0.html\n",
    "def resample2ref_item(img, mask, reference_image, reference_center, interpolator = sitk.sitkLinear, default_intensity_value = 0.0, dimension=3):\n",
    "    \n",
    "    # Define translation transform mapping origins from reference_image to the current img\n",
    "    transform = sitk.AffineTransform(dimension)\n",
    "    transform.SetMatrix(img.GetDirection())\n",
    "    transform.SetTranslation(np.array(img.GetOrigin()) - reference_image.GetOrigin())\n",
    "    \n",
    "    # Modify the transformation to align the centers of the original and reference image instead of their origins.\n",
    "    centering_transform = sitk.TranslationTransform(dimension)\n",
    "    img_center = np.array(img.TransformContinuousIndexToPhysicalPoint(np.array(img.GetSize())/2.0))\n",
    "    centering_transform.SetOffset(np.array(transform.GetInverse().TransformPoint(img_center) - reference_center))\n",
    "    centered_transform = sitk.Transform(transform)\n",
    "    \n",
    "    # sitk 1.x\n",
    "    #centered_transform.AddTransform(centering_transform)\n",
    "    \n",
    "    # sitk 2.x\n",
    "    centered_transform = sitk.CompositeTransform([centered_transform, centering_transform])\n",
    "    \n",
    "    objs    = img, mask\n",
    "    interps = interpolator, sitk.sitkNearestNeighbor\n",
    "    return [sitk.Resample(o, reference_image, centered_transform, interp, default_intensity_value, o.GetPixelID()) for o,interp in zip(objs, interps)]"
   ]
  },
  {
   "cell_type": "code",
   "execution_count": 22,
   "id": "dc8d5f92",
   "metadata": {},
   "outputs": [],
   "source": [
    "from fastai.vision.all import *"
   ]
  },
  {
   "cell_type": "code",
   "execution_count": 23,
   "id": "weighted-advisory",
   "metadata": {},
   "outputs": [],
   "source": [
    "from helpers_preprocess import folder2objs\n",
    "\n",
    "class SlicerSegmentationTransform(ItemTransform):\n",
    "    def __init__(self, data_dict):\n",
    "        self.data_dict = data_dict\n",
    "        \n",
    "    def encodes(self, x):\n",
    "        obj_path, img_path = x\n",
    "        folder = Path(obj_path).parent.name\n",
    "        ras_adj = int(folder) in range(50455, 50464)\n",
    "        img_obj, mask_obj = folder2objs(folder, self.data_dict, ras_adj)\n",
    "        return img_obj, mask_obj\n",
    "    \n",
    "# class Sitk2Tensir(Transform):\n",
    "#     def encodes(self, x): return TensorDicom3D."
   ]
  },
  {
   "cell_type": "code",
   "execution_count": 24,
   "id": "brown-insight",
   "metadata": {},
   "outputs": [],
   "source": [
    "# http://insightsoftwareconsortium.github.io/SimpleITK-Notebooks/Python_html/05_Results_Visualization.html\n",
    "def make_isotropic(image, new_spacing = 1, interpolator = sitk.sitkLinear):\n",
    "    '''\n",
    "    Resample an image to isotropic pixels (using smallest spacing from original) and save to file. Many file formats \n",
    "    (jpg, png,...) expect the pixels to be isotropic. By default the function uses a linear interpolator. For\n",
    "    label images one should use the sitkNearestNeighbor interpolator so as not to introduce non-existant labels.\n",
    "    '''\n",
    "    \n",
    "    # Make image isotropic via resampling.\n",
    "    original_size = image.GetSize()\n",
    "    original_spacing = image.GetSpacing()\n",
    "    \n",
    "    new_size = [int(round(osz*ospc/new_spacing)) for osz,ospc in zip(original_size, original_spacing)]\n",
    "    new_spacing = [new_spacing]*image.GetDimension()\n",
    "    \n",
    "    return sitk.Resample(image, new_size, sitk.Transform(), interpolator,\n",
    "                         image.GetOrigin(), new_spacing, image.GetDirection(), 0,\n",
    "                         image.GetPixelID())"
   ]
  },
  {
   "cell_type": "code",
   "execution_count": 25,
   "id": "portable-truck",
   "metadata": {},
   "outputs": [],
   "source": [
    "# # test make isotropic: using F.interpolate vs sitk\n",
    "\n",
    "# file = d[\"images\"][0]\n",
    "\n",
    "# a = TensorDicom3D.create(file)\n",
    "# b = a.size_correction(new_spacing=1)\n",
    "# # p =  PreprocessDicom(correct_spacing=True, spacing = 1)\n",
    "# # b = p(a)\n",
    "# print(type(a), a.shape)\n",
    "# print(type(b), b.shape)\n",
    "\n",
    "# a1 = sitk.ReadImage(file, sitk.sitkFloat32)\n",
    "# b1 = make_isotropic(a1)\n",
    "\n",
    "# print(a1.GetSize(), b1.GetSize())"
   ]
  },
  {
   "cell_type": "code",
   "execution_count": 26,
   "id": "behavioral-spiritual",
   "metadata": {},
   "outputs": [],
   "source": [
    "# # test make isotropic: using F.interpolate vs sitk\n",
    "\n",
    "# file = d[\"images\"][1]\n",
    "\n",
    "# a = TensorDicom3D.create(file)\n",
    "# b = a.size_correction(new_spacing=1)\n",
    "# # p =  PreprocessDicom(correct_spacing=True, spacing = 1)\n",
    "# # b = p(a)\n",
    "# print(type(a), a.shape)\n",
    "# print(type(b), b.shape)\n",
    "\n",
    "# a1 = sitk.ReadImage(file, sitk.sitkFloat32)\n",
    "# b1 = make_isotropic(a1)\n",
    "\n",
    "# print(a1.GetSize(), b1.GetSize())"
   ]
  },
  {
   "cell_type": "code",
   "execution_count": 27,
   "id": "military-pound",
   "metadata": {},
   "outputs": [],
   "source": [
    "from helpers_preprocess import folder2objs\n",
    "\n",
    "class SlicerSegmentationTransform(ItemTransform):\n",
    "    def __init__(self, data_dict):\n",
    "        self.data_dict = data_dict\n",
    "        \n",
    "    def encodes(self, x):\n",
    "        obj_path, img_path = x\n",
    "        folder = Path(obj_path).parent.name\n",
    "        ras_adj = int(folder) in range(50455, 50464)\n",
    "        return folder2objs(folder, self.data_dict, ras_adj)\n",
    "        #img_obj, mask_obj = folder2objs(folder, self.data_dict, ras_adj)\n",
    "        #return TensorDicom3D(img_obj), TensorDicom3D(mask_obj) \n",
    "    \n",
    "class IsotropicTransform(ItemTransform):\n",
    "    def encodes(self, x):\n",
    "        img, mask = x\n",
    "        return  make_isotropic(img, new_spacing = 1, interpolator = sitk.sitkLinear), \\\n",
    "                make_isotropic(img, new_spacing = 1, interpolator = sitk.sitkNearestNeighbor)\n",
    "\n",
    "class Resample2Ref(ItemTransform):\n",
    "    def __init__(self, reference_image, reference_center):\n",
    "        self.ref_im   = reference_image\n",
    "        self.ref_cntr = reference_center\n",
    "        \n",
    "    def encodes(self, x):\n",
    "        im, mask = x\n",
    "        return resample2ref_item(im, mask, self.ref_im, self.ref_cntr)\n",
    "    \n",
    "class ToTensor3D(ItemTransform):\n",
    "    def encodes(self, x):\n",
    "        im, mask = x\n",
    "        return torch.tensor(sitk.GetArrayFromImage(im)), torch.tensor(sitk.GetArrayFromImage(mask))"
   ]
  },
  {
   "cell_type": "code",
   "execution_count": 28,
   "id": "a440e539",
   "metadata": {},
   "outputs": [
    {
     "name": "stdout",
     "output_type": "stream",
     "text": [
      "Items: \n",
      "('../../../../..//media/labcomputer/e33f6fe0-5ede-4be4-b1f2-5168b7903c7a/home/rachel/PitMRdata/samir_labels/50155-50212/50198/Segmentation.obj', '../../../../..//media/labcomputer/e33f6fe0-5ede-4be4-b1f2-5168b7903c7a/home/rachel/PitMRdata/samir_labels/50155-50212/50198/MP-RAGE/2000-01-01_00_00_00.0/S164832/ABIDE_50198_MRI_MP-RAGE_br_raw_20120830184954222_S164832_I328842.nii')\n",
      "('../../../../..//media/labcomputer/e33f6fe0-5ede-4be4-b1f2-5168b7903c7a/home/rachel/PitMRdata/samir_labels/50155-50212/50171/Segmentation.obj', '../../../../..//media/labcomputer/e33f6fe0-5ede-4be4-b1f2-5168b7903c7a/home/rachel/PitMRdata/samir_labels/50155-50212/50171/MP-RAGE/2000-01-01_00_00_00.0/S165626/ABIDE_50171_MRI_MP-RAGE_br_raw_20120831121139312_S165626_I329670.nii')\n",
      "('../../../../..//media/labcomputer/e33f6fe0-5ede-4be4-b1f2-5168b7903c7a/home/rachel/PitMRdata/samir_labels/50155-50212/50190/Segmentation.obj', '../../../../..//media/labcomputer/e33f6fe0-5ede-4be4-b1f2-5168b7903c7a/home/rachel/PitMRdata/samir_labels/50155-50212/50190/MP-RAGE/2000-01-01_00_00_00.0/S165172/ABIDE_50190_MRI_MP-RAGE_br_raw_20120830213356334_S165172_I329182.nii')\n",
      "('../../../../..//media/labcomputer/e33f6fe0-5ede-4be4-b1f2-5168b7903c7a/home/rachel/PitMRdata/samir_labels/50155-50212/50188/Segmentation.obj', '../../../../..//media/labcomputer/e33f6fe0-5ede-4be4-b1f2-5168b7903c7a/home/rachel/PitMRdata/samir_labels/50155-50212/50188/MP-RAGE/2000-01-01_00_00_00.0/S164322/ABIDE_50188_MRI_MP-RAGE_br_raw_20120830150918614_S164322_I328316.nii')\n",
      "('../../../../..//media/labcomputer/e33f6fe0-5ede-4be4-b1f2-5168b7903c7a/home/rachel/PitMRdata/samir_labels/50155-50212/50212/Segmentation.obj', '../../../../..//media/labcomputer/e33f6fe0-5ede-4be4-b1f2-5168b7903c7a/home/rachel/PitMRdata/samir_labels/50155-50212/50212/MP-RAGE/2000-01-01_00_00_00.0/S164537/ABIDE_50212_MRI_MP-RAGE_br_raw_20120830164957961_S164537_I328540.nii')\n"
     ]
    }
   ],
   "source": [
    "items = list(data_dict.values())\n",
    "print(\"Items: \", *items[:5], sep=\"\\n\")"
   ]
  },
  {
   "cell_type": "code",
   "execution_count": 29,
   "id": "b0dc10e7",
   "metadata": {},
   "outputs": [
    {
     "name": "stdout",
     "output_type": "stream",
     "text": [
      "5 1 ([3, 2, 4, 1, 5], [0])\n"
     ]
    }
   ],
   "source": [
    "splits = RandomSplitter(seed=42)(items)\n",
    "print(len(splits[0]), len(splits[1]), splits)"
   ]
  },
  {
   "cell_type": "code",
   "execution_count": 30,
   "id": "1002ddf8",
   "metadata": {},
   "outputs": [
    {
     "data": {
      "text/plain": [
       "True"
      ]
     },
     "execution_count": 30,
     "metadata": {},
     "output_type": "execute_result"
    }
   ],
   "source": [
    "print(\"is cuda available?\", torch.cuda.is_available() )"
   ]
  },
  {
   "cell_type": "code",
   "execution_count": 31,
   "id": "f43867e2",
   "metadata": {},
   "outputs": [
    {
     "data": {
      "text/plain": [
       "device(type='cuda')"
      ]
     },
     "execution_count": 31,
     "metadata": {},
     "output_type": "execute_result"
    }
   ],
   "source": [
    "device = torch.device('cuda' if torch.cuda.is_available() else 'cpu')\n",
    "print(device)"
   ]
  },
  {
   "cell_type": "code",
   "execution_count": 26,
   "id": "suffering-interpretation",
   "metadata": {},
   "outputs": [],
   "source": [
    "# tls = TfmdLists(items, [SlicerSegmentationTransform(data_dict), IsotropicTransform, ToTensor3D], splits=splits)"
   ]
  },
  {
   "cell_type": "code",
   "execution_count": 27,
   "id": "68ad4d10",
   "metadata": {},
   "outputs": [
    {
     "ename": "NameError",
     "evalue": "name 'Cuda' is not defined",
     "output_type": "error",
     "traceback": [
      "\u001b[0;31m---------------------------------------------------------------------------\u001b[0m",
      "\u001b[0;31mNameError\u001b[0m                                 Traceback (most recent call last)",
      "\u001b[0;32m<ipython-input-27-6e4e1fbf8242>\u001b[0m in \u001b[0;36m<module>\u001b[0;34m\u001b[0m\n\u001b[0;32m----> 1\u001b[0;31m \u001b[0mCuda\u001b[0m\u001b[0;34m(\u001b[0m\u001b[0;34m)\u001b[0m\u001b[0;34m\u001b[0m\u001b[0;34m\u001b[0m\u001b[0m\n\u001b[0m",
      "\u001b[0;31mNameError\u001b[0m: name 'Cuda' is not defined"
     ]
    }
   ],
   "source": [
    "# Cuda()"
   ]
  },
  {
   "cell_type": "code",
   "execution_count": 32,
   "id": "announced-triple",
   "metadata": {},
   "outputs": [],
   "source": [
    "tls = TfmdLists(items, [SlicerSegmentationTransform(data_dict), \\\n",
    "                        Resample2Ref(reference_image, reference_center), \\\n",
    "                        ToTensor3D], \n",
    "               splits=splits)"
   ]
  },
  {
   "cell_type": "code",
   "execution_count": 33,
   "id": "adopted-potato",
   "metadata": {},
   "outputs": [],
   "source": [
    "dls = tls.dataloaders(bs=2)"
   ]
  },
  {
   "cell_type": "code",
   "execution_count": 32,
   "id": "b9bd5f8c",
   "metadata": {},
   "outputs": [],
   "source": [
    "# dls = dls.cuda()"
   ]
  },
  {
   "cell_type": "code",
   "execution_count": 34,
   "id": "certified-friend",
   "metadata": {},
   "outputs": [],
   "source": [
    "b = dls.one_batch()"
   ]
  },
  {
   "cell_type": "code",
   "execution_count": 35,
   "id": "changing-salvation",
   "metadata": {},
   "outputs": [
    {
     "data": {
      "text/plain": [
       "(tuple, torch.Size([2, 256, 256, 175]), torch.Size([2, 256, 256, 175]))"
      ]
     },
     "execution_count": 35,
     "metadata": {},
     "output_type": "execute_result"
    }
   ],
   "source": [
    "print(type(b), b[0].shape, b[1].shape)"
   ]
  },
  {
   "cell_type": "code",
   "execution_count": 36,
   "id": "entitled-supervision",
   "metadata": {},
   "outputs": [],
   "source": [
    "def dice(input, target):\n",
    "    iflat = input.contiguous().view(-1)\n",
    "    tflat = target.contiguous().view(-1)\n",
    "    intersection = (iflat * tflat).sum()\n",
    "    return ((2. * intersection) /\n",
    "           (iflat.sum() + tflat.sum()))\n",
    "\n",
    "def dice_score(input, target):\n",
    "    return dice(input.argmax(1), target)\n",
    "\n",
    "def dice_loss(input, target): \n",
    "    return 1 - dice(input.softmax(1)[:, 1], target)\n",
    "\n",
    "def loss(input, target):\n",
    "    return dice_loss(input, target) + nn.CrossEntropyLoss()(input, target[:, 0])"
   ]
  },
  {
   "cell_type": "code",
   "execution_count": null,
   "id": "cb8f1e34",
   "metadata": {},
   "outputs": [],
   "source": [
    "learn = unet_learner_3d(dls, r3d_18, n_out=2, \n",
    "                        loss_func = loss,\n",
    "                        metrics = dice_score,\n",
    "                        model_dir = \".\",\n",
    "                        cbs = [SaveModelCallback(monitor='dice_score')]\n",
    "                       )\n",
    "#learn.model.cuda()\n",
    "#learn = learn.to_fp16()"
   ]
  },
  {
   "cell_type": "code",
   "execution_count": null,
   "id": "baff0e53",
   "metadata": {},
   "outputs": [],
   "source": [
    "# https://forums.fast.ai/t/very-slow-inference-using-get-preds-in-fastai2/70841/4\n",
    "# learn.model = learn.model.cuda() will make it GPU enabled.\n",
    "# learn.dls.to(‘cuda’)\n",
    "# learn.dls.cuda()"
   ]
  },
  {
   "cell_type": "code",
   "execution_count": 6,
   "id": "a6cb3123",
   "metadata": {},
   "outputs": [
    {
     "name": "stdout",
     "output_type": "stream",
     "text": [
      "CUDA enabled\n"
     ]
    }
   ],
   "source": [
    "print(\"CUDA enabled\")"
   ]
  },
  {
   "cell_type": "code",
   "execution_count": null,
   "id": "e3904536",
   "metadata": {},
   "outputs": [],
   "source": [
    "learn.model = learn.model.cuda() \n",
    "learn.dls.cuda()"
   ]
  },
  {
   "cell_type": "code",
   "execution_count": null,
   "id": "19eb8283",
   "metadata": {},
   "outputs": [],
   "source": [
    "print(\"POST CUDA enabled\")"
   ]
  },
  {
   "cell_type": "code",
   "execution_count": null,
   "id": "third-shoot",
   "metadata": {},
   "outputs": [],
   "source": [
    "# learn = unet_learner_3d(dls, r3d_18, n_out=2, \n",
    "#                         loss_func = loss,\n",
    "#                         metrics = dice_score,\n",
    "#                         model_dir = \".\",\n",
    "#                         cbs = [SaveModelCallback(monitor='dice_score')]\n",
    "#                        )\n",
    "# #learn.model.cuda()\n",
    "# learn = learn.to_fp16()"
   ]
  },
  {
   "cell_type": "code",
   "execution_count": null,
   "id": "c1528a8b",
   "metadata": {},
   "outputs": [],
   "source": [
    "# learn.model"
   ]
  },
  {
   "cell_type": "code",
   "execution_count": null,
   "id": "f1dbaad7",
   "metadata": {},
   "outputs": [],
   "source": [
    "# learn.model.cuda()"
   ]
  },
  {
   "cell_type": "code",
   "execution_count": null,
   "id": "tutorial-bobby",
   "metadata": {},
   "outputs": [],
   "source": [
    "# learn.lr_find()"
   ]
  },
  {
   "cell_type": "code",
   "execution_count": null,
   "id": "three-falls",
   "metadata": {},
   "outputs": [],
   "source": [
    "print(\"PRE learn.fit one cycle\")\n",
    "learn.fit_one_cycle(3, 0.01, wd = 1e-4)"
   ]
  },
  {
   "cell_type": "code",
   "execution_count": null,
   "id": "registered-exclusive",
   "metadata": {},
   "outputs": [],
   "source": [
    "print(\"unfreeze, learn 50\")\n",
    "learn.unfreeze()\n",
    "learn.fit_one_cycle(50, 1e-3, wd = 1e-4)"
   ]
  },
  {
   "cell_type": "code",
   "execution_count": null,
   "id": "brazilian-morocco",
   "metadata": {},
   "outputs": [],
   "source": []
  },
  {
   "cell_type": "code",
   "execution_count": null,
   "id": "appreciated-employment",
   "metadata": {},
   "outputs": [],
   "source": [
    "# after_item  = [TensorDicom3D, MaxScale(), resample]\n",
    "# after_batch = []"
   ]
  },
  {
   "cell_type": "code",
   "execution_count": null,
   "id": "waiting-nightlife",
   "metadata": {},
   "outputs": [],
   "source": [
    "# # df cols = masks, images, is_valid\n",
    "# splitter = ColSplitter(2)\n",
    "\n",
    "# # item tfms\n",
    "# rescale_method = MaxScale()\n",
    "# resample = Resample3D(size=(191, 268, 268),\n",
    "#                       spacing=(1,1,1),\n",
    "#                       origin=(0,0,0),\n",
    "#                       direction=(1,0,0,\\\n",
    "#                                  0,1,0,\\\n",
    "#                                  0,0,1))\n",
    "\n",
    "# items = list(train_data_dict.values())\n",
    "# tls = TfmdLists(items, [SlicerSegmentationTransform(train_data_dict), IsotropicTransform])\n",
    "\n",
    "# # batch_tfms=[PreprocessDicom(**kwargs)])\n",
    "# # item_tfms=AddMaskCodes(codes=codes))"
   ]
  },
  {
   "cell_type": "code",
   "execution_count": null,
   "id": "threatened-ladder",
   "metadata": {},
   "outputs": [],
   "source": [
    "# dls = tls.dataloaders(bs=2)"
   ]
  },
  {
   "cell_type": "code",
   "execution_count": null,
   "id": "undefined-brief",
   "metadata": {},
   "outputs": [],
   "source": [
    "# # batch tfms\n",
    "# batch_tfms = [AddChannel(), \\\n",
    "#               RandomPerspective3D(input_size=268, p=0.5, distortion_scale=0.25), \n",
    "#               *aug_transforms_3d(p_all=0.15, noise=False)]\n",
    "\n",
    "# # dblock\n",
    "# dblock = DataBlock(blocks=(ImageBlock3D(cls=TensorDicom3D),MaskBlock3D(codes=None)),\n",
    "#                            get_x=ColReader(0),\n",
    "#                            get_y=ColReader(1),\n",
    "#                            splitter=splitter,\n",
    "#                            item_tfms=item_tfms,\n",
    "#                            batch_tfms=batch_tfms,\n",
    "#                            n_inp = 1)"
   ]
  },
  {
   "cell_type": "code",
   "execution_count": null,
   "id": "altered-implementation",
   "metadata": {},
   "outputs": [],
   "source": [
    "# # https://github.com/kbressem/faimed3d/blob/deada354a1ead1341f1578f84ab6325c50be56ca/faimed3d/augment.py\n",
    "# dls = SegmentationDataLoaders3D.from_df(d, path = '.',\n",
    "#                                 item_tfms =Resample3D(size=(191, 268, 268),\n",
    "#                                                       spacing=(1,1,1),\n",
    "#                                                       origin=(0,0,0),\n",
    "#                                                       direction=(1,0,0,\\\n",
    "#                                                                  0,1,0,\\\n",
    "#                                                                  0,0,1)),\n",
    "#                                 batch_tfms = [RandomPerspective3D(input_size=268, p=0.5, distortion_scale=0.25), \n",
    "#                                               *aug_transforms_3d(p_all=0.15, noise=False)],\n",
    "#                                 bs = 1, \n",
    "#                                 val_bs = 1,\n",
    "#                                 splitter = ColSplitter('is_valid'))"
   ]
  }
 ],
 "metadata": {
  "kernelspec": {
   "display_name": "Python 3",
   "language": "python",
   "name": "python3"
  },
  "language_info": {
   "codemirror_mode": {
    "name": "ipython",
    "version": 3
   },
   "file_extension": ".py",
   "mimetype": "text/x-python",
   "name": "python",
   "nbconvert_exporter": "python",
   "pygments_lexer": "ipython3",
   "version": "3.7.4"
  }
 },
 "nbformat": 4,
 "nbformat_minor": 5
}
