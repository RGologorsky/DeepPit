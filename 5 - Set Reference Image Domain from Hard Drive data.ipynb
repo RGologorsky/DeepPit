{
 "cells": [
  {
   "cell_type": "markdown",
   "id": "binary-photography",
   "metadata": {},
   "source": [
    "# Summary\n",
    "\n",
    "This notebook reads the metadata of the MR files in order to set a standard (pixel size, physical size) for all images.\n",
    "\n",
    "> All input images will be resampled onto the reference domain. This domain is defined by two constraints: the number of pixels per dimension and the physical size we want the reference domain to occupy. The former is associated with the computational constraints of deep learning where using a small number of pixels is desired. The later is associated with the SimpleITK concept of an image, it occupies a region in physical space which should be large enough to encompass the object of interest.\n",
    "\n",
    "Src: http://insightsoftwareconsortium.github.io/SimpleITK-Notebooks/Python_html/70_Data_Augmentation.html"
   ]
  },
  {
   "cell_type": "markdown",
   "id": "funny-meaning",
   "metadata": {},
   "source": [
    "# Imports"
   ]
  },
  {
   "cell_type": "code",
   "execution_count": 66,
   "id": "actual-invalid",
   "metadata": {},
   "outputs": [],
   "source": [
    "# imports\n",
    "\n",
    "import os, sys, time, pickle\n",
    "from pathlib import Path\n",
    "\n",
    "import numpy as np\n",
    "from pandas import DataFrame as DF\n",
    "\n",
    "import SimpleITK as sitk\n",
    "\n",
    "from helpers_general import sitk2np, print_sitk_info, round_tuple, lrange, lmap, get_roi_range, numbers2groups\n",
    "from helpers_preprocess import get_reference_frame, resample2reference"
   ]
  },
  {
   "cell_type": "code",
   "execution_count": 2,
   "id": "sufficient-entertainment",
   "metadata": {},
   "outputs": [],
   "source": [
    "# auto-reload when local helper fns change\n",
    "%load_ext autoreload\n",
    "%autoreload 2\n",
    "\n",
    "%matplotlib inline"
   ]
  },
  {
   "cell_type": "code",
   "execution_count": null,
   "id": "christian-nylon",
   "metadata": {},
   "outputs": [],
   "source": []
  },
  {
   "cell_type": "markdown",
   "id": "detected-writing",
   "metadata": {},
   "source": [
    "# Data\n",
    "\n",
    "- Load data from folder (train_path)\n",
    "- Get standard reference domain\n",
    "- Resample to sample reference domain"
   ]
  },
  {
   "cell_type": "code",
   "execution_count": 27,
   "id": "automated-settle",
   "metadata": {},
   "outputs": [
    {
     "name": "stdout",
     "output_type": "stream",
     "text": [
      "('ABIDE', {'.nii', '.img'})\n",
      "('ABVIB', {'.dcm'})\n",
      "('ACRIN-FMISO-Brain', {'.dcm'})\n",
      "('ADNI', {'.nii'})\n",
      "('PPMI', {'.dcm'})\n"
     ]
    }
   ],
   "source": [
    "# get ext (nii, dcm, hdr, etc) for each data source\n",
    "exts = []\n",
    "\n",
    "for folder in data_folders:\n",
    "    with open(f\"{folder}-exts.txt\", \"rb\") as fp:   # Unpickling\n",
    "        exts.append(pickle.load(fp))\n",
    "        \n",
    "print(*list(zip(data_folders, exts)), sep=\"\\n\")"
   ]
  },
  {
   "cell_type": "code",
   "execution_count": 7,
   "id": "forty-pharmacology",
   "metadata": {},
   "outputs": [
    {
     "name": "stdout",
     "output_type": "stream",
     "text": [
      "[1160, 778, 1403, 2640, 1524]\n",
      "['../../../mnt/d/PitMRdata/ABIDE/ABIDE_1/50438/MP-RAGE/2000-01-01_00_00_00.0/S165020'\n",
      " '../../../mnt/d/PitMRdata/ABIDE/ABIDE/51274/Matched_Bandwidth_Hires/2000-01-01_00_00_00.0/S162911'\n",
      " '../../../mnt/d/PitMRdata/ABIDE/ABIDE_1/50304/MP-RAGE/2000-01-01_00_00_00.0/S165165']\n",
      "['../../../mnt/d/PitMRdata/ABVIB/ABVIB/238/MPRAGE/2013-05-01_13_01_03.0/S343379'\n",
      " '../../../mnt/d/PitMRdata/ABVIB/ABVIB/69/t1_mpr_sag/2009-03-31_08_33_40.0/S346038'\n",
      " '../../../mnt/d/PitMRdata/ABVIB/ABVIB/60006/MPRAGE/2010-05-14_11_05_59.0/S342245']\n",
      "['../../../mnt/d/PitMRdata/ACRIN-FMISO-Brain/ACRIN-FMISO-Brain-003/06-14-1960-MRIBRNWWO-49008/45.000000-DTImosaicpcrescanLOWB-17263'\n",
      " '../../../mnt/d/PitMRdata/ACRIN-FMISO-Brain/ACRIN-FMISO-Brain-003/08-29-1961-MRIBRNWWOPER-08491/1.000000-Localizer-06591'\n",
      " '../../../mnt/d/PitMRdata/ACRIN-FMISO-Brain/ACRIN-FMISO-Brain-003/06-14-1960-MRIBRNWWO-49008/66.000000-MEMPRAGEaxial-60513']\n",
      "['../../../mnt/d/PitMRdata/ADNI/ADNI1_Complete_1Yr_1.5T/ADNI/011_S_0005/MPR__GradWarp__B1_Correction__N3__Scaled/2006-09-05_12_21_22.0/S19041'\n",
      " '../../../mnt/d/PitMRdata/ADNI/ADNI1_Annual_2_Yr_3T/136_S_0579/MPR-R____N3__Scaled_2/2006-07-10_11_45_57.0/S16545'\n",
      " '../../../mnt/d/PitMRdata/ADNI/ADNI1_Complete_1Yr_1.5T/ADNI/011_S_0241/MPR-R__GradWarp__B1_Correction__N3__Scaled/2006-03-10_08_26_39.0/S12088']\n",
      "['../../../mnt/d/PitMRdata/PPMI/PPMI/41411/MPRAGE/2014-11-14_15_06_38.0/S244835'\n",
      " '../../../mnt/d/PitMRdata/PPMI/PPMI/3466/3D_SAG/2011-11-30_13_40_24.0/S153802'\n",
      " '../../../mnt/d/PitMRdata/PPMI/PPMI/4084/MPRAGE_GRAPPA/2013-02-11_13_42_02.0/S184050']\n"
     ]
    }
   ],
   "source": [
    "# wsl: /home/rgologorsky/DeepPit\n",
    "hd_path = \"../../../mnt/d/PitMRdata\"\n",
    "\n",
    "# all folders in HD\n",
    "all_folders = os.listdir(hd_path)\n",
    "\n",
    "# folders with data\n",
    "data_folders = [\"ABIDE\", \"ABVIB\", \"ACRIN-FMISO-Brain\", \"ADNI\", \"PPMI\"]\n",
    "\n",
    "# data src2idx\n",
    "src2idx = dict((v,k) for k,v in enumerate(data_folders))\n",
    "\n",
    "# get ext (nii, dcm, hdr, etc) for each data source\n",
    "exts = []\n",
    "\n",
    "for folder in data_folders:\n",
    "    with open(f\"{folder}-exts.txt\", \"rb\") as fp:   # Unpickling\n",
    "        exts.append(pickle.load(fp))\n",
    "        \n",
    "print(*list(zip(data_folders, exts)), sep=\"\\n\")\n",
    "\n",
    "# get paths to MR\n",
    "mr_paths = []\n",
    "\n",
    "for folder in data_folders:\n",
    "    with open(f\"{folder}.txt\", \"rb\") as fp:   # Unpickling\n",
    "        mr_paths.append(pickle.load(fp))\n",
    "\n",
    "# Input selection\n",
    "\n",
    "# number of paths in each data folder\n",
    "lens = [len(d) for d in mr_paths]\n",
    "print(lens)\n",
    "\n",
    "# choose n=3 MRs from each data folder\n",
    "n = 3\n",
    "train_paths = [np.random.choice(a, size=n, replace=False) for a in mr_paths]\n",
    "print(*train_paths, sep=\"\\n\")"
   ]
  },
  {
   "cell_type": "code",
   "execution_count": 13,
   "id": "adaptive-afternoon",
   "metadata": {},
   "outputs": [
    {
     "name": "stdout",
     "output_type": "stream",
     "text": [
      "Train sz = 15:\n",
      "../../../mnt/d/PitMRdata/ABIDE/ABIDE_1/50438/MP-RAGE/2000-01-01_00_00_00.0/S165020\n",
      "../../../mnt/d/PitMRdata/ABIDE/ABIDE/51274/Matched_Bandwidth_Hires/2000-01-01_00_00_00.0/S162911\n",
      "../../../mnt/d/PitMRdata/ABIDE/ABIDE_1/50304/MP-RAGE/2000-01-01_00_00_00.0/S165165\n",
      "../../../mnt/d/PitMRdata/ABVIB/ABVIB/238/MPRAGE/2013-05-01_13_01_03.0/S343379\n",
      "../../../mnt/d/PitMRdata/ABVIB/ABVIB/69/t1_mpr_sag/2009-03-31_08_33_40.0/S346038\n",
      "../../../mnt/d/PitMRdata/ABVIB/ABVIB/60006/MPRAGE/2010-05-14_11_05_59.0/S342245\n",
      "../../../mnt/d/PitMRdata/ACRIN-FMISO-Brain/ACRIN-FMISO-Brain-003/06-14-1960-MRIBRNWWO-49008/45.000000-DTImosaicpcrescanLOWB-17263\n",
      "../../../mnt/d/PitMRdata/ACRIN-FMISO-Brain/ACRIN-FMISO-Brain-003/08-29-1961-MRIBRNWWOPER-08491/1.000000-Localizer-06591\n",
      "../../../mnt/d/PitMRdata/ACRIN-FMISO-Brain/ACRIN-FMISO-Brain-003/06-14-1960-MRIBRNWWO-49008/66.000000-MEMPRAGEaxial-60513\n",
      "../../../mnt/d/PitMRdata/ADNI/ADNI1_Complete_1Yr_1.5T/ADNI/011_S_0005/MPR__GradWarp__B1_Correction__N3__Scaled/2006-09-05_12_21_22.0/S19041\n",
      "../../../mnt/d/PitMRdata/ADNI/ADNI1_Annual_2_Yr_3T/136_S_0579/MPR-R____N3__Scaled_2/2006-07-10_11_45_57.0/S16545\n",
      "../../../mnt/d/PitMRdata/ADNI/ADNI1_Complete_1Yr_1.5T/ADNI/011_S_0241/MPR-R__GradWarp__B1_Correction__N3__Scaled/2006-03-10_08_26_39.0/S12088\n",
      "../../../mnt/d/PitMRdata/PPMI/PPMI/41411/MPRAGE/2014-11-14_15_06_38.0/S244835\n",
      "../../../mnt/d/PitMRdata/PPMI/PPMI/3466/3D_SAG/2011-11-30_13_40_24.0/S153802\n",
      "../../../mnt/d/PitMRdata/PPMI/PPMI/4084/MPRAGE_GRAPPA/2013-02-11_13_42_02.0/S184050\n"
     ]
    }
   ],
   "source": [
    "flat_train_paths = [p for a in train_paths for p in a]\n",
    "print(f\"Train sz = {len(flat_train_paths)}:\", *flat_train_paths, sep=\"\\n\")"
   ]
  },
  {
   "cell_type": "code",
   "execution_count": 40,
   "id": "apart-corruption",
   "metadata": {},
   "outputs": [
    {
     "data": {
      "text/plain": [
       "numpy.str_"
      ]
     },
     "execution_count": 40,
     "metadata": {},
     "output_type": "execute_result"
    }
   ],
   "source": [
    "type(flat_train_paths[0])"
   ]
  },
  {
   "cell_type": "code",
   "execution_count": 42,
   "id": "abroad-concord",
   "metadata": {},
   "outputs": [
    {
     "data": {
      "text/plain": [
       "str"
      ]
     },
     "execution_count": 42,
     "metadata": {},
     "output_type": "execute_result"
    }
   ],
   "source": [
    "type(get_folder_name(flat_train_paths[0]))"
   ]
  },
  {
   "cell_type": "code",
   "execution_count": 22,
   "id": "useful-moral",
   "metadata": {},
   "outputs": [
    {
     "data": {
      "text/plain": [
       "['ABIDE_50438_MRI_MP-RAGE_br_raw_20120830200249492_S165020_I329030.nii']"
      ]
     },
     "execution_count": 22,
     "metadata": {},
     "output_type": "execute_result"
    }
   ],
   "source": [
    "os.listdir(\"../../../mnt/d/PitMRdata/ABIDE/ABIDE_1/50438/MP-RAGE/2000-01-01_00_00_00.0/S165020\")"
   ]
  },
  {
   "cell_type": "code",
   "execution_count": 50,
   "id": "worldwide-inquiry",
   "metadata": {
    "scrolled": true
   },
   "outputs": [
    {
     "data": {
      "text/html": [
       "<div>\n",
       "<style scoped>\n",
       "    .dataframe tbody tr th:only-of-type {\n",
       "        vertical-align: middle;\n",
       "    }\n",
       "\n",
       "    .dataframe tbody tr th {\n",
       "        vertical-align: top;\n",
       "    }\n",
       "\n",
       "    .dataframe thead th {\n",
       "        text-align: right;\n",
       "    }\n",
       "</style>\n",
       "<table border=\"1\" class=\"dataframe\">\n",
       "  <thead>\n",
       "    <tr style=\"text-align: right;\">\n",
       "      <th></th>\n",
       "      <th>folder</th>\n",
       "      <th>fn</th>\n",
       "      <th>sz</th>\n",
       "      <th>px</th>\n",
       "      <th>sp</th>\n",
       "      <th>dir</th>\n",
       "    </tr>\n",
       "  </thead>\n",
       "  <tbody>\n",
       "    <tr>\n",
       "      <th>0</th>\n",
       "      <td>ABIDE</td>\n",
       "      <td>../../../mnt/d/PitMRdata/ABIDE/ABIDE_1/50438/M...</td>\n",
       "      <td>(160, 480, 512)</td>\n",
       "      <td>16-bit signed integer</td>\n",
       "      <td>(1.2, 0.5, 0.5)</td>\n",
       "      <td>(1, 0, 0, 0, -1, 0, 0, 0, 1)</td>\n",
       "    </tr>\n",
       "    <tr>\n",
       "      <th>1</th>\n",
       "      <td>ABIDE</td>\n",
       "      <td>../../../mnt/d/PitMRdata/ABIDE/ABIDE/51274/Mat...</td>\n",
       "      <td>(128, 128, 34)</td>\n",
       "      <td>16-bit signed integer</td>\n",
       "      <td>(1.5, 1.5, 4.0)</td>\n",
       "      <td>(1, 0, 0, 0, 0, 0, 0, 0, 0)</td>\n",
       "    </tr>\n",
       "    <tr>\n",
       "      <th>2</th>\n",
       "      <td>ABIDE</td>\n",
       "      <td>../../../mnt/d/PitMRdata/ABIDE/ABIDE_1/50304/M...</td>\n",
       "      <td>(256, 256, 124)</td>\n",
       "      <td>16-bit signed integer</td>\n",
       "      <td>(1.02, 1.02, 1.2)</td>\n",
       "      <td>(1, 0, 0, 0, -1, 0, 0, 0, 1)</td>\n",
       "    </tr>\n",
       "    <tr>\n",
       "      <th>3</th>\n",
       "      <td>ABVIB</td>\n",
       "      <td>../../../mnt/d/PitMRdata/ABVIB/ABVIB/238/MPRAG...</td>\n",
       "      <td>(256, 256, 1)</td>\n",
       "      <td>16-bit unsigned integer</td>\n",
       "      <td>(1.0, 1.0, 1.0)</td>\n",
       "      <td>(0, 0, -1, 1, 0, 0, 0, -1, 0)</td>\n",
       "    </tr>\n",
       "    <tr>\n",
       "      <th>4</th>\n",
       "      <td>ABVIB</td>\n",
       "      <td>../../../mnt/d/PitMRdata/ABVIB/ABVIB/69/t1_mpr...</td>\n",
       "      <td>(256, 256, 1)</td>\n",
       "      <td>16-bit unsigned integer</td>\n",
       "      <td>(1.0, 1.0, 1.0)</td>\n",
       "      <td>(0, 0, -1, 1, 0, 0, 0, -1, 0)</td>\n",
       "    </tr>\n",
       "    <tr>\n",
       "      <th>5</th>\n",
       "      <td>ABVIB</td>\n",
       "      <td>../../../mnt/d/PitMRdata/ABVIB/ABVIB/60006/MPR...</td>\n",
       "      <td>(256, 256, 1)</td>\n",
       "      <td>16-bit unsigned integer</td>\n",
       "      <td>(1.0, 1.0, 1.0)</td>\n",
       "      <td>(0, 0, -1, 1, 0, 0, 0, -1, 0)</td>\n",
       "    </tr>\n",
       "    <tr>\n",
       "      <th>6</th>\n",
       "      <td>ACRIN-FMISO-Brain</td>\n",
       "      <td>../../../mnt/d/PitMRdata/ACRIN-FMISO-Brain/ACR...</td>\n",
       "      <td>(128, 128, 1)</td>\n",
       "      <td>16-bit unsigned integer</td>\n",
       "      <td>(1.85, 1.85, 1.85)</td>\n",
       "      <td>(1, 0, 0, 0, 1, 0, 0, 0, 1)</td>\n",
       "    </tr>\n",
       "    <tr>\n",
       "      <th>7</th>\n",
       "      <td>ACRIN-FMISO-Brain</td>\n",
       "      <td>../../../mnt/d/PitMRdata/ACRIN-FMISO-Brain/ACR...</td>\n",
       "      <td>(256, 256, 1)</td>\n",
       "      <td>16-bit signed integer</td>\n",
       "      <td>(0.94, 0.94, 10.0)</td>\n",
       "      <td>(1, 0, 0, 0, 1, 0, 0, 0, 1)</td>\n",
       "    </tr>\n",
       "    <tr>\n",
       "      <th>8</th>\n",
       "      <td>ACRIN-FMISO-Brain</td>\n",
       "      <td>../../../mnt/d/PitMRdata/ACRIN-FMISO-Brain/ACR...</td>\n",
       "      <td>(256, 256, 1)</td>\n",
       "      <td>16-bit unsigned integer</td>\n",
       "      <td>(1.0, 1.0, 1.0)</td>\n",
       "      <td>(1, 0, 0, 0, 1, 0, 0, 0, 1)</td>\n",
       "    </tr>\n",
       "    <tr>\n",
       "      <th>9</th>\n",
       "      <td>ADNI</td>\n",
       "      <td>../../../mnt/d/PitMRdata/ADNI/ADNI1_Complete_1...</td>\n",
       "      <td>(192, 192, 160)</td>\n",
       "      <td>32-bit float</td>\n",
       "      <td>(1.25, 1.25, 1.2)</td>\n",
       "      <td>(0, 0, 1, 0, 1, 0, -1, 0, 0)</td>\n",
       "    </tr>\n",
       "    <tr>\n",
       "      <th>10</th>\n",
       "      <td>ADNI</td>\n",
       "      <td>../../../mnt/d/PitMRdata/ADNI/ADNI1_Annual_2_Y...</td>\n",
       "      <td>(256, 256, 170)</td>\n",
       "      <td>32-bit float</td>\n",
       "      <td>(1.0, 1.0, 1.2)</td>\n",
       "      <td>(0, 0, 1, 0, 1, 0, -1, 0, 0)</td>\n",
       "    </tr>\n",
       "    <tr>\n",
       "      <th>11</th>\n",
       "      <td>ADNI</td>\n",
       "      <td>../../../mnt/d/PitMRdata/ADNI/ADNI1_Complete_1...</td>\n",
       "      <td>(192, 192, 160)</td>\n",
       "      <td>32-bit float</td>\n",
       "      <td>(1.25, 1.25, 1.2)</td>\n",
       "      <td>(0, 0, 1, 0, 1, 0, -1, 0, 0)</td>\n",
       "    </tr>\n",
       "    <tr>\n",
       "      <th>12</th>\n",
       "      <td>PPMI</td>\n",
       "      <td>../../../mnt/d/PitMRdata/PPMI/PPMI/41411/MPRAG...</td>\n",
       "      <td>(256, 256, 1)</td>\n",
       "      <td>16-bit unsigned integer</td>\n",
       "      <td>(0.95, 0.95, 1.0)</td>\n",
       "      <td>(0, 0, -1, 1, 0, 0, 0, -1, 0)</td>\n",
       "    </tr>\n",
       "    <tr>\n",
       "      <th>13</th>\n",
       "      <td>PPMI</td>\n",
       "      <td>../../../mnt/d/PitMRdata/PPMI/PPMI/3466/3D_SAG...</td>\n",
       "      <td>(256, 256, 1)</td>\n",
       "      <td>64-bit float</td>\n",
       "      <td>(0.94, 0.94, 1.2)</td>\n",
       "      <td>(0, 0, -1, 1, 0, 0, 0, -1, 0)</td>\n",
       "    </tr>\n",
       "    <tr>\n",
       "      <th>14</th>\n",
       "      <td>PPMI</td>\n",
       "      <td>../../../mnt/d/PitMRdata/PPMI/PPMI/4084/MPRAGE...</td>\n",
       "      <td>(240, 256, 1)</td>\n",
       "      <td>16-bit unsigned integer</td>\n",
       "      <td>(1.0, 1.0, 1.0)</td>\n",
       "      <td>(0, 0, -1, 1, 0, 0, 0, -1, 0)</td>\n",
       "    </tr>\n",
       "  </tbody>\n",
       "</table>\n",
       "</div>"
      ],
      "text/plain": [
       "               folder                                                 fn  \\\n",
       "0               ABIDE  ../../../mnt/d/PitMRdata/ABIDE/ABIDE_1/50438/M...   \n",
       "1               ABIDE  ../../../mnt/d/PitMRdata/ABIDE/ABIDE/51274/Mat...   \n",
       "2               ABIDE  ../../../mnt/d/PitMRdata/ABIDE/ABIDE_1/50304/M...   \n",
       "3               ABVIB  ../../../mnt/d/PitMRdata/ABVIB/ABVIB/238/MPRAG...   \n",
       "4               ABVIB  ../../../mnt/d/PitMRdata/ABVIB/ABVIB/69/t1_mpr...   \n",
       "5               ABVIB  ../../../mnt/d/PitMRdata/ABVIB/ABVIB/60006/MPR...   \n",
       "6   ACRIN-FMISO-Brain  ../../../mnt/d/PitMRdata/ACRIN-FMISO-Brain/ACR...   \n",
       "7   ACRIN-FMISO-Brain  ../../../mnt/d/PitMRdata/ACRIN-FMISO-Brain/ACR...   \n",
       "8   ACRIN-FMISO-Brain  ../../../mnt/d/PitMRdata/ACRIN-FMISO-Brain/ACR...   \n",
       "9                ADNI  ../../../mnt/d/PitMRdata/ADNI/ADNI1_Complete_1...   \n",
       "10               ADNI  ../../../mnt/d/PitMRdata/ADNI/ADNI1_Annual_2_Y...   \n",
       "11               ADNI  ../../../mnt/d/PitMRdata/ADNI/ADNI1_Complete_1...   \n",
       "12               PPMI  ../../../mnt/d/PitMRdata/PPMI/PPMI/41411/MPRAG...   \n",
       "13               PPMI  ../../../mnt/d/PitMRdata/PPMI/PPMI/3466/3D_SAG...   \n",
       "14               PPMI  ../../../mnt/d/PitMRdata/PPMI/PPMI/4084/MPRAGE...   \n",
       "\n",
       "                 sz                       px                  sp  \\\n",
       "0   (160, 480, 512)    16-bit signed integer     (1.2, 0.5, 0.5)   \n",
       "1    (128, 128, 34)    16-bit signed integer     (1.5, 1.5, 4.0)   \n",
       "2   (256, 256, 124)    16-bit signed integer   (1.02, 1.02, 1.2)   \n",
       "3     (256, 256, 1)  16-bit unsigned integer     (1.0, 1.0, 1.0)   \n",
       "4     (256, 256, 1)  16-bit unsigned integer     (1.0, 1.0, 1.0)   \n",
       "5     (256, 256, 1)  16-bit unsigned integer     (1.0, 1.0, 1.0)   \n",
       "6     (128, 128, 1)  16-bit unsigned integer  (1.85, 1.85, 1.85)   \n",
       "7     (256, 256, 1)    16-bit signed integer  (0.94, 0.94, 10.0)   \n",
       "8     (256, 256, 1)  16-bit unsigned integer     (1.0, 1.0, 1.0)   \n",
       "9   (192, 192, 160)             32-bit float   (1.25, 1.25, 1.2)   \n",
       "10  (256, 256, 170)             32-bit float     (1.0, 1.0, 1.2)   \n",
       "11  (192, 192, 160)             32-bit float   (1.25, 1.25, 1.2)   \n",
       "12    (256, 256, 1)  16-bit unsigned integer   (0.95, 0.95, 1.0)   \n",
       "13    (256, 256, 1)             64-bit float   (0.94, 0.94, 1.2)   \n",
       "14    (240, 256, 1)  16-bit unsigned integer     (1.0, 1.0, 1.0)   \n",
       "\n",
       "                              dir  \n",
       "0    (1, 0, 0, 0, -1, 0, 0, 0, 1)  \n",
       "1     (1, 0, 0, 0, 0, 0, 0, 0, 0)  \n",
       "2    (1, 0, 0, 0, -1, 0, 0, 0, 1)  \n",
       "3   (0, 0, -1, 1, 0, 0, 0, -1, 0)  \n",
       "4   (0, 0, -1, 1, 0, 0, 0, -1, 0)  \n",
       "5   (0, 0, -1, 1, 0, 0, 0, -1, 0)  \n",
       "6     (1, 0, 0, 0, 1, 0, 0, 0, 1)  \n",
       "7     (1, 0, 0, 0, 1, 0, 0, 0, 1)  \n",
       "8     (1, 0, 0, 0, 1, 0, 0, 0, 1)  \n",
       "9    (0, 0, 1, 0, 1, 0, -1, 0, 0)  \n",
       "10   (0, 0, 1, 0, 1, 0, -1, 0, 0)  \n",
       "11   (0, 0, 1, 0, 1, 0, -1, 0, 0)  \n",
       "12  (0, 0, -1, 1, 0, 0, 0, -1, 0)  \n",
       "13  (0, 0, -1, 1, 0, 0, 0, -1, 0)  \n",
       "14  (0, 0, -1, 1, 0, 0, 0, -1, 0)  "
      ]
     },
     "execution_count": 50,
     "metadata": {},
     "output_type": "execute_result"
    }
   ],
   "source": [
    "def get_folder_name(s):\n",
    "    s = s[len(\"../../../mnt/d/PitMRdata/\"):]\n",
    "    return s[0:s.index(\"/\")]\n",
    "\n",
    "# get extension\n",
    "# assume all files in dir have same extension\n",
    "def get_ext(dir_path):\n",
    "    # assume all files in dir have same extension\n",
    "    file = next(os.walk(dir_path))[2][0]\n",
    "    \n",
    "    # in case file is bytes not str\n",
    "    try:\n",
    "        file = file.decode()\n",
    "    except:\n",
    "        pass\n",
    "    \n",
    "    return Path(file).suffix.lower()\n",
    "\n",
    "# data frame w/ meta data info\n",
    "d = [None] * len(flat_train_paths)\n",
    "\n",
    "for i,path in enumerate(flat_train_paths):\n",
    "    \n",
    "    # get folder name = data src\n",
    "    folder = get_folder_name(path)\n",
    "    \n",
    "    # get file ext (nii, dcm, etc)\n",
    "    idx    = src2idx[folder]\n",
    "    ext    = get_ext(path)\n",
    "    \n",
    "    # get file\n",
    "    # ASSUMES only 1 nii in folder\n",
    "    \n",
    "    if ext == \".nii\" or ext == \".dcm\":\n",
    "        file = os.listdir(str(path))[0]\n",
    "        file = f\"{path}/{file}\"\n",
    "    else:\n",
    "        print(f\"Weird ext - {ext}.\")\n",
    "    \n",
    "    # read meta data\n",
    "    reader = sitk.ImageFileReader()\n",
    "    reader.SetFileName(file)\n",
    "    reader.ReadImageInformation()\n",
    "    \n",
    "    d[i] = {\n",
    "        \"folder\": folder,\n",
    "        \"fn\":  file,\n",
    "        \"sz\": reader.GetSize(),\n",
    "        \"px\": sitk.GetPixelIDValueAsString(reader.GetPixelID()),\n",
    "        \"sp\": tuple(round(x,2) for x in reader.GetSpacing()),\n",
    "        \"dir\": tuple(int(round(x,1)) for x in reader.GetDirection())\n",
    "    }\n",
    "    \n",
    "d = DF(d)\n",
    "d"
   ]
  },
  {
   "cell_type": "code",
   "execution_count": 57,
   "id": "brief-october",
   "metadata": {},
   "outputs": [],
   "source": [
    "def get_img_data(path):\n",
    "    # get folder name = data src\n",
    "    folder = get_folder_name(path)\n",
    "    \n",
    "    # get file ext (nii, dcm, etc)\n",
    "    idx    = src2idx[folder]\n",
    "    ext    = get_ext(path)\n",
    "    \n",
    "    # get file\n",
    "    # ASSUMES only 1 nii in folder\n",
    "    \n",
    "    if ext == \".nii\" or ext == \".dcm\":\n",
    "        file = os.listdir(str(path))[0]\n",
    "        file = f\"{path}/{file}\"\n",
    "    else:\n",
    "        print(f\"Weird ext - {ext}.\")\n",
    "        \n",
    "    reader = sitk.ImageFileReader()\n",
    "    reader.SetFileName(file)\n",
    "    reader.ReadImageInformation()\n",
    "    return  reader.GetSize(), reader.GetSpacing() #reader.GetDirection()"
   ]
  },
  {
   "cell_type": "code",
   "execution_count": 58,
   "id": "weekly-trader",
   "metadata": {},
   "outputs": [],
   "source": [
    "all_img_data = [get_img_data(path) for path in flat_train_paths]"
   ]
  },
  {
   "cell_type": "code",
   "execution_count": 59,
   "id": "naked-saint",
   "metadata": {},
   "outputs": [],
   "source": [
    "def get_reference_frame(all_img_data):\n",
    "    img_data = all_img_data\n",
    "    \n",
    "    dimension = 3 # 3D MRs\n",
    "    pixel_id = 2 # 16-bit signed integer\n",
    "\n",
    "    # Physical image size corresponds to the largest physical size in the training set, or any other arbitrary size.\n",
    "    reference_physical_size = np.zeros(dimension)\n",
    "\n",
    "    for img_sz, img_spc in img_data:\n",
    "        reference_physical_size[:] = [(sz-1)*spc if sz*spc>mx else mx \\\n",
    "                                      for sz, spc, mx in zip(img_sz, img_spc, reference_physical_size)]\n",
    "\n",
    "    print(reference_physical_size)\n",
    "    \n",
    "    # Create the reference image with a zero origin, identity direction cosine matrix and dimension     \n",
    "    reference_origin = np.zeros(dimension)\n",
    "    reference_direction = np.identity(dimension).flatten()\n",
    "\n",
    "    # Isotropic (1,1,1) pixels\n",
    "    reference_spacing = np.ones(dimension)\n",
    "    reference_size = [int(phys_sz/(spc) + 1) for phys_sz,spc in zip(reference_physical_size, reference_spacing)]\n",
    "\n",
    "    # Set reference image attributes\n",
    "    reference_image = sitk.Image(reference_size, pixel_id)\n",
    "    reference_image.SetOrigin(reference_origin)\n",
    "    reference_image.SetSpacing(reference_spacing)\n",
    "    reference_image.SetDirection(reference_direction)\n",
    "\n",
    "    reference_center = np.array(reference_image.TransformContinuousIndexToPhysicalPoint(np.array(reference_image.GetSize())/2.0))\n",
    "    return reference_size, pixel_id, reference_origin, reference_spacing, reference_direction, reference_center\n",
    "\n",
    "def get_reference_image(reference_frame):\n",
    "    reference_size, pixel_id, reference_origin, reference_spacing, reference_direction, reference_center = reference_frame\n",
    "    reference_image = sitk.Image(reference_size, pixel_id)\n",
    "    reference_image.SetOrigin(reference_origin)\n",
    "    reference_image.SetSpacing(reference_spacing)\n",
    "    reference_image.SetDirection(reference_direction)\n",
    "    return reference_image, reference_center"
   ]
  },
  {
   "cell_type": "code",
   "execution_count": 60,
   "id": "discrete-nursery",
   "metadata": {},
   "outputs": [
    {
     "name": "stdout",
     "output_type": "stream",
     "text": [
      "[258.98309827 258.98309827 255.5       ]\n"
     ]
    }
   ],
   "source": [
    "reference_frame = get_reference_frame(all_img_data)"
   ]
  },
  {
   "cell_type": "code",
   "execution_count": 61,
   "id": "sound-prince",
   "metadata": {},
   "outputs": [
    {
     "data": {
      "text/plain": [
       "([259, 259, 256],\n",
       " 2,\n",
       " array([0., 0., 0.]),\n",
       " array([1., 1., 1.]),\n",
       " array([1., 0., 0., 0., 1., 0., 0., 0., 1.]),\n",
       " array([129.5, 129.5, 128. ]))"
      ]
     },
     "execution_count": 61,
     "metadata": {},
     "output_type": "execute_result"
    }
   ],
   "source": [
    "reference_frame"
   ]
  },
  {
   "cell_type": "code",
   "execution_count": 62,
   "id": "visible-andorra",
   "metadata": {},
   "outputs": [],
   "source": [
    "reference_image, reference_center = get_reference_image(reference_frame)"
   ]
  },
  {
   "cell_type": "code",
   "execution_count": 63,
   "id": "played-effect",
   "metadata": {},
   "outputs": [
    {
     "data": {
      "text/plain": [
       "array([129.5, 129.5, 128. ])"
      ]
     },
     "execution_count": 63,
     "metadata": {},
     "output_type": "execute_result"
    }
   ],
   "source": [
    "reference_center"
   ]
  },
  {
   "cell_type": "code",
   "execution_count": 64,
   "id": "english-folder",
   "metadata": {},
   "outputs": [
    {
     "name": "stdout",
     "output_type": "stream",
     "text": [
      "Size:  (259, 259, 256)\n",
      "Origin:  (0.0, 0.0, 0.0)\n",
      "Spacing:  (1.0, 1.0, 1.0)\n",
      "Direction:  (1.0, 0.0, 0.0, 0.0, 1.0, 0.0, 0.0, 0.0, 1.0)\n",
      "Pixel type: 2 = 16-bit signed integer\n"
     ]
    }
   ],
   "source": [
    "print_sitk_info(reference_image)"
   ]
  },
  {
   "cell_type": "code",
   "execution_count": null,
   "id": "fitting-reynolds",
   "metadata": {},
   "outputs": [],
   "source": []
  }
 ],
 "metadata": {
  "kernelspec": {
   "display_name": "Python 3",
   "language": "python",
   "name": "python3"
  },
  "language_info": {
   "codemirror_mode": {
    "name": "ipython",
    "version": 3
   },
   "file_extension": ".py",
   "mimetype": "text/x-python",
   "name": "python",
   "nbconvert_exporter": "python",
   "pygments_lexer": "ipython3",
   "version": "3.8.5"
  },
  "toc-autonumbering": true,
  "toc-showcode": false,
  "toc-showmarkdowntxt": false
 },
 "nbformat": 4,
 "nbformat_minor": 5
}
