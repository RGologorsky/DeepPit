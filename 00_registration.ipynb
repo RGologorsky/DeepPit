{
 "cells": [
  {
   "cell_type": "markdown",
   "id": "fd9a964c",
   "metadata": {},
   "source": [
    "# Goal\n",
    "\n",
    "sitk registration. 1) rigid 2) nonrigid 3) label vote 4) save row of df in txt file w/ moving fn, atlas fn, dice, hausdorff, before and after"
   ]
  },
  {
   "cell_type": "code",
   "execution_count": 1,
   "id": "2c0f1b5d",
   "metadata": {},
   "outputs": [],
   "source": [
    "# %load_ext autoreload\n",
    "# %autoreload 2"
   ]
  },
  {
   "cell_type": "code",
   "execution_count": 2,
   "id": "4a821950",
   "metadata": {},
   "outputs": [
    {
     "name": "stdout",
     "output_type": "stream",
     "text": [
      "Taskid: 0\n"
     ]
    }
   ],
   "source": [
    "import os\n",
    "\n",
    "try:\n",
    "    taskid = int(os.getenv('SLURM_ARRAY_TASK_ID'))\n",
    "except:\n",
    "    taskid = 0\n",
    "    \n",
    "print(f\"Taskid: {taskid}\")"
   ]
  },
  {
   "cell_type": "code",
   "execution_count": 3,
   "id": "8bed72a3",
   "metadata": {},
   "outputs": [],
   "source": [
    "import time\n",
    "import torch\n",
    "import SimpleITK as sitk\n",
    "import numpy as np\n",
    "import pandas as pd\n",
    "\n",
    "from helpers.preprocess import torch_mask2bbox"
   ]
  },
  {
   "cell_type": "markdown",
   "id": "4ac7b8da",
   "metadata": {},
   "source": [
    "# get items"
   ]
  },
  {
   "cell_type": "code",
   "execution_count": 4,
   "id": "e88486eb",
   "metadata": {},
   "outputs": [
    {
     "name": "stdout",
     "output_type": "stream",
     "text": [
      "Cross\n",
      "/gpfs/data/oermannlab/private_data/DeepPit/PitMRdata/samir_labels/PPMI_full\n",
      "/gpfs/data/oermannlab/private_data/DeepPit/PitMRdata/samir_labels/ICMB_full\n",
      "/gpfs/data/oermannlab/private_data/DeepPit/PitMRdata/samir_labels/ADNI1_full\n",
      "/gpfs/data/oermannlab/private_data/DeepPit/PitMRdata/samir_labels/AIBL_full\n",
      "/gpfs/data/oermannlab/private_data/DeepPit/PitMRdata/samir_labels/ABVIB_full\n",
      "**************************************************\n",
      "Abide\n",
      "/gpfs/data/oermannlab/private_data/DeepPit/PitMRdata/samir_labels/50373-50453\n",
      "/gpfs/data/oermannlab/private_data/DeepPit/PitMRdata/samir_labels/50313-50372\n",
      "/gpfs/data/oermannlab/private_data/DeepPit/PitMRdata/samir_labels/50213-50312\n",
      "/gpfs/data/oermannlab/private_data/DeepPit/PitMRdata/samir_labels/50155-50212\n",
      "/gpfs/data/oermannlab/private_data/DeepPit/PitMRdata/samir_labels/50002-50153\n",
      "Full lbl items: 335\n",
      "Removed 2 weird, new total lbl items: 333\n",
      "train, valid, test 201 66 66 total 333\n",
      "/gpfs/data/oermannlab/private_data/DeepPit/saved_rigid_reg/taskid_0.pkl\n"
     ]
    }
   ],
   "source": [
    "from helpers.items_constants import *\n",
    "\n",
    "save_loc = f\"{data_src}/saved_rigid_reg/taskid_{taskid}.pkl\"\n",
    "print(save_loc)"
   ]
  },
  {
   "cell_type": "code",
   "execution_count": 5,
   "id": "34ff15f3",
   "metadata": {},
   "outputs": [
    {
     "name": "stdout",
     "output_type": "stream",
     "text": [
      "ABIDE: 333\n",
      "Others: 418\n"
     ]
    }
   ],
   "source": [
    "print(f\"ABIDE: {len(abide_lbl_items)}\")\n",
    "print(f\"Others: {len(cross_lbl_items)}\")"
   ]
  },
  {
   "cell_type": "code",
   "execution_count": 6,
   "id": "ac443d44",
   "metadata": {},
   "outputs": [
    {
     "name": "stdout",
     "output_type": "stream",
     "text": [
      "All lbl items: 751\n"
     ]
    }
   ],
   "source": [
    "all_lbl_items = abide_lbl_items + cross_lbl_items\n",
    "print(f\"All lbl items: {len(all_lbl_items)}\")"
   ]
  },
  {
   "cell_type": "code",
   "execution_count": 7,
   "id": "7bca4217",
   "metadata": {},
   "outputs": [
    {
     "name": "stdout",
     "output_type": "stream",
     "text": [
      "N_chunks = 251\n",
      "(0, 3)\n"
     ]
    }
   ],
   "source": [
    "n_total   = len(all_lbl_items)\n",
    "chunk_len = 3    \n",
    "chunks    = [(i,min(i+chunk_len, n_total)) for i in range(0, n_total, chunk_len)]\n",
    "\n",
    "print(f\"N_chunks = {len(chunks)}\")\n",
    "# print(f\"Array Task ID: {taskid}\")\n",
    "# print(f\"Array ID: {os.getenv('SLURM_ARRAY_TASK_ID')}\")\n",
    "# print(f\"Job ID: {os.getenv('SLURM_JOB_ID')}\")\n",
    "#print(*chunks, sep=\"\\n\")\n",
    "\n",
    "task_chunk = chunks[taskid]\n",
    "print(task_chunk)"
   ]
  },
  {
   "cell_type": "code",
   "execution_count": null,
   "id": "b92de92f",
   "metadata": {},
   "outputs": [],
   "source": []
  },
  {
   "cell_type": "code",
   "execution_count": 8,
   "id": "271e83a5",
   "metadata": {},
   "outputs": [],
   "source": [
    "n_atlas = 10\n",
    "\n",
    "# set moving fns, non-overlapped fixed image fns\n",
    "# CHECK ABIDE ALL DIFFERENT STEM FOLDER\n",
    "moving_image_start_index, moving_image_end_index = task_chunk\n",
    "\n",
    "# atlas = fixed, not same patient as moving\n",
    "\n",
    "# threshold moving indices to be within ABIDE\n",
    "start = min(moving_image_start_index, len(abide_lbl_items))\n",
    "end   = min(moving_image_end_index, len(abide_lbl_items))\n",
    "\n",
    "fixed_image_indices  = list(range(0, start)) + list(range(end, len(abide_lbl_items)))\n",
    "fixed_image_indices  = np.random.choice(fixed_image_indices, size=n_atlas, replace=False)\n",
    "\n",
    "moving_image_items = [all_lbl_items[i]   for i in range(moving_image_start_index, moving_image_end_index)]\n",
    "fixed_image_items  = [abide_lbl_items[i] for i in fixed_image_indices]"
   ]
  },
  {
   "cell_type": "markdown",
   "id": "dd8f7541",
   "metadata": {},
   "source": [
    "# eval metrics"
   ]
  },
  {
   "cell_type": "code",
   "execution_count": 9,
   "id": "0b8057a4",
   "metadata": {},
   "outputs": [],
   "source": [
    "# evaluate\n",
    "filters = [sitk.LabelOverlapMeasuresImageFilter(), sitk.HausdorffDistanceImageFilter()]\n",
    "methods = [\n",
    "    [\n",
    "        sitk.LabelOverlapMeasuresImageFilter.GetDiceCoefficient, \n",
    "        sitk.LabelOverlapMeasuresImageFilter.GetFalseNegativeError, \n",
    "        sitk.LabelOverlapMeasuresImageFilter.GetFalsePositiveError\n",
    "    ],\n",
    "    [sitk.HausdorffDistanceImageFilter.GetHausdorffDistance]\n",
    "]\n",
    "\n",
    "names = [\n",
    "    [\"dice\", \"false_neg\", \"false_pos\"],\n",
    "    [\"hausdorff_dist\"]\n",
    "]"
   ]
  },
  {
   "cell_type": "markdown",
   "id": "c25b9a95",
   "metadata": {},
   "source": [
    "# align"
   ]
  },
  {
   "cell_type": "code",
   "execution_count": 10,
   "id": "ba691953",
   "metadata": {},
   "outputs": [],
   "source": [
    "def rigid_intramodal_registration(fixed_image, moving_image):\n",
    "    \n",
    "    # registration\n",
    "    registration_method = sitk.ImageRegistrationMethod()\n",
    "    \n",
    "    # initial transform, T: Moving -> Fixed space, used to resample F to M's domain\n",
    "    \n",
    "    # Set the initial moving and optimized transforms.\n",
    "    initial_transform = sitk.CenteredTransformInitializer(\n",
    "        fixed_image, moving_image, \n",
    "        sitk.Euler3DTransform(), \n",
    "        sitk.CenteredTransformInitializerFilter.GEOMETRY\n",
    "    )\n",
    "    \n",
    "    optimized_transform = sitk.Euler3DTransform()    \n",
    "    registration_method.SetMovingInitialTransform(initial_transform)\n",
    "    registration_method.SetInitialTransform(optimized_transform, inPlace=False)\n",
    "    \n",
    "    # metric\n",
    "    registration_method.SetMetricAsMattesMutualInformation()\n",
    "    \n",
    "    registration_method.SetMetricSamplingStrategy(registration_method.RANDOM)\n",
    "    registration_method.SetMetricSamplingPercentage(0.01)\n",
    "    #registration_method.SetMetricFixedMask(fixed_image_mask)\n",
    "    \n",
    "    # multi-res\n",
    "    registration_method.SetShrinkFactorsPerLevel(shrinkFactors    = [4,2,1])\n",
    "    registration_method.SetSmoothingSigmasPerLevel(smoothingSigmas= [2,1,0])\n",
    "    registration_method.SmoothingSigmasAreSpecifiedInPhysicalUnitsOn()\n",
    "    \n",
    "    # interpolator\n",
    "    registration_method.SetInterpolator(sitk.sitkLinear)\n",
    "    \n",
    "    # optimizer\n",
    "    registration_method.SetOptimizerAsGradientDescent(\n",
    "        learningRate=1.0, \n",
    "        numberOfIterations=100,\n",
    "        convergenceMinimumValue=1e-6,\n",
    "        convergenceWindowSize=10\n",
    "    )\n",
    "    registration_method.SetOptimizerScalesFromPhysicalShift()\n",
    "    \n",
    "    # Execute\n",
    "    final_transform = registration_method.Execute(fixed_image, moving_image)\n",
    "    \n",
    "    # Always check the reason optimization terminated.\n",
    "    print('Final metric value: {0}'.format(registration_method.GetMetricValue()))\n",
    "    print('Optimizer\\'s stopping condition, {0}'.format(registration_method.GetOptimizerStopConditionDescription()))\n",
    "\n",
    "    return final_transform\n",
    "    "
   ]
  },
  {
   "cell_type": "code",
   "execution_count": 11,
   "id": "402d9d58",
   "metadata": {},
   "outputs": [],
   "source": [
    "def get_isotropic(obj, mask_obj = None, new_spacing = (1,1,1), interpolator=sitk.sitkLinear):\n",
    "    \"\"\" returns obj w/ 1mm isotropic voxels \"\"\"\n",
    "    \n",
    "    original_size    = obj.GetSize()\n",
    "    original_spacing = obj.GetSpacing()\n",
    "\n",
    "    min_spacing = min(new_spacing)\n",
    "\n",
    "    new_size = [int(round(osz*ospc/min_spacing)) for osz,ospc in zip(original_size, original_spacing)]\n",
    "\n",
    "    def resample(o): return sitk.Resample(o, new_size, sitk.Transform(), interpolator,\n",
    "                             o.GetOrigin(), new_spacing, obj.GetDirection(), 0,\n",
    "                             o.GetPixelID())\n",
    "    \n",
    "    return resample(obj), resample(mask_obj) if mask_obj else resample(obj)  "
   ]
  },
  {
   "cell_type": "code",
   "execution_count": 12,
   "id": "13527c16",
   "metadata": {},
   "outputs": [],
   "source": [
    "# path to sitk objs\n",
    "def load_mask(mk_path, mr):\n",
    "    mk = torch.load(mk_path)\n",
    "    mk = sitk.GetImageFromArray(torch.transpose(mk.byte(), 0, 2))\n",
    "    mk.CopyInformation(mr)\n",
    "    return mk\n",
    "\n",
    "def load_mr_mk(mr_path, mk_path):\n",
    "    mr = sitk.ReadImage(mr_path, sitk.sitkFloat32)\n",
    "    mk = load_mask(mk_path, mr)\n",
    "    return mr, mk\n",
    "\n",
    "def process_input(*args):\n",
    "    return [load_mr_mk(*item) for item in args]"
   ]
  },
  {
   "cell_type": "code",
   "execution_count": 13,
   "id": "ccdb28da",
   "metadata": {},
   "outputs": [],
   "source": [
    "# get output segmentation\n",
    "def get_segm(fixed_image, fixed_mask, moving_image):\n",
    "    \n",
    "    # get final transform, move M onto F's domain; inverse F onto M\n",
    "    tx     = rigid_intramodal_registration(fixed_image, moving_image)\n",
    "    inv_tx = tx.GetInverse()\n",
    "\n",
    "    # get output\n",
    "    fixed_mask_resampled = sitk.Resample(fixed_mask, moving_image, inv_tx, sitk.sitkNearestNeighbor,\n",
    "                                         0.0, #out of bounds pixel color\n",
    "                                        fixed_mask.GetPixelID())\n",
    "    return fixed_mask_resampled"
   ]
  },
  {
   "cell_type": "code",
   "execution_count": 14,
   "id": "97eb435a",
   "metadata": {},
   "outputs": [],
   "source": [
    "# d{\"dice\": x, \"Hausdorff\": y, \"false pos\": z}\n",
    "def eval_measure(ground_truth, after_registration, names_todo=None):\n",
    "    if isinstance(names_todo, str): names_todo = [names_todo]\n",
    "        \n",
    "    d = {}\n",
    "    for f,method_list, name_list in zip(filters, methods, names):\n",
    "        for m,n in zip(method_list, name_list):\n",
    "            if not names_todo or n in names_todo:\n",
    "                try:\n",
    "                    f.Execute(ground_truth, after_registration)\n",
    "                    val = m(f)\n",
    "                except:\n",
    "                    val = \"-99\"\n",
    "                d[n] = val\n",
    "    return d"
   ]
  },
  {
   "cell_type": "code",
   "execution_count": 15,
   "id": "ab24a4b0",
   "metadata": {
    "scrolled": false
   },
   "outputs": [
    {
     "name": "stdout",
     "output_type": "stream",
     "text": [
      "Final metric value: -0.3553016062288833\n",
      "Optimizer's stopping condition, GradientDescentOptimizerv4Template: Convergence checker passed at iteration 9.\n",
      "Final metric value: -0.4148447611692993\n",
      "Optimizer's stopping condition, GradientDescentOptimizerv4Template: Convergence checker passed at iteration 10.\n",
      "Final metric value: -0.43166103635548925\n",
      "Optimizer's stopping condition, GradientDescentOptimizerv4Template: Convergence checker passed at iteration 66.\n",
      "Final metric value: -0.4920749574047666\n",
      "Optimizer's stopping condition, GradientDescentOptimizerv4Template: Convergence checker passed at iteration 36.\n",
      "Final metric value: -0.47939354939114\n",
      "Optimizer's stopping condition, GradientDescentOptimizerv4Template: Convergence checker passed at iteration 10.\n",
      "Final metric value: -0.5182083817669905\n",
      "Optimizer's stopping condition, GradientDescentOptimizerv4Template: Convergence checker passed at iteration 33.\n",
      "Final metric value: -0.3820007223947017\n",
      "Optimizer's stopping condition, GradientDescentOptimizerv4Template: Convergence checker passed at iteration 9.\n",
      "Final metric value: -0.4348215809226703\n",
      "Optimizer's stopping condition, GradientDescentOptimizerv4Template: Convergence checker passed at iteration 9.\n",
      "Final metric value: -0.5110083217809158\n",
      "Optimizer's stopping condition, GradientDescentOptimizerv4Template: Convergence checker passed at iteration 10.\n",
      "Final metric value: -0.44957181766728826\n",
      "Optimizer's stopping condition, GradientDescentOptimizerv4Template: Convergence checker passed at iteration 40.\n",
      "Elapsed: 44.73 s for 10 atlases.\n",
      "Final metric value: -0.35771605405398976\n",
      "Optimizer's stopping condition, GradientDescentOptimizerv4Template: Convergence checker passed at iteration 9.\n",
      "Final metric value: -0.30114248608579636\n",
      "Optimizer's stopping condition, GradientDescentOptimizerv4Template: Convergence checker passed at iteration 10.\n",
      "Final metric value: -0.4316247267538257\n",
      "Optimizer's stopping condition, GradientDescentOptimizerv4Template: Convergence checker passed at iteration 9.\n",
      "Final metric value: -0.36902182259697897\n",
      "Optimizer's stopping condition, GradientDescentOptimizerv4Template: Convergence checker passed at iteration 10.\n",
      "Final metric value: -0.3719572557397503\n",
      "Optimizer's stopping condition, GradientDescentOptimizerv4Template: Convergence checker passed at iteration 10.\n",
      "Final metric value: -0.46175639406037494\n",
      "Optimizer's stopping condition, GradientDescentOptimizerv4Template: Convergence checker passed at iteration 9.\n",
      "Final metric value: -0.4158966150621192\n",
      "Optimizer's stopping condition, GradientDescentOptimizerv4Template: Convergence checker passed at iteration 10.\n",
      "Final metric value: -0.332338285054944\n",
      "Optimizer's stopping condition, GradientDescentOptimizerv4Template: Convergence checker passed at iteration 18.\n",
      "Final metric value: -0.3827110021076448\n",
      "Optimizer's stopping condition, GradientDescentOptimizerv4Template: Convergence checker passed at iteration 31.\n",
      "Final metric value: -0.4242361032555762\n",
      "Optimizer's stopping condition, GradientDescentOptimizerv4Template: Convergence checker passed at iteration 12.\n",
      "Elapsed: 42.62 s for 10 atlases.\n",
      "Final metric value: -0.46338705739002667\n",
      "Optimizer's stopping condition, GradientDescentOptimizerv4Template: Convergence checker passed at iteration 33.\n",
      "Final metric value: -0.25113610668129804\n",
      "Optimizer's stopping condition, GradientDescentOptimizerv4Template: Convergence checker passed at iteration 9.\n",
      "Final metric value: -0.4389424576647517\n",
      "Optimizer's stopping condition, GradientDescentOptimizerv4Template: Convergence checker passed at iteration 38.\n",
      "Final metric value: -0.487848616468037\n",
      "Optimizer's stopping condition, GradientDescentOptimizerv4Template: Convergence checker passed at iteration 11.\n",
      "Final metric value: -0.4985984136344841\n",
      "Optimizer's stopping condition, GradientDescentOptimizerv4Template: Convergence checker passed at iteration 28.\n",
      "Final metric value: -0.5310758884835366\n",
      "Optimizer's stopping condition, GradientDescentOptimizerv4Template: Convergence checker passed at iteration 9.\n",
      "Final metric value: -0.40076585916602303\n",
      "Optimizer's stopping condition, GradientDescentOptimizerv4Template: Convergence checker passed at iteration 10.\n",
      "Final metric value: -0.42904664416972693\n",
      "Optimizer's stopping condition, GradientDescentOptimizerv4Template: Convergence checker passed at iteration 10.\n",
      "Final metric value: -0.5226807044555296\n",
      "Optimizer's stopping condition, GradientDescentOptimizerv4Template: Convergence checker passed at iteration 18.\n",
      "Final metric value: -0.4660742708941563\n",
      "Optimizer's stopping condition, GradientDescentOptimizerv4Template: Convergence checker passed at iteration 9.\n",
      "Elapsed: 41.16 s for 10 atlases.\n",
      "Final metric value: -0.468505404302689\n",
      "Optimizer's stopping condition, GradientDescentOptimizerv4Template: Convergence checker passed at iteration 9.\n",
      "Final metric value: -0.44173073765665977\n",
      "Optimizer's stopping condition, GradientDescentOptimizerv4Template: Convergence checker passed at iteration 10.\n",
      "Final metric value: -0.42664959126515006\n",
      "Optimizer's stopping condition, GradientDescentOptimizerv4Template: Convergence checker passed at iteration 9.\n",
      "Final metric value: -0.4895804268197752\n",
      "Optimizer's stopping condition, GradientDescentOptimizerv4Template: Convergence checker passed at iteration 10.\n",
      "Final metric value: -0.5517032237410437\n",
      "Optimizer's stopping condition, GradientDescentOptimizerv4Template: Convergence checker passed at iteration 61.\n",
      "Final metric value: -0.5481516606195206\n",
      "Optimizer's stopping condition, GradientDescentOptimizerv4Template: Convergence checker passed at iteration 9.\n",
      "Final metric value: -0.3961688950079346\n",
      "Optimizer's stopping condition, GradientDescentOptimizerv4Template: Convergence checker passed at iteration 9.\n",
      "Final metric value: -0.39385724072915884\n",
      "Optimizer's stopping condition, GradientDescentOptimizerv4Template: Convergence checker passed at iteration 12.\n",
      "Final metric value: -0.5377916908057847\n",
      "Optimizer's stopping condition, GradientDescentOptimizerv4Template: Convergence checker passed at iteration 13.\n",
      "Final metric value: -0.47630081674081587\n",
      "Optimizer's stopping condition, GradientDescentOptimizerv4Template: Convergence checker passed at iteration 18.\n",
      "Elapsed: 51.62 s for 10 atlases.\n",
      "Final metric value: -0.40262341588502837\n",
      "Optimizer's stopping condition, GradientDescentOptimizerv4Template: Convergence checker passed at iteration 9.\n",
      "Final metric value: -0.354601562399571\n",
      "Optimizer's stopping condition, GradientDescentOptimizerv4Template: Convergence checker passed at iteration 12.\n",
      "Final metric value: -0.38043838461742424\n",
      "Optimizer's stopping condition, GradientDescentOptimizerv4Template: Convergence checker passed at iteration 9.\n",
      "Final metric value: -0.3929366482406005\n",
      "Optimizer's stopping condition, GradientDescentOptimizerv4Template: Convergence checker passed at iteration 11.\n",
      "Final metric value: -0.41813815951530975\n",
      "Optimizer's stopping condition, GradientDescentOptimizerv4Template: Convergence checker passed at iteration 10.\n",
      "Final metric value: -0.41345354327969874\n",
      "Optimizer's stopping condition, GradientDescentOptimizerv4Template: Convergence checker passed at iteration 9.\n",
      "Final metric value: -0.39014952279047027\n",
      "Optimizer's stopping condition, GradientDescentOptimizerv4Template: Convergence checker passed at iteration 37.\n",
      "Final metric value: -0.27179366169219665\n",
      "Optimizer's stopping condition, GradientDescentOptimizerv4Template: Convergence checker passed at iteration 9.\n",
      "Final metric value: -0.4281257746371276\n",
      "Optimizer's stopping condition, GradientDescentOptimizerv4Template: Convergence checker passed at iteration 9.\n",
      "Final metric value: -0.3861924267090064\n",
      "Optimizer's stopping condition, GradientDescentOptimizerv4Template: Convergence checker passed at iteration 9.\n",
      "Elapsed: 42.58 s for 10 atlases.\n",
      "Final metric value: -0.41678503144615325\n",
      "Optimizer's stopping condition, GradientDescentOptimizerv4Template: Convergence checker passed at iteration 44.\n",
      "Final metric value: -0.35029368343582523\n",
      "Optimizer's stopping condition, GradientDescentOptimizerv4Template: Convergence checker passed at iteration 24.\n",
      "Final metric value: -0.356056793598632\n",
      "Optimizer's stopping condition, GradientDescentOptimizerv4Template: Convergence checker passed at iteration 9.\n"
     ]
    },
    {
     "name": "stdout",
     "output_type": "stream",
     "text": [
      "Final metric value: -0.4167384809130438\n",
      "Optimizer's stopping condition, GradientDescentOptimizerv4Template: Convergence checker passed at iteration 10.\n",
      "Final metric value: -0.4185601782094553\n",
      "Optimizer's stopping condition, GradientDescentOptimizerv4Template: Convergence checker passed at iteration 61.\n",
      "Final metric value: -0.43712721314784064\n",
      "Optimizer's stopping condition, GradientDescentOptimizerv4Template: Convergence checker passed at iteration 9.\n",
      "Final metric value: -0.36355285652625086\n",
      "Optimizer's stopping condition, GradientDescentOptimizerv4Template: Convergence checker passed at iteration 15.\n",
      "Final metric value: -0.3678644409670767\n",
      "Optimizer's stopping condition, GradientDescentOptimizerv4Template: Convergence checker passed at iteration 10.\n",
      "Final metric value: -0.3372425609638682\n",
      "Optimizer's stopping condition, GradientDescentOptimizerv4Template: Convergence checker passed at iteration 9.\n",
      "Final metric value: -0.38698338216536754\n",
      "Optimizer's stopping condition, GradientDescentOptimizerv4Template: Convergence checker passed at iteration 9.\n",
      "Elapsed: 43.88 s for 10 atlases.\n",
      "Final metric value: -0.37191967680909893\n",
      "Optimizer's stopping condition, GradientDescentOptimizerv4Template: Convergence checker passed at iteration 16.\n",
      "Final metric value: -0.33045275245335715\n",
      "Optimizer's stopping condition, GradientDescentOptimizerv4Template: Convergence checker passed at iteration 15.\n",
      "Final metric value: -0.46285013103919764\n",
      "Optimizer's stopping condition, GradientDescentOptimizerv4Template: Convergence checker passed at iteration 19.\n",
      "Final metric value: -0.3624881829496475\n",
      "Optimizer's stopping condition, GradientDescentOptimizerv4Template: Convergence checker passed at iteration 10.\n",
      "Final metric value: -0.38229200850960554\n",
      "Optimizer's stopping condition, GradientDescentOptimizerv4Template: Convergence checker passed at iteration 35.\n",
      "Final metric value: -0.4949641660726287\n",
      "Optimizer's stopping condition, GradientDescentOptimizerv4Template: Convergence checker passed at iteration 15.\n",
      "Final metric value: -0.4724844247428401\n",
      "Optimizer's stopping condition, GradientDescentOptimizerv4Template: Convergence checker passed at iteration 41.\n",
      "Final metric value: -0.3514498672427274\n",
      "Optimizer's stopping condition, GradientDescentOptimizerv4Template: Convergence checker passed at iteration 45.\n",
      "Final metric value: -0.3880423589359328\n",
      "Optimizer's stopping condition, GradientDescentOptimizerv4Template: Convergence checker passed at iteration 20.\n",
      "Final metric value: -0.34000798782410085\n",
      "Optimizer's stopping condition, GradientDescentOptimizerv4Template: Convergence checker passed at iteration 9.\n",
      "Elapsed: 44.79 s for 10 atlases.\n",
      "Final metric value: -0.45896651236177244\n",
      "Optimizer's stopping condition, GradientDescentOptimizerv4Template: Convergence checker passed at iteration 11.\n",
      "Final metric value: -0.4067747470751733\n",
      "Optimizer's stopping condition, GradientDescentOptimizerv4Template: Convergence checker passed at iteration 10.\n",
      "Final metric value: -0.3886802341513251\n",
      "Optimizer's stopping condition, GradientDescentOptimizerv4Template: Convergence checker passed at iteration 10.\n",
      "Final metric value: -0.4492616946390249\n",
      "Optimizer's stopping condition, GradientDescentOptimizerv4Template: Convergence checker passed at iteration 10.\n",
      "Final metric value: -0.4874848312415695\n",
      "Optimizer's stopping condition, GradientDescentOptimizerv4Template: Convergence checker passed at iteration 10.\n",
      "Final metric value: -0.594412472347162\n",
      "Optimizer's stopping condition, GradientDescentOptimizerv4Template: Convergence checker passed at iteration 18.\n",
      "Final metric value: -0.3628924039101045\n",
      "Optimizer's stopping condition, GradientDescentOptimizerv4Template: Convergence checker passed at iteration 9.\n",
      "Final metric value: -0.38563128339327524\n",
      "Optimizer's stopping condition, GradientDescentOptimizerv4Template: Convergence checker passed at iteration 9.\n",
      "Final metric value: -0.46536094454029775\n",
      "Optimizer's stopping condition, GradientDescentOptimizerv4Template: Convergence checker passed at iteration 10.\n",
      "Final metric value: -0.43854971042873453\n",
      "Optimizer's stopping condition, GradientDescentOptimizerv4Template: Convergence checker passed at iteration 9.\n",
      "Elapsed: 50.10 s for 10 atlases.\n"
     ]
    }
   ],
   "source": [
    "rows = []\n",
    "# {moving_fn, atlas1..10_fn, metrics1...10_val}\n",
    "\n",
    "for moving_image_item in moving_image_items:\n",
    "    start = time.time()\n",
    "    \n",
    "    # filenames\n",
    "    fns_dict = {\n",
    "        \"moving_fn\": moving_image_item[0], \n",
    "        **{f\"fixed_fn{i}\": fixed_image_item[0] for i,fixed_image_item in enumerate(fixed_image_items)}\n",
    "    }\n",
    "         \n",
    "    # load inputs\n",
    "    sitk_items = process_input(moving_image_item, *fixed_image_items)\n",
    "    \n",
    "    # iso\n",
    "    sitk_items = [get_isotropic(*item) for item in sitk_items]\n",
    "    \n",
    "    moving_image, moving_mask = sitk_items[0]\n",
    "    fixed_items               = sitk_items[1:]\n",
    "    \n",
    "    # get atlas votes\n",
    "    atlas_masks = [get_segm(*fixed_item, moving_image) for fixed_item in fixed_items]\n",
    "    \n",
    "    # get dice for indiv atlas: [{dice: x}, {dice:y}] -> {dice0: x, dice1: y}\n",
    "    dices = [eval_measure(moving_mask, atlas_mask, \"dice\") for atlas_mask in atlas_masks]\n",
    "    dices_dict = {f\"{k}{i}\":v for i,d in enumerate(dices) for k,v in d.items()}\n",
    "    \n",
    "    # get majority vote\n",
    "    labelForUndecidedPixels = 1\n",
    "    majority_vote = sitk.LabelVoting(atlas_masks, labelForUndecidedPixels)    \n",
    "    \n",
    "    # compute metrics {dice: x, \"Hausdorff\": y, \"false pos\": z, \"false neg\"}\n",
    "    metrics = eval_measure(moving_mask, majority_vote)\n",
    "    metrics_dict = {f\"majority_{k}\":v for k,v in metrics.items()}\n",
    "    \n",
    "    rows.append({**fns_dict, **dices_dict, **metrics_dict})\n",
    "    \n",
    "    elapsed = time.time() - start\n",
    "    print(f\"Elapsed: {elapsed:.2f} s for {len(fixed_image_indices)} atlases.\") "
   ]
  },
  {
   "cell_type": "code",
   "execution_count": 32,
   "id": "53c8466f",
   "metadata": {},
   "outputs": [],
   "source": [
    "# rows_df[[f\"dice{i}\" for i in range(n_atlas)]+[\"majority_dice\"]]"
   ]
  },
  {
   "cell_type": "code",
   "execution_count": 33,
   "id": "f418eb4f",
   "metadata": {},
   "outputs": [],
   "source": [
    "# l = rows_df[[f\"fixed_fn{i}\" for i in range(n_atlas)]+[\"moving_fn\"]].values[0]\n",
    "# from pathlib import Path\n",
    "# for idx,i in enumerate(l): print(idx,Path(i).parent.parent.parent.parent.name)"
   ]
  },
  {
   "cell_type": "code",
   "execution_count": 16,
   "id": "da728191",
   "metadata": {},
   "outputs": [],
   "source": [
    "import pandas as pd\n",
    "\n",
    "# save as dataframe\n",
    "rows_df = pd.DataFrame(rows)\n",
    "rows_df.to_pickle(save_loc)"
   ]
  },
  {
   "cell_type": "markdown",
   "id": "205978f4",
   "metadata": {},
   "source": [
    "# End"
   ]
  },
  {
   "cell_type": "code",
   "execution_count": 17,
   "id": "427c75b3",
   "metadata": {},
   "outputs": [
    {
     "name": "stdout",
     "output_type": "stream",
     "text": [
      "Done\n"
     ]
    }
   ],
   "source": [
    "print(\"Done\")"
   ]
  }
 ],
 "metadata": {
  "kernelspec": {
   "display_name": "Python 3",
   "language": "python",
   "name": "python3"
  },
  "language_info": {
   "codemirror_mode": {
    "name": "ipython",
    "version": 3
   },
   "file_extension": ".py",
   "mimetype": "text/x-python",
   "name": "python",
   "nbconvert_exporter": "python",
   "pygments_lexer": "ipython3",
   "version": "3.6.9"
  }
 },
 "nbformat": 4,
 "nbformat_minor": 5
}
