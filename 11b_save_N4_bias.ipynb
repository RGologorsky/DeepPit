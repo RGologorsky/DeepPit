{
 "cells": [
  {
   "cell_type": "markdown",
   "id": "705a6225",
   "metadata": {},
   "source": [
    "# Goal\n",
    "\n",
    "Save N4 bias field correction"
   ]
  },
  {
   "cell_type": "markdown",
   "id": "dec891cc",
   "metadata": {},
   "source": [
    "# Imports"
   ]
  },
  {
   "cell_type": "code",
   "execution_count": 1,
   "id": "ef0a2b4b",
   "metadata": {},
   "outputs": [
    {
     "name": "stdout",
     "output_type": "stream",
     "text": [
      "Folders in data src: ICMB, ABVIB (1).zip, central.xnat.org, ADNI, PPMI, Oasis_long, samir_labels, ACRIN-FMISO-Brain, LGG-1p19qDeletion, REMBRANDT, AIBL, test.txt, CPTAC-GBM, ABIDE-ABIDE-top.txt, TCGA-GBM, TCGA-LGG, ABVIB, ABIDE, AIBL.zip\n",
      "Folders in label src (data w labels): 50155-50212, 50313-50372, 50213-50312, 50373-50453, 50002-50153\n",
      "Folders in ABIDE src (data wo labels) PAD, ABIDE_1, ABIDE\n"
     ]
    }
   ],
   "source": [
    "import os\n",
    "\n",
    "# Paths to (1) code (2) data (3) saved models\n",
    "code_src    = \"/gpfs/home/gologr01\"\n",
    "data_src    = \"/gpfs/data/oermannlab/private_data/DeepPit/PitMRdata\"\n",
    "model_src   = \"/gpfs/data/oermannlab/private_data/DeepPit/saved_models\"\n",
    "\n",
    "# UMich \n",
    "# code src: \"/home/labcomputer/Desktop/Rachel\"\n",
    "# data src: \"../../../../..//media/labcomputer/e33f6fe0-5ede-4be4-b1f2-5168b7903c7a/home/rachel/\"\n",
    "\n",
    "deepPit_src = f\"{code_src}/DeepPit\"\n",
    "obelisk_src = f\"{code_src}/OBELISK\"\n",
    "label_src   = f\"{data_src}/samir_labels\"\n",
    "ABIDE_src   = f\"{data_src}/ABIDE\"\n",
    "\n",
    "# print\n",
    "print(\"Folders in data src: \", end=\"\"); print(*os.listdir(data_src), sep=\", \")\n",
    "print(\"Folders in label src (data w labels): \", end=\"\"); print(*os.listdir(label_src), sep=\", \")\n",
    "print(\"Folders in ABIDE src (data wo labels) \", end=\"\"); print(*os.listdir(ABIDE_src), sep=\", \")"
   ]
  },
  {
   "cell_type": "code",
   "execution_count": 2,
   "id": "0cc19f13",
   "metadata": {},
   "outputs": [],
   "source": [
    "# imports\n",
    "\n",
    "import os\n",
    "import sys\n",
    "import time\n",
    "import glob\n",
    "# sys.path.append('/gpfs/home/gologr01/DeepPit')\n",
    "# sys.path.append('/gpfs/home/gologr01/OBELISK')\n",
    "\n",
    "# imports\n",
    "import SimpleITK as sitk\n",
    "import torch\n",
    "import meshio\n",
    "from pathlib import Path\n",
    "from helpers.preprocess import seg2mask, get_data_dict"
   ]
  },
  {
   "cell_type": "markdown",
   "id": "f5aaa82a",
   "metadata": {},
   "source": [
    "# MR data"
   ]
  },
  {
   "cell_type": "code",
   "execution_count": 3,
   "id": "6efe3112",
   "metadata": {},
   "outputs": [],
   "source": [
    "def get_data_dict_n4(train_path):\n",
    "    train_folders   = os.listdir(train_path)\n",
    "    train_data_dict = {}\n",
    "    for folder in train_folders:\n",
    "        segm_obj_path = os.path.join(train_path, folder, \"seg.pt\")\n",
    "\n",
    "        mp_path      = os.path.join(train_path, folder, \"MP-RAGE\")\n",
    "        folder1_path = os.path.join(mp_path, os.listdir(mp_path)[0])\n",
    "        folder2_path = os.path.join(folder1_path, os.listdir(folder1_path)[0])\n",
    "\n",
    "        # choose corrected_n4 if available\n",
    "        nii_paths = glob.glob(f\"{folder2_path}/*.nii\")\n",
    "        nii_path = nii_paths[0]\n",
    "         \n",
    "        if len(nii_paths) > 1 and not nii_path.endswith(\"corrected_n4.nii\"):\n",
    "            nii_path = nii_paths[1]\n",
    "            \n",
    "        if len(nii_paths) > 2:\n",
    "            print(folder2_path)\n",
    "            \n",
    "        train_data_dict[folder] = (nii_path, segm_obj_path) #(segm_obj_path, nii_path)\n",
    "    return train_data_dict"
   ]
  },
  {
   "cell_type": "code",
   "execution_count": 4,
   "id": "ea3b181f",
   "metadata": {},
   "outputs": [],
   "source": [
    "def get_data_dict_no_n4(train_path):\n",
    "    train_folders   = os.listdir(train_path)\n",
    "    train_data_dict = {}\n",
    "    for folder in train_folders:\n",
    "        segm_obj_path = os.path.join(train_path, folder, \"seg.pt\")\n",
    "\n",
    "        mp_path      = os.path.join(train_path, folder, \"MP-RAGE\")\n",
    "        folder1_path = os.path.join(mp_path, os.listdir(mp_path)[0])\n",
    "        folder2_path = os.path.join(folder1_path, os.listdir(folder1_path)[0])\n",
    "\n",
    "        # choose NOT corrected_n4\n",
    "        nii_paths = glob.glob(f\"{folder2_path}/*.nii\")\n",
    "        \n",
    "        # get original .nii\n",
    "        for nii in nii_paths:\n",
    "            if not nii.endswith(\"corrected_n4.nii\"):\n",
    "                nii_path = nii\n",
    "            \n",
    "        train_data_dict[folder] = (nii_path, segm_obj_path) #(segm_obj_path, nii_path)\n",
    "    return train_data_dict"
   ]
  },
  {
   "cell_type": "code",
   "execution_count": 5,
   "id": "3056c9ce",
   "metadata": {},
   "outputs": [],
   "source": [
    "# Get data dict\n",
    "data = {}\n",
    "folders = os.listdir(label_src)\n",
    "for folder in folders: \n",
    "    data.update(get_data_dict_no_n4(f\"{label_src}/{folder}\"))\n",
    "\n",
    "# Convert data dict => items (path to MR, path to Segm tensor)\n",
    "items = list(data.values())\n",
    "\n",
    "# filter no corrected\n",
    "items_no_n4 = [item for item in items if not item[0].endswith(\"corrected_n4.nii\")]"
   ]
  },
  {
   "cell_type": "code",
   "execution_count": 6,
   "id": "b106d2a2",
   "metadata": {},
   "outputs": [
    {
     "name": "stdout",
     "output_type": "stream",
     "text": [
      "335 335 0\n"
     ]
    }
   ],
   "source": [
    "print(len(items), len(items_no_n4), len(items)-len(items_no_n4))"
   ]
  },
  {
   "cell_type": "code",
   "execution_count": 7,
   "id": "e78669c7",
   "metadata": {
    "scrolled": true
   },
   "outputs": [
    {
     "name": "stdout",
     "output_type": "stream",
     "text": [
      "/gpfs/data/oermannlab/private_data/DeepPit/PitMRdata/samir_labels/50155-50212/50201/MP-RAGE/2000-01-01_00_00_00.0/S164577/ABIDE_50201_MRI_MP-RAGE_br_raw_20120830171150028_S164577_I328580.nii\n",
      "/gpfs/data/oermannlab/private_data/DeepPit/PitMRdata/samir_labels/50155-50212/50201/MP-RAGE/2000-01-01_00_00_00.0/S164577/ABIDE_50201_MRI_MP-RAGE_br_raw_20120830171150028_S164577_I328580_corrected_n4.nii\n"
     ]
    }
   ],
   "source": [
    "print(items[0][0])\n",
    "print(items[0][0][:-4] + \"_corrected_n4.nii\")"
   ]
  },
  {
   "cell_type": "markdown",
   "id": "b9ce2116",
   "metadata": {},
   "source": [
    "# Process"
   ]
  },
  {
   "cell_type": "code",
   "execution_count": 8,
   "id": "f5c3cbf8",
   "metadata": {},
   "outputs": [
    {
     "name": "stdout",
     "output_type": "stream",
     "text": [
      "N left:  335\n",
      "Elapsed 16.489076137542725 s\n",
      "Index 0, fn /gpfs/data/oermannlab/private_data/DeepPit/PitMRdata/samir_labels/50155-50212/50201/MP-RAGE/2000-01-01_00_00_00.0/S164577/ABIDE_50201_MRI_MP-RAGE_br_raw_20120830171150028_S164577_I328580_corrected_n4.nii\n"
     ]
    },
    {
     "ename": "KeyboardInterrupt",
     "evalue": "",
     "output_type": "error",
     "traceback": [
      "\u001b[0;31m---------------------------------------------------------------------------\u001b[0m",
      "\u001b[0;31mKeyboardInterrupt\u001b[0m                         Traceback (most recent call last)",
      "\u001b[0;32m<ipython-input-8-becd7d1660c7>\u001b[0m in \u001b[0;36m<module>\u001b[0;34m\u001b[0m\n\u001b[1;32m     22\u001b[0m     \u001b[0mcorrector\u001b[0m \u001b[0;34m=\u001b[0m \u001b[0msitk\u001b[0m\u001b[0;34m.\u001b[0m\u001b[0mN4BiasFieldCorrectionImageFilter\u001b[0m\u001b[0;34m(\u001b[0m\u001b[0;34m)\u001b[0m\u001b[0;34m\u001b[0m\u001b[0;34m\u001b[0m\u001b[0m\n\u001b[1;32m     23\u001b[0m     \u001b[0mcorrector\u001b[0m\u001b[0;34m.\u001b[0m\u001b[0mSetMaximumNumberOfIterations\u001b[0m\u001b[0;34m(\u001b[0m\u001b[0;34m[\u001b[0m\u001b[0;36m3\u001b[0m\u001b[0;34m]\u001b[0m \u001b[0;34m*\u001b[0m \u001b[0;36m3\u001b[0m\u001b[0;34m)\u001b[0m\u001b[0;34m\u001b[0m\u001b[0;34m\u001b[0m\u001b[0m\n\u001b[0;32m---> 24\u001b[0;31m     \u001b[0mcorrected_image\u001b[0m \u001b[0;34m=\u001b[0m \u001b[0mcorrector\u001b[0m\u001b[0;34m.\u001b[0m\u001b[0mExecute\u001b[0m\u001b[0;34m(\u001b[0m\u001b[0minputImage\u001b[0m\u001b[0;34m,\u001b[0m \u001b[0mmaskImage\u001b[0m\u001b[0;34m)\u001b[0m\u001b[0;34m\u001b[0m\u001b[0;34m\u001b[0m\u001b[0m\n\u001b[0m\u001b[1;32m     25\u001b[0m \u001b[0;34m\u001b[0m\u001b[0m\n\u001b[1;32m     26\u001b[0m     \u001b[0;31m# write image\u001b[0m\u001b[0;34m\u001b[0m\u001b[0;34m\u001b[0m\u001b[0;34m\u001b[0m\u001b[0m\n",
      "\u001b[0;32m/usr/local/lib/python3.6/dist-packages/SimpleITK/SimpleITK.py\u001b[0m in \u001b[0;36mExecute\u001b[0;34m(self, *args)\u001b[0m\n\u001b[1;32m  18296\u001b[0m         \u001b[0mExecute\u001b[0m\u001b[0;34m(\u001b[0m\u001b[0mN4BiasFieldCorrectionImageFilter\u001b[0m \u001b[0mself\u001b[0m\u001b[0;34m,\u001b[0m \u001b[0mImage\u001b[0m \u001b[0mimage\u001b[0m\u001b[0;34m)\u001b[0m \u001b[0;34m->\u001b[0m \u001b[0mImage\u001b[0m\u001b[0;34m\u001b[0m\u001b[0;34m\u001b[0m\u001b[0m\n\u001b[1;32m  18297\u001b[0m         \"\"\"\n\u001b[0;32m> 18298\u001b[0;31m         \u001b[0;32mreturn\u001b[0m \u001b[0m_SimpleITK\u001b[0m\u001b[0;34m.\u001b[0m\u001b[0mN4BiasFieldCorrectionImageFilter_Execute\u001b[0m\u001b[0;34m(\u001b[0m\u001b[0mself\u001b[0m\u001b[0;34m,\u001b[0m \u001b[0;34m*\u001b[0m\u001b[0margs\u001b[0m\u001b[0;34m)\u001b[0m\u001b[0;34m\u001b[0m\u001b[0;34m\u001b[0m\u001b[0m\n\u001b[0m\u001b[1;32m  18299\u001b[0m \u001b[0;34m\u001b[0m\u001b[0m\n\u001b[1;32m  18300\u001b[0m \u001b[0;31m# Register N4BiasFieldCorrectionImageFilter in _SimpleITK:\u001b[0m\u001b[0;34m\u001b[0m\u001b[0;34m\u001b[0m\u001b[0;34m\u001b[0m\u001b[0m\n",
      "\u001b[0;31mKeyboardInterrupt\u001b[0m: "
     ]
    }
   ],
   "source": [
    "# from FAIMED3D 02_preprocessing\n",
    "# and https://simpleitk.readthedocs.io/en/master/link_N4BiasFieldCorrection_docs.html\n",
    "\n",
    "# 45-50 secs each => 5 hrs\n",
    "start = time.time()\n",
    "\n",
    "print(f\"N left: \", len(items_no_n4))\n",
    "\n",
    "count = 0\n",
    "\n",
    "for mr_path, seg_path in items_no_n4: \n",
    "    \n",
    "    start1 = time.time()\n",
    "    \n",
    "    # Read in image\n",
    "    inputImage = sitk.ReadImage(mr_path, sitk.sitkFloat32)\n",
    "    \n",
    "    # Mask the head to estimate bias\n",
    "    maskImage = sitk.OtsuThreshold(inputImage, 0, 1, 200)\n",
    "    \n",
    "    # Set corrector\n",
    "    corrector = sitk.N4BiasFieldCorrectionImageFilter()\n",
    "    corrector.SetMaximumNumberOfIterations([3] * 3)\n",
    "    corrected_image = corrector.Execute(inputImage, maskImage)\n",
    "\n",
    "    # write image\n",
    "    corrected_fn = mr_path[:-4] + \"_corrected_n4.nii\"\n",
    "    sitk.WriteImage(corrected_image, corrected_fn)\n",
    "\n",
    "    elapsed1 = time.time() - start1\n",
    "    print(f\"Elapsed {elapsed1} s\")\n",
    "\n",
    "    print(f\"Index {count}, fn {corrected_fn}\")\n",
    "    count += 1\n",
    "\n",
    "elapsed = time.time() - start\n",
    "print(f\"Total Elapsed {elapsed} s\")"
   ]
  },
  {
   "cell_type": "code",
   "execution_count": null,
   "id": "9a2e7981",
   "metadata": {},
   "outputs": [],
   "source": []
  }
 ],
 "metadata": {
  "kernelspec": {
   "display_name": "Python 3",
   "language": "python",
   "name": "python3"
  },
  "language_info": {
   "codemirror_mode": {
    "name": "ipython",
    "version": 3
   },
   "file_extension": ".py",
   "mimetype": "text/x-python",
   "name": "python",
   "nbconvert_exporter": "python",
   "pygments_lexer": "ipython3",
   "version": "3.6.9"
  }
 },
 "nbformat": 4,
 "nbformat_minor": 5
}
