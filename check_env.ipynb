{
 "cells": [
  {
   "cell_type": "code",
   "execution_count": 1,
   "metadata": {},
   "outputs": [
    {
     "name": "stdout",
     "output_type": "stream",
     "text": [
      "/gpfs/share/apps/anaconda3/gpu/5.2.0/bin/python\n"
     ]
    }
   ],
   "source": [
    "# https://github.com/jupyter/notebook/issues/2359\n",
    "\n",
    "import sys\n",
    "print(sys.executable)"
   ]
  },
  {
   "cell_type": "code",
   "execution_count": 2,
   "metadata": {},
   "outputs": [
    {
     "name": "stdout",
     "output_type": "stream",
     "text": [
      "/gpfs/data/oermannlab/gologr01/conda/py36/bin/python\n",
      "/gpfs/data/oermannlab/gologr01/conda/py36/lib/python3.6/site-packages\n",
      "/gpfs/share/apps/anaconda3/gpu/5.2.0/bin/conda\n"
     ]
    }
   ],
   "source": [
    "!which python\n",
    "!echo $PYTHONPATH\n",
    "!which conda"
   ]
  },
  {
   "cell_type": "code",
   "execution_count": 4,
   "metadata": {},
   "outputs": [
    {
     "data": {
      "text/plain": [
       "'/gpfs/share/apps/anaconda3/gpu/5.2.0/bin/python'"
      ]
     },
     "execution_count": 4,
     "metadata": {},
     "output_type": "execute_result"
    }
   ],
   "source": [
    "sys.executable"
   ]
  },
  {
   "cell_type": "code",
   "execution_count": 5,
   "metadata": {},
   "outputs": [
    {
     "data": {
      "text/plain": [
       "['',\n",
       " '/gpfs/data/oermannlab/gologr01/conda/py36/lib/python3.6/site-packages',\n",
       " '/gpfs/share/apps/anaconda3/gpu/5.2.0/lib/python36.zip',\n",
       " '/gpfs/share/apps/anaconda3/gpu/5.2.0/lib/python3.6',\n",
       " '/gpfs/share/apps/anaconda3/gpu/5.2.0/lib/python3.6/lib-dynload',\n",
       " '/gpfs/share/apps/anaconda3/gpu/5.2.0/lib/python3.6/site-packages',\n",
       " '/gpfs/share/apps/anaconda3/gpu/5.2.0/lib/python3.6/site-packages/openmmlib-0.0.0-py3.6-linux-x86_64.egg',\n",
       " '/gpfs/share/apps/anaconda3/gpu/5.2.0/lib/python3.6/site-packages/IPython/extensions',\n",
       " '/gpfs/home/gologr01/.ipython',\n",
       " '/gpfs/data/oermannlab/gologr01/conda/py36/lib/python3.6/site-packages']"
      ]
     },
     "execution_count": 5,
     "metadata": {},
     "output_type": "execute_result"
    }
   ],
   "source": [
    "sys.path"
   ]
  },
  {
   "cell_type": "code",
   "execution_count": 6,
   "metadata": {},
   "outputs": [
    {
     "name": "stdout",
     "output_type": "stream",
     "text": [
      "Available kernels:\r\n",
      "  python3    /gpfs/share/apps/anaconda3/gpu/5.2.0/share/jupyter/kernels/python3\r\n"
     ]
    }
   ],
   "source": [
    "!jupyter kernelspec list"
   ]
  },
  {
   "cell_type": "code",
   "execution_count": 8,
   "metadata": {},
   "outputs": [
    {
     "ename": "ModuleNotFoundError",
     "evalue": "No module named 'GPUtil'",
     "output_type": "error",
     "traceback": [
      "\u001b[0;31m---------------------------------------------------------------------------\u001b[0m",
      "\u001b[0;31mModuleNotFoundError\u001b[0m                       Traceback (most recent call last)",
      "\u001b[0;32m<ipython-input-8-1c359d2ee618>\u001b[0m in \u001b[0;36m<module>\u001b[0;34m()\u001b[0m\n\u001b[1;32m      1\u001b[0m \u001b[0;31m# https://stackoverflow.com/questions/46767012/conda-list-shows-a-package-but-cannot-import-it\u001b[0m\u001b[0;34m\u001b[0m\u001b[0;34m\u001b[0m\u001b[0;34m\u001b[0m\u001b[0m\n\u001b[0;32m----> 2\u001b[0;31m \u001b[0;32mimport\u001b[0m \u001b[0mGPUtil\u001b[0m\u001b[0;34m\u001b[0m\u001b[0;34m\u001b[0m\u001b[0m\n\u001b[0m",
      "\u001b[0;31mModuleNotFoundError\u001b[0m: No module named 'GPUtil'"
     ]
    }
   ],
   "source": [
    "# https://stackoverflow.com/questions/46767012/conda-list-shows-a-package-but-cannot-import-it\n",
    "import GPUtil"
   ]
  },
  {
   "cell_type": "code",
   "execution_count": 7,
   "metadata": {
    "scrolled": true
   },
   "outputs": [
    {
     "name": "stdout",
     "output_type": "stream",
     "text": [
      "\n",
      "     active environment : /gpfs/data/oermannlab/gologr01/conda/py36\n",
      "    active env location : /gpfs/data/oermannlab/gologr01/conda/py36\n",
      "            shell level : 1\n",
      "       user config file : /gpfs/home/gologr01/.condarc\n",
      " populated config files : \n",
      "          conda version : 4.7.12\n",
      "    conda-build version : 3.10.5\n",
      "         python version : 3.6.8.final.0\n",
      "       virtual packages : \n",
      "       base environment : /gpfs/share/apps/anaconda3/gpu/5.2.0  (read only)\n",
      "           channel URLs : https://repo.anaconda.com/pkgs/main/linux-64\n",
      "                          https://repo.anaconda.com/pkgs/main/noarch\n",
      "                          https://repo.anaconda.com/pkgs/r/linux-64\n",
      "                          https://repo.anaconda.com/pkgs/r/noarch\n",
      "          package cache : /gpfs/share/apps/anaconda3/gpu/5.2.0/pkgs\n",
      "                          /gpfs/home/gologr01/.conda/pkgs\n",
      "       envs directories : /gpfs/home/gologr01/.conda/envs\n",
      "                          /gpfs/share/apps/anaconda3/gpu/5.2.0/envs\n",
      "               platform : linux-64\n",
      "             user-agent : conda/4.7.12 requests/2.22.0 CPython/3.6.8 Linux/3.10.0-693.17.1.el7.x86_64 rhel/7.4 glibc/2.17\n",
      "                UID:GID : 1023970967:1023961477\n",
      "             netrc file : None\n",
      "           offline mode : False\n",
      "\n",
      "# packages in environment at /gpfs/data/oermannlab/gologr01/conda/py36:\n",
      "#\n",
      "# Name                    Version                   Build  Channel\n",
      "_libgcc_mutex             0.1                        main  \n",
      "_openmp_mutex             4.5                       1_gnu  \n",
      "attrs                     21.2.0             pyhd3eb1b0_0  \n",
      "blas                      1.0                         mkl  \n",
      "brotlipy                  0.7.0           py38h27cfd23_1003  \n",
      "ca-certificates           2021.5.25            h06a4308_1  \n",
      "cached-property           1.5.2                      py_0  \n",
      "catalogue                 1.0.0                    py38_1  \n",
      "certifi                   2021.5.30        py38h06a4308_0  \n",
      "cffi                      1.14.5           py38h261ae71_0  \n",
      "cftime                    1.5.0            py38h6323ea4_0  \n",
      "chardet                   4.0.0           py38h06a4308_1003  \n",
      "cryptography              3.4.7            py38hd23ed53_0  \n",
      "cudatoolkit               10.1.243             h6bb024c_0  \n",
      "curl                      7.71.1               hbc83047_1  \n",
      "cycler                    0.10.0                   py38_0  \n",
      "cymem                     2.0.5            py38h2531618_0  \n",
      "cython-blis               0.7.4            py38h27cfd23_1  \n",
      "dbus                      1.13.18              hb2f20db_0  \n",
      "expat                     2.4.1                h2531618_2  \n",
      "fastai                    2.4                        py_0    fastai\n",
      "fastcore                  1.3.20                     py_0    fastai\n",
      "fastprogress              1.0.0              pyh39e3cac_0    fastai\n",
      "fontconfig                2.13.1               h6c09931_0  \n",
      "freetype                  2.10.4               h5ab3b9f_0  \n",
      "glib                      2.68.2               h36276a3_0  \n",
      "gputil                    1.4.0              pyh9f0ad1d_0    conda-forge\n",
      "gst-plugins-base          1.14.0               h8213a91_2  \n",
      "gstreamer                 1.14.0               h28cd5cc_2  \n",
      "h5py                      3.2.1            py38h6c542dc_0  \n",
      "hdf4                      4.2.13               h3ca952b_2  \n",
      "hdf5                      1.10.6               hb1b8bf9_0  \n",
      "icu                       58.2                 he6710b0_3  \n",
      "idna                      2.10               pyhd3eb1b0_0  \n",
      "importlib-metadata        3.10.0           py38h06a4308_0  \n",
      "importlib_metadata        3.10.0               hd3eb1b0_0  \n",
      "intel-openmp              2021.2.0           h06a4308_610  \n",
      "joblib                    1.0.1              pyhd3eb1b0_0  \n",
      "jpeg                      9b                   h024ee3a_2  \n",
      "jsonschema                3.0.2                    py38_0  \n",
      "kiwisolver                1.3.1            py38h2531618_0  \n",
      "krb5                      1.18.2               h173b8e3_0  \n",
      "lcms2                     2.12                 h3be6417_0  \n",
      "ld_impl_linux-64          2.35.1               h7274673_9  \n",
      "libcurl                   7.71.1               h20c2e04_1  \n",
      "libedit                   3.1.20210216         h27cfd23_1  \n",
      "libffi                    3.3                  he6710b0_2  \n",
      "libgcc-ng                 9.3.0               h5101ec6_17  \n",
      "libgfortran-ng            7.5.0               ha8ba4b0_17  \n",
      "libgfortran4              7.5.0               ha8ba4b0_17  \n",
      "libgomp                   9.3.0               h5101ec6_17  \n",
      "libnetcdf                 4.6.1                h2053bdc_3  \n",
      "libpng                    1.6.37               hbc83047_0  \n",
      "libsodium                 1.0.18               h7b6447c_0  \n",
      "libssh2                   1.9.0                h1ba5d50_1  \n",
      "libstdcxx-ng              9.3.0               hd4cf53a_17  \n",
      "libtiff                   4.1.0                h2733197_1  \n",
      "libuuid                   1.0.3                h1bed415_2  \n",
      "libuv                     1.40.0               h7b6447c_0  \n",
      "libxcb                    1.14                 h7b6447c_0  \n",
      "libxml2                   2.9.10               hb55368b_3  \n",
      "lz4-c                     1.9.3                h2531618_0  \n",
      "matplotlib                3.3.4            py38h06a4308_0  \n",
      "matplotlib-base           3.3.4            py38h62a2d02_0  \n",
      "meshio                    4.4.6              pyhd8ed1ab_0    conda-forge\n",
      "mkl                       2021.2.0           h06a4308_296  \n",
      "mkl-service               2.3.0            py38h27cfd23_1  \n",
      "mkl_fft                   1.3.0            py38h42c9631_2  \n",
      "mkl_random                1.2.1            py38ha9443f7_2  \n",
      "murmurhash                1.0.5            py38h2531618_0  \n",
      "ncurses                   6.2                  he6710b0_1  \n",
      "netcdf4                   1.5.6            py38hd5c503a_0  \n",
      "ninja                     1.10.2               hff7bd54_1  \n",
      "numpy                     1.20.2           py38h2d18471_0  \n",
      "numpy-base                1.20.2           py38hfae3a4d_0  \n",
      "olefile                   0.46                       py_0  \n",
      "openssl                   1.1.1k               h27cfd23_0  \n",
      "packaging                 20.9               pyhd3eb1b0_0  \n",
      "pandas                    1.2.4            py38h2531618_0  \n",
      "pcre                      8.44                 he6710b0_0  \n",
      "pillow                    8.2.0            py38he98fc37_0  \n",
      "pip                       21.1.2           py38h06a4308_0  \n",
      "plac                      1.1.0                    py38_1  \n",
      "preshed                   3.0.5            py38h2531618_4  \n",
      "pycparser                 2.20                       py_2  \n",
      "pyopenssl                 20.0.1             pyhd3eb1b0_1  \n",
      "pyparsing                 2.4.7              pyhd3eb1b0_0  \n",
      "pyqt                      5.9.2            py38h05f1152_4  \n",
      "pyrsistent                0.17.3           py38h7b6447c_0  \n",
      "pysocks                   1.7.1            py38h06a4308_0  \n",
      "python                    3.8.10               h12debd9_8  \n",
      "python-dateutil           2.8.1              pyhd3eb1b0_0  \n",
      "pytorch                   1.7.1           py3.8_cuda10.1.243_cudnn7.6.3_0    pytorch\n",
      "pytz                      2021.1             pyhd3eb1b0_0  \n",
      "pyyaml                    5.4.1            py38h27cfd23_1  \n",
      "pyzmq                     20.0.0           py38h2531618_1  \n",
      "qt                        5.9.7                h5867ecd_1  \n",
      "readline                  8.1                  h27cfd23_0  \n",
      "requests                  2.25.1             pyhd3eb1b0_0  \n",
      "scikit-learn              0.24.2           py38ha9443f7_0  \n",
      "scipy                     1.6.2            py38had2a1c9_1  \n",
      "setuptools                52.0.0           py38h06a4308_0  \n",
      "simpleitk                 2.0.2            py38h3fd9d12_0    simpleitk\n",
      "sip                       4.19.13          py38he6710b0_0  \n",
      "six                       1.16.0             pyhd3eb1b0_0  \n",
      "spacy                     2.3.5            py38hff7bd54_0  \n",
      "sqlite                    3.35.4               hdfb4753_0  \n",
      "srsly                     1.0.5            py38h2531618_0  \n",
      "thinc                     7.4.5            py38h9a67853_0  \n",
      "threadpoolctl             2.1.0              pyh5ca1d4c_0  \n",
      "tk                        8.6.10               hbc83047_0  \n",
      "torchaudio                0.7.2                      py38    pytorch\n",
      "torchvision               0.8.2                py38_cu101    pytorch\n",
      "tornado                   6.1              py38h27cfd23_0  \n",
      "tqdm                      4.59.0             pyhd3eb1b0_1  \n",
      "typing_extensions         3.7.4.3            pyha847dfd_0  \n",
      "urllib3                   1.26.4             pyhd3eb1b0_0  \n",
      "wasabi                    0.8.2              pyhd3eb1b0_0  \n",
      "wheel                     0.36.2             pyhd3eb1b0_0  \n",
      "xz                        5.2.5                h7b6447c_0  \n",
      "yaml                      0.2.5                h7b6447c_0  \n",
      "zeromq                    4.3.4                h2531618_0  \n",
      "zipp                      3.4.1              pyhd3eb1b0_0  \n",
      "zlib                      1.2.11               h7b6447c_3  \n",
      "zstd                      1.4.9                haebb681_0  \n"
     ]
    },
    {
     "name": "stdout",
     "output_type": "stream",
     "text": [
      "/gpfs/data/oermannlab/gologr01/conda/py36/bin/python\r\n"
     ]
    }
   ],
   "source": [
    "!conda info\n",
    "!conda list\n",
    "!which python"
   ]
  },
  {
   "cell_type": "code",
   "execution_count": null,
   "metadata": {},
   "outputs": [],
   "source": []
  }
 ],
 "metadata": {
  "kernelspec": {
   "display_name": "Python 3",
   "language": "python",
   "name": "python3"
  },
  "language_info": {
   "codemirror_mode": {
    "name": "ipython",
    "version": 3
   },
   "file_extension": ".py",
   "mimetype": "text/x-python",
   "name": "python",
   "nbconvert_exporter": "python",
   "pygments_lexer": "ipython3",
   "version": "3.6.8"
  }
 },
 "nbformat": 4,
 "nbformat_minor": 2
}
