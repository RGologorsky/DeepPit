{
 "cells": [
  {
   "cell_type": "markdown",
   "id": "tired-insight",
   "metadata": {},
   "source": [
    "One-paragraph abstract (150 words or less, in a Word file)  \n",
    "Digital headshot (high-resolution JPG preferred)  \n",
    "Letter of tax determination from your institution  \n",
    "W-9 Form from your institution \n",
    "\n",
    "# Research Abstract \n",
    "Preoperative localization of adrenocorticotropic hormone (ACTH)-secreting pituitary microadenomas remains a diagnostic challenge. Although pituitary MRI is the most common diagnostic study for pituitary tumors, negative MRIs occur in up to 50% of patients with biochemically confirmed Cushing’s disease and surgical failure approaches 50% in this group. Inferior petrosal sinus sampling (IPSS) was developed to lateralize ACTH-secreting adenomas. Unfortunately, IPSS is invasive and has a lateralization accuracy of 69%.There is a critical need to improve preoperative localization in order to optimize the safety, accuracy, and efficacy of surgical treatment. We hypothesize that state-of-the-art deep convolutional neural network models trained on curated institutional pituitary adenoma MRI series and public brain MRI datasets will allow for automated detection and localization of ACTH-secreting microadenomas. In addition to the clinical contribution, we aim to contribute a methodological template for automated detection, localization, and interpretation of complex skull base lesions.\n"
   ]
  },
  {
   "cell_type": "markdown",
   "id": "gross-basis",
   "metadata": {},
   "source": [
    "Q: tweak research abstract for ABTA?"
   ]
  },
  {
   "cell_type": "markdown",
   "id": "funny-meaning",
   "metadata": {},
   "source": [
    "# Imports"
   ]
  },
  {
   "cell_type": "code",
   "execution_count": 1,
   "id": "actual-invalid",
   "metadata": {},
   "outputs": [],
   "source": [
    "# imports\n",
    "\n",
    "import os, sys\n",
    "import numpy as np\n",
    "import SimpleITK as sitk\n",
    "\n",
    "from helpers_general import sitk2np, np2sitk, round_tuple, lrange, get_roi_range, numbers2groups\n",
    "from helpers_preprocess import mask2bbox, print_bbox, get_bbox_size, print_bbox_size, get_data_dict, folder2objs\n",
    "from helpers_metrics import compute_dice_coefficient, compute_coverage_coefficient\n",
    "from helpers_viz import viz_axis"
   ]
  },
  {
   "cell_type": "code",
   "execution_count": 2,
   "id": "sufficient-entertainment",
   "metadata": {},
   "outputs": [],
   "source": [
    "# auto-reload when local helper fns change\n",
    "%load_ext autoreload\n",
    "%autoreload 2\n",
    "\n",
    "%matplotlib inline"
   ]
  },
  {
   "cell_type": "markdown",
   "id": "detected-writing",
   "metadata": {},
   "source": [
    "# Load Data"
   ]
  },
  {
   "cell_type": "code",
   "execution_count": 3,
   "id": "perceived-cycle",
   "metadata": {},
   "outputs": [
    {
     "name": "stdout",
     "output_type": "stream",
     "text": [
      "Train data folders: [range(50002, 50017), range(50019, 50020), range(50022, 50049), range(50455, 50464)]\n",
      "Training data: key = train folder, value = full path to (segm obj, nii file)\n",
      "\n",
      "Folder 50049:  \n",
      "\t ./train_data/train_data/50049/Segmentation.obj \n",
      "\t ./train_data/train_data/50049/MP-RAGE/2000-01-01_00_00_00.0/S164545/ABIDE_50049_MRI_MP-RAGE_br_raw_20120830165423769_S164545_I328548.nii \n",
      "\n",
      "Folder 50455:  \n",
      "\t ./train_data/train_data/50455/Segmentation.obj \n",
      "\t ./train_data/train_data/50455/MP-RAGE/2000-01-01_00_00_00.0/S165455/ABIDE_50455_MRI_MP-RAGE_br_raw_20120831000745302_S165455_I329465.nii \n",
      "\n",
      "Folder 50458:  \n",
      "\t ./train_data/train_data/50458/Segmentation.obj \n",
      "\t ./train_data/train_data/50458/MP-RAGE/2000-01-01_00_00_00.0/S165212/ABIDE_50458_MRI_MP-RAGE_br_raw_20120830215600956_S165212_I329222.nii \n",
      "\n",
      "Folder 50461:  \n",
      "\t ./train_data/train_data/50461/Segmentation.obj \n",
      "\t ./train_data/train_data/50461/MP-RAGE/2000-01-01_00_00_00.0/S165203/ABIDE_50461_MRI_MP-RAGE_br_raw_20120830215105276_S165203_I329213.nii \n",
      "\n",
      "Folder 50013:  \n",
      "\t ./train_data/train_data/50013/Segmentation.obj \n",
      "\t ./train_data/train_data/50013/MP-RAGE/2000-01-01_00_00_00.0/S165376/ABIDE_50013_MRI_MP-RAGE_br_raw_20120830232151169_S165376_I329386.nii \n",
      "\n"
     ]
    }
   ],
   "source": [
    "PROJ_PATH = \".\"\n",
    "\n",
    "# Folders containing MR train data\n",
    "train_path = f\"{PROJ_PATH}/train_data/train_data\"\n",
    "train_data_dict = get_data_dict(train_path)\n",
    "\n",
    "# print train data dict\n",
    "print(f\"Train data folders: {numbers2groups(sorted([int(x) for x in os.listdir(train_path)]))}\")\n",
    "print(f\"Training data: key = train folder, value = full path to (segm obj, nii file)\\n\")\n",
    "\n",
    "for folder_name, (obj_path, nii_path) in list(train_data_dict.items())[:5]:\n",
    "    print(f\"Folder {folder_name}: \", \"\\n\\t\", obj_path, \"\\n\\t\", nii_path, \"\\n\")"
   ]
  },
  {
   "cell_type": "markdown",
   "id": "fabulous-forward",
   "metadata": {},
   "source": [
    "### Load Atlas\n",
    "\n",
    "Preproccessing makes isotropic."
   ]
  },
  {
   "cell_type": "code",
   "execution_count": 4,
   "id": "abandoned-customs",
   "metadata": {},
   "outputs": [],
   "source": [
    "# isotropic preprocessing param\n",
    "iso_spacing      = (1,1,1)\n",
    "iso_interpolator = sitk.sitkLinear # sitk.sitkBSline"
   ]
  },
  {
   "cell_type": "code",
   "execution_count": 5,
   "id": "unusual-latvia",
   "metadata": {},
   "outputs": [],
   "source": [
    "# set atlas MRs (10 MRs labelled by Dr. Hollon, need nii LPS=>RAS adjustment)\n",
    "# takes 2 minutes to resample iso spacing\n",
    "atlas_range, ras_adj = range(50455, 50464), True\n",
    "atlas_folders = [str(i) for i in atlas_range]\n",
    "atlas_objs, atlas_mask_objs = zip(*[folder2objs(atlas_folder, train_data_dict, iso_spacing, iso_interpolator, ras_adj) \\\n",
    "                               for atlas_folder in atlas_folders])"
   ]
  },
  {
   "cell_type": "code",
   "execution_count": 6,
   "id": "powered-screening",
   "metadata": {},
   "outputs": [],
   "source": [
    "atlas_mask_arrs   = [sitk2np(o) for o in atlas_mask_objs]\n",
    "atlas_bbox_coords = [mask2bbox(arr) for arr in atlas_mask_arrs]"
   ]
  },
  {
   "cell_type": "code",
   "execution_count": 7,
   "id": "offshore-sweden",
   "metadata": {},
   "outputs": [],
   "source": [
    "from pandas import DataFrame\n",
    "\n",
    "def is_bbox(arr, imin, imax, jmin, jmax, kmin, kmax):\n",
    "    return np.all(arr[imin:imax, jmin:jmax, kmin:kmax])\n",
    "\n",
    "def get_info_df_row(folder, obj, mask_arr, bbox_coord):\n",
    "    print(bbox_coord)\n",
    "    shape0, shape1, shape2             = obj.GetSize()\n",
    "    imin, imax, jmin, jmax, kmin, kmax = bbox_coord\n",
    "    roi_size0, roi_size1, roi_size2    = imax-imin, jmax-jmin, kmax-kmin\n",
    "    is_bbox_bool                       = is_bbox(mask_arr, *bbox_coord)\n",
    "    \n",
    "    return {\"folder\": folder, \\\n",
    "            \"shape0\": shape0, \"shape1\": shape1, \"shape2\": shape2, \\\n",
    "            \"roi_size0\": roi_size0, \"roi_size1\": roi_size1, \"roi_size2\": roi_size2, \\\n",
    "            \"is_bbox\": is_bbox_bool,\n",
    "            \"imin\": imin, \"imax\":imax, \\\n",
    "            \"jmin\":jmin, \"jmax\": jmax, \\\n",
    "            \"kmin\": kmin, \"kmax\": kmax}\n",
    "    \n",
    "def get_info_df(folders, objs, mask_arrs, bbox_coords):\n",
    "    return DataFrame([get_info_df_row(folder, obj, mask_arr, bbox) \\\n",
    "                      for folder, obj, mask_arr, bbox in zip(folders, objs, mask_arrs, bbox_coords)])"
   ]
  },
  {
   "cell_type": "code",
   "execution_count": 8,
   "id": "conceptual-jefferson",
   "metadata": {},
   "outputs": [
    {
     "name": "stdout",
     "output_type": "stream",
     "text": [
      "(78, 111, 114, 142, 103, 120)\n",
      "(78, 107, 116, 140, 120, 136)\n",
      "(80, 108, 115, 140, 122, 138)\n",
      "(81, 105, 121, 144, 99, 118)\n",
      "(82, 114, 111, 135, 105, 122)\n",
      "(82, 110, 120, 147, 111, 125)\n",
      "(83, 110, 116, 137, 121, 137)\n",
      "(80, 109, 120, 144, 114, 130)\n",
      "(80, 109, 119, 145, 114, 132)\n"
     ]
    },
    {
     "data": {
      "text/html": [
       "<div>\n",
       "<style scoped>\n",
       "    .dataframe tbody tr th:only-of-type {\n",
       "        vertical-align: middle;\n",
       "    }\n",
       "\n",
       "    .dataframe tbody tr th {\n",
       "        vertical-align: top;\n",
       "    }\n",
       "\n",
       "    .dataframe thead th {\n",
       "        text-align: right;\n",
       "    }\n",
       "</style>\n",
       "<table border=\"1\" class=\"dataframe\">\n",
       "  <thead>\n",
       "    <tr style=\"text-align: right;\">\n",
       "      <th></th>\n",
       "      <th>folder</th>\n",
       "      <th>shape0</th>\n",
       "      <th>shape1</th>\n",
       "      <th>shape2</th>\n",
       "      <th>roi_size0</th>\n",
       "      <th>roi_size1</th>\n",
       "      <th>roi_size2</th>\n",
       "      <th>is_bbox</th>\n",
       "      <th>imin</th>\n",
       "      <th>imax</th>\n",
       "      <th>jmin</th>\n",
       "      <th>jmax</th>\n",
       "      <th>kmin</th>\n",
       "      <th>kmax</th>\n",
       "    </tr>\n",
       "  </thead>\n",
       "  <tbody>\n",
       "    <tr>\n",
       "      <th>0</th>\n",
       "      <td>50455</td>\n",
       "      <td>192</td>\n",
       "      <td>240</td>\n",
       "      <td>256</td>\n",
       "      <td>33</td>\n",
       "      <td>28</td>\n",
       "      <td>17</td>\n",
       "      <td>False</td>\n",
       "      <td>78</td>\n",
       "      <td>111</td>\n",
       "      <td>114</td>\n",
       "      <td>142</td>\n",
       "      <td>103</td>\n",
       "      <td>120</td>\n",
       "    </tr>\n",
       "    <tr>\n",
       "      <th>1</th>\n",
       "      <td>50456</td>\n",
       "      <td>192</td>\n",
       "      <td>240</td>\n",
       "      <td>256</td>\n",
       "      <td>29</td>\n",
       "      <td>24</td>\n",
       "      <td>16</td>\n",
       "      <td>False</td>\n",
       "      <td>78</td>\n",
       "      <td>107</td>\n",
       "      <td>116</td>\n",
       "      <td>140</td>\n",
       "      <td>120</td>\n",
       "      <td>136</td>\n",
       "    </tr>\n",
       "    <tr>\n",
       "      <th>2</th>\n",
       "      <td>50457</td>\n",
       "      <td>192</td>\n",
       "      <td>240</td>\n",
       "      <td>256</td>\n",
       "      <td>28</td>\n",
       "      <td>25</td>\n",
       "      <td>16</td>\n",
       "      <td>False</td>\n",
       "      <td>80</td>\n",
       "      <td>108</td>\n",
       "      <td>115</td>\n",
       "      <td>140</td>\n",
       "      <td>122</td>\n",
       "      <td>138</td>\n",
       "    </tr>\n",
       "    <tr>\n",
       "      <th>3</th>\n",
       "      <td>50458</td>\n",
       "      <td>192</td>\n",
       "      <td>240</td>\n",
       "      <td>256</td>\n",
       "      <td>24</td>\n",
       "      <td>23</td>\n",
       "      <td>19</td>\n",
       "      <td>False</td>\n",
       "      <td>81</td>\n",
       "      <td>105</td>\n",
       "      <td>121</td>\n",
       "      <td>144</td>\n",
       "      <td>99</td>\n",
       "      <td>118</td>\n",
       "    </tr>\n",
       "    <tr>\n",
       "      <th>4</th>\n",
       "      <td>50459</td>\n",
       "      <td>192</td>\n",
       "      <td>240</td>\n",
       "      <td>256</td>\n",
       "      <td>32</td>\n",
       "      <td>24</td>\n",
       "      <td>17</td>\n",
       "      <td>False</td>\n",
       "      <td>82</td>\n",
       "      <td>114</td>\n",
       "      <td>111</td>\n",
       "      <td>135</td>\n",
       "      <td>105</td>\n",
       "      <td>122</td>\n",
       "    </tr>\n",
       "    <tr>\n",
       "      <th>5</th>\n",
       "      <td>50460</td>\n",
       "      <td>192</td>\n",
       "      <td>240</td>\n",
       "      <td>256</td>\n",
       "      <td>28</td>\n",
       "      <td>27</td>\n",
       "      <td>14</td>\n",
       "      <td>True</td>\n",
       "      <td>82</td>\n",
       "      <td>110</td>\n",
       "      <td>120</td>\n",
       "      <td>147</td>\n",
       "      <td>111</td>\n",
       "      <td>125</td>\n",
       "    </tr>\n",
       "    <tr>\n",
       "      <th>6</th>\n",
       "      <td>50461</td>\n",
       "      <td>192</td>\n",
       "      <td>240</td>\n",
       "      <td>256</td>\n",
       "      <td>27</td>\n",
       "      <td>21</td>\n",
       "      <td>16</td>\n",
       "      <td>True</td>\n",
       "      <td>83</td>\n",
       "      <td>110</td>\n",
       "      <td>116</td>\n",
       "      <td>137</td>\n",
       "      <td>121</td>\n",
       "      <td>137</td>\n",
       "    </tr>\n",
       "    <tr>\n",
       "      <th>7</th>\n",
       "      <td>50462</td>\n",
       "      <td>192</td>\n",
       "      <td>240</td>\n",
       "      <td>256</td>\n",
       "      <td>29</td>\n",
       "      <td>24</td>\n",
       "      <td>16</td>\n",
       "      <td>False</td>\n",
       "      <td>80</td>\n",
       "      <td>109</td>\n",
       "      <td>120</td>\n",
       "      <td>144</td>\n",
       "      <td>114</td>\n",
       "      <td>130</td>\n",
       "    </tr>\n",
       "    <tr>\n",
       "      <th>8</th>\n",
       "      <td>50463</td>\n",
       "      <td>192</td>\n",
       "      <td>240</td>\n",
       "      <td>256</td>\n",
       "      <td>29</td>\n",
       "      <td>26</td>\n",
       "      <td>18</td>\n",
       "      <td>False</td>\n",
       "      <td>80</td>\n",
       "      <td>109</td>\n",
       "      <td>119</td>\n",
       "      <td>145</td>\n",
       "      <td>114</td>\n",
       "      <td>132</td>\n",
       "    </tr>\n",
       "  </tbody>\n",
       "</table>\n",
       "</div>"
      ],
      "text/plain": [
       "   folder  shape0  shape1  shape2  roi_size0  roi_size1  roi_size2  is_bbox  \\\n",
       "0   50455     192     240     256         33         28         17    False   \n",
       "1   50456     192     240     256         29         24         16    False   \n",
       "2   50457     192     240     256         28         25         16    False   \n",
       "3   50458     192     240     256         24         23         19    False   \n",
       "4   50459     192     240     256         32         24         17    False   \n",
       "5   50460     192     240     256         28         27         14     True   \n",
       "6   50461     192     240     256         27         21         16     True   \n",
       "7   50462     192     240     256         29         24         16    False   \n",
       "8   50463     192     240     256         29         26         18    False   \n",
       "\n",
       "   imin  imax  jmin  jmax  kmin  kmax  \n",
       "0    78   111   114   142   103   120  \n",
       "1    78   107   116   140   120   136  \n",
       "2    80   108   115   140   122   138  \n",
       "3    81   105   121   144    99   118  \n",
       "4    82   114   111   135   105   122  \n",
       "5    82   110   120   147   111   125  \n",
       "6    83   110   116   137   121   137  \n",
       "7    80   109   120   144   114   130  \n",
       "8    80   109   119   145   114   132  "
      ]
     },
     "execution_count": 8,
     "metadata": {},
     "output_type": "execute_result"
    }
   ],
   "source": [
    "atlas_info_df = get_info_df(atlas_range, atlas_objs, atlas_mask_arrs, atlas_bbox_coords)\n",
    "atlas_info_df"
   ]
  },
  {
   "cell_type": "code",
   "execution_count": 9,
   "id": "critical-blind",
   "metadata": {},
   "outputs": [
    {
     "data": {
      "image/png": "[encoded data removed]",
      "text/plain": [
       "<Figure size 864x288 with 5 Axes>"
      ]
     },
     "metadata": {
      "needs_background": "light"
     },
     "output_type": "display_data"
    }
   ],
   "source": [
    "# Viz\n",
    "index = 0\n",
    "slice_range = lrange(80,85)\n",
    "\n",
    "viz_axis(sitk2np(atlas_objs[index]), \\\n",
    "        bin_mask_arr = atlas_mask_arrs[index], color1 = \"yellow\", alpha1=0.3,\n",
    "        slices=slice_range, fixed_axis=0, \\\n",
    "        axis_fn = np.rot90, \\\n",
    "        grid = [1, 5], hspace=0.3, fig_mult=2)"
   ]
  },
  {
   "cell_type": "markdown",
   "id": "unlikely-stress",
   "metadata": {},
   "source": [
    "### Load Input\n",
    "\n",
    "Samir folders: range(50002, 50017), range(50019, 50020), range(50022, 50049)"
   ]
  },
  {
   "cell_type": "code",
   "execution_count": 10,
   "id": "junior-slovenia",
   "metadata": {},
   "outputs": [],
   "source": [
    "# isotropic preprocessing param\n",
    "iso_spacing      = (1,1,1)\n",
    "iso_interpolator = sitk.sitkLinear # sitk.sitkBSline"
   ]
  },
  {
   "cell_type": "code",
   "execution_count": 11,
   "id": "proud-jacksonville",
   "metadata": {},
   "outputs": [],
   "source": [
    "# set input MRs (Samir's, no RAS adj needed for mask)\n",
    "input_range, ras_adj = range(50002, 50017), False\n",
    "input_folders = [str(i) for i in input_range]\n",
    "input_objs, input_mask_objs = zip(*[folder2objs(input_folder, train_data_dict, iso_spacing, iso_interpolator, ras_adj) \\\n",
    "                               for input_folder in input_folders])"
   ]
  },
  {
   "cell_type": "code",
   "execution_count": 12,
   "id": "cooperative-computer",
   "metadata": {},
   "outputs": [],
   "source": [
    "input_mask_arrs   = [sitk2np(o) for o in input_mask_objs]\n",
    "input_bbox_coords = [mask2bbox(arr) for arr in input_mask_arrs]"
   ]
  },
  {
   "cell_type": "code",
   "execution_count": 13,
   "id": "voluntary-whole",
   "metadata": {},
   "outputs": [
    {
     "data": {
      "text/plain": [
       "False"
      ]
     },
     "execution_count": 13,
     "metadata": {},
     "output_type": "execute_result"
    }
   ],
   "source": [
    "index = 0\n",
    "np.array_equal(atlas_mask_arrs[index], input_mask_arrs[index])"
   ]
  },
  {
   "cell_type": "code",
   "execution_count": 14,
   "id": "inclusive-tracker",
   "metadata": {},
   "outputs": [
    {
     "data": {
      "text/plain": [
       "(78, 111, 114, 142, 103, 120)"
      ]
     },
     "execution_count": 14,
     "metadata": {},
     "output_type": "execute_result"
    }
   ],
   "source": [
    "mask2bbox(atlas_mask_arrs[index])"
   ]
  },
  {
   "cell_type": "code",
   "execution_count": 15,
   "id": "floppy-reach",
   "metadata": {},
   "outputs": [
    {
     "data": {
      "text/plain": [
       "(78, 115, 142, 170, 107, 127)"
      ]
     },
     "execution_count": 15,
     "metadata": {},
     "output_type": "execute_result"
    }
   ],
   "source": [
    "mask2bbox(input_mask_arrs[index])"
   ]
  },
  {
   "cell_type": "code",
   "execution_count": 16,
   "id": "closing-doctrine",
   "metadata": {},
   "outputs": [
    {
     "data": {
      "text/plain": [
       "[(78, 115, 142, 170, 107, 127),\n",
       " (80, 109, 146, 168, 112, 130),\n",
       " (76, 111, 133, 159, 91, 116),\n",
       " (77, 109, 132, 156, 99, 117),\n",
       " (80, 110, 133, 157, 105, 123),\n",
       " (76, 107, 146, 171, 106, 125),\n",
       " (77, 107, 139, 161, 97, 114),\n",
       " (72, 110, 134, 157, 108, 126),\n",
       " (88, 112, 137, 157, 108, 125),\n",
       " (77, 106, 138, 161, 116, 137),\n",
       " (79, 101, 124, 146, 126, 146),\n",
       " (75, 106, 137, 154, 112, 132),\n",
       " (83, 111, 132, 155, 96, 112),\n",
       " (81, 109, 122, 148, 109, 129),\n",
       " (79, 103, 142, 162, 97, 117)]"
      ]
     },
     "execution_count": 16,
     "metadata": {},
     "output_type": "execute_result"
    }
   ],
   "source": [
    "input_bbox_coords"
   ]
  },
  {
   "cell_type": "code",
   "execution_count": 17,
   "id": "attractive-translator",
   "metadata": {},
   "outputs": [
    {
     "name": "stdout",
     "output_type": "stream",
     "text": [
      "(78, 115, 142, 170, 107, 127)\n",
      "(80, 109, 146, 168, 112, 130)\n",
      "(76, 111, 133, 159, 91, 116)\n",
      "(77, 109, 132, 156, 99, 117)\n",
      "(80, 110, 133, 157, 105, 123)\n",
      "(76, 107, 146, 171, 106, 125)\n",
      "(77, 107, 139, 161, 97, 114)\n",
      "(72, 110, 134, 157, 108, 126)\n",
      "(88, 112, 137, 157, 108, 125)\n",
      "(77, 106, 138, 161, 116, 137)\n",
      "(79, 101, 124, 146, 126, 146)\n",
      "(75, 106, 137, 154, 112, 132)\n",
      "(83, 111, 132, 155, 96, 112)\n",
      "(81, 109, 122, 148, 109, 129)\n",
      "(79, 103, 142, 162, 97, 117)\n"
     ]
    },
    {
     "data": {
      "text/html": [
       "<div>\n",
       "<style scoped>\n",
       "    .dataframe tbody tr th:only-of-type {\n",
       "        vertical-align: middle;\n",
       "    }\n",
       "\n",
       "    .dataframe tbody tr th {\n",
       "        vertical-align: top;\n",
       "    }\n",
       "\n",
       "    .dataframe thead th {\n",
       "        text-align: right;\n",
       "    }\n",
       "</style>\n",
       "<table border=\"1\" class=\"dataframe\">\n",
       "  <thead>\n",
       "    <tr style=\"text-align: right;\">\n",
       "      <th></th>\n",
       "      <th>folder</th>\n",
       "      <th>shape0</th>\n",
       "      <th>shape1</th>\n",
       "      <th>shape2</th>\n",
       "      <th>roi_size0</th>\n",
       "      <th>roi_size1</th>\n",
       "      <th>roi_size2</th>\n",
       "      <th>is_bbox</th>\n",
       "      <th>imin</th>\n",
       "      <th>imax</th>\n",
       "      <th>jmin</th>\n",
       "      <th>jmax</th>\n",
       "      <th>kmin</th>\n",
       "      <th>kmax</th>\n",
       "    </tr>\n",
       "  </thead>\n",
       "  <tbody>\n",
       "    <tr>\n",
       "      <th>0</th>\n",
       "      <td>50002</td>\n",
       "      <td>185</td>\n",
       "      <td>269</td>\n",
       "      <td>269</td>\n",
       "      <td>37</td>\n",
       "      <td>28</td>\n",
       "      <td>20</td>\n",
       "      <td>False</td>\n",
       "      <td>78</td>\n",
       "      <td>115</td>\n",
       "      <td>142</td>\n",
       "      <td>170</td>\n",
       "      <td>107</td>\n",
       "      <td>127</td>\n",
       "    </tr>\n",
       "    <tr>\n",
       "      <th>1</th>\n",
       "      <td>50003</td>\n",
       "      <td>185</td>\n",
       "      <td>269</td>\n",
       "      <td>269</td>\n",
       "      <td>29</td>\n",
       "      <td>22</td>\n",
       "      <td>18</td>\n",
       "      <td>False</td>\n",
       "      <td>80</td>\n",
       "      <td>109</td>\n",
       "      <td>146</td>\n",
       "      <td>168</td>\n",
       "      <td>112</td>\n",
       "      <td>130</td>\n",
       "    </tr>\n",
       "    <tr>\n",
       "      <th>2</th>\n",
       "      <td>50004</td>\n",
       "      <td>185</td>\n",
       "      <td>269</td>\n",
       "      <td>269</td>\n",
       "      <td>35</td>\n",
       "      <td>26</td>\n",
       "      <td>25</td>\n",
       "      <td>False</td>\n",
       "      <td>76</td>\n",
       "      <td>111</td>\n",
       "      <td>133</td>\n",
       "      <td>159</td>\n",
       "      <td>91</td>\n",
       "      <td>116</td>\n",
       "    </tr>\n",
       "    <tr>\n",
       "      <th>3</th>\n",
       "      <td>50005</td>\n",
       "      <td>185</td>\n",
       "      <td>269</td>\n",
       "      <td>269</td>\n",
       "      <td>32</td>\n",
       "      <td>24</td>\n",
       "      <td>18</td>\n",
       "      <td>False</td>\n",
       "      <td>77</td>\n",
       "      <td>109</td>\n",
       "      <td>132</td>\n",
       "      <td>156</td>\n",
       "      <td>99</td>\n",
       "      <td>117</td>\n",
       "    </tr>\n",
       "    <tr>\n",
       "      <th>4</th>\n",
       "      <td>50006</td>\n",
       "      <td>185</td>\n",
       "      <td>269</td>\n",
       "      <td>269</td>\n",
       "      <td>30</td>\n",
       "      <td>24</td>\n",
       "      <td>18</td>\n",
       "      <td>False</td>\n",
       "      <td>80</td>\n",
       "      <td>110</td>\n",
       "      <td>133</td>\n",
       "      <td>157</td>\n",
       "      <td>105</td>\n",
       "      <td>123</td>\n",
       "    </tr>\n",
       "    <tr>\n",
       "      <th>5</th>\n",
       "      <td>50007</td>\n",
       "      <td>185</td>\n",
       "      <td>269</td>\n",
       "      <td>269</td>\n",
       "      <td>31</td>\n",
       "      <td>25</td>\n",
       "      <td>19</td>\n",
       "      <td>False</td>\n",
       "      <td>76</td>\n",
       "      <td>107</td>\n",
       "      <td>146</td>\n",
       "      <td>171</td>\n",
       "      <td>106</td>\n",
       "      <td>125</td>\n",
       "    </tr>\n",
       "    <tr>\n",
       "      <th>6</th>\n",
       "      <td>50008</td>\n",
       "      <td>185</td>\n",
       "      <td>269</td>\n",
       "      <td>269</td>\n",
       "      <td>30</td>\n",
       "      <td>22</td>\n",
       "      <td>17</td>\n",
       "      <td>False</td>\n",
       "      <td>77</td>\n",
       "      <td>107</td>\n",
       "      <td>139</td>\n",
       "      <td>161</td>\n",
       "      <td>97</td>\n",
       "      <td>114</td>\n",
       "    </tr>\n",
       "    <tr>\n",
       "      <th>7</th>\n",
       "      <td>50009</td>\n",
       "      <td>185</td>\n",
       "      <td>269</td>\n",
       "      <td>269</td>\n",
       "      <td>38</td>\n",
       "      <td>23</td>\n",
       "      <td>18</td>\n",
       "      <td>False</td>\n",
       "      <td>72</td>\n",
       "      <td>110</td>\n",
       "      <td>134</td>\n",
       "      <td>157</td>\n",
       "      <td>108</td>\n",
       "      <td>126</td>\n",
       "    </tr>\n",
       "    <tr>\n",
       "      <th>8</th>\n",
       "      <td>50010</td>\n",
       "      <td>185</td>\n",
       "      <td>269</td>\n",
       "      <td>269</td>\n",
       "      <td>24</td>\n",
       "      <td>20</td>\n",
       "      <td>17</td>\n",
       "      <td>False</td>\n",
       "      <td>88</td>\n",
       "      <td>112</td>\n",
       "      <td>137</td>\n",
       "      <td>157</td>\n",
       "      <td>108</td>\n",
       "      <td>125</td>\n",
       "    </tr>\n",
       "    <tr>\n",
       "      <th>9</th>\n",
       "      <td>50011</td>\n",
       "      <td>185</td>\n",
       "      <td>269</td>\n",
       "      <td>269</td>\n",
       "      <td>29</td>\n",
       "      <td>23</td>\n",
       "      <td>21</td>\n",
       "      <td>False</td>\n",
       "      <td>77</td>\n",
       "      <td>106</td>\n",
       "      <td>138</td>\n",
       "      <td>161</td>\n",
       "      <td>116</td>\n",
       "      <td>137</td>\n",
       "    </tr>\n",
       "    <tr>\n",
       "      <th>10</th>\n",
       "      <td>50012</td>\n",
       "      <td>185</td>\n",
       "      <td>269</td>\n",
       "      <td>269</td>\n",
       "      <td>22</td>\n",
       "      <td>22</td>\n",
       "      <td>20</td>\n",
       "      <td>False</td>\n",
       "      <td>79</td>\n",
       "      <td>101</td>\n",
       "      <td>124</td>\n",
       "      <td>146</td>\n",
       "      <td>126</td>\n",
       "      <td>146</td>\n",
       "    </tr>\n",
       "    <tr>\n",
       "      <th>11</th>\n",
       "      <td>50013</td>\n",
       "      <td>185</td>\n",
       "      <td>269</td>\n",
       "      <td>269</td>\n",
       "      <td>31</td>\n",
       "      <td>17</td>\n",
       "      <td>20</td>\n",
       "      <td>False</td>\n",
       "      <td>75</td>\n",
       "      <td>106</td>\n",
       "      <td>137</td>\n",
       "      <td>154</td>\n",
       "      <td>112</td>\n",
       "      <td>132</td>\n",
       "    </tr>\n",
       "    <tr>\n",
       "      <th>12</th>\n",
       "      <td>50014</td>\n",
       "      <td>185</td>\n",
       "      <td>269</td>\n",
       "      <td>269</td>\n",
       "      <td>28</td>\n",
       "      <td>23</td>\n",
       "      <td>16</td>\n",
       "      <td>False</td>\n",
       "      <td>83</td>\n",
       "      <td>111</td>\n",
       "      <td>132</td>\n",
       "      <td>155</td>\n",
       "      <td>96</td>\n",
       "      <td>112</td>\n",
       "    </tr>\n",
       "    <tr>\n",
       "      <th>13</th>\n",
       "      <td>50015</td>\n",
       "      <td>185</td>\n",
       "      <td>269</td>\n",
       "      <td>269</td>\n",
       "      <td>28</td>\n",
       "      <td>26</td>\n",
       "      <td>20</td>\n",
       "      <td>False</td>\n",
       "      <td>81</td>\n",
       "      <td>109</td>\n",
       "      <td>122</td>\n",
       "      <td>148</td>\n",
       "      <td>109</td>\n",
       "      <td>129</td>\n",
       "    </tr>\n",
       "    <tr>\n",
       "      <th>14</th>\n",
       "      <td>50016</td>\n",
       "      <td>185</td>\n",
       "      <td>269</td>\n",
       "      <td>269</td>\n",
       "      <td>24</td>\n",
       "      <td>20</td>\n",
       "      <td>20</td>\n",
       "      <td>False</td>\n",
       "      <td>79</td>\n",
       "      <td>103</td>\n",
       "      <td>142</td>\n",
       "      <td>162</td>\n",
       "      <td>97</td>\n",
       "      <td>117</td>\n",
       "    </tr>\n",
       "  </tbody>\n",
       "</table>\n",
       "</div>"
      ],
      "text/plain": [
       "    folder  shape0  shape1  shape2  roi_size0  roi_size1  roi_size2  is_bbox  \\\n",
       "0    50002     185     269     269         37         28         20    False   \n",
       "1    50003     185     269     269         29         22         18    False   \n",
       "2    50004     185     269     269         35         26         25    False   \n",
       "3    50005     185     269     269         32         24         18    False   \n",
       "4    50006     185     269     269         30         24         18    False   \n",
       "5    50007     185     269     269         31         25         19    False   \n",
       "6    50008     185     269     269         30         22         17    False   \n",
       "7    50009     185     269     269         38         23         18    False   \n",
       "8    50010     185     269     269         24         20         17    False   \n",
       "9    50011     185     269     269         29         23         21    False   \n",
       "10   50012     185     269     269         22         22         20    False   \n",
       "11   50013     185     269     269         31         17         20    False   \n",
       "12   50014     185     269     269         28         23         16    False   \n",
       "13   50015     185     269     269         28         26         20    False   \n",
       "14   50016     185     269     269         24         20         20    False   \n",
       "\n",
       "    imin  imax  jmin  jmax  kmin  kmax  \n",
       "0     78   115   142   170   107   127  \n",
       "1     80   109   146   168   112   130  \n",
       "2     76   111   133   159    91   116  \n",
       "3     77   109   132   156    99   117  \n",
       "4     80   110   133   157   105   123  \n",
       "5     76   107   146   171   106   125  \n",
       "6     77   107   139   161    97   114  \n",
       "7     72   110   134   157   108   126  \n",
       "8     88   112   137   157   108   125  \n",
       "9     77   106   138   161   116   137  \n",
       "10    79   101   124   146   126   146  \n",
       "11    75   106   137   154   112   132  \n",
       "12    83   111   132   155    96   112  \n",
       "13    81   109   122   148   109   129  \n",
       "14    79   103   142   162    97   117  "
      ]
     },
     "execution_count": 17,
     "metadata": {},
     "output_type": "execute_result"
    }
   ],
   "source": [
    "input_info_df = get_info_df(input_range, input_objs, input_mask_arrs, input_bbox_coords)\n",
    "input_info_df"
   ]
  },
  {
   "cell_type": "code",
   "execution_count": 18,
   "id": "blond-roman",
   "metadata": {},
   "outputs": [
    {
     "data": {
      "text/html": [
       "<div>\n",
       "<style scoped>\n",
       "    .dataframe tbody tr th:only-of-type {\n",
       "        vertical-align: middle;\n",
       "    }\n",
       "\n",
       "    .dataframe tbody tr th {\n",
       "        vertical-align: top;\n",
       "    }\n",
       "\n",
       "    .dataframe thead th {\n",
       "        text-align: right;\n",
       "    }\n",
       "</style>\n",
       "<table border=\"1\" class=\"dataframe\">\n",
       "  <thead>\n",
       "    <tr style=\"text-align: right;\">\n",
       "      <th></th>\n",
       "      <th>folder</th>\n",
       "      <th>shape0</th>\n",
       "      <th>shape1</th>\n",
       "      <th>shape2</th>\n",
       "      <th>roi_size0</th>\n",
       "      <th>roi_size1</th>\n",
       "      <th>roi_size2</th>\n",
       "      <th>is_bbox</th>\n",
       "      <th>imin</th>\n",
       "      <th>imax</th>\n",
       "      <th>jmin</th>\n",
       "      <th>jmax</th>\n",
       "      <th>kmin</th>\n",
       "      <th>kmax</th>\n",
       "    </tr>\n",
       "  </thead>\n",
       "  <tbody>\n",
       "    <tr>\n",
       "      <th>0</th>\n",
       "      <td>50455</td>\n",
       "      <td>192</td>\n",
       "      <td>240</td>\n",
       "      <td>256</td>\n",
       "      <td>33</td>\n",
       "      <td>28</td>\n",
       "      <td>17</td>\n",
       "      <td>False</td>\n",
       "      <td>78</td>\n",
       "      <td>111</td>\n",
       "      <td>114</td>\n",
       "      <td>142</td>\n",
       "      <td>103</td>\n",
       "      <td>120</td>\n",
       "    </tr>\n",
       "    <tr>\n",
       "      <th>1</th>\n",
       "      <td>50456</td>\n",
       "      <td>192</td>\n",
       "      <td>240</td>\n",
       "      <td>256</td>\n",
       "      <td>29</td>\n",
       "      <td>24</td>\n",
       "      <td>16</td>\n",
       "      <td>False</td>\n",
       "      <td>78</td>\n",
       "      <td>107</td>\n",
       "      <td>116</td>\n",
       "      <td>140</td>\n",
       "      <td>120</td>\n",
       "      <td>136</td>\n",
       "    </tr>\n",
       "    <tr>\n",
       "      <th>2</th>\n",
       "      <td>50457</td>\n",
       "      <td>192</td>\n",
       "      <td>240</td>\n",
       "      <td>256</td>\n",
       "      <td>28</td>\n",
       "      <td>25</td>\n",
       "      <td>16</td>\n",
       "      <td>False</td>\n",
       "      <td>80</td>\n",
       "      <td>108</td>\n",
       "      <td>115</td>\n",
       "      <td>140</td>\n",
       "      <td>122</td>\n",
       "      <td>138</td>\n",
       "    </tr>\n",
       "    <tr>\n",
       "      <th>3</th>\n",
       "      <td>50458</td>\n",
       "      <td>192</td>\n",
       "      <td>240</td>\n",
       "      <td>256</td>\n",
       "      <td>24</td>\n",
       "      <td>23</td>\n",
       "      <td>19</td>\n",
       "      <td>False</td>\n",
       "      <td>81</td>\n",
       "      <td>105</td>\n",
       "      <td>121</td>\n",
       "      <td>144</td>\n",
       "      <td>99</td>\n",
       "      <td>118</td>\n",
       "    </tr>\n",
       "    <tr>\n",
       "      <th>4</th>\n",
       "      <td>50459</td>\n",
       "      <td>192</td>\n",
       "      <td>240</td>\n",
       "      <td>256</td>\n",
       "      <td>32</td>\n",
       "      <td>24</td>\n",
       "      <td>17</td>\n",
       "      <td>False</td>\n",
       "      <td>82</td>\n",
       "      <td>114</td>\n",
       "      <td>111</td>\n",
       "      <td>135</td>\n",
       "      <td>105</td>\n",
       "      <td>122</td>\n",
       "    </tr>\n",
       "    <tr>\n",
       "      <th>5</th>\n",
       "      <td>50460</td>\n",
       "      <td>192</td>\n",
       "      <td>240</td>\n",
       "      <td>256</td>\n",
       "      <td>28</td>\n",
       "      <td>27</td>\n",
       "      <td>14</td>\n",
       "      <td>True</td>\n",
       "      <td>82</td>\n",
       "      <td>110</td>\n",
       "      <td>120</td>\n",
       "      <td>147</td>\n",
       "      <td>111</td>\n",
       "      <td>125</td>\n",
       "    </tr>\n",
       "    <tr>\n",
       "      <th>6</th>\n",
       "      <td>50461</td>\n",
       "      <td>192</td>\n",
       "      <td>240</td>\n",
       "      <td>256</td>\n",
       "      <td>27</td>\n",
       "      <td>21</td>\n",
       "      <td>16</td>\n",
       "      <td>True</td>\n",
       "      <td>83</td>\n",
       "      <td>110</td>\n",
       "      <td>116</td>\n",
       "      <td>137</td>\n",
       "      <td>121</td>\n",
       "      <td>137</td>\n",
       "    </tr>\n",
       "    <tr>\n",
       "      <th>7</th>\n",
       "      <td>50462</td>\n",
       "      <td>192</td>\n",
       "      <td>240</td>\n",
       "      <td>256</td>\n",
       "      <td>29</td>\n",
       "      <td>24</td>\n",
       "      <td>16</td>\n",
       "      <td>False</td>\n",
       "      <td>80</td>\n",
       "      <td>109</td>\n",
       "      <td>120</td>\n",
       "      <td>144</td>\n",
       "      <td>114</td>\n",
       "      <td>130</td>\n",
       "    </tr>\n",
       "    <tr>\n",
       "      <th>8</th>\n",
       "      <td>50463</td>\n",
       "      <td>192</td>\n",
       "      <td>240</td>\n",
       "      <td>256</td>\n",
       "      <td>29</td>\n",
       "      <td>26</td>\n",
       "      <td>18</td>\n",
       "      <td>False</td>\n",
       "      <td>80</td>\n",
       "      <td>109</td>\n",
       "      <td>119</td>\n",
       "      <td>145</td>\n",
       "      <td>114</td>\n",
       "      <td>132</td>\n",
       "    </tr>\n",
       "  </tbody>\n",
       "</table>\n",
       "</div>"
      ],
      "text/plain": [
       "   folder  shape0  shape1  shape2  roi_size0  roi_size1  roi_size2  is_bbox  \\\n",
       "0   50455     192     240     256         33         28         17    False   \n",
       "1   50456     192     240     256         29         24         16    False   \n",
       "2   50457     192     240     256         28         25         16    False   \n",
       "3   50458     192     240     256         24         23         19    False   \n",
       "4   50459     192     240     256         32         24         17    False   \n",
       "5   50460     192     240     256         28         27         14     True   \n",
       "6   50461     192     240     256         27         21         16     True   \n",
       "7   50462     192     240     256         29         24         16    False   \n",
       "8   50463     192     240     256         29         26         18    False   \n",
       "\n",
       "   imin  imax  jmin  jmax  kmin  kmax  \n",
       "0    78   111   114   142   103   120  \n",
       "1    78   107   116   140   120   136  \n",
       "2    80   108   115   140   122   138  \n",
       "3    81   105   121   144    99   118  \n",
       "4    82   114   111   135   105   122  \n",
       "5    82   110   120   147   111   125  \n",
       "6    83   110   116   137   121   137  \n",
       "7    80   109   120   144   114   130  \n",
       "8    80   109   119   145   114   132  "
      ]
     },
     "execution_count": 18,
     "metadata": {},
     "output_type": "execute_result"
    }
   ],
   "source": [
    "atlas_info_df"
   ]
  },
  {
   "cell_type": "code",
   "execution_count": 19,
   "id": "linear-alpha",
   "metadata": {},
   "outputs": [
    {
     "data": {
      "image/png": "[encoded data removed]",
      "text/plain": [
       "<Figure size 864x288 with 5 Axes>"
      ]
     },
     "metadata": {
      "needs_background": "light"
     },
     "output_type": "display_data"
    }
   ],
   "source": [
    "# Viz\n",
    "index = 0\n",
    "slice_range = lrange(80,85)\n",
    "\n",
    "viz_axis(sitk2np(input_objs[index]), \\\n",
    "        bin_mask_arr = input_mask_arrs[index], color1 = \"yellow\", alpha1=0.3,\n",
    "        slices=slice_range, fixed_axis=0, \\\n",
    "        axis_fn = np.rot90, \\\n",
    "        grid = [1, 5], hspace=0.3, fig_mult=2)"
   ]
  },
  {
   "cell_type": "markdown",
   "id": "ahead-boating",
   "metadata": {},
   "source": [
    "# Elastix Registration"
   ]
  },
  {
   "cell_type": "markdown",
   "id": "heavy-scope",
   "metadata": {},
   "source": [
    "## Rigid Alignment\n",
    "\n",
    "- Rigid: \"rigid body, which can translate and rotate, but cannot be\n",
    "scaled/stretched.\"\n",
    "\n",
    "- Similarity: \"translate, rotate, and scale isotropically.\"\n",
    "\n",
    "- Affine: \"translated, rotated, scaled,\n",
    "and sheared.\"\n",
    "\n",
    "### ROI Mapping\n",
    "Elastix convention: Resampling $moving \\to fixed$ image involves a transformation $T: fixed \\to moving$. $T$ maps coordinates in the fixed image domain to the corresponding coordinates in the moving image. Resampling a moving image onto the fixed image coordinate system involves:\n",
    "1. Apply $T$ to fixed image voxel coordinates $x$ to get corresponding coordinates $y$ in the moving domain: $y = T(x) \\in I_M$.\n",
    "2. Estimate the voxel intensities $v$ at the moving image coordinates $y \\in I_m$ via (linear) interpolation from nearby moving image voxel intensities.\n",
    "3. Set the voxel intensities $v$ at the fixed image coordinates $x \\in I_F$ to the above moving image voxel intensities.\n",
    "\n",
    "Source: 5.0.1 Elastix Manual"
   ]
  },
  {
   "cell_type": "code",
   "execution_count": 20,
   "id": "acceptable-justice",
   "metadata": {},
   "outputs": [],
   "source": [
    "#selx.SetLogToConsole(False)\n",
    "\n",
    "def align_and_tfm(fixed_obj, moving_obj, moving_mask_obj, \\\n",
    "                  param_folder = \"ElastixParamFiles\", param_files = [\"affine.txt\", \"bspline.txt\"]):\n",
    "    \n",
    "    # ALIGN ATLAS AND INPUT IMAGE\n",
    "    \n",
    "    # set moving and fixed images (resample moving=>fixed using T:fixed=>moving)\n",
    "    elastixImageFilter = sitk.ElastixImageFilter()\n",
    "    elastixImageFilter.SetFixedImage(fixed_obj)\n",
    "    elastixImageFilter.SetMovingImage(moving_obj)\n",
    "    \n",
    "    # set parameter map\n",
    "    parameterMapVector = sitk.VectorOfParameterMap()\n",
    "    for param_file in param_files:\n",
    "        parameterMapVector.append(sitk.ReadParameterFile(f\"{param_folder}/{param_file}\"))\n",
    "    elastixImageFilter.SetParameterMap(parameterMapVector)\n",
    "\n",
    "    # Execute alignment\n",
    "    #elastixImageFilter.SetLogToConsole(False)\n",
    "    elastixImageFilter.Execute()\n",
    "\n",
    "    # MAP MOVING (ATLAS BINARY ROI) ONTO FIXED (INPUT) \n",
    "\n",
    "    # set moving image (atlas)                                                    \n",
    "    transformixImageFilter = sitk.TransformixImageFilter()\n",
    "    transformixImageFilter.SetMovingImage(moving_mask_obj)\n",
    "                    \n",
    "    # set parameter map (Binary mask => nearest neighbor final interpolation)\n",
    "    transformedParameterMapVector = elastixImageFilter.GetTransformParameterMap()\n",
    "    transformedParameterMapVector[-1][\"ResampleInterpolator\"] = [\"FinalNearestNeighborInterpolator\"]\n",
    "    transformixImageFilter.SetTransformParameterMap(transformedParameterMapVector)\n",
    "\n",
    "    # Execute transformation\n",
    "    #transformixImageFilter.SetLogToConsole(False)\n",
    "    transformixImageFilter.Execute()\n",
    "    \n",
    "    return transformixImageFilter.GetResultImage()"
   ]
  },
  {
   "cell_type": "markdown",
   "id": "fluid-radiation",
   "metadata": {},
   "source": [
    "# Rigid only"
   ]
  },
  {
   "cell_type": "code",
   "execution_count": 21,
   "id": "killing-doubt",
   "metadata": {},
   "outputs": [],
   "source": [
    "import time\n",
    "\n",
    "def get_dice_scores(input_obj, input_mask_arr, atlas_objs = atlas_objs, atlas_mask_objs = atlas_mask_objs):\n",
    "    dice_scores = {}\n",
    "    n_votes = len(atlas_objs)\n",
    "    print(f\"N={n_votes} atlases in the vote.\")\n",
    "    \n",
    "    for i in range(n_votes):\n",
    "        print(f\"Getting pred for atlas {i}:\")\n",
    "        \n",
    "        start = time.time()\n",
    "        pred_mask_arr = sitk2np(align_and_tfm(input_obj, atlas_objs[i], atlas_mask_objs[i], \\\n",
    "                                              param_files = [\"affine.txt\"])).astype(bool)\n",
    "        end = time.time()\n",
    "        print(f\"{end - start:.0f} sec.\")\n",
    "        # compute dice\n",
    "        dice_scores[f\"dice{i}\"] = compute_dice_coefficient(input_mask_arr, pred_mask_arr)\n",
    "    \n",
    "        # add atlas vote\n",
    "        if i == 0: vote_pred_mask_arr = pred_mask_arr.astype(np.uint8)\n",
    "        else: vote_pred_mask_arr += pred_mask_arr.astype(np.uint8)\n",
    "    \n",
    "    # get avg dice score\n",
    "    dice_scores[f\"dice_avg\"] = np.mean(list(dice_scores.values()))\n",
    "    \n",
    "    # get vote\n",
    "    print(f\"Getting vote dice\")\n",
    "    vote_pred_mask_arr = (vote_pred_mask_arr >= n_votes/2).astype(bool)\n",
    "    dice_scores[f\"dice_vote_all\"] = compute_dice_coefficient(input_mask_arr, vote_pred_mask_arr)\n",
    "    \n",
    "    print(dice_scores)\n",
    "    return dice_scores"
   ]
  },
  {
   "cell_type": "code",
   "execution_count": null,
   "id": "committed-german",
   "metadata": {},
   "outputs": [
    {
     "name": "stdout",
     "output_type": "stream",
     "text": [
      "N=2 atlases in the vote.\n",
      "Getting pred for atlas 0:\n"
     ]
    }
   ],
   "source": [
    "dice_scores0 = get_dice_scores(input_objs[0], input_mask_arrs[0], atlas_objs[:2], atlas_mask_objs[:2])"
   ]
  },
  {
   "cell_type": "code",
   "execution_count": null,
   "id": "champion-thanks",
   "metadata": {},
   "outputs": [],
   "source": [
    "dice_scores0"
   ]
  },
  {
   "cell_type": "code",
   "execution_count": null,
   "id": "dutch-publicity",
   "metadata": {},
   "outputs": [],
   "source": [
    "dice_scores0 = get_dice_scores(input_objs[0], input_mask_arrs[0], atlas_objs, atlas_mask_objs)"
   ]
  },
  {
   "cell_type": "code",
   "execution_count": null,
   "id": "neural-breakfast",
   "metadata": {},
   "outputs": [],
   "source": [
    "dice_scores0"
   ]
  },
  {
   "cell_type": "code",
   "execution_count": null,
   "id": "advanced-message",
   "metadata": {},
   "outputs": [],
   "source": [
    "input_df = DataFrame(get_dice_scores(input_obj, gt_mask, atlas_objs, atlas_mask_objs) \\\n",
    "                     for input_obj, gt_mask in zip(input_objs, input_mask_arrs))"
   ]
  },
  {
   "cell_type": "code",
   "execution_count": null,
   "id": "spanish-holocaust",
   "metadata": {},
   "outputs": [],
   "source": [
    "input_df"
   ]
  },
  {
   "cell_type": "code",
   "execution_count": null,
   "id": "hybrid-packing",
   "metadata": {},
   "outputs": [],
   "source": [
    "input_info_df"
   ]
  },
  {
   "cell_type": "code",
   "execution_count": null,
   "id": "chinese-supplier",
   "metadata": {},
   "outputs": [],
   "source": [
    "atlas_info_df"
   ]
  },
  {
   "cell_type": "code",
   "execution_count": null,
   "id": "white-serum",
   "metadata": {},
   "outputs": [],
   "source": [
    "# Viz\n",
    "index = 5\n",
    "slice_range = lrange(110,130)\n",
    "\n",
    "viz_axis(sitk2np(atlas_objs[index]), \\\n",
    "        bin_mask_arr = atlas_mask_arrs[index], color1 = \"yellow\", alpha1=0.3,\n",
    "        slices=slice_range, fixed_axis=2, \\\n",
    "        axis_fn = np.rot90, \\\n",
    "        grid = [4,5], hspace=0.3, fig_mult=2)"
   ]
  },
  {
   "cell_type": "code",
   "execution_count": null,
   "id": "minor-virginia",
   "metadata": {},
   "outputs": [],
   "source": [
    "# Viz\n",
    "index = 10\n",
    "slice_range = lrange(80,100)\n",
    "\n",
    "viz_axis(sitk2np(input_objs[index]), \\\n",
    "        bin_mask_arr = input_mask_arrs[index], color1 = \"yellow\", alpha1=0.3,\n",
    "        slices=slice_range, fixed_axis=0, \\\n",
    "        axis_fn = np.rot90, \\\n",
    "        grid = [4, 5], hspace=0.3, fig_mult=2)"
   ]
  },
  {
   "cell_type": "code",
   "execution_count": null,
   "id": "korean-drive",
   "metadata": {},
   "outputs": [],
   "source": [
    "# Viz\n",
    "index = 12\n",
    "slice_range = lrange(80,90)\n",
    "\n",
    "viz_axis(sitk2np(input_objs[index]), \\\n",
    "        bin_mask_arr = input_mask_arrs[index], color1 = \"yellow\", alpha1=0.3,\n",
    "        slices=slice_range, fixed_axis=0, \\\n",
    "        axis_fn = np.rot90, \\\n",
    "        grid = [2, 5], hspace=0.3, fig_mult=2)"
   ]
  },
  {
   "cell_type": "code",
   "execution_count": null,
   "id": "voluntary-morrison",
   "metadata": {},
   "outputs": [],
   "source": []
  },
  {
   "cell_type": "code",
   "execution_count": null,
   "id": "presidential-liver",
   "metadata": {},
   "outputs": [],
   "source": []
  },
  {
   "cell_type": "code",
   "execution_count": null,
   "id": "geographic-internship",
   "metadata": {},
   "outputs": [],
   "source": []
  },
  {
   "cell_type": "code",
   "execution_count": 44,
   "id": "diverse-pasta",
   "metadata": {},
   "outputs": [
    {
     "ename": "NameError",
     "evalue": "name 'input_obj' is not defined",
     "output_type": "error",
     "traceback": [
      "\u001b[0;31m---------------------------------------------------------------------------\u001b[0m",
      "\u001b[0;31mNameError\u001b[0m                                 Traceback (most recent call last)",
      "\u001b[0;32m<ipython-input-44-94a1f647467c>\u001b[0m in \u001b[0;36m<module>\u001b[0;34m\u001b[0m\n\u001b[1;32m      1\u001b[0m \u001b[0;31m# Align the atlas and the input MR. Resample atlas ROI onto input ROI (fixed: input, moving: atlas).\u001b[0m\u001b[0;34m\u001b[0m\u001b[0;34m\u001b[0m\u001b[0;34m\u001b[0m\u001b[0m\n\u001b[0;32m----> 2\u001b[0;31m pred_mask_objs = [align_and_tfm(input_obj, atlas_obj, atlas_mask_obj, \\\n\u001b[0m\u001b[1;32m      3\u001b[0m                               param_folder = \"ElastixParamFiles\", param_files = [\"affine.txt\"]) for\n\u001b[1;32m      4\u001b[0m                  atlas_obj, atlas_mask_obj in zip(atlas_objs, atlas_mask_objs)]\n",
      "\u001b[0;32m<ipython-input-44-94a1f647467c>\u001b[0m in \u001b[0;36m<listcomp>\u001b[0;34m(.0)\u001b[0m\n\u001b[1;32m      1\u001b[0m \u001b[0;31m# Align the atlas and the input MR. Resample atlas ROI onto input ROI (fixed: input, moving: atlas).\u001b[0m\u001b[0;34m\u001b[0m\u001b[0;34m\u001b[0m\u001b[0;34m\u001b[0m\u001b[0m\n\u001b[0;32m----> 2\u001b[0;31m pred_mask_objs = [align_and_tfm(input_obj, atlas_obj, atlas_mask_obj, \\\n\u001b[0m\u001b[1;32m      3\u001b[0m                               param_folder = \"ElastixParamFiles\", param_files = [\"affine.txt\"]) for\n\u001b[1;32m      4\u001b[0m                  atlas_obj, atlas_mask_obj in zip(atlas_objs, atlas_mask_objs)]\n",
      "\u001b[0;31mNameError\u001b[0m: name 'input_obj' is not defined"
     ]
    }
   ],
   "source": [
    "# Align the atlas and the input MR. Resample atlas ROI onto input ROI (fixed: input, moving: atlas). \n",
    "pred_mask_objs = [align_and_tfm(input_obj, atlas_obj, atlas_mask_obj, \\\n",
    "                              param_folder = \"ElastixParamFiles\", param_files = [\"affine.txt\"]) for\n",
    "                 atlas_obj, atlas_mask_obj in zip(atlas_objs, atlas_mask_objs)]"
   ]
  },
  {
   "cell_type": "code",
   "execution_count": null,
   "id": "dried-algebra",
   "metadata": {},
   "outputs": [],
   "source": [
    "# Evaluate predicted input ROI\n",
    "gt_mask_arr = input_mask_arr\n",
    "\n",
    "#gt_mask_arr   = sitk2np(gt_mask_obj).astype(bool)\n",
    "pred_mask_arr = sitk2np(pred_mask_obj).astype(bool)"
   ]
  },
  {
   "cell_type": "code",
   "execution_count": null,
   "id": "realistic-flavor",
   "metadata": {},
   "outputs": [],
   "source": [
    "dice     = compute_dice_coefficient(gt_mask_arr, pred_mask_arr)\n",
    "coverage = compute_coverage_coefficient(gt_mask_arr, pred_mask_arr)\n",
    "bbox_coords = mask2bbox(pred_mask_arr)"
   ]
  },
  {
   "cell_type": "code",
   "execution_count": null,
   "id": "august-prescription",
   "metadata": {},
   "outputs": [],
   "source": [
    "print({\"dice\": f\"{dice:0.2f}\", \"coverage\": f\"{coverage:0.2f}\"})\n",
    "print_bbox(*bbox_coords)"
   ]
  },
  {
   "cell_type": "code",
   "execution_count": null,
   "id": "british-cinema",
   "metadata": {},
   "outputs": [],
   "source": [
    "print(\"Affine: \", bbox_coords)\n",
    "print(\"GT: \", input_bbox_coords)"
   ]
  },
  {
   "cell_type": "code",
   "execution_count": null,
   "id": "critical-circuit",
   "metadata": {},
   "outputs": [],
   "source": [
    "# Viz affine\n",
    "slice_range = lrange(77, 82) + lrange(107,112)\n",
    "\n",
    "viz_axis(sitk2np(input_obj), cmap0=\"gray\",\n",
    "        crop_coords = bbox_coords, crop_extra=35,\n",
    "        bin_mask_arr = input_mask_arr, color1 = \"yellow\", alpha1=0.3,\n",
    "        bin_mask_arr2 = pred_mask_arr, color2 = \"red\", alpha2=0.3,\n",
    "        slices=slice_range, fixed_axis=0, \\\n",
    "        axis_fn = np.rot90, \\\n",
    "        grid = [2, 4], hspace=0.3, fig_mult=2)"
   ]
  },
  {
   "cell_type": "code",
   "execution_count": null,
   "id": "large-scientist",
   "metadata": {},
   "outputs": [],
   "source": [
    "slice_range = lrange(110, 150)\n",
    "viz_axis(sitk2np(input_obj), cmap0=\"gray\",\n",
    "        crop_coords = bbox_coords, crop_extra=20,\n",
    "        bin_mask_arr = input_mask_arr, color1 = \"yellow\", alpha1=0.3,\n",
    "        bin_mask_arr2 = pred_mask_arr, color2 = \"red\", alpha2=0.3,\n",
    "        slices=slice_range, fixed_axis=1, \\\n",
    "        axis_fn = np.rot90, \\\n",
    "        grid = [5, 8], hspace=0.3, fig_mult=2)"
   ]
  },
  {
   "cell_type": "code",
   "execution_count": null,
   "id": "closed-segment",
   "metadata": {},
   "outputs": [],
   "source": [
    "# Align the atlas and the input MR. Resample atlas ROI onto input ROI (fixed: input, moving: atlas). \n",
    "bspline_pred_mask_obj = align_and_tfm(input_obj, atlas_obj, atlas_mask_obj, \\\n",
    "                              param_folder = \"ElastixParamFiles\", param_files = [\"affine.txt\", \"bspline.txt\"])"
   ]
  },
  {
   "cell_type": "code",
   "execution_count": null,
   "id": "varying-fault",
   "metadata": {},
   "outputs": [],
   "source": [
    "# Evaluate predicted input ROI\n",
    "bspline_pred_mask_arr = sitk2np(bspline_pred_mask_obj).astype(bool)\n",
    "\n",
    "bspline_dice     = compute_dice_coefficient(gt_mask_arr, bspline_pred_mask_arr)\n",
    "bspline_coverage = compute_coverage_coefficient(gt_mask_arr, bspline_pred_mask_arr)\n",
    "bspline_bbox_coords = mask2bbox(bspline_pred_mask_arr)\n",
    "\n",
    "print({\"dice\": f\"{bspline_dice:0.2f}\", \"coverage\": f\"{bspline_coverage:0.2f}\"})\n",
    "print_bbox(*bspline_bbox_coords)"
   ]
  },
  {
   "cell_type": "code",
   "execution_count": null,
   "id": "offshore-merchandise",
   "metadata": {},
   "outputs": [],
   "source": [
    "print(\"Affine: \", bbox_coords)\n",
    "print(\"+Bspline: \", bspline_bbox_coords)\n",
    "print(\"GT: \", input_bbox_coords)"
   ]
  },
  {
   "cell_type": "code",
   "execution_count": null,
   "id": "moved-encounter",
   "metadata": {},
   "outputs": [],
   "source": [
    "print(\"Ground Truth GT\")\n",
    "print_bbox(*input_bbox_coords)\n",
    "\n",
    "print(\"Affine only\")\n",
    "print_bbox(*bbox_coords)\n",
    "\n",
    "print(\"+Bspline\")\n",
    "print_bbox(*bspline_bbox_coords)"
   ]
  },
  {
   "cell_type": "code",
   "execution_count": null,
   "id": "manufactured-hamilton",
   "metadata": {},
   "outputs": [],
   "source": [
    "# Viz affine + bspline\n",
    "slice_range = lrange(77, 82) + lrange(107,112)\n",
    "\n",
    "viz_axis(sitk2np(input_obj), cmap0=\"gray\",\n",
    "        crop_coords = bspline_bbox_coords, crop_extra=35,\n",
    "        bin_mask_arr = input_mask_arr, color1 = \"yellow\", alpha1=0.3,\n",
    "        bin_mask_arr2 = bspline_pred_mask_arr, color2 = \"red\", alpha2=0.3,\n",
    "        slices=slice_range, fixed_axis=0, \\\n",
    "        axis_fn = np.rot90, \\\n",
    "        grid = [2, 5], hspace=0.3, fig_mult=2)"
   ]
  },
  {
   "cell_type": "code",
   "execution_count": null,
   "id": "educational-military",
   "metadata": {},
   "outputs": [],
   "source": [
    "slice_range = lrange(110, 150)\n",
    "viz_axis(sitk2np(input_obj), cmap0=\"gray\",\n",
    "        crop_coords = bbox_coords, crop_extra=20,\n",
    "        bin_mask_arr = input_mask_arr, color1 = \"yellow\", alpha1=0.3,\n",
    "        bin_mask_arr2 = bspline_pred_mask_arr, color2 = \"red\", alpha2=0.3,\n",
    "        slices=slice_range, fixed_axis=1, \\\n",
    "        axis_fn = np.rot90, \\\n",
    "        grid = [5, 8], hspace=0.3, fig_mult=2)"
   ]
  },
  {
   "cell_type": "code",
   "execution_count": null,
   "id": "cultural-suggestion",
   "metadata": {},
   "outputs": [],
   "source": [
    "slice_range = [77,78,79, 80] + [109,110,111,112]\n",
    "\n",
    "viz_axis(sitk2np(input_obj), cmap0=\"gray\",\n",
    "        crop_coords = bspline_bbox_coords, crop_extra=55,\n",
    "        bin_mask_arr = input_mask_arr, color1 = \"yellow\", alpha1=0.3,\n",
    "        bin_mask_arr2 = bspline_pred_mask_arr, color2 = \"red\", alpha2=0.3,\n",
    "        slices=slice_range, fixed_axis=0, \\\n",
    "        axis_fn = np.rot90, \\\n",
    "        grid = [2, 4], hspace=0.3, fig_mult=2)"
   ]
  },
  {
   "cell_type": "markdown",
   "id": "rapid-october",
   "metadata": {},
   "source": [
    "# Affine non-whole brain\n",
    "\n",
    "Focus alignment on generated input ROI"
   ]
  },
  {
   "cell_type": "code",
   "execution_count": null,
   "id": "first-village",
   "metadata": {},
   "outputs": [],
   "source": [
    "# pad slices by 5, crop extra bbox by 10vox x 10vox"
   ]
  },
  {
   "cell_type": "code",
   "execution_count": null,
   "id": "typical-hello",
   "metadata": {},
   "outputs": [],
   "source": [
    "def crop_extra_mask(bin_mask_arr, crop_coords, slice_pad, vox_pad, fixed_axis=06):\n",
    "    imin, imax, jmin, jmax, kmin, kmax = crop_coords\n",
    "    if fixed_axis == 0:   \n",
    "        jmin -= pad; jmax += pad; kmin -= pad; kmax += pad;\n",
    "        np_arr = np_arr[:, jmin:jmax, kmin:kmax]\n",
    "        if bin_mask_arr is not None:  bin_mask_arr  = bin_mask_arr[:, jmin:jmax, kmin:kmax]\n",
    "        if bin_mask_arr2 is not None: bin_mask_arr2 = bin_mask_arr2[:, jmin:jmax, kmin:kmax]\n",
    "\n",
    "    elif fixed_axis == 1: \n",
    "        imin -= pad; imax += pad; kmin -= pad; kmax += pad;\n",
    "        np_arr = np_arr[imin:imax, :, kmin:kmax]\n",
    "        if bin_mask_arr is not None:  bin_mask_arr  = bin_mask_arr[imin:imax, :, kmin:kmax]\n",
    "        if bin_mask_arr2 is not None: bin_mask_arr2 = bin_mask_arr2[imin:imax, :, kmin:kmax]\n",
    "\n",
    "    else:\n",
    "        imin -= pad; imax += pad; jmin -= pad; jmax += pad;\n",
    "        np_arr = np_arr[imin:imax, jmin:jmax, :]\n",
    "        if bin_mask_arr is not None:  bin_mask_arr  = bin_mask_arr[imin:imax, jmin:jmax, :]\n",
    "        if bin_mask_arr2 is not None: bin_mask_arr2 = bin_mask_arr2[imin:imax, jmin:jmax, :]"
   ]
  },
  {
   "cell_type": "code",
   "execution_count": null,
   "id": "second-interval",
   "metadata": {},
   "outputs": [],
   "source": [
    "pred_mask_obj"
   ]
  },
  {
   "cell_type": "code",
   "execution_count": null,
   "id": "later-subdivision",
   "metadata": {},
   "outputs": [],
   "source": [
    "# Align the atlas and the input MR. Resample atlas ROI onto input ROI (fixed: input, moving: atlas). \n",
    "pred_mask_obj = align_focused(input_obj, pred_roi, atlas_obj, atlas_mask_obj, \\\n",
    "                              param_folder = \"ElastixParamFiles\", param_files = [\"affine.txt\"])"
   ]
  },
  {
   "cell_type": "code",
   "execution_count": null,
   "id": "beginning-startup",
   "metadata": {},
   "outputs": [],
   "source": [
    "def align_focused(fixed_obj, fixed_mask_obj, moving_obj, moving_mask_obj, \\\n",
    "                  param_folder = \"ElastixParamFiles\", param_files = [\"affine.txt\", \"bspline.txt\"]):\n",
    "    \n",
    "    # ALIGN ATLAS AND INPUT IMAGE\n",
    "    \n",
    "    # set moving and fixed images (resample moving=>fixed using T:fixed=>moving)\n",
    "    elastixImageFilter = sitk.ElastixImageFilter()\n",
    "    elastixImageFilter.SetFixedImage(fixed_obj)\n",
    "    elastixImageFilter.SetMovingImage(moving_obj)\n",
    "    \n",
    "    # set masks\n",
    "    elastixImageFilter.SetFixedMask(fixed_mask_obj)\n",
    "    elastixImageFilter.SetMovingMask(moving_mask_obj)\n",
    "    \n",
    "    \n",
    "    # set parameter map\n",
    "    parameterMapVector = sitk.VectorOfParameterMap()\n",
    "    for param_file in param_files:\n",
    "        parameterMapVector.append(sitk.ReadParameterFile(f\"{param_folder}/{param_file}\"))\n",
    "    elastixImageFilter.SetParameterMap(parameterMapVector)\n",
    "\n",
    "    # Execute alignment\n",
    "    elastixImageFilter.Execute()\n",
    "\n",
    "    # MAP MOVING (ATLAS BINARY ROI) ONTO FIXED (INPUT) \n",
    "\n",
    "    # set moving image (atlas)                                                    \n",
    "    transformixImageFilter = sitk.TransformixImageFilter()\n",
    "    transformixImageFilter.SetMovingImage(moving_mask_obj)\n",
    "                    \n",
    "    # set parameter map (Binary mask => nearest neighbor final interpolation)\n",
    "    transformedParameterMapVector = elastixImageFilter.GetTransformParameterMap()\n",
    "    transformedParameterMapVector[-1][\"ResampleInterpolator\"] = [\"FinalNearestNeighborInterpolator\"]\n",
    "    transformixImageFilter.SetTransformParameterMap(transformedParameterMapVector)\n",
    "\n",
    "    # Execute transformation\n",
    "    transformixImageFilter.Execute()\n",
    "    \n",
    "    return transformixImageFilter.GetResultImage()"
   ]
  },
  {
   "cell_type": "markdown",
   "id": "respiratory-parcel",
   "metadata": {},
   "source": [
    "### Viz Mapped ROI"
   ]
  },
  {
   "cell_type": "code",
   "execution_count": null,
   "id": "composite-consistency",
   "metadata": {},
   "outputs": [],
   "source": [
    "print(transformed_input_mask_arr.shape)\n",
    "\n",
    "transformed_input_bbox_coords = mask2bbox(transformed_input_mask_arr)\n",
    "print_bbox(*transformed_input_bbox_coords)"
   ]
  },
  {
   "cell_type": "markdown",
   "id": "fifteen-emergency",
   "metadata": {},
   "source": [
    "Compare bounding boxes"
   ]
  },
  {
   "cell_type": "code",
   "execution_count": null,
   "id": "indonesian-weight",
   "metadata": {},
   "outputs": [],
   "source": [
    "print(f\"Original Moving Mask\"), print_bbox(*input_bbox_coords);\n",
    "print(f\"ROI contains {np.count_nonzero(input_mask_arr)} elements.\", \"\\n\");\n",
    "\n",
    "print(f\"Target Fixed Mask\"), print_bbox(*atlas_bbox_coords);\n",
    "print(f\"ROI contains {np.count_nonzero(atlas_mask_arr)} elements.\", \"\\n\");\n",
    "\n",
    "print(f\"Transformed Moving Mask\"), print_bbox(*transformed_input_bbox_coords);\n",
    "print(f\"ROI contains {np.count_nonzero(transformed_input_mask_arr)} elements.\", \"\\n\");"
   ]
  },
  {
   "cell_type": "code",
   "execution_count": null,
   "id": "looking-latin",
   "metadata": {},
   "outputs": [],
   "source": [
    "viz_axis(input_mask_arr, bin_mask_arr=transformed_input_mask_arr, \n",
    "        slices=lrange(76, 80) + lrange(110,112), atlas_axis=0, \\\n",
    "        axis_fn = np.rot90, \\\n",
    "        grid = [2, 3], hspace=0.3, fig_mult=2, cmap0=\"gray\")"
   ]
  },
  {
   "cell_type": "markdown",
   "id": "significant-store",
   "metadata": {},
   "source": [
    "### Coronal"
   ]
  },
  {
   "cell_type": "code",
   "execution_count": null,
   "id": "alpine-mechanics",
   "metadata": {},
   "outputs": [],
   "source": [
    "sitk2np(iso_atlas_obj).shape"
   ]
  },
  {
   "cell_type": "code",
   "execution_count": null,
   "id": "stone-generator",
   "metadata": {},
   "outputs": [],
   "source": [
    "viz_axis(sitk2np(atlas_obj), \\\n",
    "        bin_mask_arr=transformed_input_mask_arr, color1 = \"yellow\", \\\n",
    "        bin_mask_arr2=atlas_mask_arr, color2 = \"red\", \\\n",
    "        slices=lrange(120, 126), atlas_axis=1, \\\n",
    "        axis_fn = np.rot90, \\\n",
    "        grid = [2, 3], hspace=0.3, fig_mult=2, cmap0=\"gray\")"
   ]
  },
  {
   "cell_type": "markdown",
   "id": "blond-diving",
   "metadata": {},
   "source": [
    "## Sagittal"
   ]
  },
  {
   "cell_type": "code",
   "execution_count": null,
   "id": "blocked-miami",
   "metadata": {},
   "outputs": [],
   "source": [
    "#cmap1 = [white, yellow]; cmap2 = [white, blue]\n",
    "viz_axis(sitk2np(atlas_obj), \\\n",
    "        bin_mask_arr=transformed_input_mask_arr, color1 = \"yellow\", \\\n",
    "        bin_mask_arr2=atlas_mask_arr, color2 = \"red\", \\\n",
    "        slices=lrange(76, 80) + lrange(104,112), atlas_axis=0, \\\n",
    "        axis_fn = np.rot90, \\\n",
    "        grid = [3, 4], hspace=0.3, fig_mult=2, cmap0=\"gray\")"
   ]
  },
  {
   "cell_type": "markdown",
   "id": "conservative-process",
   "metadata": {},
   "source": [
    "# Old"
   ]
  },
  {
   "cell_type": "code",
   "execution_count": null,
   "id": "junior-credits",
   "metadata": {},
   "outputs": [],
   "source": [
    "def affine_align(fixed_obj, fixed_mask_obj, moving_obj, moving_mask_obj, param_file = \"AffineParamFile.txt\"):\n",
    "    \n",
    "    # map moving => fixed (the transform is fixed => moving)\n",
    "    #parameterMap = sitk.GetDefaultParameterMap('affine')\n",
    "    parameterMap  = sitk.ReadParameterFile(param_file)\n",
    "    \n",
    "    elastixImageFilter = sitk.ElastixImageFilter()\n",
    "    elastixImageFilter.SetFixedImage(fixed_obj)\n",
    "    elastixImageFilter.SetMovingImage(moving_obj)\n",
    "    \n",
    "    # focus on registering moving mask ROI\n",
    "    #elastixImageFilter.SetMovingMask(moving_mask_obj)\n",
    "    #parameterMap[\"ImageSampler\"] = [\"RandomSparseMask\"]\n",
    "   \n",
    "    # print param map\n",
    "    sitk.PrintParameterMap(parameterMap)\n",
    "    \n",
    "    elastixImageFilter.SetParameterMap(parameterMap)\n",
    "    elastixImageFilter.Execute()\n",
    "\n",
    "    transformed_moving_obj  = elastixImageFilter.GetResultImage()\n",
    "    transformedParameterMap = elastixImageFilter.GetTransformParameterMap()[0]\n",
    "    \n",
    "    # Binary mask => nearest neighbor\n",
    "    transformedParameterMap[\"ResampleInterpolator\"] = [\"FinalNearestNeighborInterpolator\"]\n",
    "    \n",
    "    # map ROI of moving => fixed\n",
    "    transformixImageFilter = sitk.TransformixImageFilter()\n",
    "    transformixImageFilter.SetTransformParameterMap(transformedParameterMap)\n",
    "    transformixImageFilter.SetMovingImage(moving_mask_obj)\n",
    "    transformixImageFilter.Execute()\n",
    "    \n",
    "    transformed_moving_mask_obj = transformixImageFilter.GetResultImage()\n",
    "\n",
    "    # evaluate: dice, coverage\n",
    "    fixed_mask_arr              = sitk2np(fixed_mask_obj).astype(bool)\n",
    "    transformed_moving_mask_arr = sitk2np(transformed_moving_mask_obj).astype(bool)\n",
    "\n",
    "    dice     = compute_dice_coefficient(fixed_mask_arr, transformed_moving_mask_arr)\n",
    "    coverage = compute_coverage_coefficient(fixed_mask_arr, transformed_moving_mask_arr)\n",
    "    \n",
    "    # save bounding box coords\n",
    "    bbox_coords = mask2bbox(transformed_moving_mask_arr)\n",
    "        \n",
    "    return dice, coverage, bbox_coords, transformed_moving_obj, transformed_moving_mask_arr"
   ]
  },
  {
   "cell_type": "code",
   "execution_count": null,
   "id": "introductory-maryland",
   "metadata": {},
   "outputs": [],
   "source": [
    "dice, coverage, bbox_coords, transformed_input_obj, transformed_input_mask_arr = affine_align(atlas_obj, atlas_mask_obj, input_obj, input_mask_obj)"
   ]
  },
  {
   "cell_type": "code",
   "execution_count": null,
   "id": "adverse-tamil",
   "metadata": {},
   "outputs": [],
   "source": [
    "print(f\"Dice: {dice}. Coverage {coverage}.\")\n",
    "print_bbox(*bbox_coords)"
   ]
  }
 ],
 "metadata": {
  "kernelspec": {
   "display_name": "Python 3",
   "language": "python",
   "name": "python3"
  },
  "language_info": {
   "codemirror_mode": {
    "name": "ipython",
    "version": 3
   },
   "file_extension": ".py",
   "mimetype": "text/x-python",
   "name": "python",
   "nbconvert_exporter": "python",
   "pygments_lexer": "ipython3",
   "version": "3.8.5"
  },
  "toc-autonumbering": true,
  "toc-showcode": false,
  "toc-showmarkdowntxt": false
 },
 "nbformat": 4,
 "nbformat_minor": 5
}
