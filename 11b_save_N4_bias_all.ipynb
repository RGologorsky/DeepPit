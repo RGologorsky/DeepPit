{
 "cells": [
  {
   "cell_type": "markdown",
   "id": "705a6225",
   "metadata": {},
   "source": [
    "# Goal\n",
    "\n",
    "Save N4 bias field correction"
   ]
  },
  {
   "cell_type": "markdown",
   "id": "dec891cc",
   "metadata": {},
   "source": [
    "# Imports"
   ]
  },
  {
   "cell_type": "code",
   "execution_count": 31,
   "id": "ef0a2b4b",
   "metadata": {},
   "outputs": [
    {
     "name": "stdout",
     "output_type": "stream",
     "text": [
      "Folders in data src: ICMB, ABVIB (1).zip, central.xnat.org, ADNI, PPMI, Oasis_long, samir_labels, ACRIN-FMISO-Brain, LGG-1p19qDeletion, REMBRANDT, AIBL, CPTAC-GBM, TCGA-GBM, TCGA-LGG, ABVIB, ABIDE, AIBL.zip\n",
      "Folders in label src (data w labels): 50155-50212, 50313-50372, 50213-50312, 50373-50453, 50002-50153\n",
      "Folders in ABIDE src (data wo labels) PAD, ABIDE_1, ABIDE\n"
     ]
    }
   ],
   "source": [
    "import os\n",
    "\n",
    "# Paths to (1) code (2) data (3) saved models\n",
    "code_src    = \"/gpfs/home/gologr01\"\n",
    "data_src    = \"/gpfs/data/oermannlab/private_data/DeepPit/PitMRdata\"\n",
    "model_src   = \"/gpfs/data/oermannlab/private_data/DeepPit/saved_models\"\n",
    "\n",
    "# save_src = \"/gpfs/data/oermannlab/private_data/DeepPit/saved_landmarks/ABIDE\"\n",
    "# UMich \n",
    "# code src: \"/home/labcomputer/Desktop/Rachel\"\n",
    "# data src: \"../../../../..//media/labcomputer/e33f6fe0-5ede-4be4-b1f2-5168b7903c7a/home/rachel/\"\n",
    "\n",
    "deepPit_src = f\"{code_src}/DeepPit\"\n",
    "obelisk_src = f\"{code_src}/OBELISK\"\n",
    "label_src   = f\"{data_src}/samir_labels\"\n",
    "ABIDE_src   = f\"{data_src}/ABIDE\"\n",
    "\n",
    "# print\n",
    "print(\"Folders in data src: \", end=\"\"); print(*os.listdir(data_src), sep=\", \")\n",
    "print(\"Folders in label src (data w labels): \", end=\"\"); print(*os.listdir(label_src), sep=\", \")\n",
    "print(\"Folders in ABIDE src (data wo labels) \", end=\"\"); print(*os.listdir(ABIDE_src), sep=\", \")"
   ]
  },
  {
   "cell_type": "code",
   "execution_count": 32,
   "id": "0cc19f13",
   "metadata": {},
   "outputs": [],
   "source": [
    "# imports\n",
    "\n",
    "# Utilities\n",
    "import os\n",
    "import sys\n",
    "import time\n",
    "import glob\n",
    "import pickle\n",
    "from pathlib import Path\n",
    "# sys.path.append('/gpfs/home/gologr01/DeepPit')\n",
    "# sys.path.append('/gpfs/home/gologr01/OBELISK')\n",
    "\n",
    "# Numpy torch pandas\n",
    "import torch\n",
    "\n",
    "# imports\n",
    "import SimpleITK as sitk\n",
    "import meshio\n",
    "from helpers.preprocess import seg2mask, get_data_dict"
   ]
  },
  {
   "cell_type": "markdown",
   "id": "f5aaa82a",
   "metadata": {},
   "source": [
    "# MR data"
   ]
  },
  {
   "cell_type": "code",
   "execution_count": 33,
   "id": "c5061368",
   "metadata": {},
   "outputs": [
    {
     "name": "stdout",
     "output_type": "stream",
     "text": [
      "1160 ../../../mnt/d/PitMRdata/ABIDE/PAD/PAD_0001/T1-FFE/1995-03-11_00_00_00.0/S7478\n",
      "1160 /gpfs/data/oermannlab/private_data/DeepPit/PitMRdata/ABIDE/PAD/PAD_0001/T1-FFE/1995-03-11_00_00_00.0/S7478\n",
      "1157 /gpfs/data/oermannlab/private_data/DeepPit/PitMRdata/ABIDE/ABIDE_1/50383/MP-RAGE/2000-01-01_00_00_00.0/S164289\n"
     ]
    }
   ],
   "source": [
    "# Load fnames from .txt\n",
    "with open(f\"{deepPit_src}/saved_metadata/ABIDE.txt\", 'rb') as f:\n",
    "    fnames = pickle.load(f)\n",
    "print(len(fnames), fnames[0])\n",
    "\n",
    "def change_src(s, old_src=\"../../../mnt/d/PitMRdata\", new_src=data_src): return new_src + s[len(old_src):] \n",
    "fnames = [change_src(f) for f in fnames]\n",
    "print(len(fnames), fnames[0])\n",
    "\n",
    "# exclude PAD (not .nii files)\n",
    "fnames_no_pad = [f for f in fnames if not \"PAD\" in f]\n",
    "print(len(fnames_no_pad), fnames_no_pad[0])"
   ]
  },
  {
   "cell_type": "markdown",
   "id": "ea427bef",
   "metadata": {},
   "source": [
    "# Test/Cleanup"
   ]
  },
  {
   "cell_type": "code",
   "execution_count": 34,
   "id": "033b99ff",
   "metadata": {},
   "outputs": [
    {
     "name": "stdout",
     "output_type": "stream",
     "text": [
      "1157 0 0\n",
      "\n"
     ]
    }
   ],
   "source": [
    "corrected = []\n",
    "uncorrected = []\n",
    "multiple    = []\n",
    "\n",
    "def is_corrected(f):\n",
    "    nii_paths = glob.glob(f\"{f}/*corrected_n4.nii\")\n",
    "    \n",
    "    if len(nii_paths) == 1: \n",
    "        corrected.append(f)\n",
    "        return True\n",
    "    \n",
    "    if len(nii_paths) == 0: \n",
    "        uncorrected.append(f)\n",
    "        return False\n",
    "    \n",
    "    if len(nii_paths) > 1: \n",
    "        multiple.append(f)\n",
    "        return True  \n",
    "                \n",
    "for f in fnames_no_pad:\n",
    "    is_corrected(f)\n",
    "    \n",
    "print(len(corrected), len(uncorrected), len(multiple))\n",
    "print(*uncorrected, sep=\"\\n\")\n",
    "\n",
    "#os.listdir(uncorrected[0])\n",
    "#uncorrected_nii = [os.path.join(f, os.listdir(f)[0]) for f in uncorrected]\n",
    "#uncorrected_nii\n",
    "\n",
    "# Very strange\n",
    "# os.remove('/gpfs/data/oermannlab/private_data/DeepPit/PitMRdata/ABIDE/ABIDE/50455/MP-RAGE/2000-01-01_00_00_00.0/S165455/._ABIDE_50455_MRI_MP-RAGE_br_raw_20120831000745302_S165455_I329465.nii')\n",
    "\n",
    "# # delete multiple\n",
    "# for f in multiple:\n",
    "#     nii_paths = glob.glob(f\"{f}/*corrected_n4_corrected_n4.nii\")\n",
    "#     for p in nii_paths:\n",
    "#         os.remove(p)\n",
    "\n",
    "# process uncorrected\n",
    "# from FAIMED3D 02_preprocessing\n",
    "# and https://simpleitk.readthedocs.io/en/master/link_N4BiasFieldCorrection_docs.html\n",
    "\n",
    "# print(\"tot \", len(uncorrected))\n",
    "\n",
    "# uncorrected_nii = [os.path.join(f, os.listdir(f)[0]) for f in uncorrected]\n",
    "\n",
    "# count = 0\n",
    "# for mr_path in uncorrected_nii: \n",
    "#     # print\n",
    "#     print(count, mr_path, flush=True)\n",
    "#     count += 1\n",
    "    \n",
    "#     # Read in image\n",
    "#     inputImage = sitk.ReadImage(mr_path, sitk.sitkFloat32)\n",
    "    \n",
    "#     # Mask the head to estimate bias\n",
    "#     maskImage = sitk.OtsuThreshold(inputImage, 0, 1, 200)\n",
    "    \n",
    "#     # Set corrector\n",
    "#     corrector = sitk.N4BiasFieldCorrectionImageFilter()\n",
    "#     corrector.SetMaximumNumberOfIterations([3] * 3)\n",
    "#     corrected_image = corrector.Execute(inputImage, maskImage)\n",
    "\n",
    "#     # write image\n",
    "#     corrected_fn = mr_path[:-4] + \"_corrected_n4.nii\"\n",
    "#     sitk.WriteImage(corrected_image, corrected_fn)"
   ]
  },
  {
   "cell_type": "markdown",
   "id": "6301d61d",
   "metadata": {},
   "source": [
    "# Get chunk"
   ]
  },
  {
   "cell_type": "code",
   "execution_count": 41,
   "id": "3566d984",
   "metadata": {},
   "outputs": [
    {
     "ename": "TypeError",
     "evalue": "int() argument must be a string, a bytes-like object or a number, not 'NoneType'",
     "output_type": "error",
     "traceback": [
      "\u001b[0;31m---------------------------------------------------------------------------\u001b[0m",
      "\u001b[0;31mTypeError\u001b[0m                                 Traceback (most recent call last)",
      "\u001b[0;32m<ipython-input-41-a6367f24c8f0>\u001b[0m in \u001b[0;36m<module>\u001b[0;34m\u001b[0m\n\u001b[1;32m      1\u001b[0m \u001b[0;32mimport\u001b[0m \u001b[0mos\u001b[0m\u001b[0;34m\u001b[0m\u001b[0;34m\u001b[0m\u001b[0m\n\u001b[0;32m----> 2\u001b[0;31m \u001b[0mtaskid\u001b[0m \u001b[0;34m=\u001b[0m \u001b[0mint\u001b[0m\u001b[0;34m(\u001b[0m\u001b[0mos\u001b[0m\u001b[0;34m.\u001b[0m\u001b[0mgetenv\u001b[0m\u001b[0;34m(\u001b[0m\u001b[0;34m'SLURM_ARRAY_TASK_ID'\u001b[0m\u001b[0;34m)\u001b[0m\u001b[0;34m)\u001b[0m\u001b[0;34m\u001b[0m\u001b[0;34m\u001b[0m\u001b[0m\n\u001b[0m\u001b[1;32m      3\u001b[0m \u001b[0;34m\u001b[0m\u001b[0m\n\u001b[1;32m      4\u001b[0m \u001b[0mn_total\u001b[0m \u001b[0;34m=\u001b[0m \u001b[0mlen\u001b[0m\u001b[0;34m(\u001b[0m\u001b[0mfnames_no_pad\u001b[0m\u001b[0;34m)\u001b[0m\u001b[0;34m\u001b[0m\u001b[0;34m\u001b[0m\u001b[0m\n\u001b[1;32m      5\u001b[0m \u001b[0;34m\u001b[0m\u001b[0m\n",
      "\u001b[0;31mTypeError\u001b[0m: int() argument must be a string, a bytes-like object or a number, not 'NoneType'"
     ]
    }
   ],
   "source": [
    "import os\n",
    "taskid = int(os.getenv('SLURM_ARRAY_TASK_ID'))\n",
    "   \n",
    "n_total = len(fnames_no_pad)\n",
    "\n",
    "chunk_len = 20    \n",
    "chunks    = [range(i,min(i+chunk_len, n_total)) for i in range(0, n_total, chunk_len)]\n",
    "\n",
    "print(f\"N_chunks = {len(chunks)}\")\n",
    "# print(f\"Array Task ID: {taskid}\")\n",
    "# print(f\"Array ID: {os.getenv('SLURM_ARRAY_TASK_ID')}\")\n",
    "# print(f\"Job ID: {os.getenv('SLURM_JOB_ID')}\")\n",
    "#print(*chunks, sep=\"\\n\")\n",
    "\n",
    "task_chunk = chunks[taskid]"
   ]
  },
  {
   "cell_type": "code",
   "execution_count": 23,
   "id": "6e4be331",
   "metadata": {},
   "outputs": [],
   "source": [
    "def is_todo(f):\n",
    "    children = os.listdir(f)\n",
    "    return len(children) == 1\n",
    "    \n",
    "files     = [fnames_no_pad[i] for i in task_chunk]\n",
    "nii_files = [os.path.join(f, os.listdir(f)[0]) for f in files if is_todo(f)]"
   ]
  },
  {
   "cell_type": "markdown",
   "id": "b9ce2116",
   "metadata": {},
   "source": [
    "# Process"
   ]
  },
  {
   "cell_type": "code",
   "execution_count": 8,
   "id": "f5c3cbf8",
   "metadata": {
    "scrolled": true
   },
   "outputs": [
    {
     "name": "stdout",
     "output_type": "stream",
     "text": [
      "N left:  335\n",
      "Elapsed 16.489076137542725 s\n",
      "Index 0, fn /gpfs/data/oermannlab/private_data/DeepPit/PitMRdata/samir_labels/50155-50212/50201/MP-RAGE/2000-01-01_00_00_00.0/S164577/ABIDE_50201_MRI_MP-RAGE_br_raw_20120830171150028_S164577_I328580_corrected_n4.nii\n"
     ]
    },
    {
     "ename": "KeyboardInterrupt",
     "evalue": "",
     "output_type": "error",
     "traceback": [
      "\u001b[0;31m---------------------------------------------------------------------------\u001b[0m",
      "\u001b[0;31mKeyboardInterrupt\u001b[0m                         Traceback (most recent call last)",
      "\u001b[0;32m<ipython-input-8-becd7d1660c7>\u001b[0m in \u001b[0;36m<module>\u001b[0;34m\u001b[0m\n\u001b[1;32m     22\u001b[0m     \u001b[0mcorrector\u001b[0m \u001b[0;34m=\u001b[0m \u001b[0msitk\u001b[0m\u001b[0;34m.\u001b[0m\u001b[0mN4BiasFieldCorrectionImageFilter\u001b[0m\u001b[0;34m(\u001b[0m\u001b[0;34m)\u001b[0m\u001b[0;34m\u001b[0m\u001b[0;34m\u001b[0m\u001b[0m\n\u001b[1;32m     23\u001b[0m     \u001b[0mcorrector\u001b[0m\u001b[0;34m.\u001b[0m\u001b[0mSetMaximumNumberOfIterations\u001b[0m\u001b[0;34m(\u001b[0m\u001b[0;34m[\u001b[0m\u001b[0;36m3\u001b[0m\u001b[0;34m]\u001b[0m \u001b[0;34m*\u001b[0m \u001b[0;36m3\u001b[0m\u001b[0;34m)\u001b[0m\u001b[0;34m\u001b[0m\u001b[0;34m\u001b[0m\u001b[0m\n\u001b[0;32m---> 24\u001b[0;31m     \u001b[0mcorrected_image\u001b[0m \u001b[0;34m=\u001b[0m \u001b[0mcorrector\u001b[0m\u001b[0;34m.\u001b[0m\u001b[0mExecute\u001b[0m\u001b[0;34m(\u001b[0m\u001b[0minputImage\u001b[0m\u001b[0;34m,\u001b[0m \u001b[0mmaskImage\u001b[0m\u001b[0;34m)\u001b[0m\u001b[0;34m\u001b[0m\u001b[0;34m\u001b[0m\u001b[0m\n\u001b[0m\u001b[1;32m     25\u001b[0m \u001b[0;34m\u001b[0m\u001b[0m\n\u001b[1;32m     26\u001b[0m     \u001b[0;31m# write image\u001b[0m\u001b[0;34m\u001b[0m\u001b[0;34m\u001b[0m\u001b[0;34m\u001b[0m\u001b[0m\n",
      "\u001b[0;32m/usr/local/lib/python3.6/dist-packages/SimpleITK/SimpleITK.py\u001b[0m in \u001b[0;36mExecute\u001b[0;34m(self, *args)\u001b[0m\n\u001b[1;32m  18296\u001b[0m         \u001b[0mExecute\u001b[0m\u001b[0;34m(\u001b[0m\u001b[0mN4BiasFieldCorrectionImageFilter\u001b[0m \u001b[0mself\u001b[0m\u001b[0;34m,\u001b[0m \u001b[0mImage\u001b[0m \u001b[0mimage\u001b[0m\u001b[0;34m)\u001b[0m \u001b[0;34m->\u001b[0m \u001b[0mImage\u001b[0m\u001b[0;34m\u001b[0m\u001b[0;34m\u001b[0m\u001b[0m\n\u001b[1;32m  18297\u001b[0m         \"\"\"\n\u001b[0;32m> 18298\u001b[0;31m         \u001b[0;32mreturn\u001b[0m \u001b[0m_SimpleITK\u001b[0m\u001b[0;34m.\u001b[0m\u001b[0mN4BiasFieldCorrectionImageFilter_Execute\u001b[0m\u001b[0;34m(\u001b[0m\u001b[0mself\u001b[0m\u001b[0;34m,\u001b[0m \u001b[0;34m*\u001b[0m\u001b[0margs\u001b[0m\u001b[0;34m)\u001b[0m\u001b[0;34m\u001b[0m\u001b[0;34m\u001b[0m\u001b[0m\n\u001b[0m\u001b[1;32m  18299\u001b[0m \u001b[0;34m\u001b[0m\u001b[0m\n\u001b[1;32m  18300\u001b[0m \u001b[0;31m# Register N4BiasFieldCorrectionImageFilter in _SimpleITK:\u001b[0m\u001b[0;34m\u001b[0m\u001b[0;34m\u001b[0m\u001b[0;34m\u001b[0m\u001b[0m\n",
      "\u001b[0;31mKeyboardInterrupt\u001b[0m: "
     ]
    }
   ],
   "source": [
    "# from FAIMED3D 02_preprocessing\n",
    "# and https://simpleitk.readthedocs.io/en/master/link_N4BiasFieldCorrection_docs.html\n",
    "print(\"tot \", len(nii_files))\n",
    "\n",
    "count = 0\n",
    "for mr_path in nii_files: \n",
    "    # print\n",
    "    print(count, mr_path, flush=True)\n",
    "    count += 1\n",
    "    \n",
    "    # Read in image\n",
    "    inputImage = sitk.ReadImage(mr_path, sitk.sitkFloat32)\n",
    "    \n",
    "    # Mask the head to estimate bias\n",
    "    maskImage = sitk.OtsuThreshold(inputImage, 0, 1, 200)\n",
    "    \n",
    "    # Set corrector\n",
    "    corrector = sitk.N4BiasFieldCorrectionImageFilter()\n",
    "    corrector.SetMaximumNumberOfIterations([3] * 3)\n",
    "    corrected_image = corrector.Execute(inputImage, maskImage)\n",
    "\n",
    "    # write image\n",
    "    corrected_fn = mr_path[:-4] + \"_corrected_n4.nii\"\n",
    "    sitk.WriteImage(corrected_image, corrected_fn)"
   ]
  },
  {
   "cell_type": "code",
   "execution_count": null,
   "id": "9a2e7981",
   "metadata": {},
   "outputs": [],
   "source": []
  }
 ],
 "metadata": {
  "kernelspec": {
   "display_name": "Python 3",
   "language": "python",
   "name": "python3"
  },
  "language_info": {
   "codemirror_mode": {
    "name": "ipython",
    "version": 3
   },
   "file_extension": ".py",
   "mimetype": "text/x-python",
   "name": "python",
   "nbconvert_exporter": "python",
   "pygments_lexer": "ipython3",
   "version": "3.6.9"
  }
 },
 "nbformat": 4,
 "nbformat_minor": 5
}
