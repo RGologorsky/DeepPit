{
 "cells": [
  {
   "cell_type": "markdown",
   "id": "3321cd55",
   "metadata": {},
   "source": [
    "# Goal\n",
    "\n",
    "Train model\n",
    "\n",
    "Thanks to: OBELISK, FAIMED3D, MONAI\n",
    "- https://github.com/mattiaspaul/OBELISK\n",
    "-  https://github.com/kbressem/faimed3d/blob/main/examples/3d_segmentation.md"
   ]
  },
  {
   "cell_type": "markdown",
   "id": "493866e5",
   "metadata": {},
   "source": [
    "# Setup parameters"
   ]
  },
  {
   "cell_type": "code",
   "execution_count": 1,
   "id": "3d427e0c",
   "metadata": {},
   "outputs": [],
   "source": [
    "do_reload = True #True #True #False\n",
    "if do_reload:\n",
    "    %load_ext autoreload\n",
    "    %autoreload 2"
   ]
  },
  {
   "cell_type": "code",
   "execution_count": 2,
   "id": "8e07c233",
   "metadata": {},
   "outputs": [],
   "source": [
    "# kwargs = dict(arg.split(\"=\") for arg in sys.argv if \"=\" in arg)\n",
    "# print(kwargs)\n",
    "\n",
    "# model_type = kwargs[\"model_type\"]\n",
    "# loss_type  = kwargs[\"loss\"]\n",
    "\n",
    "# print(f\"Model: {model_type}\")\n",
    "# print(f\"Loss : {loss_type}\")"
   ]
  },
  {
   "cell_type": "code",
   "execution_count": 3,
   "id": "7aa64432",
   "metadata": {},
   "outputs": [],
   "source": [
    "model_type = \"VNET\" # VNET, UNET3D, UNETR, SegResNetVAE, OBELISKHYBRID\n",
    "loss_type  = \"BCE_loss\" # DICE_loss"
   ]
  },
  {
   "cell_type": "code",
   "execution_count": 4,
   "id": "95658af1",
   "metadata": {},
   "outputs": [
    {
     "name": "stdout",
     "output_type": "stream",
     "text": [
      "Model: VNET\n",
      "Loss : BCE_loss\n"
     ]
    }
   ],
   "source": [
    "# import os\n",
    "\n",
    "# try:\n",
    "#     taskid = int(os.getenv('SLURM_ARRAY_TASK_ID'))\n",
    "# except:\n",
    "#     taskid = 0\n",
    "\n",
    "# taskid = 1\n",
    "# print(f\"Taskid: {taskid}\")\n",
    "\n",
    "# if taskid == 0:\n",
    "#     # MODEL & LOSS\n",
    "#     model_type = \"UNET3D\" #\"SegResNetVAE\" # \"UNET3D\" #\"OBELISKHYBRID\" #\"VNET\" # \"UNET3D\" \"OBELISKHYBRID\"\n",
    "#     loss_type  = \"BCE_loss\" #\"log_cosh_dice_loss\" #\"vae_loss\" #\"perim_loss\" #\"log_cosh_dice_loss\" # DICE\n",
    "# elif taskid == 1:\n",
    "#     # MODEL & LOSS\n",
    "#     model_type = \"UNET3D\" #\"SegResNetVAE\" # \"UNET3D\" #\"OBELISKHYBRID\" #\"VNET\" # \"UNET3D\" \"OBELISKHYBRID\"\n",
    "#     loss_type  = \"log_cosh_dice_loss\" #\"log_cosh_dice_loss\" #\"vae_loss\" #\"perim_loss\" #\"log_cosh_dice_loss\" # DICE\n",
    "# else:\n",
    "#     print(\"Taskid {taskid} not recognized.\")\n",
    "    \n",
    "print(f\"Model: {model_type}\")\n",
    "print(f\"Loss : {loss_type}\")"
   ]
  },
  {
   "cell_type": "code",
   "execution_count": 5,
   "id": "1db8c87c",
   "metadata": {},
   "outputs": [],
   "source": [
    "# MODEL & LOSS\n",
    "# model_type = \"UNET3D\" #\"SegResNetVAE\" # \"UNET3D\" #\"OBELISKHYBRID\" #\"VNET\" # \"UNET3D\" \"OBELISKHYBRID\"\n",
    "# loss_type  = \"BCE_loss\" #\"log_cosh_dice_loss\" #\"vae_loss\" #\"perim_loss\" #\"log_cosh_dice_loss\" # DICE\n",
    "\n",
    "# DATALOADER PARAMS\n",
    "bs          = 1\n",
    "nepochs     = 60\n",
    "num_workers = 2\n",
    "full_res      = (96,96,96)"
   ]
  },
  {
   "cell_type": "code",
   "execution_count": 6,
   "id": "b2eb7395",
   "metadata": {},
   "outputs": [
    {
     "name": "stdout",
     "output_type": "stream",
     "text": [
      "Full lbl items: 335\n",
      "Removed 2 weird, new total lbl items: 333\n",
      "train, valid, test 201 66 66 total 333\n",
      "Cross label items:  418\n",
      "All label items:  751 (abide (333) + cross_lbl (418))\n",
      "Test label items:  484 (test (66) + cross_lbl (418))\n"
     ]
    }
   ],
   "source": [
    "from helpers.model_loss_choices import get_model, get_loss\n",
    "\n",
    "model   = get_model(model_type, full_res)\n",
    "loss_fn = get_loss(loss_type) "
   ]
  },
  {
   "cell_type": "code",
   "execution_count": 7,
   "id": "6efb1ac4",
   "metadata": {},
   "outputs": [
    {
     "name": "stdout",
     "output_type": "stream",
     "text": [
      "MONAI version: 0.6.dev2127\n",
      "Numpy version: 1.19.5\n",
      "Pytorch version: 1.7.1+cu101\n",
      "MONAI flags: HAS_EXT = False, USE_COMPILED = False\n",
      "MONAI rev id: 889f33577be13b590211663995d2285aafc8fd74\n",
      "\n",
      "Optional dependencies:\n",
      "Pytorch Ignite version: 0.4.5\n",
      "Nibabel version: 3.2.1\n",
      "scikit-image version: 0.17.2\n",
      "Pillow version: 8.2.0\n",
      "Tensorboard version: 2.5.0\n",
      "gdown version: 3.13.0\n",
      "TorchVision version: 0.8.2+cu101\n",
      "ITK version: 5.1.2\n",
      "tqdm version: 4.61.2\n",
      "lmdb version: 1.2.1\n",
      "psutil version: 5.8.0\n",
      "pandas version: 1.1.5\n",
      "einops version: 0.3.0\n",
      "\n",
      "For details about installing the optional dependencies, please visit:\n",
      "    https://docs.monai.io/en/latest/installation.html#installing-the-recommended-dependencies\n",
      "\n"
     ]
    }
   ],
   "source": [
    "import os, shutil\n",
    "\n",
    "from pathlib import Path\n",
    "\n",
    "import matplotlib.pyplot as plt\n",
    "import numpy as np\n",
    "\n",
    "from monai.losses import DiceCELoss\n",
    "from monai.inferers import sliding_window_inference\n",
    "\n",
    "\n",
    "from monai.config import print_config\n",
    "from monai.metrics import DiceMetric\n",
    "from monai.networks.nets import UNETR\n",
    "\n",
    "from monai.data import (\n",
    "    DataLoader,\n",
    "    CacheDataset,\n",
    "    load_decathlon_datalist,\n",
    "    decollate_batch,\n",
    ")\n",
    "\n",
    "\n",
    "import torch\n",
    "\n",
    "print_config()"
   ]
  },
  {
   "cell_type": "markdown",
   "id": "bebb6ff2",
   "metadata": {},
   "source": [
    "# Items as dict "
   ]
  },
  {
   "cell_type": "code",
   "execution_count": 8,
   "id": "4f15ac03",
   "metadata": {},
   "outputs": [
    {
     "name": "stdout",
     "output_type": "stream",
     "text": [
      "train: 50, val: 50\n"
     ]
    }
   ],
   "source": [
    "from helpers.items_constants import *\n",
    "train_itemsd = getd(train_items)[:50]\n",
    "val_itemsd   = getd(valid_items)[:50]\n",
    "print(f\"train: {len(train_itemsd)}, val: {len(val_itemsd)}\")"
   ]
  },
  {
   "cell_type": "markdown",
   "id": "9b8683e5",
   "metadata": {},
   "source": [
    "# Transforms"
   ]
  },
  {
   "cell_type": "code",
   "execution_count": 9,
   "id": "120f8324",
   "metadata": {},
   "outputs": [],
   "source": [
    "from helpers.transforms import UndoDict, get_train_valid_transforms\n",
    "\n",
    "train_tfms, val_tfms = get_train_valid_transforms(full_res)"
   ]
  },
  {
   "cell_type": "code",
   "execution_count": 10,
   "id": "556411d1",
   "metadata": {},
   "outputs": [],
   "source": [
    "# Fastai + distributed training\n",
    "from fastai              import *\n",
    "from fastai.torch_basics import *\n",
    "from fastai.basics       import *\n",
    "from fastai.distributed  import *\n",
    "from fastai.callback.all import SaveModelCallback, CSVLogger"
   ]
  },
  {
   "cell_type": "code",
   "execution_count": 11,
   "id": "b6ff595d",
   "metadata": {},
   "outputs": [],
   "source": [
    "# tls, dls, cuda\n",
    "train_dl = TfmdDL(train_itemsd, after_item=train_tfms, after_batch=[], bs=bs)\n",
    "val_dl   = TfmdDL(val_itemsd,   after_item=val_tfms,   after_batch=[], bs=bs)"
   ]
  },
  {
   "cell_type": "code",
   "execution_count": 12,
   "id": "1e2d0bb1",
   "metadata": {},
   "outputs": [],
   "source": [
    "dls = DataLoaders(train_dl, val_dl)\n",
    "dls = dls.cuda()"
   ]
  },
  {
   "cell_type": "code",
   "execution_count": 13,
   "id": "f7930b1e",
   "metadata": {},
   "outputs": [],
   "source": [
    "# # Viz\n",
    "\n",
    "# from helpers.viz        import viz_axis, viz_compare_inputs, viz_compare_outputs\n",
    "# from helpers.preprocess import mask2bbox\n",
    "# from helpers.general    import lrange\n",
    "\n",
    "# b = dls.one_batch()\n",
    "\n",
    "# xb = b[\"image\"]\n",
    "# yb = b[\"label\"]\n",
    "\n",
    "# print(\"shape xb yb\", xb.shape, yb.shape)\n",
    "\n",
    "# i = 0\n",
    "# mr = np.array(xb[i].squeeze())\n",
    "# mk = np.array(yb[i].squeeze())\n",
    "\n",
    "# bbox = mask2bbox(mk)\n",
    "\n",
    "# viz_axis(np_arr = mr, \\\n",
    "#     bin_mask_arr   = mk,     color1 = \"yellow\",  alpha1=0.3, \\\n",
    "#     slices=lrange(*bbox[0:2]), fixed_axis=0, \\\n",
    "#     axis_fn = np.rot90, \\\n",
    "#     title   = \"Axis 0\", \\\n",
    "\n",
    "#     np_arr_b = mr, \\\n",
    "#     bin_mask_arr_b   = mk,     color1_b = \"yellow\",  alpha1_b=0.3, \\\n",
    "#     slices_b = lrange(*bbox[2:4]), fixed_axis_b=1, \\\n",
    "#     title_b  = \"Axis 1\", \\\n",
    "\n",
    "#     np_arr_c = mr, \\\n",
    "#     bin_mask_arr_c   = mk,     color1_c = \"yellow\",  alpha1_c=0.3, \\\n",
    "#     slices_c = lrange(*bbox[4:6]), fixed_axis_c=2, \\\n",
    "#     title_c = \"Axis 2\", \\\n",
    "  \n",
    "# ncols = 5, hspace=0.3, fig_mult=2)"
   ]
  },
  {
   "cell_type": "code",
   "execution_count": 14,
   "id": "684b0b85",
   "metadata": {
    "scrolled": true
   },
   "outputs": [],
   "source": [
    "# Utilities\n",
    "import os, sys, gc, time, pickle\n",
    "from pathlib import Path\n",
    "\n",
    "# Fastai + distributed training\n",
    "from fastai              import *\n",
    "from fastai.torch_basics import *\n",
    "from fastai.basics       import *\n",
    "from fastai.distributed  import *\n",
    "from fastai.callback.all import SaveModelCallback, CSVLogger"
   ]
  },
  {
   "cell_type": "code",
   "execution_count": 15,
   "id": "19bbc228",
   "metadata": {},
   "outputs": [],
   "source": [
    "# length  = len(items)\n",
    "# indices = np.arange(length)\n",
    "# np.random.shuffle(indices)\n",
    "# #rank0_first(lambda: np.random.shuffle(indices))\n",
    "\n",
    "# test_split   = int(test_frac  * length)\n",
    "# valid_split  = int(valid_frac * length) + test_split\n",
    "\n",
    "# test_idxs    = indices[:test_split] \n",
    "# valid_idxs   = indices[test_split:valid_split]\n",
    "# train_idxs   = indices[valid_split:]\n",
    "\n",
    "# train_items = [items[i] for i in train_idxs]\n",
    "# valid_items = [items[i] for i in valid_idxs]\n",
    "# test_items  = [items[i] for i in test_idxs]\n",
    "\n",
    "# # print\n",
    "# print(f\"Total  {len(items)} items in dataset.\")\n",
    "# print(f\"Train: {len(train_items)} items.\")\n",
    "# print(f\"Valid: {len(valid_items)} items.\")\n",
    "# print(f\"Test:  {len(test_items)} items.\")"
   ]
  },
  {
   "cell_type": "code",
   "execution_count": 16,
   "id": "7501063f",
   "metadata": {},
   "outputs": [],
   "source": [
    "# # save test set indices\n",
    "# with open(f\"{data_src}/saved_dset_metadata/split_train_valid_test.pkl\", 'wb') as f:\n",
    "#     pickle.dump([train_idxs, valid_idxs, test_idxs, train_items, valid_items, test_items], f)"
   ]
  },
  {
   "cell_type": "code",
   "execution_count": 17,
   "id": "702c1a1a",
   "metadata": {},
   "outputs": [],
   "source": [
    "# test get one batch\n",
    "# time_one_batch(dls)"
   ]
  },
  {
   "cell_type": "code",
   "execution_count": 18,
   "id": "e3351ab7",
   "metadata": {},
   "outputs": [
    {
     "name": "stdout",
     "output_type": "stream",
     "text": [
      "Model name: model_VNET_loss_BCE_loss_bs_1_epochs_60_time_1627819388_Sun_Aug_01_2021_hr_08_min_03\n"
     ]
    }
   ],
   "source": [
    "# Save test idxs + model + runs\n",
    "from helpers.time       import time_one_batch, get_time_id\n",
    "\n",
    "# file name\n",
    "model_time = rank0_first(lambda:get_time_id()) # 'Mon Oct 18 13:35:29 2010'\n",
    "model_name = f\"model_{model_type}_loss_{loss_type}_bs_{bs}_epochs_{nepochs}_time_{model_time}\"\n",
    "print(f\"Model name: {model_name}\")"
   ]
  },
  {
   "cell_type": "markdown",
   "id": "9a5808b4",
   "metadata": {},
   "source": [
    "# Save"
   ]
  },
  {
   "cell_type": "code",
   "execution_count": 19,
   "id": "f241a3e0",
   "metadata": {},
   "outputs": [],
   "source": [
    "# make dir\n",
    "model_src = f\"{run_src}/{model_name}\"\n",
    "fig_src = f\"{model_src}/figs\"\n",
    "Path(fig_src).mkdir(parents=True, exist_ok=True)"
   ]
  },
  {
   "cell_type": "code",
   "execution_count": 20,
   "id": "ac990b09",
   "metadata": {},
   "outputs": [],
   "source": [
    "# # save test set indices\n",
    "# with open(f\"{model_src}/test_items.pkl\", 'wb') as f:\n",
    "#     rank0_first(lambda:pickle.dump(list(test_items), f))\n",
    "\n",
    "# # save data augs\n",
    "# with open(f\"{model_src}/data_augs.txt\", 'w') as f:\n",
    "#     rank0_first(lambda: \n",
    "#                     print(\"Train Tfms: \"), print(monai_tfms2str(train_tfms, file=f)); print(\"\\n\", file=f);\n",
    "#                     print(\"Val   Tfms: \"), print(monai_tfms2str(val_tfms, file=f))\n",
    "#                )\n",
    "\n",
    "# #     s = \"\\n\".join([str(tfm) for tfm in train_tfms.transforms] + [f\"Pixdim: 1.5\"])\n",
    "# #     rank0_first(lambda: print(s, file=f))\n",
    "    \n",
    "# # with open(f\"{model_src}/{model_name}_test_items.pkl\", 'wb') as f:\n",
    "# #     rank0_first(lambda:pickle.dump(list(test_items), f))"
   ]
  },
  {
   "cell_type": "markdown",
   "id": "9116b3e9",
   "metadata": {},
   "source": [
    "# Callbacks"
   ]
  },
  {
   "cell_type": "code",
   "execution_count": 21,
   "id": "5456e0e9",
   "metadata": {},
   "outputs": [],
   "source": [
    "cbs = [\n",
    "    rank0_first(lambda: Recorder(train_metrics=True)),\n",
    "    rank0_first(lambda: SaveModelCallback(monitor='valid_loss', with_opt=True)), \n",
    "    rank0_first(lambda: CSVLogger(fname=f\"{fig_src}/history.csv\"))\n",
    "]\n",
    "\n",
    "# class PerimLossMidway(Callback):\n",
    "#     def before_epoch(self): \n",
    "#         if self.epoch == self.n_epoch//2:\n",
    "#             self.learn.loss_func = perim_loss\n",
    "#             print(\"Changed \", self.learn.loss_func, \"at epoch \", self.n_epoch//2)\n",
    "            \n",
    "# cbs = [SaveModelCallback(monitor='dice_score', with_opt=True), CSVLogger(fname=f\"{fig_src}/history.csv\")]\n",
    "\n",
    "# if loss_type == \"perim_loss\":\n",
    "#     print(\"added PerimLoss callback\")\n",
    "#     cbs.append(PerimLossMidway())"
   ]
  },
  {
   "cell_type": "markdown",
   "id": "83d7809f",
   "metadata": {},
   "source": [
    "# Learner"
   ]
  },
  {
   "cell_type": "code",
   "execution_count": 22,
   "id": "d3b8faf4",
   "metadata": {},
   "outputs": [
    {
     "name": "stdout",
     "output_type": "stream",
     "text": [
      "#GPU = 1, #CPU = 40\n",
      "GPU Tesla V100-SXM2-16GB RAM Free: 16157MB | Used: 3MB | Util   0% | Total 16160MB\n"
     ]
    }
   ],
   "source": [
    "# clear cache\n",
    "from helpers.general import print_hardware_stats\n",
    "\n",
    "gc.collect()\n",
    "torch.cuda.empty_cache()\n",
    "rank0_first(lambda: print_hardware_stats())"
   ]
  },
  {
   "cell_type": "code",
   "execution_count": 23,
   "id": "d9acf1d5",
   "metadata": {},
   "outputs": [],
   "source": [
    "from helpers.losses import dice_score"
   ]
  },
  {
   "cell_type": "code",
   "execution_count": 24,
   "id": "23920dab",
   "metadata": {},
   "outputs": [],
   "source": [
    "loss_fn = get_loss(loss_type) "
   ]
  },
  {
   "cell_type": "code",
   "execution_count": 32,
   "id": "a13fe9bf",
   "metadata": {},
   "outputs": [],
   "source": [
    "learn = rank0_first(lambda:\n",
    "            Learner(dls   = dls, \\\n",
    "                model     = model, \\\n",
    "                loss_func = loss_fn, \\\n",
    "                metrics   = dice_score, \\\n",
    "                model_dir = model_src, \\\n",
    "                cbs       = cbs)\n",
    "        )\n",
    "\n",
    "# cbs TensorBoardCallback(Path(run_src)/model_name, trace_model=True)\n",
    "# GPU\n",
    "learn.model = rank0_first(lambda:learn.model.cuda())"
   ]
  },
  {
   "cell_type": "code",
   "execution_count": 33,
   "id": "ce240e4f",
   "metadata": {},
   "outputs": [],
   "source": [
    "# # check\n",
    "# print(\"Check\")\n",
    "# b = dls.one_batch()\n",
    "# xb,yb = b #b[\"image\"], b[\"label\"]\n",
    "# print(f\"Batch: {len(b)}. xb: {xb.shape}, yb: {yb.shape}\")\n",
    "# predb = learn.model(xb)\n",
    "# print(f\"Pred batch: {predb.shape}\")\n",
    "# loss = loss_fn(predb, yb)\n",
    "# print(f\"Loss: {loss}\")"
   ]
  },
  {
   "cell_type": "code",
   "execution_count": 34,
   "id": "fd54581f",
   "metadata": {},
   "outputs": [],
   "source": [
    "# print(predb[0].shape, predb[1])"
   ]
  },
  {
   "cell_type": "markdown",
   "id": "9ceedd82",
   "metadata": {},
   "source": [
    "# LR Finder"
   ]
  },
  {
   "cell_type": "code",
   "execution_count": 35,
   "id": "7ff83a42",
   "metadata": {},
   "outputs": [],
   "source": [
    "# print(\"PRE learn.fit one cycle\")\n",
    "# with learn.distrib_ctx():\n",
    "#     learn.fit_one_cycle(2, 3e-3, wd = 1e-4)"
   ]
  },
  {
   "cell_type": "code",
   "execution_count": 36,
   "id": "90b7bb89",
   "metadata": {},
   "outputs": [
    {
     "ename": "ModuleAttributeError",
     "evalue": "'VNet' object has no attribute 'metric_names'",
     "output_type": "error",
     "traceback": [
      "\u001b[0;31m---------------------------------------------------------------------------\u001b[0m",
      "\u001b[0;31mModuleAttributeError\u001b[0m                      Traceback (most recent call last)",
      "\u001b[0;32m<ipython-input-36-4bfac99210fa>\u001b[0m in \u001b[0;36m<module>\u001b[0;34m\u001b[0m\n\u001b[0;32m----> 1\u001b[0;31m \u001b[0mlearn\u001b[0m\u001b[0;34m.\u001b[0m\u001b[0mrecorder\u001b[0m\u001b[0;34m.\u001b[0m\u001b[0mmetric_names\u001b[0m\u001b[0;34m\u001b[0m\u001b[0;34m\u001b[0m\u001b[0m\n\u001b[0m",
      "\u001b[0;32m/usr/local/lib/python3.6/dist-packages/fastcore/basics.py\u001b[0m in \u001b[0;36m__getattr__\u001b[0;34m(self, k)\u001b[0m\n\u001b[1;32m    386\u001b[0m         \u001b[0;32mif\u001b[0m \u001b[0mself\u001b[0m\u001b[0;34m.\u001b[0m\u001b[0m_component_attr_filter\u001b[0m\u001b[0;34m(\u001b[0m\u001b[0mk\u001b[0m\u001b[0;34m)\u001b[0m\u001b[0;34m:\u001b[0m\u001b[0;34m\u001b[0m\u001b[0;34m\u001b[0m\u001b[0m\n\u001b[1;32m    387\u001b[0m             \u001b[0mattr\u001b[0m \u001b[0;34m=\u001b[0m \u001b[0mgetattr\u001b[0m\u001b[0;34m(\u001b[0m\u001b[0mself\u001b[0m\u001b[0;34m,\u001b[0m\u001b[0mself\u001b[0m\u001b[0;34m.\u001b[0m\u001b[0m_default\u001b[0m\u001b[0;34m,\u001b[0m\u001b[0;32mNone\u001b[0m\u001b[0;34m)\u001b[0m\u001b[0;34m\u001b[0m\u001b[0;34m\u001b[0m\u001b[0m\n\u001b[0;32m--> 388\u001b[0;31m             \u001b[0;32mif\u001b[0m \u001b[0mattr\u001b[0m \u001b[0;32mis\u001b[0m \u001b[0;32mnot\u001b[0m \u001b[0;32mNone\u001b[0m\u001b[0;34m:\u001b[0m \u001b[0;32mreturn\u001b[0m \u001b[0mgetattr\u001b[0m\u001b[0;34m(\u001b[0m\u001b[0mattr\u001b[0m\u001b[0;34m,\u001b[0m\u001b[0mk\u001b[0m\u001b[0;34m)\u001b[0m\u001b[0;34m\u001b[0m\u001b[0;34m\u001b[0m\u001b[0m\n\u001b[0m\u001b[1;32m    389\u001b[0m         \u001b[0;32mraise\u001b[0m \u001b[0mAttributeError\u001b[0m\u001b[0;34m(\u001b[0m\u001b[0mk\u001b[0m\u001b[0;34m)\u001b[0m\u001b[0;34m\u001b[0m\u001b[0;34m\u001b[0m\u001b[0m\n\u001b[1;32m    390\u001b[0m     \u001b[0;32mdef\u001b[0m \u001b[0m__dir__\u001b[0m\u001b[0;34m(\u001b[0m\u001b[0mself\u001b[0m\u001b[0;34m)\u001b[0m\u001b[0;34m:\u001b[0m \u001b[0;32mreturn\u001b[0m \u001b[0mcustom_dir\u001b[0m\u001b[0;34m(\u001b[0m\u001b[0mself\u001b[0m\u001b[0;34m,\u001b[0m\u001b[0mself\u001b[0m\u001b[0;34m.\u001b[0m\u001b[0m_dir\u001b[0m\u001b[0;34m(\u001b[0m\u001b[0;34m)\u001b[0m\u001b[0;34m)\u001b[0m\u001b[0;34m\u001b[0m\u001b[0;34m\u001b[0m\u001b[0m\n",
      "\u001b[0;32m/usr/local/lib/python3.6/dist-packages/fastcore/basics.py\u001b[0m in \u001b[0;36m__getattr__\u001b[0;34m(self, k)\u001b[0m\n\u001b[1;32m    386\u001b[0m         \u001b[0;32mif\u001b[0m \u001b[0mself\u001b[0m\u001b[0;34m.\u001b[0m\u001b[0m_component_attr_filter\u001b[0m\u001b[0;34m(\u001b[0m\u001b[0mk\u001b[0m\u001b[0;34m)\u001b[0m\u001b[0;34m:\u001b[0m\u001b[0;34m\u001b[0m\u001b[0;34m\u001b[0m\u001b[0m\n\u001b[1;32m    387\u001b[0m             \u001b[0mattr\u001b[0m \u001b[0;34m=\u001b[0m \u001b[0mgetattr\u001b[0m\u001b[0;34m(\u001b[0m\u001b[0mself\u001b[0m\u001b[0;34m,\u001b[0m\u001b[0mself\u001b[0m\u001b[0;34m.\u001b[0m\u001b[0m_default\u001b[0m\u001b[0;34m,\u001b[0m\u001b[0;32mNone\u001b[0m\u001b[0;34m)\u001b[0m\u001b[0;34m\u001b[0m\u001b[0;34m\u001b[0m\u001b[0m\n\u001b[0;32m--> 388\u001b[0;31m             \u001b[0;32mif\u001b[0m \u001b[0mattr\u001b[0m \u001b[0;32mis\u001b[0m \u001b[0;32mnot\u001b[0m \u001b[0;32mNone\u001b[0m\u001b[0;34m:\u001b[0m \u001b[0;32mreturn\u001b[0m \u001b[0mgetattr\u001b[0m\u001b[0;34m(\u001b[0m\u001b[0mattr\u001b[0m\u001b[0;34m,\u001b[0m\u001b[0mk\u001b[0m\u001b[0;34m)\u001b[0m\u001b[0;34m\u001b[0m\u001b[0;34m\u001b[0m\u001b[0m\n\u001b[0m\u001b[1;32m    389\u001b[0m         \u001b[0;32mraise\u001b[0m \u001b[0mAttributeError\u001b[0m\u001b[0;34m(\u001b[0m\u001b[0mk\u001b[0m\u001b[0;34m)\u001b[0m\u001b[0;34m\u001b[0m\u001b[0;34m\u001b[0m\u001b[0m\n\u001b[1;32m    390\u001b[0m     \u001b[0;32mdef\u001b[0m \u001b[0m__dir__\u001b[0m\u001b[0;34m(\u001b[0m\u001b[0mself\u001b[0m\u001b[0;34m)\u001b[0m\u001b[0;34m:\u001b[0m \u001b[0;32mreturn\u001b[0m \u001b[0mcustom_dir\u001b[0m\u001b[0;34m(\u001b[0m\u001b[0mself\u001b[0m\u001b[0;34m,\u001b[0m\u001b[0mself\u001b[0m\u001b[0;34m.\u001b[0m\u001b[0m_dir\u001b[0m\u001b[0;34m(\u001b[0m\u001b[0;34m)\u001b[0m\u001b[0;34m)\u001b[0m\u001b[0;34m\u001b[0m\u001b[0;34m\u001b[0m\u001b[0m\n",
      "\u001b[0;32m/usr/local/lib/python3.6/dist-packages/torch/nn/modules/module.py\u001b[0m in \u001b[0;36m__getattr__\u001b[0;34m(self, name)\u001b[0m\n\u001b[1;32m    777\u001b[0m                 \u001b[0;32mreturn\u001b[0m \u001b[0mmodules\u001b[0m\u001b[0;34m[\u001b[0m\u001b[0mname\u001b[0m\u001b[0;34m]\u001b[0m\u001b[0;34m\u001b[0m\u001b[0;34m\u001b[0m\u001b[0m\n\u001b[1;32m    778\u001b[0m         raise ModuleAttributeError(\"'{}' object has no attribute '{}'\".format(\n\u001b[0;32m--> 779\u001b[0;31m             type(self).__name__, name))\n\u001b[0m\u001b[1;32m    780\u001b[0m \u001b[0;34m\u001b[0m\u001b[0m\n\u001b[1;32m    781\u001b[0m     \u001b[0;32mdef\u001b[0m \u001b[0m__setattr__\u001b[0m\u001b[0;34m(\u001b[0m\u001b[0mself\u001b[0m\u001b[0;34m,\u001b[0m \u001b[0mname\u001b[0m\u001b[0;34m:\u001b[0m \u001b[0mstr\u001b[0m\u001b[0;34m,\u001b[0m \u001b[0mvalue\u001b[0m\u001b[0;34m:\u001b[0m \u001b[0mUnion\u001b[0m\u001b[0;34m[\u001b[0m\u001b[0mTensor\u001b[0m\u001b[0;34m,\u001b[0m \u001b[0;34m'Module'\u001b[0m\u001b[0;34m]\u001b[0m\u001b[0;34m)\u001b[0m \u001b[0;34m->\u001b[0m \u001b[0;32mNone\u001b[0m\u001b[0;34m:\u001b[0m\u001b[0;34m\u001b[0m\u001b[0;34m\u001b[0m\u001b[0m\n",
      "\u001b[0;31mModuleAttributeError\u001b[0m: 'VNet' object has no attribute 'metric_names'"
     ]
    }
   ],
   "source": [
    "learn.recorder.metric_names"
   ]
  },
  {
   "cell_type": "code",
   "execution_count": 29,
   "id": "b7b2d803",
   "metadata": {},
   "outputs": [
    {
     "data": {
      "text/html": [],
      "text/plain": [
       "<IPython.core.display.HTML object>"
      ]
     },
     "metadata": {},
     "output_type": "display_data"
    },
    {
     "data": {
      "text/plain": [
       "SuggestedLRs(valley=tensor(0.0044))"
      ]
     },
     "execution_count": 29,
     "metadata": {},
     "output_type": "execute_result"
    },
    {
     "data": {
      "image/png": "[encoded data removed]",
      "text/plain": [
       "<Figure size 432x288 with 1 Axes>"
      ]
     },
     "metadata": {
      "needs_background": "light"
     },
     "output_type": "display_data"
    }
   ],
   "source": [
    "# SuggestedLRs(valley=tensor(0.0229))\n",
    "learn.lr_find()"
   ]
  },
  {
   "cell_type": "code",
   "execution_count": 37,
   "id": "2aa4f647",
   "metadata": {
    "scrolled": true
   },
   "outputs": [
    {
     "name": "stdout",
     "output_type": "stream",
     "text": [
      "PRE learn.fit one cycle\n"
     ]
    },
    {
     "data": {
      "text/html": [
       "<table border=\"1\" class=\"dataframe\">\n",
       "  <thead>\n",
       "    <tr style=\"text-align: left;\">\n",
       "      <th>epoch</th>\n",
       "      <th>train_loss</th>\n",
       "      <th>train_dice_score</th>\n",
       "      <th>valid_loss</th>\n",
       "      <th>valid_dice_score</th>\n",
       "      <th>time</th>\n",
       "    </tr>\n",
       "  </thead>\n",
       "  <tbody>\n",
       "    <tr>\n",
       "      <td>0</td>\n",
       "      <td>0.739402</td>\n",
       "      <td>1.344264</td>\n",
       "      <td>0.000001</td>\n",
       "      <td>01:04</td>\n",
       "    </tr>\n",
       "    <tr>\n",
       "      <td>0</td>\n",
       "      <td>0.739402</td>\n",
       "      <td>0.000013</td>\n",
       "      <td>1.344264</td>\n",
       "      <td>0.000001</td>\n",
       "      <td>01:04</td>\n",
       "    </tr>\n",
       "    <tr>\n",
       "      <td>1</td>\n",
       "      <td>0.661479</td>\n",
       "      <td>2.139428</td>\n",
       "      <td>0.000001</td>\n",
       "      <td>00:53</td>\n",
       "    </tr>\n",
       "    <tr>\n",
       "      <td>1</td>\n",
       "      <td>0.661479</td>\n",
       "      <td>0.000041</td>\n",
       "      <td>2.139428</td>\n",
       "      <td>0.000001</td>\n",
       "      <td>00:53</td>\n",
       "    </tr>\n",
       "  </tbody>\n",
       "</table>"
      ],
      "text/plain": [
       "<IPython.core.display.HTML object>"
      ]
     },
     "metadata": {},
     "output_type": "display_data"
    },
    {
     "name": "stdout",
     "output_type": "stream",
     "text": [
      "Better model found at epoch 0 with valid_loss value: 1.3442639112472534.\n"
     ]
    }
   ],
   "source": [
    "print(\"PRE learn.fit one cycle\")\n",
    "\n",
    "nepochs=2\n",
    "with learn.distrib_ctx():\n",
    "    learn.fit_one_cycle(nepochs, 3e-3, wd = 1e-4)\n",
    "    "
   ]
  },
  {
   "cell_type": "code",
   "execution_count": null,
   "id": "55dcb74d",
   "metadata": {},
   "outputs": [],
   "source": [
    "#     if loss_type == \"perim_loss\":\n",
    "#         learn.loss_func = perim_loss\n",
    "#         print(\"switched loss at epoch \", nepochs//2)\n",
    "    \n",
    "#     learn.fit_one_cycle(nepochs//2, 3e-3, wd = 1e-4)"
   ]
  },
  {
   "cell_type": "code",
   "execution_count": 30,
   "id": "8e51a16c",
   "metadata": {},
   "outputs": [
    {
     "ename": "ModuleAttributeError",
     "evalue": "'VNet' object has no attribute 'losses'",
     "output_type": "error",
     "traceback": [
      "\u001b[0;31m---------------------------------------------------------------------------\u001b[0m",
      "\u001b[0;31mModuleAttributeError\u001b[0m                      Traceback (most recent call last)",
      "\u001b[0;32m<ipython-input-30-a2296441fda2>\u001b[0m in \u001b[0;36m<module>\u001b[0;34m\u001b[0m\n\u001b[0;32m----> 1\u001b[0;31m \u001b[0mlearn\u001b[0m\u001b[0;34m.\u001b[0m\u001b[0mrecorder\u001b[0m\u001b[0;34m.\u001b[0m\u001b[0mplot_loss\u001b[0m\u001b[0;34m(\u001b[0m\u001b[0;34m)\u001b[0m\u001b[0;34m\u001b[0m\u001b[0;34m\u001b[0m\u001b[0m\n\u001b[0m",
      "\u001b[0;32m/usr/local/lib/python3.6/dist-packages/fastai/learner.py\u001b[0m in \u001b[0;36mplot_loss\u001b[0;34m(self, skip_start, with_valid)\u001b[0m\n\u001b[1;32m    540\u001b[0m \u001b[0;34m\u001b[0m\u001b[0m\n\u001b[1;32m    541\u001b[0m     \u001b[0;32mdef\u001b[0m \u001b[0mplot_loss\u001b[0m\u001b[0;34m(\u001b[0m\u001b[0mself\u001b[0m\u001b[0;34m,\u001b[0m \u001b[0mskip_start\u001b[0m\u001b[0;34m=\u001b[0m\u001b[0;36m5\u001b[0m\u001b[0;34m,\u001b[0m \u001b[0mwith_valid\u001b[0m\u001b[0;34m=\u001b[0m\u001b[0;32mTrue\u001b[0m\u001b[0;34m)\u001b[0m\u001b[0;34m:\u001b[0m\u001b[0;34m\u001b[0m\u001b[0;34m\u001b[0m\u001b[0m\n\u001b[0;32m--> 542\u001b[0;31m         \u001b[0mplt\u001b[0m\u001b[0;34m.\u001b[0m\u001b[0mplot\u001b[0m\u001b[0;34m(\u001b[0m\u001b[0mlist\u001b[0m\u001b[0;34m(\u001b[0m\u001b[0mrange\u001b[0m\u001b[0;34m(\u001b[0m\u001b[0mskip_start\u001b[0m\u001b[0;34m,\u001b[0m \u001b[0mlen\u001b[0m\u001b[0;34m(\u001b[0m\u001b[0mself\u001b[0m\u001b[0;34m.\u001b[0m\u001b[0mlosses\u001b[0m\u001b[0;34m)\u001b[0m\u001b[0;34m)\u001b[0m\u001b[0;34m)\u001b[0m\u001b[0;34m,\u001b[0m \u001b[0mself\u001b[0m\u001b[0;34m.\u001b[0m\u001b[0mlosses\u001b[0m\u001b[0;34m[\u001b[0m\u001b[0mskip_start\u001b[0m\u001b[0;34m:\u001b[0m\u001b[0;34m]\u001b[0m\u001b[0;34m,\u001b[0m \u001b[0mlabel\u001b[0m\u001b[0;34m=\u001b[0m\u001b[0;34m'train'\u001b[0m\u001b[0;34m)\u001b[0m\u001b[0;34m\u001b[0m\u001b[0;34m\u001b[0m\u001b[0m\n\u001b[0m\u001b[1;32m    543\u001b[0m         \u001b[0;32mif\u001b[0m \u001b[0mwith_valid\u001b[0m\u001b[0;34m:\u001b[0m\u001b[0;34m\u001b[0m\u001b[0;34m\u001b[0m\u001b[0m\n\u001b[1;32m    544\u001b[0m             \u001b[0midx\u001b[0m \u001b[0;34m=\u001b[0m \u001b[0;34m(\u001b[0m\u001b[0mnp\u001b[0m\u001b[0;34m.\u001b[0m\u001b[0marray\u001b[0m\u001b[0;34m(\u001b[0m\u001b[0mself\u001b[0m\u001b[0;34m.\u001b[0m\u001b[0miters\u001b[0m\u001b[0;34m)\u001b[0m\u001b[0;34m<\u001b[0m\u001b[0mskip_start\u001b[0m\u001b[0;34m)\u001b[0m\u001b[0;34m.\u001b[0m\u001b[0msum\u001b[0m\u001b[0;34m(\u001b[0m\u001b[0;34m)\u001b[0m\u001b[0;34m\u001b[0m\u001b[0;34m\u001b[0m\u001b[0m\n",
      "\u001b[0;32m/usr/local/lib/python3.6/dist-packages/fastcore/basics.py\u001b[0m in \u001b[0;36m__getattr__\u001b[0;34m(self, k)\u001b[0m\n\u001b[1;32m    386\u001b[0m         \u001b[0;32mif\u001b[0m \u001b[0mself\u001b[0m\u001b[0;34m.\u001b[0m\u001b[0m_component_attr_filter\u001b[0m\u001b[0;34m(\u001b[0m\u001b[0mk\u001b[0m\u001b[0;34m)\u001b[0m\u001b[0;34m:\u001b[0m\u001b[0;34m\u001b[0m\u001b[0;34m\u001b[0m\u001b[0m\n\u001b[1;32m    387\u001b[0m             \u001b[0mattr\u001b[0m \u001b[0;34m=\u001b[0m \u001b[0mgetattr\u001b[0m\u001b[0;34m(\u001b[0m\u001b[0mself\u001b[0m\u001b[0;34m,\u001b[0m\u001b[0mself\u001b[0m\u001b[0;34m.\u001b[0m\u001b[0m_default\u001b[0m\u001b[0;34m,\u001b[0m\u001b[0;32mNone\u001b[0m\u001b[0;34m)\u001b[0m\u001b[0;34m\u001b[0m\u001b[0;34m\u001b[0m\u001b[0m\n\u001b[0;32m--> 388\u001b[0;31m             \u001b[0;32mif\u001b[0m \u001b[0mattr\u001b[0m \u001b[0;32mis\u001b[0m \u001b[0;32mnot\u001b[0m \u001b[0;32mNone\u001b[0m\u001b[0;34m:\u001b[0m \u001b[0;32mreturn\u001b[0m \u001b[0mgetattr\u001b[0m\u001b[0;34m(\u001b[0m\u001b[0mattr\u001b[0m\u001b[0;34m,\u001b[0m\u001b[0mk\u001b[0m\u001b[0;34m)\u001b[0m\u001b[0;34m\u001b[0m\u001b[0;34m\u001b[0m\u001b[0m\n\u001b[0m\u001b[1;32m    389\u001b[0m         \u001b[0;32mraise\u001b[0m \u001b[0mAttributeError\u001b[0m\u001b[0;34m(\u001b[0m\u001b[0mk\u001b[0m\u001b[0;34m)\u001b[0m\u001b[0;34m\u001b[0m\u001b[0;34m\u001b[0m\u001b[0m\n\u001b[1;32m    390\u001b[0m     \u001b[0;32mdef\u001b[0m \u001b[0m__dir__\u001b[0m\u001b[0;34m(\u001b[0m\u001b[0mself\u001b[0m\u001b[0;34m)\u001b[0m\u001b[0;34m:\u001b[0m \u001b[0;32mreturn\u001b[0m \u001b[0mcustom_dir\u001b[0m\u001b[0;34m(\u001b[0m\u001b[0mself\u001b[0m\u001b[0;34m,\u001b[0m\u001b[0mself\u001b[0m\u001b[0;34m.\u001b[0m\u001b[0m_dir\u001b[0m\u001b[0;34m(\u001b[0m\u001b[0;34m)\u001b[0m\u001b[0;34m)\u001b[0m\u001b[0;34m\u001b[0m\u001b[0;34m\u001b[0m\u001b[0m\n",
      "\u001b[0;32m/usr/local/lib/python3.6/dist-packages/fastcore/basics.py\u001b[0m in \u001b[0;36m__getattr__\u001b[0;34m(self, k)\u001b[0m\n\u001b[1;32m    386\u001b[0m         \u001b[0;32mif\u001b[0m \u001b[0mself\u001b[0m\u001b[0;34m.\u001b[0m\u001b[0m_component_attr_filter\u001b[0m\u001b[0;34m(\u001b[0m\u001b[0mk\u001b[0m\u001b[0;34m)\u001b[0m\u001b[0;34m:\u001b[0m\u001b[0;34m\u001b[0m\u001b[0;34m\u001b[0m\u001b[0m\n\u001b[1;32m    387\u001b[0m             \u001b[0mattr\u001b[0m \u001b[0;34m=\u001b[0m \u001b[0mgetattr\u001b[0m\u001b[0;34m(\u001b[0m\u001b[0mself\u001b[0m\u001b[0;34m,\u001b[0m\u001b[0mself\u001b[0m\u001b[0;34m.\u001b[0m\u001b[0m_default\u001b[0m\u001b[0;34m,\u001b[0m\u001b[0;32mNone\u001b[0m\u001b[0;34m)\u001b[0m\u001b[0;34m\u001b[0m\u001b[0;34m\u001b[0m\u001b[0m\n\u001b[0;32m--> 388\u001b[0;31m             \u001b[0;32mif\u001b[0m \u001b[0mattr\u001b[0m \u001b[0;32mis\u001b[0m \u001b[0;32mnot\u001b[0m \u001b[0;32mNone\u001b[0m\u001b[0;34m:\u001b[0m \u001b[0;32mreturn\u001b[0m \u001b[0mgetattr\u001b[0m\u001b[0;34m(\u001b[0m\u001b[0mattr\u001b[0m\u001b[0;34m,\u001b[0m\u001b[0mk\u001b[0m\u001b[0;34m)\u001b[0m\u001b[0;34m\u001b[0m\u001b[0;34m\u001b[0m\u001b[0m\n\u001b[0m\u001b[1;32m    389\u001b[0m         \u001b[0;32mraise\u001b[0m \u001b[0mAttributeError\u001b[0m\u001b[0;34m(\u001b[0m\u001b[0mk\u001b[0m\u001b[0;34m)\u001b[0m\u001b[0;34m\u001b[0m\u001b[0;34m\u001b[0m\u001b[0m\n\u001b[1;32m    390\u001b[0m     \u001b[0;32mdef\u001b[0m \u001b[0m__dir__\u001b[0m\u001b[0;34m(\u001b[0m\u001b[0mself\u001b[0m\u001b[0;34m)\u001b[0m\u001b[0;34m:\u001b[0m \u001b[0;32mreturn\u001b[0m \u001b[0mcustom_dir\u001b[0m\u001b[0;34m(\u001b[0m\u001b[0mself\u001b[0m\u001b[0;34m,\u001b[0m\u001b[0mself\u001b[0m\u001b[0;34m.\u001b[0m\u001b[0m_dir\u001b[0m\u001b[0;34m(\u001b[0m\u001b[0;34m)\u001b[0m\u001b[0;34m)\u001b[0m\u001b[0;34m\u001b[0m\u001b[0;34m\u001b[0m\u001b[0m\n",
      "\u001b[0;32m/usr/local/lib/python3.6/dist-packages/torch/nn/modules/module.py\u001b[0m in \u001b[0;36m__getattr__\u001b[0;34m(self, name)\u001b[0m\n\u001b[1;32m    777\u001b[0m                 \u001b[0;32mreturn\u001b[0m \u001b[0mmodules\u001b[0m\u001b[0;34m[\u001b[0m\u001b[0mname\u001b[0m\u001b[0;34m]\u001b[0m\u001b[0;34m\u001b[0m\u001b[0;34m\u001b[0m\u001b[0m\n\u001b[1;32m    778\u001b[0m         raise ModuleAttributeError(\"'{}' object has no attribute '{}'\".format(\n\u001b[0;32m--> 779\u001b[0;31m             type(self).__name__, name))\n\u001b[0m\u001b[1;32m    780\u001b[0m \u001b[0;34m\u001b[0m\u001b[0m\n\u001b[1;32m    781\u001b[0m     \u001b[0;32mdef\u001b[0m \u001b[0m__setattr__\u001b[0m\u001b[0;34m(\u001b[0m\u001b[0mself\u001b[0m\u001b[0;34m,\u001b[0m \u001b[0mname\u001b[0m\u001b[0;34m:\u001b[0m \u001b[0mstr\u001b[0m\u001b[0;34m,\u001b[0m \u001b[0mvalue\u001b[0m\u001b[0;34m:\u001b[0m \u001b[0mUnion\u001b[0m\u001b[0;34m[\u001b[0m\u001b[0mTensor\u001b[0m\u001b[0;34m,\u001b[0m \u001b[0;34m'Module'\u001b[0m\u001b[0;34m]\u001b[0m\u001b[0;34m)\u001b[0m \u001b[0;34m->\u001b[0m \u001b[0;32mNone\u001b[0m\u001b[0;34m:\u001b[0m\u001b[0;34m\u001b[0m\u001b[0;34m\u001b[0m\u001b[0m\n",
      "\u001b[0;31mModuleAttributeError\u001b[0m: 'VNet' object has no attribute 'losses'"
     ]
    }
   ],
   "source": [
    "#learn.recorder.plot_loss()"
   ]
  },
  {
   "cell_type": "code",
   "execution_count": null,
   "id": "570ba8cd",
   "metadata": {},
   "outputs": [],
   "source": [
    "def save_plot_loss(self, skip_start=5, with_valid=True):\n",
    "        plt.plot(list(range(skip_start, len(self.losses))), self.losses[skip_start:], label='train')\n",
    "        if with_valid:\n",
    "            idx = (np.array(self.iters)<skip_start).sum()\n",
    "            plt.plot(self.iters[idx:], L(self.values[idx:]).itemgot(1), label='valid')\n",
    "            plt.legend()\n",
    "        plt.savefig(f'{fig_src}/loss.png', bbox_inches='tight')\n",
    "        plt.close()"
   ]
  },
  {
   "cell_type": "code",
   "execution_count": null,
   "id": "2bc8b68d",
   "metadata": {},
   "outputs": [],
   "source": [
    "# save_plot_loss(learn.recorder)"
   ]
  },
  {
   "cell_type": "code",
   "execution_count": 55,
   "id": "51f52e2a",
   "metadata": {},
   "outputs": [
    {
     "name": "stdout",
     "output_type": "stream",
     "text": [
      "['epoch', 'train_loss', 'train_dice_score', 'valid_loss', 'valid_dice_score', 'time']\n",
      "0 2 train_loss valid_loss\n",
      "1 3 train_dice_score valid_dice_score\n"
     ]
    },
    {
     "data": {
      "image/png": "[encoded data removed]",
      "text/plain": [
       "<Figure size 864x288 with 2 Axes>"
      ]
     },
     "metadata": {
      "needs_background": "light"
     },
     "output_type": "display_data"
    }
   ],
   "source": [
    "self = learn.recorder\n",
    "nrows=None \n",
    "ncols=None\n",
    "figsize=None,\n",
    "metrics = np.stack(self.values)\n",
    "print(self.metric_names)\n",
    "\n",
    "# 'train_loss', 'train_dice_score', 'valid_loss', 'valid_dice_score'\n",
    "names = self.metric_names[1:-1]\n",
    "names_train = [n for n in names if n.startswith(\"train\")]\n",
    "n = len(names_train)\n",
    "if nrows is None and ncols is None:\n",
    "    nrows = int(math.sqrt(n))\n",
    "    ncols = int(np.ceil(n / nrows))\n",
    "elif nrows is None: nrows = int(np.ceil(n / ncols))\n",
    "elif ncols is None: ncols = int(np.ceil(n / nrows))\n",
    "figsize = (ncols * 6, nrows * 4)\n",
    "fig, axs = subplots(nrows, ncols, figsize=figsize)\n",
    "for i, ax in enumerate(axs):\n",
    "    name = names_train[i]\n",
    "    n = name[name.index(\"_\")+1:]\n",
    "    valid_name = f\"valid_{n}\"\n",
    "    valid_idx = names.index(valid_name)\n",
    "    print(i, valid_idx, name, valid_name)\n",
    "    ax.plot(metrics[:, i], color='#1f77b4',  label='train')\n",
    "    ax.plot(metrics[:, valid_idx], color = '#ff7f0e', label='valid')\n",
    "    ax.set_title(n)\n",
    "    ax.legend(loc='best')"
   ]
  },
  {
   "cell_type": "code",
   "execution_count": null,
   "id": "828ffcde",
   "metadata": {},
   "outputs": [],
   "source": [
    "@delegates(subplots)\n",
    "def save_plot_metrics(self: Recorder, nrows=None, ncols=None, figsize=None, **kwargs):\n",
    "    metrics = np.stack(self.values)\n",
    "    names = self.metric_names[1:-1]\n",
    "    n = len(names) - 1\n",
    "    if nrows is None and ncols is None:\n",
    "        nrows = int(math.sqrt(n))\n",
    "        ncols = int(np.ceil(n / nrows))\n",
    "    elif nrows is None: nrows = int(np.ceil(n / ncols))\n",
    "    elif ncols is None: ncols = int(np.ceil(n / nrows))\n",
    "    figsize = figsize or (ncols * 6, nrows * 4)\n",
    "    fig, axs = subplots(nrows, ncols, figsize=figsize, **kwargs)\n",
    "    axs = [ax if i < n else ax.set_axis_off() for i, ax in enumerate(axs.flatten())][:n]\n",
    "    for i, (name, ax) in enumerate(zip(names, [axs[0]] + axs)):\n",
    "        ax.plot(metrics[:, i], color='#1f77b4' if i == 0 else '#ff7f0e', label='valid' if i > 0 else 'train')\n",
    "        ax.set_title(name if i > 1 else 'losses')\n",
    "        ax.legend(loc='best')\n",
    "    #plt.show()\n",
    "    plt.savefig(f'{fig_src}/metrics.png', bbox_inches='tight')\n",
    "    plt.close()"
   ]
  },
  {
   "cell_type": "code",
   "execution_count": null,
   "id": "ec814eaf",
   "metadata": {
    "scrolled": true
   },
   "outputs": [],
   "source": [
    "save_plot_metrics(learn.recorder)"
   ]
  },
  {
   "cell_type": "markdown",
   "id": "5c4c295b",
   "metadata": {},
   "source": [
    "# Old"
   ]
  },
  {
   "cell_type": "code",
   "execution_count": null,
   "id": "683aaf17",
   "metadata": {},
   "outputs": [],
   "source": [
    "# batch_tfms = [\n",
    "#     # normalize mean/std of foreground pixels\n",
    "#     ZScale(),\n",
    "#     # affine + flips\n",
    "#     RandomAffine(p=0.5, degrees=35, translate=0.1, scale=0.1),\n",
    "#     RandDihedral(p=0.5),\n",
    "#     # lighting\n",
    "#     RandBright(p=0.5),\n",
    "#     RandContrast(p=0.5),\n",
    "#     # noise for generalizability\n",
    "#     GNoise(p=0.5),\n",
    "#     GBlur(p=0.5),\n",
    "#     # add channel dim\n",
    "#     AddChannel()\n",
    "\n",
    "# UMich \n",
    "# code src: \"/home/labcomputer/Desktop/Rachel\"\n",
    "# data src: \"../../../../..//media/labcomputer/e33f6fe0-5ede-4be4-b1f2-5168b7903c7a/home/rachel/\"\n",
    "\n",
    "# ]"
   ]
  },
  {
   "cell_type": "markdown",
   "id": "73d1c877",
   "metadata": {},
   "source": [
    "# Test"
   ]
  },
  {
   "cell_type": "code",
   "execution_count": null,
   "id": "87db8dde",
   "metadata": {},
   "outputs": [],
   "source": [
    "# print(\"Test\")\n",
    "# xb, yb = dls.one_batch()\n",
    "# xb, yb = xb.cpu(), yb.cpu()\n",
    "\n",
    "# pb = model.cpu()(xb)\n",
    "# print(xb.shape, pb.shape)\n",
    "# print(f\"logcosh dice loss {log_cosh_dice_loss(pb,yb)}\")"
   ]
  },
  {
   "cell_type": "code",
   "execution_count": null,
   "id": "53cb367b",
   "metadata": {},
   "outputs": [],
   "source": [
    "# # test:\n",
    "\n",
    "# #dls.device = \"cpu\"\n",
    "\n",
    "# start = time.time()\n",
    "\n",
    "# x,y = dls.one_batch()\n",
    "# #x,y = to_cpu(x), to_cpu(y)\n",
    "\n",
    "# pred = learn.model(x)\n",
    "# loss = learn.loss_func(pred, y)\n",
    "\n",
    "# elapsed = time.time() - start\n",
    "\n",
    "# print(f\"Elapsed: {elapsed} s\")\n",
    "# print(\"Batch: x,y\")\n",
    "# print(type(x), x.shape, x.dtype, \"\\n\", type(y), y.shape, y.dtype)\n",
    "\n",
    "# print(\"Pred shape\")\n",
    "# print(type(pred), pred.shape, pred.dtype)\n",
    "\n",
    "# print(\"Loss\")\n",
    "# print(loss)\n",
    "# print(learn.loss_func)"
   ]
  }
 ],
 "metadata": {
  "kernelspec": {
   "display_name": "Python 3",
   "language": "python",
   "name": "python3"
  },
  "language_info": {
   "codemirror_mode": {
    "name": "ipython",
    "version": 3
   },
   "file_extension": ".py",
   "mimetype": "text/x-python",
   "name": "python",
   "nbconvert_exporter": "python",
   "pygments_lexer": "ipython3",
   "version": "3.6.9"
  }
 },
 "nbformat": 4,
 "nbformat_minor": 5
}
