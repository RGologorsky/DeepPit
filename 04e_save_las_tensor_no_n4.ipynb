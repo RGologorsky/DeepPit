{
 "cells": [
  {
   "cell_type": "markdown",
   "id": "705a6225",
   "metadata": {},
   "source": [
    "# Goal\n",
    "\n",
    "Save re-oriented to LAS, isotropic."
   ]
  },
  {
   "cell_type": "code",
   "execution_count": 107,
   "id": "bb58ca80",
   "metadata": {},
   "outputs": [],
   "source": [
    "new_sp = 2"
   ]
  },
  {
   "cell_type": "code",
   "execution_count": 108,
   "id": "cf38b0cf",
   "metadata": {},
   "outputs": [
    {
     "name": "stdout",
     "output_type": "stream",
     "text": [
      "Taskid: 0\n"
     ]
    }
   ],
   "source": [
    "import os\n",
    "\n",
    "try:\n",
    "    taskid = int(os.getenv('SLURM_ARRAY_TASK_ID'))\n",
    "except:\n",
    "    taskid = 0\n",
    "    \n",
    "print(f\"Taskid: {taskid}\")"
   ]
  },
  {
   "cell_type": "code",
   "execution_count": 109,
   "id": "f2e3976c",
   "metadata": {},
   "outputs": [],
   "source": [
    "# print(f\"Array Task ID: {taskid}\")\n",
    "# print(f\"Array ID: {os.getenv('SLURM_ARRAY_TASK_ID')}\")\n",
    "# print(f\"Job ID: {os.getenv('SLURM_JOB_ID')}\")\n",
    "#print(*chunks, sep=\"\\n\""
   ]
  },
  {
   "cell_type": "markdown",
   "id": "dec891cc",
   "metadata": {},
   "source": [
    "# Imports"
   ]
  },
  {
   "cell_type": "code",
   "execution_count": 110,
   "id": "e3b40d2c",
   "metadata": {},
   "outputs": [],
   "source": [
    "# imports\n",
    "\n",
    "# Utilities\n",
    "import os, sys, time, glob, pickle\n",
    "from pathlib import Path\n",
    "\n",
    "# Numpy torch pandas\n",
    "import torch\n",
    "import torch.nn.functional as F\n",
    "\n",
    "import meshio\n",
    "import SimpleITK as sitk\n",
    "from helpers.preprocess import seg2mask, get_data_dict"
   ]
  },
  {
   "cell_type": "code",
   "execution_count": 111,
   "id": "7a937f07",
   "metadata": {},
   "outputs": [],
   "source": [
    "# NYU\n",
    "code_src    = \"/gpfs/home/gologr01\"\n",
    "data_src    = \"/gpfs/data/oermannlab/private_data/DeepPit\"\n",
    "\n",
    "\n",
    "# saved models, dset metadata\n",
    "model_src  = f\"{data_src}/saved_models\"\n",
    "dsetmd_src = f\"{data_src}/saved_dset_metadata\"\n",
    "\n",
    "# dsets\n",
    "dsets_src    = f\"{data_src}/PitMRdata\"\n",
    "\n",
    "# key,val = dset_name, path to top level dir\n",
    "dset_dict = {\n",
    "    \"ABIDE\"                  : f\"{dsets_src}/ABIDE\",\n",
    "    \"ABVIB\"                  : f\"{dsets_src}/ABVIB/ABVIB\",\n",
    "    \"ADNI1_Complete_1Yr_1.5T\": f\"{dsets_src}/ADNI/ADNI1_Complete_1Yr_1.5T/ADNI\",\n",
    "    \"AIBL\"                   : f\"{dsets_src}/AIBL/AIBL\",\n",
    "    \"ICMB\"                   : f\"{dsets_src}/ICMB/ICBM\",\n",
    "    \"PPMI\"                   : f\"{dsets_src}/PPMI/PPMI\",\n",
    "}"
   ]
  },
  {
   "cell_type": "code",
   "execution_count": 112,
   "id": "5b362b7e",
   "metadata": {},
   "outputs": [],
   "source": [
    "# UMich \n",
    "# code src: \"/home/labcomputer/Desktop/Rachel\"\n",
    "# data src: \"../../../../..//media/labcomputer/e33f6fe0-5ede-4be4-b1f2-5168b7903c7a/home/rachel/\""
   ]
  },
  {
   "cell_type": "markdown",
   "id": "3a6aa56b",
   "metadata": {},
   "source": [
    "# Load data"
   ]
  },
  {
   "cell_type": "code",
   "execution_count": 116,
   "id": "bf63f732",
   "metadata": {},
   "outputs": [
    {
     "name": "stdout",
     "output_type": "stream",
     "text": [
      "Total n:  6862\n"
     ]
    }
   ],
   "source": [
    "# load filenames\n",
    "fnames = []\n",
    "for dset_name in dset_dict.keys(): # # (\"AIBL\", \"ABVIB\", \"ICMB\", \"PPMI\"):\n",
    "    dset_src  = dset_dict[dset_name]\n",
    "    with open(f\"{dsetmd_src}/{dset_name}_fnames.txt\", \"rb\") as f:\n",
    "        fnames += pickle.load(f)\n",
    "        \n",
    "# filter ._ prefix\n",
    "fnames = [f for f in fnames if not f.startswith(\"._\")]\n",
    "print(\"Total n: \", len(fnames))"
   ]
  },
  {
   "cell_type": "code",
   "execution_count": 117,
   "id": "033b99ff",
   "metadata": {},
   "outputs": [
    {
     "name": "stdout",
     "output_type": "stream",
     "text": [
      "Corrected: 6862, TODO: 0, Dupl: 0\n",
      "Elapsed: 12.00 s\n"
     ]
    }
   ],
   "source": [
    "start = time.time()\n",
    "\n",
    "matches = [len(glob.glob(f\"{f}/*las.pt\")) for f in fnames]\n",
    "\n",
    "\n",
    "todo = [f for i,f in enumerate(fnames) if matches[i]==0]\n",
    "done = [f for i,f in enumerate(fnames) if matches[i]==1]\n",
    "mult = [f for i,f in enumerate(fnames) if matches[i]>1]\n",
    "\n",
    "print(f\"Corrected: {len(done)}, TODO: {len(todo)}, Dupl: {len(mult)}\")\n",
    "\n",
    "elapsed = time.time() - start\n",
    "print(f\"Elapsed: {elapsed:.2f} s\")"
   ]
  },
  {
   "cell_type": "code",
   "execution_count": 96,
   "id": "54439467",
   "metadata": {},
   "outputs": [],
   "source": [
    "# examples[fil[0][0]] suffixes: las_corrected_n4, corrected_n4 .nii"
   ]
  },
  {
   "cell_type": "markdown",
   "id": "6301d61d",
   "metadata": {},
   "source": [
    "# Get chunk"
   ]
  },
  {
   "cell_type": "code",
   "execution_count": 86,
   "id": "3566d984",
   "metadata": {},
   "outputs": [
    {
     "name": "stdout",
     "output_type": "stream",
     "text": [
      "N_chunks = 134\n"
     ]
    }
   ],
   "source": [
    "n_total = len(todo)\n",
    "\n",
    "chunk_len = 50    \n",
    "chunks    = [range(i,min(i+chunk_len, n_total)) for i in range(0, n_total, chunk_len)]\n",
    "\n",
    "print(f\"N_chunks = {len(chunks)}\")\n",
    "\n",
    "task_chunk = chunks[taskid]"
   ]
  },
  {
   "cell_type": "code",
   "execution_count": 87,
   "id": "2cdc571f",
   "metadata": {},
   "outputs": [
    {
     "name": "stdout",
     "output_type": "stream",
     "text": [
      "Todo chunk (50/6668)\n",
      "/gpfs/data/oermannlab/private_data/DeepPit/PitMRdata/ABIDE/ABIDE_1/50413/MP-RAGE/2000-01-01_00_00_00.0/S165158\n",
      "/gpfs/data/oermannlab/private_data/DeepPit/PitMRdata/ABIDE/ABIDE_1/50134/MP-RAGE/2000-01-01_00_00_00.0/S165161\n"
     ]
    }
   ],
   "source": [
    "todo_chunk = [todo[i] for i in task_chunk]\n",
    "print(f\"Todo chunk ({len(todo_chunk)}/{len(todo)})\", *todo_chunk[:2], sep=\"\\n\")"
   ]
  },
  {
   "cell_type": "markdown",
   "id": "b9ce2116",
   "metadata": {},
   "source": [
    "# Process"
   ]
  },
  {
   "cell_type": "code",
   "execution_count": 43,
   "id": "3ab0fcec",
   "metadata": {},
   "outputs": [],
   "source": [
    "# fn is path to terminal folder\n",
    "def read_dcm(fn):\n",
    "    dcms = sitk.ImageSeriesReader_GetGDCMSeriesFileNames(fn)\n",
    "    if len(dcms) == 1: dcms = dcms[0]   \n",
    "    im = sitk.ReadImage(dcms, sitk.sitkFloat32)\n",
    "    return im\n",
    "\n",
    "def read_nii(fn):\n",
    "    niis = [f for f in os.listdir(fn) if f.endswith(\".nii\") and not f.endswith(\"corrected_n4.nii\") and not f.startswith(\"._\")]\n",
    "    nii   = niis[0]\n",
    "    im = sitk.ReadImage(f\"{fn}/{nii}\", sitk.sitkFloat32)    \n",
    "    return im"
   ]
  },
  {
   "cell_type": "code",
   "execution_count": 60,
   "id": "9b0dfa38",
   "metadata": {},
   "outputs": [],
   "source": [
    "def process(inputImage):\n",
    "    # 1. Reorient, mr to im tensor\n",
    "    mr = sitk.DICOMOrient(inputImage, \"LAS\")\n",
    "    im = torch.transpose(torch.tensor(sitk.GetArrayFromImage(mr)), 0, 2)\n",
    "\n",
    "    # 2. Resize so isotropic spacing\n",
    "    orig_sp = mr.GetSpacing()\n",
    "    orig_sz = mr.GetSize()\n",
    "    new_sz = [int(round(osz*ospc/new_sp)) for osz,ospc in zip(orig_sz, orig_sp)]\n",
    "\n",
    "    while im.ndim < 5: \n",
    "        im = im.unsqueeze(0)\n",
    "        \n",
    "    return F.interpolate(im, size = new_sz, mode = 'trilinear', align_corners=False).squeeze()"
   ]
  },
  {
   "cell_type": "code",
   "execution_count": 67,
   "id": "a1d5e781",
   "metadata": {},
   "outputs": [],
   "source": [
    "# # test\n",
    "# mr_path = todo[i]\n",
    "# try:\n",
    "#     inputImage = read_nii(mr_path)\n",
    "# except:\n",
    "#     inputImage = read_dcm(mr_path) \n",
    "            \n",
    "# z = process(inputImage)"
   ]
  },
  {
   "cell_type": "code",
   "execution_count": 97,
   "id": "f5c3cbf8",
   "metadata": {
    "scrolled": true
   },
   "outputs": [
    {
     "ename": "SyntaxError",
     "evalue": "EOL while scanning string literal (<ipython-input-97-db998ce0ce5a>, line 37)",
     "output_type": "error",
     "traceback": [
      "\u001b[0;36m  File \u001b[0;32m\"<ipython-input-97-db998ce0ce5a>\"\u001b[0;36m, line \u001b[0;32m37\u001b[0m\n\u001b[0;31m    print(f\"Skipped: {skipped})\u001b[0m\n\u001b[0m                               ^\u001b[0m\n\u001b[0;31mSyntaxError\u001b[0m\u001b[0;31m:\u001b[0m EOL while scanning string literal\n"
     ]
    }
   ],
   "source": [
    "# from FAIMED3D 02_preprocessing\n",
    "# and https://simpleitk.readthedocs.io/en/master/link_N4BiasFieldCorrection_docs.html\n",
    "\n",
    "skipped = 0\n",
    "count = 0\n",
    "for mr_path in todo_chunk: \n",
    "    \n",
    "    start = time.time()\n",
    "    \n",
    "    try:\n",
    "        \n",
    "        # Print\n",
    "        print(count, mr_path)\n",
    "        count += 1\n",
    "\n",
    "        # Read in image\n",
    "        try:\n",
    "            inputImage = read_nii(mr_path)\n",
    "        except:\n",
    "            inputImage = read_dcm(mr_path) \n",
    "\n",
    "        # correct\n",
    "        corrected_image = process(inputImage)\n",
    "    \n",
    "        # write image\n",
    "        corrected_fn = f\"{mr_path}/iso_{new_sp}_las.pt\"\n",
    "        torch.save(corrected_image, corrected_fn)\n",
    "    \n",
    "    except Exception as e:\n",
    "        print(\"Skipped: \", mr_path)\n",
    "        print(e)\n",
    "        skipped += 1\n",
    "    \n",
    "    elapsed = time.time() - start\n",
    "    print(f\"Elapsed: {elapsed:0.2f} s\")\n",
    "    \n",
    "print(f\"Skipped: {skipped}\")"
   ]
  },
  {
   "cell_type": "code",
   "execution_count": 70,
   "id": "9a2e7981",
   "metadata": {},
   "outputs": [
    {
     "name": "stdout",
     "output_type": "stream",
     "text": [
      "Done.\n"
     ]
    }
   ],
   "source": [
    "print(\"Done.\")"
   ]
  },
  {
   "cell_type": "code",
   "execution_count": null,
   "id": "6de52f60",
   "metadata": {},
   "outputs": [],
   "source": []
  },
  {
   "cell_type": "code",
   "execution_count": null,
   "id": "2822a620",
   "metadata": {},
   "outputs": [],
   "source": [
    "#print(\"Uncorrected: \", *uncorrected, sep=\"\\n\")\n",
    "\n",
    "#os.listdir(uncorrected[0])\n",
    "#uncorrected_nii = [os.path.join(f, os.listdir(f)[0]) for f in uncorrected]\n",
    "#uncorrected_nii\n",
    "\n",
    "# Very strange\n",
    "# os.remove('/gpfs/data/oermannlab/private_data/DeepPit/PitMRdata/ABIDE/ABIDE/50455/MP-RAGE/2000-01-01_00_00_00.0/S165455/._ABIDE_50455_MRI_MP-RAGE_br_raw_20120831000745302_S165455_I329465.nii')\n",
    "\n",
    "# # delete multiple\n",
    "# for f in multiple:\n",
    "#     nii_paths = glob.glob(f\"{f}/*corrected_n4_corrected_n4.nii\")\n",
    "#     for p in nii_paths:\n",
    "#         os.remove(p)\n",
    "\n",
    "# process uncorrected\n",
    "# from FAIMED3D 02_preprocessing\n",
    "# and https://simpleitk.readthedocs.io/en/master/link_N4BiasFieldCorrection_docs.html\n",
    "\n",
    "# print(\"tot \", len(uncorrected))\n",
    "\n",
    "# uncorrected_nii = [os.path.join(f, os.listdir(f)[0]) for f in uncorrected]\n",
    "\n",
    "# count = 0\n",
    "# for mr_path in uncorrected_nii: \n",
    "#     # print\n",
    "#     print(count, mr_path, flush=True)\n",
    "#     count += 1\n",
    "    \n",
    "#     # Read in image\n",
    "#     inputImage = sitk.ReadImage(mr_path, sitk.sitkFloat32)\n",
    "    \n",
    "#     # Mask the head to estimate bias\n",
    "#     maskImage = sitk.OtsuThreshold(inputImage, 0, 1, 200)\n",
    "    \n",
    "#     # Set corrector\n",
    "#     corrector = sitk.N4BiasFieldCorrectionImageFilter()\n",
    "#     corrector.SetMaximumNumberOfIterations([3] * 3)\n",
    "#     corrected_image = corrector.Execute(inputImage, maskImage)\n",
    "\n",
    "#     # write image\n",
    "#     corrected_fn = mr_path[:-4] + \"_corrected_n4.nii\"\n",
    "#     sitk.WriteImage(corrected_image, corrected_fn)"
   ]
  }
 ],
 "metadata": {
  "kernelspec": {
   "display_name": "Python 3",
   "language": "python",
   "name": "python3"
  },
  "language_info": {
   "codemirror_mode": {
    "name": "ipython",
    "version": 3
   },
   "file_extension": ".py",
   "mimetype": "text/x-python",
   "name": "python",
   "nbconvert_exporter": "python",
   "pygments_lexer": "ipython3",
   "version": "3.6.9"
  }
 },
 "nbformat": 4,
 "nbformat_minor": 5
}
