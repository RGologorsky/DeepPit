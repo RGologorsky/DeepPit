{
 "cells": [
  {
   "cell_type": "code",
   "execution_count": 2,
   "id": "f0942add",
   "metadata": {},
   "outputs": [],
   "source": [
    "import SimpleITK as sitk\n",
    "import numpy as np\n",
    "import torch\n",
    "\n",
    "from helpers.general import torch2sitk, sitk2torch\n",
    "from helpers.postprocess import eval_measure"
   ]
  },
  {
   "cell_type": "code",
   "execution_count": null,
   "id": "3ec10dd8",
   "metadata": {},
   "outputs": [],
   "source": []
  },
  {
   "cell_type": "code",
   "execution_count": 5,
   "id": "107f7cbc",
   "metadata": {},
   "outputs": [
    {
     "name": "stdout",
     "output_type": "stream",
     "text": [
      "Exception thrown in SimpleITK HausdorffDistanceImageFilter_Execute: /tmp/SimpleITK-build/ITK-prefix/include/ITK-5.2/itkDirectedHausdorffDistanceImageFilter.hxx:145:\n",
      "ITK ERROR: pixelcount is equal to 0\n"
     ]
    }
   ],
   "source": [
    "ground_truth = torch.zeros(10,10,10)\n",
    "ground_truth[1:4,1:4,1:4] = 1\n",
    "\n",
    "prediction = torch.zeros(10,10,10)\n",
    "\n",
    "measures = eval_measure(torch2sitk(ground_truth.byte()),\n",
    "                       torch2sitk(prediction.byte()))"
   ]
  },
  {
   "cell_type": "code",
   "execution_count": 6,
   "id": "b33ebf03",
   "metadata": {},
   "outputs": [
    {
     "data": {
      "text/plain": [
       "{'dice': 0.0,\n",
       " 'false_neg': 1.0,\n",
       " 'false_pos': 1.7976931348623157e+308,\n",
       " 'IoU': 0.0,\n",
       " 'hausdorff_dist': nan}"
      ]
     },
     "execution_count": 6,
     "metadata": {},
     "output_type": "execute_result"
    }
   ],
   "source": [
    "measures"
   ]
  },
  {
   "cell_type": "code",
   "execution_count": 7,
   "id": "3886e14c",
   "metadata": {},
   "outputs": [
    {
     "name": "stdout",
     "output_type": "stream",
     "text": [
      "Exception thrown in SimpleITK HausdorffDistanceImageFilter_Execute: /tmp/SimpleITK-build/ITK-prefix/include/ITK-5.2/itkDirectedHausdorffDistanceImageFilter.hxx:145:\n",
      "ITK ERROR: pixelcount is equal to 0\n"
     ]
    }
   ],
   "source": [
    "measures2 = eval_measure(\n",
    "                       torch2sitk(prediction.byte()),\n",
    "                       torch2sitk(ground_truth.byte()),\n",
    "            )"
   ]
  },
  {
   "cell_type": "code",
   "execution_count": null,
   "id": "4135af5a",
   "metadata": {},
   "outputs": [
    {
     "data": {
      "text/plain": [
       "{'dice': 0.0,\n",
       " 'false_neg': 1.7976931348623157e+308,\n",
       " 'false_pos': 1.0,\n",
       " 'IoU': 0.0,\n",
       " 'hausdorff_dist': nan}"
      ]
     },
     "execution_count": 8,
     "metadata": {},
     "output_type": "execute_result"
    }
   ],
   "source": [
    "measures2"
   ]
  },
  {
   "cell_type": "code",
   "execution_count": 1,
   "id": "5321545a",
   "metadata": {},
   "outputs": [
    {
     "data": {
      "text/plain": [
       "environ{'BASH_ENV': '/cm/local/apps/environment-modules/4.4.1/init/bash',\n",
       "        'BASH_FUNC__module_raw()': '() {  unset _mlshdbg;\\n if [ \"${MODULES_SILENT_SHELL_DEBUG:-0}\" = \\'1\\' ]; then\\n case \"$-\" in \\n *v*x*)\\n set +vx;\\n _mlshdbg=\\'vx\\'\\n ;;\\n *v*)\\n set +v;\\n _mlshdbg=\\'v\\'\\n ;;\\n *x*)\\n set +x;\\n _mlshdbg=\\'x\\'\\n ;;\\n *)\\n _mlshdbg=\\'\\'\\n ;;\\n esac;\\n fi;\\n unset _mlre _mlIFS;\\n if [ -n \"${IFS+x}\" ]; then\\n _mlIFS=$IFS;\\n fi;\\n IFS=\\' \\';\\n for _mlv in ${MODULES_RUN_QUARANTINE:-};\\n do\\n if [ \"${_mlv}\" = \"${_mlv##*[!A-Za-z0-9_]}\" -a \"${_mlv}\" = \"${_mlv#[0-9]}\" ]; then\\n if [ -n \"`eval \\'echo ${\\'$_mlv\\'+x}\\'`\" ]; then\\n _mlre=\"${_mlre:-}${_mlv}_modquar=\\'`eval \\'echo ${\\'$_mlv\\'}\\'`\\' \";\\n fi;\\n _mlrv=\"MODULES_RUNENV_${_mlv}\";\\n _mlre=\"${_mlre:-}${_mlv}=\\'`eval \\'echo ${\\'$_mlrv\\':-}\\'`\\' \";\\n fi;\\n done;\\n if [ -n \"${_mlre:-}\" ]; then\\n eval `eval ${_mlre}/usr/bin/tclsh /cm/local/apps/environment-modules/4.4.1/libexec/modulecmd.tcl bash \\'\"$@\"\\'`;\\n else\\n eval `/usr/bin/tclsh /cm/local/apps/environment-modules/4.4.1/libexec/modulecmd.tcl bash \"$@\"`;\\n fi;\\n _mlstatus=$?;\\n if [ -n \"${_mlIFS+x}\" ]; then\\n IFS=$_mlIFS;\\n else\\n unset IFS;\\n fi;\\n unset _mlre _mlv _mlrv _mlIFS;\\n if [ -n \"${_mlshdbg:-}\" ]; then\\n set -$_mlshdbg;\\n fi;\\n unset _mlshdbg;\\n return $_mlstatus\\n}',\n",
       "        'BASH_FUNC_module()': '() {  _module_raw \"$@\" 2>&1\\n}',\n",
       "        'BASH_FUNC_switchml()': '() {  typeset swfound=1;\\n if [ \"${MODULES_USE_COMPAT_VERSION:-0}\" = \\'1\\' ]; then\\n typeset swname=\\'main\\';\\n if [ -e /cm/local/apps/environment-modules/4.4.1/libexec/modulecmd.tcl ]; then\\n typeset swfound=0;\\n unset MODULES_USE_COMPAT_VERSION;\\n fi;\\n else\\n typeset swname=\\'compatibility\\';\\n if [ -e /cm/local/apps/environment-modules/4.4.1/libexec/modulecmd-compat ]; then\\n typeset swfound=0;\\n MODULES_USE_COMPAT_VERSION=1;\\n export MODULES_USE_COMPAT_VERSION;\\n fi;\\n fi;\\n if [ $swfound -eq 0 ]; then\\n echo \"Switching to Modules $swname version\";\\n source /cm/local/apps/environment-modules/4.4.1/init/bash;\\n else\\n echo \"Cannot switch to Modules $swname version, command not found\";\\n return 1;\\n fi\\n}',\n",
       "        'CDC_JOINED_DC': 'adswpdcvmdc45.nyumc.org',\n",
       "        'CDC_JOINED_DOMAIN': 'nyumc.org',\n",
       "        'CDC_JOINED_SITE': 'Default-First-Site-Name',\n",
       "        'CDC_JOINED_ZONE': 'CN=HPC BigPurple,CN=Zones,OU=Centrify,DC=nyumc,DC=org',\n",
       "        'CDC_LOCALHOST': 'bigpurple-ln1.cm.cluster',\n",
       "        'CDC_PREW2KHOST': 'bigpurple-ln1',\n",
       "        'CPATH': '/gpfs/share/apps/openmpi/3.1.0/include:/gpfs/share/apps/libarchive/3.3.2/include/:/cm/shared/apps/slurm/current/include:/gpfs/share/apps/python/gpu/3.8.11/include/python3.8',\n",
       "        'CPATH_modshare': '/gpfs/share/apps/openmpi/3.1.0/include:1:/gpfs/share/apps/libarchive/3.3.2/include/:1:/gpfs/share/apps/python/gpu/3.8.11/include/python3.8:1:/cm/shared/apps/slurm/current/include:1',\n",
       "        'CUDA_CACHE_DISABLE': '1',\n",
       "        'CUDA_CMLOCAL_ROOT': '/gpfs/share/apps/cuda/11.1',\n",
       "        'CUDA_INC_PATH': '/gpfs/share/apps/cuda/11.1/include',\n",
       "        'CUDA_INC_PATH_modshare': '/gpfs/share/apps/cuda/11.1/include:1',\n",
       "        'CUDA_INSTALL_PATH': '/gpfs/share/apps/cuda/11.1',\n",
       "        'CUDA_PATH': '/gpfs/share/apps/cuda/11.1',\n",
       "        'CUDA_PKG_VERSION': '10-1=10.1.243-1',\n",
       "        'CUDA_ROOT': '/gpfs/share/apps/cuda/11.1',\n",
       "        'CUDA_VERSION': '10.1.243',\n",
       "        'CUDA_VISIBLE_DEVICES': '0',\n",
       "        'CUDNN_VERSION': '8.0.5.39',\n",
       "        'DA_SESSION_ID_AUTH': 'c44ae871-5775-164b-8e41-ad9ed622d8c0',\n",
       "        'ENABLE_LMOD': '0',\n",
       "        'ENV': '/cm/local/apps/environment-modules/4.4.1/init/profile.sh',\n",
       "        'GOPATH': '/gpfs/share/apps/go/1.14.2/bin/go',\n",
       "        'GPU_DEVICE_ORDINAL': '0',\n",
       "        'HISTCONTROL': 'ignoredups',\n",
       "        'HISTSIZE': '1000',\n",
       "        'HOME': '/gpfs/home/gologr01',\n",
       "        'HOSTNAME': 'bigpurple-ln1',\n",
       "        'INCLUDEPATH': '/gpfs/share/apps/cuda/11.1/extras/Debugger/include:/gpfs/share/apps/cuda/11.1/extras/CUPTI/include:/gpfs/share/apps/cuda/11.1/targets/x86_64-linux/include',\n",
       "        'INCLUDEPATH_modshare': '/gpfs/share/apps/cuda/11.1/extras/Debugger/include:1:/gpfs/share/apps/cuda/11.1/extras/CUPTI/include:1:/gpfs/share/apps/cuda/11.1/targets/x86_64-linux/include:1',\n",
       "        'KRB5CCNAME': 'FILE:/tmp/krb5cc_1023970967',\n",
       "        'LANG': 'en_US.UTF-8',\n",
       "        'LD_LIBRARY_PATH': '/usr/local/nvidia/lib:/usr/local/nvidia/lib64:/.singularity.d/libs',\n",
       "        'LD_LIBRARY_PATH_modshare': '/gpfs/share/apps/openmpi/3.1.0/lib:1:/gpfs/share/apps/cuda/11.1/lib64:1:/gpfs/share/apps/go/1.14.2/lib:1:/gpfs/share/apps/gcc/8.1.0/lib:1:/gpfs/share/apps/cuda/11.1/targets/x86_64-linux/lib:1:/gpfs/share/apps/libarchive/3.3.2/lib/:1:/cm/shared/apps/slurm/current/lib64/slurm:1:/gpfs/share/apps/cuda/11.1/extras/CUPTI/lib64:1:/gpfs/share/apps/git/2.17.0/lib64:1:/cm/shared/apps/slurm/current/lib64:1:/gpfs/share/apps/gcc/8.1.0/lib64:1:/gpfs/share/apps/python/gpu/3.8.11/lib:1:/gpfs/share/apps/openmpi/3.1.0/lib/openmpi:1',\n",
       "        'LD_RUN_PATH': '/gpfs/share/apps/singularity/3.7.1/lib:/gpfs/share/apps/openmpi/3.1.0/lib/openmpi:/gpfs/share/apps/openmpi/3.1.0/lib:/gpfs/share/apps/libarchive/3.3.2/lib/:/gpfs/share/apps/gcc/8.1.0/lib:/gpfs/share/apps/gcc/8.1.0/lib64',\n",
       "        'LD_RUN_PATH_modshare': '/gpfs/share/apps/openmpi/3.1.0/lib:1:/gpfs/share/apps/libarchive/3.3.2/lib/:1:/gpfs/share/apps/gcc/8.1.0/lib64:1:/gpfs/share/apps/singularity/3.7.1/lib:1:/gpfs/share/apps/gcc/8.1.0/lib:1:/gpfs/share/apps/openmpi/3.1.0/lib/openmpi:1',\n",
       "        'LESSOPEN': '||/usr/bin/lesspipe.sh %s',\n",
       "        'LIBRARY_PATH': '/gpfs/share/apps/singularity/3.7.1/lib:/gpfs/share/apps/openmpi/3.1.0/lib/openmpi:/gpfs/share/apps/openmpi/3.1.0/lib:/cm/shared/apps/slurm/current/lib64/slurm:/cm/shared/apps/slurm/current/lib64:/gpfs/share/apps/cuda/11.1/lib64:/gpfs/share/apps/cuda/11.1/targets/x86_64-linux/lib',\n",
       "        'LIBRARY_PATH_modshare': '/gpfs/share/apps/openmpi/3.1.0/lib:1:/cm/shared/apps/slurm/current/lib64:1:/gpfs/share/apps/cuda/11.1/lib64:1:/gpfs/share/apps/singularity/3.7.1/lib:1:/cm/shared/apps/slurm/current/lib64/slurm:1:/gpfs/share/apps/cuda/11.1/targets/x86_64-linux/lib:1:/gpfs/share/apps/openmpi/3.1.0/lib/openmpi:1',\n",
       "        'LOADEDMODULES': 'cuda/11.1:python/gpu/3.8.11:gcc/8.1.0:slurm/current:git/2.17.0:squashfs-tools/4.3:libarchive/3.3.2:openmpi/gcc/64/3.1.0:go/1.14.2:singularity/3.7.1',\n",
       "        'LOADEDMODULES_modshare': 'squashfs-tools/4.3:1:libarchive/3.3.2:1:openmpi/gcc/64/3.1.0:1:singularity/3.7.1:1:cuda/11.1:1:python/gpu/3.8.11:1:gcc/8.1.0:1:slurm/current:1:git/2.17.0:1:go/1.14.2:1',\n",
       "        'LOGNAME': 'gologr01',\n",
       "        'LS_COLORS': 'rs=0:di=38;5;27:ln=38;5;51:mh=44;38;5;15:pi=40;38;5;11:so=38;5;13:do=38;5;5:bd=48;5;232;38;5;11:cd=48;5;232;38;5;3:or=48;5;232;38;5;9:mi=05;48;5;232;38;5;15:su=48;5;196;38;5;15:sg=48;5;11;38;5;16:ca=48;5;196;38;5;226:tw=48;5;10;38;5;16:ow=48;5;10;38;5;21:st=48;5;21;38;5;15:ex=38;5;34:*.tar=38;5;9:*.tgz=38;5;9:*.arc=38;5;9:*.arj=38;5;9:*.taz=38;5;9:*.lha=38;5;9:*.lz4=38;5;9:*.lzh=38;5;9:*.lzma=38;5;9:*.tlz=38;5;9:*.txz=38;5;9:*.tzo=38;5;9:*.t7z=38;5;9:*.zip=38;5;9:*.z=38;5;9:*.Z=38;5;9:*.dz=38;5;9:*.gz=38;5;9:*.lrz=38;5;9:*.lz=38;5;9:*.lzo=38;5;9:*.xz=38;5;9:*.bz2=38;5;9:*.bz=38;5;9:*.tbz=38;5;9:*.tbz2=38;5;9:*.tz=38;5;9:*.deb=38;5;9:*.rpm=38;5;9:*.jar=38;5;9:*.war=38;5;9:*.ear=38;5;9:*.sar=38;5;9:*.rar=38;5;9:*.alz=38;5;9:*.ace=38;5;9:*.zoo=38;5;9:*.cpio=38;5;9:*.7z=38;5;9:*.rz=38;5;9:*.cab=38;5;9:*.jpg=38;5;13:*.jpeg=38;5;13:*.gif=38;5;13:*.bmp=38;5;13:*.pbm=38;5;13:*.pgm=38;5;13:*.ppm=38;5;13:*.tga=38;5;13:*.xbm=38;5;13:*.xpm=38;5;13:*.tif=38;5;13:*.tiff=38;5;13:*.png=38;5;13:*.svg=38;5;13:*.svgz=38;5;13:*.mng=38;5;13:*.pcx=38;5;13:*.mov=38;5;13:*.mpg=38;5;13:*.mpeg=38;5;13:*.m2v=38;5;13:*.mkv=38;5;13:*.webm=38;5;13:*.ogm=38;5;13:*.mp4=38;5;13:*.m4v=38;5;13:*.mp4v=38;5;13:*.vob=38;5;13:*.qt=38;5;13:*.nuv=38;5;13:*.wmv=38;5;13:*.asf=38;5;13:*.rm=38;5;13:*.rmvb=38;5;13:*.flc=38;5;13:*.avi=38;5;13:*.fli=38;5;13:*.flv=38;5;13:*.gl=38;5;13:*.dl=38;5;13:*.xcf=38;5;13:*.xwd=38;5;13:*.yuv=38;5;13:*.cgm=38;5;13:*.emf=38;5;13:*.axv=38;5;13:*.anx=38;5;13:*.ogv=38;5;13:*.ogx=38;5;13:*.aac=38;5;45:*.au=38;5;45:*.flac=38;5;45:*.mid=38;5;45:*.midi=38;5;45:*.mka=38;5;45:*.mp3=38;5;45:*.mpc=38;5;45:*.ogg=38;5;45:*.ra=38;5;45:*.wav=38;5;45:*.axa=38;5;45:*.oga=38;5;45:*.spx=38;5;45:*.xspf=38;5;45:',\n",
       "        'MAIL': '/var/spool/mail/gologr01',\n",
       "        'MANPATH': '/gpfs/share/apps/go/1.14.2/share/man:/gpfs/share/apps/openmpi/3.1.0/share/man/:/cm/shared/apps/slurm/current/share/man:/gpfs/share/apps/python/gpu/3.8.11/share/man:/gpfs/share/apps/cuda/11.1/doc/man:/cm/local/apps/environment-modules/4.4.1/share/man:/usr/local/share/man:/usr/share/man/overrides:/usr/share/man:/cm/local/apps/environment-modules/current/share/man:/opt/ibutils/share/man:/cm/local/apps/environment-modules/4.4.1/share/man:/usr/local/share/man:/usr/share/man/overrides:/usr/share/man:/cm/local/apps/environment-modules/current/share/man:/opt/ibutils/share/man:/cm/local/apps/environment-modules/current/share/man:/cm/local/apps/environment-modules/current/share/man',\n",
       "        'MANPATH_modshare': '/gpfs/share/apps/cuda/11.1/doc/man:1:/usr/local/share/man:1:/usr/share/man/overrides:1:/gpfs/share/apps/go/1.14.2/share/man:1:/cm/shared/apps/slurm/current/share/man:1:/gpfs/share/apps/python/gpu/3.8.11/share/man:1:/cm/local/apps/environment-modules/current/share/man:1:/gpfs/share/apps/openmpi/3.1.0/share/man/:1:/usr/share/man:1:/opt/ibutils/share/man:1:/cm/local/apps/environment-modules/4.4.1/share/man:1',\n",
       "        'MODULEPATH': '/cm/shared/modulefiles',\n",
       "        'MODULESHOME': '/cm/local/apps/environment-modules/4.4.1',\n",
       "        'MODULES_CMD': '/cm/local/apps/environment-modules/4.4.1/libexec/modulecmd.tcl',\n",
       "        'MODULES_LMALTNAME': 'slurm/current&slurm/default&slurm',\n",
       "        'MODULES_LMALTNAME_modshare': 'slurm/current&slurm/default&slurm:1',\n",
       "        'MODULES_LMCONFLICT': 'python/gpu/3.8.11&python:go/1.14.2&go',\n",
       "        'MODULES_LMCONFLICT_modshare': 'go/1.14.2&go:1:python/gpu/3.8.11&python:1',\n",
       "        'MODULES_LMNOTUASKED': 'cuda/11.1:gcc/8.1.0:slurm/current:git/2.17.0:squashfs-tools/4.3:libarchive/3.3.2:openmpi/gcc/64/3.1.0:go/1.14.2',\n",
       "        'MODULES_LMNOTUASKED_modshare': 'squashfs-tools/4.3:1:libarchive/3.3.2:1:openmpi/gcc/64/3.1.0:1:go/1.14.2:1:cuda/11.1:1:gcc/8.1.0:1:slurm/current:1:git/2.17.0:1',\n",
       "        'MODULES_LMPREREQ': 'python/gpu/3.8.11&cuda/11.1:go/1.14.2&openmpi/gcc/64/3.1.0&openmpi:singularity/3.7.1&gcc/8.1.0&slurm&git/2.17.0&squashfs-tools/4.3&libarchive/3.3.2&openmpi/gcc/64/3.1.0&go/1.14.2',\n",
       "        'MODULES_LMPREREQ_modshare': 'python/gpu/3.8.11&cuda/11.1:1:singularity/3.7.1&gcc/8.1.0&slurm&git/2.17.0&squashfs-tools/4.3&libarchive/3.3.2&openmpi/gcc/64/3.1.0&go/1.14.2:1:go/1.14.2&openmpi/gcc/64/3.1.0&openmpi:1',\n",
       "        'MPI_HOME': '/gpfs/share/apps/openmpi/3.1.0',\n",
       "        'MPI_INCLUDE_PATH': '/gpfs/share/apps/openmpi/3.1.0/include',\n",
       "        'MPI_INCLUDE_PATH_modshare': '/gpfs/share/apps/openmpi/3.1.0/include:1',\n",
       "        'MPI_RUN': '/gpfs/share/apps/openmpi/3.1.0/bin/mpirun',\n",
       "        'NCCL_VERSION': '2.8.3',\n",
       "        'NVIDIA_DRIVER_CAPABILITIES': 'compute,utility',\n",
       "        'NVIDIA_REQUIRE_CUDA': 'cuda>=10.1 brand=tesla,driver>=396,driver<397 brand=tesla,driver>=410,driver<411 brand=tesla,driver>=418,driver<419',\n",
       "        'NVIDIA_VISIBLE_DEVICES': 'all',\n",
       "        'PATH': '/usr/local/nvidia/bin:/usr/local/cuda/bin:/usr/local/sbin:/usr/local/bin:/usr/sbin:/usr/bin:/sbin:/bin',\n",
       "        'PATH_modshare': '/cm/local/apps/environment-modules/current/bin:1:/gpfs/share/apps/python/gpu/3.8.11/bin:1:/usr/bin:1:/gpfs/share/apps/openmpi/3.1.0/bin:1:/gpfs/share/apps/squashfs-tools/4.3/bin/:1:/usr/local/bin:1:/gpfs/share/apps/go/1.14.2/bin:1:/gpfs/share/apps/git/2.17.0/bin:1:/cm/shared/apps/slurm/current/bin:1:/gpfs/share/apps/gcc/8.1.0/bin:1:/opt/ibutils/bin:1:/gpfs/share/apps/libarchive/3.3.2/bin/:1:/cm/shared/apps/slurm/current/sbin:1:/gpfs/share/apps/cuda/11.1/bin:1:/gpfs/share/apps/go/1.14.2/bin/go/bin:1:/gpfs/home/gologr01/.local/bin:1:/gpfs/home/gologr01/bin:1:/cm/local/apps/environment-modules/4.4.1/bin:1:/sbin:1:/gpfs/share/apps/singularity/3.7.1/bin:1:/usr/sbin:1:/usr/local/sbin:1:/usr/lpp/mmfs/bin:1',\n",
       "        'PROMPT_COMMAND': 'PS1=\"Singularity> \"; unset PROMPT_COMMAND',\n",
       "        'PS1': 'Singularity> ',\n",
       "        'PWD': '/gpfs/home/gologr01',\n",
       "        'PYTHONPATH': '/gpfs/share/apps/python/gpu/3.8.11/lib/python3.8/site-packages',\n",
       "        'PYTHONPATH_modshare': '/gpfs/share/apps/python/gpu/3.8.11/lib/python3.8/site-packages:1',\n",
       "        'PYTHON_ROOT': '/gpfs/share/apps/python/gpu/3.8.11',\n",
       "        'ROCR_VISIBLE_DEVICES': '0',\n",
       "        'SHELL': '/bin/bash',\n",
       "        'SHLVL': '3',\n",
       "        'SINGLULARITY_CACHEDIR': '/tmp/gologr01',\n",
       "        'SINGULARITY_BIND': '/gpfs/data/oermannlab/private_data/DeepPit/:/gpfs/data/oermannlab/private_data/DeepPit/',\n",
       "        'SINGULARITY_COMMAND': 'exec',\n",
       "        'SINGULARITY_CONTAINER': '/gpfs/home/gologr01/mona_1906.sif',\n",
       "        'SINGULARITY_ENVIRONMENT': '/.singularity.d/env/91-environment.sh',\n",
       "        'SINGULARITY_NAME': 'mona_1906.sif',\n",
       "        'SLURMD_NODENAME': 'gn-0003',\n",
       "        'SLURM_CLUSTER_NAME': 'slurm_cluster',\n",
       "        'SLURM_CONF': '/etc/slurm/slurm.conf',\n",
       "        'SLURM_CPUS_ON_NODE': '5',\n",
       "        'SLURM_CPUS_PER_TASK': '5',\n",
       "        'SLURM_GTIDS': '0',\n",
       "        'SLURM_JOBID': '13937312',\n",
       "        'SLURM_JOB_ACCOUNT': 'system',\n",
       "        'SLURM_JOB_CPUS_PER_NODE': '5',\n",
       "        'SLURM_JOB_GID': '1023961477',\n",
       "        'SLURM_JOB_ID': '13937312',\n",
       "        'SLURM_JOB_NAME': 'bash',\n",
       "        'SLURM_JOB_NODELIST': 'gn-0003',\n",
       "        'SLURM_JOB_NUM_NODES': '1',\n",
       "        'SLURM_JOB_PARTITION': 'gpu4_dev',\n",
       "        'SLURM_JOB_QOS': 'normal',\n",
       "        'SLURM_JOB_UID': '1023970967',\n",
       "        'SLURM_JOB_USER': 'gologr01',\n",
       "        'SLURM_LAUNCH_NODE_IPADDR': '192.168.0.101',\n",
       "        'SLURM_LOCALID': '0',\n",
       "        'SLURM_NNODES': '1',\n",
       "        'SLURM_NODEID': '0',\n",
       "        'SLURM_NODELIST': 'gn-0003',\n",
       "        'SLURM_NPROCS': '1',\n",
       "        'SLURM_NTASKS': '1',\n",
       "        'SLURM_PRIO_PROCESS': '0',\n",
       "        'SLURM_PROCID': '0',\n",
       "        'SLURM_PTY_PORT': '41174',\n",
       "        'SLURM_PTY_WIN_COL': '197',\n",
       "        'SLURM_PTY_WIN_ROW': '51',\n",
       "        'SLURM_SRUN_COMM_HOST': '192.168.0.101',\n",
       "        'SLURM_SRUN_COMM_PORT': '42033',\n",
       "        'SLURM_STEPID': '0',\n",
       "        'SLURM_STEP_GPUS': '1',\n",
       "        'SLURM_STEP_ID': '0',\n",
       "        'SLURM_STEP_LAUNCHER_PORT': '42033',\n",
       "        'SLURM_STEP_NODELIST': 'gn-0003',\n",
       "        'SLURM_STEP_NUM_NODES': '1',\n",
       "        'SLURM_STEP_NUM_TASKS': '1',\n",
       "        'SLURM_STEP_TASKS_PER_NODE': '1',\n",
       "        'SLURM_SUBMIT_DIR': '/gpfs/home/gologr01',\n",
       "        'SLURM_SUBMIT_HOST': 'bigpurple-ln1',\n",
       "        'SLURM_TASKS_PER_NODE': '1',\n",
       "        'SLURM_TASK_PID': '49369',\n",
       "        'SLURM_TOPOLOGY_ADDR': 'gn-0003',\n",
       "        'SLURM_TOPOLOGY_ADDR_PATTERN': 'node',\n",
       "        'SLURM_UMASK': '0077',\n",
       "        'SLURM_WORKING_CLUSTER': 'slurm_cluster:bigpurple-hn1.ib.cluster:6817:9216:101',\n",
       "        'SRUN_DEBUG': '3',\n",
       "        'SSH_CLIENT': '10.128.220.133 53152 22',\n",
       "        'SSH_CONNECTION': '10.128.220.133 53152 10.189.18.101 22',\n",
       "        'SSH_TTY': '/dev/pts/50',\n",
       "        'TERM': 'xterm-color',\n",
       "        'TMPDIR': '/tmp',\n",
       "        'USER': 'gologr01',\n",
       "        'USER_PATH': '/gpfs/share/apps/go/1.14.2/bin/go/bin:/gpfs/share/apps/singularity/3.7.1/bin:/gpfs/share/apps/go/1.14.2/bin:/gpfs/share/apps/openmpi/3.1.0/bin:/gpfs/share/apps/libarchive/3.3.2/bin/:/gpfs/share/apps/squashfs-tools/4.3/bin/:/gpfs/share/apps/git/2.17.0/bin:/cm/shared/apps/slurm/current/sbin:/cm/shared/apps/slurm/current/bin:/gpfs/share/apps/gcc/8.1.0/bin:/gpfs/share/apps/python/gpu/3.8.11/bin:/gpfs/share/apps/cuda/11.1/bin:/cm/local/apps/environment-modules/4.4.1/bin:/usr/local/bin:/usr/bin:/usr/local/sbin:/usr/sbin:/sbin:/usr/sbin:/cm/local/apps/environment-modules/current/bin:/opt/ibutils/bin:/usr/lpp/mmfs/bin:/gpfs/home/gologr01/.local/bin:/gpfs/home/gologr01/bin:/usr/lpp/mmfs/bin:/bin:/usr/bin:/sbin:/usr/sbin:/usr/local/bin:/usr/local/sbin',\n",
       "        'USER_PRINCIPAL_NAME': 'gologr01@NYUMC.ORG',\n",
       "        'XDG_RUNTIME_DIR': '/run/user/1023970967',\n",
       "        'XDG_SESSION_ID': '196081',\n",
       "        '_': '/gpfs/share/apps/singularity/3.7.1/bin/singularity',\n",
       "        '_LMFILES_': '/cm/shared/modulefiles/cuda/11.1:/cm/shared/modulefiles/python/gpu/3.8.11:/cm/shared/modulefiles/gcc/8.1.0:/cm/shared/modulefiles/slurm/current:/cm/shared/modulefiles/git/2.17.0:/cm/shared/modulefiles/squashfs-tools/4.3:/cm/shared/modulefiles/libarchive/3.3.2:/cm/shared/modulefiles/openmpi/gcc/64/3.1.0:/cm/shared/modulefiles/go/1.14.2:/cm/shared/modulefiles/singularity/3.7.1',\n",
       "        '_LMFILES__modshare': '/cm/shared/modulefiles/squashfs-tools/4.3:1:/cm/shared/modulefiles/libarchive/3.3.2:1:/cm/shared/modulefiles/openmpi/gcc/64/3.1.0:1:/cm/shared/modulefiles/singularity/3.7.1:1:/cm/shared/modulefiles/cuda/11.1:1:/cm/shared/modulefiles/python/gpu/3.8.11:1:/cm/shared/modulefiles/gcc/8.1.0:1:/cm/shared/modulefiles/slurm/current:1:/cm/shared/modulefiles/git/2.17.0:1:/cm/shared/modulefiles/go/1.14.2:1',\n",
       "        'JPY_PARENT_PID': '49672',\n",
       "        'CLICOLOR': '1',\n",
       "        'PAGER': 'cat',\n",
       "        'GIT_PAGER': 'cat',\n",
       "        'MPLBACKEND': 'module://ipykernel.pylab.backend_inline'}"
      ]
     },
     "execution_count": 1,
     "metadata": {},
     "output_type": "execute_result"
    }
   ],
   "source": [
    "import os\n",
    "import sys\n",
    "\n",
    "print('Number of arguments:', len(sys.argv), 'arguments.')\n",
    "print('Argument List:', str(sys.argv))\n",
    "\n",
    "kwargs = dict(arg.split(\"=\") for arg in sys.argv if \"=\" in arg)\n",
    "print(kwargs)\n",
    "\n",
    "# print(os.environ)"
   ]
  },
  {
   "cell_type": "code",
   "execution_count": 1,
   "id": "0e27ce70",
   "metadata": {},
   "outputs": [],
   "source": [
    "import torch\n",
    "import torch.nn.functional as F\n",
    "import numpy as np\n",
    "import matplotlib.pyplot as plt"
   ]
  },
  {
   "cell_type": "code",
   "execution_count": 2,
   "id": "946221e9",
   "metadata": {},
   "outputs": [],
   "source": [
    "# create binary mask w/ rectangle\n",
    "sz   = (16, 16, 16)\n",
    "bbox = (5,10,7,10,9,12) \n",
    "\n",
    "a,b,c,d,e,f = bbox\n",
    "mk   = torch.zeros(sz)\n",
    "mk[a:b, c:d, e:f] = 1\n",
    "\n",
    "# compute centroid\n",
    "def get_centroid(mk):\n",
    "    indices = torch.nonzero(mk)\n",
    "    centroid = indices.float().mean(dim=0)\n",
    "    return centroid\n",
    "    \n",
    "centroid = get_centroid(mk)"
   ]
  },
  {
   "cell_type": "code",
   "execution_count": 3,
   "id": "e84f2cc1",
   "metadata": {},
   "outputs": [],
   "source": [
    "from monai.transforms import Affine"
   ]
  },
  {
   "cell_type": "code",
   "execution_count": 63,
   "id": "b0ca16f5",
   "metadata": {},
   "outputs": [
    {
     "data": {
      "image/png": "[encoded data removed]",
      "text/plain": [
       "<Figure size 864x864 with 72 Axes>"
      ]
     },
     "metadata": {
      "needs_background": "light"
     },
     "output_type": "display_data"
    }
   ],
   "source": [
    "sz   = (8,8,8)\n",
    "\n",
    "# 2-4, 3-4, 4-5\n",
    "bbox = (2,5,3,5,4,6) \n",
    "\n",
    "a,b,c,d,e,f = bbox\n",
    "mk   = torch.zeros(sz)\n",
    "mk[a:b, c:d, e:f] = 1\n",
    "\n",
    "monai_aff = Affine(\n",
    "    rotate_params=(np.pi/6,0,0), \n",
    "    shear_params=None, \n",
    "    translate_params=(0,0,0),\n",
    "    scale_params=None, \n",
    "    spatial_size=None, \n",
    "    mode='nearest', \n",
    "    padding_mode='zeros', \n",
    "    as_tensor_output=False, \n",
    "    device=None, \n",
    "    image_only=False\n",
    ")\n",
    "\n",
    "monai_aff_mk, monai_aff_matrix = monai_aff(mk)\n",
    "\n",
    "from matplotlib import colors\n",
    "bin_cmap1  = colors.ListedColormap(['white', 'green'])\n",
    "bin_cmap2  = colors.ListedColormap(['white', 'red'])\n",
    "\n",
    "_, axes = plt.subplots(9,8, figsize=(12,12))\n",
    "for i in range(8):\n",
    "    axes[0,i].imshow(mk[i,:,:], cmap=bin_cmap1)\n",
    "    axes[1,i].imshow(monai_aff_mk[i,:,:], cmap=bin_cmap2, alpha=0.5)\n",
    "    \n",
    "    axes[2,i].imshow(mk[i,:,:], cmap=bin_cmap1)\n",
    "    axes[2,i].imshow(monai_aff_mk[i,:,:], cmap=bin_cmap2, alpha=0.5)\n",
    "    \n",
    "    axes[3,i].imshow(mk[:,i,:], cmap=bin_cmap1)\n",
    "    axes[4,i].imshow(monai_aff_mk[:,i,:], cmap=bin_cmap2, alpha=0.5)\n",
    "    \n",
    "    axes[5,i].imshow(mk[:,i,:], cmap=bin_cmap1)\n",
    "    axes[5,i].imshow(monai_aff_mk[:,i,:], cmap=bin_cmap2, alpha=0.5)\n",
    "    \n",
    "    axes[6,i].imshow(mk[:,:,i], cmap=bin_cmap1)\n",
    "    axes[7,i].imshow(monai_aff_mk[:,:,i], cmap=bin_cmap2, alpha=0.5)\n",
    "    \n",
    "    axes[8,i].imshow(mk[:,:,i], cmap=bin_cmap1)\n",
    "    axes[8,i].imshow(monai_aff_mk[:,:,i], cmap=bin_cmap2, alpha=0.5)\n",
    "    \n",
    "plt.show()"
   ]
  },
  {
   "cell_type": "code",
   "execution_count": 68,
   "id": "9fcc518d",
   "metadata": {},
   "outputs": [
    {
     "data": {
      "image/png": "[encoded data removed]",
      "text/plain": [
       "<Figure size 864x864 with 72 Axes>"
      ]
     },
     "metadata": {
      "needs_background": "light"
     },
     "output_type": "display_data"
    }
   ],
   "source": [
    "sz   = (8,8,8)\n",
    "\n",
    "# 2-4, 3-4, 4-5\n",
    "bbox = (2,5,3,5,4,6) \n",
    "\n",
    "a,b,c,d,e,f = bbox\n",
    "mk   = torch.zeros(sz)\n",
    "mk[a:b, c:d, e:f] = 1\n",
    "\n",
    "# affine rotate mask\n",
    "D,H,W = mk.size()\n",
    "B = 1\n",
    "affine_matrix = (torch.eye(3,4).unsqueeze(0) + torch.randn(1, 3, 4) * 0.05)\n",
    "meshgrid      = F.affine_grid(affine_matrix,torch.Size((B,1,D,H,W)), align_corners=False)\n",
    "aff_mk = F.grid_sample(mk.unsqueeze(0).unsqueeze(0).float(), meshgrid, mode='nearest', align_corners=False).long().squeeze()\n",
    "\n",
    "\n",
    "from matplotlib import colors\n",
    "bin_cmap1  = colors.ListedColormap(['white', 'green'])\n",
    "bin_cmap2  = colors.ListedColormap(['white', 'red'])\n",
    "\n",
    "_, axes = plt.subplots(9,8, figsize=(12,12))\n",
    "for i in range(8):\n",
    "    axes[0,i].imshow(mk[i,:,:], cmap=bin_cmap1)\n",
    "    axes[1,i].imshow(aff_mk[i,:,:], cmap=bin_cmap2, alpha=0.5)\n",
    "    \n",
    "    axes[2,i].imshow(mk[i,:,:], cmap=bin_cmap1)\n",
    "    axes[2,i].imshow(aff_mk[i,:,:], cmap=bin_cmap2, alpha=0.5)\n",
    "    \n",
    "    axes[3,i].imshow(mk[:,i,:], cmap=bin_cmap1)\n",
    "    axes[4,i].imshow(aff_mk[:,i,:], cmap=bin_cmap2, alpha=0.5)\n",
    "    \n",
    "    axes[5,i].imshow(mk[:,i,:], cmap=bin_cmap1)\n",
    "    axes[5,i].imshow(aff_mk[:,i,:], cmap=bin_cmap2, alpha=0.5)\n",
    "    \n",
    "    axes[6,i].imshow(mk[:,:,i], cmap=bin_cmap1)\n",
    "    axes[7,i].imshow(aff_mk[:,:,i], cmap=bin_cmap2, alpha=0.5)\n",
    "    \n",
    "    axes[8,i].imshow(mk[:,:,i], cmap=bin_cmap1)\n",
    "    axes[8,i].imshow(aff_mk[:,:,i], cmap=bin_cmap2, alpha=0.5)\n",
    "    \n",
    "plt.show()"
   ]
  },
  {
   "cell_type": "code",
   "execution_count": 38,
   "id": "5bdd6769",
   "metadata": {},
   "outputs": [],
   "source": [
    "monai_aff_mk, monai_aff_matrix = monai_aff(mk)"
   ]
  },
  {
   "cell_type": "code",
   "execution_count": 33,
   "id": "acbe904b",
   "metadata": {},
   "outputs": [
    {
     "data": {
      "text/plain": [
       "<matplotlib.image.AxesImage at 0x7f39d6c63f28>"
      ]
     },
     "execution_count": 33,
     "metadata": {},
     "output_type": "execute_result"
    },
    {
     "data": {
      "image/png": "[encoded data removed]",
      "text/plain": [
       "<Figure size 432x288 with 2 Axes>"
      ]
     },
     "metadata": {
      "needs_background": "light"
     },
     "output_type": "display_data"
    }
   ],
   "source": [
    "_, axes = plt.subplots(1,2)\n",
    "axes[0].imshow(mk[3])\n",
    "axes[1].imshow(monai_aff_mk[3])"
   ]
  },
  {
   "cell_type": "code",
   "execution_count": 29,
   "id": "70138ac5",
   "metadata": {},
   "outputs": [
    {
     "name": "stdout",
     "output_type": "stream",
     "text": [
      "Centroid, Aff centroid\n",
      "tensor([ 7.,  8., 10.]) tensor([ 1.5870, 12.5870, 13.0000])\n"
     ]
    }
   ],
   "source": [
    "# affine rotate mask\n",
    "D,H,W = mk.size()\n",
    "B = 1\n",
    "affine_matrix = (torch.eye(3,4).unsqueeze(0) + torch.randn(1, 3, 4) * 0.5)\n",
    "meshgrid      = F.affine_grid(affine_matrix,torch.Size((B,1,D,H,W)), align_corners=False)\n",
    "aff_mk = F.grid_sample(mk.unsqueeze(0).unsqueeze(0).float(), meshgrid, mode='nearest', align_corners=False).long().squeeze()\n",
    "\n",
    "# get coords\n",
    "def get_aff_coord(coord, meshgrid=meshgrid):\n",
    "    c1,c2,c3 = meshgrid.squeeze()[coord[0], coord[1], coord[2]] *7.5 + 7.5\n",
    "    return c3,c2,c1\n",
    "\n",
    "# coords imin imax jmin jmax kmin kmax\n",
    "i1, i2, j1, j2, k1, k2 = bbox\n",
    "\n",
    "# exclusive\n",
    "i2 -= 1\n",
    "j2 -= 1\n",
    "k2 -= 1\n",
    "\n",
    "coord1 = (i1, j1, k1) #j1: i1,k1. #k1: i1,j1\n",
    "coord2 = (i1, j1, k2) #j1: i1,k2. \n",
    "coord3 = (i1, j2, k1)  #k1: i1,j2\n",
    "coord4 = (i1, j2, k2)\n",
    "coord5 = (i2, j1, k1) #j1: i2,k1. #k1: i2,j1\n",
    "coord6 = (i2, j1, k2) #j1: i2,k2\n",
    "coord7 = (i2, j2, k1) #k1: i2,j2\n",
    "coord8 = (i2, j2, k2)\n",
    "\n",
    "# affine\n",
    "aff_coord1 = get_aff_coord(coord1)\n",
    "aff_coord2 = get_aff_coord(coord2)\n",
    "aff_coord3 = get_aff_coord(coord3)\n",
    "aff_coord4 = get_aff_coord(coord4)\n",
    "aff_coord5 = get_aff_coord(coord5)\n",
    "aff_coord6 = get_aff_coord(coord6)\n",
    "aff_coord7 = get_aff_coord(coord7)\n",
    "aff_coord8 = get_aff_coord(coord8)\n",
    "\n",
    "# diff\n",
    "centroid     = get_centroid(mk)\n",
    "aff_centroid = get_centroid(aff_mk)\n",
    "\n",
    "print(\"Centroid, Aff centroid\")\n",
    "print(centroid, aff_centroid)"
   ]
  },
  {
   "cell_type": "code",
   "execution_count": 124,
   "id": "76e2451b",
   "metadata": {},
   "outputs": [
    {
     "name": "stdout",
     "output_type": "stream",
     "text": [
      "0\n",
      "4\n",
      "1\n",
      "4\n",
      "2\n",
      "5\n",
      "3\n",
      "4\n",
      "4\n",
      "4\n",
      "5\n",
      "5\n",
      "6\n",
      "5\n",
      "7\n",
      "6\n"
     ]
    }
   ],
   "source": [
    "# Gt\n",
    "\n",
    "aff_coords = (aff_coord1, aff_coord2, aff_coord3, aff_coord4, aff_coord5, aff_coord6, aff_coord7, aff_coord8)\n",
    "old_coords = (coord1, coord2, coord3, coord4, coord5, coord6, coord7, coord8)\n",
    "\n",
    "test   = torch.zeros(sz)\n",
    "#test[a:b, c:d, e:f] = 1\n",
    "for i,coord in enumerate(old_coords):\n",
    "    test[coord[0], coord[1], coord[2]] = (i+2)*100\n",
    "    \n",
    "# apply aff\n",
    "aff_test = F.grid_sample(test.unsqueeze(0).unsqueeze(0).float(), meshgrid, mode='nearest', align_corners=False).squeeze()\n",
    "expected_new_coords = []\n",
    "for i in range(8):\n",
    "    print(i)\n",
    "    tried = torch.logical_and(aff_test > (i+1)*100, aff_test <= (i+2)*100).nonzero(as_tuple=False)\n",
    "    print(len(tried))"
   ]
  },
  {
   "cell_type": "code",
   "execution_count": 125,
   "id": "0cc41a17",
   "metadata": {},
   "outputs": [
    {
     "data": {
      "text/plain": [
       "<matplotlib.image.AxesImage at 0x7fb4a8d27400>"
      ]
     },
     "execution_count": 125,
     "metadata": {},
     "output_type": "execute_result"
    },
    {
     "data": {
      "image/png": "[encoded data removed]",
      "text/plain": [
       "<Figure size 432x288 with 2 Axes>"
      ]
     },
     "metadata": {
      "needs_background": "light"
     },
     "output_type": "display_data"
    }
   ],
   "source": [
    "_, axes = plt.subplots(1,2)\n",
    "axes[0].imshow(test[5])\n",
    "axes[1].imshow(aff_test[5])"
   ]
  },
  {
   "cell_type": "code",
   "execution_count": 126,
   "id": "29d9e9a7",
   "metadata": {},
   "outputs": [
    {
     "name": "stdout",
     "output_type": "stream",
     "text": [
      "(tensor(5.9554), tensor(8.9281), tensor(11.2162))\n"
     ]
    },
    {
     "ename": "IndexError",
     "evalue": "list index out of range",
     "output_type": "error",
     "traceback": [
      "\u001b[0;31m---------------------------------------------------------------------------\u001b[0m",
      "\u001b[0;31mIndexError\u001b[0m                                Traceback (most recent call last)",
      "\u001b[0;32m<ipython-input-126-7fb09d443aa9>\u001b[0m in \u001b[0;36m<module>\u001b[0;34m\u001b[0m\n\u001b[1;32m      1\u001b[0m \u001b[0;32mfor\u001b[0m \u001b[0mi\u001b[0m \u001b[0;32min\u001b[0m \u001b[0mrange\u001b[0m\u001b[0;34m(\u001b[0m\u001b[0;36m8\u001b[0m\u001b[0;34m)\u001b[0m\u001b[0;34m:\u001b[0m\u001b[0;34m\u001b[0m\u001b[0;34m\u001b[0m\u001b[0m\n\u001b[1;32m      2\u001b[0m     \u001b[0mprint\u001b[0m\u001b[0;34m(\u001b[0m\u001b[0maff_coords\u001b[0m\u001b[0;34m[\u001b[0m\u001b[0mi\u001b[0m\u001b[0;34m]\u001b[0m\u001b[0;34m)\u001b[0m\u001b[0;34m\u001b[0m\u001b[0;34m\u001b[0m\u001b[0m\n\u001b[0;32m----> 3\u001b[0;31m     \u001b[0mprint\u001b[0m\u001b[0;34m(\u001b[0m\u001b[0mexpected_new_coords\u001b[0m\u001b[0;34m[\u001b[0m\u001b[0mi\u001b[0m\u001b[0;34m]\u001b[0m\u001b[0;34m)\u001b[0m\u001b[0;34m\u001b[0m\u001b[0;34m\u001b[0m\u001b[0m\n\u001b[0m\u001b[1;32m      4\u001b[0m     \u001b[0mprint\u001b[0m\u001b[0;34m(\u001b[0m\u001b[0mold_coords\u001b[0m\u001b[0;34m[\u001b[0m\u001b[0mi\u001b[0m\u001b[0;34m]\u001b[0m\u001b[0;34m)\u001b[0m\u001b[0;34m;\u001b[0m \u001b[0mprint\u001b[0m\u001b[0;34m(\u001b[0m\u001b[0;34m)\u001b[0m\u001b[0;34m\u001b[0m\u001b[0;34m\u001b[0m\u001b[0m\n",
      "\u001b[0;31mIndexError\u001b[0m: list index out of range"
     ]
    }
   ],
   "source": [
    "for i in range(8):\n",
    "    print(aff_coords[i])\n",
    "    print(expected_new_coords[i])\n",
    "    print(old_coords[i]); print()"
   ]
  },
  {
   "cell_type": "code",
   "execution_count": 127,
   "id": "8af8c7bd",
   "metadata": {},
   "outputs": [
    {
     "data": {
      "text/plain": [
       "tensor([[  0.,   0.,   0.,   0.,   0.,   0.,   0.,   0.,   0.,   0.,   0.,   0.,\n",
       "           0.,   0.,   0.,   0.],\n",
       "        [  0.,   0.,   0.,   0.,   0.,   0.,   0.,   0.,   0.,   0.,   0.,   0.,\n",
       "           0.,   0.,   0.,   0.],\n",
       "        [  0.,   0.,   0.,   0.,   0.,   0.,   0.,   0.,   0.,   0.,   0.,   0.,\n",
       "           0.,   0.,   0.,   0.],\n",
       "        [  0.,   0.,   0.,   0.,   0.,   0.,   0.,   0.,   0.,   0.,   0.,   0.,\n",
       "           0.,   0.,   0.,   0.],\n",
       "        [  0.,   0.,   0.,   0.,   0.,   0.,   0.,   0.,   0.,   0.,   0.,   0.,\n",
       "           0.,   0.,   0.,   0.],\n",
       "        [  0.,   0.,   0.,   0.,   0.,   0.,   0.,   0.,   0.,   0.,   0.,   0.,\n",
       "           0.,   0.,   0.,   0.],\n",
       "        [  0.,   0.,   0.,   0.,   0.,   0.,   0.,   0.,   0.,   0.,   0.,   0.,\n",
       "           0.,   0.,   0.,   0.],\n",
       "        [  0.,   0.,   0.,   0.,   0.,   0.,   0.,   0.,   0., 200.,   0., 300.,\n",
       "           0.,   0.,   0.,   0.],\n",
       "        [  0.,   0.,   0.,   0.,   0.,   0.,   0.,   0.,   0.,   0.,   0.,   0.,\n",
       "           0.,   0.,   0.,   0.],\n",
       "        [  0.,   0.,   0.,   0.,   0.,   0.,   0.,   0.,   0., 400.,   0., 500.,\n",
       "           0.,   0.,   0.,   0.],\n",
       "        [  0.,   0.,   0.,   0.,   0.,   0.,   0.,   0.,   0.,   0.,   0.,   0.,\n",
       "           0.,   0.,   0.,   0.],\n",
       "        [  0.,   0.,   0.,   0.,   0.,   0.,   0.,   0.,   0.,   0.,   0.,   0.,\n",
       "           0.,   0.,   0.,   0.],\n",
       "        [  0.,   0.,   0.,   0.,   0.,   0.,   0.,   0.,   0.,   0.,   0.,   0.,\n",
       "           0.,   0.,   0.,   0.],\n",
       "        [  0.,   0.,   0.,   0.,   0.,   0.,   0.,   0.,   0.,   0.,   0.,   0.,\n",
       "           0.,   0.,   0.,   0.],\n",
       "        [  0.,   0.,   0.,   0.,   0.,   0.,   0.,   0.,   0.,   0.,   0.,   0.,\n",
       "           0.,   0.,   0.,   0.],\n",
       "        [  0.,   0.,   0.,   0.,   0.,   0.,   0.,   0.,   0.,   0.,   0.,   0.,\n",
       "           0.,   0.,   0.,   0.]])"
      ]
     },
     "execution_count": 127,
     "metadata": {},
     "output_type": "execute_result"
    }
   ],
   "source": [
    "test[5]"
   ]
  },
  {
   "cell_type": "code",
   "execution_count": 128,
   "id": "6da797ec",
   "metadata": {},
   "outputs": [
    {
     "data": {
      "text/plain": [
       "tensor([[  0.,   0.,   0.,   0.,   0.,   0.,   0.,   0.,   0.,   0.,   0.,   0.,\n",
       "           0.,   0.,   0.,   0.],\n",
       "        [  0.,   0.,   0.,   0.,   0.,   0.,   0.,   0.,   0.,   0.,   0.,   0.,\n",
       "           0., 800.,   0.,   0.],\n",
       "        [  0.,   0.,   0.,   0.,   0.,   0.,   0.,   0.,   0.,   0.,   0.,   0.,\n",
       "         800.,   0.,   0.,   0.],\n",
       "        [  0.,   0.,   0.,   0.,   0.,   0.,   0.,   0.,   0.,   0.,   0.,   0.,\n",
       "           0.,   0.,   0.,   0.],\n",
       "        [  0.,   0.,   0.,   0.,   0.,   0.,   0.,   0.,   0.,   0.,   0.,   0.,\n",
       "           0.,   0.,   0.,   0.],\n",
       "        [  0.,   0.,   0.,   0.,   0.,   0.,   0.,   0.,   0.,   0.,   0.,   0.,\n",
       "           0.,   0.,   0.,   0.],\n",
       "        [  0.,   0.,   0.,   0.,   0.,   0.,   0.,   0.,   0.,   0.,   0.,   0.,\n",
       "           0.,   0.,   0.,   0.],\n",
       "        [  0.,   0.,   0.,   0.,   0.,   0.,   0.,   0.,   0.,   0.,   0.,   0.,\n",
       "           0.,   0.,   0.,   0.],\n",
       "        [  0.,   0.,   0.,   0.,   0.,   0.,   0., 500.,   0.,   0.,   0.,   0.,\n",
       "           0.,   0.,   0.,   0.],\n",
       "        [  0.,   0.,   0.,   0.,   0.,   0.,   0.,   0.,   0.,   0.,   0.,   0.,\n",
       "           0.,   0.,   0.,   0.],\n",
       "        [  0.,   0.,   0.,   0.,   0.,   0.,   0.,   0.,   0.,   0.,   0.,   0.,\n",
       "           0.,   0.,   0.,   0.],\n",
       "        [  0.,   0.,   0.,   0.,   0.,   0.,   0.,   0.,   0.,   0.,   0.,   0.,\n",
       "           0.,   0.,   0.,   0.],\n",
       "        [  0.,   0.,   0.,   0.,   0.,   0.,   0.,   0.,   0.,   0.,   0.,   0.,\n",
       "           0.,   0.,   0.,   0.],\n",
       "        [  0.,   0.,   0.,   0.,   0.,   0.,   0.,   0.,   0.,   0.,   0.,   0.,\n",
       "           0.,   0.,   0.,   0.],\n",
       "        [  0.,   0.,   0.,   0.,   0.,   0.,   0.,   0.,   0.,   0.,   0.,   0.,\n",
       "           0.,   0.,   0.,   0.],\n",
       "        [  0.,   0.,   0.,   0.,   0.,   0.,   0.,   0.,   0.,   0.,   0.,   0.,\n",
       "           0.,   0.,   0.,   0.]])"
      ]
     },
     "execution_count": 128,
     "metadata": {},
     "output_type": "execute_result"
    }
   ],
   "source": [
    "aff_test[5]"
   ]
  },
  {
   "cell_type": "code",
   "execution_count": 110,
   "id": "15fb3c97",
   "metadata": {},
   "outputs": [
    {
     "data": {
      "text/plain": [
       "(tensor(4.8611), tensor(9.1021), tensor(12.8964))"
      ]
     },
     "execution_count": 110,
     "metadata": {},
     "output_type": "execute_result"
    }
   ],
   "source": [
    "aff_coord3 # i = 4 => between 5 and 6"
   ]
  },
  {
   "cell_type": "code",
   "execution_count": 107,
   "id": "857f561c",
   "metadata": {},
   "outputs": [
    {
     "data": {
      "text/plain": [
       "tensor([[0, 0, 0, 0, 0, 0, 0, 0, 0, 0, 0, 0, 0, 0, 0, 0],\n",
       "        [0, 0, 0, 0, 0, 0, 0, 0, 0, 0, 0, 0, 0, 0, 0, 0],\n",
       "        [0, 0, 0, 0, 0, 0, 0, 0, 0, 0, 0, 1, 1, 0, 0, 0],\n",
       "        [0, 0, 0, 0, 0, 0, 0, 0, 0, 0, 4, 3, 1, 3, 0, 0],\n",
       "        [0, 0, 0, 0, 0, 0, 0, 0, 0, 2, 1, 1, 2, 0, 0, 0],\n",
       "        [0, 0, 0, 0, 0, 0, 0, 0, 0, 0, 0, 0, 0, 0, 0, 0],\n",
       "        [0, 0, 0, 0, 0, 0, 0, 0, 0, 0, 0, 0, 0, 0, 0, 0],\n",
       "        [0, 0, 0, 0, 0, 0, 0, 0, 0, 0, 0, 0, 0, 0, 0, 0],\n",
       "        [0, 0, 0, 0, 0, 0, 0, 0, 0, 0, 0, 0, 0, 0, 0, 0],\n",
       "        [0, 0, 0, 0, 0, 0, 0, 0, 0, 0, 0, 0, 0, 0, 0, 0],\n",
       "        [0, 1, 0, 0, 0, 0, 0, 0, 0, 0, 0, 0, 0, 0, 0, 0],\n",
       "        [0, 0, 0, 0, 0, 0, 0, 0, 0, 0, 0, 0, 0, 0, 0, 0],\n",
       "        [0, 0, 0, 0, 0, 0, 0, 0, 0, 0, 0, 0, 0, 0, 0, 0],\n",
       "        [0, 0, 0, 0, 0, 0, 0, 0, 0, 0, 0, 0, 0, 0, 0, 0],\n",
       "        [0, 0, 0, 0, 0, 0, 0, 0, 0, 0, 0, 0, 0, 0, 0, 0],\n",
       "        [0, 0, 0, 0, 0, 0, 0, 0, 0, 0, 0, 0, 0, 0, 0, 0]])"
      ]
     },
     "execution_count": 107,
     "metadata": {},
     "output_type": "execute_result"
    }
   ],
   "source": [
    "aff_test[6].long()"
   ]
  },
  {
   "cell_type": "code",
   "execution_count": 26,
   "id": "9d094510",
   "metadata": {},
   "outputs": [
    {
     "data": {
      "text/plain": [
       "[tensor([5, 6, 9]),\n",
       " tensor([ 5,  6, 11]),\n",
       " tensor([5, 8, 9]),\n",
       " tensor([ 5,  8, 11]),\n",
       " tensor([9, 7, 9]),\n",
       " tensor([ 9,  7, 11]),\n",
       " tensor([9, 9, 9])]"
      ]
     },
     "execution_count": 26,
     "metadata": {},
     "output_type": "execute_result"
    }
   ],
   "source": [
    "expected_new_coords"
   ]
  },
  {
   "cell_type": "code",
   "execution_count": 20,
   "id": "be189c5d",
   "metadata": {},
   "outputs": [
    {
     "data": {
      "text/plain": [
       "((5, 7, 9),\n",
       " (5, 7, 11),\n",
       " (5, 9, 9),\n",
       " (5, 9, 11),\n",
       " (9, 7, 9),\n",
       " (9, 7, 11),\n",
       " (9, 9, 9),\n",
       " (9, 9, 11))"
      ]
     },
     "execution_count": 20,
     "metadata": {},
     "output_type": "execute_result"
    }
   ],
   "source": [
    "old_coords"
   ]
  },
  {
   "cell_type": "code",
   "execution_count": 83,
   "id": "b048dcf7",
   "metadata": {},
   "outputs": [],
   "source": [
    "# Plot"
   ]
  },
  {
   "cell_type": "code",
   "execution_count": 108,
   "id": "3d008390",
   "metadata": {},
   "outputs": [
    {
     "data": {
      "image/png": "[encoded data removed]",
      "text/plain": [
       "<Figure size 864x216 with 18 Axes>"
      ]
     },
     "metadata": {
      "needs_background": "light"
     },
     "output_type": "display_data"
    }
   ],
   "source": [
    "_, ax = plt.subplots(2,9, figsize=(12,3))\n",
    "\n",
    "mid0 = (a+b)//2\n",
    "mid1 = (c+d)//2\n",
    "mid2 = (e+f)//2\n",
    "\n",
    "# row 1 = original\n",
    "\n",
    "# middle slices + centroid in red\n",
    "ax[0, 0].imshow(mk[mid0,:,:]); ax[0,0].plot(centroid[2], centroid[1], 'ro')\n",
    "ax[0, 1].imshow(mk[:,mid1,:]); ax[0,1].plot(centroid[2], centroid[0], 'ro')\n",
    "ax[0, 2].imshow(mk[:,:,mid2]); ax[0,2].plot(centroid[1], centroid[0], 'ro')\n",
    "\n",
    "# min edge + centroid in red + 4 lower coords in green\n",
    "ax[0, 3].imshow(mk[a,:,:]);    ax[0,3].plot(centroid[2], centroid[1], 'ro')\n",
    "ax[0, 4].imshow(mk[:,c,:]);    ax[0,4].plot(centroid[2], centroid[0], 'ro')\n",
    "ax[0, 5].imshow(mk[:,:,e]);    ax[0,5].plot(centroid[1], centroid[0], 'ro')\n",
    "\n",
    "# axis 0: j1,k1, j1,k2, j2,k1, j2,k2\n",
    "for coord in (coord1, coord2, coord3, coord4): ax[0,3].plot(coord[2], coord[1], 'go')\n",
    "\n",
    "# axis 1: i1,k1, i1,k2, i2,k1, i2,k2\n",
    "for coord in (coord1, coord2, coord5, coord6): ax[0,4].plot(coord[2], coord[0], 'go')\n",
    "\n",
    "# axis 2: i1,j1 i1,j2 i2,j1 i2j2\n",
    "for coord in (coord1, coord3, coord5, coord7): ax[0,5].plot(coord[1], coord[0], 'go')\n",
    "    \n",
    "# max edge\n",
    "ax[0, 6].imshow(mk[b-1,:,:]); ax[0,6].plot(centroid[2], centroid[1], 'ro')\n",
    "ax[0, 7].imshow(mk[:,d-1,:]); ax[0,7].plot(centroid[2], centroid[0], 'ro')\n",
    "ax[0, 8].imshow(mk[:,:,f-1]); ax[0,8].plot(centroid[1], centroid[0], 'ro')\n",
    "\n",
    "# plot coords max edge\n",
    "for coord in (coord5, coord6, coord7, coord8): ax[0,6].plot(coord[2], coord[1], 'go')\n",
    "for coord in (coord3, coord4, coord7, coord8): ax[0,7].plot(coord[2], coord[0], 'go')\n",
    "for coord in (coord2, coord4, coord6, coord8): ax[0,8].plot(coord[1], coord[0], 'go')\n",
    "    \n",
    "    \n",
    "# row 2 = rotated\n",
    "ax[1, 0].imshow(aff_mk[mid0,:,:]); ax[1,0].plot(aff_centroid[2], aff_centroid[1], 'ro')\n",
    "ax[1, 1].imshow(aff_mk[:,mid1,:]); ax[1,1].plot(aff_centroid[2], aff_centroid[0], 'ro')\n",
    "ax[1, 2].imshow(aff_mk[:,:,mid2]); ax[1,2].plot(aff_centroid[1], aff_centroid[0], 'ro')\n",
    "\n",
    "# min edge\n",
    "ax[1, 3].imshow(aff_mk[a,:,:]);    ax[1,3].plot(aff_centroid[2], aff_centroid[1], 'ro')\n",
    "ax[1, 4].imshow(aff_mk[:,c,:]);    ax[1,4].plot(aff_centroid[2], aff_centroid[0], 'ro')\n",
    "ax[1, 5].imshow(aff_mk[:,:,e]);    ax[1,5].plot(aff_centroid[1], aff_centroid[0], 'ro')\n",
    "\n",
    "# max edge\n",
    "ax[1, 6].imshow(aff_mk[b-1,:,:]); ax[0,6].plot(aff_centroid[2], aff_centroid[1], 'ro')\n",
    "ax[1, 7].imshow(aff_mk[:,d-1,:]); ax[0,7].plot(aff_centroid[2], aff_centroid[0], 'ro')\n",
    "ax[1, 8].imshow(aff_mk[:,:,f-1]); ax[0,8].plot(aff_centroid[1], aff_centroid[0], 'ro')\n",
    "\n",
    "# plot coords min edge\n",
    "for coord in (aff_coord1, aff_coord2, aff_coord3, aff_coord4): ax[1,3].plot(coord[2], coord[1], 'go')\n",
    "for coord in (aff_coord1, aff_coord2, aff_coord5, aff_coord6): ax[1,4].plot(coord[2], coord[0], 'go')\n",
    "for coord in (aff_coord1, aff_coord3, aff_coord5, aff_coord7): ax[1,5].plot(coord[1], coord[0], 'go')\n",
    "    \n",
    "# plot coords max edge\n",
    "for coord in (aff_coord5, aff_coord6, aff_coord7, aff_coord8): ax[1,6].plot(coord[2], coord[1], 'go')\n",
    "for coord in (aff_coord3, aff_coord4, aff_coord7, aff_coord8): ax[1,7].plot(coord[2], coord[0], 'go')\n",
    "for coord in (aff_coord2, aff_coord4, aff_coord6, aff_coord8): ax[1,8].plot(coord[1], coord[0], 'go')\n",
    "    "
   ]
  },
  {
   "cell_type": "code",
   "execution_count": 95,
   "id": "d2eb10fc",
   "metadata": {},
   "outputs": [
    {
     "data": {
      "text/plain": [
       "(5, 10, 7, 10, 9, 12)"
      ]
     },
     "execution_count": 95,
     "metadata": {},
     "output_type": "execute_result"
    }
   ],
   "source": [
    "bbox"
   ]
  },
  {
   "cell_type": "code",
   "execution_count": 106,
   "id": "804035ea",
   "metadata": {},
   "outputs": [
    {
     "data": {
      "image/png": "[encoded data removed]",
      "text/plain": [
       "<Figure size 432x288 with 16 Axes>"
      ]
     },
     "metadata": {
      "needs_background": "light"
     },
     "output_type": "display_data"
    }
   ],
   "source": [
    "_, axes = plt.subplots(4,4)\n",
    "row = 0\n",
    "col = 0\n",
    "for i in range(16):\n",
    "    axes[row,col].imshow(aff_mk[i,:,:])\n",
    "    col += 1\n",
    "    if col % 4 == 0:\n",
    "        row += 1\n",
    "        col = 0"
   ]
  },
  {
   "cell_type": "code",
   "execution_count": 107,
   "id": "038e0161",
   "metadata": {},
   "outputs": [
    {
     "data": {
      "image/png": "[encoded data removed]",
      "text/plain": [
       "<Figure size 432x288 with 16 Axes>"
      ]
     },
     "metadata": {
      "needs_background": "light"
     },
     "output_type": "display_data"
    }
   ],
   "source": [
    "_, axes = plt.subplots(4,4)\n",
    "row = 0\n",
    "col = 0\n",
    "for i in range(16):\n",
    "    axes[row,col].imshow(aff_mk[:,i,:])\n",
    "    col += 1\n",
    "    if col % 4 == 0:\n",
    "        row += 1\n",
    "        col = 0"
   ]
  },
  {
   "cell_type": "code",
   "execution_count": 105,
   "id": "b197a337",
   "metadata": {},
   "outputs": [
    {
     "data": {
      "image/png": "[encoded data removed]",
      "text/plain": [
       "<Figure size 432x288 with 16 Axes>"
      ]
     },
     "metadata": {
      "needs_background": "light"
     },
     "output_type": "display_data"
    }
   ],
   "source": [
    "_, axes = plt.subplots(4,4)\n",
    "row = 0\n",
    "col = 0\n",
    "for i in range(16):\n",
    "    axes[row,col].imshow(aff_mk[:,:,i])\n",
    "    col += 1\n",
    "    if col % 4 == 0:\n",
    "        row += 1\n",
    "        col = 0"
   ]
  },
  {
   "cell_type": "code",
   "execution_count": 91,
   "id": "2f0f83ec",
   "metadata": {},
   "outputs": [
    {
     "data": {
      "text/plain": [
       "tensor([8.8017, 7.1642, 6.1193])"
      ]
     },
     "execution_count": 91,
     "metadata": {},
     "output_type": "execute_result"
    }
   ],
   "source": [
    "torch.tensor([5,7,9])*8 + 8\n",
    "(torch.tensor([78.4133, 65.3135, 56.9544])-8)/8"
   ]
  },
  {
   "cell_type": "code",
   "execution_count": 92,
   "id": "a50f20c1",
   "metadata": {},
   "outputs": [
    {
     "name": "stdout",
     "output_type": "stream",
     "text": [
      "0 (5, 7, 9) tensor([8.8017, 7.1642, 6.1193])\n",
      "1 (5, 7, 12) tensor([11.9178,  7.1991,  6.1883])\n",
      "2 (5, 10, 9) tensor([ 8.6205, 10.0649,  5.9522])\n",
      "3 (5, 10, 12) tensor([11.7366, 10.0998,  6.0212])\n",
      "4 (10, 7, 9) tensor([ 8.7707,  6.7928, 10.7820])\n",
      "5 (10, 7, 12) tensor([11.8868,  6.8277, 10.8510])\n",
      "6 (10, 10, 9) tensor([ 8.5895,  9.6935, 10.6149])\n",
      "7 (10, 10, 12) tensor([11.7056,  9.7284, 10.6839])\n"
     ]
    }
   ],
   "source": [
    "aff_coords = (aff_coord1, aff_coord2, aff_coord3, aff_coord4, aff_coord5, aff_coord6, aff_coord7, aff_coord8)\n",
    "old_coords = (coord1, coord2, coord3, coord4, coord5, coord6, coord7, coord8)\n",
    "for i in range(8):\n",
    "    print(i, old_coords[i], aff_coords[i])"
   ]
  },
  {
   "cell_type": "markdown",
   "id": "a481506f",
   "metadata": {},
   "source": [
    "# Transform"
   ]
  },
  {
   "cell_type": "code",
   "execution_count": null,
   "id": "2c359b34",
   "metadata": {},
   "outputs": [],
   "source": []
  },
  {
   "cell_type": "code",
   "execution_count": null,
   "id": "8d0b00f3",
   "metadata": {},
   "outputs": [],
   "source": [
    "class CentroidLoss(nn.Module):\n",
    "    def __init__(self):\n",
    "        super(CentroidLoss, self).__init__()\n",
    "        \n",
    "    def forward(self, rendered_silhouette, original_silhouette):\n",
    "        rendered_sil_indices = torch.nonzero(rendered_silhouette)\n",
    "        rendered_sil_centroid = torch.Tensor.float(rendered_sil_indices).mean(dim=0)\n",
    "\n",
    "        original_sil_indices = torch.nonzero(original_silhouette)\n",
    "        original_sil_centroid = torch.Tensor.float(original_sil_indices).mean(dim=0)\n",
    "\n",
    "        centroid_dist = ((rendered_sil_centroid[0] - original_sil_centroid[0]) ** 2 \\\n",
    "                        + (rendered_sil_centroid[0] - original_sil_centroid[0]) ** 2 ) \\\n",
    "                        / (rendered_silhouette.shape[0]*rendered_silhouette.shape[1])\n",
    "\n",
    "        return centroid_dist\n",
    "    \n",
    "    "
   ]
  },
  {
   "cell_type": "code",
   "execution_count": null,
   "id": "b7caf0ce",
   "metadata": {},
   "outputs": [],
   "source": [
    "# comp"
   ]
  }
 ],
 "metadata": {
  "kernelspec": {
   "display_name": "Python 3",
   "language": "python",
   "name": "python3"
  },
  "language_info": {
   "codemirror_mode": {
    "name": "ipython",
    "version": 3
   },
   "file_extension": ".py",
   "mimetype": "text/x-python",
   "name": "python",
   "nbconvert_exporter": "python",
   "pygments_lexer": "ipython3",
   "version": "3.6.9"
  }
 },
 "nbformat": 4,
 "nbformat_minor": 5
}
