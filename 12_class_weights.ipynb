{
 "cells": [
  {
   "cell_type": "code",
   "execution_count": 2,
   "id": "13eacd57",
   "metadata": {},
   "outputs": [],
   "source": [
    "# imports\n",
    "from transforms import AddChannel, Iso, PadSz\n",
    "\n",
    "# Utilities\n",
    "import os\n",
    "import time\n",
    "import pickle\n",
    "from pathlib import Path\n",
    "\n",
    "# Fastai\n",
    "from fastai import *\n",
    "from fastai.torch_basics import *\n",
    "from fastai.basics import *\n",
    "\n",
    "# PyTorch\n",
    "from torchvision.models.video import r3d_18\n",
    "from fastai.callback.all import SaveModelCallback\n",
    "from torch import nn\n",
    "\n",
    "# 3D extension to FastAI\n",
    "# from faimed3d.all import *\n",
    "\n",
    "# Input IO\n",
    "import SimpleITK as sitk\n",
    "import meshio\n",
    "\n",
    "# Numpy and Pandas\n",
    "import numpy as np\n",
    "import pandas as pd\n",
    "from pandas import DataFrame as DF\n",
    "\n",
    "# Helper functions\n",
    "from helpers.preprocess import get_data_dict, paths2objs, folder2objs, seg2mask, mask2bbox, print_bbox, get_bbox_size, print_bbox_size\n",
    "from helpers.general import sitk2np, np2sitk, print_sitk_info, round_tuple, lrange, lmap, get_roi_range, numbers2groups\n",
    "from helpers.viz import viz_axis"
   ]
  },
  {
   "cell_type": "code",
   "execution_count": 3,
   "id": "3cd428f8",
   "metadata": {},
   "outputs": [
    {
     "name": "stdout",
     "output_type": "stream",
     "text": [
      "Folders in train path: 50155-50212, 50313-50372, 50213-50312, 50373-50453, 50002-50153\n",
      "Total 335 items in dataset.\n"
     ]
    }
   ],
   "source": [
    "# Get path to my data on 4 TB HD\n",
    "hd        = \"/gpfs/data/oermannlab/private_data/DeepPit/PitMRdata\"\n",
    "train_src = hd + \"/samir_labels\"\n",
    "\n",
    "# print\n",
    "print(\"Folders in train path: \", end=\"\"); print(*os.listdir(train_src), sep=\", \")\n",
    "\n",
    "# get data\n",
    "data = {}\n",
    "folders = os.listdir(train_src)\n",
    "for folder in folders: data.update(get_data_dict(f\"{train_src}/{folder}\"))\n",
    "\n",
    "# all items\n",
    "items = list(data.values())\n",
    "\n",
    "\n",
    "# Create (MR path, Segm path) item from MR path\n",
    "def get_folder_name(s):\n",
    "    start = s.index(\"samir_labels/\")\n",
    "    s = s[start + len(\"samir_labels/50373-50453/\"):]\n",
    "    return s[0:s.index(\"/\")]\n",
    "\n",
    "# print\n",
    "print(f\"Total {len(items)} items in dataset.\")"
   ]
  },
  {
   "cell_type": "code",
   "execution_count": 16,
   "id": "ff0330a4",
   "metadata": {},
   "outputs": [
    {
     "name": "stdout",
     "output_type": "stream",
     "text": [
      "/gpfs/data/oermannlab/private_data/DeepPit/PitMRdata/samir_labels/50155-50212/50201/seg.pt\n",
      "0.0014727392862009447\n"
     ]
    }
   ],
   "source": [
    "segm_path = items[0][1]\n",
    "fn = f\"{str(Path(segm_path).parent)}/seg.pt\"\n",
    "print(fn)\n",
    "a = torch.load(f\"{str(Path(segm_path).parent)}/seg.pt\")\n",
    "n_total = torch.numel(a)\n",
    "n_segm = torch.count_nonzero(a)\n",
    "print(float(n_segm)/n_total)"
   ]
  },
  {
   "cell_type": "code",
   "execution_count": 14,
   "id": "06ff3a23",
   "metadata": {},
   "outputs": [
    {
     "data": {
      "text/plain": [
       "24"
      ]
     },
     "execution_count": 14,
     "metadata": {},
     "output_type": "execute_result"
    }
   ],
   "source": [
    "torch.numel(torch.rand((2,3,4)))"
   ]
  },
  {
   "cell_type": "code",
   "execution_count": 13,
   "id": "df13a90e",
   "metadata": {},
   "outputs": [
    {
     "ename": "RuntimeError",
     "evalue": "\"bincount_cpu\" not implemented for 'Bool'",
     "output_type": "error",
     "traceback": [
      "\u001b[0;31m---------------------------------------------------------------------------\u001b[0m",
      "\u001b[0;31mRuntimeError\u001b[0m                              Traceback (most recent call last)",
      "\u001b[0;32m<ipython-input-13-0b89a7ddd6b8>\u001b[0m in \u001b[0;36m<module>\u001b[0;34m\u001b[0m\n\u001b[0;32m----> 1\u001b[0;31m \u001b[0mtorch\u001b[0m\u001b[0;34m.\u001b[0m\u001b[0mbincount\u001b[0m\u001b[0;34m(\u001b[0m\u001b[0ma\u001b[0m\u001b[0;34m)\u001b[0m\u001b[0;34m\u001b[0m\u001b[0;34m\u001b[0m\u001b[0m\n\u001b[0m",
      "\u001b[0;31mRuntimeError\u001b[0m: \"bincount_cpu\" not implemented for 'Bool'"
     ]
    }
   ],
   "source": [
    "torch.bincount(a)"
   ]
  },
  {
   "cell_type": "code",
   "execution_count": 17,
   "id": "923ecdf8",
   "metadata": {},
   "outputs": [
    {
     "name": "stdout",
     "output_type": "stream",
     "text": [
      "tensor(0.0019)\n"
     ]
    },
    {
     "ename": "NameError",
     "evalue": "name 'unique' is not defined",
     "output_type": "error",
     "traceback": [
      "\u001b[0;31m---------------------------------------------------------------------------\u001b[0m",
      "\u001b[0;31mNameError\u001b[0m                                 Traceback (most recent call last)",
      "\u001b[0;32m<ipython-input-17-6276ac2a322c>\u001b[0m in \u001b[0;36m<module>\u001b[0;34m\u001b[0m\n\u001b[1;32m     14\u001b[0m \u001b[0;34m\u001b[0m\u001b[0m\n\u001b[1;32m     15\u001b[0m \u001b[0melapsed\u001b[0m \u001b[0;34m=\u001b[0m \u001b[0mtime\u001b[0m\u001b[0;34m.\u001b[0m\u001b[0mtime\u001b[0m\u001b[0;34m(\u001b[0m\u001b[0;34m)\u001b[0m \u001b[0;34m-\u001b[0m \u001b[0mstart\u001b[0m\u001b[0;34m\u001b[0m\u001b[0;34m\u001b[0m\u001b[0m\n\u001b[0;32m---> 16\u001b[0;31m \u001b[0mprint\u001b[0m\u001b[0;34m(\u001b[0m\u001b[0;34mf\"Elapsed: {elapsed} s for {len(unique)} items.\"\u001b[0m\u001b[0;34m)\u001b[0m\u001b[0;34m\u001b[0m\u001b[0;34m\u001b[0m\u001b[0m\n\u001b[0m",
      "\u001b[0;31mNameError\u001b[0m: name 'unique' is not defined"
     ]
    }
   ],
   "source": [
    "start = time.time()\n",
    "n_total = 0\n",
    "n_segm  = 0\n",
    "\n",
    "for _,segm_path in items:\n",
    "    a = torch.load(f\"{str(Path(segm_path).parent)}/seg.pt\")\n",
    "    n_total += torch.numel(a)\n",
    "    n_segm  += torch.count_nonzero(a)\n",
    "        \n",
    "class_weights = 1.0 * n_segm/n_total\n",
    "torch.save(class_weights, \"saved_metadata/class_weights.pt\")\n",
    "\n",
    "print(class_weights)\n",
    "\n",
    "elapsed = time.time() - start\n",
    "print(f\"Elapsed: {elapsed} s for {len(items)} items.\")"
   ]
  },
  {
   "cell_type": "code",
   "execution_count": 18,
   "id": "21909260",
   "metadata": {},
   "outputs": [],
   "source": [
    "class_weights = torch.load(\"saved_metadata/class_weights.pt\")"
   ]
  },
  {
   "cell_type": "code",
   "execution_count": 19,
   "id": "236d18ed",
   "metadata": {},
   "outputs": [
    {
     "data": {
      "text/plain": [
       "tensor(0.0019)"
      ]
     },
     "execution_count": 19,
     "metadata": {},
     "output_type": "execute_result"
    }
   ],
   "source": [
    "class_weights"
   ]
  },
  {
   "cell_type": "code",
   "execution_count": null,
   "id": "bb895676",
   "metadata": {},
   "outputs": [],
   "source": []
  }
 ],
 "metadata": {
  "kernelspec": {
   "display_name": "Python 3",
   "language": "python",
   "name": "python3"
  },
  "language_info": {
   "codemirror_mode": {
    "name": "ipython",
    "version": 3
   },
   "file_extension": ".py",
   "mimetype": "text/x-python",
   "name": "python",
   "nbconvert_exporter": "python",
   "pygments_lexer": "ipython3",
   "version": "3.8.10"
  }
 },
 "nbformat": 4,
 "nbformat_minor": 5
}
