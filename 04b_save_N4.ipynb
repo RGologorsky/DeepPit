{
 "cells": [
  {
   "cell_type": "markdown",
   "id": "705a6225",
   "metadata": {},
   "source": [
    "# Goal\n",
    "\n",
    "Save N4 bias field correction"
   ]
  },
  {
   "cell_type": "markdown",
   "id": "dec891cc",
   "metadata": {},
   "source": [
    "# Imports"
   ]
  },
  {
   "cell_type": "code",
   "execution_count": 1,
   "id": "36327f12",
   "metadata": {},
   "outputs": [],
   "source": [
    "# NYU\n",
    "code_src    = \"/gpfs/home/gologr01\"\n",
    "data_src    = \"/gpfs/data/oermannlab/private_data/DeepPit\""
   ]
  },
  {
   "cell_type": "code",
   "execution_count": 2,
   "id": "5b362b7e",
   "metadata": {},
   "outputs": [],
   "source": [
    "# UMich \n",
    "# code src: \"/home/labcomputer/Desktop/Rachel\"\n",
    "# data src: \"../../../../..//media/labcomputer/e33f6fe0-5ede-4be4-b1f2-5168b7903c7a/home/rachel/\""
   ]
  },
  {
   "cell_type": "code",
   "execution_count": 3,
   "id": "bc7ab87c",
   "metadata": {},
   "outputs": [
    {
     "name": "stdout",
     "output_type": "stream",
     "text": [
      "Folders in dset src: ABVIB_49_235.zip, AIBL_2-263.zip, ICMB, ABVIB (1).zip, central.xnat.org, ADNI, PPMI, Oasis_long, samir_labels, ACRIN-FMISO-Brain, LGG-1p19qDeletion, REMBRANDT, ICMB_1005-1297.zip, AIBL, CPTAC-GBM, PPMI_3107-3326.zip, ADNI1_002_0023.zip, TCGA-LGG, ABVIB, ABIDE, AIBL.zip\n"
     ]
    }
   ],
   "source": [
    "import os\n",
    "\n",
    "# Paths to (1) code (2) data (3) saved models (4) saved metadata\n",
    "deepPit_src = f\"{code_src}/DeepPit\"\n",
    "obelisk_src = f\"{code_src}/OBELISK\"\n",
    "\n",
    "# saved models, dset metadata\n",
    "model_src  = f\"{data_src}/saved_models\"\n",
    "dsetmd_src = f\"{data_src}/saved_dset_metadata\"\n",
    "\n",
    "# dsets\n",
    "dsets_src    = f\"{data_src}/PitMRdata\"\n",
    "\n",
    "# key,val = dset_name, path to top level dir\n",
    "dset_dict = {\n",
    "    \"ABIDE\"                  : f\"{dsets_src}/ABIDE\",\n",
    "    \"ABVIB\"                  : f\"{dsets_src}/ABVIB/ABVIB\",\n",
    "    \"ADNI1_Complete_1Yr_1.5T\": f\"{dsets_src}/ADNI/ADNI1_Complete_1Yr_1.5T/ADNI\",\n",
    "    \"AIBL\"                   : f\"{dsets_src}/AIBL/AIBL\",\n",
    "    \"ICMB\"                   : f\"{dsets_src}/ICMB/ICBM\",\n",
    "    \"PPMI\"                   : f\"{dsets_src}/PPMI/PPMI\",\n",
    "}\n",
    "\n",
    "# print\n",
    "print(\"Folders in dset src: \", end=\"\"); print(*os.listdir(dsets_src), sep=\", \")"
   ]
  },
  {
   "cell_type": "code",
   "execution_count": 4,
   "id": "0cc19f13",
   "metadata": {},
   "outputs": [],
   "source": [
    "# imports\n",
    "\n",
    "# Utilities\n",
    "import os\n",
    "import sys\n",
    "import time\n",
    "import glob\n",
    "import pickle\n",
    "from pathlib import Path\n",
    "# sys.path.append('/gpfs/home/gologr01/DeepPit')\n",
    "# sys.path.append('/gpfs/home/gologr01/OBELISK')\n",
    "\n",
    "# Numpy torch pandas\n",
    "import torch\n",
    "\n",
    "# imports\n",
    "import SimpleITK as sitk\n",
    "import meshio\n",
    "from helpers.preprocess import seg2mask, get_data_dict"
   ]
  },
  {
   "cell_type": "markdown",
   "id": "f5aaa82a",
   "metadata": {},
   "source": [
    "# MR data"
   ]
  },
  {
   "cell_type": "code",
   "execution_count": 96,
   "id": "c55377f8",
   "metadata": {},
   "outputs": [],
   "source": [
    "fnames = []\n",
    "for dset_name in dset_dict.keys(): # # (\"AIBL\", \"ABVIB\", \"ICMB\", \"PPMI\"):\n",
    "    dset_src  = dset_dict[dset_name]\n",
    "    with open(f\"{dsetmd_src}/{dset_name}_fnames.txt\", \"rb\") as f:\n",
    "        fnames += pickle.load(f)"
   ]
  },
  {
   "cell_type": "code",
   "execution_count": 97,
   "id": "f39be2ca",
   "metadata": {},
   "outputs": [
    {
     "name": "stdout",
     "output_type": "stream",
     "text": [
      "6862\n"
     ]
    }
   ],
   "source": [
    "# filter ._ prefix\n",
    "\n",
    "fnames = [f for f in fnames if not f.startswith(\"._\")]\n",
    "print(len(fnames))"
   ]
  },
  {
   "cell_type": "code",
   "execution_count": 98,
   "id": "94337d93",
   "metadata": {},
   "outputs": [
    {
     "name": "stdout",
     "output_type": "stream",
     "text": [
      "PPMI 6862\n"
     ]
    }
   ],
   "source": [
    "print(dset_name, len(fnames)) #, *fnames, sep=\"\\n\")"
   ]
  },
  {
   "cell_type": "markdown",
   "id": "ea427bef",
   "metadata": {},
   "source": [
    "# Test/Cleanup"
   ]
  },
  {
   "cell_type": "code",
   "execution_count": 99,
   "id": "033b99ff",
   "metadata": {},
   "outputs": [
    {
     "name": "stdout",
     "output_type": "stream",
     "text": [
      "Corrected: 6862, TODO: 0, Dupl: 0\n"
     ]
    }
   ],
   "source": [
    "corrected = []\n",
    "uncorrected = []\n",
    "multiple    = []\n",
    "\n",
    "def is_corrected(f):\n",
    "    nii_paths = glob.glob(f\"{f}/*corrected_n4.nii\")\n",
    "    \n",
    "    # filter las_corrected_n4.nii\n",
    "    nii_paths = [n for n in nii_paths if not n.endswith(\"las_corrected_n4.nii\")]\n",
    "    \n",
    "    if len(nii_paths) == 1: \n",
    "        corrected.append(f)\n",
    "        return True\n",
    "    \n",
    "    if len(nii_paths) == 0: \n",
    "        uncorrected.append(f)\n",
    "        return False\n",
    "    \n",
    "    if len(nii_paths) > 1: \n",
    "        multiple.append(f)\n",
    "        return True  \n",
    "                \n",
    "for f in fnames:\n",
    "    is_corrected(f)\n",
    "    \n",
    "print(f\"Corrected: {len(corrected)}, TODO: {len(uncorrected)}, Dupl: {len(multiple)}\")"
   ]
  },
  {
   "cell_type": "code",
   "execution_count": 85,
   "id": "dcd9ec3f",
   "metadata": {},
   "outputs": [],
   "source": [
    "# for f in multiple:\n",
    "#     nii_paths = glob.glob(f\"{f}/*corrected_n4.nii\")\n",
    "#     print(len(nii_paths)) #nii_paths, sep=\"\\n\")"
   ]
  },
  {
   "cell_type": "markdown",
   "id": "6301d61d",
   "metadata": {},
   "source": [
    "# Get chunk"
   ]
  },
  {
   "cell_type": "code",
   "execution_count": 86,
   "id": "3566d984",
   "metadata": {},
   "outputs": [
    {
     "name": "stdout",
     "output_type": "stream",
     "text": [
      "N_chunks = 1\n"
     ]
    }
   ],
   "source": [
    "import os\n",
    "\n",
    "try:\n",
    "    taskid = int(os.getenv('SLURM_ARRAY_TASK_ID'))\n",
    "except:\n",
    "    taskid = 0\n",
    "    \n",
    "n_total = len(uncorrected)\n",
    "\n",
    "chunk_len = 31    \n",
    "chunks    = [range(i,min(i+chunk_len, n_total)) for i in range(0, n_total, chunk_len)]\n",
    "\n",
    "print(f\"N_chunks = {len(chunks)}\")\n",
    "# print(f\"Array Task ID: {taskid}\")\n",
    "# print(f\"Array ID: {os.getenv('SLURM_ARRAY_TASK_ID')}\")\n",
    "# print(f\"Job ID: {os.getenv('SLURM_JOB_ID')}\")\n",
    "#print(*chunks, sep=\"\\n\")\n",
    "\n",
    "task_chunk = chunks[taskid]"
   ]
  },
  {
   "cell_type": "code",
   "execution_count": 87,
   "id": "3ab0fcec",
   "metadata": {},
   "outputs": [],
   "source": [
    "def read_dcm(fn):\n",
    "    dcms = sitk.ImageSeriesReader_GetGDCMSeriesFileNames(fn)\n",
    "    if len(dcms) == 1: dcms = dcms[0]   \n",
    "    im = sitk.ReadImage(dcms, sitk.sitkFloat32)\n",
    "    return im\n",
    "\n",
    "def read_nii(fn):\n",
    "    if not fn.endswith(\".nii\"):\n",
    "        niis = [f for f in os.listdir(fn) if f.endswith(\".nii\") and not f.startswith(\"._\")]\n",
    "        nii   = niis[0]\n",
    "        im = sitk.ReadImage(f\"{fn}/{nii}\", sitk.sitkFloat32)    \n",
    "    else:\n",
    "        im = sitk.ReadImage(fn, sitk.sitkFloat32)\n",
    "    return im\n",
    "\n",
    "# dcm\n",
    "    #reader = sitk.ImageSeriesReader()\n",
    "    #dicom_names = reader.GetGDCMSeriesFileNames(fn)\n",
    "    #reader.SetFileNames(dicom_names)\n",
    "    #im = reader.Execute() \n",
    "    "
   ]
  },
  {
   "cell_type": "markdown",
   "id": "b9ce2116",
   "metadata": {},
   "source": [
    "# Process"
   ]
  },
  {
   "cell_type": "code",
   "execution_count": 88,
   "id": "2cdc571f",
   "metadata": {},
   "outputs": [
    {
     "name": "stdout",
     "output_type": "stream",
     "text": [
      "31\n",
      "/gpfs/data/oermannlab/private_data/DeepPit/PitMRdata/ADNI/ADNI1_Complete_1Yr_1.5T/ADNI/016_S_1028/MPR__GradWarp__B1_Correction__N3__Scaled/2006-11-02_12_42_12.0/S22058\n",
      "/gpfs/data/oermannlab/private_data/DeepPit/PitMRdata/ADNI/ADNI1_Complete_1Yr_1.5T/ADNI/023_S_0078/MPR-R__GradWarp__B1_Correction__N3__Scaled_2/2006-07-12_09_14_56.0/S16779\n",
      "/gpfs/data/oermannlab/private_data/DeepPit/PitMRdata/ADNI/ADNI1_Complete_1Yr_1.5T/ADNI/002_S_1280/MPR__GradWarp__B1_Correction__N3__Scaled/2007-08-23_06_39_01.0/S38235\n",
      "/gpfs/data/oermannlab/private_data/DeepPit/PitMRdata/ADNI/ADNI1_Complete_1Yr_1.5T/ADNI/002_S_1280/MPR__GradWarp__B1_Correction__N3__Scaled/2008-03-25_09_45_47.0/S47412\n",
      "/gpfs/data/oermannlab/private_data/DeepPit/PitMRdata/ADNI/ADNI1_Complete_1Yr_1.5T/ADNI/002_S_1280/MPR__GradWarp__B1_Correction__N3__Scaled/2007-02-13_07_59_35.0/S26453\n",
      "/gpfs/data/oermannlab/private_data/DeepPit/PitMRdata/ADNI/ADNI1_Complete_1Yr_1.5T/ADNI/128_S_1242/MPR__GradWarp__N3__Scaled/2007-02-05_16_41_25.0/S25934\n",
      "/gpfs/data/oermannlab/private_data/DeepPit/PitMRdata/ADNI/ADNI1_Complete_1Yr_1.5T/ADNI/023_S_0030/MPR-R__GradWarp__B1_Correction__N3__Scaled/2006-10-12_13_02_58.0/S20024\n",
      "/gpfs/data/oermannlab/private_data/DeepPit/PitMRdata/ADNI/ADNI1_Complete_1Yr_1.5T/ADNI/033_S_0516/MPR__GradWarp__B1_Correction__N3__Scaled/2006-05-22_13_21_54.0/S14818\n",
      "/gpfs/data/oermannlab/private_data/DeepPit/PitMRdata/ADNI/ADNI1_Complete_1Yr_1.5T/ADNI/033_S_0516/MPR__GradWarp__B1_Correction__N3__Scaled/2007-06-08_13_20_48.0/S33420\n",
      "/gpfs/data/oermannlab/private_data/DeepPit/PitMRdata/ADNI/ADNI1_Complete_1Yr_1.5T/ADNI/094_S_1293/MPR__GradWarp__B1_Correction__N3__Scaled/2007-03-12_08_28_54.0/S27865\n",
      "/gpfs/data/oermannlab/private_data/DeepPit/PitMRdata/ADNI/ADNI1_Complete_1Yr_1.5T/ADNI/094_S_1293/MPR__GradWarp__B1_Correction__N3__Scaled/2008-03-03_09_48_25.0/S46532\n",
      "/gpfs/data/oermannlab/private_data/DeepPit/PitMRdata/ADNI/ADNI1_Complete_1Yr_1.5T/ADNI/024_S_1307/MPR__GradWarp__B1_Correction__N3__Scaled/2007-02-23_11_17_38.0/S27061\n",
      "/gpfs/data/oermannlab/private_data/DeepPit/PitMRdata/ADNI/ADNI1_Complete_1Yr_1.5T/ADNI/126_S_0606/MPR-R__GradWarp__B1_Correction__N3__Scaled/2006-07-20_11_32_11.0/S17191\n",
      "/gpfs/data/oermannlab/private_data/DeepPit/PitMRdata/ADNI/ADNI1_Complete_1Yr_1.5T/ADNI/126_S_0606/MPR-R__GradWarp__B1_Correction__N3__Scaled/2007-07-30_13_13_00.0/S36749\n",
      "/gpfs/data/oermannlab/private_data/DeepPit/PitMRdata/ADNI/ADNI1_Complete_1Yr_1.5T/ADNI/031_S_0568/MPR__GradWarp__N3__Scaled/2006-05-22_12_46_58.0/S14833\n",
      "/gpfs/data/oermannlab/private_data/DeepPit/PitMRdata/ADNI/ADNI1_Complete_1Yr_1.5T/ADNI/031_S_0568/MPR-R__GradWarp__N3__Scaled/2006-12-05_12_35_03.0/S23625\n",
      "/gpfs/data/oermannlab/private_data/DeepPit/PitMRdata/ADNI/ADNI1_Complete_1Yr_1.5T/ADNI/036_S_0656/MPR__GradWarp__B1_Correction__N3__Scaled/2006-07-07_09_14_25.0/S16286\n",
      "/gpfs/data/oermannlab/private_data/DeepPit/PitMRdata/ADNI/ADNI1_Complete_1Yr_1.5T/ADNI/036_S_0656/MPR__GradWarp__B1_Correction__N3__Scaled/2007-01-22_12_22_57.0/S25376\n",
      "/gpfs/data/oermannlab/private_data/DeepPit/PitMRdata/ADNI/ADNI1_Complete_1Yr_1.5T/ADNI/036_S_1001/MPR__GradWarp__B1_Correction__N3__Scaled/2007-11-30_09_59_20.0/S43195\n",
      "/gpfs/data/oermannlab/private_data/DeepPit/PitMRdata/ADNI/ADNI1_Complete_1Yr_1.5T/ADNI/033_S_1086/MPR__GradWarp__B1_Correction__N3__Scaled/2006-12-06_16_24_03.0/S23547\n",
      "/gpfs/data/oermannlab/private_data/DeepPit/PitMRdata/ADNI/ADNI1_Complete_1Yr_1.5T/ADNI/033_S_1086/MPR__GradWarp__B1_Correction__N3__Scaled/2007-12-05_12_12_18.0/S45561\n",
      "/gpfs/data/oermannlab/private_data/DeepPit/PitMRdata/ADNI/ADNI1_Complete_1Yr_1.5T/ADNI/012_S_0634/MPR____N3__Scaled_2/2006-06-16_14_46_04.0/S15751\n",
      "/gpfs/data/oermannlab/private_data/DeepPit/PitMRdata/ADNI/ADNI1_Complete_1Yr_1.5T/ADNI/012_S_0634/MPR____N3__Scaled_2/2007-07-10_08_05_49.0/S34624\n",
      "/gpfs/data/oermannlab/private_data/DeepPit/PitMRdata/ADNI/ADNI1_Complete_1Yr_1.5T/ADNI/012_S_0634/MPR____N3__Scaled/2006-06-16_14_46_04.0/S15751\n",
      "/gpfs/data/oermannlab/private_data/DeepPit/PitMRdata/ADNI/ADNI1_Complete_1Yr_1.5T/ADNI/012_S_0634/MPR____N3__Scaled/2007-07-10_08_05_49.0/S34624\n",
      "/gpfs/data/oermannlab/private_data/DeepPit/PitMRdata/ADNI/ADNI1_Complete_1Yr_1.5T/ADNI/133_S_0525/MPR__GradWarp__B1_Correction__N3__Scaled_2/2007-02-01_14_39_40.0/S26013\n",
      "/gpfs/data/oermannlab/private_data/DeepPit/PitMRdata/ADNI/ADNI1_Complete_1Yr_1.5T/ADNI/133_S_0525/MPR__GradWarp__B1_Correction__N3__Scaled_2/2007-07-26_14_40_45.0/S36578\n",
      "/gpfs/data/oermannlab/private_data/DeepPit/PitMRdata/ADNI/ADNI1_Complete_1Yr_1.5T/ADNI/133_S_0525/MPR__GradWarp__B1_Correction__N3__Scaled/2007-02-01_14_39_40.0/S26013\n",
      "/gpfs/data/oermannlab/private_data/DeepPit/PitMRdata/ADNI/ADNI1_Complete_1Yr_1.5T/ADNI/133_S_0525/MPR__GradWarp__B1_Correction__N3__Scaled/2007-07-26_14_40_45.0/S36578\n",
      "/gpfs/data/oermannlab/private_data/DeepPit/PitMRdata/ADNI/ADNI1_Complete_1Yr_1.5T/ADNI/033_S_1309/MPR__GradWarp__B1_Correction__N3__Scaled/2008-02-27_11_19_39.0/S46327\n",
      "/gpfs/data/oermannlab/private_data/DeepPit/PitMRdata/ADNI/ADNI1_Complete_1Yr_1.5T/ADNI/033_S_1309/MPR__GradWarp__B1_Correction__N3__Scaled/2007-02-08_12_12_07.0/S26195\n"
     ]
    }
   ],
   "source": [
    "uncorrected_chunk = [uncorrected[i] for i in task_chunk]\n",
    "print(len(uncorrected_chunk), *uncorrected_chunk, sep=\"\\n\")"
   ]
  },
  {
   "cell_type": "code",
   "execution_count": 89,
   "id": "b1343868",
   "metadata": {},
   "outputs": [],
   "source": [
    "# mr = uncorrected_chunk[0]\n",
    "# inputImage = read_nii(mr)\n",
    "# print(inputImage.GetSize())\n",
    "# maskImage = sitk.OtsuThreshold(inputImage, 0, 1, 200)"
   ]
  },
  {
   "cell_type": "code",
   "execution_count": 90,
   "id": "f5c3cbf8",
   "metadata": {
    "scrolled": true
   },
   "outputs": [
    {
     "name": "stdout",
     "output_type": "stream",
     "text": [
      "0 /gpfs/data/oermannlab/private_data/DeepPit/PitMRdata/ADNI/ADNI1_Complete_1Yr_1.5T/ADNI/016_S_1028/MPR__GradWarp__B1_Correction__N3__Scaled/2006-11-02_12_42_12.0/S22058\n",
      "Elapsed: 9.41 s\n",
      "1 /gpfs/data/oermannlab/private_data/DeepPit/PitMRdata/ADNI/ADNI1_Complete_1Yr_1.5T/ADNI/023_S_0078/MPR-R__GradWarp__B1_Correction__N3__Scaled_2/2006-07-12_09_14_56.0/S16779\n",
      "Elapsed: 14.52 s\n",
      "2 /gpfs/data/oermannlab/private_data/DeepPit/PitMRdata/ADNI/ADNI1_Complete_1Yr_1.5T/ADNI/002_S_1280/MPR__GradWarp__B1_Correction__N3__Scaled/2007-08-23_06_39_01.0/S38235\n",
      "Elapsed: 30.85 s\n",
      "3 /gpfs/data/oermannlab/private_data/DeepPit/PitMRdata/ADNI/ADNI1_Complete_1Yr_1.5T/ADNI/002_S_1280/MPR__GradWarp__B1_Correction__N3__Scaled/2008-03-25_09_45_47.0/S47412\n",
      "Elapsed: 30.61 s\n",
      "4 /gpfs/data/oermannlab/private_data/DeepPit/PitMRdata/ADNI/ADNI1_Complete_1Yr_1.5T/ADNI/002_S_1280/MPR__GradWarp__B1_Correction__N3__Scaled/2007-02-13_07_59_35.0/S26453\n",
      "Elapsed: 31.99 s\n",
      "5 /gpfs/data/oermannlab/private_data/DeepPit/PitMRdata/ADNI/ADNI1_Complete_1Yr_1.5T/ADNI/128_S_1242/MPR__GradWarp__N3__Scaled/2007-02-05_16_41_25.0/S25934\n",
      "Elapsed: 9.17 s\n",
      "6 /gpfs/data/oermannlab/private_data/DeepPit/PitMRdata/ADNI/ADNI1_Complete_1Yr_1.5T/ADNI/023_S_0030/MPR-R__GradWarp__B1_Correction__N3__Scaled/2006-10-12_13_02_58.0/S20024\n",
      "Elapsed: 10.64 s\n",
      "7 /gpfs/data/oermannlab/private_data/DeepPit/PitMRdata/ADNI/ADNI1_Complete_1Yr_1.5T/ADNI/033_S_0516/MPR__GradWarp__B1_Correction__N3__Scaled/2006-05-22_13_21_54.0/S14818\n",
      "Elapsed: 20.99 s\n",
      "8 /gpfs/data/oermannlab/private_data/DeepPit/PitMRdata/ADNI/ADNI1_Complete_1Yr_1.5T/ADNI/033_S_0516/MPR__GradWarp__B1_Correction__N3__Scaled/2007-06-08_13_20_48.0/S33420\n",
      "Elapsed: 20.53 s\n",
      "9 /gpfs/data/oermannlab/private_data/DeepPit/PitMRdata/ADNI/ADNI1_Complete_1Yr_1.5T/ADNI/094_S_1293/MPR__GradWarp__B1_Correction__N3__Scaled/2007-03-12_08_28_54.0/S27865\n",
      "Elapsed: 20.82 s\n",
      "10 /gpfs/data/oermannlab/private_data/DeepPit/PitMRdata/ADNI/ADNI1_Complete_1Yr_1.5T/ADNI/094_S_1293/MPR__GradWarp__B1_Correction__N3__Scaled/2008-03-03_09_48_25.0/S46532\n",
      "Elapsed: 21.27 s\n",
      "11 /gpfs/data/oermannlab/private_data/DeepPit/PitMRdata/ADNI/ADNI1_Complete_1Yr_1.5T/ADNI/024_S_1307/MPR__GradWarp__B1_Correction__N3__Scaled/2007-02-23_11_17_38.0/S27061\n",
      "Elapsed: 24.85 s\n",
      "12 /gpfs/data/oermannlab/private_data/DeepPit/PitMRdata/ADNI/ADNI1_Complete_1Yr_1.5T/ADNI/126_S_0606/MPR-R__GradWarp__B1_Correction__N3__Scaled/2006-07-20_11_32_11.0/S17191\n",
      "Elapsed: 20.19 s\n",
      "13 /gpfs/data/oermannlab/private_data/DeepPit/PitMRdata/ADNI/ADNI1_Complete_1Yr_1.5T/ADNI/126_S_0606/MPR-R__GradWarp__B1_Correction__N3__Scaled/2007-07-30_13_13_00.0/S36749\n",
      "Elapsed: 19.10 s\n",
      "14 /gpfs/data/oermannlab/private_data/DeepPit/PitMRdata/ADNI/ADNI1_Complete_1Yr_1.5T/ADNI/031_S_0568/MPR__GradWarp__N3__Scaled/2006-05-22_12_46_58.0/S14833\n",
      "Elapsed: 18.36 s\n",
      "15 /gpfs/data/oermannlab/private_data/DeepPit/PitMRdata/ADNI/ADNI1_Complete_1Yr_1.5T/ADNI/031_S_0568/MPR-R__GradWarp__N3__Scaled/2006-12-05_12_35_03.0/S23625\n",
      "Elapsed: 18.60 s\n",
      "16 /gpfs/data/oermannlab/private_data/DeepPit/PitMRdata/ADNI/ADNI1_Complete_1Yr_1.5T/ADNI/036_S_0656/MPR__GradWarp__B1_Correction__N3__Scaled/2006-07-07_09_14_25.0/S16286\n",
      "Elapsed: 16.28 s\n",
      "17 /gpfs/data/oermannlab/private_data/DeepPit/PitMRdata/ADNI/ADNI1_Complete_1Yr_1.5T/ADNI/036_S_0656/MPR__GradWarp__B1_Correction__N3__Scaled/2007-01-22_12_22_57.0/S25376\n",
      "Elapsed: 16.26 s\n",
      "18 /gpfs/data/oermannlab/private_data/DeepPit/PitMRdata/ADNI/ADNI1_Complete_1Yr_1.5T/ADNI/036_S_1001/MPR__GradWarp__B1_Correction__N3__Scaled/2007-11-30_09_59_20.0/S43195\n",
      "Elapsed: 12.02 s\n",
      "19 /gpfs/data/oermannlab/private_data/DeepPit/PitMRdata/ADNI/ADNI1_Complete_1Yr_1.5T/ADNI/033_S_1086/MPR__GradWarp__B1_Correction__N3__Scaled/2006-12-06_16_24_03.0/S23547\n",
      "Elapsed: 28.06 s\n",
      "20 /gpfs/data/oermannlab/private_data/DeepPit/PitMRdata/ADNI/ADNI1_Complete_1Yr_1.5T/ADNI/033_S_1086/MPR__GradWarp__B1_Correction__N3__Scaled/2007-12-05_12_12_18.0/S45561\n",
      "Elapsed: 29.36 s\n",
      "21 /gpfs/data/oermannlab/private_data/DeepPit/PitMRdata/ADNI/ADNI1_Complete_1Yr_1.5T/ADNI/012_S_0634/MPR____N3__Scaled_2/2006-06-16_14_46_04.0/S15751\n",
      "Elapsed: 24.03 s\n",
      "22 /gpfs/data/oermannlab/private_data/DeepPit/PitMRdata/ADNI/ADNI1_Complete_1Yr_1.5T/ADNI/012_S_0634/MPR____N3__Scaled_2/2007-07-10_08_05_49.0/S34624\n",
      "Elapsed: 31.41 s\n",
      "23 /gpfs/data/oermannlab/private_data/DeepPit/PitMRdata/ADNI/ADNI1_Complete_1Yr_1.5T/ADNI/012_S_0634/MPR____N3__Scaled/2006-06-16_14_46_04.0/S15751\n",
      "Elapsed: 24.15 s\n",
      "24 /gpfs/data/oermannlab/private_data/DeepPit/PitMRdata/ADNI/ADNI1_Complete_1Yr_1.5T/ADNI/012_S_0634/MPR____N3__Scaled/2007-07-10_08_05_49.0/S34624\n",
      "Elapsed: 32.76 s\n",
      "25 /gpfs/data/oermannlab/private_data/DeepPit/PitMRdata/ADNI/ADNI1_Complete_1Yr_1.5T/ADNI/133_S_0525/MPR__GradWarp__B1_Correction__N3__Scaled_2/2007-02-01_14_39_40.0/S26013\n",
      "Elapsed: 18.49 s\n",
      "26 /gpfs/data/oermannlab/private_data/DeepPit/PitMRdata/ADNI/ADNI1_Complete_1Yr_1.5T/ADNI/133_S_0525/MPR__GradWarp__B1_Correction__N3__Scaled_2/2007-07-26_14_40_45.0/S36578\n",
      "Elapsed: 23.17 s\n",
      "27 /gpfs/data/oermannlab/private_data/DeepPit/PitMRdata/ADNI/ADNI1_Complete_1Yr_1.5T/ADNI/133_S_0525/MPR__GradWarp__B1_Correction__N3__Scaled/2007-02-01_14_39_40.0/S26013\n",
      "Elapsed: 16.99 s\n",
      "28 /gpfs/data/oermannlab/private_data/DeepPit/PitMRdata/ADNI/ADNI1_Complete_1Yr_1.5T/ADNI/133_S_0525/MPR__GradWarp__B1_Correction__N3__Scaled/2007-07-26_14_40_45.0/S36578\n",
      "Elapsed: 23.09 s\n",
      "29 /gpfs/data/oermannlab/private_data/DeepPit/PitMRdata/ADNI/ADNI1_Complete_1Yr_1.5T/ADNI/033_S_1309/MPR__GradWarp__B1_Correction__N3__Scaled/2008-02-27_11_19_39.0/S46327\n",
      "Elapsed: 27.17 s\n",
      "30 /gpfs/data/oermannlab/private_data/DeepPit/PitMRdata/ADNI/ADNI1_Complete_1Yr_1.5T/ADNI/033_S_1309/MPR__GradWarp__B1_Correction__N3__Scaled/2007-02-08_12_12_07.0/S26195\n",
      "Elapsed: 18.50 s\n"
     ]
    }
   ],
   "source": [
    "# from FAIMED3D 02_preprocessing\n",
    "# and https://simpleitk.readthedocs.io/en/master/link_N4BiasFieldCorrection_docs.html\n",
    "\n",
    "count = 0\n",
    "for mr_path in uncorrected_chunk: \n",
    "    \n",
    "    start = time.time()\n",
    "    try:\n",
    "        # print\n",
    "        print(count, mr_path, flush=True)\n",
    "        count += 1\n",
    "\n",
    "        # Read in image\n",
    "        try:\n",
    "            inputImage = read_nii(mr_path)\n",
    "        except:\n",
    "            inputImage = read_dcm(mr_path) \n",
    "\n",
    "        # Mask the head to estimate bias\n",
    "        maskImage = sitk.OtsuThreshold(inputImage, 0, 1, 200)\n",
    "\n",
    "        # Set corrector\n",
    "        corrector = sitk.N4BiasFieldCorrectionImageFilter()\n",
    "        corrector.SetMaximumNumberOfIterations([3] * 3)\n",
    "        corrected_image = corrector.Execute(inputImage, maskImage)\n",
    "\n",
    "        # write image\n",
    "        corrected_fn = f\"{mr_path}/corrected_n4.nii\"\n",
    "        sitk.WriteImage(corrected_image, corrected_fn)\n",
    "    except Exception as e:\n",
    "        print(\"Skipped: \", mr_path)\n",
    "        print(e)\n",
    "    \n",
    "    elapsed = time.time() - start\n",
    "    print(f\"Elapsed: {elapsed:0.2f} s\")"
   ]
  },
  {
   "cell_type": "code",
   "execution_count": 91,
   "id": "9a2e7981",
   "metadata": {},
   "outputs": [
    {
     "name": "stdout",
     "output_type": "stream",
     "text": [
      "Done.\n"
     ]
    }
   ],
   "source": [
    "print(\"Done.\")"
   ]
  },
  {
   "cell_type": "code",
   "execution_count": null,
   "id": "6de52f60",
   "metadata": {},
   "outputs": [],
   "source": []
  },
  {
   "cell_type": "code",
   "execution_count": null,
   "id": "2822a620",
   "metadata": {},
   "outputs": [],
   "source": [
    "#print(\"Uncorrected: \", *uncorrected, sep=\"\\n\")\n",
    "\n",
    "#os.listdir(uncorrected[0])\n",
    "#uncorrected_nii = [os.path.join(f, os.listdir(f)[0]) for f in uncorrected]\n",
    "#uncorrected_nii\n",
    "\n",
    "# Very strange\n",
    "# os.remove('/gpfs/data/oermannlab/private_data/DeepPit/PitMRdata/ABIDE/ABIDE/50455/MP-RAGE/2000-01-01_00_00_00.0/S165455/._ABIDE_50455_MRI_MP-RAGE_br_raw_20120831000745302_S165455_I329465.nii')\n",
    "\n",
    "# # delete multiple\n",
    "# for f in multiple:\n",
    "#     nii_paths = glob.glob(f\"{f}/*corrected_n4_corrected_n4.nii\")\n",
    "#     for p in nii_paths:\n",
    "#         os.remove(p)\n",
    "\n",
    "# process uncorrected\n",
    "# from FAIMED3D 02_preprocessing\n",
    "# and https://simpleitk.readthedocs.io/en/master/link_N4BiasFieldCorrection_docs.html\n",
    "\n",
    "# print(\"tot \", len(uncorrected))\n",
    "\n",
    "# uncorrected_nii = [os.path.join(f, os.listdir(f)[0]) for f in uncorrected]\n",
    "\n",
    "# count = 0\n",
    "# for mr_path in uncorrected_nii: \n",
    "#     # print\n",
    "#     print(count, mr_path, flush=True)\n",
    "#     count += 1\n",
    "    \n",
    "#     # Read in image\n",
    "#     inputImage = sitk.ReadImage(mr_path, sitk.sitkFloat32)\n",
    "    \n",
    "#     # Mask the head to estimate bias\n",
    "#     maskImage = sitk.OtsuThreshold(inputImage, 0, 1, 200)\n",
    "    \n",
    "#     # Set corrector\n",
    "#     corrector = sitk.N4BiasFieldCorrectionImageFilter()\n",
    "#     corrector.SetMaximumNumberOfIterations([3] * 3)\n",
    "#     corrected_image = corrector.Execute(inputImage, maskImage)\n",
    "\n",
    "#     # write image\n",
    "#     corrected_fn = mr_path[:-4] + \"_corrected_n4.nii\"\n",
    "#     sitk.WriteImage(corrected_image, corrected_fn)"
   ]
  }
 ],
 "metadata": {
  "kernelspec": {
   "display_name": "Python 3",
   "language": "python",
   "name": "python3"
  },
  "language_info": {
   "codemirror_mode": {
    "name": "ipython",
    "version": 3
   },
   "file_extension": ".py",
   "mimetype": "text/x-python",
   "name": "python",
   "nbconvert_exporter": "python",
   "pygments_lexer": "ipython3",
   "version": "3.6.9"
  }
 },
 "nbformat": 4,
 "nbformat_minor": 5
}
