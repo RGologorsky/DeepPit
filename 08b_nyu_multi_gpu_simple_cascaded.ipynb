{
 "cells": [
  {
   "cell_type": "code",
   "execution_count": 2,
   "id": "1db8c87c",
   "metadata": {},
   "outputs": [
    {
     "name": "stdout",
     "output_type": "stream",
     "text": [
      "Train/Valid/Test: 0.60 (n=201), 0.20 (n=67), 0.20 (n=67)\n"
     ]
    }
   ],
   "source": [
    "# DATALOADER PARAMS\n",
    "bs          = 4\n",
    "nepochs     = 30\n",
    "num_workers = 2\n",
    "\n",
    "# PREPROCESS (Isotropic, PadResize)\n",
    "# iso       = 3\n",
    "# maxs      = [87, 90, 90]\n",
    "\n",
    "iso       = 2\n",
    "maxs      = [130, 134, 134]\n",
    "\n",
    "# Train:Valid:Test = 60:20:20\n",
    "train_pct, valid_pct = .60, .20\n",
    "\n",
    "#train_pct, valid_pct = 100/335.0, 20/335.0\n",
    "\n",
    "test_pct = 1.0 - train_pct - valid_pct\n",
    "\n",
    "def pct2int(pct, tot=335): return int(pct * tot)\n",
    "print(f\"Train/Valid/Test: {train_pct:0.2f} (n={pct2int(train_pct)}), {valid_pct:0.2f} (n={pct2int(valid_pct)}), {test_pct:0.2f} (n={pct2int(test_pct)})\")"
   ]
  },
  {
   "cell_type": "code",
   "execution_count": 3,
   "id": "bab7ac06",
   "metadata": {},
   "outputs": [
    {
     "name": "stdout",
     "output_type": "stream",
     "text": [
      "#GPU = 2, #CPU = 40\n",
      "GPU Tesla V100-SXM2-16GB RAM Free: 16119MB | Used: 11MB | Util   0% | Total 16130MB\n",
      "GPU Tesla V100-SXM2-16GB RAM Free: 16119MB | Used: 11MB | Util   0% | Total 16130MB\n"
     ]
    }
   ],
   "source": [
    "# CHECK HARDWARE \n",
    "\n",
    "import os\n",
    "import torch\n",
    "\n",
    "gpu_count = torch.cuda.device_count()\n",
    "cpu_count = os.cpu_count()\n",
    "print(\"#GPU = {0:d}, #CPU = {1:d}\".format(gpu_count, cpu_count))\n",
    "\n",
    "# clear cache\n",
    "import gc\n",
    "import torch\n",
    "\n",
    "gc.collect()\n",
    "torch.cuda.empty_cache()\n",
    "\n",
    "# print GPU stats\n",
    "import GPUtil as GPU\n",
    "GPUs = GPU.getGPUs()\n",
    "for gpu in GPUs:\n",
    "    print(\"GPU {0:20s} RAM Free: {1:.0f}MB | Used: {2:.0f}MB | Util {3:3.0f}% | Total {4:.0f}MB\".format(gpu.name, gpu.memoryFree, gpu.memoryUsed, gpu.memoryUtil*100, gpu.memoryTotal))"
   ]
  },
  {
   "cell_type": "markdown",
   "id": "3321cd55",
   "metadata": {},
   "source": [
    "# Goal\n",
    "\n",
    "Train hybrid OBELISK-NET/UNET. Tune batch size and presize HWD dimensions.\n",
    "- Preprocess: Smooth, intensity norm (N4 bias, hist bin matching)\n",
    "- Augmentations: flip, orientation, 10 deg\n",
    "- Thanks to: OBELISK, FAIMED3D\n",
    "    - https://github.com/mattiaspaul/OBELISK\n",
    "    -  https://github.com/kbressem/faimed3d/blob/main/examples/3d_segmentation.md"
   ]
  },
  {
   "cell_type": "markdown",
   "id": "5fd2edd3",
   "metadata": {},
   "source": [
    "# Paths"
   ]
  },
  {
   "cell_type": "code",
   "execution_count": 4,
   "id": "55a9cc2f",
   "metadata": {},
   "outputs": [
    {
     "name": "stdout",
     "output_type": "stream",
     "text": [
      "Folders in data src: ICMB, ABVIB (1).zip, central.xnat.org, ADNI, PPMI, Oasis_long, samir_labels, ACRIN-FMISO-Brain, LGG-1p19qDeletion, REMBRANDT, AIBL, test.txt, CPTAC-GBM, ABIDE-ABIDE-top.txt, TCGA-GBM, TCGA-LGG, ABVIB, ABIDE, AIBL.zip\n",
      "Folders in label src (data w labels): 50155-50212, 50313-50372, 50213-50312, 50373-50453, 50002-50153\n",
      "Folders in ABIDE src (data wo labels) PAD, ABIDE_1, ABIDE\n"
     ]
    }
   ],
   "source": [
    "import os\n",
    "\n",
    "# Paths to (1) code (2) data (3) saved models\n",
    "code_src    = \"/gpfs/home/gologr01\"\n",
    "data_src    = \"/gpfs/data/oermannlab/private_data/DeepPit/PitMRdata\"\n",
    "model_src   = \"/gpfs/data/oermannlab/private_data/DeepPit/saved_models\"\n",
    "\n",
    "# UMich \n",
    "# code src: \"/home/labcomputer/Desktop/Rachel\"\n",
    "# data src: \"../../../../..//media/labcomputer/e33f6fe0-5ede-4be4-b1f2-5168b7903c7a/home/rachel/\"\n",
    "\n",
    "deepPit_src = f\"{code_src}/DeepPit\"\n",
    "obelisk_src = f\"{code_src}/OBELISK\"\n",
    "label_src   = f\"{data_src}/samir_labels\"\n",
    "ABIDE_src   = f\"{data_src}/ABIDE\"\n",
    "\n",
    "# print\n",
    "print(\"Folders in data src: \", end=\"\"); print(*os.listdir(data_src), sep=\", \")\n",
    "print(\"Folders in label src (data w labels): \", end=\"\"); print(*os.listdir(label_src), sep=\", \")\n",
    "print(\"Folders in ABIDE src (data wo labels) \", end=\"\"); print(*os.listdir(ABIDE_src), sep=\", \")"
   ]
  },
  {
   "cell_type": "markdown",
   "id": "aabe2986",
   "metadata": {},
   "source": [
    "# Imports"
   ]
  },
  {
   "cell_type": "code",
   "execution_count": 9,
   "id": "684b0b85",
   "metadata": {
    "scrolled": true
   },
   "outputs": [],
   "source": [
    "# imports\n",
    "from transforms import AddChannel, Iso, PadSz, MattAffineTfm, PiecewiseHistScaling\n",
    "from helpers.metrics import dice_score, dice_loss, dice_ce_loss, log_cosh_dice_loss\n",
    "\n",
    "# Utilities\n",
    "import os\n",
    "import sys\n",
    "import time\n",
    "import pickle\n",
    "from pathlib import Path\n",
    "\n",
    "# Input IO\n",
    "import SimpleITK as sitk\n",
    "import meshio\n",
    "\n",
    "# Numpy and Pandas\n",
    "import numpy as np\n",
    "import pandas as pd\n",
    "from pandas import DataFrame as DF\n",
    "\n",
    "# Fastai + distributed training\n",
    "from fastai import *\n",
    "from fastai.torch_basics import *\n",
    "from fastai.basics import *\n",
    "from fastai.distributed import *\n",
    "\n",
    "# PyTorch\n",
    "from torchvision.models.video import r3d_18\n",
    "from fastai.callback.all import SaveModelCallback\n",
    "from torch import nn\n",
    "\n",
    "# Obelisk\n",
    "sys.path.append(deepPit_src)\n",
    "sys.path.append(obelisk_src)\n",
    "\n",
    "# OBELISK\n",
    "from utils import *\n",
    "from models import obelisk_visceral, obeliskhybrid_visceral\n",
    "\n",
    "# 3D extension to FastAI\n",
    "# from faimed3d.all import *\n",
    "\n",
    "# Helper functions\n",
    "from helpers.preprocess import get_data_dict_n4, paths2objs, folder2objs, seg2mask, mask2bbox, print_bbox, get_bbox_size, print_bbox_size\n",
    "from helpers.general import sitk2np, np2sitk, print_sitk_info, round_tuple, lrange, lmap, get_roi_range, numbers2groups\n",
    "from helpers.viz import viz_axis\n",
    "from helpers.nyul_udupa import piecewise_hist"
   ]
  },
  {
   "cell_type": "markdown",
   "id": "d07e4d4e",
   "metadata": {},
   "source": [
    "# Data"
   ]
  },
  {
   "cell_type": "code",
   "execution_count": 6,
   "id": "59815d94",
   "metadata": {},
   "outputs": [
    {
     "name": "stdout",
     "output_type": "stream",
     "text": [
      "Total 335 items in dataset.\n",
      "Train: 215 items.\n",
      "Valid: 53 items.\n",
      "Test: 67 items.\n",
      "Model name: iso_2mm_pad_130_134_134_bs_4_test_sz_67_epochs_30_time_Mon Jun 28 19:07:17 2021\n"
     ]
    }
   ],
   "source": [
    "# Get data dict\n",
    "data = {}\n",
    "folders = os.listdir(label_src)\n",
    "for folder in folders: data.update(get_data_dict_n4(f\"{label_src}/{folder}\"))\n",
    "\n",
    "# Convert data dict => items (path to MR, path to Segm tensor)\n",
    "items = list(data.values())\n",
    "\n",
    "# Split train/valid/test split\n",
    "train_idxs, test_idxs = RandomSplitter(valid_pct=test_pct)(items)\n",
    "train_items = [items[i] for i in train_idxs]\n",
    "test_items  = [items[i] for i in test_idxs]\n",
    "\n",
    "train_idxs, valid_idxs = RandomSplitter(valid_pct=valid_pct)(train_items)\n",
    "train_items = [items[i] for i in train_idxs]\n",
    "valid_items = [items[i] for i in valid_idxs]\n",
    "\n",
    "# print\n",
    "print(f\"Total {len(items)} items in dataset.\")\n",
    "print(f\"Train: {len(train_items)} items.\")\n",
    "print(f\"Valid: {len(valid_items)} items.\")\n",
    "print(f\"Test: {len(test_items)} items.\")\n",
    "\n",
    "# Save test idxs\n",
    "\n",
    "# file name\n",
    "model_time = time.ctime() # 'Mon Oct 18 13:35:29 2010'\n",
    "model_name = f\"iso_{iso}mm_pad_{maxs[0]}_{maxs[1]}_{maxs[2]}_bs_{bs}_test_sz_{len(test_items)}_epochs_{nepochs}_time_{model_time}\"\n",
    "print(f\"Model name: {model_name}\")\n",
    "\n",
    "# save test set indices\n",
    "with open(f\"{model_src}/{model_name}_test_items.pkl\", 'wb') as f:\n",
    "    pickle.dump(list(test_items), f)"
   ]
  },
  {
   "cell_type": "markdown",
   "id": "26ba5050",
   "metadata": {},
   "source": [
    "# Dataloaders"
   ]
  },
  {
   "cell_type": "code",
   "execution_count": 10,
   "id": "85af88ce",
   "metadata": {},
   "outputs": [],
   "source": [
    "# load standard scale\n",
    "save_loc = f\"{deepPit_src}/saved_metadata/\"\n",
    "standard_scale = torch.load(f\"{save_loc}/nyul_udupa_standard_scale_335.pt\")\n",
    "percs          = torch.load(f\"{save_loc}/nyul_udupa_percs_335.pt\")"
   ]
  },
  {
   "cell_type": "code",
   "execution_count": 11,
   "id": "702c1a1a",
   "metadata": {},
   "outputs": [
    {
     "name": "stdout",
     "output_type": "stream",
     "text": [
      "Elapsed time: 0.4276247024536133 s for 268 items\n",
      "<class 'tuple'> torch.Size([4, 1, 130, 134, 134]) torch.Size([4, 1, 130, 134, 134])\n",
      "53 14\n"
     ]
    }
   ],
   "source": [
    "# time it\n",
    "start = time.time()\n",
    "\n",
    "# splits\n",
    "#splits = RandomSplitter(seed=42)(subset)\n",
    "#print(f\"Training: {len(splits[0])}, Valid: {len(splits[1])}\")\n",
    "\n",
    "# tfms\n",
    "item_tfms  = [Iso(2), PadSz(maxs), PiecewiseHistScaling(landmark_percs=percs, standard_scale=standard_scale)]\n",
    "batch_tfms = [AddChannel(), MattAffineTfm(0.05)]\n",
    "\n",
    "# tls\n",
    "tls = TfmdLists(items, item_tfms, splits=(train_idxs, valid_idxs))\n",
    "\n",
    "# dls\n",
    "dls = tls.dataloaders(bs=bs, after_batch=batch_tfms, num_workers=num_workers)\n",
    "\n",
    "# GPU\n",
    "dls = dls.cuda()\n",
    "\n",
    "# end timer\n",
    "elapsed = time.time() - start\n",
    "print(f\"Elapsed time: {elapsed} s for {len(train_idxs) + len(valid_idxs)} items\")\n",
    "\n",
    "# test get one batch\n",
    "b = dls.one_batch()\n",
    "print(type(b), b[0].shape, b[1].shape)\n",
    "print(len(dls.train), len(dls.valid))"
   ]
  },
  {
   "cell_type": "code",
   "execution_count": 9,
   "id": "4f04a1ad",
   "metadata": {},
   "outputs": [
    {
     "name": "stdout",
     "output_type": "stream",
     "text": [
      "torch.Size([130, 134, 134])\n",
      "torch.Size([1, 130, 134, 134])\n",
      "torch.Size([1, 1, 130, 134, 134])\n",
      "torch.Size([1, 1, 130, 134, 134])\n"
     ]
    }
   ],
   "source": [
    "# test: viz 1 img before and after affine tfm\n",
    "idx = 2\n",
    "strength = 0.05\n",
    "\n",
    "img_in, seg_in     = Pipeline(item_tfms)(items[idx])\n",
    "b_img_in, b_seg_in = (img_in.unsqueeze(0), seg_in.unsqueeze(0))\n",
    "img_out1, seg_out1 = AddChannel()((b_img_in, b_seg_in))\n",
    "img_out2, seg_out2 = MattAffineTfm(strength=strength)((img_out1, seg_out1))\n",
    "\n",
    "print(img_in.shape, b_img_in.shape, img_out1.shape, img_out2.shape, sep=\"\\n\")\n",
    "\n",
    "# Viz\n",
    "\n",
    "def viz_bbox(mr, seg):\n",
    "\n",
    "    mr, seg = np.array(mr), np.array(seg)\n",
    "    gt_bbox = mask2bbox(mr)\n",
    "    \n",
    "    # print bbox\n",
    "    print(\"GT: \"); print_bbox(*gt_bbox)\n",
    "\n",
    "    bbox = gt_bbox\n",
    "    \n",
    "    axis0_len = bbox[1] - bbox[0]\n",
    "    start_middle = bbox[0] + axis0_len//2 - 2\n",
    "    end_middle = start_middle + 4\n",
    "    \n",
    "    # viz\n",
    "    viz_axis(np_arr = mr, \\\n",
    "            bin_mask_arr   = seg,     color1 = \"yellow\",  alpha1=0.3, \\\n",
    "            #bin_mask_arr2  = pred_mk, color2 = \"magenta\", alpha2=0.3, \\\n",
    "            slices=lrange(start_middle, end_middle), fixed_axis=0, \\\n",
    "            axis_fn = np.rot90, \\\n",
    "            title   = \"Axis 0\", \\\n",
    "\n",
    "#             np_arr_b = mr, \\\n",
    "#             bin_mask_arr_b   = seg,     color1_b = \"yellow\",  alpha1_b=0.3, \\\n",
    "#             #bin_mask_arr2_b  = pred_mk, color2_b = \"magenta\", alpha2_b=0.3, \\\n",
    "#             slices_b = lrange(*bbox[2:4]), fixed_axis_b=1, \\\n",
    "#             title_b  = \"Axis 1\", \\\n",
    "\n",
    "#             np_arr_c = mr, \\\n",
    "#             bin_mask_arr_c   = seg,     color1_c = \"yellow\",  alpha1_c=0.3, \\\n",
    "#             #bin_mask_arr2_c  = pred_mk, color2_c = \"magenta\", alpha2_c=0.3, \\\n",
    "#             slices_c = lrange(*bbox[4:6]), fixed_axis_c=2, \\\n",
    "#             title_c = \"Axis 2\", \\\n",
    "  \n",
    "        ncols = 5, hspace=0.3, fig_mult=2)\n",
    "\n",
    "    "
   ]
  },
  {
   "cell_type": "code",
   "execution_count": 10,
   "id": "2962c1c0",
   "metadata": {},
   "outputs": [
    {
     "name": "stdout",
     "output_type": "stream",
     "text": [
      "GT: \n",
      "Bbox coords: (21, 7, 39) to (109, 121, 117). Size: 88, 114, 78.\n",
      "Bounding box coord: from location (7, 39) of slice 21 to location (121, 117) of slice 109.\n"
     ]
    },
    {
     "data": {
      "image/png": "[encoded data removed]",
      "text/plain": [
       "<Figure size 864x288 with 5 Axes>"
      ]
     },
     "metadata": {
      "needs_background": "light"
     },
     "output_type": "display_data"
    }
   ],
   "source": [
    "viz_bbox(img_out1.squeeze(), seg_out1.squeeze())"
   ]
  },
  {
   "cell_type": "code",
   "execution_count": 11,
   "id": "780be81e",
   "metadata": {},
   "outputs": [
    {
     "name": "stdout",
     "output_type": "stream",
     "text": [
      "GT: \n",
      "Bbox coords: (21, 7, 39) to (109, 121, 117). Size: 88, 114, 78.\n",
      "Bounding box coord: from location (7, 39) of slice 21 to location (121, 117) of slice 109.\n"
     ]
    },
    {
     "data": {
      "image/png": "[encoded data removed]",
      "text/plain": [
       "<Figure size 864x288 with 5 Axes>"
      ]
     },
     "metadata": {
      "needs_background": "light"
     },
     "output_type": "display_data"
    }
   ],
   "source": [
    "viz_bbox(img_out2.squeeze(), seg_out2.squeeze())"
   ]
  },
  {
   "cell_type": "markdown",
   "id": "ba84a0c7",
   "metadata": {},
   "source": [
    "# Metric\n",
    "\n",
    "Linear combination of Dice and Cross Entropy"
   ]
  },
  {
   "cell_type": "code",
   "execution_count": 14,
   "id": "37b4aebf",
   "metadata": {},
   "outputs": [],
   "source": [
    "# start = time.time()\n",
    "\n",
    "# segs = torch.cat([tl[1] for tl in dls.train],0)\n",
    "# print(segs.shape)\n",
    "\n",
    "# elapsed = time.time() - start\n",
    "\n",
    "# print(f\"Elapsed time: {elapsed} s for {len(segs)} items\")"
   ]
  },
  {
   "cell_type": "code",
   "execution_count": 15,
   "id": "8a2e265f",
   "metadata": {},
   "outputs": [],
   "source": [
    "# class_weight = torch.sqrt(1.0/(torch.bincount(segs.view(-1)).float()))\n",
    "# class_weight = class_weight/class_weight.mean()\n",
    "# class_weight[0] = 0.5\n",
    "# np.set_printoptions(formatter={'float': '{: 0.2f}'.format})\n",
    "# print('inv sqrt class_weight',class_weight.data.cpu().numpy())"
   ]
  },
  {
   "cell_type": "code",
   "execution_count": 16,
   "id": "415185d0",
   "metadata": {},
   "outputs": [],
   "source": [
    "from utils import my_ohem"
   ]
  },
  {
   "cell_type": "code",
   "execution_count": 17,
   "id": "1d12e3ee",
   "metadata": {},
   "outputs": [],
   "source": [
    "# pos_weight = torch.load(\"saved_metadata/class_weights.pt\")\n",
    "# class_weights = [0, pos_weight]\n",
    "\n",
    "# # inv\n",
    "# class_weights [1.0/x for x in class_wei]\n",
    "# my_criterion = my_ohem(.25,[0, pos_weight]) #.cuda())#0.25 "
   ]
  },
  {
   "cell_type": "code",
   "execution_count": 18,
   "id": "56920746",
   "metadata": {},
   "outputs": [],
   "source": [
    "def obelisk_loss_fn(predict, target): return my_criterion(F.log_softmax(predict,dim=1),target)"
   ]
  },
  {
   "cell_type": "code",
   "execution_count": 19,
   "id": "2ce2404f",
   "metadata": {},
   "outputs": [],
   "source": [
    "# ipython nbconvert --to python  '6 - Dataloaders- NB - Simple-Copy1.ipynb'"
   ]
  },
  {
   "cell_type": "markdown",
   "id": "83d7809f",
   "metadata": {},
   "source": [
    "# Learner"
   ]
  },
  {
   "cell_type": "code",
   "execution_count": 20,
   "id": "d3b8faf4",
   "metadata": {},
   "outputs": [
    {
     "name": "stdout",
     "output_type": "stream",
     "text": [
      "GPU Tesla V100-SXM2-16GB RAM Free: 11013MB | Used: 5117MB | Util  32% | Total 16130MB\n",
      "GPU Tesla V100-SXM2-16GB RAM Free: 16119MB | Used: 11MB | Util   0% | Total 16130MB\n"
     ]
    }
   ],
   "source": [
    "# clear cache\n",
    "import gc\n",
    "import torch\n",
    "\n",
    "gc.collect()\n",
    "torch.cuda.empty_cache()\n",
    "\n",
    "# print GPU stats\n",
    "import GPUtil as GPU\n",
    "GPUs = GPU.getGPUs()\n",
    "for gpu in GPUs:\n",
    "    print(\"GPU {0:20s} RAM Free: {1:.0f}MB | Used: {2:.0f}MB | Util {3:3.0f}% | Total {4:.0f}MB\".format(gpu.name, gpu.memoryFree, gpu.memoryUsed, gpu.memoryUtil*100, gpu.memoryTotal))"
   ]
  },
  {
   "cell_type": "code",
   "execution_count": 21,
   "id": "66cc1f9c",
   "metadata": {},
   "outputs": [],
   "source": [
    "# OBELISK-NET from github\n",
    "from models import obelisk_visceral, obeliskhybrid_visceral"
   ]
  },
  {
   "cell_type": "code",
   "execution_count": 22,
   "id": "a13fe9bf",
   "metadata": {},
   "outputs": [],
   "source": [
    "full_res = maxs\n",
    "\n",
    "learn = Learner(dls=dls, \\\n",
    "                model=obeliskhybrid_visceral(num_labels=2, full_res=full_res), \\\n",
    "                loss_func= log_cosh_dice_loss, #loss, #DiceLoss(), #nn.CrossEntropyLoss(), \\\n",
    "                metrics = dice_score, \\\n",
    "                model_dir = model_src, \\\n",
    "                cbs = [SaveModelCallback(monitor='dice_score', fname=model_name, with_opt=True)])\n",
    "\n",
    "# SaveModelCallback: model_dir = \"./models\", cbs = [SaveModelCallback(monitor='dice_score')]\n",
    "\n",
    "# GPU\n",
    "learn.model = learn.model.cuda()\n",
    "\n",
    "#learn = learn.to_distributed(args.local_rank)\n"
   ]
  },
  {
   "cell_type": "code",
   "execution_count": 23,
   "id": "8269d3b5",
   "metadata": {},
   "outputs": [],
   "source": [
    "# # test:\n",
    "\n",
    "# #dls.device = \"cpu\"\n",
    "\n",
    "# start = time.time()\n",
    "\n",
    "# x,y = dls.one_batch()\n",
    "# #x,y = to_cpu(x), to_cpu(y)\n",
    "\n",
    "# pred = learn.model(x)\n",
    "# loss = learn.loss_func(pred, y)\n",
    "\n",
    "# elapsed = time.time() - start\n",
    "\n",
    "# print(f\"Elapsed: {elapsed} s\")\n",
    "# print(\"Batch: x,y\")\n",
    "# print(type(x), x.shape, x.dtype, \"\\n\", type(y), y.shape, y.dtype)\n",
    "\n",
    "# print(\"Pred shape\")\n",
    "# print(type(pred), pred.shape, pred.dtype)\n",
    "\n",
    "# print(\"Loss\")\n",
    "# print(loss)\n",
    "# print(learn.loss_func)"
   ]
  },
  {
   "cell_type": "markdown",
   "id": "9ceedd82",
   "metadata": {},
   "source": [
    "# LR Finder"
   ]
  },
  {
   "cell_type": "code",
   "execution_count": 24,
   "id": "b7b2d803",
   "metadata": {},
   "outputs": [],
   "source": [
    "# learn.lr_find()"
   ]
  },
  {
   "cell_type": "code",
   "execution_count": 25,
   "id": "55dcb74d",
   "metadata": {},
   "outputs": [
    {
     "name": "stdout",
     "output_type": "stream",
     "text": [
      "PRE learn.fit one cycle\n"
     ]
    },
    {
     "data": {
      "text/html": [
       "<table border=\"1\" class=\"dataframe\">\n",
       "  <thead>\n",
       "    <tr style=\"text-align: left;\">\n",
       "      <th>epoch</th>\n",
       "      <th>train_loss</th>\n",
       "      <th>valid_loss</th>\n",
       "      <th>dice_score</th>\n",
       "      <th>time</th>\n",
       "    </tr>\n",
       "  </thead>\n",
       "  <tbody>\n",
       "    <tr>\n",
       "      <td>0</td>\n",
       "      <td>0.426883</td>\n",
       "      <td>0.427382</td>\n",
       "      <td>0.246723</td>\n",
       "      <td>01:22</td>\n",
       "    </tr>\n",
       "  </tbody>\n",
       "</table>"
      ],
      "text/plain": [
       "<IPython.core.display.HTML object>"
      ]
     },
     "metadata": {},
     "output_type": "display_data"
    },
    {
     "name": "stdout",
     "output_type": "stream",
     "text": [
      "Better model found at epoch 0 with dice_score value: 0.24672286212444305.\n"
     ]
    }
   ],
   "source": [
    "print(\"PRE learn.fit one cycle\")\n",
    "with learn.distrib_ctx():\n",
    "    learn.fit_one_cycle(1, 3e-3, wd = 1e-4)"
   ]
  },
  {
   "cell_type": "code",
   "execution_count": 26,
   "id": "21f23ea1",
   "metadata": {},
   "outputs": [
    {
     "name": "stdout",
     "output_type": "stream",
     "text": [
      "unfreeze, learn 30\n"
     ]
    },
    {
     "data": {
      "text/html": [
       "<table border=\"1\" class=\"dataframe\">\n",
       "  <thead>\n",
       "    <tr style=\"text-align: left;\">\n",
       "      <th>epoch</th>\n",
       "      <th>train_loss</th>\n",
       "      <th>valid_loss</th>\n",
       "      <th>dice_score</th>\n",
       "      <th>time</th>\n",
       "    </tr>\n",
       "  </thead>\n",
       "  <tbody>\n",
       "    <tr>\n",
       "      <td>0</td>\n",
       "      <td>0.422948</td>\n",
       "      <td>0.420150</td>\n",
       "      <td>0.097193</td>\n",
       "      <td>01:17</td>\n",
       "    </tr>\n",
       "    <tr>\n",
       "      <td>1</td>\n",
       "      <td>0.418967</td>\n",
       "      <td>0.418131</td>\n",
       "      <td>0.035945</td>\n",
       "      <td>01:17</td>\n",
       "    </tr>\n",
       "    <tr>\n",
       "      <td>2</td>\n",
       "      <td>0.390022</td>\n",
       "      <td>0.343451</td>\n",
       "      <td>0.609195</td>\n",
       "      <td>01:16</td>\n",
       "    </tr>\n",
       "    <tr>\n",
       "      <td>3</td>\n",
       "      <td>0.230295</td>\n",
       "      <td>0.228906</td>\n",
       "      <td>0.386022</td>\n",
       "      <td>01:15</td>\n",
       "    </tr>\n",
       "    <tr>\n",
       "      <td>4</td>\n",
       "      <td>0.123990</td>\n",
       "      <td>0.042624</td>\n",
       "      <td>0.746254</td>\n",
       "      <td>01:15</td>\n",
       "    </tr>\n",
       "    <tr>\n",
       "      <td>5</td>\n",
       "      <td>0.069994</td>\n",
       "      <td>0.034468</td>\n",
       "      <td>0.757484</td>\n",
       "      <td>01:18</td>\n",
       "    </tr>\n",
       "    <tr>\n",
       "      <td>6</td>\n",
       "      <td>0.049197</td>\n",
       "      <td>0.062268</td>\n",
       "      <td>0.654944</td>\n",
       "      <td>01:15</td>\n",
       "    </tr>\n",
       "    <tr>\n",
       "      <td>7</td>\n",
       "      <td>0.037891</td>\n",
       "      <td>0.059800</td>\n",
       "      <td>0.675097</td>\n",
       "      <td>01:16</td>\n",
       "    </tr>\n",
       "    <tr>\n",
       "      <td>8</td>\n",
       "      <td>0.032407</td>\n",
       "      <td>0.025846</td>\n",
       "      <td>0.777986</td>\n",
       "      <td>01:17</td>\n",
       "    </tr>\n",
       "    <tr>\n",
       "      <td>9</td>\n",
       "      <td>0.028001</td>\n",
       "      <td>0.021486</td>\n",
       "      <td>0.800481</td>\n",
       "      <td>01:17</td>\n",
       "    </tr>\n",
       "    <tr>\n",
       "      <td>10</td>\n",
       "      <td>0.027343</td>\n",
       "      <td>0.033202</td>\n",
       "      <td>0.756431</td>\n",
       "      <td>01:16</td>\n",
       "    </tr>\n",
       "    <tr>\n",
       "      <td>11</td>\n",
       "      <td>0.026947</td>\n",
       "      <td>0.023551</td>\n",
       "      <td>0.787149</td>\n",
       "      <td>01:16</td>\n",
       "    </tr>\n",
       "    <tr>\n",
       "      <td>12</td>\n",
       "      <td>0.024234</td>\n",
       "      <td>0.023748</td>\n",
       "      <td>0.797622</td>\n",
       "      <td>01:16</td>\n",
       "    </tr>\n",
       "    <tr>\n",
       "      <td>13</td>\n",
       "      <td>0.024262</td>\n",
       "      <td>0.021150</td>\n",
       "      <td>0.799432</td>\n",
       "      <td>01:16</td>\n",
       "    </tr>\n",
       "    <tr>\n",
       "      <td>14</td>\n",
       "      <td>0.022331</td>\n",
       "      <td>0.024686</td>\n",
       "      <td>0.779503</td>\n",
       "      <td>01:18</td>\n",
       "    </tr>\n",
       "    <tr>\n",
       "      <td>15</td>\n",
       "      <td>0.021289</td>\n",
       "      <td>0.016732</td>\n",
       "      <td>0.820300</td>\n",
       "      <td>01:16</td>\n",
       "    </tr>\n",
       "    <tr>\n",
       "      <td>16</td>\n",
       "      <td>0.021760</td>\n",
       "      <td>0.018031</td>\n",
       "      <td>0.813947</td>\n",
       "      <td>01:17</td>\n",
       "    </tr>\n",
       "    <tr>\n",
       "      <td>17</td>\n",
       "      <td>0.021920</td>\n",
       "      <td>0.017768</td>\n",
       "      <td>0.817604</td>\n",
       "      <td>01:16</td>\n",
       "    </tr>\n",
       "    <tr>\n",
       "      <td>18</td>\n",
       "      <td>0.020052</td>\n",
       "      <td>0.018444</td>\n",
       "      <td>0.813497</td>\n",
       "      <td>01:16</td>\n",
       "    </tr>\n",
       "    <tr>\n",
       "      <td>19</td>\n",
       "      <td>0.019119</td>\n",
       "      <td>0.016228</td>\n",
       "      <td>0.822709</td>\n",
       "      <td>01:15</td>\n",
       "    </tr>\n",
       "    <tr>\n",
       "      <td>20</td>\n",
       "      <td>0.019519</td>\n",
       "      <td>0.018116</td>\n",
       "      <td>0.814786</td>\n",
       "      <td>01:17</td>\n",
       "    </tr>\n",
       "    <tr>\n",
       "      <td>21</td>\n",
       "      <td>0.019049</td>\n",
       "      <td>0.015457</td>\n",
       "      <td>0.828534</td>\n",
       "      <td>01:17</td>\n",
       "    </tr>\n",
       "    <tr>\n",
       "      <td>22</td>\n",
       "      <td>0.018540</td>\n",
       "      <td>0.016037</td>\n",
       "      <td>0.823744</td>\n",
       "      <td>01:16</td>\n",
       "    </tr>\n",
       "    <tr>\n",
       "      <td>23</td>\n",
       "      <td>0.017759</td>\n",
       "      <td>0.016838</td>\n",
       "      <td>0.821198</td>\n",
       "      <td>01:15</td>\n",
       "    </tr>\n",
       "    <tr>\n",
       "      <td>24</td>\n",
       "      <td>0.016423</td>\n",
       "      <td>0.014300</td>\n",
       "      <td>0.833477</td>\n",
       "      <td>01:17</td>\n",
       "    </tr>\n",
       "    <tr>\n",
       "      <td>25</td>\n",
       "      <td>0.016208</td>\n",
       "      <td>0.013980</td>\n",
       "      <td>0.835163</td>\n",
       "      <td>01:15</td>\n",
       "    </tr>\n",
       "    <tr>\n",
       "      <td>26</td>\n",
       "      <td>0.016026</td>\n",
       "      <td>0.014231</td>\n",
       "      <td>0.834126</td>\n",
       "      <td>01:16</td>\n",
       "    </tr>\n",
       "    <tr>\n",
       "      <td>27</td>\n",
       "      <td>0.014479</td>\n",
       "      <td>0.014215</td>\n",
       "      <td>0.834648</td>\n",
       "      <td>01:17</td>\n",
       "    </tr>\n",
       "    <tr>\n",
       "      <td>28</td>\n",
       "      <td>0.015679</td>\n",
       "      <td>0.014413</td>\n",
       "      <td>0.833245</td>\n",
       "      <td>01:15</td>\n",
       "    </tr>\n",
       "    <tr>\n",
       "      <td>29</td>\n",
       "      <td>0.016224</td>\n",
       "      <td>0.014428</td>\n",
       "      <td>0.833239</td>\n",
       "      <td>01:16</td>\n",
       "    </tr>\n",
       "  </tbody>\n",
       "</table>"
      ],
      "text/plain": [
       "<IPython.core.display.HTML object>"
      ]
     },
     "metadata": {},
     "output_type": "display_data"
    },
    {
     "name": "stdout",
     "output_type": "stream",
     "text": [
      "Better model found at epoch 0 with dice_score value: 0.09719299525022507.\n",
      "Better model found at epoch 2 with dice_score value: 0.6091952323913574.\n",
      "Better model found at epoch 4 with dice_score value: 0.7462543249130249.\n",
      "Better model found at epoch 5 with dice_score value: 0.7574840784072876.\n",
      "Better model found at epoch 8 with dice_score value: 0.7779859900474548.\n",
      "Better model found at epoch 9 with dice_score value: 0.8004812002182007.\n",
      "Better model found at epoch 15 with dice_score value: 0.8202997446060181.\n",
      "Better model found at epoch 19 with dice_score value: 0.822708785533905.\n",
      "Better model found at epoch 21 with dice_score value: 0.8285341262817383.\n",
      "Better model found at epoch 24 with dice_score value: 0.833476722240448.\n",
      "Better model found at epoch 25 with dice_score value: 0.8351632356643677.\n"
     ]
    }
   ],
   "source": [
    "print(f\"unfreeze, learn {nepochs}\")\n",
    "learn.unfreeze()\n",
    "with learn.distrib_ctx():\n",
    "    learn.fit_one_cycle(nepochs, 3e-3, wd = 1e-4)"
   ]
  },
  {
   "cell_type": "code",
   "execution_count": 27,
   "id": "2bc8b68d",
   "metadata": {},
   "outputs": [
    {
     "data": {
      "image/png": "[encoded data removed]",
      "text/plain": [
       "<Figure size 432x288 with 1 Axes>"
      ]
     },
     "metadata": {
      "needs_background": "light"
     },
     "output_type": "display_data"
    }
   ],
   "source": [
    "learn.recorder.plot_loss()"
   ]
  },
  {
   "cell_type": "code",
   "execution_count": 28,
   "id": "828ffcde",
   "metadata": {},
   "outputs": [],
   "source": [
    "@patch\n",
    "@delegates(subplots)\n",
    "def plot_metrics(self: Recorder, nrows=None, ncols=None, figsize=None, **kwargs):\n",
    "    metrics = np.stack(self.values)\n",
    "    names = self.metric_names[1:-1]\n",
    "    n = len(names) - 1\n",
    "    if nrows is None and ncols is None:\n",
    "        nrows = int(math.sqrt(n))\n",
    "        ncols = int(np.ceil(n / nrows))\n",
    "    elif nrows is None: nrows = int(np.ceil(n / ncols))\n",
    "    elif ncols is None: ncols = int(np.ceil(n / nrows))\n",
    "    figsize = figsize or (ncols * 6, nrows * 4)\n",
    "    fig, axs = subplots(nrows, ncols, figsize=figsize, **kwargs)\n",
    "    axs = [ax if i < n else ax.set_axis_off() for i, ax in enumerate(axs.flatten())][:n]\n",
    "    for i, (name, ax) in enumerate(zip(names, [axs[0]] + axs)):\n",
    "        ax.plot(metrics[:, i], color='#1f77b4' if i == 0 else '#ff7f0e', label='valid' if i > 0 else 'train')\n",
    "        ax.set_title(name if i > 1 else 'losses')\n",
    "        ax.legend(loc='best')\n",
    "    plt.show()"
   ]
  },
  {
   "cell_type": "code",
   "execution_count": 29,
   "id": "ec814eaf",
   "metadata": {
    "scrolled": true
   },
   "outputs": [
    {
     "data": {
      "image/png": "[encoded data removed]",
      "text/plain": [
       "<Figure size 864x288 with 2 Axes>"
      ]
     },
     "metadata": {
      "needs_background": "light"
     },
     "output_type": "display_data"
    }
   ],
   "source": [
    "learn.recorder.plot_metrics()"
   ]
  },
  {
   "cell_type": "code",
   "execution_count": null,
   "id": "05942f83",
   "metadata": {},
   "outputs": [],
   "source": [
    "with learn.distrib_ctx():\n",
    "    learn.fit_one_cycle(nepochs, 3e-3, wd = 1e-4)"
   ]
  },
  {
   "cell_type": "markdown",
   "id": "dbbd2492",
   "metadata": {},
   "source": [
    "# Affine Tfm"
   ]
  },
  {
   "cell_type": "code",
   "execution_count": null,
   "id": "076d3ad9",
   "metadata": {},
   "outputs": [],
   "source": [
    "# from OBELISK mattiaspaul\n",
    "\n",
    "def augmentAffine(img_in, seg_in, strength=0.05):\n",
    "    \"\"\"\n",
    "    3D affine augmentation on image and segmentation mini-batch on GPU.\n",
    "    (affine transf. is centered: trilinear interpolation and zero-padding used for sampling)\n",
    "    :input: img_in batch (torch.cuda.FloatTensor), seg_in batch (torch.cuda.LongTensor)\n",
    "    :return: augmented BxCxTxHxW image batch (torch.cuda.FloatTensor), augmented BxTxHxW seg batch (torch.cuda.LongTensor)\n",
    "    \"\"\"\n",
    "    B,C,D,H,W = img_in.size()\n",
    "    affine_matrix = (torch.eye(3,4).unsqueeze(0) + torch.randn(B, 3, 4) * strength).to(img_in.device)\n",
    "\n",
    "    meshgrid = F.affine_grid(affine_matrix,torch.Size((B,1,D,H,W)))\n",
    "\n",
    "    img_out = F.grid_sample(img_in, meshgrid,padding_mode='border')\n",
    "    seg_out = F.grid_sample(seg_in.float(), meshgrid, mode='nearest').long()\n",
    "\n",
    "    return img_out, seg_out\n"
   ]
  },
  {
   "cell_type": "code",
   "execution_count": null,
   "id": "969a2340",
   "metadata": {},
   "outputs": [],
   "source": [
    "torch.eye(3,4).unsqueeze(0)"
   ]
  },
  {
   "cell_type": "code",
   "execution_count": null,
   "id": "6f1d1688",
   "metadata": {},
   "outputs": [],
   "source": [
    "torch.randn(1, 3, 4)*0.05"
   ]
  },
  {
   "cell_type": "code",
   "execution_count": null,
   "id": "4a8bda05",
   "metadata": {},
   "outputs": [],
   "source": [
    "# batch\n",
    "b_img_in, b_seg_in = dls.one_batch()\n",
    "#b_seg_in = b_seg_in.squeeze(1)\n",
    "print(b_img_in.shape, b_seg_in.shape)"
   ]
  },
  {
   "cell_type": "code",
   "execution_count": null,
   "id": "2e0182e7",
   "metadata": {},
   "outputs": [],
   "source": [
    "b_img_out, b_seg_out = augmentAffine(b_img_in, b_seg_in)\n",
    "print(b_img_out.shape, b_seg_out.shape)\n",
    "\n",
    "idx = 0\n",
    "img_in, seg_in, img_out, seg_out = [arr[idx].squeeze(0) for arr in (b_img_in, b_seg_in, b_img_out, b_seg_out)]\n",
    "print(img_in.shape, seg_in.shape, img_out.shape, seg_out.shape)\n",
    "                                                        "
   ]
  },
  {
   "cell_type": "code",
   "execution_count": null,
   "id": "8090387a",
   "metadata": {},
   "outputs": [],
   "source": [
    "# Viz\n",
    "\n",
    "def viz_bbox(mr, seg):\n",
    "\n",
    "    mr, seg = np.array(mr), np.array(seg)\n",
    "    gt_bbox = mask2bbox(mr)\n",
    "    \n",
    "    # print bbox\n",
    "    print(\"GT: \"); print_bbox(*gt_bbox)\n",
    "\n",
    "    bbox = gt_bbox\n",
    "    \n",
    "    # viz\n",
    "    viz_axis(np_arr = mr, \\\n",
    "            bin_mask_arr   = seg,     color1 = \"yellow\",  alpha1=0.3, \\\n",
    "            #bin_mask_arr2  = pred_mk, color2 = \"magenta\", alpha2=0.3, \\\n",
    "            slices=lrange(*bbox[0:2]), fixed_axis=0, \\\n",
    "            axis_fn = np.rot90, \\\n",
    "            title   = \"Axis 0\", \\\n",
    "\n",
    "#             np_arr_b = mr, \\\n",
    "#             bin_mask_arr_b   = seg,     color1_b = \"yellow\",  alpha1_b=0.3, \\\n",
    "#             #bin_mask_arr2_b  = pred_mk, color2_b = \"magenta\", alpha2_b=0.3, \\\n",
    "#             slices_b = lrange(*bbox[2:4]), fixed_axis_b=1, \\\n",
    "#             title_b  = \"Axis 1\", \\\n",
    "\n",
    "#             np_arr_c = mr, \\\n",
    "#             bin_mask_arr_c   = seg,     color1_c = \"yellow\",  alpha1_c=0.3, \\\n",
    "#             #bin_mask_arr2_c  = pred_mk, color2_c = \"magenta\", alpha2_c=0.3, \\\n",
    "#             slices_c = lrange(*bbox[4:6]), fixed_axis_c=2, \\\n",
    "#             title_c = \"Axis 2\", \\\n",
    "  \n",
    "        ncols = 5, hspace=0.3, fig_mult=2)\n"
   ]
  },
  {
   "cell_type": "code",
   "execution_count": null,
   "id": "fbffcc56",
   "metadata": {},
   "outputs": [],
   "source": [
    "viz_bbox(img_in.cpu(), seg_in.cpu())"
   ]
  },
  {
   "cell_type": "code",
   "execution_count": null,
   "id": "fa5b84ab",
   "metadata": {},
   "outputs": [],
   "source": [
    "# learn.save('iso_3mm_pad_87_90_90_subset_50_epochs_50')"
   ]
  },
  {
   "cell_type": "code",
   "execution_count": null,
   "id": "fcb52fc0",
   "metadata": {},
   "outputs": [],
   "source": [
    "viz_bbox(img_out.cpu(), seg_out.cpu())"
   ]
  },
  {
   "cell_type": "code",
   "execution_count": null,
   "id": "1ddc310c",
   "metadata": {},
   "outputs": [],
   "source": [
    "# learn.lr_find()"
   ]
  },
  {
   "cell_type": "code",
   "execution_count": null,
   "id": "1f4975b9",
   "metadata": {},
   "outputs": [],
   "source": [
    "# print(\"unfreeze, learn 50\")\n",
    "# learn.unfreeze()\n",
    "# learn.fit_one_cycle(50, 1e-3, wd = 1e-4)"
   ]
  },
  {
   "cell_type": "code",
   "execution_count": null,
   "id": "bdfe0865",
   "metadata": {},
   "outputs": [],
   "source": []
  },
  {
   "cell_type": "code",
   "execution_count": null,
   "id": "e0f079af",
   "metadata": {},
   "outputs": [],
   "source": []
  },
  {
   "cell_type": "code",
   "execution_count": null,
   "id": "c5ae06db",
   "metadata": {},
   "outputs": [],
   "source": [
    "# testmask = torch.tensor([[[False, False, False], [False, False, False], [True, True, True]],\n",
    "#                        [[False, False, False], [False, False, True], [True, True, True]],\n",
    "#                        [[False, False, False], [False, False, False], [False, False, False]]])\n",
    "# testmask"
   ]
  },
  {
   "cell_type": "code",
   "execution_count": null,
   "id": "68fb68b5",
   "metadata": {},
   "outputs": [],
   "source": [
    "# testmaskN = np.array(testmask)\n",
    "# testmaskN"
   ]
  },
  {
   "cell_type": "code",
   "execution_count": null,
   "id": "66ed8d8f",
   "metadata": {},
   "outputs": [],
   "source": [
    "# maskT = testmask.type(torch.BoolTensor)\n",
    "\n",
    "# iT = torch.any(maskT, dim=(1,2))\n",
    "# jT = torch.any(maskT, dim=(0,2))\n",
    "# kT = torch.any(maskT, dim=(0,1))\n",
    "\n",
    "# iminT, imaxT = torch.where(iT)[0][[0, -1]]\n",
    "# jminT, jmaxT = torch.where(jT)[0][[0, -1]]\n",
    "# kminT, kmaxT = torch.where(kT)[0][[0, -1]]"
   ]
  },
  {
   "cell_type": "code",
   "execution_count": null,
   "id": "065c9ad0",
   "metadata": {},
   "outputs": [],
   "source": [
    "# maskN = np.array(testmask).astype(bool)\n",
    "    \n",
    "# iN = np.any(maskN, axis=(1, 2))\n",
    "# jN = np.any(maskN, axis=(0, 2))\n",
    "# kN = np.any(maskN, axis=(0, 1))\n",
    "\n",
    "# iminN, imaxN = np.where(iN)[0][[0, -1]]\n",
    "# jminN, jmaxN = np.where(jN)[0][[0, -1]]\n",
    "# kminN, kmaxN = np.where(kN)[0][[0, -1]]"
   ]
  },
  {
   "cell_type": "code",
   "execution_count": null,
   "id": "520981df",
   "metadata": {},
   "outputs": [],
   "source": [
    "# maskT.shape, maskN.shape"
   ]
  },
  {
   "cell_type": "code",
   "execution_count": null,
   "id": "c7c270cb",
   "metadata": {},
   "outputs": [],
   "source": [
    "# print(iT)\n",
    "# print(jT)\n",
    "# print(kT)\n",
    "# print([x for x in (iminT, imaxT, jminT, jmaxT, kminT, kmaxT)])"
   ]
  },
  {
   "cell_type": "code",
   "execution_count": null,
   "id": "a9ec78a5",
   "metadata": {},
   "outputs": [],
   "source": [
    "# print(iN)\n",
    "# print(jN)\n",
    "# print(kN)\n",
    "# print([int(x) for x in (iminN, imaxN, jminN, jmaxN, kminN, kmaxN)])"
   ]
  },
  {
   "cell_type": "code",
   "execution_count": null,
   "id": "c2842131",
   "metadata": {},
   "outputs": [],
   "source": [
    "#     def torch_mask2bbox(mask):\n",
    "#         mask = mask.type(torch.BoolTensor)\n",
    "\n",
    "#         i = torch.any(mask, dim=0)\n",
    "#         j = torch.any(mask, dim=1)\n",
    "#         k = torch.any(mask, dim=2)\n",
    "\n",
    "#         imin, imax = torch.where(i)[0][[0, -1]]\n",
    "#         jmin, jmax = torch.where(j)[0][[0, -1]]\n",
    "#         kmin, kmax = torch.where(k)[0][[0, -1]]\n",
    "\n",
    "#         # inclusive idxs\n",
    "#         return imin, imax+1, jmin, jmax+1, kmin, kmax+1"
   ]
  },
  {
   "cell_type": "code",
   "execution_count": null,
   "id": "4fdd99f2",
   "metadata": {},
   "outputs": [],
   "source": [
    "# with open(f\"{model_src}/{model_name}_test_items.pkl\", 'rb') as f:\n",
    "#     check_test_items = pickle.load(f)\n",
    "#     print(check_test_items==test_items)\n",
    "#     print(check_test_items[0])"
   ]
  },
  {
   "cell_type": "code",
   "execution_count": null,
   "id": "0318681b",
   "metadata": {},
   "outputs": [],
   "source": []
  },
  {
   "cell_type": "code",
   "execution_count": null,
   "id": "2c01f18c",
   "metadata": {},
   "outputs": [],
   "source": [
    "# unique, for rapid prototyping\n",
    "\n",
    "# MR files: unique sz, sp, dir\n",
    "with open(f'{deepPit_src}/saved_metadata/unique_sz_sp_dir.pkl', 'rb') as f:\n",
    "    unique = pickle.load(f)\n",
    "    \n",
    "# Create (MR path, Segm path) item from MR path\n",
    "def get_folder_name(s):\n",
    "    start = s.index(\"samir_labels/\")\n",
    "    s = s[start + len(\"samir_labels/50373-50453/\"):]\n",
    "    return s[0:s.index(\"/\")]\n",
    "\n",
    "def change_prefix(s):\n",
    "    start = s.index(\"samir_labels/\")\n",
    "    return f\"{label_src}/{s[start+len('samir_labels/'):]}\"\n",
    "\n",
    "# get unique\n",
    "unique = [(change_prefix(mr), data[get_folder_name(mr)][1]) for mr in unique]"
   ]
  },
  {
   "cell_type": "markdown",
   "id": "129aecee",
   "metadata": {},
   "source": [
    "# Transforms\n",
    "\n",
    "1. Isotropic 3mm or Resize to 50x50x50 dimensions\n",
    "2. Crop/Pad to common dimensions"
   ]
  },
  {
   "cell_type": "code",
   "execution_count": null,
   "id": "f61ce3c9",
   "metadata": {},
   "outputs": [],
   "source": [
    "# test\n",
    "\n",
    "tfms = [Iso(2)]\n",
    "tls = TfmdLists(unique, tfms)\n",
    "\n",
    "start = time.time()\n",
    "iso_szs = [mr.shape for mr,mk in tls]\n",
    "elapsed = time.time() - start\n",
    "\n",
    "print(f\"Elapsed: {elapsed} s for {len(unique)} items.\")"
   ]
  },
  {
   "cell_type": "code",
   "execution_count": null,
   "id": "65040f92",
   "metadata": {},
   "outputs": [],
   "source": [
    "start = time.time()\n",
    "iso_szs = [mr.shape for mr,mk in tls]\n",
    "elapsed = time.time() - start\n",
    "\n",
    "print(f\"Elapsed: {elapsed} s for {len(unique)} items.\")"
   ]
  },
  {
   "cell_type": "code",
   "execution_count": null,
   "id": "dcef259d",
   "metadata": {},
   "outputs": [],
   "source": [
    "print(*[f\"{get_folder_name(mr)}: {tuple(sz)}\" for (mr,mk),sz in zip(unique, iso_szs)], sep=\"\\n\")"
   ]
  },
  {
   "cell_type": "code",
   "execution_count": null,
   "id": "594e534d",
   "metadata": {},
   "outputs": [],
   "source": [
    "maxs = [int(x) for x in torch.max(torch.tensor(iso_szs), dim=0).values]\n",
    "print(\"Maxs: \", maxs)"
   ]
  },
  {
   "cell_type": "markdown",
   "id": "236eb374",
   "metadata": {},
   "source": [
    "# Crop"
   ]
  },
  {
   "cell_type": "code",
   "execution_count": null,
   "id": "11ff1d8d",
   "metadata": {},
   "outputs": [],
   "source": [
    "# # test\n",
    "# iso_items = list(tls[0:2])\n",
    "\n",
    "# # tfms\n",
    "# pad_tfms = [PadSz(maxs)]\n",
    "\n",
    "# # tls\n",
    "# pad_tls = TfmdLists(iso_items, pad_tfms)\n",
    "\n",
    "# pad_tls[0][0].shape, pad_tls[1][0].shape"
   ]
  },
  {
   "cell_type": "code",
   "execution_count": null,
   "id": "683aaf17",
   "metadata": {},
   "outputs": [],
   "source": []
  }
 ],
 "metadata": {
  "kernelspec": {
   "display_name": "Python 3",
   "language": "python",
   "name": "python3"
  },
  "language_info": {
   "codemirror_mode": {
    "name": "ipython",
    "version": 3
   },
   "file_extension": ".py",
   "mimetype": "text/x-python",
   "name": "python",
   "nbconvert_exporter": "python",
   "pygments_lexer": "ipython3",
   "version": "3.6.9"
  }
 },
 "nbformat": 4,
 "nbformat_minor": 5
}
