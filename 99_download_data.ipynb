{
 "cells": [
  {
   "cell_type": "code",
   "execution_count": 1,
   "id": "623596b7",
   "metadata": {},
   "outputs": [],
   "source": [
    "import os"
   ]
  },
  {
   "cell_type": "code",
   "execution_count": 4,
   "id": "ed0890c2",
   "metadata": {},
   "outputs": [],
   "source": [
    "# from pathlib import Path\n",
    "\n",
    "# src_path = f\"/gpfs/data/oermannlab/private_data/DeepPit/saved_rigid_reg2\"\n",
    "# trg_path = f\"/gpfs/data/oermannlab/private_data/DeepPit/saved_rigid_reg\"\n",
    "\n",
    "# for each_file in Path(src_path).glob('*.*'): # grabs all files\n",
    "#     each_file.rename(Path(trg_path).joinpath(each_file.name)) # moves to parent folder."
   ]
  },
  {
   "cell_type": "code",
   "execution_count": 17,
   "id": "6f05dc19",
   "metadata": {},
   "outputs": [],
   "source": [
    "# download links\n",
    "ppmi_full  = \"https://www.dropbox.com/sh/bxuw198yx9ssvtl/AAAsZi9DWQFVefd3L7BtvwXfa?dl=0\"\n",
    "icmb_full  = \"https://www.dropbox.com/sh/f61zv1q5kirzljn/AADJtefmT3BFZATi2doRUw8ka?dl=0\"\n",
    "adni1_full = \"https://www.dropbox.com/sh/ibuuy9iixazg7vz/AADomHbTNxmf7sA72q6Up5i_a?dl=0\"\n",
    "aibl_full  = \"https://www.dropbox.com/sh/1tq8gn8hnhpgzs0/AAAgoSLkoKnLyizhUtZ_JkGOa?dl=0\"\n",
    "abvib_full = \"https://www.dropbox.com/sh/3it37rw92mgqw13/AABBJq8QMHvXwe6u25BNvt19a?dl=0\""
   ]
  },
  {
   "cell_type": "code",
   "execution_count": 18,
   "id": "a37cf865",
   "metadata": {},
   "outputs": [],
   "source": [
    "zip_dir = \"/gpfs/data/oermannlab/private_data/DeepPit/PitMRdata\"\n",
    "unzip_dir = f\"samir_labels\""
   ]
  },
  {
   "cell_type": "code",
   "execution_count": 19,
   "id": "45e44e63",
   "metadata": {},
   "outputs": [],
   "source": [
    "# commands curl -L -o newName.zip https://www.dropbox.com/sh/[folderLink]?dl=1\n",
    "names  = [\"PPMI_full\", \"ICMB_full\", \"ADNI1_full\", \"AIBL_full\", \"ABVIB_full\"]\n",
    "links  = [ppmi_full, icmb_full, adni1_full, aibl_full, abvib_full]\n",
    "curls  = [f\"curl -L -o {zip_dir}/{name}.zip {link[:-1] + '1'}\" for name, link in zip(names, links)]\n",
    "\n",
    "# unzip -d samir_labels/PPMI_3107-3326 PPMI_3107-3326.zip\n",
    "unzips = [f\"unzip -d {unzip_dir}/{name} {zip_dir}/{name}.zip\" for name in names]"
   ]
  },
  {
   "cell_type": "code",
   "execution_count": 20,
   "id": "e6aff129",
   "metadata": {},
   "outputs": [
    {
     "name": "stdout",
     "output_type": "stream",
     "text": [
      "curl -L -o PPMI_full.zip https://www.dropbox.com/sh/bxuw198yx9ssvtl/AAAsZi9DWQFVefd3L7BtvwXfa?dl=1\n",
      "unzip -d samir_labels/PPMI_full PPMI_full.zip\n"
     ]
    }
   ],
   "source": [
    "print(curls[0])\n",
    "print(unzips[0])"
   ]
  },
  {
   "cell_type": "code",
   "execution_count": 29,
   "id": "8bbdf056",
   "metadata": {
    "scrolled": true
   },
   "outputs": [
    {
     "name": "stdout",
     "output_type": "stream",
     "text": [
      "\n",
      "\n",
      "\n",
      "\n",
      "\n"
     ]
    }
   ],
   "source": [
    "# execute curl\n",
    "for curl in curls:\n",
    "    result = os.popen(curl).read()\n",
    "    print(result)"
   ]
  },
  {
   "cell_type": "code",
   "execution_count": 28,
   "id": "ca2b203b",
   "metadata": {},
   "outputs": [
    {
     "name": "stdout",
     "output_type": "stream",
     "text": [
      "\n",
      "\n",
      "\n",
      "\n",
      "\n"
     ]
    }
   ],
   "source": [
    "# execute unzip\n",
    "for unzip in unzips:\n",
    "    result = os.popen(unzip).read()\n",
    "    print(result)"
   ]
  },
  {
   "cell_type": "code",
   "execution_count": 31,
   "id": "dc41ed81",
   "metadata": {},
   "outputs": [],
   "source": [
    "# for name in names:\n",
    "#     os.remove(f\"{name}.zip\")"
   ]
  },
  {
   "cell_type": "code",
   "execution_count": null,
   "id": "e99304df",
   "metadata": {},
   "outputs": [],
   "source": []
  }
 ],
 "metadata": {
  "kernelspec": {
   "display_name": "Python 3",
   "language": "python",
   "name": "python3"
  },
  "language_info": {
   "codemirror_mode": {
    "name": "ipython",
    "version": 3
   },
   "file_extension": ".py",
   "mimetype": "text/x-python",
   "name": "python",
   "nbconvert_exporter": "python",
   "pygments_lexer": "ipython3",
   "version": "3.6.9"
  }
 },
 "nbformat": 4,
 "nbformat_minor": 5
}
