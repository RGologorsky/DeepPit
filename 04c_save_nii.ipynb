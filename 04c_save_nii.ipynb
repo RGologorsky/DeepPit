{
 "cells": [
  {
   "cell_type": "markdown",
   "id": "705a6225",
   "metadata": {},
   "source": [
    "# Goal\n",
    "\n",
    "Save nii"
   ]
  },
  {
   "cell_type": "markdown",
   "id": "dec891cc",
   "metadata": {},
   "source": [
    "# Imports"
   ]
  },
  {
   "cell_type": "code",
   "execution_count": 1,
   "id": "36327f12",
   "metadata": {},
   "outputs": [],
   "source": [
    "# NYU\n",
    "code_src    = \"/gpfs/home/gologr01\"\n",
    "data_src    = \"/gpfs/data/oermannlab/private_data/DeepPit\""
   ]
  },
  {
   "cell_type": "code",
   "execution_count": 2,
   "id": "5b362b7e",
   "metadata": {},
   "outputs": [],
   "source": [
    "# UMich \n",
    "# code src: \"/home/labcomputer/Desktop/Rachel\"\n",
    "# data src: \"../../../../..//media/labcomputer/e33f6fe0-5ede-4be4-b1f2-5168b7903c7a/home/rachel/\""
   ]
  },
  {
   "cell_type": "code",
   "execution_count": 3,
   "id": "bc7ab87c",
   "metadata": {},
   "outputs": [
    {
     "name": "stdout",
     "output_type": "stream",
     "text": [
      "Folders in dset src: ICMB, ABVIB (1).zip, central.xnat.org, ADNI, PPMI, Oasis_long, samir_labels, ACRIN-FMISO-Brain, LGG-1p19qDeletion, REMBRANDT, AIBL, CPTAC-GBM, TCGA-GBM, TCGA-LGG, ABVIB, ABIDE, AIBL.zip\n"
     ]
    }
   ],
   "source": [
    "import os\n",
    "\n",
    "# Paths to (1) code (2) data (3) saved models (4) saved metadata\n",
    "deepPit_src = f\"{code_src}/DeepPit\"\n",
    "obelisk_src = f\"{code_src}/OBELISK\"\n",
    "\n",
    "# saved models, dset metadata\n",
    "model_src  = f\"{data_src}/saved_models\"\n",
    "dsetmd_src = f\"{data_src}/saved_dset_metadata\"\n",
    "\n",
    "# dsets\n",
    "dsets_src    = f\"{data_src}/PitMRdata\"\n",
    "\n",
    "# key,val = dset_name, path to top level dir\n",
    "dset_dict = {\n",
    "    \"ABIDE\"                  : f\"{dsets_src}/ABIDE\",\n",
    "    \"ABVIB\"                  : f\"{dsets_src}/ABVIB/ABVIB\",\n",
    "    \"ADNI1_Complete_1Yr_1.5T\": f\"{dsets_src}/ADNI/ADNI1_Complete_1Yr_1.5T/ADNI\",\n",
    "    \"AIBL\"                   : f\"{dsets_src}/AIBL/AIBL\",\n",
    "    \"ICMB\"                   : f\"{dsets_src}/ICMB/ICBM\",\n",
    "    \"PPMI\"                   : f\"{dsets_src}/PPMI/PPMI\",\n",
    "}\n",
    "\n",
    "# print\n",
    "print(\"Folders in dset src: \", end=\"\"); print(*os.listdir(dsets_src), sep=\", \")"
   ]
  },
  {
   "cell_type": "code",
   "execution_count": 4,
   "id": "0cc19f13",
   "metadata": {},
   "outputs": [],
   "source": [
    "# imports\n",
    "\n",
    "# Utilities\n",
    "import os\n",
    "import sys\n",
    "import time\n",
    "import glob\n",
    "import pickle\n",
    "from pathlib import Path\n",
    "# sys.path.append('/gpfs/home/gologr01/DeepPit')\n",
    "# sys.path.append('/gpfs/home/gologr01/OBELISK')\n",
    "\n",
    "# Numpy torch pandas\n",
    "import torch\n",
    "\n",
    "# imports\n",
    "import SimpleITK as sitk\n",
    "import meshio\n",
    "from helpers.preprocess import seg2mask, get_data_dict"
   ]
  },
  {
   "cell_type": "markdown",
   "id": "f5aaa82a",
   "metadata": {},
   "source": [
    "# MR data"
   ]
  },
  {
   "cell_type": "code",
   "execution_count": 5,
   "id": "28578568",
   "metadata": {},
   "outputs": [],
   "source": [
    "dset_name = \"ABVIB\" #\"AIBL\" #\"ABVIB\" #\"ICMB\" # \"AIBL\" # \"ABVIB\" #PPMI\n",
    "dset_src  = dset_dict[dset_name]\n",
    "\n",
    "# load files\n",
    "with open(f\"{dsetmd_src}/{dset_name}_dset_metadata.pkl\", \"rb\") as f:\n",
    "    q_t1 = pickle.load(f)\n",
    "\n",
    "with open(f\"{dsetmd_src}/{dset_name}_fnames.txt\", \"rb\") as f:\n",
    "    fnames = pickle.load(f)"
   ]
  },
  {
   "cell_type": "code",
   "execution_count": 6,
   "id": "94337d93",
   "metadata": {},
   "outputs": [
    {
     "name": "stdout",
     "output_type": "stream",
     "text": [
      "ABVIB 403\n"
     ]
    }
   ],
   "source": [
    "print(dset_name, len(fnames)) #, *fnames, sep=\"\\n\")"
   ]
  },
  {
   "cell_type": "markdown",
   "id": "ea427bef",
   "metadata": {},
   "source": [
    "# Test/Cleanup"
   ]
  },
  {
   "cell_type": "code",
   "execution_count": 9,
   "id": "033b99ff",
   "metadata": {},
   "outputs": [
    {
     "name": "stdout",
     "output_type": "stream",
     "text": [
      "Corrected: 0, TODO: 403, Dupl: 0\n"
     ]
    }
   ],
   "source": [
    "corrected = []\n",
    "uncorrected = []\n",
    "multiple    = []\n",
    "\n",
    "def is_corrected(f):\n",
    "    nii_paths     = glob.glob(f\"{f}/*nii.nii\")\n",
    "    #cor_nii_paths = glob.glob(f\"{f}/*corrected_n4.nii\")\n",
    "    #las_nii_paths = glob.glob(f\"{f}/*las_corrected_n4.nii\")\n",
    "    \n",
    "    #nii_paths = [p for p in nii_paths if p not in cor_nii_paths]\n",
    "    \n",
    "    if len(nii_paths) == 1: \n",
    "        corrected.append(f)\n",
    "        return True\n",
    "    \n",
    "    if len(nii_paths) == 0: \n",
    "        uncorrected.append(f)\n",
    "        return False\n",
    "    \n",
    "    if len(nii_paths) > 1: \n",
    "        multiple.append(f)\n",
    "        return True  \n",
    "                \n",
    "for f in fnames:\n",
    "    is_corrected(f)\n",
    "    \n",
    "print(f\"Corrected: {len(corrected)}, TODO: {len(uncorrected)}, Dupl: {len(multiple)}\")"
   ]
  },
  {
   "cell_type": "code",
   "execution_count": 10,
   "id": "2822a620",
   "metadata": {},
   "outputs": [],
   "source": [
    "#print(\"Uncorrected: \", *uncorrected, sep=\"\\n\")\n",
    "\n",
    "#os.listdir(uncorrected[0])\n",
    "#uncorrected_nii = [os.path.join(f, os.listdir(f)[0]) for f in uncorrected]\n",
    "#uncorrected_nii\n",
    "\n",
    "# Very strange\n",
    "# os.remove('/gpfs/data/oermannlab/private_data/DeepPit/PitMRdata/ABIDE/ABIDE/50455/MP-RAGE/2000-01-01_00_00_00.0/S165455/._ABIDE_50455_MRI_MP-RAGE_br_raw_20120831000745302_S165455_I329465.nii')\n",
    "\n",
    "# # delete multiple\n",
    "# for f in multiple:\n",
    "#     nii_paths = glob.glob(f\"{f}/*corrected_n4_corrected_n4.nii\")\n",
    "#     for p in nii_paths:\n",
    "#         os.remove(p)\n",
    "\n",
    "# process uncorrected\n",
    "# from FAIMED3D 02_preprocessing\n",
    "# and https://simpleitk.readthedocs.io/en/master/link_N4BiasFieldCorrection_docs.html\n",
    "\n",
    "# print(\"tot \", len(uncorrected))\n",
    "\n",
    "# uncorrected_nii = [os.path.join(f, os.listdir(f)[0]) for f in uncorrected]\n",
    "\n",
    "# count = 0\n",
    "# for mr_path in uncorrected_nii: \n",
    "#     # print\n",
    "#     print(count, mr_path, flush=True)\n",
    "#     count += 1\n",
    "    \n",
    "#     # Read in image\n",
    "#     inputImage = sitk.ReadImage(mr_path, sitk.sitkFloat32)\n",
    "    \n",
    "#     # Mask the head to estimate bias\n",
    "#     maskImage = sitk.OtsuThreshold(inputImage, 0, 1, 200)\n",
    "    \n",
    "#     # Set corrector\n",
    "#     corrector = sitk.N4BiasFieldCorrectionImageFilter()\n",
    "#     corrector.SetMaximumNumberOfIterations([3] * 3)\n",
    "#     corrected_image = corrector.Execute(inputImage, maskImage)\n",
    "\n",
    "#     # write image\n",
    "#     corrected_fn = mr_path[:-4] + \"_corrected_n4.nii\"\n",
    "#     sitk.WriteImage(corrected_image, corrected_fn)"
   ]
  },
  {
   "cell_type": "markdown",
   "id": "6301d61d",
   "metadata": {},
   "source": [
    "# Get chunk"
   ]
  },
  {
   "cell_type": "code",
   "execution_count": 11,
   "id": "3566d984",
   "metadata": {},
   "outputs": [
    {
     "name": "stdout",
     "output_type": "stream",
     "text": [
      "N_chunks = 81\n"
     ]
    }
   ],
   "source": [
    "import os\n",
    "\n",
    "try:\n",
    "    taskid = int(os.getenv('SLURM_ARRAY_TASK_ID'))\n",
    "except:\n",
    "    taskid = 0\n",
    "    \n",
    "n_total = len(uncorrected)\n",
    "\n",
    "chunk_len = 5    \n",
    "chunks    = [range(i,min(i+chunk_len, n_total)) for i in range(0, n_total, chunk_len)]\n",
    "\n",
    "print(f\"N_chunks = {len(chunks)}\")\n",
    "# print(f\"Array Task ID: {taskid}\")\n",
    "# print(f\"Array ID: {os.getenv('SLURM_ARRAY_TASK_ID')}\")\n",
    "# print(f\"Job ID: {os.getenv('SLURM_JOB_ID')}\")\n",
    "#print(*chunks, sep=\"\\n\")\n",
    "\n",
    "task_chunk = chunks[taskid]"
   ]
  },
  {
   "cell_type": "code",
   "execution_count": 12,
   "id": "3ab0fcec",
   "metadata": {},
   "outputs": [],
   "source": [
    "def read_dcm(fn):\n",
    "    im = sitk.ReadImage(sitk.ImageSeriesReader_GetGDCMSeriesFileNames(fn), sitk.sitkFloat32)\n",
    "    return im\n",
    "\n",
    "def read_nii(fn):\n",
    "    im = sitk.ReadImage(im_path, sitk.sitkFloat32)    \n",
    "    return im\n",
    "\n",
    "# dcm\n",
    "    #reader = sitk.ImageSeriesReader()\n",
    "    #dicom_names = reader.GetGDCMSeriesFileNames(fn)\n",
    "    #reader.SetFileNames(dicom_names)\n",
    "    #im = reader.Execute() \n",
    "    "
   ]
  },
  {
   "cell_type": "markdown",
   "id": "b9ce2116",
   "metadata": {},
   "source": [
    "# Process"
   ]
  },
  {
   "cell_type": "code",
   "execution_count": 13,
   "id": "2cdc571f",
   "metadata": {},
   "outputs": [
    {
     "name": "stdout",
     "output_type": "stream",
     "text": [
      "5\n",
      "/gpfs/data/oermannlab/private_data/DeepPit/PitMRdata/ABVIB/ABVIB/3830/MPRAGE/2012-06-18_11_46_49.0/S341930\n",
      "/gpfs/data/oermannlab/private_data/DeepPit/PitMRdata/ABVIB/ABVIB/7036/T1_SPGR/2011-08-10_12_32_48.0/S354724\n",
      "/gpfs/data/oermannlab/private_data/DeepPit/PitMRdata/ABVIB/ABVIB/263/MPRAGE/2011-11-15_11_26_09.0/S343566\n",
      "/gpfs/data/oermannlab/private_data/DeepPit/PitMRdata/ABVIB/ABVIB/263/MPRAGE_S2_DIS3D/2011-11-15_11_26_09.0/S343575\n",
      "/gpfs/data/oermannlab/private_data/DeepPit/PitMRdata/ABVIB/ABVIB/60008/MPRAGE/2012-03-21_09_59_38.0/S342266\n"
     ]
    }
   ],
   "source": [
    "uncorrected_chunk = [uncorrected[i] for i in task_chunk]\n",
    "print(len(uncorrected_chunk), *uncorrected_chunk, sep=\"\\n\")"
   ]
  },
  {
   "cell_type": "code",
   "execution_count": 14,
   "id": "f5c3cbf8",
   "metadata": {
    "scrolled": true
   },
   "outputs": [
    {
     "name": "stdout",
     "output_type": "stream",
     "text": [
      "0 /gpfs/data/oermannlab/private_data/DeepPit/PitMRdata/ABVIB/ABVIB/3830/MPRAGE/2012-06-18_11_46_49.0/S341930\n",
      "1 /gpfs/data/oermannlab/private_data/DeepPit/PitMRdata/ABVIB/ABVIB/7036/T1_SPGR/2011-08-10_12_32_48.0/S354724\n",
      "2 /gpfs/data/oermannlab/private_data/DeepPit/PitMRdata/ABVIB/ABVIB/263/MPRAGE/2011-11-15_11_26_09.0/S343566\n",
      "3 /gpfs/data/oermannlab/private_data/DeepPit/PitMRdata/ABVIB/ABVIB/263/MPRAGE_S2_DIS3D/2011-11-15_11_26_09.0/S343575\n",
      "4 /gpfs/data/oermannlab/private_data/DeepPit/PitMRdata/ABVIB/ABVIB/60008/MPRAGE/2012-03-21_09_59_38.0/S342266\n"
     ]
    }
   ],
   "source": [
    "# from FAIMED3D 02_preprocessing\n",
    "# and https://simpleitk.readthedocs.io/en/master/link_N4BiasFieldCorrection_docs.html\n",
    "\n",
    "count = 0\n",
    "for mr_path in uncorrected_chunk: \n",
    "    \n",
    "    #start = time.time()\n",
    "    \n",
    "    # print\n",
    "    print(count, mr_path, flush=True)\n",
    "    count += 1\n",
    "    \n",
    "    # Read in image\n",
    "    try:\n",
    "        inputImage = read_nii(mr_path)\n",
    "    except:\n",
    "        inputImage = read_dcm(mr_path) \n",
    "\n",
    "    # write image as nii\n",
    "    corrected_fn = f\"{mr_path}/nii.nii\"\n",
    "    sitk.WriteImage(inputImage, corrected_fn)\n",
    "    \n",
    "    #elapsed = time.time() - start\n",
    "    #print(f\"Elapsed: {elapsed:0.2f} s\")"
   ]
  },
  {
   "cell_type": "code",
   "execution_count": null,
   "id": "9a2e7981",
   "metadata": {},
   "outputs": [],
   "source": [
    "print(\"Done.\")"
   ]
  },
  {
   "cell_type": "code",
   "execution_count": null,
   "id": "6de52f60",
   "metadata": {},
   "outputs": [],
   "source": []
  }
 ],
 "metadata": {
  "kernelspec": {
   "display_name": "Python 3",
   "language": "python",
   "name": "python3"
  },
  "language_info": {
   "codemirror_mode": {
    "name": "ipython",
    "version": 3
   },
   "file_extension": ".py",
   "mimetype": "text/x-python",
   "name": "python",
   "nbconvert_exporter": "python",
   "pygments_lexer": "ipython3",
   "version": "3.6.9"
  }
 },
 "nbformat": 4,
 "nbformat_minor": 5
}
